{
 "cells": [
  {
   "cell_type": "code",
   "execution_count": 1,
   "id": "504bd188",
   "metadata": {},
   "outputs": [],
   "source": [
    "import os\n",
    "import numpy as np\n",
    "import pandas as pd\n",
    "\n",
    "import plotly.graph_objects as go\n",
    "from utils import AutoBins"
   ]
  },
  {
   "cell_type": "code",
   "execution_count": 2,
   "id": "af5c1ac9",
   "metadata": {},
   "outputs": [
    {
     "data": {
      "text/html": [
       "        <script type=\"text/javascript\">\n",
       "        window.PlotlyConfig = {MathJaxConfig: 'local'};\n",
       "        if (window.MathJax) {MathJax.Hub.Config({SVG: {font: \"STIX-Web\"}});}\n",
       "        if (typeof require !== 'undefined') {\n",
       "        require.undef(\"plotly\");\n",
       "        requirejs.config({\n",
       "            paths: {\n",
       "                'plotly': ['https://cdn.plot.ly/plotly-2.6.3.min']\n",
       "            }\n",
       "        });\n",
       "        require(['plotly'], function(Plotly) {\n",
       "            window._Plotly = Plotly;\n",
       "        });\n",
       "        }\n",
       "        </script>\n",
       "        "
      ]
     },
     "metadata": {},
     "output_type": "display_data"
    }
   ],
   "source": [
    "from plotly.offline import init_notebook_mode, iplot\n",
    "init_notebook_mode(connected=True)"
   ]
  },
  {
   "cell_type": "code",
   "execution_count": 3,
   "id": "7f302c74",
   "metadata": {},
   "outputs": [],
   "source": [
    "data = pd.read_csv('./data/bank.csv')"
   ]
  },
  {
   "cell_type": "markdown",
   "id": "42f0bd07",
   "metadata": {},
   "source": [
    "### Outlier: numeric feature\n",
    "\n",
    "### This plot shows\n",
    "- The distribution of numeric feature.\n",
    "- When the value exceed the given criterion, add a mask to the exceeded range and change the bin color.\n",
    "\n",
    "#### Main trace\n",
    "We need to plot two traces, one is for outlier data, and the other one is for the remained data.\n",
    "- Histogram\n",
    "```python\n",
    "trace = go.Histogram(\n",
    "    x=bin_edges,\n",
    "    y=counts,\n",
    "    histfun='sum',\n",
    "    xbins=go.Histogram.XBins(start=min(bin_edges), end=max(bin_edges), size=bin_width),\n",
    ")\n",
    "```\n",
    "\n",
    "#### Layout: shape\n",
    "Add a mask at the range where data exceed criterion.\n",
    "```python\n",
    "mask = dict(\n",
    "    fillcolor= \"rgba(246,178,107,0.5)\",\n",
    "    line={\"width\": 0},\n",
    "    type=\"rect\",\n",
    "    layer='below',\n",
    "    x0=x0, x1=x1, xref=\"x\",\n",
    "    y0=0, y1=1, yref=\"paper\"\n",
    ")\n",
    "```\n",
    "- layer: `below` and `above`. We use `below` here to avoid hiding the trace."
   ]
  },
  {
   "cell_type": "code",
   "execution_count": 4,
   "id": "626a314e",
   "metadata": {},
   "outputs": [],
   "source": [
    "def sample_hist_data(data, col, max_row=5000):\n",
    "    if data.shape[0] <= max_row:\n",
    "        max_row = data.shape[0]\n",
    "        \n",
    "    w = len(data)/max_row\n",
    "    sampled_data = data.sample(max_row, replace=False, random_state=42)\n",
    "    _, sample_bin_width, sample_nbins = get_num_data(sampled_data, col)\n",
    "    sample_counts, bin_edges = np.histogram(sampled_data[col], bins=sample_nbins)\n",
    "    return sample_counts*w, bin_edges, sample_bin_width"
   ]
  },
  {
   "cell_type": "code",
   "execution_count": 5,
   "id": "6e633837",
   "metadata": {},
   "outputs": [],
   "source": [
    "def sliding_mask(x0=None, x1=None):\n",
    "    return dict(\n",
    "            fillcolor= \"rgba(246,178,107,0.5)\",\n",
    "            line={\"width\": 0},\n",
    "            type=\"rect\",\n",
    "            layer='below',\n",
    "            x0=x0, x1=x1, xref=\"x\",\n",
    "            y0=0, y1=1, yref=\"paper\")"
   ]
  },
  {
   "cell_type": "code",
   "execution_count": 6,
   "id": "58ae28ac",
   "metadata": {},
   "outputs": [],
   "source": [
    "def plot_numeric_outlier(data, col: str, lower_bound: int = None, upper_bound: int = None, width=722, height=448):\n",
    "    arr = data[~data[col].isna()][col]\n",
    "    \n",
    "    autobins = AutoBins()\n",
    "    nbins = np.nanmin([\n",
    "        autobins.get_len_step(arr),\n",
    "        autobins.get_mean_diff_step(arr),\n",
    "        autobins.get_power_step(arr)\n",
    "    ])\n",
    "    \n",
    "    min_x = min(arr)\n",
    "    max_x = max(arr)\n",
    "    bin_width = (max_x - min_x)/int(nbins)\n",
    "    \n",
    "    if lower_bound is None or lower_bound < min_x:\n",
    "        lower_bound = None\n",
    "    if upper_bound is None or upper_bound > max_x:\n",
    "        upper_bound = None\n",
    "    \n",
    "    \n",
    "    shapes = []\n",
    "    main_arr = arr\n",
    "    bound_arr = []\n",
    "    if lower_bound is not None:\n",
    "        shapes.append(sliding_mask(x0=min_x, x1=lower_bound))\n",
    "        main_arr = main_arr[main_arr > lower_bound]\n",
    "        bound_arr = list(arr[arr <= lower_bound])\n",
    "    if upper_bound is not None:\n",
    "        shapes.append(sliding_mask(x0=upper_bound, x1=max_x+bin_width))\n",
    "        main_arr = main_arr[main_arr < upper_bound]\n",
    "        bound_arr.extend(list(arr[arr >= upper_bound]))\n",
    "        \n",
    "    counts, bin_edges = np.histogram(main_arr, bins=nbins)\n",
    "\n",
    "    fig = go.Figure()\n",
    "    if len(bound_arr) > 0:\n",
    "        bound_counts, bound_bin_edges = np.histogram(bound_arr, bins=nbins)\n",
    "        _start = min(min(bin_edges), min(bound_bin_edges))\n",
    "        _end = max(max(bin_edges), max(bound_bin_edges))\n",
    "        fig.add_trace(\n",
    "            go.Histogram(x=bound_bin_edges, \n",
    "                         y=bound_counts, \n",
    "                         histfunc='sum', \n",
    "                         marker=dict(color=\"rgba(236,78,78,0.8)\"),\n",
    "                         xbins=go.histogram.XBins(start=_start, end=_end, size=bin_width),\n",
    "                         hovertemplate=col + \" (%{x}): %{y} <extra></extra>\",\n",
    "                         name=\"outlier\"\n",
    "                        )\n",
    "        )\n",
    "\n",
    "\n",
    "    fig.add_trace(\n",
    "        go.Histogram(x=bin_edges, \n",
    "                     y=counts, \n",
    "                     histfunc='sum', \n",
    "                     marker=dict(color=\"rgba(53,77,204,1)\"),\n",
    "                     xbins=go.histogram.XBins(start=min(bin_edges), end=max(bin_edges), size=bin_width),\n",
    "                     hovertemplate=col + \" (%{x}): %{y} <extra></extra>\",\n",
    "                     name=\"data\"\n",
    "                    )\n",
    "    )\n",
    "\n",
    "    fig.update_layout(\n",
    "        title=dict(\n",
    "                text=f'Numeric outlier: {col}',\n",
    "                font=dict(size=22),\n",
    "                y=0.99,\n",
    "                x=0.0,\n",
    "                xanchor='left',\n",
    "                yanchor='top',\n",
    "            ),\n",
    "        width=width,\n",
    "        height=height,\n",
    "        barmode='stack',\n",
    "        shapes=shapes,\n",
    "        paper_bgcolor='rgba(0,0,0,0)',\n",
    "        plot_bgcolor='rgba(238,238,238,1)',\n",
    "        modebar=dict(\n",
    "            bgcolor='rgba(0,0,0,0)', activecolor='rgba(68,68,68,0.7)', color='rgba(68,68,68,0.3)',\n",
    "            remove=['zoom', 'lasso', 'select'],\n",
    "        ),\n",
    "    )\n",
    "    \n",
    "    fig.update_xaxes(title=col)\n",
    "    fig.update_yaxes(title='Count', \n",
    "                     type='log',\n",
    "                     showticklabels=True,\n",
    "                     dtick=1,\n",
    "                     tickformat=\"f\",\n",
    "                     tickmode='auto',\n",
    "                     ticklabeloverflow='allow',\n",
    "                     mirror='allticks',\n",
    "                    )\n",
    "\n",
    "    return fig"
   ]
  },
  {
   "cell_type": "code",
   "execution_count": 7,
   "id": "5a004b26",
   "metadata": {},
   "outputs": [
    {
     "data": {
      "application/vnd.plotly.v1+json": {
       "config": {
        "displaylogo": false,
        "plotlyServerURL": "https://plot.ly"
       },
       "data": [
        {
         "histfunc": "sum",
         "hovertemplate": "balance (%{x}): %{y} <extra></extra>",
         "marker": {
          "color": "rgba(236,78,78,0.8)"
         },
         "name": "outlier",
         "type": "histogram",
         "x": [
          81204,
          81354.52517985612,
          81505.05035971223,
          81655.57553956835,
          81806.10071942446,
          81956.62589928058,
          82107.15107913669,
          82257.67625899281,
          82408.20143884892,
          82558.72661870504,
          82709.25179856115,
          82859.77697841727,
          83010.30215827338,
          83160.8273381295,
          83311.35251798561,
          83461.87769784173,
          83612.40287769784,
          83762.92805755396,
          83913.45323741007,
          84063.97841726619,
          84214.5035971223,
          84365.02877697842,
          84515.55395683453,
          84666.07913669065,
          84816.60431654676,
          84967.12949640288,
          85117.65467625899,
          85268.17985611511,
          85418.70503597122,
          85569.23021582734,
          85719.75539568346,
          85870.28057553957,
          86020.80575539569,
          86171.3309352518,
          86321.85611510792,
          86472.38129496403,
          86622.90647482015,
          86773.43165467626,
          86923.95683453238,
          87074.48201438849,
          87225.00719424461,
          87375.53237410072,
          87526.05755395684,
          87676.58273381295,
          87827.10791366907,
          87977.63309352518,
          88128.1582733813,
          88278.6834532374,
          88429.20863309353,
          88579.73381294963,
          88730.25899280576,
          88880.78417266186,
          89031.30935251799,
          89181.8345323741,
          89332.35971223022,
          89482.88489208632,
          89633.41007194245,
          89783.93525179857,
          89934.46043165468,
          90084.98561151078,
          90235.5107913669,
          90386.03597122303,
          90536.56115107914,
          90687.08633093526,
          90837.61151079136,
          90988.13669064749,
          91138.6618705036,
          91289.18705035972,
          91439.71223021582,
          91590.23741007195,
          91740.76258992805,
          91891.28776978418,
          92041.81294964028,
          92192.3381294964,
          92342.86330935251,
          92493.38848920864,
          92643.91366906474,
          92794.43884892086,
          92944.96402877697,
          93095.4892086331,
          93246.0143884892,
          93396.53956834532,
          93547.06474820143,
          93697.58992805755,
          93848.11510791368,
          93998.64028776978,
          94149.16546762589,
          94299.69064748201,
          94450.21582733814,
          94600.74100719424,
          94751.26618705037,
          94901.79136690647,
          95052.3165467626,
          95202.8417266187,
          95353.36690647482,
          95503.89208633093,
          95654.41726618705,
          95804.94244604316,
          95955.46762589928,
          96105.99280575539,
          96256.51798561151,
          96407.04316546762,
          96557.56834532374,
          96708.09352517985,
          96858.61870503597,
          97009.14388489208,
          97159.6690647482,
          97310.19424460431,
          97460.71942446043,
          97611.24460431654,
          97761.76978417266,
          97912.29496402878,
          98062.82014388489,
          98213.345323741,
          98363.87050359712,
          98514.39568345324,
          98664.92086330935,
          98815.44604316546,
          98965.97122302158,
          99116.4964028777,
          99267.02158273381,
          99417.54676258993,
          99568.07194244604,
          99718.59712230216,
          99869.12230215827,
          100019.64748201439,
          100170.1726618705,
          100320.69784172662,
          100471.22302158273,
          100621.74820143885,
          100772.27338129496,
          100922.79856115108,
          101073.32374100719,
          101223.84892086331,
          101374.37410071942,
          101524.89928057554,
          101675.42446043165,
          101825.94964028777,
          101976.47482014389,
          102127
         ],
         "xbins": {
          "end": 102127,
          "size": 792.4172661870504,
          "start": -8019
         },
         "y": [
          2,
          0,
          0,
          0,
          0,
          0,
          0,
          0,
          0,
          0,
          0,
          0,
          0,
          0,
          0,
          0,
          0,
          0,
          0,
          0,
          0,
          0,
          0,
          0,
          0,
          0,
          0,
          0,
          0,
          0,
          0,
          0,
          0,
          0,
          0,
          0,
          0,
          0,
          0,
          0,
          0,
          0,
          0,
          0,
          0,
          0,
          0,
          0,
          0,
          0,
          0,
          0,
          0,
          0,
          0,
          0,
          0,
          0,
          0,
          0,
          0,
          0,
          0,
          0,
          0,
          0,
          0,
          0,
          0,
          0,
          0,
          0,
          0,
          0,
          0,
          0,
          0,
          0,
          0,
          0,
          0,
          0,
          0,
          0,
          0,
          0,
          0,
          0,
          0,
          0,
          0,
          0,
          0,
          0,
          0,
          0,
          0,
          0,
          0,
          0,
          0,
          0,
          0,
          0,
          0,
          0,
          0,
          0,
          0,
          0,
          0,
          0,
          0,
          0,
          1,
          0,
          0,
          0,
          0,
          0,
          0,
          0,
          0,
          0,
          0,
          0,
          0,
          0,
          0,
          0,
          0,
          0,
          0,
          0,
          0,
          0,
          0,
          0,
          1
         ]
        },
        {
         "histfunc": "sum",
         "hovertemplate": "balance (%{x}): %{y} <extra></extra>",
         "marker": {
          "color": "rgba(53,77,204,1)"
         },
         "name": "data",
         "type": "histogram",
         "x": [
          -8019,
          -7449.1654676258995,
          -6879.330935251799,
          -6309.496402877698,
          -5739.661870503597,
          -5169.827338129497,
          -4599.992805755395,
          -4030.1582733812947,
          -3460.3237410071943,
          -2890.4892086330938,
          -2320.6546762589933,
          -1750.8201438848919,
          -1180.9856115107914,
          -611.1510791366909,
          -41.316546762589496,
          528.5179856115101,
          1098.3525179856115,
          1668.1870503597129,
          2238.0215827338125,
          2807.856115107914,
          3377.6906474820134,
          3947.525179856115,
          4517.359712230216,
          5087.194244604316,
          5657.028776978417,
          6226.863309352519,
          6796.697841726618,
          7366.53237410072,
          7936.366906474821,
          8506.201438848922,
          9076.03597122302,
          9645.870503597122,
          10215.705035971223,
          10785.539568345324,
          11355.374100719426,
          11925.208633093524,
          12495.043165467625,
          13064.877697841726,
          13634.712230215828,
          14204.54676258993,
          14774.381294964027,
          15344.215827338128,
          15914.05035971223,
          16483.88489208633,
          17053.719424460432,
          17623.553956834534,
          18193.38848920863,
          18763.223021582733,
          19333.057553956834,
          19902.892086330936,
          20472.726618705037,
          21042.561151079135,
          21612.395683453236,
          22182.230215827338,
          22752.06474820144,
          23321.89928057554,
          23891.733812949642,
          24461.56834532374,
          25031.402877697845,
          25601.23741007194,
          26171.07194244604,
          26740.90647482014,
          27310.741007194243,
          27880.575539568345,
          28450.410071942446,
          29020.244604316547,
          29590.07913669065,
          30159.91366906475,
          30729.74820143885,
          31299.582733812953,
          31869.417266187047,
          32439.25179856115,
          33009.08633093525,
          33578.92086330935,
          34148.75539568345,
          34718.589928057554,
          35288.424460431655,
          35858.25899280576,
          36428.09352517986,
          36997.92805755396,
          37567.762589928054,
          38137.597122302155,
          38707.43165467626,
          39277.26618705036,
          39847.10071942446,
          40416.93525179856,
          40986.76978417266,
          41556.60431654676,
          42126.438848920865,
          42696.27338129497,
          43266.10791366907,
          43835.94244604316,
          44405.77697841726,
          44975.611510791365,
          45545.446043165466,
          46115.28057553957,
          46685.11510791367,
          47254.94964028777,
          47824.78417266187,
          48394.61870503597,
          48964.453237410075,
          49534.287769784176,
          50104.12230215827,
          50673.95683453237,
          51243.79136690647,
          51813.625899280574,
          52383.460431654676,
          52953.29496402878,
          53523.12949640288,
          54092.96402877698,
          54662.79856115108,
          55232.63309352518,
          55802.467625899284,
          56372.30215827338,
          56942.13669064748,
          57511.97122302158,
          58081.80575539569,
          58651.640287769784,
          59221.47482014388,
          59791.30935251799,
          60361.14388489208,
          60930.97841726619,
          61500.81294964028,
          62070.64748201439,
          62640.482014388486,
          63210.316546762595,
          63780.15107913669,
          64349.9856115108,
          64919.82014388489,
          65489.654676258986,
          66059.4892086331,
          66629.32374100719,
          67199.1582733813,
          67768.99280575539,
          68338.8273381295,
          68908.6618705036,
          69478.4964028777,
          70048.3309352518,
          70618.1654676259,
          71188
         ],
         "xbins": {
          "end": 71188,
          "size": 792.4172661870504,
          "start": -8019
         },
         "y": [
          1,
          0,
          1,
          0,
          0,
          0,
          1,
          0,
          3,
          3,
          17,
          67,
          386,
          2762,
          21003,
          7174,
          3822,
          2280,
          1643,
          1187,
          894,
          630,
          578,
          418,
          351,
          273,
          218,
          193,
          194,
          133,
          100,
          94,
          79,
          69,
          60,
          55,
          57,
          45,
          38,
          25,
          23,
          25,
          19,
          26,
          19,
          21,
          6,
          10,
          14,
          9,
          19,
          11,
          11,
          9,
          13,
          11,
          8,
          6,
          2,
          4,
          12,
          4,
          9,
          2,
          0,
          10,
          2,
          0,
          0,
          4,
          0,
          4,
          0,
          0,
          3,
          0,
          2,
          2,
          2,
          4,
          0,
          1,
          1,
          1,
          0,
          0,
          1,
          3,
          0,
          1,
          0,
          2,
          0,
          2,
          1,
          0,
          0,
          0,
          0,
          0,
          0,
          0,
          0,
          0,
          1,
          0,
          4,
          0,
          0,
          0,
          0,
          0,
          0,
          1,
          1,
          0,
          1,
          1,
          1,
          0,
          0,
          0,
          0,
          0,
          0,
          0,
          1,
          0,
          0,
          0,
          0,
          2,
          0,
          0,
          0,
          0,
          0,
          0,
          1
         ]
        }
       ],
       "layout": {
        "barmode": "stack",
        "height": 448,
        "modebar": {
         "activecolor": "rgba(68,68,68,0.7)",
         "bgcolor": "rgba(0,0,0,0)",
         "color": "rgba(68,68,68,0.3)",
         "remove": [
          "zoom",
          "lasso",
          "select"
         ]
        },
        "paper_bgcolor": "rgba(0,0,0,0)",
        "plot_bgcolor": "rgba(238,238,238,1)",
        "shapes": [
         {
          "fillcolor": "rgba(246,178,107,0.5)",
          "layer": "below",
          "line": {
           "width": 0
          },
          "type": "rect",
          "x0": 80000,
          "x1": 102919.41726618705,
          "xref": "x",
          "y0": 0,
          "y1": 1,
          "yref": "paper"
         }
        ],
        "template": {
         "data": {
          "bar": [
           {
            "error_x": {
             "color": "#2a3f5f"
            },
            "error_y": {
             "color": "#2a3f5f"
            },
            "marker": {
             "line": {
              "color": "#E5ECF6",
              "width": 0.5
             },
             "pattern": {
              "fillmode": "overlay",
              "size": 10,
              "solidity": 0.2
             }
            },
            "type": "bar"
           }
          ],
          "barpolar": [
           {
            "marker": {
             "line": {
              "color": "#E5ECF6",
              "width": 0.5
             },
             "pattern": {
              "fillmode": "overlay",
              "size": 10,
              "solidity": 0.2
             }
            },
            "type": "barpolar"
           }
          ],
          "carpet": [
           {
            "aaxis": {
             "endlinecolor": "#2a3f5f",
             "gridcolor": "white",
             "linecolor": "white",
             "minorgridcolor": "white",
             "startlinecolor": "#2a3f5f"
            },
            "baxis": {
             "endlinecolor": "#2a3f5f",
             "gridcolor": "white",
             "linecolor": "white",
             "minorgridcolor": "white",
             "startlinecolor": "#2a3f5f"
            },
            "type": "carpet"
           }
          ],
          "choropleth": [
           {
            "colorbar": {
             "outlinewidth": 0,
             "ticks": ""
            },
            "type": "choropleth"
           }
          ],
          "contour": [
           {
            "colorbar": {
             "outlinewidth": 0,
             "ticks": ""
            },
            "colorscale": [
             [
              0,
              "#0d0887"
             ],
             [
              0.1111111111111111,
              "#46039f"
             ],
             [
              0.2222222222222222,
              "#7201a8"
             ],
             [
              0.3333333333333333,
              "#9c179e"
             ],
             [
              0.4444444444444444,
              "#bd3786"
             ],
             [
              0.5555555555555556,
              "#d8576b"
             ],
             [
              0.6666666666666666,
              "#ed7953"
             ],
             [
              0.7777777777777778,
              "#fb9f3a"
             ],
             [
              0.8888888888888888,
              "#fdca26"
             ],
             [
              1,
              "#f0f921"
             ]
            ],
            "type": "contour"
           }
          ],
          "contourcarpet": [
           {
            "colorbar": {
             "outlinewidth": 0,
             "ticks": ""
            },
            "type": "contourcarpet"
           }
          ],
          "heatmap": [
           {
            "colorbar": {
             "outlinewidth": 0,
             "ticks": ""
            },
            "colorscale": [
             [
              0,
              "#0d0887"
             ],
             [
              0.1111111111111111,
              "#46039f"
             ],
             [
              0.2222222222222222,
              "#7201a8"
             ],
             [
              0.3333333333333333,
              "#9c179e"
             ],
             [
              0.4444444444444444,
              "#bd3786"
             ],
             [
              0.5555555555555556,
              "#d8576b"
             ],
             [
              0.6666666666666666,
              "#ed7953"
             ],
             [
              0.7777777777777778,
              "#fb9f3a"
             ],
             [
              0.8888888888888888,
              "#fdca26"
             ],
             [
              1,
              "#f0f921"
             ]
            ],
            "type": "heatmap"
           }
          ],
          "heatmapgl": [
           {
            "colorbar": {
             "outlinewidth": 0,
             "ticks": ""
            },
            "colorscale": [
             [
              0,
              "#0d0887"
             ],
             [
              0.1111111111111111,
              "#46039f"
             ],
             [
              0.2222222222222222,
              "#7201a8"
             ],
             [
              0.3333333333333333,
              "#9c179e"
             ],
             [
              0.4444444444444444,
              "#bd3786"
             ],
             [
              0.5555555555555556,
              "#d8576b"
             ],
             [
              0.6666666666666666,
              "#ed7953"
             ],
             [
              0.7777777777777778,
              "#fb9f3a"
             ],
             [
              0.8888888888888888,
              "#fdca26"
             ],
             [
              1,
              "#f0f921"
             ]
            ],
            "type": "heatmapgl"
           }
          ],
          "histogram": [
           {
            "marker": {
             "pattern": {
              "fillmode": "overlay",
              "size": 10,
              "solidity": 0.2
             }
            },
            "type": "histogram"
           }
          ],
          "histogram2d": [
           {
            "colorbar": {
             "outlinewidth": 0,
             "ticks": ""
            },
            "colorscale": [
             [
              0,
              "#0d0887"
             ],
             [
              0.1111111111111111,
              "#46039f"
             ],
             [
              0.2222222222222222,
              "#7201a8"
             ],
             [
              0.3333333333333333,
              "#9c179e"
             ],
             [
              0.4444444444444444,
              "#bd3786"
             ],
             [
              0.5555555555555556,
              "#d8576b"
             ],
             [
              0.6666666666666666,
              "#ed7953"
             ],
             [
              0.7777777777777778,
              "#fb9f3a"
             ],
             [
              0.8888888888888888,
              "#fdca26"
             ],
             [
              1,
              "#f0f921"
             ]
            ],
            "type": "histogram2d"
           }
          ],
          "histogram2dcontour": [
           {
            "colorbar": {
             "outlinewidth": 0,
             "ticks": ""
            },
            "colorscale": [
             [
              0,
              "#0d0887"
             ],
             [
              0.1111111111111111,
              "#46039f"
             ],
             [
              0.2222222222222222,
              "#7201a8"
             ],
             [
              0.3333333333333333,
              "#9c179e"
             ],
             [
              0.4444444444444444,
              "#bd3786"
             ],
             [
              0.5555555555555556,
              "#d8576b"
             ],
             [
              0.6666666666666666,
              "#ed7953"
             ],
             [
              0.7777777777777778,
              "#fb9f3a"
             ],
             [
              0.8888888888888888,
              "#fdca26"
             ],
             [
              1,
              "#f0f921"
             ]
            ],
            "type": "histogram2dcontour"
           }
          ],
          "mesh3d": [
           {
            "colorbar": {
             "outlinewidth": 0,
             "ticks": ""
            },
            "type": "mesh3d"
           }
          ],
          "parcoords": [
           {
            "line": {
             "colorbar": {
              "outlinewidth": 0,
              "ticks": ""
             }
            },
            "type": "parcoords"
           }
          ],
          "pie": [
           {
            "automargin": true,
            "type": "pie"
           }
          ],
          "scatter": [
           {
            "marker": {
             "colorbar": {
              "outlinewidth": 0,
              "ticks": ""
             }
            },
            "type": "scatter"
           }
          ],
          "scatter3d": [
           {
            "line": {
             "colorbar": {
              "outlinewidth": 0,
              "ticks": ""
             }
            },
            "marker": {
             "colorbar": {
              "outlinewidth": 0,
              "ticks": ""
             }
            },
            "type": "scatter3d"
           }
          ],
          "scattercarpet": [
           {
            "marker": {
             "colorbar": {
              "outlinewidth": 0,
              "ticks": ""
             }
            },
            "type": "scattercarpet"
           }
          ],
          "scattergeo": [
           {
            "marker": {
             "colorbar": {
              "outlinewidth": 0,
              "ticks": ""
             }
            },
            "type": "scattergeo"
           }
          ],
          "scattergl": [
           {
            "marker": {
             "colorbar": {
              "outlinewidth": 0,
              "ticks": ""
             }
            },
            "type": "scattergl"
           }
          ],
          "scattermapbox": [
           {
            "marker": {
             "colorbar": {
              "outlinewidth": 0,
              "ticks": ""
             }
            },
            "type": "scattermapbox"
           }
          ],
          "scatterpolar": [
           {
            "marker": {
             "colorbar": {
              "outlinewidth": 0,
              "ticks": ""
             }
            },
            "type": "scatterpolar"
           }
          ],
          "scatterpolargl": [
           {
            "marker": {
             "colorbar": {
              "outlinewidth": 0,
              "ticks": ""
             }
            },
            "type": "scatterpolargl"
           }
          ],
          "scatterternary": [
           {
            "marker": {
             "colorbar": {
              "outlinewidth": 0,
              "ticks": ""
             }
            },
            "type": "scatterternary"
           }
          ],
          "surface": [
           {
            "colorbar": {
             "outlinewidth": 0,
             "ticks": ""
            },
            "colorscale": [
             [
              0,
              "#0d0887"
             ],
             [
              0.1111111111111111,
              "#46039f"
             ],
             [
              0.2222222222222222,
              "#7201a8"
             ],
             [
              0.3333333333333333,
              "#9c179e"
             ],
             [
              0.4444444444444444,
              "#bd3786"
             ],
             [
              0.5555555555555556,
              "#d8576b"
             ],
             [
              0.6666666666666666,
              "#ed7953"
             ],
             [
              0.7777777777777778,
              "#fb9f3a"
             ],
             [
              0.8888888888888888,
              "#fdca26"
             ],
             [
              1,
              "#f0f921"
             ]
            ],
            "type": "surface"
           }
          ],
          "table": [
           {
            "cells": {
             "fill": {
              "color": "#EBF0F8"
             },
             "line": {
              "color": "white"
             }
            },
            "header": {
             "fill": {
              "color": "#C8D4E3"
             },
             "line": {
              "color": "white"
             }
            },
            "type": "table"
           }
          ]
         },
         "layout": {
          "annotationdefaults": {
           "arrowcolor": "#2a3f5f",
           "arrowhead": 0,
           "arrowwidth": 1
          },
          "autotypenumbers": "strict",
          "coloraxis": {
           "colorbar": {
            "outlinewidth": 0,
            "ticks": ""
           }
          },
          "colorscale": {
           "diverging": [
            [
             0,
             "#8e0152"
            ],
            [
             0.1,
             "#c51b7d"
            ],
            [
             0.2,
             "#de77ae"
            ],
            [
             0.3,
             "#f1b6da"
            ],
            [
             0.4,
             "#fde0ef"
            ],
            [
             0.5,
             "#f7f7f7"
            ],
            [
             0.6,
             "#e6f5d0"
            ],
            [
             0.7,
             "#b8e186"
            ],
            [
             0.8,
             "#7fbc41"
            ],
            [
             0.9,
             "#4d9221"
            ],
            [
             1,
             "#276419"
            ]
           ],
           "sequential": [
            [
             0,
             "#0d0887"
            ],
            [
             0.1111111111111111,
             "#46039f"
            ],
            [
             0.2222222222222222,
             "#7201a8"
            ],
            [
             0.3333333333333333,
             "#9c179e"
            ],
            [
             0.4444444444444444,
             "#bd3786"
            ],
            [
             0.5555555555555556,
             "#d8576b"
            ],
            [
             0.6666666666666666,
             "#ed7953"
            ],
            [
             0.7777777777777778,
             "#fb9f3a"
            ],
            [
             0.8888888888888888,
             "#fdca26"
            ],
            [
             1,
             "#f0f921"
            ]
           ],
           "sequentialminus": [
            [
             0,
             "#0d0887"
            ],
            [
             0.1111111111111111,
             "#46039f"
            ],
            [
             0.2222222222222222,
             "#7201a8"
            ],
            [
             0.3333333333333333,
             "#9c179e"
            ],
            [
             0.4444444444444444,
             "#bd3786"
            ],
            [
             0.5555555555555556,
             "#d8576b"
            ],
            [
             0.6666666666666666,
             "#ed7953"
            ],
            [
             0.7777777777777778,
             "#fb9f3a"
            ],
            [
             0.8888888888888888,
             "#fdca26"
            ],
            [
             1,
             "#f0f921"
            ]
           ]
          },
          "colorway": [
           "#636efa",
           "#EF553B",
           "#00cc96",
           "#ab63fa",
           "#FFA15A",
           "#19d3f3",
           "#FF6692",
           "#B6E880",
           "#FF97FF",
           "#FECB52"
          ],
          "font": {
           "color": "#2a3f5f"
          },
          "geo": {
           "bgcolor": "white",
           "lakecolor": "white",
           "landcolor": "#E5ECF6",
           "showlakes": true,
           "showland": true,
           "subunitcolor": "white"
          },
          "hoverlabel": {
           "align": "left"
          },
          "hovermode": "closest",
          "mapbox": {
           "style": "light"
          },
          "paper_bgcolor": "white",
          "plot_bgcolor": "#E5ECF6",
          "polar": {
           "angularaxis": {
            "gridcolor": "white",
            "linecolor": "white",
            "ticks": ""
           },
           "bgcolor": "#E5ECF6",
           "radialaxis": {
            "gridcolor": "white",
            "linecolor": "white",
            "ticks": ""
           }
          },
          "scene": {
           "xaxis": {
            "backgroundcolor": "#E5ECF6",
            "gridcolor": "white",
            "gridwidth": 2,
            "linecolor": "white",
            "showbackground": true,
            "ticks": "",
            "zerolinecolor": "white"
           },
           "yaxis": {
            "backgroundcolor": "#E5ECF6",
            "gridcolor": "white",
            "gridwidth": 2,
            "linecolor": "white",
            "showbackground": true,
            "ticks": "",
            "zerolinecolor": "white"
           },
           "zaxis": {
            "backgroundcolor": "#E5ECF6",
            "gridcolor": "white",
            "gridwidth": 2,
            "linecolor": "white",
            "showbackground": true,
            "ticks": "",
            "zerolinecolor": "white"
           }
          },
          "shapedefaults": {
           "line": {
            "color": "#2a3f5f"
           }
          },
          "ternary": {
           "aaxis": {
            "gridcolor": "white",
            "linecolor": "white",
            "ticks": ""
           },
           "baxis": {
            "gridcolor": "white",
            "linecolor": "white",
            "ticks": ""
           },
           "bgcolor": "#E5ECF6",
           "caxis": {
            "gridcolor": "white",
            "linecolor": "white",
            "ticks": ""
           }
          },
          "title": {
           "x": 0.05
          },
          "xaxis": {
           "automargin": true,
           "gridcolor": "white",
           "linecolor": "white",
           "ticks": "",
           "title": {
            "standoff": 15
           },
           "zerolinecolor": "white",
           "zerolinewidth": 2
          },
          "yaxis": {
           "automargin": true,
           "gridcolor": "white",
           "linecolor": "white",
           "ticks": "",
           "title": {
            "standoff": 15
           },
           "zerolinecolor": "white",
           "zerolinewidth": 2
          }
         }
        },
        "title": {
         "font": {
          "size": 22
         },
         "text": "Numeric outlier: balance",
         "x": 0,
         "xanchor": "left",
         "y": 0.99,
         "yanchor": "top"
        },
        "width": 722,
        "xaxis": {
         "title": {
          "text": "balance"
         }
        },
        "yaxis": {
         "dtick": 1,
         "mirror": "allticks",
         "showticklabels": true,
         "tickformat": "f",
         "ticklabeloverflow": "allow",
         "tickmode": "auto",
         "title": {
          "text": "Count"
         },
         "type": "log"
        }
       }
      },
      "text/html": [
       "<div>                            <div id=\"7c449421-293b-41fb-bf6d-f3ba7223e830\" class=\"plotly-graph-div\" style=\"height:448px; width:722px;\"></div>            <script type=\"text/javascript\">                require([\"plotly\"], function(Plotly) {                    window.PLOTLYENV=window.PLOTLYENV || {};                                    if (document.getElementById(\"7c449421-293b-41fb-bf6d-f3ba7223e830\")) {                    Plotly.newPlot(                        \"7c449421-293b-41fb-bf6d-f3ba7223e830\",                        [{\"histfunc\":\"sum\",\"hovertemplate\":\"balance (%{x}): %{y} <extra></extra>\",\"marker\":{\"color\":\"rgba(236,78,78,0.8)\"},\"name\":\"outlier\",\"x\":[81204.0,81354.52517985612,81505.05035971223,81655.57553956835,81806.10071942446,81956.62589928058,82107.15107913669,82257.67625899281,82408.20143884892,82558.72661870504,82709.25179856115,82859.77697841727,83010.30215827338,83160.8273381295,83311.35251798561,83461.87769784173,83612.40287769784,83762.92805755396,83913.45323741007,84063.97841726619,84214.5035971223,84365.02877697842,84515.55395683453,84666.07913669065,84816.60431654676,84967.12949640288,85117.65467625899,85268.17985611511,85418.70503597122,85569.23021582734,85719.75539568346,85870.28057553957,86020.80575539569,86171.3309352518,86321.85611510792,86472.38129496403,86622.90647482015,86773.43165467626,86923.95683453238,87074.48201438849,87225.00719424461,87375.53237410072,87526.05755395684,87676.58273381295,87827.10791366907,87977.63309352518,88128.1582733813,88278.6834532374,88429.20863309353,88579.73381294963,88730.25899280576,88880.78417266186,89031.30935251799,89181.8345323741,89332.35971223022,89482.88489208632,89633.41007194245,89783.93525179857,89934.46043165468,90084.98561151078,90235.5107913669,90386.03597122303,90536.56115107914,90687.08633093526,90837.61151079136,90988.13669064749,91138.6618705036,91289.18705035972,91439.71223021582,91590.23741007195,91740.76258992805,91891.28776978418,92041.81294964028,92192.3381294964,92342.86330935251,92493.38848920864,92643.91366906474,92794.43884892086,92944.96402877697,93095.4892086331,93246.0143884892,93396.53956834532,93547.06474820143,93697.58992805755,93848.11510791368,93998.64028776978,94149.16546762589,94299.69064748201,94450.21582733814,94600.74100719424,94751.26618705037,94901.79136690647,95052.3165467626,95202.8417266187,95353.36690647482,95503.89208633093,95654.41726618705,95804.94244604316,95955.46762589928,96105.99280575539,96256.51798561151,96407.04316546762,96557.56834532374,96708.09352517985,96858.61870503597,97009.14388489208,97159.6690647482,97310.19424460431,97460.71942446043,97611.24460431654,97761.76978417266,97912.29496402878,98062.82014388489,98213.345323741,98363.87050359712,98514.39568345324,98664.92086330935,98815.44604316546,98965.97122302158,99116.4964028777,99267.02158273381,99417.54676258993,99568.07194244604,99718.59712230216,99869.12230215827,100019.64748201439,100170.1726618705,100320.69784172662,100471.22302158273,100621.74820143885,100772.27338129496,100922.79856115108,101073.32374100719,101223.84892086331,101374.37410071942,101524.89928057554,101675.42446043165,101825.94964028777,101976.47482014389,102127.0],\"xbins\":{\"end\":102127.0,\"size\":792.4172661870504,\"start\":-8019.0},\"y\":[2,0,0,0,0,0,0,0,0,0,0,0,0,0,0,0,0,0,0,0,0,0,0,0,0,0,0,0,0,0,0,0,0,0,0,0,0,0,0,0,0,0,0,0,0,0,0,0,0,0,0,0,0,0,0,0,0,0,0,0,0,0,0,0,0,0,0,0,0,0,0,0,0,0,0,0,0,0,0,0,0,0,0,0,0,0,0,0,0,0,0,0,0,0,0,0,0,0,0,0,0,0,0,0,0,0,0,0,0,0,0,0,0,0,1,0,0,0,0,0,0,0,0,0,0,0,0,0,0,0,0,0,0,0,0,0,0,0,1],\"type\":\"histogram\"},{\"histfunc\":\"sum\",\"hovertemplate\":\"balance (%{x}): %{y} <extra></extra>\",\"marker\":{\"color\":\"rgba(53,77,204,1)\"},\"name\":\"data\",\"x\":[-8019.0,-7449.1654676258995,-6879.330935251799,-6309.496402877698,-5739.661870503597,-5169.827338129497,-4599.992805755395,-4030.1582733812947,-3460.3237410071943,-2890.4892086330938,-2320.6546762589933,-1750.8201438848919,-1180.9856115107914,-611.1510791366909,-41.316546762589496,528.5179856115101,1098.3525179856115,1668.1870503597129,2238.0215827338125,2807.856115107914,3377.6906474820134,3947.525179856115,4517.359712230216,5087.194244604316,5657.028776978417,6226.863309352519,6796.697841726618,7366.53237410072,7936.366906474821,8506.201438848922,9076.03597122302,9645.870503597122,10215.705035971223,10785.539568345324,11355.374100719426,11925.208633093524,12495.043165467625,13064.877697841726,13634.712230215828,14204.54676258993,14774.381294964027,15344.215827338128,15914.05035971223,16483.88489208633,17053.719424460432,17623.553956834534,18193.38848920863,18763.223021582733,19333.057553956834,19902.892086330936,20472.726618705037,21042.561151079135,21612.395683453236,22182.230215827338,22752.06474820144,23321.89928057554,23891.733812949642,24461.56834532374,25031.402877697845,25601.23741007194,26171.07194244604,26740.90647482014,27310.741007194243,27880.575539568345,28450.410071942446,29020.244604316547,29590.07913669065,30159.91366906475,30729.74820143885,31299.582733812953,31869.417266187047,32439.25179856115,33009.08633093525,33578.92086330935,34148.75539568345,34718.589928057554,35288.424460431655,35858.25899280576,36428.09352517986,36997.92805755396,37567.762589928054,38137.597122302155,38707.43165467626,39277.26618705036,39847.10071942446,40416.93525179856,40986.76978417266,41556.60431654676,42126.438848920865,42696.27338129497,43266.10791366907,43835.94244604316,44405.77697841726,44975.611510791365,45545.446043165466,46115.28057553957,46685.11510791367,47254.94964028777,47824.78417266187,48394.61870503597,48964.453237410075,49534.287769784176,50104.12230215827,50673.95683453237,51243.79136690647,51813.625899280574,52383.460431654676,52953.29496402878,53523.12949640288,54092.96402877698,54662.79856115108,55232.63309352518,55802.467625899284,56372.30215827338,56942.13669064748,57511.97122302158,58081.80575539569,58651.640287769784,59221.47482014388,59791.30935251799,60361.14388489208,60930.97841726619,61500.81294964028,62070.64748201439,62640.482014388486,63210.316546762595,63780.15107913669,64349.9856115108,64919.82014388489,65489.654676258986,66059.4892086331,66629.32374100719,67199.1582733813,67768.99280575539,68338.8273381295,68908.6618705036,69478.4964028777,70048.3309352518,70618.1654676259,71188.0],\"xbins\":{\"end\":71188.0,\"size\":792.4172661870504,\"start\":-8019.0},\"y\":[1,0,1,0,0,0,1,0,3,3,17,67,386,2762,21003,7174,3822,2280,1643,1187,894,630,578,418,351,273,218,193,194,133,100,94,79,69,60,55,57,45,38,25,23,25,19,26,19,21,6,10,14,9,19,11,11,9,13,11,8,6,2,4,12,4,9,2,0,10,2,0,0,4,0,4,0,0,3,0,2,2,2,4,0,1,1,1,0,0,1,3,0,1,0,2,0,2,1,0,0,0,0,0,0,0,0,0,1,0,4,0,0,0,0,0,0,1,1,0,1,1,1,0,0,0,0,0,0,0,1,0,0,0,0,2,0,0,0,0,0,0,1],\"type\":\"histogram\"}],                        {\"template\":{\"data\":{\"bar\":[{\"error_x\":{\"color\":\"#2a3f5f\"},\"error_y\":{\"color\":\"#2a3f5f\"},\"marker\":{\"line\":{\"color\":\"#E5ECF6\",\"width\":0.5},\"pattern\":{\"fillmode\":\"overlay\",\"size\":10,\"solidity\":0.2}},\"type\":\"bar\"}],\"barpolar\":[{\"marker\":{\"line\":{\"color\":\"#E5ECF6\",\"width\":0.5},\"pattern\":{\"fillmode\":\"overlay\",\"size\":10,\"solidity\":0.2}},\"type\":\"barpolar\"}],\"carpet\":[{\"aaxis\":{\"endlinecolor\":\"#2a3f5f\",\"gridcolor\":\"white\",\"linecolor\":\"white\",\"minorgridcolor\":\"white\",\"startlinecolor\":\"#2a3f5f\"},\"baxis\":{\"endlinecolor\":\"#2a3f5f\",\"gridcolor\":\"white\",\"linecolor\":\"white\",\"minorgridcolor\":\"white\",\"startlinecolor\":\"#2a3f5f\"},\"type\":\"carpet\"}],\"choropleth\":[{\"colorbar\":{\"outlinewidth\":0,\"ticks\":\"\"},\"type\":\"choropleth\"}],\"contour\":[{\"colorbar\":{\"outlinewidth\":0,\"ticks\":\"\"},\"colorscale\":[[0.0,\"#0d0887\"],[0.1111111111111111,\"#46039f\"],[0.2222222222222222,\"#7201a8\"],[0.3333333333333333,\"#9c179e\"],[0.4444444444444444,\"#bd3786\"],[0.5555555555555556,\"#d8576b\"],[0.6666666666666666,\"#ed7953\"],[0.7777777777777778,\"#fb9f3a\"],[0.8888888888888888,\"#fdca26\"],[1.0,\"#f0f921\"]],\"type\":\"contour\"}],\"contourcarpet\":[{\"colorbar\":{\"outlinewidth\":0,\"ticks\":\"\"},\"type\":\"contourcarpet\"}],\"heatmap\":[{\"colorbar\":{\"outlinewidth\":0,\"ticks\":\"\"},\"colorscale\":[[0.0,\"#0d0887\"],[0.1111111111111111,\"#46039f\"],[0.2222222222222222,\"#7201a8\"],[0.3333333333333333,\"#9c179e\"],[0.4444444444444444,\"#bd3786\"],[0.5555555555555556,\"#d8576b\"],[0.6666666666666666,\"#ed7953\"],[0.7777777777777778,\"#fb9f3a\"],[0.8888888888888888,\"#fdca26\"],[1.0,\"#f0f921\"]],\"type\":\"heatmap\"}],\"heatmapgl\":[{\"colorbar\":{\"outlinewidth\":0,\"ticks\":\"\"},\"colorscale\":[[0.0,\"#0d0887\"],[0.1111111111111111,\"#46039f\"],[0.2222222222222222,\"#7201a8\"],[0.3333333333333333,\"#9c179e\"],[0.4444444444444444,\"#bd3786\"],[0.5555555555555556,\"#d8576b\"],[0.6666666666666666,\"#ed7953\"],[0.7777777777777778,\"#fb9f3a\"],[0.8888888888888888,\"#fdca26\"],[1.0,\"#f0f921\"]],\"type\":\"heatmapgl\"}],\"histogram\":[{\"marker\":{\"pattern\":{\"fillmode\":\"overlay\",\"size\":10,\"solidity\":0.2}},\"type\":\"histogram\"}],\"histogram2d\":[{\"colorbar\":{\"outlinewidth\":0,\"ticks\":\"\"},\"colorscale\":[[0.0,\"#0d0887\"],[0.1111111111111111,\"#46039f\"],[0.2222222222222222,\"#7201a8\"],[0.3333333333333333,\"#9c179e\"],[0.4444444444444444,\"#bd3786\"],[0.5555555555555556,\"#d8576b\"],[0.6666666666666666,\"#ed7953\"],[0.7777777777777778,\"#fb9f3a\"],[0.8888888888888888,\"#fdca26\"],[1.0,\"#f0f921\"]],\"type\":\"histogram2d\"}],\"histogram2dcontour\":[{\"colorbar\":{\"outlinewidth\":0,\"ticks\":\"\"},\"colorscale\":[[0.0,\"#0d0887\"],[0.1111111111111111,\"#46039f\"],[0.2222222222222222,\"#7201a8\"],[0.3333333333333333,\"#9c179e\"],[0.4444444444444444,\"#bd3786\"],[0.5555555555555556,\"#d8576b\"],[0.6666666666666666,\"#ed7953\"],[0.7777777777777778,\"#fb9f3a\"],[0.8888888888888888,\"#fdca26\"],[1.0,\"#f0f921\"]],\"type\":\"histogram2dcontour\"}],\"mesh3d\":[{\"colorbar\":{\"outlinewidth\":0,\"ticks\":\"\"},\"type\":\"mesh3d\"}],\"parcoords\":[{\"line\":{\"colorbar\":{\"outlinewidth\":0,\"ticks\":\"\"}},\"type\":\"parcoords\"}],\"pie\":[{\"automargin\":true,\"type\":\"pie\"}],\"scatter\":[{\"marker\":{\"colorbar\":{\"outlinewidth\":0,\"ticks\":\"\"}},\"type\":\"scatter\"}],\"scatter3d\":[{\"line\":{\"colorbar\":{\"outlinewidth\":0,\"ticks\":\"\"}},\"marker\":{\"colorbar\":{\"outlinewidth\":0,\"ticks\":\"\"}},\"type\":\"scatter3d\"}],\"scattercarpet\":[{\"marker\":{\"colorbar\":{\"outlinewidth\":0,\"ticks\":\"\"}},\"type\":\"scattercarpet\"}],\"scattergeo\":[{\"marker\":{\"colorbar\":{\"outlinewidth\":0,\"ticks\":\"\"}},\"type\":\"scattergeo\"}],\"scattergl\":[{\"marker\":{\"colorbar\":{\"outlinewidth\":0,\"ticks\":\"\"}},\"type\":\"scattergl\"}],\"scattermapbox\":[{\"marker\":{\"colorbar\":{\"outlinewidth\":0,\"ticks\":\"\"}},\"type\":\"scattermapbox\"}],\"scatterpolar\":[{\"marker\":{\"colorbar\":{\"outlinewidth\":0,\"ticks\":\"\"}},\"type\":\"scatterpolar\"}],\"scatterpolargl\":[{\"marker\":{\"colorbar\":{\"outlinewidth\":0,\"ticks\":\"\"}},\"type\":\"scatterpolargl\"}],\"scatterternary\":[{\"marker\":{\"colorbar\":{\"outlinewidth\":0,\"ticks\":\"\"}},\"type\":\"scatterternary\"}],\"surface\":[{\"colorbar\":{\"outlinewidth\":0,\"ticks\":\"\"},\"colorscale\":[[0.0,\"#0d0887\"],[0.1111111111111111,\"#46039f\"],[0.2222222222222222,\"#7201a8\"],[0.3333333333333333,\"#9c179e\"],[0.4444444444444444,\"#bd3786\"],[0.5555555555555556,\"#d8576b\"],[0.6666666666666666,\"#ed7953\"],[0.7777777777777778,\"#fb9f3a\"],[0.8888888888888888,\"#fdca26\"],[1.0,\"#f0f921\"]],\"type\":\"surface\"}],\"table\":[{\"cells\":{\"fill\":{\"color\":\"#EBF0F8\"},\"line\":{\"color\":\"white\"}},\"header\":{\"fill\":{\"color\":\"#C8D4E3\"},\"line\":{\"color\":\"white\"}},\"type\":\"table\"}]},\"layout\":{\"annotationdefaults\":{\"arrowcolor\":\"#2a3f5f\",\"arrowhead\":0,\"arrowwidth\":1},\"autotypenumbers\":\"strict\",\"coloraxis\":{\"colorbar\":{\"outlinewidth\":0,\"ticks\":\"\"}},\"colorscale\":{\"diverging\":[[0,\"#8e0152\"],[0.1,\"#c51b7d\"],[0.2,\"#de77ae\"],[0.3,\"#f1b6da\"],[0.4,\"#fde0ef\"],[0.5,\"#f7f7f7\"],[0.6,\"#e6f5d0\"],[0.7,\"#b8e186\"],[0.8,\"#7fbc41\"],[0.9,\"#4d9221\"],[1,\"#276419\"]],\"sequential\":[[0.0,\"#0d0887\"],[0.1111111111111111,\"#46039f\"],[0.2222222222222222,\"#7201a8\"],[0.3333333333333333,\"#9c179e\"],[0.4444444444444444,\"#bd3786\"],[0.5555555555555556,\"#d8576b\"],[0.6666666666666666,\"#ed7953\"],[0.7777777777777778,\"#fb9f3a\"],[0.8888888888888888,\"#fdca26\"],[1.0,\"#f0f921\"]],\"sequentialminus\":[[0.0,\"#0d0887\"],[0.1111111111111111,\"#46039f\"],[0.2222222222222222,\"#7201a8\"],[0.3333333333333333,\"#9c179e\"],[0.4444444444444444,\"#bd3786\"],[0.5555555555555556,\"#d8576b\"],[0.6666666666666666,\"#ed7953\"],[0.7777777777777778,\"#fb9f3a\"],[0.8888888888888888,\"#fdca26\"],[1.0,\"#f0f921\"]]},\"colorway\":[\"#636efa\",\"#EF553B\",\"#00cc96\",\"#ab63fa\",\"#FFA15A\",\"#19d3f3\",\"#FF6692\",\"#B6E880\",\"#FF97FF\",\"#FECB52\"],\"font\":{\"color\":\"#2a3f5f\"},\"geo\":{\"bgcolor\":\"white\",\"lakecolor\":\"white\",\"landcolor\":\"#E5ECF6\",\"showlakes\":true,\"showland\":true,\"subunitcolor\":\"white\"},\"hoverlabel\":{\"align\":\"left\"},\"hovermode\":\"closest\",\"mapbox\":{\"style\":\"light\"},\"paper_bgcolor\":\"white\",\"plot_bgcolor\":\"#E5ECF6\",\"polar\":{\"angularaxis\":{\"gridcolor\":\"white\",\"linecolor\":\"white\",\"ticks\":\"\"},\"bgcolor\":\"#E5ECF6\",\"radialaxis\":{\"gridcolor\":\"white\",\"linecolor\":\"white\",\"ticks\":\"\"}},\"scene\":{\"xaxis\":{\"backgroundcolor\":\"#E5ECF6\",\"gridcolor\":\"white\",\"gridwidth\":2,\"linecolor\":\"white\",\"showbackground\":true,\"ticks\":\"\",\"zerolinecolor\":\"white\"},\"yaxis\":{\"backgroundcolor\":\"#E5ECF6\",\"gridcolor\":\"white\",\"gridwidth\":2,\"linecolor\":\"white\",\"showbackground\":true,\"ticks\":\"\",\"zerolinecolor\":\"white\"},\"zaxis\":{\"backgroundcolor\":\"#E5ECF6\",\"gridcolor\":\"white\",\"gridwidth\":2,\"linecolor\":\"white\",\"showbackground\":true,\"ticks\":\"\",\"zerolinecolor\":\"white\"}},\"shapedefaults\":{\"line\":{\"color\":\"#2a3f5f\"}},\"ternary\":{\"aaxis\":{\"gridcolor\":\"white\",\"linecolor\":\"white\",\"ticks\":\"\"},\"baxis\":{\"gridcolor\":\"white\",\"linecolor\":\"white\",\"ticks\":\"\"},\"bgcolor\":\"#E5ECF6\",\"caxis\":{\"gridcolor\":\"white\",\"linecolor\":\"white\",\"ticks\":\"\"}},\"title\":{\"x\":0.05},\"xaxis\":{\"automargin\":true,\"gridcolor\":\"white\",\"linecolor\":\"white\",\"ticks\":\"\",\"title\":{\"standoff\":15},\"zerolinecolor\":\"white\",\"zerolinewidth\":2},\"yaxis\":{\"automargin\":true,\"gridcolor\":\"white\",\"linecolor\":\"white\",\"ticks\":\"\",\"title\":{\"standoff\":15},\"zerolinecolor\":\"white\",\"zerolinewidth\":2}}},\"title\":{\"font\":{\"size\":22},\"text\":\"Numeric outlier: balance\",\"y\":0.99,\"x\":0.0,\"xanchor\":\"left\",\"yanchor\":\"top\"},\"modebar\":{\"bgcolor\":\"rgba(0,0,0,0)\",\"activecolor\":\"rgba(68,68,68,0.7)\",\"color\":\"rgba(68,68,68,0.3)\",\"remove\":[\"zoom\",\"lasso\",\"select\"]},\"width\":722,\"height\":448,\"barmode\":\"stack\",\"shapes\":[{\"fillcolor\":\"rgba(246,178,107,0.5)\",\"layer\":\"below\",\"line\":{\"width\":0},\"type\":\"rect\",\"x0\":80000,\"x1\":102919.41726618705,\"xref\":\"x\",\"y0\":0,\"y1\":1,\"yref\":\"paper\"}],\"paper_bgcolor\":\"rgba(0,0,0,0)\",\"plot_bgcolor\":\"rgba(238,238,238,1)\",\"xaxis\":{\"title\":{\"text\":\"balance\"}},\"yaxis\":{\"title\":{\"text\":\"Count\"},\"type\":\"log\",\"showticklabels\":true,\"dtick\":1,\"tickformat\":\"f\",\"tickmode\":\"auto\",\"ticklabeloverflow\":\"allow\",\"mirror\":\"allticks\"}},                        {\"displaylogo\": false, \"responsive\": true}                    ).then(function(){\n",
       "                            \n",
       "var gd = document.getElementById('7c449421-293b-41fb-bf6d-f3ba7223e830');\n",
       "var x = new MutationObserver(function (mutations, observer) {{\n",
       "        var display = window.getComputedStyle(gd).display;\n",
       "        if (!display || display === 'none') {{\n",
       "            console.log([gd, 'removed!']);\n",
       "            Plotly.purge(gd);\n",
       "            observer.disconnect();\n",
       "        }}\n",
       "}});\n",
       "\n",
       "// Listen for the removal of the full notebook cells\n",
       "var notebookContainer = gd.closest('#notebook-container');\n",
       "if (notebookContainer) {{\n",
       "    x.observe(notebookContainer, {childList: true});\n",
       "}}\n",
       "\n",
       "// Listen for the clearing of the current output cell\n",
       "var outputEl = gd.closest('.output');\n",
       "if (outputEl) {{\n",
       "    x.observe(outputEl, {childList: true});\n",
       "}}\n",
       "\n",
       "                        })                };                });            </script>        </div>"
      ]
     },
     "metadata": {},
     "output_type": "display_data"
    }
   ],
   "source": [
    "fig = plot_numeric_outlier(data=data, col='balance', lower_bound=None, upper_bound=80000)\n",
    "fig.show(config={'displaylogo': False})\n",
    "# fig.write_html('./automl_plot/outlier_numeric.html', config={'displaylogo': False}, include_plotlyjs='cdn', full_html=False)"
   ]
  }
 ],
 "metadata": {
  "kernelspec": {
   "display_name": "Python 3",
   "language": "python",
   "name": "python3"
  },
  "language_info": {
   "codemirror_mode": {
    "name": "ipython",
    "version": 3
   },
   "file_extension": ".py",
   "mimetype": "text/x-python",
   "name": "python",
   "nbconvert_exporter": "python",
   "pygments_lexer": "ipython3",
   "version": "3.7.10"
  }
 },
 "nbformat": 4,
 "nbformat_minor": 5
}
