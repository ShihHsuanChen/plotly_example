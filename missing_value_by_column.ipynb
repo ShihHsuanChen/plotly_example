{
 "cells": [
  {
   "cell_type": "code",
   "execution_count": 1,
   "id": "e6663a04",
   "metadata": {},
   "outputs": [],
   "source": [
    "import os\n",
    "import numpy as np\n",
    "import pandas as pd\n",
    "\n",
    "import plotly.graph_objects as go"
   ]
  },
  {
   "cell_type": "code",
   "execution_count": 2,
   "id": "81d73524",
   "metadata": {},
   "outputs": [
    {
     "data": {
      "text/html": [
       "        <script type=\"text/javascript\">\n",
       "        window.PlotlyConfig = {MathJaxConfig: 'local'};\n",
       "        if (window.MathJax) {MathJax.Hub.Config({SVG: {font: \"STIX-Web\"}});}\n",
       "        if (typeof require !== 'undefined') {\n",
       "        require.undef(\"plotly\");\n",
       "        requirejs.config({\n",
       "            paths: {\n",
       "                'plotly': ['https://cdn.plot.ly/plotly-2.6.3.min']\n",
       "            }\n",
       "        });\n",
       "        require(['plotly'], function(Plotly) {\n",
       "            window._Plotly = Plotly;\n",
       "        });\n",
       "        }\n",
       "        </script>\n",
       "        "
      ]
     },
     "metadata": {},
     "output_type": "display_data"
    }
   ],
   "source": [
    "from plotly.offline import init_notebook_mode, iplot\n",
    "init_notebook_mode(connected=True)"
   ]
  },
  {
   "cell_type": "code",
   "execution_count": 3,
   "id": "f8e856d0",
   "metadata": {},
   "outputs": [],
   "source": [
    "from read_missing_data import read_missing_df"
   ]
  },
  {
   "cell_type": "code",
   "execution_count": 4,
   "id": "d95ebbe6",
   "metadata": {},
   "outputs": [],
   "source": [
    "data = read_missing_df()"
   ]
  },
  {
   "cell_type": "code",
   "execution_count": 5,
   "id": "75c8e3e2",
   "metadata": {},
   "outputs": [],
   "source": [
    "_missing_pct = data.isna().sum()/data.shape[0]\n",
    "_not_missing_pct = 1-(data.isna().sum()/data.shape[0])\n",
    "_missing_cnt = data.isna().sum()\n",
    "_not_missing_cnt = data.shape[0] - data.isna().sum()\n",
    "\n",
    "sorted_col = list(_missing_cnt[_missing_cnt!=0].sort_values(ascending=False).index)\n",
    "total_pct = pd.Series(data=[1.0]*data.shape[1], index=data.columns)"
   ]
  },
  {
   "cell_type": "code",
   "execution_count": 6,
   "id": "ecd41034",
   "metadata": {},
   "outputs": [
    {
     "data": {
      "application/vnd.plotly.v1+json": {
       "config": {
        "plotlyServerURL": "https://plot.ly"
       },
       "data": [
        {
         "hovertemplate": "No missing: %{y} <extra></extra>",
         "marker": {
          "color": [
           "rgba(0,0,0,0.7)",
           "rgba(153, 0, 0,0.7)",
           "rgba(153, 0, 0,0.7)",
           "rgba(0,0,0,0.7)",
           "rgba(0,0,0,0.7)",
           "rgba(153, 0, 0,0.7)",
           "rgba(153, 0, 0,0.7)",
           "rgba(153, 0, 0,0.7)",
           "rgba(0,0,0,0.7)",
           "rgba(0,0,0,0.7)",
           "rgba(0,0,0,0.7)",
           "rgba(0,0,0,0.7)",
           "rgba(153, 0, 0,0.7)",
           "rgba(0,0,0,0.7)",
           "rgba(153, 0, 0,0.7)",
           "rgba(0,0,0,0.7)",
           "rgba(0,0,0,0.7)"
          ]
         },
         "orientation": "v",
         "type": "bar",
         "x": [
          "age",
          "job",
          "marital",
          "education",
          "default",
          "balance",
          "housing",
          "loan",
          "contact",
          "day",
          "month",
          "duration",
          "campaign",
          "pdays",
          "previous",
          "poutcome",
          "deposit"
         ],
         "y": [
          45211,
          38592,
          43800,
          45211,
          45211,
          39776,
          45025,
          37684,
          45211,
          45211,
          45211,
          45211,
          41305,
          45211,
          43950,
          45211,
          45211
         ]
        },
        {
         "hovertemplate": "Missing: %{y} <extra></extra>",
         "marker": {
          "color": "rgba(153, 0, 0,0.3)"
         },
         "orientation": "v",
         "type": "bar",
         "x": [
          "age",
          "job",
          "marital",
          "education",
          "default",
          "balance",
          "housing",
          "loan",
          "contact",
          "day",
          "month",
          "duration",
          "campaign",
          "pdays",
          "previous",
          "poutcome",
          "deposit"
         ],
         "y": [
          0,
          6619,
          1411,
          0,
          0,
          5435,
          186,
          7527,
          0,
          0,
          0,
          0,
          3906,
          0,
          1261,
          0,
          0
         ]
        },
        {
         "hoverinfo": "skip",
         "marker": {
          "color": "rgba(0,0,0,0)"
         },
         "orientation": "v",
         "type": "bar",
         "visible": true,
         "x": [
          "age",
          "job",
          "marital",
          "education",
          "default",
          "balance",
          "housing",
          "loan",
          "contact",
          "day",
          "month",
          "duration",
          "campaign",
          "pdays",
          "previous",
          "poutcome",
          "deposit"
         ],
         "y": [
          1,
          1,
          1,
          1,
          1,
          1,
          1,
          1,
          1,
          1,
          1,
          1,
          1,
          1,
          1,
          1,
          1
         ],
         "yaxis": "y2"
        }
       ],
       "layout": {
        "barmode": "stack",
        "showlegend": false,
        "template": {
         "data": {
          "bar": [
           {
            "error_x": {
             "color": "#2a3f5f"
            },
            "error_y": {
             "color": "#2a3f5f"
            },
            "marker": {
             "line": {
              "color": "#E5ECF6",
              "width": 0.5
             },
             "pattern": {
              "fillmode": "overlay",
              "size": 10,
              "solidity": 0.2
             }
            },
            "type": "bar"
           }
          ],
          "barpolar": [
           {
            "marker": {
             "line": {
              "color": "#E5ECF6",
              "width": 0.5
             },
             "pattern": {
              "fillmode": "overlay",
              "size": 10,
              "solidity": 0.2
             }
            },
            "type": "barpolar"
           }
          ],
          "carpet": [
           {
            "aaxis": {
             "endlinecolor": "#2a3f5f",
             "gridcolor": "white",
             "linecolor": "white",
             "minorgridcolor": "white",
             "startlinecolor": "#2a3f5f"
            },
            "baxis": {
             "endlinecolor": "#2a3f5f",
             "gridcolor": "white",
             "linecolor": "white",
             "minorgridcolor": "white",
             "startlinecolor": "#2a3f5f"
            },
            "type": "carpet"
           }
          ],
          "choropleth": [
           {
            "colorbar": {
             "outlinewidth": 0,
             "ticks": ""
            },
            "type": "choropleth"
           }
          ],
          "contour": [
           {
            "colorbar": {
             "outlinewidth": 0,
             "ticks": ""
            },
            "colorscale": [
             [
              0,
              "#0d0887"
             ],
             [
              0.1111111111111111,
              "#46039f"
             ],
             [
              0.2222222222222222,
              "#7201a8"
             ],
             [
              0.3333333333333333,
              "#9c179e"
             ],
             [
              0.4444444444444444,
              "#bd3786"
             ],
             [
              0.5555555555555556,
              "#d8576b"
             ],
             [
              0.6666666666666666,
              "#ed7953"
             ],
             [
              0.7777777777777778,
              "#fb9f3a"
             ],
             [
              0.8888888888888888,
              "#fdca26"
             ],
             [
              1,
              "#f0f921"
             ]
            ],
            "type": "contour"
           }
          ],
          "contourcarpet": [
           {
            "colorbar": {
             "outlinewidth": 0,
             "ticks": ""
            },
            "type": "contourcarpet"
           }
          ],
          "heatmap": [
           {
            "colorbar": {
             "outlinewidth": 0,
             "ticks": ""
            },
            "colorscale": [
             [
              0,
              "#0d0887"
             ],
             [
              0.1111111111111111,
              "#46039f"
             ],
             [
              0.2222222222222222,
              "#7201a8"
             ],
             [
              0.3333333333333333,
              "#9c179e"
             ],
             [
              0.4444444444444444,
              "#bd3786"
             ],
             [
              0.5555555555555556,
              "#d8576b"
             ],
             [
              0.6666666666666666,
              "#ed7953"
             ],
             [
              0.7777777777777778,
              "#fb9f3a"
             ],
             [
              0.8888888888888888,
              "#fdca26"
             ],
             [
              1,
              "#f0f921"
             ]
            ],
            "type": "heatmap"
           }
          ],
          "heatmapgl": [
           {
            "colorbar": {
             "outlinewidth": 0,
             "ticks": ""
            },
            "colorscale": [
             [
              0,
              "#0d0887"
             ],
             [
              0.1111111111111111,
              "#46039f"
             ],
             [
              0.2222222222222222,
              "#7201a8"
             ],
             [
              0.3333333333333333,
              "#9c179e"
             ],
             [
              0.4444444444444444,
              "#bd3786"
             ],
             [
              0.5555555555555556,
              "#d8576b"
             ],
             [
              0.6666666666666666,
              "#ed7953"
             ],
             [
              0.7777777777777778,
              "#fb9f3a"
             ],
             [
              0.8888888888888888,
              "#fdca26"
             ],
             [
              1,
              "#f0f921"
             ]
            ],
            "type": "heatmapgl"
           }
          ],
          "histogram": [
           {
            "marker": {
             "pattern": {
              "fillmode": "overlay",
              "size": 10,
              "solidity": 0.2
             }
            },
            "type": "histogram"
           }
          ],
          "histogram2d": [
           {
            "colorbar": {
             "outlinewidth": 0,
             "ticks": ""
            },
            "colorscale": [
             [
              0,
              "#0d0887"
             ],
             [
              0.1111111111111111,
              "#46039f"
             ],
             [
              0.2222222222222222,
              "#7201a8"
             ],
             [
              0.3333333333333333,
              "#9c179e"
             ],
             [
              0.4444444444444444,
              "#bd3786"
             ],
             [
              0.5555555555555556,
              "#d8576b"
             ],
             [
              0.6666666666666666,
              "#ed7953"
             ],
             [
              0.7777777777777778,
              "#fb9f3a"
             ],
             [
              0.8888888888888888,
              "#fdca26"
             ],
             [
              1,
              "#f0f921"
             ]
            ],
            "type": "histogram2d"
           }
          ],
          "histogram2dcontour": [
           {
            "colorbar": {
             "outlinewidth": 0,
             "ticks": ""
            },
            "colorscale": [
             [
              0,
              "#0d0887"
             ],
             [
              0.1111111111111111,
              "#46039f"
             ],
             [
              0.2222222222222222,
              "#7201a8"
             ],
             [
              0.3333333333333333,
              "#9c179e"
             ],
             [
              0.4444444444444444,
              "#bd3786"
             ],
             [
              0.5555555555555556,
              "#d8576b"
             ],
             [
              0.6666666666666666,
              "#ed7953"
             ],
             [
              0.7777777777777778,
              "#fb9f3a"
             ],
             [
              0.8888888888888888,
              "#fdca26"
             ],
             [
              1,
              "#f0f921"
             ]
            ],
            "type": "histogram2dcontour"
           }
          ],
          "mesh3d": [
           {
            "colorbar": {
             "outlinewidth": 0,
             "ticks": ""
            },
            "type": "mesh3d"
           }
          ],
          "parcoords": [
           {
            "line": {
             "colorbar": {
              "outlinewidth": 0,
              "ticks": ""
             }
            },
            "type": "parcoords"
           }
          ],
          "pie": [
           {
            "automargin": true,
            "type": "pie"
           }
          ],
          "scatter": [
           {
            "marker": {
             "colorbar": {
              "outlinewidth": 0,
              "ticks": ""
             }
            },
            "type": "scatter"
           }
          ],
          "scatter3d": [
           {
            "line": {
             "colorbar": {
              "outlinewidth": 0,
              "ticks": ""
             }
            },
            "marker": {
             "colorbar": {
              "outlinewidth": 0,
              "ticks": ""
             }
            },
            "type": "scatter3d"
           }
          ],
          "scattercarpet": [
           {
            "marker": {
             "colorbar": {
              "outlinewidth": 0,
              "ticks": ""
             }
            },
            "type": "scattercarpet"
           }
          ],
          "scattergeo": [
           {
            "marker": {
             "colorbar": {
              "outlinewidth": 0,
              "ticks": ""
             }
            },
            "type": "scattergeo"
           }
          ],
          "scattergl": [
           {
            "marker": {
             "colorbar": {
              "outlinewidth": 0,
              "ticks": ""
             }
            },
            "type": "scattergl"
           }
          ],
          "scattermapbox": [
           {
            "marker": {
             "colorbar": {
              "outlinewidth": 0,
              "ticks": ""
             }
            },
            "type": "scattermapbox"
           }
          ],
          "scatterpolar": [
           {
            "marker": {
             "colorbar": {
              "outlinewidth": 0,
              "ticks": ""
             }
            },
            "type": "scatterpolar"
           }
          ],
          "scatterpolargl": [
           {
            "marker": {
             "colorbar": {
              "outlinewidth": 0,
              "ticks": ""
             }
            },
            "type": "scatterpolargl"
           }
          ],
          "scatterternary": [
           {
            "marker": {
             "colorbar": {
              "outlinewidth": 0,
              "ticks": ""
             }
            },
            "type": "scatterternary"
           }
          ],
          "surface": [
           {
            "colorbar": {
             "outlinewidth": 0,
             "ticks": ""
            },
            "colorscale": [
             [
              0,
              "#0d0887"
             ],
             [
              0.1111111111111111,
              "#46039f"
             ],
             [
              0.2222222222222222,
              "#7201a8"
             ],
             [
              0.3333333333333333,
              "#9c179e"
             ],
             [
              0.4444444444444444,
              "#bd3786"
             ],
             [
              0.5555555555555556,
              "#d8576b"
             ],
             [
              0.6666666666666666,
              "#ed7953"
             ],
             [
              0.7777777777777778,
              "#fb9f3a"
             ],
             [
              0.8888888888888888,
              "#fdca26"
             ],
             [
              1,
              "#f0f921"
             ]
            ],
            "type": "surface"
           }
          ],
          "table": [
           {
            "cells": {
             "fill": {
              "color": "#EBF0F8"
             },
             "line": {
              "color": "white"
             }
            },
            "header": {
             "fill": {
              "color": "#C8D4E3"
             },
             "line": {
              "color": "white"
             }
            },
            "type": "table"
           }
          ]
         },
         "layout": {
          "annotationdefaults": {
           "arrowcolor": "#2a3f5f",
           "arrowhead": 0,
           "arrowwidth": 1
          },
          "autotypenumbers": "strict",
          "coloraxis": {
           "colorbar": {
            "outlinewidth": 0,
            "ticks": ""
           }
          },
          "colorscale": {
           "diverging": [
            [
             0,
             "#8e0152"
            ],
            [
             0.1,
             "#c51b7d"
            ],
            [
             0.2,
             "#de77ae"
            ],
            [
             0.3,
             "#f1b6da"
            ],
            [
             0.4,
             "#fde0ef"
            ],
            [
             0.5,
             "#f7f7f7"
            ],
            [
             0.6,
             "#e6f5d0"
            ],
            [
             0.7,
             "#b8e186"
            ],
            [
             0.8,
             "#7fbc41"
            ],
            [
             0.9,
             "#4d9221"
            ],
            [
             1,
             "#276419"
            ]
           ],
           "sequential": [
            [
             0,
             "#0d0887"
            ],
            [
             0.1111111111111111,
             "#46039f"
            ],
            [
             0.2222222222222222,
             "#7201a8"
            ],
            [
             0.3333333333333333,
             "#9c179e"
            ],
            [
             0.4444444444444444,
             "#bd3786"
            ],
            [
             0.5555555555555556,
             "#d8576b"
            ],
            [
             0.6666666666666666,
             "#ed7953"
            ],
            [
             0.7777777777777778,
             "#fb9f3a"
            ],
            [
             0.8888888888888888,
             "#fdca26"
            ],
            [
             1,
             "#f0f921"
            ]
           ],
           "sequentialminus": [
            [
             0,
             "#0d0887"
            ],
            [
             0.1111111111111111,
             "#46039f"
            ],
            [
             0.2222222222222222,
             "#7201a8"
            ],
            [
             0.3333333333333333,
             "#9c179e"
            ],
            [
             0.4444444444444444,
             "#bd3786"
            ],
            [
             0.5555555555555556,
             "#d8576b"
            ],
            [
             0.6666666666666666,
             "#ed7953"
            ],
            [
             0.7777777777777778,
             "#fb9f3a"
            ],
            [
             0.8888888888888888,
             "#fdca26"
            ],
            [
             1,
             "#f0f921"
            ]
           ]
          },
          "colorway": [
           "#636efa",
           "#EF553B",
           "#00cc96",
           "#ab63fa",
           "#FFA15A",
           "#19d3f3",
           "#FF6692",
           "#B6E880",
           "#FF97FF",
           "#FECB52"
          ],
          "font": {
           "color": "#2a3f5f"
          },
          "geo": {
           "bgcolor": "white",
           "lakecolor": "white",
           "landcolor": "#E5ECF6",
           "showlakes": true,
           "showland": true,
           "subunitcolor": "white"
          },
          "hoverlabel": {
           "align": "left"
          },
          "hovermode": "closest",
          "mapbox": {
           "style": "light"
          },
          "paper_bgcolor": "white",
          "plot_bgcolor": "#E5ECF6",
          "polar": {
           "angularaxis": {
            "gridcolor": "white",
            "linecolor": "white",
            "ticks": ""
           },
           "bgcolor": "#E5ECF6",
           "radialaxis": {
            "gridcolor": "white",
            "linecolor": "white",
            "ticks": ""
           }
          },
          "scene": {
           "xaxis": {
            "backgroundcolor": "#E5ECF6",
            "gridcolor": "white",
            "gridwidth": 2,
            "linecolor": "white",
            "showbackground": true,
            "ticks": "",
            "zerolinecolor": "white"
           },
           "yaxis": {
            "backgroundcolor": "#E5ECF6",
            "gridcolor": "white",
            "gridwidth": 2,
            "linecolor": "white",
            "showbackground": true,
            "ticks": "",
            "zerolinecolor": "white"
           },
           "zaxis": {
            "backgroundcolor": "#E5ECF6",
            "gridcolor": "white",
            "gridwidth": 2,
            "linecolor": "white",
            "showbackground": true,
            "ticks": "",
            "zerolinecolor": "white"
           }
          },
          "shapedefaults": {
           "line": {
            "color": "#2a3f5f"
           }
          },
          "ternary": {
           "aaxis": {
            "gridcolor": "white",
            "linecolor": "white",
            "ticks": ""
           },
           "baxis": {
            "gridcolor": "white",
            "linecolor": "white",
            "ticks": ""
           },
           "bgcolor": "#E5ECF6",
           "caxis": {
            "gridcolor": "white",
            "linecolor": "white",
            "ticks": ""
           }
          },
          "title": {
           "x": 0.05
          },
          "xaxis": {
           "automargin": true,
           "gridcolor": "white",
           "linecolor": "white",
           "ticks": "",
           "title": {
            "standoff": 15
           },
           "zerolinecolor": "white",
           "zerolinewidth": 2
          },
          "yaxis": {
           "automargin": true,
           "gridcolor": "white",
           "linecolor": "white",
           "ticks": "",
           "title": {
            "standoff": 15
           },
           "zerolinecolor": "white",
           "zerolinewidth": 2
          }
         }
        },
        "title": {
         "font": {
          "size": 22
         },
         "text": "Missing value by column",
         "x": 0,
         "xanchor": "left",
         "y": 0.99,
         "yanchor": "top"
        },
        "updatemenus": [
         {
          "active": 0,
          "bgcolor": "rgba(255,255,255,1)",
          "buttons": [
           {
            "args": [
             {
              "marker": [
               {
                "color": [
                 "rgba(0,0,0,0.7)",
                 "rgba(153, 0, 0,0.7)",
                 "rgba(153, 0, 0,0.7)",
                 "rgba(0,0,0,0.7)",
                 "rgba(0,0,0,0.7)",
                 "rgba(153, 0, 0,0.7)",
                 "rgba(153, 0, 0,0.7)",
                 "rgba(153, 0, 0,0.7)",
                 "rgba(0,0,0,0.7)",
                 "rgba(0,0,0,0.7)",
                 "rgba(0,0,0,0.7)",
                 "rgba(0,0,0,0.7)",
                 "rgba(153, 0, 0,0.7)",
                 "rgba(0,0,0,0.7)",
                 "rgba(153, 0, 0,0.7)",
                 "rgba(0,0,0,0.7)",
                 "rgba(0,0,0,0.7)"
                ]
               },
               {
                "color": "rgba(153, 0, 0,0.3)"
               },
               {
                "color": "rgba(0,0,0,0)"
               }
              ],
              "type": "bar",
              "x": [
               [
                "age",
                "job",
                "marital",
                "education",
                "default",
                "balance",
                "housing",
                "loan",
                "contact",
                "day",
                "month",
                "duration",
                "campaign",
                "pdays",
                "previous",
                "poutcome",
                "deposit"
               ],
               [
                "age",
                "job",
                "marital",
                "education",
                "default",
                "balance",
                "housing",
                "loan",
                "contact",
                "day",
                "month",
                "duration",
                "campaign",
                "pdays",
                "previous",
                "poutcome",
                "deposit"
               ],
               [
                "age",
                "job",
                "marital",
                "education",
                "default",
                "balance",
                "housing",
                "loan",
                "contact",
                "day",
                "month",
                "duration",
                "campaign",
                "pdays",
                "previous",
                "poutcome",
                "deposit"
               ]
              ],
              "y": [
               [
                45211,
                38592,
                43800,
                45211,
                45211,
                39776,
                45025,
                37684,
                45211,
                45211,
                45211,
                45211,
                41305,
                45211,
                43950,
                45211,
                45211
               ],
               [
                0,
                6619,
                1411,
                0,
                0,
                5435,
                186,
                7527,
                0,
                0,
                0,
                0,
                3906,
                0,
                1261,
                0,
                0
               ],
               [
                1,
                1,
                1,
                1,
                1,
                1,
                1,
                1,
                1,
                1,
                1,
                1,
                1,
                1,
                1,
                1,
                1
               ]
              ]
             },
             {
              "barmode": "stack",
              "showlegend": false,
              "title": {
               "font": {
                "size": 22
               },
               "text": "Missing value by column",
               "x": 0,
               "xanchor": "left",
               "y": 0.99,
               "yanchor": "top"
              },
              "xaxis": {
               "rangeslider": {
                "visible": true
               },
               "tickangle": -90,
               "title": "Feature name",
               "type": "category"
              },
              "yaxis1": {
               "range": [
                0,
                47471.55
               ],
               "side": "right"
              },
              "yaxis2": {
               "overlaying": "y",
               "range": [
                0,
                1.05
               ],
               "side": "left"
              }
             }
            ],
            "label": "All",
            "method": "update"
           },
           {
            "args": [
             {
              "marker": [
               {
                "color": [
                 "rgba(153, 0, 0,0.7)",
                 "rgba(153, 0, 0,0.7)",
                 "rgba(153, 0, 0,0.7)",
                 "rgba(153, 0, 0,0.7)",
                 "rgba(153, 0, 0,0.7)",
                 "rgba(153, 0, 0,0.7)",
                 "rgba(153, 0, 0,0.7)"
                ]
               },
               {
                "color": "rgba(153, 0, 0,0.3)"
               },
               {
                "color": "rgba(0,0,0,0)"
               }
              ],
              "type": "bar",
              "x": [
               [
                "loan",
                "job",
                "balance",
                "campaign",
                "marital",
                "previous",
                "housing"
               ],
               [
                "loan",
                "job",
                "balance",
                "campaign",
                "marital",
                "previous",
                "housing"
               ],
               [
                "job",
                "marital",
                "balance",
                "housing",
                "loan",
                "campaign",
                "previous"
               ]
              ],
              "y": [
               [
                37684,
                38592,
                39776,
                41305,
                43800,
                43950,
                45025
               ],
               [
                7527,
                6619,
                5435,
                3906,
                1411,
                1261,
                186
               ],
               [
                1,
                1,
                1,
                1,
                1,
                1,
                1
               ]
              ]
             },
             {
              "barmode": "stack",
              "showlegend": false,
              "title": {
               "font": {
                "size": 22
               },
               "text": "Missing value by column",
               "x": 0,
               "xanchor": "left",
               "y": 0.99,
               "yanchor": "top"
              },
              "xaxis": {
               "rangeslider": {
                "visible": true
               },
               "tickangle": -90,
               "title": "Feature name",
               "type": "category"
              },
              "yaxis1": {
               "range": [
                0,
                47471.55
               ],
               "side": "right"
              },
              "yaxis2": {
               "overlaying": "y",
               "range": [
                0,
                1.05
               ],
               "side": "left"
              }
             }
            ],
            "label": "Column with missing",
            "method": "update"
           }
          ],
          "direction": "left",
          "pad": {
           "r": 0,
           "t": -50
          },
          "type": "buttons",
          "x": 0,
          "xanchor": "left",
          "y": 1,
          "yanchor": "top"
         }
        ],
        "xaxis": {
         "rangeslider": {
          "visible": true
         },
         "tickangle": -90,
         "title": {
          "text": "Feature name"
         },
         "type": "category"
        },
        "yaxis": {
         "range": [
          0,
          47471.55
         ],
         "side": "right"
        },
        "yaxis2": {
         "overlaying": "y",
         "range": [
          0,
          1.05
         ],
         "side": "left"
        }
       }
      },
      "text/html": [
       "<div>                            <div id=\"c4c1819b-4fd9-425a-a5ef-3191d82995fd\" class=\"plotly-graph-div\" style=\"height:525px; width:100%;\"></div>            <script type=\"text/javascript\">                require([\"plotly\"], function(Plotly) {                    window.PLOTLYENV=window.PLOTLYENV || {};                                    if (document.getElementById(\"c4c1819b-4fd9-425a-a5ef-3191d82995fd\")) {                    Plotly.newPlot(                        \"c4c1819b-4fd9-425a-a5ef-3191d82995fd\",                        [{\"hovertemplate\":\"No missing: %{y} <extra></extra>\",\"marker\":{\"color\":[\"rgba(0,0,0,0.7)\",\"rgba(153, 0, 0,0.7)\",\"rgba(153, 0, 0,0.7)\",\"rgba(0,0,0,0.7)\",\"rgba(0,0,0,0.7)\",\"rgba(153, 0, 0,0.7)\",\"rgba(153, 0, 0,0.7)\",\"rgba(153, 0, 0,0.7)\",\"rgba(0,0,0,0.7)\",\"rgba(0,0,0,0.7)\",\"rgba(0,0,0,0.7)\",\"rgba(0,0,0,0.7)\",\"rgba(153, 0, 0,0.7)\",\"rgba(0,0,0,0.7)\",\"rgba(153, 0, 0,0.7)\",\"rgba(0,0,0,0.7)\",\"rgba(0,0,0,0.7)\"]},\"orientation\":\"v\",\"x\":[\"age\",\"job\",\"marital\",\"education\",\"default\",\"balance\",\"housing\",\"loan\",\"contact\",\"day\",\"month\",\"duration\",\"campaign\",\"pdays\",\"previous\",\"poutcome\",\"deposit\"],\"y\":[45211,38592,43800,45211,45211,39776,45025,37684,45211,45211,45211,45211,41305,45211,43950,45211,45211],\"type\":\"bar\"},{\"hovertemplate\":\"Missing: %{y} <extra></extra>\",\"marker\":{\"color\":\"rgba(153, 0, 0,0.3)\"},\"orientation\":\"v\",\"x\":[\"age\",\"job\",\"marital\",\"education\",\"default\",\"balance\",\"housing\",\"loan\",\"contact\",\"day\",\"month\",\"duration\",\"campaign\",\"pdays\",\"previous\",\"poutcome\",\"deposit\"],\"y\":[0,6619,1411,0,0,5435,186,7527,0,0,0,0,3906,0,1261,0,0],\"type\":\"bar\"},{\"hoverinfo\":\"skip\",\"marker\":{\"color\":\"rgba(0,0,0,0)\"},\"orientation\":\"v\",\"visible\":true,\"x\":[\"age\",\"job\",\"marital\",\"education\",\"default\",\"balance\",\"housing\",\"loan\",\"contact\",\"day\",\"month\",\"duration\",\"campaign\",\"pdays\",\"previous\",\"poutcome\",\"deposit\"],\"y\":[1.0,1.0,1.0,1.0,1.0,1.0,1.0,1.0,1.0,1.0,1.0,1.0,1.0,1.0,1.0,1.0,1.0],\"yaxis\":\"y2\",\"type\":\"bar\"}],                        {\"template\":{\"data\":{\"bar\":[{\"error_x\":{\"color\":\"#2a3f5f\"},\"error_y\":{\"color\":\"#2a3f5f\"},\"marker\":{\"line\":{\"color\":\"#E5ECF6\",\"width\":0.5},\"pattern\":{\"fillmode\":\"overlay\",\"size\":10,\"solidity\":0.2}},\"type\":\"bar\"}],\"barpolar\":[{\"marker\":{\"line\":{\"color\":\"#E5ECF6\",\"width\":0.5},\"pattern\":{\"fillmode\":\"overlay\",\"size\":10,\"solidity\":0.2}},\"type\":\"barpolar\"}],\"carpet\":[{\"aaxis\":{\"endlinecolor\":\"#2a3f5f\",\"gridcolor\":\"white\",\"linecolor\":\"white\",\"minorgridcolor\":\"white\",\"startlinecolor\":\"#2a3f5f\"},\"baxis\":{\"endlinecolor\":\"#2a3f5f\",\"gridcolor\":\"white\",\"linecolor\":\"white\",\"minorgridcolor\":\"white\",\"startlinecolor\":\"#2a3f5f\"},\"type\":\"carpet\"}],\"choropleth\":[{\"colorbar\":{\"outlinewidth\":0,\"ticks\":\"\"},\"type\":\"choropleth\"}],\"contour\":[{\"colorbar\":{\"outlinewidth\":0,\"ticks\":\"\"},\"colorscale\":[[0.0,\"#0d0887\"],[0.1111111111111111,\"#46039f\"],[0.2222222222222222,\"#7201a8\"],[0.3333333333333333,\"#9c179e\"],[0.4444444444444444,\"#bd3786\"],[0.5555555555555556,\"#d8576b\"],[0.6666666666666666,\"#ed7953\"],[0.7777777777777778,\"#fb9f3a\"],[0.8888888888888888,\"#fdca26\"],[1.0,\"#f0f921\"]],\"type\":\"contour\"}],\"contourcarpet\":[{\"colorbar\":{\"outlinewidth\":0,\"ticks\":\"\"},\"type\":\"contourcarpet\"}],\"heatmap\":[{\"colorbar\":{\"outlinewidth\":0,\"ticks\":\"\"},\"colorscale\":[[0.0,\"#0d0887\"],[0.1111111111111111,\"#46039f\"],[0.2222222222222222,\"#7201a8\"],[0.3333333333333333,\"#9c179e\"],[0.4444444444444444,\"#bd3786\"],[0.5555555555555556,\"#d8576b\"],[0.6666666666666666,\"#ed7953\"],[0.7777777777777778,\"#fb9f3a\"],[0.8888888888888888,\"#fdca26\"],[1.0,\"#f0f921\"]],\"type\":\"heatmap\"}],\"heatmapgl\":[{\"colorbar\":{\"outlinewidth\":0,\"ticks\":\"\"},\"colorscale\":[[0.0,\"#0d0887\"],[0.1111111111111111,\"#46039f\"],[0.2222222222222222,\"#7201a8\"],[0.3333333333333333,\"#9c179e\"],[0.4444444444444444,\"#bd3786\"],[0.5555555555555556,\"#d8576b\"],[0.6666666666666666,\"#ed7953\"],[0.7777777777777778,\"#fb9f3a\"],[0.8888888888888888,\"#fdca26\"],[1.0,\"#f0f921\"]],\"type\":\"heatmapgl\"}],\"histogram\":[{\"marker\":{\"pattern\":{\"fillmode\":\"overlay\",\"size\":10,\"solidity\":0.2}},\"type\":\"histogram\"}],\"histogram2d\":[{\"colorbar\":{\"outlinewidth\":0,\"ticks\":\"\"},\"colorscale\":[[0.0,\"#0d0887\"],[0.1111111111111111,\"#46039f\"],[0.2222222222222222,\"#7201a8\"],[0.3333333333333333,\"#9c179e\"],[0.4444444444444444,\"#bd3786\"],[0.5555555555555556,\"#d8576b\"],[0.6666666666666666,\"#ed7953\"],[0.7777777777777778,\"#fb9f3a\"],[0.8888888888888888,\"#fdca26\"],[1.0,\"#f0f921\"]],\"type\":\"histogram2d\"}],\"histogram2dcontour\":[{\"colorbar\":{\"outlinewidth\":0,\"ticks\":\"\"},\"colorscale\":[[0.0,\"#0d0887\"],[0.1111111111111111,\"#46039f\"],[0.2222222222222222,\"#7201a8\"],[0.3333333333333333,\"#9c179e\"],[0.4444444444444444,\"#bd3786\"],[0.5555555555555556,\"#d8576b\"],[0.6666666666666666,\"#ed7953\"],[0.7777777777777778,\"#fb9f3a\"],[0.8888888888888888,\"#fdca26\"],[1.0,\"#f0f921\"]],\"type\":\"histogram2dcontour\"}],\"mesh3d\":[{\"colorbar\":{\"outlinewidth\":0,\"ticks\":\"\"},\"type\":\"mesh3d\"}],\"parcoords\":[{\"line\":{\"colorbar\":{\"outlinewidth\":0,\"ticks\":\"\"}},\"type\":\"parcoords\"}],\"pie\":[{\"automargin\":true,\"type\":\"pie\"}],\"scatter\":[{\"marker\":{\"colorbar\":{\"outlinewidth\":0,\"ticks\":\"\"}},\"type\":\"scatter\"}],\"scatter3d\":[{\"line\":{\"colorbar\":{\"outlinewidth\":0,\"ticks\":\"\"}},\"marker\":{\"colorbar\":{\"outlinewidth\":0,\"ticks\":\"\"}},\"type\":\"scatter3d\"}],\"scattercarpet\":[{\"marker\":{\"colorbar\":{\"outlinewidth\":0,\"ticks\":\"\"}},\"type\":\"scattercarpet\"}],\"scattergeo\":[{\"marker\":{\"colorbar\":{\"outlinewidth\":0,\"ticks\":\"\"}},\"type\":\"scattergeo\"}],\"scattergl\":[{\"marker\":{\"colorbar\":{\"outlinewidth\":0,\"ticks\":\"\"}},\"type\":\"scattergl\"}],\"scattermapbox\":[{\"marker\":{\"colorbar\":{\"outlinewidth\":0,\"ticks\":\"\"}},\"type\":\"scattermapbox\"}],\"scatterpolar\":[{\"marker\":{\"colorbar\":{\"outlinewidth\":0,\"ticks\":\"\"}},\"type\":\"scatterpolar\"}],\"scatterpolargl\":[{\"marker\":{\"colorbar\":{\"outlinewidth\":0,\"ticks\":\"\"}},\"type\":\"scatterpolargl\"}],\"scatterternary\":[{\"marker\":{\"colorbar\":{\"outlinewidth\":0,\"ticks\":\"\"}},\"type\":\"scatterternary\"}],\"surface\":[{\"colorbar\":{\"outlinewidth\":0,\"ticks\":\"\"},\"colorscale\":[[0.0,\"#0d0887\"],[0.1111111111111111,\"#46039f\"],[0.2222222222222222,\"#7201a8\"],[0.3333333333333333,\"#9c179e\"],[0.4444444444444444,\"#bd3786\"],[0.5555555555555556,\"#d8576b\"],[0.6666666666666666,\"#ed7953\"],[0.7777777777777778,\"#fb9f3a\"],[0.8888888888888888,\"#fdca26\"],[1.0,\"#f0f921\"]],\"type\":\"surface\"}],\"table\":[{\"cells\":{\"fill\":{\"color\":\"#EBF0F8\"},\"line\":{\"color\":\"white\"}},\"header\":{\"fill\":{\"color\":\"#C8D4E3\"},\"line\":{\"color\":\"white\"}},\"type\":\"table\"}]},\"layout\":{\"annotationdefaults\":{\"arrowcolor\":\"#2a3f5f\",\"arrowhead\":0,\"arrowwidth\":1},\"autotypenumbers\":\"strict\",\"coloraxis\":{\"colorbar\":{\"outlinewidth\":0,\"ticks\":\"\"}},\"colorscale\":{\"diverging\":[[0,\"#8e0152\"],[0.1,\"#c51b7d\"],[0.2,\"#de77ae\"],[0.3,\"#f1b6da\"],[0.4,\"#fde0ef\"],[0.5,\"#f7f7f7\"],[0.6,\"#e6f5d0\"],[0.7,\"#b8e186\"],[0.8,\"#7fbc41\"],[0.9,\"#4d9221\"],[1,\"#276419\"]],\"sequential\":[[0.0,\"#0d0887\"],[0.1111111111111111,\"#46039f\"],[0.2222222222222222,\"#7201a8\"],[0.3333333333333333,\"#9c179e\"],[0.4444444444444444,\"#bd3786\"],[0.5555555555555556,\"#d8576b\"],[0.6666666666666666,\"#ed7953\"],[0.7777777777777778,\"#fb9f3a\"],[0.8888888888888888,\"#fdca26\"],[1.0,\"#f0f921\"]],\"sequentialminus\":[[0.0,\"#0d0887\"],[0.1111111111111111,\"#46039f\"],[0.2222222222222222,\"#7201a8\"],[0.3333333333333333,\"#9c179e\"],[0.4444444444444444,\"#bd3786\"],[0.5555555555555556,\"#d8576b\"],[0.6666666666666666,\"#ed7953\"],[0.7777777777777778,\"#fb9f3a\"],[0.8888888888888888,\"#fdca26\"],[1.0,\"#f0f921\"]]},\"colorway\":[\"#636efa\",\"#EF553B\",\"#00cc96\",\"#ab63fa\",\"#FFA15A\",\"#19d3f3\",\"#FF6692\",\"#B6E880\",\"#FF97FF\",\"#FECB52\"],\"font\":{\"color\":\"#2a3f5f\"},\"geo\":{\"bgcolor\":\"white\",\"lakecolor\":\"white\",\"landcolor\":\"#E5ECF6\",\"showlakes\":true,\"showland\":true,\"subunitcolor\":\"white\"},\"hoverlabel\":{\"align\":\"left\"},\"hovermode\":\"closest\",\"mapbox\":{\"style\":\"light\"},\"paper_bgcolor\":\"white\",\"plot_bgcolor\":\"#E5ECF6\",\"polar\":{\"angularaxis\":{\"gridcolor\":\"white\",\"linecolor\":\"white\",\"ticks\":\"\"},\"bgcolor\":\"#E5ECF6\",\"radialaxis\":{\"gridcolor\":\"white\",\"linecolor\":\"white\",\"ticks\":\"\"}},\"scene\":{\"xaxis\":{\"backgroundcolor\":\"#E5ECF6\",\"gridcolor\":\"white\",\"gridwidth\":2,\"linecolor\":\"white\",\"showbackground\":true,\"ticks\":\"\",\"zerolinecolor\":\"white\"},\"yaxis\":{\"backgroundcolor\":\"#E5ECF6\",\"gridcolor\":\"white\",\"gridwidth\":2,\"linecolor\":\"white\",\"showbackground\":true,\"ticks\":\"\",\"zerolinecolor\":\"white\"},\"zaxis\":{\"backgroundcolor\":\"#E5ECF6\",\"gridcolor\":\"white\",\"gridwidth\":2,\"linecolor\":\"white\",\"showbackground\":true,\"ticks\":\"\",\"zerolinecolor\":\"white\"}},\"shapedefaults\":{\"line\":{\"color\":\"#2a3f5f\"}},\"ternary\":{\"aaxis\":{\"gridcolor\":\"white\",\"linecolor\":\"white\",\"ticks\":\"\"},\"baxis\":{\"gridcolor\":\"white\",\"linecolor\":\"white\",\"ticks\":\"\"},\"bgcolor\":\"#E5ECF6\",\"caxis\":{\"gridcolor\":\"white\",\"linecolor\":\"white\",\"ticks\":\"\"}},\"title\":{\"x\":0.05},\"xaxis\":{\"automargin\":true,\"gridcolor\":\"white\",\"linecolor\":\"white\",\"ticks\":\"\",\"title\":{\"standoff\":15},\"zerolinecolor\":\"white\",\"zerolinewidth\":2},\"yaxis\":{\"automargin\":true,\"gridcolor\":\"white\",\"linecolor\":\"white\",\"ticks\":\"\",\"title\":{\"standoff\":15},\"zerolinecolor\":\"white\",\"zerolinewidth\":2}}},\"title\":{\"font\":{\"size\":22},\"text\":\"Missing value by column\",\"y\":0.99,\"x\":0.0,\"xanchor\":\"left\",\"yanchor\":\"top\"},\"xaxis\":{\"rangeslider\":{\"visible\":true},\"title\":{\"text\":\"Feature name\"},\"tickangle\":-90,\"type\":\"category\"},\"yaxis\":{\"side\":\"right\",\"range\":[0,47471.55]},\"yaxis2\":{\"side\":\"left\",\"overlaying\":\"y\",\"range\":[0,1.05]},\"barmode\":\"stack\",\"showlegend\":false,\"updatemenus\":[{\"active\":0,\"bgcolor\":\"rgba(255,255,255,1)\",\"buttons\":[{\"args\":[{\"type\":\"bar\",\"x\":[[\"age\",\"job\",\"marital\",\"education\",\"default\",\"balance\",\"housing\",\"loan\",\"contact\",\"day\",\"month\",\"duration\",\"campaign\",\"pdays\",\"previous\",\"poutcome\",\"deposit\"],[\"age\",\"job\",\"marital\",\"education\",\"default\",\"balance\",\"housing\",\"loan\",\"contact\",\"day\",\"month\",\"duration\",\"campaign\",\"pdays\",\"previous\",\"poutcome\",\"deposit\"],[\"age\",\"job\",\"marital\",\"education\",\"default\",\"balance\",\"housing\",\"loan\",\"contact\",\"day\",\"month\",\"duration\",\"campaign\",\"pdays\",\"previous\",\"poutcome\",\"deposit\"]],\"y\":[[45211,38592,43800,45211,45211,39776,45025,37684,45211,45211,45211,45211,41305,45211,43950,45211,45211],[0,6619,1411,0,0,5435,186,7527,0,0,0,0,3906,0,1261,0,0],[1.0,1.0,1.0,1.0,1.0,1.0,1.0,1.0,1.0,1.0,1.0,1.0,1.0,1.0,1.0,1.0,1.0]],\"marker\":[{\"color\":[\"rgba(0,0,0,0.7)\",\"rgba(153, 0, 0,0.7)\",\"rgba(153, 0, 0,0.7)\",\"rgba(0,0,0,0.7)\",\"rgba(0,0,0,0.7)\",\"rgba(153, 0, 0,0.7)\",\"rgba(153, 0, 0,0.7)\",\"rgba(153, 0, 0,0.7)\",\"rgba(0,0,0,0.7)\",\"rgba(0,0,0,0.7)\",\"rgba(0,0,0,0.7)\",\"rgba(0,0,0,0.7)\",\"rgba(153, 0, 0,0.7)\",\"rgba(0,0,0,0.7)\",\"rgba(153, 0, 0,0.7)\",\"rgba(0,0,0,0.7)\",\"rgba(0,0,0,0.7)\"]},{\"color\":\"rgba(153, 0, 0,0.3)\"},{\"color\":\"rgba(0,0,0,0)\"}]},{\"title\":{\"text\":\"Missing value by column\",\"font\":{\"size\":22},\"y\":0.99,\"x\":0.0,\"xanchor\":\"left\",\"yanchor\":\"top\"},\"barmode\":\"stack\",\"showlegend\":false,\"xaxis\":{\"title\":\"Feature name\",\"tickangle\":-90,\"rangeslider\":{\"visible\":true},\"type\":\"category\"},\"yaxis1\":{\"side\":\"right\",\"range\":[0,47471.55]},\"yaxis2\":{\"side\":\"left\",\"overlaying\":\"y\",\"range\":[0,1.05]}}],\"label\":\"All\",\"method\":\"update\"},{\"args\":[{\"type\":\"bar\",\"x\":[[\"loan\",\"job\",\"balance\",\"campaign\",\"marital\",\"previous\",\"housing\"],[\"loan\",\"job\",\"balance\",\"campaign\",\"marital\",\"previous\",\"housing\"],[\"job\",\"marital\",\"balance\",\"housing\",\"loan\",\"campaign\",\"previous\"]],\"y\":[[37684,38592,39776,41305,43800,43950,45025],[7527,6619,5435,3906,1411,1261,186],[1.0,1.0,1.0,1.0,1.0,1.0,1.0]],\"marker\":[{\"color\":[\"rgba(153, 0, 0,0.7)\",\"rgba(153, 0, 0,0.7)\",\"rgba(153, 0, 0,0.7)\",\"rgba(153, 0, 0,0.7)\",\"rgba(153, 0, 0,0.7)\",\"rgba(153, 0, 0,0.7)\",\"rgba(153, 0, 0,0.7)\"]},{\"color\":\"rgba(153, 0, 0,0.3)\"},{\"color\":\"rgba(0,0,0,0)\"}]},{\"title\":{\"text\":\"Missing value by column\",\"font\":{\"size\":22},\"y\":0.99,\"x\":0.0,\"xanchor\":\"left\",\"yanchor\":\"top\"},\"barmode\":\"stack\",\"showlegend\":false,\"xaxis\":{\"title\":\"Feature name\",\"tickangle\":-90,\"rangeslider\":{\"visible\":true},\"type\":\"category\"},\"yaxis1\":{\"side\":\"right\",\"range\":[0,47471.55]},\"yaxis2\":{\"side\":\"left\",\"overlaying\":\"y\",\"range\":[0,1.05]}}],\"label\":\"Column with missing\",\"method\":\"update\"}],\"direction\":\"left\",\"pad\":{\"r\":0,\"t\":-50},\"type\":\"buttons\",\"x\":0.0,\"xanchor\":\"left\",\"y\":1,\"yanchor\":\"top\"}]},                        {\"responsive\": true}                    ).then(function(){\n",
       "                            \n",
       "var gd = document.getElementById('c4c1819b-4fd9-425a-a5ef-3191d82995fd');\n",
       "var x = new MutationObserver(function (mutations, observer) {{\n",
       "        var display = window.getComputedStyle(gd).display;\n",
       "        if (!display || display === 'none') {{\n",
       "            console.log([gd, 'removed!']);\n",
       "            Plotly.purge(gd);\n",
       "            observer.disconnect();\n",
       "        }}\n",
       "}});\n",
       "\n",
       "// Listen for the removal of the full notebook cells\n",
       "var notebookContainer = gd.closest('#notebook-container');\n",
       "if (notebookContainer) {{\n",
       "    x.observe(notebookContainer, {childList: true});\n",
       "}}\n",
       "\n",
       "// Listen for the clearing of the current output cell\n",
       "var outputEl = gd.closest('.output');\n",
       "if (outputEl) {{\n",
       "    x.observe(outputEl, {childList: true});\n",
       "}}\n",
       "\n",
       "                        })                };                });            </script>        </div>"
      ]
     },
     "metadata": {},
     "output_type": "display_data"
    }
   ],
   "source": [
    "fig = go.Figure()\n",
    "\n",
    "basic_color = 'rgba(0,0,0,0.7)'\n",
    "_missing_color = \"153, 0, 0\"\n",
    "missing_color = f'rgba({_missing_color},0.3)'\n",
    "no_missing_color = f'rgba({_missing_color},0.7)'\n",
    "hide_color = \"rgba(0,0,0,0)\"\n",
    "\n",
    "color=pd.Series(data=[no_missing_color]*len(total_pct), index=data.columns)\n",
    "color[_missing_cnt == 0] = basic_color\n",
    "\n",
    "noms_cols = list(_missing_cnt[_missing_cnt == 0].index)\n",
    "ms_cols = list(_missing_cnt[_missing_cnt != 0].index)\n",
    "\n",
    "hovertemplate1 = \"No missing: %{y} <extra></extra>\"\n",
    "hovertemplate2 = \"Missing: %{y} <extra></extra>\"\n",
    "\n",
    "\n",
    "fig.add_trace(go.Bar(x=_not_missing_cnt.index, y=_not_missing_cnt.values, orientation='v', \n",
    "                     hovertemplate=hovertemplate1,\n",
    "                     marker={'color': color}))\n",
    "fig.add_trace(go.Bar(x=_missing_cnt.index, y=_missing_cnt.values, orientation='v', \n",
    "                     hovertemplate=hovertemplate2,\n",
    "                     marker={'color': missing_color}))\n",
    "fig.add_trace(go.Bar(x=total_pct.index, y=total_pct.values, orientation='v', \n",
    "                     marker={'color': hide_color}, hoverinfo='skip',\n",
    "                     visible=True, yaxis='y2'))\n",
    "\n",
    "\n",
    "\n",
    "main_layout = dict(\n",
    "    title=dict(\n",
    "        text= 'Missing value by column',\n",
    "        font=dict(size=22),\n",
    "        y=0.99,\n",
    "        x=0.00,\n",
    "        xanchor='left',\n",
    "        yanchor='top',\n",
    "    ),\n",
    "    barmode='stack',\n",
    "    showlegend=False,\n",
    "    xaxis={'title': 'Feature name', 'tickangle': -90, \n",
    "           'rangeslider': {'visible': True}, \n",
    "           'type':'category',\n",
    "          },\n",
    "    yaxis1={'side': 'right', 'range': [0, len(data)*1.05]},\n",
    "    yaxis2={'side': 'left', 'overlaying': 'y', 'range': [0, 1.05]},\n",
    ")\n",
    "\n",
    "fig.update_layout(**main_layout)\n",
    "\n",
    "\n",
    "fig.update_layout(\n",
    "    updatemenus=[\n",
    "        dict(\n",
    "            type = \"buttons\",\n",
    "            direction = \"left\",\n",
    "            buttons=(\n",
    "                {'args': [{'type':'bar', \n",
    "                           'x': [_not_missing_cnt.index, _missing_cnt.index, total_pct.index], \n",
    "                           'y': [_not_missing_cnt.values, _missing_cnt.values, total_pct.values],\n",
    "                           'marker': [{'color': color}, {'color': missing_color}, {'color': hide_color}]\n",
    "                          }, \n",
    "                          {**main_layout},\n",
    "                         ],\n",
    "                 'method': 'update', 'label': 'All',\n",
    "                },\n",
    "                {'args': [{'type':'bar', \n",
    "                           'x': [_not_missing_cnt[sorted_col].index, _missing_cnt[sorted_col].index, total_pct[ms_cols].index], \n",
    "                           'y': [_not_missing_cnt[sorted_col].values, _missing_cnt[sorted_col].values, total_pct[ms_cols].values],\n",
    "                           'marker': [{'color': color[sorted_col]}, {'color': missing_color}, {'color': hide_color}]\n",
    "                          }, \n",
    "                          {**main_layout}\n",
    "                         ],\n",
    "                 'method': 'update', 'label': 'Column with missing',\n",
    "                },\n",
    "            ),\n",
    "            active=0,\n",
    "            x=0.0,\n",
    "            xanchor=\"left\",\n",
    "            y=1,\n",
    "            yanchor=\"top\",\n",
    "            pad={\"r\": 0, \"t\": -50},\n",
    "            bgcolor='rgba(255,255,255,1)',\n",
    "        ),\n",
    "    ]\n",
    ")\n",
    "\n",
    "\n",
    "fig.show()\n",
    "# fig.write_html('./automl_plot/missing_value_by_column.html', config={'displaylogo': False}, include_plotlyjs='cdn', full_html=False)"
   ]
  }
 ],
 "metadata": {
  "kernelspec": {
   "display_name": "Python 3",
   "language": "python",
   "name": "python3"
  },
  "language_info": {
   "codemirror_mode": {
    "name": "ipython",
    "version": 3
   },
   "file_extension": ".py",
   "mimetype": "text/x-python",
   "name": "python",
   "nbconvert_exporter": "python",
   "pygments_lexer": "ipython3",
   "version": "3.7.10"
  }
 },
 "nbformat": 4,
 "nbformat_minor": 5
}
