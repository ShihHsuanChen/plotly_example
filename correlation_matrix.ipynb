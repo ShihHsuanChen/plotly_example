{
 "cells": [
  {
   "cell_type": "code",
   "execution_count": 1,
   "id": "56bdcdb6",
   "metadata": {},
   "outputs": [],
   "source": [
    "import os\n",
    "import numpy as np\n",
    "import pandas as pd\n",
    "\n",
    "import plotly.graph_objects as go"
   ]
  },
  {
   "cell_type": "code",
   "execution_count": 2,
   "id": "7844af82",
   "metadata": {},
   "outputs": [
    {
     "data": {
      "text/html": [
       "        <script type=\"text/javascript\">\n",
       "        window.PlotlyConfig = {MathJaxConfig: 'local'};\n",
       "        if (window.MathJax) {MathJax.Hub.Config({SVG: {font: \"STIX-Web\"}});}\n",
       "        if (typeof require !== 'undefined') {\n",
       "        require.undef(\"plotly\");\n",
       "        requirejs.config({\n",
       "            paths: {\n",
       "                'plotly': ['https://cdn.plot.ly/plotly-2.6.3.min']\n",
       "            }\n",
       "        });\n",
       "        require(['plotly'], function(Plotly) {\n",
       "            window._Plotly = Plotly;\n",
       "        });\n",
       "        }\n",
       "        </script>\n",
       "        "
      ]
     },
     "metadata": {},
     "output_type": "display_data"
    }
   ],
   "source": [
    "from plotly.offline import init_notebook_mode, iplot\n",
    "init_notebook_mode(connected=True)"
   ]
  },
  {
   "cell_type": "code",
   "execution_count": 3,
   "id": "5b0cae91",
   "metadata": {},
   "outputs": [],
   "source": [
    "data = pd.read_csv('./data/correlation_matrix.csv', index_col=0)"
   ]
  },
  {
   "cell_type": "code",
   "execution_count": 4,
   "id": "f3b2da8f",
   "metadata": {},
   "outputs": [],
   "source": [
    "feature_type_names = {\n",
    "    'age': 'numeric', \n",
    "    'job': 'category',\n",
    "    'marital': 'category', \n",
    "    'education': 'category', \n",
    "    'default': 'category',\n",
    "    'balance': 'numeric', \n",
    "    'housing': 'category',\n",
    "    'loan': 'category',\n",
    "    'contact': 'category', \n",
    "    'day': 'numeric',\n",
    "    'month': 'category',\n",
    "    'duration': 'numeric', \n",
    "    'campaign': 'numeric',\n",
    "    'pdays': 'numeric',\n",
    "    'previous': 'numeric',\n",
    "    'poutcome': 'category',\n",
    "}"
   ]
  },
  {
   "cell_type": "code",
   "execution_count": 5,
   "id": "f60547ef",
   "metadata": {},
   "outputs": [],
   "source": [
    "def plot_correlation_table(data, fig=None, width=500, height=500, colorscale='YlGnBu', reverse_font_color=False):\n",
    "    if fig is None:\n",
    "        fig = go.Figure()\n",
    "\n",
    "    x = data.columns.values.tolist()\n",
    "    y = data.index.values.tolist()\n",
    "    z = np.round(data.values, 2).tolist()\n",
    "\n",
    "    fig.add_trace(\n",
    "        go.Heatmap(\n",
    "            x=x,\n",
    "            y=y,\n",
    "            z=z,\n",
    "            colorscale=colorscale,\n",
    "            showscale=True,\n",
    "            reversescale=False,\n",
    "            zmin=0,\n",
    "            zmax=1,\n",
    "            hovertemplate=\"Corr ( %{x}, %{y} ) = %{z} <extra></extra>\"\n",
    "        )\n",
    "    )\n",
    "\n",
    "    annotation_text = z\n",
    "    annotations = []\n",
    "    for n, row in enumerate(annotation_text):\n",
    "        for m, val in enumerate(row):\n",
    "            font_color = \"#000000\" if (val < 0.5) ^ reverse_font_color else \"#FFFFFF\"\n",
    "            annotations.append(\n",
    "                go.layout.Annotation(\n",
    "                    text=str(annotation_text[n][m]),\n",
    "                    x=x[m],\n",
    "                    y=y[n],\n",
    "                    xref=\"x1\",\n",
    "                    yref=\"y1\",\n",
    "                    font=dict(color=font_color),\n",
    "                    showarrow=False,\n",
    "                )\n",
    "            )\n",
    "\n",
    "\n",
    "    fig.update_layout(\n",
    "        title_text='Correlation',\n",
    "        annotations=annotations,\n",
    "        xaxis = dict(scaleanchor = 'y', constrain='domain'),\n",
    "#         xaxis = dict(scaleanchor = 'y', constrain='range'),\n",
    "        width=width,\n",
    "        height=height,\n",
    "        template='plotly_white',\n",
    "    )\n",
    "    \n",
    "    fig.update_yaxes(autorange='reversed')\n",
    "    fig.update_xaxes(tickangle=-45)\n",
    "\n",
    "    return fig, annotations"
   ]
  },
  {
   "cell_type": "code",
   "execution_count": 6,
   "id": "39007556",
   "metadata": {},
   "outputs": [],
   "source": [
    "def plot_correlation_matrix(data, num_cols=[], cat_cols=[], fig=None, width=500, height=500, colorscale='YlGnBu', reverse_font_color=False):\n",
    "#     cols = num_cols + cat_cols\n",
    "#     _data = {c: {c: np.nan for c in cols} for c in cols}\n",
    "#     df = pd.DataFrame(_data)\n",
    "    df = data.copy(deep=True)\n",
    "    \n",
    "    n_num = len(num_cols)\n",
    "    n_cat = len(cat_cols)\n",
    "    buttons_list = []\n",
    "    \n",
    "#     if n_num > 0:\n",
    "#         num_corr = NumericCorr(method='pearson')(data, num_cols).abs()\n",
    "#         df.loc[num_cols, num_cols] = num_corr\n",
    "#     if n_cat > 0:\n",
    "#         cat_corr = CramersVCorr()(data, cat_cols)\n",
    "#         df.loc[cat_cols, cat_cols] = cat_corr\n",
    "#     if n_num > 0 and n_cat > 0:\n",
    "#         mix_corr = CorrelationRatio()(data, cat_cols, num_cols)\n",
    "#         df.loc[num_cols, cat_cols] = mix_corr\n",
    "#         df.loc[cat_cols, num_cols] = mix_corr.T\n",
    "    \n",
    "    \n",
    "    ticktext = []\n",
    "    for n in num_cols:\n",
    "        ticktext.append(str(n)+' (N)')\n",
    "    for n in cat_cols:\n",
    "        ticktext.append(str(n)+' (C)')\n",
    "        \n",
    "    fig, annotations = plot_correlation_table(df, fig=fig, width=width, height=height, \n",
    "                                 colorscale=colorscale, \n",
    "                                 reverse_font_color=reverse_font_color)\n",
    "    \n",
    "    if n_num > 0 and n_cat > 0:\n",
    "        line_config = dict(color=\"blue\", width = 4)\n",
    "        coor = [-0.5, n_num - 0.5, n_num + n_cat - 0.5]\n",
    "        button_label = ['num-num', 'cat-num', 'num-cat', 'cat-cat']\n",
    "        \n",
    "        shapes = []\n",
    "        buttons_list = [dict(label=\"None\", method=\"relayout\", args=[\"shapes\",[]])]\n",
    "        idx = 0\n",
    "        for i in range(2):\n",
    "            for j in range(2):\n",
    "                shape_ = dict(type=\"rect\", x0=coor[i], y0=coor[j], x1=coor[i+1], y1=coor[j+1],line=line_config)\n",
    "                shapes.append(shape_)\n",
    "                buttons_list.append(dict(label=button_label[idx], method=\"relayout\", args=[\"shapes\",[shape_]]))\n",
    "                idx += 1\n",
    "            \n",
    "    \n",
    "    fig.update_layout(\n",
    "        margin=dict(t=150, b=0, l=270, r=280),\n",
    "        title={\n",
    "            'y':0.99,\n",
    "            'x':0,\n",
    "            'xanchor': 'left',\n",
    "            'yanchor': 'top',\n",
    "            'font': {'size': 22},\n",
    "        },\n",
    "        coloraxis_colorbar=dict(\n",
    "            thicknessmode=\"pixels\", thickness=50,\n",
    "            lenmode=\"pixels\", len=200,\n",
    "            yanchor=\"top\", y=1,\n",
    "            ticks=\"outside\", ticksuffix=\" bills\",\n",
    "            dtick=5\n",
    "        ),\n",
    "        hoverlabel=dict(\n",
    "            bgcolor=\"white\",\n",
    "            font_size=12,\n",
    "            font_family=\"Arial\",\n",
    "        ),\n",
    "        paper_bgcolor='rgba(0,0,0,0)',\n",
    "        plot_bgcolor='rgba(238,238,238,1)',\n",
    "        modebar=dict(\n",
    "            bgcolor='rgba(0,0,0,0)', activecolor='rgba(68,68,68, 0.7)', color='rgba(68, 68, 68, 0.3)',)\n",
    "    )\n",
    "                \n",
    "    fig.update_layout(\n",
    "    updatemenus=[\n",
    "        dict(\n",
    "            type=\"buttons\",\n",
    "            direction='right',\n",
    "            x=0.1,\n",
    "            xanchor=\"left\",\n",
    "            y=1,\n",
    "            yanchor=\"top\",\n",
    "            pad={\"r\": 0, \"t\": -100, 'l': -60},\n",
    "            buttons=buttons_list,\n",
    "            bgcolor='rgba(255,255,255,1)',\n",
    "        ),\n",
    "        dict(\n",
    "            type = \"buttons\",\n",
    "            direction = \"right\",\n",
    "            buttons=list([\n",
    "                dict(\n",
    "                    args=[{\"annotations\": []}],\n",
    "                    args2=[{\"annotations\": annotations}],\n",
    "                    label=\"Show value\",\n",
    "                    method=\"relayout\"\n",
    "                )\n",
    "            ]),\n",
    "            active=1,\n",
    "            x=0.1,\n",
    "            xanchor=\"left\",\n",
    "            y=1,\n",
    "            yanchor=\"top\",\n",
    "            pad={\"r\": 0, \"t\": -50, 'l': -60},\n",
    "            bgcolor='rgba(255,255,255,1)',\n",
    "        ),\n",
    "    ]\n",
    "    )\n",
    "\n",
    "    fig.update_yaxes(\n",
    "        tickmode='array',\n",
    "        tickvals=np.arange(df.shape[1]),\n",
    "        ticktext=ticktext,\n",
    "        fixedrange=True\n",
    "    )\n",
    "    fig.update_xaxes(fixedrange=True)\n",
    "    \n",
    "    return fig"
   ]
  },
  {
   "cell_type": "code",
   "execution_count": 7,
   "id": "53f2025d",
   "metadata": {},
   "outputs": [
    {
     "data": {
      "application/vnd.plotly.v1+json": {
       "config": {
        "displaylogo": false,
        "plotlyServerURL": "https://plot.ly"
       },
       "data": [
        {
         "colorscale": [
          [
           0,
           "rgb(255,255,217)"
          ],
          [
           0.125,
           "rgb(237,248,177)"
          ],
          [
           0.25,
           "rgb(199,233,180)"
          ],
          [
           0.375,
           "rgb(127,205,187)"
          ],
          [
           0.5,
           "rgb(65,182,196)"
          ],
          [
           0.625,
           "rgb(29,145,192)"
          ],
          [
           0.75,
           "rgb(34,94,168)"
          ],
          [
           0.875,
           "rgb(37,52,148)"
          ],
          [
           1,
           "rgb(8,29,88)"
          ]
         ],
         "hovertemplate": "Corr ( %{x}, %{y} ) = %{z} <extra></extra>",
         "reversescale": false,
         "showscale": true,
         "type": "heatmap",
         "x": [
          "age",
          "balance",
          "day",
          "duration",
          "campaign",
          "pdays",
          "previous",
          "job",
          "marital",
          "education",
          "default",
          "housing",
          "loan",
          "contact",
          "month",
          "poutcome"
         ],
         "y": [
          "age",
          "balance",
          "day",
          "duration",
          "campaign",
          "pdays",
          "previous",
          "job",
          "marital",
          "education",
          "default",
          "housing",
          "loan",
          "contact",
          "month",
          "poutcome"
         ],
         "z": [
          [
           1,
           0.1,
           0.01,
           0,
           0,
           0.02,
           0,
           0.5,
           0.43,
           0.22,
           0.02,
           0.19,
           0.02,
           0.17,
           0.16,
           0.04
          ],
          [
           0.1,
           1,
           0,
           0.02,
           0.01,
           0,
           0.02,
           0.1,
           0.03,
           0.09,
           0.07,
           0.07,
           0.08,
           0.05,
           0.16,
           0.04
          ],
          [
           0.01,
           0,
           1,
           0.03,
           0.16,
           0.09,
           0.05,
           0.05,
           0.01,
           0.03,
           0.01,
           0.03,
           0.01,
           0.04,
           0.45,
           0.09
          ],
          [
           0,
           0.02,
           0.03,
           1,
           0.08,
           0,
           0,
           0.04,
           0.02,
           0,
           0.01,
           0.01,
           0.01,
           0.03,
           0.07,
           0.05
          ],
          [
           0,
           0.01,
           0.16,
           0.08,
           1,
           0.09,
           0.03,
           0.06,
           0.03,
           0.02,
           0.02,
           0.02,
           0.01,
           0.06,
           0.23,
           0.11
          ],
          [
           0.02,
           0,
           0.09,
           0,
           0.09,
           1,
           0.45,
           0.06,
           0.03,
           0.02,
           0.03,
           0.12,
           0.02,
           0.25,
           0.29,
           0.88
          ],
          [
           0,
           0.02,
           0.05,
           0,
           0.03,
           0.45,
           1,
           0.04,
           0.02,
           0.03,
           0.02,
           0.04,
           0.01,
           0.15,
           0.18,
           0.54
          ],
          [
           0.5,
           0.1,
           0.05,
           0.04,
           0.06,
           0.06,
           0.04,
           1,
           0.21,
           0.46,
           0.04,
           0.28,
           0.11,
           0.15,
           0.11,
           0.06
          ],
          [
           0.43,
           0.03,
           0.01,
           0.02,
           0.03,
           0.03,
           0.02,
           0.21,
           1,
           0.12,
           0.02,
           0.02,
           0.05,
           0.05,
           0.07,
           0.03
          ],
          [
           0.22,
           0.09,
           0.03,
           0,
           0.02,
           0.02,
           0.03,
           0.46,
           0.12,
           1,
           0.02,
           0.12,
           0.08,
           0.12,
           0.11,
           0.04
          ],
          [
           0.02,
           0.07,
           0.01,
           0.01,
           0.02,
           0.03,
           0.02,
           0.04,
           0.02,
           0.02,
           1,
           0.01,
           0.08,
           0.02,
           0.06,
           0.04
          ],
          [
           0.19,
           0.07,
           0.03,
           0.01,
           0.02,
           0.12,
           0.04,
           0.28,
           0.02,
           0.12,
           0.01,
           1,
           0.04,
           0.21,
           0.5,
           0.14
          ],
          [
           0.02,
           0.08,
           0.01,
           0.01,
           0.01,
           0.02,
           0.01,
           0.11,
           0.05,
           0.08,
           0.08,
           0.04,
           1,
           0.02,
           0.18,
           0.06
          ],
          [
           0.17,
           0.05,
           0.04,
           0.03,
           0.06,
           0.25,
           0.15,
           0.15,
           0.05,
           0.12,
           0.02,
           0.21,
           0.02,
           1,
           0.51,
           0.21
          ],
          [
           0.16,
           0.16,
           0.45,
           0.07,
           0.23,
           0.29,
           0.18,
           0.11,
           0.07,
           0.11,
           0.06,
           0.5,
           0.18,
           0.51,
           1,
           0.21
          ],
          [
           0.04,
           0.04,
           0.09,
           0.05,
           0.11,
           0.88,
           0.54,
           0.06,
           0.03,
           0.04,
           0.04,
           0.14,
           0.06,
           0.21,
           0.21,
           1
          ]
         ],
         "zmax": 1,
         "zmin": 0
        }
       ],
       "layout": {
        "annotations": [
         {
          "font": {
           "color": "#FFFFFF"
          },
          "showarrow": false,
          "text": "1.0",
          "x": "age",
          "xref": "x",
          "y": "age",
          "yref": "y"
         },
         {
          "font": {
           "color": "#000000"
          },
          "showarrow": false,
          "text": "0.1",
          "x": "balance",
          "xref": "x",
          "y": "age",
          "yref": "y"
         },
         {
          "font": {
           "color": "#000000"
          },
          "showarrow": false,
          "text": "0.01",
          "x": "day",
          "xref": "x",
          "y": "age",
          "yref": "y"
         },
         {
          "font": {
           "color": "#000000"
          },
          "showarrow": false,
          "text": "0.0",
          "x": "duration",
          "xref": "x",
          "y": "age",
          "yref": "y"
         },
         {
          "font": {
           "color": "#000000"
          },
          "showarrow": false,
          "text": "0.0",
          "x": "campaign",
          "xref": "x",
          "y": "age",
          "yref": "y"
         },
         {
          "font": {
           "color": "#000000"
          },
          "showarrow": false,
          "text": "0.02",
          "x": "pdays",
          "xref": "x",
          "y": "age",
          "yref": "y"
         },
         {
          "font": {
           "color": "#000000"
          },
          "showarrow": false,
          "text": "0.0",
          "x": "previous",
          "xref": "x",
          "y": "age",
          "yref": "y"
         },
         {
          "font": {
           "color": "#FFFFFF"
          },
          "showarrow": false,
          "text": "0.5",
          "x": "job",
          "xref": "x",
          "y": "age",
          "yref": "y"
         },
         {
          "font": {
           "color": "#000000"
          },
          "showarrow": false,
          "text": "0.43",
          "x": "marital",
          "xref": "x",
          "y": "age",
          "yref": "y"
         },
         {
          "font": {
           "color": "#000000"
          },
          "showarrow": false,
          "text": "0.22",
          "x": "education",
          "xref": "x",
          "y": "age",
          "yref": "y"
         },
         {
          "font": {
           "color": "#000000"
          },
          "showarrow": false,
          "text": "0.02",
          "x": "default",
          "xref": "x",
          "y": "age",
          "yref": "y"
         },
         {
          "font": {
           "color": "#000000"
          },
          "showarrow": false,
          "text": "0.19",
          "x": "housing",
          "xref": "x",
          "y": "age",
          "yref": "y"
         },
         {
          "font": {
           "color": "#000000"
          },
          "showarrow": false,
          "text": "0.02",
          "x": "loan",
          "xref": "x",
          "y": "age",
          "yref": "y"
         },
         {
          "font": {
           "color": "#000000"
          },
          "showarrow": false,
          "text": "0.17",
          "x": "contact",
          "xref": "x",
          "y": "age",
          "yref": "y"
         },
         {
          "font": {
           "color": "#000000"
          },
          "showarrow": false,
          "text": "0.16",
          "x": "month",
          "xref": "x",
          "y": "age",
          "yref": "y"
         },
         {
          "font": {
           "color": "#000000"
          },
          "showarrow": false,
          "text": "0.04",
          "x": "poutcome",
          "xref": "x",
          "y": "age",
          "yref": "y"
         },
         {
          "font": {
           "color": "#000000"
          },
          "showarrow": false,
          "text": "0.1",
          "x": "age",
          "xref": "x",
          "y": "balance",
          "yref": "y"
         },
         {
          "font": {
           "color": "#FFFFFF"
          },
          "showarrow": false,
          "text": "1.0",
          "x": "balance",
          "xref": "x",
          "y": "balance",
          "yref": "y"
         },
         {
          "font": {
           "color": "#000000"
          },
          "showarrow": false,
          "text": "0.0",
          "x": "day",
          "xref": "x",
          "y": "balance",
          "yref": "y"
         },
         {
          "font": {
           "color": "#000000"
          },
          "showarrow": false,
          "text": "0.02",
          "x": "duration",
          "xref": "x",
          "y": "balance",
          "yref": "y"
         },
         {
          "font": {
           "color": "#000000"
          },
          "showarrow": false,
          "text": "0.01",
          "x": "campaign",
          "xref": "x",
          "y": "balance",
          "yref": "y"
         },
         {
          "font": {
           "color": "#000000"
          },
          "showarrow": false,
          "text": "0.0",
          "x": "pdays",
          "xref": "x",
          "y": "balance",
          "yref": "y"
         },
         {
          "font": {
           "color": "#000000"
          },
          "showarrow": false,
          "text": "0.02",
          "x": "previous",
          "xref": "x",
          "y": "balance",
          "yref": "y"
         },
         {
          "font": {
           "color": "#000000"
          },
          "showarrow": false,
          "text": "0.1",
          "x": "job",
          "xref": "x",
          "y": "balance",
          "yref": "y"
         },
         {
          "font": {
           "color": "#000000"
          },
          "showarrow": false,
          "text": "0.03",
          "x": "marital",
          "xref": "x",
          "y": "balance",
          "yref": "y"
         },
         {
          "font": {
           "color": "#000000"
          },
          "showarrow": false,
          "text": "0.09",
          "x": "education",
          "xref": "x",
          "y": "balance",
          "yref": "y"
         },
         {
          "font": {
           "color": "#000000"
          },
          "showarrow": false,
          "text": "0.07",
          "x": "default",
          "xref": "x",
          "y": "balance",
          "yref": "y"
         },
         {
          "font": {
           "color": "#000000"
          },
          "showarrow": false,
          "text": "0.07",
          "x": "housing",
          "xref": "x",
          "y": "balance",
          "yref": "y"
         },
         {
          "font": {
           "color": "#000000"
          },
          "showarrow": false,
          "text": "0.08",
          "x": "loan",
          "xref": "x",
          "y": "balance",
          "yref": "y"
         },
         {
          "font": {
           "color": "#000000"
          },
          "showarrow": false,
          "text": "0.05",
          "x": "contact",
          "xref": "x",
          "y": "balance",
          "yref": "y"
         },
         {
          "font": {
           "color": "#000000"
          },
          "showarrow": false,
          "text": "0.16",
          "x": "month",
          "xref": "x",
          "y": "balance",
          "yref": "y"
         },
         {
          "font": {
           "color": "#000000"
          },
          "showarrow": false,
          "text": "0.04",
          "x": "poutcome",
          "xref": "x",
          "y": "balance",
          "yref": "y"
         },
         {
          "font": {
           "color": "#000000"
          },
          "showarrow": false,
          "text": "0.01",
          "x": "age",
          "xref": "x",
          "y": "day",
          "yref": "y"
         },
         {
          "font": {
           "color": "#000000"
          },
          "showarrow": false,
          "text": "0.0",
          "x": "balance",
          "xref": "x",
          "y": "day",
          "yref": "y"
         },
         {
          "font": {
           "color": "#FFFFFF"
          },
          "showarrow": false,
          "text": "1.0",
          "x": "day",
          "xref": "x",
          "y": "day",
          "yref": "y"
         },
         {
          "font": {
           "color": "#000000"
          },
          "showarrow": false,
          "text": "0.03",
          "x": "duration",
          "xref": "x",
          "y": "day",
          "yref": "y"
         },
         {
          "font": {
           "color": "#000000"
          },
          "showarrow": false,
          "text": "0.16",
          "x": "campaign",
          "xref": "x",
          "y": "day",
          "yref": "y"
         },
         {
          "font": {
           "color": "#000000"
          },
          "showarrow": false,
          "text": "0.09",
          "x": "pdays",
          "xref": "x",
          "y": "day",
          "yref": "y"
         },
         {
          "font": {
           "color": "#000000"
          },
          "showarrow": false,
          "text": "0.05",
          "x": "previous",
          "xref": "x",
          "y": "day",
          "yref": "y"
         },
         {
          "font": {
           "color": "#000000"
          },
          "showarrow": false,
          "text": "0.05",
          "x": "job",
          "xref": "x",
          "y": "day",
          "yref": "y"
         },
         {
          "font": {
           "color": "#000000"
          },
          "showarrow": false,
          "text": "0.01",
          "x": "marital",
          "xref": "x",
          "y": "day",
          "yref": "y"
         },
         {
          "font": {
           "color": "#000000"
          },
          "showarrow": false,
          "text": "0.03",
          "x": "education",
          "xref": "x",
          "y": "day",
          "yref": "y"
         },
         {
          "font": {
           "color": "#000000"
          },
          "showarrow": false,
          "text": "0.01",
          "x": "default",
          "xref": "x",
          "y": "day",
          "yref": "y"
         },
         {
          "font": {
           "color": "#000000"
          },
          "showarrow": false,
          "text": "0.03",
          "x": "housing",
          "xref": "x",
          "y": "day",
          "yref": "y"
         },
         {
          "font": {
           "color": "#000000"
          },
          "showarrow": false,
          "text": "0.01",
          "x": "loan",
          "xref": "x",
          "y": "day",
          "yref": "y"
         },
         {
          "font": {
           "color": "#000000"
          },
          "showarrow": false,
          "text": "0.04",
          "x": "contact",
          "xref": "x",
          "y": "day",
          "yref": "y"
         },
         {
          "font": {
           "color": "#000000"
          },
          "showarrow": false,
          "text": "0.45",
          "x": "month",
          "xref": "x",
          "y": "day",
          "yref": "y"
         },
         {
          "font": {
           "color": "#000000"
          },
          "showarrow": false,
          "text": "0.09",
          "x": "poutcome",
          "xref": "x",
          "y": "day",
          "yref": "y"
         },
         {
          "font": {
           "color": "#000000"
          },
          "showarrow": false,
          "text": "0.0",
          "x": "age",
          "xref": "x",
          "y": "duration",
          "yref": "y"
         },
         {
          "font": {
           "color": "#000000"
          },
          "showarrow": false,
          "text": "0.02",
          "x": "balance",
          "xref": "x",
          "y": "duration",
          "yref": "y"
         },
         {
          "font": {
           "color": "#000000"
          },
          "showarrow": false,
          "text": "0.03",
          "x": "day",
          "xref": "x",
          "y": "duration",
          "yref": "y"
         },
         {
          "font": {
           "color": "#FFFFFF"
          },
          "showarrow": false,
          "text": "1.0",
          "x": "duration",
          "xref": "x",
          "y": "duration",
          "yref": "y"
         },
         {
          "font": {
           "color": "#000000"
          },
          "showarrow": false,
          "text": "0.08",
          "x": "campaign",
          "xref": "x",
          "y": "duration",
          "yref": "y"
         },
         {
          "font": {
           "color": "#000000"
          },
          "showarrow": false,
          "text": "0.0",
          "x": "pdays",
          "xref": "x",
          "y": "duration",
          "yref": "y"
         },
         {
          "font": {
           "color": "#000000"
          },
          "showarrow": false,
          "text": "0.0",
          "x": "previous",
          "xref": "x",
          "y": "duration",
          "yref": "y"
         },
         {
          "font": {
           "color": "#000000"
          },
          "showarrow": false,
          "text": "0.04",
          "x": "job",
          "xref": "x",
          "y": "duration",
          "yref": "y"
         },
         {
          "font": {
           "color": "#000000"
          },
          "showarrow": false,
          "text": "0.02",
          "x": "marital",
          "xref": "x",
          "y": "duration",
          "yref": "y"
         },
         {
          "font": {
           "color": "#000000"
          },
          "showarrow": false,
          "text": "0.0",
          "x": "education",
          "xref": "x",
          "y": "duration",
          "yref": "y"
         },
         {
          "font": {
           "color": "#000000"
          },
          "showarrow": false,
          "text": "0.01",
          "x": "default",
          "xref": "x",
          "y": "duration",
          "yref": "y"
         },
         {
          "font": {
           "color": "#000000"
          },
          "showarrow": false,
          "text": "0.01",
          "x": "housing",
          "xref": "x",
          "y": "duration",
          "yref": "y"
         },
         {
          "font": {
           "color": "#000000"
          },
          "showarrow": false,
          "text": "0.01",
          "x": "loan",
          "xref": "x",
          "y": "duration",
          "yref": "y"
         },
         {
          "font": {
           "color": "#000000"
          },
          "showarrow": false,
          "text": "0.03",
          "x": "contact",
          "xref": "x",
          "y": "duration",
          "yref": "y"
         },
         {
          "font": {
           "color": "#000000"
          },
          "showarrow": false,
          "text": "0.07",
          "x": "month",
          "xref": "x",
          "y": "duration",
          "yref": "y"
         },
         {
          "font": {
           "color": "#000000"
          },
          "showarrow": false,
          "text": "0.05",
          "x": "poutcome",
          "xref": "x",
          "y": "duration",
          "yref": "y"
         },
         {
          "font": {
           "color": "#000000"
          },
          "showarrow": false,
          "text": "0.0",
          "x": "age",
          "xref": "x",
          "y": "campaign",
          "yref": "y"
         },
         {
          "font": {
           "color": "#000000"
          },
          "showarrow": false,
          "text": "0.01",
          "x": "balance",
          "xref": "x",
          "y": "campaign",
          "yref": "y"
         },
         {
          "font": {
           "color": "#000000"
          },
          "showarrow": false,
          "text": "0.16",
          "x": "day",
          "xref": "x",
          "y": "campaign",
          "yref": "y"
         },
         {
          "font": {
           "color": "#000000"
          },
          "showarrow": false,
          "text": "0.08",
          "x": "duration",
          "xref": "x",
          "y": "campaign",
          "yref": "y"
         },
         {
          "font": {
           "color": "#FFFFFF"
          },
          "showarrow": false,
          "text": "1.0",
          "x": "campaign",
          "xref": "x",
          "y": "campaign",
          "yref": "y"
         },
         {
          "font": {
           "color": "#000000"
          },
          "showarrow": false,
          "text": "0.09",
          "x": "pdays",
          "xref": "x",
          "y": "campaign",
          "yref": "y"
         },
         {
          "font": {
           "color": "#000000"
          },
          "showarrow": false,
          "text": "0.03",
          "x": "previous",
          "xref": "x",
          "y": "campaign",
          "yref": "y"
         },
         {
          "font": {
           "color": "#000000"
          },
          "showarrow": false,
          "text": "0.06",
          "x": "job",
          "xref": "x",
          "y": "campaign",
          "yref": "y"
         },
         {
          "font": {
           "color": "#000000"
          },
          "showarrow": false,
          "text": "0.03",
          "x": "marital",
          "xref": "x",
          "y": "campaign",
          "yref": "y"
         },
         {
          "font": {
           "color": "#000000"
          },
          "showarrow": false,
          "text": "0.02",
          "x": "education",
          "xref": "x",
          "y": "campaign",
          "yref": "y"
         },
         {
          "font": {
           "color": "#000000"
          },
          "showarrow": false,
          "text": "0.02",
          "x": "default",
          "xref": "x",
          "y": "campaign",
          "yref": "y"
         },
         {
          "font": {
           "color": "#000000"
          },
          "showarrow": false,
          "text": "0.02",
          "x": "housing",
          "xref": "x",
          "y": "campaign",
          "yref": "y"
         },
         {
          "font": {
           "color": "#000000"
          },
          "showarrow": false,
          "text": "0.01",
          "x": "loan",
          "xref": "x",
          "y": "campaign",
          "yref": "y"
         },
         {
          "font": {
           "color": "#000000"
          },
          "showarrow": false,
          "text": "0.06",
          "x": "contact",
          "xref": "x",
          "y": "campaign",
          "yref": "y"
         },
         {
          "font": {
           "color": "#000000"
          },
          "showarrow": false,
          "text": "0.23",
          "x": "month",
          "xref": "x",
          "y": "campaign",
          "yref": "y"
         },
         {
          "font": {
           "color": "#000000"
          },
          "showarrow": false,
          "text": "0.11",
          "x": "poutcome",
          "xref": "x",
          "y": "campaign",
          "yref": "y"
         },
         {
          "font": {
           "color": "#000000"
          },
          "showarrow": false,
          "text": "0.02",
          "x": "age",
          "xref": "x",
          "y": "pdays",
          "yref": "y"
         },
         {
          "font": {
           "color": "#000000"
          },
          "showarrow": false,
          "text": "0.0",
          "x": "balance",
          "xref": "x",
          "y": "pdays",
          "yref": "y"
         },
         {
          "font": {
           "color": "#000000"
          },
          "showarrow": false,
          "text": "0.09",
          "x": "day",
          "xref": "x",
          "y": "pdays",
          "yref": "y"
         },
         {
          "font": {
           "color": "#000000"
          },
          "showarrow": false,
          "text": "0.0",
          "x": "duration",
          "xref": "x",
          "y": "pdays",
          "yref": "y"
         },
         {
          "font": {
           "color": "#000000"
          },
          "showarrow": false,
          "text": "0.09",
          "x": "campaign",
          "xref": "x",
          "y": "pdays",
          "yref": "y"
         },
         {
          "font": {
           "color": "#FFFFFF"
          },
          "showarrow": false,
          "text": "1.0",
          "x": "pdays",
          "xref": "x",
          "y": "pdays",
          "yref": "y"
         },
         {
          "font": {
           "color": "#000000"
          },
          "showarrow": false,
          "text": "0.45",
          "x": "previous",
          "xref": "x",
          "y": "pdays",
          "yref": "y"
         },
         {
          "font": {
           "color": "#000000"
          },
          "showarrow": false,
          "text": "0.06",
          "x": "job",
          "xref": "x",
          "y": "pdays",
          "yref": "y"
         },
         {
          "font": {
           "color": "#000000"
          },
          "showarrow": false,
          "text": "0.03",
          "x": "marital",
          "xref": "x",
          "y": "pdays",
          "yref": "y"
         },
         {
          "font": {
           "color": "#000000"
          },
          "showarrow": false,
          "text": "0.02",
          "x": "education",
          "xref": "x",
          "y": "pdays",
          "yref": "y"
         },
         {
          "font": {
           "color": "#000000"
          },
          "showarrow": false,
          "text": "0.03",
          "x": "default",
          "xref": "x",
          "y": "pdays",
          "yref": "y"
         },
         {
          "font": {
           "color": "#000000"
          },
          "showarrow": false,
          "text": "0.12",
          "x": "housing",
          "xref": "x",
          "y": "pdays",
          "yref": "y"
         },
         {
          "font": {
           "color": "#000000"
          },
          "showarrow": false,
          "text": "0.02",
          "x": "loan",
          "xref": "x",
          "y": "pdays",
          "yref": "y"
         },
         {
          "font": {
           "color": "#000000"
          },
          "showarrow": false,
          "text": "0.25",
          "x": "contact",
          "xref": "x",
          "y": "pdays",
          "yref": "y"
         },
         {
          "font": {
           "color": "#000000"
          },
          "showarrow": false,
          "text": "0.29",
          "x": "month",
          "xref": "x",
          "y": "pdays",
          "yref": "y"
         },
         {
          "font": {
           "color": "#FFFFFF"
          },
          "showarrow": false,
          "text": "0.88",
          "x": "poutcome",
          "xref": "x",
          "y": "pdays",
          "yref": "y"
         },
         {
          "font": {
           "color": "#000000"
          },
          "showarrow": false,
          "text": "0.0",
          "x": "age",
          "xref": "x",
          "y": "previous",
          "yref": "y"
         },
         {
          "font": {
           "color": "#000000"
          },
          "showarrow": false,
          "text": "0.02",
          "x": "balance",
          "xref": "x",
          "y": "previous",
          "yref": "y"
         },
         {
          "font": {
           "color": "#000000"
          },
          "showarrow": false,
          "text": "0.05",
          "x": "day",
          "xref": "x",
          "y": "previous",
          "yref": "y"
         },
         {
          "font": {
           "color": "#000000"
          },
          "showarrow": false,
          "text": "0.0",
          "x": "duration",
          "xref": "x",
          "y": "previous",
          "yref": "y"
         },
         {
          "font": {
           "color": "#000000"
          },
          "showarrow": false,
          "text": "0.03",
          "x": "campaign",
          "xref": "x",
          "y": "previous",
          "yref": "y"
         },
         {
          "font": {
           "color": "#000000"
          },
          "showarrow": false,
          "text": "0.45",
          "x": "pdays",
          "xref": "x",
          "y": "previous",
          "yref": "y"
         },
         {
          "font": {
           "color": "#FFFFFF"
          },
          "showarrow": false,
          "text": "1.0",
          "x": "previous",
          "xref": "x",
          "y": "previous",
          "yref": "y"
         },
         {
          "font": {
           "color": "#000000"
          },
          "showarrow": false,
          "text": "0.04",
          "x": "job",
          "xref": "x",
          "y": "previous",
          "yref": "y"
         },
         {
          "font": {
           "color": "#000000"
          },
          "showarrow": false,
          "text": "0.02",
          "x": "marital",
          "xref": "x",
          "y": "previous",
          "yref": "y"
         },
         {
          "font": {
           "color": "#000000"
          },
          "showarrow": false,
          "text": "0.03",
          "x": "education",
          "xref": "x",
          "y": "previous",
          "yref": "y"
         },
         {
          "font": {
           "color": "#000000"
          },
          "showarrow": false,
          "text": "0.02",
          "x": "default",
          "xref": "x",
          "y": "previous",
          "yref": "y"
         },
         {
          "font": {
           "color": "#000000"
          },
          "showarrow": false,
          "text": "0.04",
          "x": "housing",
          "xref": "x",
          "y": "previous",
          "yref": "y"
         },
         {
          "font": {
           "color": "#000000"
          },
          "showarrow": false,
          "text": "0.01",
          "x": "loan",
          "xref": "x",
          "y": "previous",
          "yref": "y"
         },
         {
          "font": {
           "color": "#000000"
          },
          "showarrow": false,
          "text": "0.15",
          "x": "contact",
          "xref": "x",
          "y": "previous",
          "yref": "y"
         },
         {
          "font": {
           "color": "#000000"
          },
          "showarrow": false,
          "text": "0.18",
          "x": "month",
          "xref": "x",
          "y": "previous",
          "yref": "y"
         },
         {
          "font": {
           "color": "#FFFFFF"
          },
          "showarrow": false,
          "text": "0.54",
          "x": "poutcome",
          "xref": "x",
          "y": "previous",
          "yref": "y"
         },
         {
          "font": {
           "color": "#FFFFFF"
          },
          "showarrow": false,
          "text": "0.5",
          "x": "age",
          "xref": "x",
          "y": "job",
          "yref": "y"
         },
         {
          "font": {
           "color": "#000000"
          },
          "showarrow": false,
          "text": "0.1",
          "x": "balance",
          "xref": "x",
          "y": "job",
          "yref": "y"
         },
         {
          "font": {
           "color": "#000000"
          },
          "showarrow": false,
          "text": "0.05",
          "x": "day",
          "xref": "x",
          "y": "job",
          "yref": "y"
         },
         {
          "font": {
           "color": "#000000"
          },
          "showarrow": false,
          "text": "0.04",
          "x": "duration",
          "xref": "x",
          "y": "job",
          "yref": "y"
         },
         {
          "font": {
           "color": "#000000"
          },
          "showarrow": false,
          "text": "0.06",
          "x": "campaign",
          "xref": "x",
          "y": "job",
          "yref": "y"
         },
         {
          "font": {
           "color": "#000000"
          },
          "showarrow": false,
          "text": "0.06",
          "x": "pdays",
          "xref": "x",
          "y": "job",
          "yref": "y"
         },
         {
          "font": {
           "color": "#000000"
          },
          "showarrow": false,
          "text": "0.04",
          "x": "previous",
          "xref": "x",
          "y": "job",
          "yref": "y"
         },
         {
          "font": {
           "color": "#FFFFFF"
          },
          "showarrow": false,
          "text": "1.0",
          "x": "job",
          "xref": "x",
          "y": "job",
          "yref": "y"
         },
         {
          "font": {
           "color": "#000000"
          },
          "showarrow": false,
          "text": "0.21",
          "x": "marital",
          "xref": "x",
          "y": "job",
          "yref": "y"
         },
         {
          "font": {
           "color": "#000000"
          },
          "showarrow": false,
          "text": "0.46",
          "x": "education",
          "xref": "x",
          "y": "job",
          "yref": "y"
         },
         {
          "font": {
           "color": "#000000"
          },
          "showarrow": false,
          "text": "0.04",
          "x": "default",
          "xref": "x",
          "y": "job",
          "yref": "y"
         },
         {
          "font": {
           "color": "#000000"
          },
          "showarrow": false,
          "text": "0.28",
          "x": "housing",
          "xref": "x",
          "y": "job",
          "yref": "y"
         },
         {
          "font": {
           "color": "#000000"
          },
          "showarrow": false,
          "text": "0.11",
          "x": "loan",
          "xref": "x",
          "y": "job",
          "yref": "y"
         },
         {
          "font": {
           "color": "#000000"
          },
          "showarrow": false,
          "text": "0.15",
          "x": "contact",
          "xref": "x",
          "y": "job",
          "yref": "y"
         },
         {
          "font": {
           "color": "#000000"
          },
          "showarrow": false,
          "text": "0.11",
          "x": "month",
          "xref": "x",
          "y": "job",
          "yref": "y"
         },
         {
          "font": {
           "color": "#000000"
          },
          "showarrow": false,
          "text": "0.06",
          "x": "poutcome",
          "xref": "x",
          "y": "job",
          "yref": "y"
         },
         {
          "font": {
           "color": "#000000"
          },
          "showarrow": false,
          "text": "0.43",
          "x": "age",
          "xref": "x",
          "y": "marital",
          "yref": "y"
         },
         {
          "font": {
           "color": "#000000"
          },
          "showarrow": false,
          "text": "0.03",
          "x": "balance",
          "xref": "x",
          "y": "marital",
          "yref": "y"
         },
         {
          "font": {
           "color": "#000000"
          },
          "showarrow": false,
          "text": "0.01",
          "x": "day",
          "xref": "x",
          "y": "marital",
          "yref": "y"
         },
         {
          "font": {
           "color": "#000000"
          },
          "showarrow": false,
          "text": "0.02",
          "x": "duration",
          "xref": "x",
          "y": "marital",
          "yref": "y"
         },
         {
          "font": {
           "color": "#000000"
          },
          "showarrow": false,
          "text": "0.03",
          "x": "campaign",
          "xref": "x",
          "y": "marital",
          "yref": "y"
         },
         {
          "font": {
           "color": "#000000"
          },
          "showarrow": false,
          "text": "0.03",
          "x": "pdays",
          "xref": "x",
          "y": "marital",
          "yref": "y"
         },
         {
          "font": {
           "color": "#000000"
          },
          "showarrow": false,
          "text": "0.02",
          "x": "previous",
          "xref": "x",
          "y": "marital",
          "yref": "y"
         },
         {
          "font": {
           "color": "#000000"
          },
          "showarrow": false,
          "text": "0.21",
          "x": "job",
          "xref": "x",
          "y": "marital",
          "yref": "y"
         },
         {
          "font": {
           "color": "#FFFFFF"
          },
          "showarrow": false,
          "text": "1.0",
          "x": "marital",
          "xref": "x",
          "y": "marital",
          "yref": "y"
         },
         {
          "font": {
           "color": "#000000"
          },
          "showarrow": false,
          "text": "0.12",
          "x": "education",
          "xref": "x",
          "y": "marital",
          "yref": "y"
         },
         {
          "font": {
           "color": "#000000"
          },
          "showarrow": false,
          "text": "0.02",
          "x": "default",
          "xref": "x",
          "y": "marital",
          "yref": "y"
         },
         {
          "font": {
           "color": "#000000"
          },
          "showarrow": false,
          "text": "0.02",
          "x": "housing",
          "xref": "x",
          "y": "marital",
          "yref": "y"
         },
         {
          "font": {
           "color": "#000000"
          },
          "showarrow": false,
          "text": "0.05",
          "x": "loan",
          "xref": "x",
          "y": "marital",
          "yref": "y"
         },
         {
          "font": {
           "color": "#000000"
          },
          "showarrow": false,
          "text": "0.05",
          "x": "contact",
          "xref": "x",
          "y": "marital",
          "yref": "y"
         },
         {
          "font": {
           "color": "#000000"
          },
          "showarrow": false,
          "text": "0.07",
          "x": "month",
          "xref": "x",
          "y": "marital",
          "yref": "y"
         },
         {
          "font": {
           "color": "#000000"
          },
          "showarrow": false,
          "text": "0.03",
          "x": "poutcome",
          "xref": "x",
          "y": "marital",
          "yref": "y"
         },
         {
          "font": {
           "color": "#000000"
          },
          "showarrow": false,
          "text": "0.22",
          "x": "age",
          "xref": "x",
          "y": "education",
          "yref": "y"
         },
         {
          "font": {
           "color": "#000000"
          },
          "showarrow": false,
          "text": "0.09",
          "x": "balance",
          "xref": "x",
          "y": "education",
          "yref": "y"
         },
         {
          "font": {
           "color": "#000000"
          },
          "showarrow": false,
          "text": "0.03",
          "x": "day",
          "xref": "x",
          "y": "education",
          "yref": "y"
         },
         {
          "font": {
           "color": "#000000"
          },
          "showarrow": false,
          "text": "0.0",
          "x": "duration",
          "xref": "x",
          "y": "education",
          "yref": "y"
         },
         {
          "font": {
           "color": "#000000"
          },
          "showarrow": false,
          "text": "0.02",
          "x": "campaign",
          "xref": "x",
          "y": "education",
          "yref": "y"
         },
         {
          "font": {
           "color": "#000000"
          },
          "showarrow": false,
          "text": "0.02",
          "x": "pdays",
          "xref": "x",
          "y": "education",
          "yref": "y"
         },
         {
          "font": {
           "color": "#000000"
          },
          "showarrow": false,
          "text": "0.03",
          "x": "previous",
          "xref": "x",
          "y": "education",
          "yref": "y"
         },
         {
          "font": {
           "color": "#000000"
          },
          "showarrow": false,
          "text": "0.46",
          "x": "job",
          "xref": "x",
          "y": "education",
          "yref": "y"
         },
         {
          "font": {
           "color": "#000000"
          },
          "showarrow": false,
          "text": "0.12",
          "x": "marital",
          "xref": "x",
          "y": "education",
          "yref": "y"
         },
         {
          "font": {
           "color": "#FFFFFF"
          },
          "showarrow": false,
          "text": "1.0",
          "x": "education",
          "xref": "x",
          "y": "education",
          "yref": "y"
         },
         {
          "font": {
           "color": "#000000"
          },
          "showarrow": false,
          "text": "0.02",
          "x": "default",
          "xref": "x",
          "y": "education",
          "yref": "y"
         },
         {
          "font": {
           "color": "#000000"
          },
          "showarrow": false,
          "text": "0.12",
          "x": "housing",
          "xref": "x",
          "y": "education",
          "yref": "y"
         },
         {
          "font": {
           "color": "#000000"
          },
          "showarrow": false,
          "text": "0.08",
          "x": "loan",
          "xref": "x",
          "y": "education",
          "yref": "y"
         },
         {
          "font": {
           "color": "#000000"
          },
          "showarrow": false,
          "text": "0.12",
          "x": "contact",
          "xref": "x",
          "y": "education",
          "yref": "y"
         },
         {
          "font": {
           "color": "#000000"
          },
          "showarrow": false,
          "text": "0.11",
          "x": "month",
          "xref": "x",
          "y": "education",
          "yref": "y"
         },
         {
          "font": {
           "color": "#000000"
          },
          "showarrow": false,
          "text": "0.04",
          "x": "poutcome",
          "xref": "x",
          "y": "education",
          "yref": "y"
         },
         {
          "font": {
           "color": "#000000"
          },
          "showarrow": false,
          "text": "0.02",
          "x": "age",
          "xref": "x",
          "y": "default",
          "yref": "y"
         },
         {
          "font": {
           "color": "#000000"
          },
          "showarrow": false,
          "text": "0.07",
          "x": "balance",
          "xref": "x",
          "y": "default",
          "yref": "y"
         },
         {
          "font": {
           "color": "#000000"
          },
          "showarrow": false,
          "text": "0.01",
          "x": "day",
          "xref": "x",
          "y": "default",
          "yref": "y"
         },
         {
          "font": {
           "color": "#000000"
          },
          "showarrow": false,
          "text": "0.01",
          "x": "duration",
          "xref": "x",
          "y": "default",
          "yref": "y"
         },
         {
          "font": {
           "color": "#000000"
          },
          "showarrow": false,
          "text": "0.02",
          "x": "campaign",
          "xref": "x",
          "y": "default",
          "yref": "y"
         },
         {
          "font": {
           "color": "#000000"
          },
          "showarrow": false,
          "text": "0.03",
          "x": "pdays",
          "xref": "x",
          "y": "default",
          "yref": "y"
         },
         {
          "font": {
           "color": "#000000"
          },
          "showarrow": false,
          "text": "0.02",
          "x": "previous",
          "xref": "x",
          "y": "default",
          "yref": "y"
         },
         {
          "font": {
           "color": "#000000"
          },
          "showarrow": false,
          "text": "0.04",
          "x": "job",
          "xref": "x",
          "y": "default",
          "yref": "y"
         },
         {
          "font": {
           "color": "#000000"
          },
          "showarrow": false,
          "text": "0.02",
          "x": "marital",
          "xref": "x",
          "y": "default",
          "yref": "y"
         },
         {
          "font": {
           "color": "#000000"
          },
          "showarrow": false,
          "text": "0.02",
          "x": "education",
          "xref": "x",
          "y": "default",
          "yref": "y"
         },
         {
          "font": {
           "color": "#FFFFFF"
          },
          "showarrow": false,
          "text": "1.0",
          "x": "default",
          "xref": "x",
          "y": "default",
          "yref": "y"
         },
         {
          "font": {
           "color": "#000000"
          },
          "showarrow": false,
          "text": "0.01",
          "x": "housing",
          "xref": "x",
          "y": "default",
          "yref": "y"
         },
         {
          "font": {
           "color": "#000000"
          },
          "showarrow": false,
          "text": "0.08",
          "x": "loan",
          "xref": "x",
          "y": "default",
          "yref": "y"
         },
         {
          "font": {
           "color": "#000000"
          },
          "showarrow": false,
          "text": "0.02",
          "x": "contact",
          "xref": "x",
          "y": "default",
          "yref": "y"
         },
         {
          "font": {
           "color": "#000000"
          },
          "showarrow": false,
          "text": "0.06",
          "x": "month",
          "xref": "x",
          "y": "default",
          "yref": "y"
         },
         {
          "font": {
           "color": "#000000"
          },
          "showarrow": false,
          "text": "0.04",
          "x": "poutcome",
          "xref": "x",
          "y": "default",
          "yref": "y"
         },
         {
          "font": {
           "color": "#000000"
          },
          "showarrow": false,
          "text": "0.19",
          "x": "age",
          "xref": "x",
          "y": "housing",
          "yref": "y"
         },
         {
          "font": {
           "color": "#000000"
          },
          "showarrow": false,
          "text": "0.07",
          "x": "balance",
          "xref": "x",
          "y": "housing",
          "yref": "y"
         },
         {
          "font": {
           "color": "#000000"
          },
          "showarrow": false,
          "text": "0.03",
          "x": "day",
          "xref": "x",
          "y": "housing",
          "yref": "y"
         },
         {
          "font": {
           "color": "#000000"
          },
          "showarrow": false,
          "text": "0.01",
          "x": "duration",
          "xref": "x",
          "y": "housing",
          "yref": "y"
         },
         {
          "font": {
           "color": "#000000"
          },
          "showarrow": false,
          "text": "0.02",
          "x": "campaign",
          "xref": "x",
          "y": "housing",
          "yref": "y"
         },
         {
          "font": {
           "color": "#000000"
          },
          "showarrow": false,
          "text": "0.12",
          "x": "pdays",
          "xref": "x",
          "y": "housing",
          "yref": "y"
         },
         {
          "font": {
           "color": "#000000"
          },
          "showarrow": false,
          "text": "0.04",
          "x": "previous",
          "xref": "x",
          "y": "housing",
          "yref": "y"
         },
         {
          "font": {
           "color": "#000000"
          },
          "showarrow": false,
          "text": "0.28",
          "x": "job",
          "xref": "x",
          "y": "housing",
          "yref": "y"
         },
         {
          "font": {
           "color": "#000000"
          },
          "showarrow": false,
          "text": "0.02",
          "x": "marital",
          "xref": "x",
          "y": "housing",
          "yref": "y"
         },
         {
          "font": {
           "color": "#000000"
          },
          "showarrow": false,
          "text": "0.12",
          "x": "education",
          "xref": "x",
          "y": "housing",
          "yref": "y"
         },
         {
          "font": {
           "color": "#000000"
          },
          "showarrow": false,
          "text": "0.01",
          "x": "default",
          "xref": "x",
          "y": "housing",
          "yref": "y"
         },
         {
          "font": {
           "color": "#FFFFFF"
          },
          "showarrow": false,
          "text": "1.0",
          "x": "housing",
          "xref": "x",
          "y": "housing",
          "yref": "y"
         },
         {
          "font": {
           "color": "#000000"
          },
          "showarrow": false,
          "text": "0.04",
          "x": "loan",
          "xref": "x",
          "y": "housing",
          "yref": "y"
         },
         {
          "font": {
           "color": "#000000"
          },
          "showarrow": false,
          "text": "0.21",
          "x": "contact",
          "xref": "x",
          "y": "housing",
          "yref": "y"
         },
         {
          "font": {
           "color": "#FFFFFF"
          },
          "showarrow": false,
          "text": "0.5",
          "x": "month",
          "xref": "x",
          "y": "housing",
          "yref": "y"
         },
         {
          "font": {
           "color": "#000000"
          },
          "showarrow": false,
          "text": "0.14",
          "x": "poutcome",
          "xref": "x",
          "y": "housing",
          "yref": "y"
         },
         {
          "font": {
           "color": "#000000"
          },
          "showarrow": false,
          "text": "0.02",
          "x": "age",
          "xref": "x",
          "y": "loan",
          "yref": "y"
         },
         {
          "font": {
           "color": "#000000"
          },
          "showarrow": false,
          "text": "0.08",
          "x": "balance",
          "xref": "x",
          "y": "loan",
          "yref": "y"
         },
         {
          "font": {
           "color": "#000000"
          },
          "showarrow": false,
          "text": "0.01",
          "x": "day",
          "xref": "x",
          "y": "loan",
          "yref": "y"
         },
         {
          "font": {
           "color": "#000000"
          },
          "showarrow": false,
          "text": "0.01",
          "x": "duration",
          "xref": "x",
          "y": "loan",
          "yref": "y"
         },
         {
          "font": {
           "color": "#000000"
          },
          "showarrow": false,
          "text": "0.01",
          "x": "campaign",
          "xref": "x",
          "y": "loan",
          "yref": "y"
         },
         {
          "font": {
           "color": "#000000"
          },
          "showarrow": false,
          "text": "0.02",
          "x": "pdays",
          "xref": "x",
          "y": "loan",
          "yref": "y"
         },
         {
          "font": {
           "color": "#000000"
          },
          "showarrow": false,
          "text": "0.01",
          "x": "previous",
          "xref": "x",
          "y": "loan",
          "yref": "y"
         },
         {
          "font": {
           "color": "#000000"
          },
          "showarrow": false,
          "text": "0.11",
          "x": "job",
          "xref": "x",
          "y": "loan",
          "yref": "y"
         },
         {
          "font": {
           "color": "#000000"
          },
          "showarrow": false,
          "text": "0.05",
          "x": "marital",
          "xref": "x",
          "y": "loan",
          "yref": "y"
         },
         {
          "font": {
           "color": "#000000"
          },
          "showarrow": false,
          "text": "0.08",
          "x": "education",
          "xref": "x",
          "y": "loan",
          "yref": "y"
         },
         {
          "font": {
           "color": "#000000"
          },
          "showarrow": false,
          "text": "0.08",
          "x": "default",
          "xref": "x",
          "y": "loan",
          "yref": "y"
         },
         {
          "font": {
           "color": "#000000"
          },
          "showarrow": false,
          "text": "0.04",
          "x": "housing",
          "xref": "x",
          "y": "loan",
          "yref": "y"
         },
         {
          "font": {
           "color": "#FFFFFF"
          },
          "showarrow": false,
          "text": "1.0",
          "x": "loan",
          "xref": "x",
          "y": "loan",
          "yref": "y"
         },
         {
          "font": {
           "color": "#000000"
          },
          "showarrow": false,
          "text": "0.02",
          "x": "contact",
          "xref": "x",
          "y": "loan",
          "yref": "y"
         },
         {
          "font": {
           "color": "#000000"
          },
          "showarrow": false,
          "text": "0.18",
          "x": "month",
          "xref": "x",
          "y": "loan",
          "yref": "y"
         },
         {
          "font": {
           "color": "#000000"
          },
          "showarrow": false,
          "text": "0.06",
          "x": "poutcome",
          "xref": "x",
          "y": "loan",
          "yref": "y"
         },
         {
          "font": {
           "color": "#000000"
          },
          "showarrow": false,
          "text": "0.17",
          "x": "age",
          "xref": "x",
          "y": "contact",
          "yref": "y"
         },
         {
          "font": {
           "color": "#000000"
          },
          "showarrow": false,
          "text": "0.05",
          "x": "balance",
          "xref": "x",
          "y": "contact",
          "yref": "y"
         },
         {
          "font": {
           "color": "#000000"
          },
          "showarrow": false,
          "text": "0.04",
          "x": "day",
          "xref": "x",
          "y": "contact",
          "yref": "y"
         },
         {
          "font": {
           "color": "#000000"
          },
          "showarrow": false,
          "text": "0.03",
          "x": "duration",
          "xref": "x",
          "y": "contact",
          "yref": "y"
         },
         {
          "font": {
           "color": "#000000"
          },
          "showarrow": false,
          "text": "0.06",
          "x": "campaign",
          "xref": "x",
          "y": "contact",
          "yref": "y"
         },
         {
          "font": {
           "color": "#000000"
          },
          "showarrow": false,
          "text": "0.25",
          "x": "pdays",
          "xref": "x",
          "y": "contact",
          "yref": "y"
         },
         {
          "font": {
           "color": "#000000"
          },
          "showarrow": false,
          "text": "0.15",
          "x": "previous",
          "xref": "x",
          "y": "contact",
          "yref": "y"
         },
         {
          "font": {
           "color": "#000000"
          },
          "showarrow": false,
          "text": "0.15",
          "x": "job",
          "xref": "x",
          "y": "contact",
          "yref": "y"
         },
         {
          "font": {
           "color": "#000000"
          },
          "showarrow": false,
          "text": "0.05",
          "x": "marital",
          "xref": "x",
          "y": "contact",
          "yref": "y"
         },
         {
          "font": {
           "color": "#000000"
          },
          "showarrow": false,
          "text": "0.12",
          "x": "education",
          "xref": "x",
          "y": "contact",
          "yref": "y"
         },
         {
          "font": {
           "color": "#000000"
          },
          "showarrow": false,
          "text": "0.02",
          "x": "default",
          "xref": "x",
          "y": "contact",
          "yref": "y"
         },
         {
          "font": {
           "color": "#000000"
          },
          "showarrow": false,
          "text": "0.21",
          "x": "housing",
          "xref": "x",
          "y": "contact",
          "yref": "y"
         },
         {
          "font": {
           "color": "#000000"
          },
          "showarrow": false,
          "text": "0.02",
          "x": "loan",
          "xref": "x",
          "y": "contact",
          "yref": "y"
         },
         {
          "font": {
           "color": "#FFFFFF"
          },
          "showarrow": false,
          "text": "1.0",
          "x": "contact",
          "xref": "x",
          "y": "contact",
          "yref": "y"
         },
         {
          "font": {
           "color": "#FFFFFF"
          },
          "showarrow": false,
          "text": "0.51",
          "x": "month",
          "xref": "x",
          "y": "contact",
          "yref": "y"
         },
         {
          "font": {
           "color": "#000000"
          },
          "showarrow": false,
          "text": "0.21",
          "x": "poutcome",
          "xref": "x",
          "y": "contact",
          "yref": "y"
         },
         {
          "font": {
           "color": "#000000"
          },
          "showarrow": false,
          "text": "0.16",
          "x": "age",
          "xref": "x",
          "y": "month",
          "yref": "y"
         },
         {
          "font": {
           "color": "#000000"
          },
          "showarrow": false,
          "text": "0.16",
          "x": "balance",
          "xref": "x",
          "y": "month",
          "yref": "y"
         },
         {
          "font": {
           "color": "#000000"
          },
          "showarrow": false,
          "text": "0.45",
          "x": "day",
          "xref": "x",
          "y": "month",
          "yref": "y"
         },
         {
          "font": {
           "color": "#000000"
          },
          "showarrow": false,
          "text": "0.07",
          "x": "duration",
          "xref": "x",
          "y": "month",
          "yref": "y"
         },
         {
          "font": {
           "color": "#000000"
          },
          "showarrow": false,
          "text": "0.23",
          "x": "campaign",
          "xref": "x",
          "y": "month",
          "yref": "y"
         },
         {
          "font": {
           "color": "#000000"
          },
          "showarrow": false,
          "text": "0.29",
          "x": "pdays",
          "xref": "x",
          "y": "month",
          "yref": "y"
         },
         {
          "font": {
           "color": "#000000"
          },
          "showarrow": false,
          "text": "0.18",
          "x": "previous",
          "xref": "x",
          "y": "month",
          "yref": "y"
         },
         {
          "font": {
           "color": "#000000"
          },
          "showarrow": false,
          "text": "0.11",
          "x": "job",
          "xref": "x",
          "y": "month",
          "yref": "y"
         },
         {
          "font": {
           "color": "#000000"
          },
          "showarrow": false,
          "text": "0.07",
          "x": "marital",
          "xref": "x",
          "y": "month",
          "yref": "y"
         },
         {
          "font": {
           "color": "#000000"
          },
          "showarrow": false,
          "text": "0.11",
          "x": "education",
          "xref": "x",
          "y": "month",
          "yref": "y"
         },
         {
          "font": {
           "color": "#000000"
          },
          "showarrow": false,
          "text": "0.06",
          "x": "default",
          "xref": "x",
          "y": "month",
          "yref": "y"
         },
         {
          "font": {
           "color": "#FFFFFF"
          },
          "showarrow": false,
          "text": "0.5",
          "x": "housing",
          "xref": "x",
          "y": "month",
          "yref": "y"
         },
         {
          "font": {
           "color": "#000000"
          },
          "showarrow": false,
          "text": "0.18",
          "x": "loan",
          "xref": "x",
          "y": "month",
          "yref": "y"
         },
         {
          "font": {
           "color": "#FFFFFF"
          },
          "showarrow": false,
          "text": "0.51",
          "x": "contact",
          "xref": "x",
          "y": "month",
          "yref": "y"
         },
         {
          "font": {
           "color": "#FFFFFF"
          },
          "showarrow": false,
          "text": "1.0",
          "x": "month",
          "xref": "x",
          "y": "month",
          "yref": "y"
         },
         {
          "font": {
           "color": "#000000"
          },
          "showarrow": false,
          "text": "0.21",
          "x": "poutcome",
          "xref": "x",
          "y": "month",
          "yref": "y"
         },
         {
          "font": {
           "color": "#000000"
          },
          "showarrow": false,
          "text": "0.04",
          "x": "age",
          "xref": "x",
          "y": "poutcome",
          "yref": "y"
         },
         {
          "font": {
           "color": "#000000"
          },
          "showarrow": false,
          "text": "0.04",
          "x": "balance",
          "xref": "x",
          "y": "poutcome",
          "yref": "y"
         },
         {
          "font": {
           "color": "#000000"
          },
          "showarrow": false,
          "text": "0.09",
          "x": "day",
          "xref": "x",
          "y": "poutcome",
          "yref": "y"
         },
         {
          "font": {
           "color": "#000000"
          },
          "showarrow": false,
          "text": "0.05",
          "x": "duration",
          "xref": "x",
          "y": "poutcome",
          "yref": "y"
         },
         {
          "font": {
           "color": "#000000"
          },
          "showarrow": false,
          "text": "0.11",
          "x": "campaign",
          "xref": "x",
          "y": "poutcome",
          "yref": "y"
         },
         {
          "font": {
           "color": "#FFFFFF"
          },
          "showarrow": false,
          "text": "0.88",
          "x": "pdays",
          "xref": "x",
          "y": "poutcome",
          "yref": "y"
         },
         {
          "font": {
           "color": "#FFFFFF"
          },
          "showarrow": false,
          "text": "0.54",
          "x": "previous",
          "xref": "x",
          "y": "poutcome",
          "yref": "y"
         },
         {
          "font": {
           "color": "#000000"
          },
          "showarrow": false,
          "text": "0.06",
          "x": "job",
          "xref": "x",
          "y": "poutcome",
          "yref": "y"
         },
         {
          "font": {
           "color": "#000000"
          },
          "showarrow": false,
          "text": "0.03",
          "x": "marital",
          "xref": "x",
          "y": "poutcome",
          "yref": "y"
         },
         {
          "font": {
           "color": "#000000"
          },
          "showarrow": false,
          "text": "0.04",
          "x": "education",
          "xref": "x",
          "y": "poutcome",
          "yref": "y"
         },
         {
          "font": {
           "color": "#000000"
          },
          "showarrow": false,
          "text": "0.04",
          "x": "default",
          "xref": "x",
          "y": "poutcome",
          "yref": "y"
         },
         {
          "font": {
           "color": "#000000"
          },
          "showarrow": false,
          "text": "0.14",
          "x": "housing",
          "xref": "x",
          "y": "poutcome",
          "yref": "y"
         },
         {
          "font": {
           "color": "#000000"
          },
          "showarrow": false,
          "text": "0.06",
          "x": "loan",
          "xref": "x",
          "y": "poutcome",
          "yref": "y"
         },
         {
          "font": {
           "color": "#000000"
          },
          "showarrow": false,
          "text": "0.21",
          "x": "contact",
          "xref": "x",
          "y": "poutcome",
          "yref": "y"
         },
         {
          "font": {
           "color": "#000000"
          },
          "showarrow": false,
          "text": "0.21",
          "x": "month",
          "xref": "x",
          "y": "poutcome",
          "yref": "y"
         },
         {
          "font": {
           "color": "#FFFFFF"
          },
          "showarrow": false,
          "text": "1.0",
          "x": "poutcome",
          "xref": "x",
          "y": "poutcome",
          "yref": "y"
         }
        ],
        "coloraxis": {
         "colorbar": {
          "dtick": 5,
          "len": 200,
          "lenmode": "pixels",
          "thickness": 50,
          "thicknessmode": "pixels",
          "ticks": "outside",
          "ticksuffix": " bills",
          "y": 1,
          "yanchor": "top"
         }
        },
        "height": 766,
        "hoverlabel": {
         "bgcolor": "white",
         "font": {
          "family": "Arial",
          "size": 12
         }
        },
        "margin": {
         "b": 0,
         "l": 270,
         "r": 280,
         "t": 150
        },
        "modebar": {
         "activecolor": "rgba(68,68,68, 0.7)",
         "bgcolor": "rgba(0,0,0,0)",
         "color": "rgba(68, 68, 68, 0.3)"
        },
        "paper_bgcolor": "rgba(0,0,0,0)",
        "plot_bgcolor": "rgba(238,238,238,1)",
        "template": {
         "data": {
          "bar": [
           {
            "error_x": {
             "color": "#2a3f5f"
            },
            "error_y": {
             "color": "#2a3f5f"
            },
            "marker": {
             "line": {
              "color": "white",
              "width": 0.5
             },
             "pattern": {
              "fillmode": "overlay",
              "size": 10,
              "solidity": 0.2
             }
            },
            "type": "bar"
           }
          ],
          "barpolar": [
           {
            "marker": {
             "line": {
              "color": "white",
              "width": 0.5
             },
             "pattern": {
              "fillmode": "overlay",
              "size": 10,
              "solidity": 0.2
             }
            },
            "type": "barpolar"
           }
          ],
          "carpet": [
           {
            "aaxis": {
             "endlinecolor": "#2a3f5f",
             "gridcolor": "#C8D4E3",
             "linecolor": "#C8D4E3",
             "minorgridcolor": "#C8D4E3",
             "startlinecolor": "#2a3f5f"
            },
            "baxis": {
             "endlinecolor": "#2a3f5f",
             "gridcolor": "#C8D4E3",
             "linecolor": "#C8D4E3",
             "minorgridcolor": "#C8D4E3",
             "startlinecolor": "#2a3f5f"
            },
            "type": "carpet"
           }
          ],
          "choropleth": [
           {
            "colorbar": {
             "outlinewidth": 0,
             "ticks": ""
            },
            "type": "choropleth"
           }
          ],
          "contour": [
           {
            "colorbar": {
             "outlinewidth": 0,
             "ticks": ""
            },
            "colorscale": [
             [
              0,
              "#0d0887"
             ],
             [
              0.1111111111111111,
              "#46039f"
             ],
             [
              0.2222222222222222,
              "#7201a8"
             ],
             [
              0.3333333333333333,
              "#9c179e"
             ],
             [
              0.4444444444444444,
              "#bd3786"
             ],
             [
              0.5555555555555556,
              "#d8576b"
             ],
             [
              0.6666666666666666,
              "#ed7953"
             ],
             [
              0.7777777777777778,
              "#fb9f3a"
             ],
             [
              0.8888888888888888,
              "#fdca26"
             ],
             [
              1,
              "#f0f921"
             ]
            ],
            "type": "contour"
           }
          ],
          "contourcarpet": [
           {
            "colorbar": {
             "outlinewidth": 0,
             "ticks": ""
            },
            "type": "contourcarpet"
           }
          ],
          "heatmap": [
           {
            "colorbar": {
             "outlinewidth": 0,
             "ticks": ""
            },
            "colorscale": [
             [
              0,
              "#0d0887"
             ],
             [
              0.1111111111111111,
              "#46039f"
             ],
             [
              0.2222222222222222,
              "#7201a8"
             ],
             [
              0.3333333333333333,
              "#9c179e"
             ],
             [
              0.4444444444444444,
              "#bd3786"
             ],
             [
              0.5555555555555556,
              "#d8576b"
             ],
             [
              0.6666666666666666,
              "#ed7953"
             ],
             [
              0.7777777777777778,
              "#fb9f3a"
             ],
             [
              0.8888888888888888,
              "#fdca26"
             ],
             [
              1,
              "#f0f921"
             ]
            ],
            "type": "heatmap"
           }
          ],
          "heatmapgl": [
           {
            "colorbar": {
             "outlinewidth": 0,
             "ticks": ""
            },
            "colorscale": [
             [
              0,
              "#0d0887"
             ],
             [
              0.1111111111111111,
              "#46039f"
             ],
             [
              0.2222222222222222,
              "#7201a8"
             ],
             [
              0.3333333333333333,
              "#9c179e"
             ],
             [
              0.4444444444444444,
              "#bd3786"
             ],
             [
              0.5555555555555556,
              "#d8576b"
             ],
             [
              0.6666666666666666,
              "#ed7953"
             ],
             [
              0.7777777777777778,
              "#fb9f3a"
             ],
             [
              0.8888888888888888,
              "#fdca26"
             ],
             [
              1,
              "#f0f921"
             ]
            ],
            "type": "heatmapgl"
           }
          ],
          "histogram": [
           {
            "marker": {
             "pattern": {
              "fillmode": "overlay",
              "size": 10,
              "solidity": 0.2
             }
            },
            "type": "histogram"
           }
          ],
          "histogram2d": [
           {
            "colorbar": {
             "outlinewidth": 0,
             "ticks": ""
            },
            "colorscale": [
             [
              0,
              "#0d0887"
             ],
             [
              0.1111111111111111,
              "#46039f"
             ],
             [
              0.2222222222222222,
              "#7201a8"
             ],
             [
              0.3333333333333333,
              "#9c179e"
             ],
             [
              0.4444444444444444,
              "#bd3786"
             ],
             [
              0.5555555555555556,
              "#d8576b"
             ],
             [
              0.6666666666666666,
              "#ed7953"
             ],
             [
              0.7777777777777778,
              "#fb9f3a"
             ],
             [
              0.8888888888888888,
              "#fdca26"
             ],
             [
              1,
              "#f0f921"
             ]
            ],
            "type": "histogram2d"
           }
          ],
          "histogram2dcontour": [
           {
            "colorbar": {
             "outlinewidth": 0,
             "ticks": ""
            },
            "colorscale": [
             [
              0,
              "#0d0887"
             ],
             [
              0.1111111111111111,
              "#46039f"
             ],
             [
              0.2222222222222222,
              "#7201a8"
             ],
             [
              0.3333333333333333,
              "#9c179e"
             ],
             [
              0.4444444444444444,
              "#bd3786"
             ],
             [
              0.5555555555555556,
              "#d8576b"
             ],
             [
              0.6666666666666666,
              "#ed7953"
             ],
             [
              0.7777777777777778,
              "#fb9f3a"
             ],
             [
              0.8888888888888888,
              "#fdca26"
             ],
             [
              1,
              "#f0f921"
             ]
            ],
            "type": "histogram2dcontour"
           }
          ],
          "mesh3d": [
           {
            "colorbar": {
             "outlinewidth": 0,
             "ticks": ""
            },
            "type": "mesh3d"
           }
          ],
          "parcoords": [
           {
            "line": {
             "colorbar": {
              "outlinewidth": 0,
              "ticks": ""
             }
            },
            "type": "parcoords"
           }
          ],
          "pie": [
           {
            "automargin": true,
            "type": "pie"
           }
          ],
          "scatter": [
           {
            "marker": {
             "colorbar": {
              "outlinewidth": 0,
              "ticks": ""
             }
            },
            "type": "scatter"
           }
          ],
          "scatter3d": [
           {
            "line": {
             "colorbar": {
              "outlinewidth": 0,
              "ticks": ""
             }
            },
            "marker": {
             "colorbar": {
              "outlinewidth": 0,
              "ticks": ""
             }
            },
            "type": "scatter3d"
           }
          ],
          "scattercarpet": [
           {
            "marker": {
             "colorbar": {
              "outlinewidth": 0,
              "ticks": ""
             }
            },
            "type": "scattercarpet"
           }
          ],
          "scattergeo": [
           {
            "marker": {
             "colorbar": {
              "outlinewidth": 0,
              "ticks": ""
             }
            },
            "type": "scattergeo"
           }
          ],
          "scattergl": [
           {
            "marker": {
             "colorbar": {
              "outlinewidth": 0,
              "ticks": ""
             }
            },
            "type": "scattergl"
           }
          ],
          "scattermapbox": [
           {
            "marker": {
             "colorbar": {
              "outlinewidth": 0,
              "ticks": ""
             }
            },
            "type": "scattermapbox"
           }
          ],
          "scatterpolar": [
           {
            "marker": {
             "colorbar": {
              "outlinewidth": 0,
              "ticks": ""
             }
            },
            "type": "scatterpolar"
           }
          ],
          "scatterpolargl": [
           {
            "marker": {
             "colorbar": {
              "outlinewidth": 0,
              "ticks": ""
             }
            },
            "type": "scatterpolargl"
           }
          ],
          "scatterternary": [
           {
            "marker": {
             "colorbar": {
              "outlinewidth": 0,
              "ticks": ""
             }
            },
            "type": "scatterternary"
           }
          ],
          "surface": [
           {
            "colorbar": {
             "outlinewidth": 0,
             "ticks": ""
            },
            "colorscale": [
             [
              0,
              "#0d0887"
             ],
             [
              0.1111111111111111,
              "#46039f"
             ],
             [
              0.2222222222222222,
              "#7201a8"
             ],
             [
              0.3333333333333333,
              "#9c179e"
             ],
             [
              0.4444444444444444,
              "#bd3786"
             ],
             [
              0.5555555555555556,
              "#d8576b"
             ],
             [
              0.6666666666666666,
              "#ed7953"
             ],
             [
              0.7777777777777778,
              "#fb9f3a"
             ],
             [
              0.8888888888888888,
              "#fdca26"
             ],
             [
              1,
              "#f0f921"
             ]
            ],
            "type": "surface"
           }
          ],
          "table": [
           {
            "cells": {
             "fill": {
              "color": "#EBF0F8"
             },
             "line": {
              "color": "white"
             }
            },
            "header": {
             "fill": {
              "color": "#C8D4E3"
             },
             "line": {
              "color": "white"
             }
            },
            "type": "table"
           }
          ]
         },
         "layout": {
          "annotationdefaults": {
           "arrowcolor": "#2a3f5f",
           "arrowhead": 0,
           "arrowwidth": 1
          },
          "autotypenumbers": "strict",
          "coloraxis": {
           "colorbar": {
            "outlinewidth": 0,
            "ticks": ""
           }
          },
          "colorscale": {
           "diverging": [
            [
             0,
             "#8e0152"
            ],
            [
             0.1,
             "#c51b7d"
            ],
            [
             0.2,
             "#de77ae"
            ],
            [
             0.3,
             "#f1b6da"
            ],
            [
             0.4,
             "#fde0ef"
            ],
            [
             0.5,
             "#f7f7f7"
            ],
            [
             0.6,
             "#e6f5d0"
            ],
            [
             0.7,
             "#b8e186"
            ],
            [
             0.8,
             "#7fbc41"
            ],
            [
             0.9,
             "#4d9221"
            ],
            [
             1,
             "#276419"
            ]
           ],
           "sequential": [
            [
             0,
             "#0d0887"
            ],
            [
             0.1111111111111111,
             "#46039f"
            ],
            [
             0.2222222222222222,
             "#7201a8"
            ],
            [
             0.3333333333333333,
             "#9c179e"
            ],
            [
             0.4444444444444444,
             "#bd3786"
            ],
            [
             0.5555555555555556,
             "#d8576b"
            ],
            [
             0.6666666666666666,
             "#ed7953"
            ],
            [
             0.7777777777777778,
             "#fb9f3a"
            ],
            [
             0.8888888888888888,
             "#fdca26"
            ],
            [
             1,
             "#f0f921"
            ]
           ],
           "sequentialminus": [
            [
             0,
             "#0d0887"
            ],
            [
             0.1111111111111111,
             "#46039f"
            ],
            [
             0.2222222222222222,
             "#7201a8"
            ],
            [
             0.3333333333333333,
             "#9c179e"
            ],
            [
             0.4444444444444444,
             "#bd3786"
            ],
            [
             0.5555555555555556,
             "#d8576b"
            ],
            [
             0.6666666666666666,
             "#ed7953"
            ],
            [
             0.7777777777777778,
             "#fb9f3a"
            ],
            [
             0.8888888888888888,
             "#fdca26"
            ],
            [
             1,
             "#f0f921"
            ]
           ]
          },
          "colorway": [
           "#636efa",
           "#EF553B",
           "#00cc96",
           "#ab63fa",
           "#FFA15A",
           "#19d3f3",
           "#FF6692",
           "#B6E880",
           "#FF97FF",
           "#FECB52"
          ],
          "font": {
           "color": "#2a3f5f"
          },
          "geo": {
           "bgcolor": "white",
           "lakecolor": "white",
           "landcolor": "white",
           "showlakes": true,
           "showland": true,
           "subunitcolor": "#C8D4E3"
          },
          "hoverlabel": {
           "align": "left"
          },
          "hovermode": "closest",
          "mapbox": {
           "style": "light"
          },
          "paper_bgcolor": "white",
          "plot_bgcolor": "white",
          "polar": {
           "angularaxis": {
            "gridcolor": "#EBF0F8",
            "linecolor": "#EBF0F8",
            "ticks": ""
           },
           "bgcolor": "white",
           "radialaxis": {
            "gridcolor": "#EBF0F8",
            "linecolor": "#EBF0F8",
            "ticks": ""
           }
          },
          "scene": {
           "xaxis": {
            "backgroundcolor": "white",
            "gridcolor": "#DFE8F3",
            "gridwidth": 2,
            "linecolor": "#EBF0F8",
            "showbackground": true,
            "ticks": "",
            "zerolinecolor": "#EBF0F8"
           },
           "yaxis": {
            "backgroundcolor": "white",
            "gridcolor": "#DFE8F3",
            "gridwidth": 2,
            "linecolor": "#EBF0F8",
            "showbackground": true,
            "ticks": "",
            "zerolinecolor": "#EBF0F8"
           },
           "zaxis": {
            "backgroundcolor": "white",
            "gridcolor": "#DFE8F3",
            "gridwidth": 2,
            "linecolor": "#EBF0F8",
            "showbackground": true,
            "ticks": "",
            "zerolinecolor": "#EBF0F8"
           }
          },
          "shapedefaults": {
           "line": {
            "color": "#2a3f5f"
           }
          },
          "ternary": {
           "aaxis": {
            "gridcolor": "#DFE8F3",
            "linecolor": "#A2B1C6",
            "ticks": ""
           },
           "baxis": {
            "gridcolor": "#DFE8F3",
            "linecolor": "#A2B1C6",
            "ticks": ""
           },
           "bgcolor": "white",
           "caxis": {
            "gridcolor": "#DFE8F3",
            "linecolor": "#A2B1C6",
            "ticks": ""
           }
          },
          "title": {
           "x": 0.05
          },
          "xaxis": {
           "automargin": true,
           "gridcolor": "#EBF0F8",
           "linecolor": "#EBF0F8",
           "ticks": "",
           "title": {
            "standoff": 15
           },
           "zerolinecolor": "#EBF0F8",
           "zerolinewidth": 2
          },
          "yaxis": {
           "automargin": true,
           "gridcolor": "#EBF0F8",
           "linecolor": "#EBF0F8",
           "ticks": "",
           "title": {
            "standoff": 15
           },
           "zerolinecolor": "#EBF0F8",
           "zerolinewidth": 2
          }
         }
        },
        "title": {
         "font": {
          "size": 22
         },
         "text": "Correlation",
         "x": 0,
         "xanchor": "left",
         "y": 0.99,
         "yanchor": "top"
        },
        "updatemenus": [
         {
          "bgcolor": "rgba(255,255,255,1)",
          "buttons": [
           {
            "args": [
             "shapes",
             []
            ],
            "label": "None",
            "method": "relayout"
           },
           {
            "args": [
             "shapes",
             [
              {
               "line": {
                "color": "blue",
                "width": 4
               },
               "type": "rect",
               "x0": -0.5,
               "x1": 6.5,
               "y0": -0.5,
               "y1": 6.5
              }
             ]
            ],
            "label": "num-num",
            "method": "relayout"
           },
           {
            "args": [
             "shapes",
             [
              {
               "line": {
                "color": "blue",
                "width": 4
               },
               "type": "rect",
               "x0": -0.5,
               "x1": 6.5,
               "y0": 6.5,
               "y1": 15.5
              }
             ]
            ],
            "label": "cat-num",
            "method": "relayout"
           },
           {
            "args": [
             "shapes",
             [
              {
               "line": {
                "color": "blue",
                "width": 4
               },
               "type": "rect",
               "x0": 6.5,
               "x1": 15.5,
               "y0": -0.5,
               "y1": 6.5
              }
             ]
            ],
            "label": "num-cat",
            "method": "relayout"
           },
           {
            "args": [
             "shapes",
             [
              {
               "line": {
                "color": "blue",
                "width": 4
               },
               "type": "rect",
               "x0": 6.5,
               "x1": 15.5,
               "y0": 6.5,
               "y1": 15.5
              }
             ]
            ],
            "label": "cat-cat",
            "method": "relayout"
           }
          ],
          "direction": "right",
          "pad": {
           "l": -60,
           "r": 0,
           "t": -100
          },
          "type": "buttons",
          "x": 0.1,
          "xanchor": "left",
          "y": 1,
          "yanchor": "top"
         },
         {
          "active": 1,
          "bgcolor": "rgba(255,255,255,1)",
          "buttons": [
           {
            "args": [
             {
              "annotations": []
             }
            ],
            "args2": [
             {
              "annotations": [
               {
                "font": {
                 "color": "#FFFFFF"
                },
                "showarrow": false,
                "text": "1.0",
                "x": "age",
                "xref": "x",
                "y": "age",
                "yref": "y"
               },
               {
                "font": {
                 "color": "#000000"
                },
                "showarrow": false,
                "text": "0.1",
                "x": "balance",
                "xref": "x",
                "y": "age",
                "yref": "y"
               },
               {
                "font": {
                 "color": "#000000"
                },
                "showarrow": false,
                "text": "0.01",
                "x": "day",
                "xref": "x",
                "y": "age",
                "yref": "y"
               },
               {
                "font": {
                 "color": "#000000"
                },
                "showarrow": false,
                "text": "0.0",
                "x": "duration",
                "xref": "x",
                "y": "age",
                "yref": "y"
               },
               {
                "font": {
                 "color": "#000000"
                },
                "showarrow": false,
                "text": "0.0",
                "x": "campaign",
                "xref": "x",
                "y": "age",
                "yref": "y"
               },
               {
                "font": {
                 "color": "#000000"
                },
                "showarrow": false,
                "text": "0.02",
                "x": "pdays",
                "xref": "x",
                "y": "age",
                "yref": "y"
               },
               {
                "font": {
                 "color": "#000000"
                },
                "showarrow": false,
                "text": "0.0",
                "x": "previous",
                "xref": "x",
                "y": "age",
                "yref": "y"
               },
               {
                "font": {
                 "color": "#FFFFFF"
                },
                "showarrow": false,
                "text": "0.5",
                "x": "job",
                "xref": "x",
                "y": "age",
                "yref": "y"
               },
               {
                "font": {
                 "color": "#000000"
                },
                "showarrow": false,
                "text": "0.43",
                "x": "marital",
                "xref": "x",
                "y": "age",
                "yref": "y"
               },
               {
                "font": {
                 "color": "#000000"
                },
                "showarrow": false,
                "text": "0.22",
                "x": "education",
                "xref": "x",
                "y": "age",
                "yref": "y"
               },
               {
                "font": {
                 "color": "#000000"
                },
                "showarrow": false,
                "text": "0.02",
                "x": "default",
                "xref": "x",
                "y": "age",
                "yref": "y"
               },
               {
                "font": {
                 "color": "#000000"
                },
                "showarrow": false,
                "text": "0.19",
                "x": "housing",
                "xref": "x",
                "y": "age",
                "yref": "y"
               },
               {
                "font": {
                 "color": "#000000"
                },
                "showarrow": false,
                "text": "0.02",
                "x": "loan",
                "xref": "x",
                "y": "age",
                "yref": "y"
               },
               {
                "font": {
                 "color": "#000000"
                },
                "showarrow": false,
                "text": "0.17",
                "x": "contact",
                "xref": "x",
                "y": "age",
                "yref": "y"
               },
               {
                "font": {
                 "color": "#000000"
                },
                "showarrow": false,
                "text": "0.16",
                "x": "month",
                "xref": "x",
                "y": "age",
                "yref": "y"
               },
               {
                "font": {
                 "color": "#000000"
                },
                "showarrow": false,
                "text": "0.04",
                "x": "poutcome",
                "xref": "x",
                "y": "age",
                "yref": "y"
               },
               {
                "font": {
                 "color": "#000000"
                },
                "showarrow": false,
                "text": "0.1",
                "x": "age",
                "xref": "x",
                "y": "balance",
                "yref": "y"
               },
               {
                "font": {
                 "color": "#FFFFFF"
                },
                "showarrow": false,
                "text": "1.0",
                "x": "balance",
                "xref": "x",
                "y": "balance",
                "yref": "y"
               },
               {
                "font": {
                 "color": "#000000"
                },
                "showarrow": false,
                "text": "0.0",
                "x": "day",
                "xref": "x",
                "y": "balance",
                "yref": "y"
               },
               {
                "font": {
                 "color": "#000000"
                },
                "showarrow": false,
                "text": "0.02",
                "x": "duration",
                "xref": "x",
                "y": "balance",
                "yref": "y"
               },
               {
                "font": {
                 "color": "#000000"
                },
                "showarrow": false,
                "text": "0.01",
                "x": "campaign",
                "xref": "x",
                "y": "balance",
                "yref": "y"
               },
               {
                "font": {
                 "color": "#000000"
                },
                "showarrow": false,
                "text": "0.0",
                "x": "pdays",
                "xref": "x",
                "y": "balance",
                "yref": "y"
               },
               {
                "font": {
                 "color": "#000000"
                },
                "showarrow": false,
                "text": "0.02",
                "x": "previous",
                "xref": "x",
                "y": "balance",
                "yref": "y"
               },
               {
                "font": {
                 "color": "#000000"
                },
                "showarrow": false,
                "text": "0.1",
                "x": "job",
                "xref": "x",
                "y": "balance",
                "yref": "y"
               },
               {
                "font": {
                 "color": "#000000"
                },
                "showarrow": false,
                "text": "0.03",
                "x": "marital",
                "xref": "x",
                "y": "balance",
                "yref": "y"
               },
               {
                "font": {
                 "color": "#000000"
                },
                "showarrow": false,
                "text": "0.09",
                "x": "education",
                "xref": "x",
                "y": "balance",
                "yref": "y"
               },
               {
                "font": {
                 "color": "#000000"
                },
                "showarrow": false,
                "text": "0.07",
                "x": "default",
                "xref": "x",
                "y": "balance",
                "yref": "y"
               },
               {
                "font": {
                 "color": "#000000"
                },
                "showarrow": false,
                "text": "0.07",
                "x": "housing",
                "xref": "x",
                "y": "balance",
                "yref": "y"
               },
               {
                "font": {
                 "color": "#000000"
                },
                "showarrow": false,
                "text": "0.08",
                "x": "loan",
                "xref": "x",
                "y": "balance",
                "yref": "y"
               },
               {
                "font": {
                 "color": "#000000"
                },
                "showarrow": false,
                "text": "0.05",
                "x": "contact",
                "xref": "x",
                "y": "balance",
                "yref": "y"
               },
               {
                "font": {
                 "color": "#000000"
                },
                "showarrow": false,
                "text": "0.16",
                "x": "month",
                "xref": "x",
                "y": "balance",
                "yref": "y"
               },
               {
                "font": {
                 "color": "#000000"
                },
                "showarrow": false,
                "text": "0.04",
                "x": "poutcome",
                "xref": "x",
                "y": "balance",
                "yref": "y"
               },
               {
                "font": {
                 "color": "#000000"
                },
                "showarrow": false,
                "text": "0.01",
                "x": "age",
                "xref": "x",
                "y": "day",
                "yref": "y"
               },
               {
                "font": {
                 "color": "#000000"
                },
                "showarrow": false,
                "text": "0.0",
                "x": "balance",
                "xref": "x",
                "y": "day",
                "yref": "y"
               },
               {
                "font": {
                 "color": "#FFFFFF"
                },
                "showarrow": false,
                "text": "1.0",
                "x": "day",
                "xref": "x",
                "y": "day",
                "yref": "y"
               },
               {
                "font": {
                 "color": "#000000"
                },
                "showarrow": false,
                "text": "0.03",
                "x": "duration",
                "xref": "x",
                "y": "day",
                "yref": "y"
               },
               {
                "font": {
                 "color": "#000000"
                },
                "showarrow": false,
                "text": "0.16",
                "x": "campaign",
                "xref": "x",
                "y": "day",
                "yref": "y"
               },
               {
                "font": {
                 "color": "#000000"
                },
                "showarrow": false,
                "text": "0.09",
                "x": "pdays",
                "xref": "x",
                "y": "day",
                "yref": "y"
               },
               {
                "font": {
                 "color": "#000000"
                },
                "showarrow": false,
                "text": "0.05",
                "x": "previous",
                "xref": "x",
                "y": "day",
                "yref": "y"
               },
               {
                "font": {
                 "color": "#000000"
                },
                "showarrow": false,
                "text": "0.05",
                "x": "job",
                "xref": "x",
                "y": "day",
                "yref": "y"
               },
               {
                "font": {
                 "color": "#000000"
                },
                "showarrow": false,
                "text": "0.01",
                "x": "marital",
                "xref": "x",
                "y": "day",
                "yref": "y"
               },
               {
                "font": {
                 "color": "#000000"
                },
                "showarrow": false,
                "text": "0.03",
                "x": "education",
                "xref": "x",
                "y": "day",
                "yref": "y"
               },
               {
                "font": {
                 "color": "#000000"
                },
                "showarrow": false,
                "text": "0.01",
                "x": "default",
                "xref": "x",
                "y": "day",
                "yref": "y"
               },
               {
                "font": {
                 "color": "#000000"
                },
                "showarrow": false,
                "text": "0.03",
                "x": "housing",
                "xref": "x",
                "y": "day",
                "yref": "y"
               },
               {
                "font": {
                 "color": "#000000"
                },
                "showarrow": false,
                "text": "0.01",
                "x": "loan",
                "xref": "x",
                "y": "day",
                "yref": "y"
               },
               {
                "font": {
                 "color": "#000000"
                },
                "showarrow": false,
                "text": "0.04",
                "x": "contact",
                "xref": "x",
                "y": "day",
                "yref": "y"
               },
               {
                "font": {
                 "color": "#000000"
                },
                "showarrow": false,
                "text": "0.45",
                "x": "month",
                "xref": "x",
                "y": "day",
                "yref": "y"
               },
               {
                "font": {
                 "color": "#000000"
                },
                "showarrow": false,
                "text": "0.09",
                "x": "poutcome",
                "xref": "x",
                "y": "day",
                "yref": "y"
               },
               {
                "font": {
                 "color": "#000000"
                },
                "showarrow": false,
                "text": "0.0",
                "x": "age",
                "xref": "x",
                "y": "duration",
                "yref": "y"
               },
               {
                "font": {
                 "color": "#000000"
                },
                "showarrow": false,
                "text": "0.02",
                "x": "balance",
                "xref": "x",
                "y": "duration",
                "yref": "y"
               },
               {
                "font": {
                 "color": "#000000"
                },
                "showarrow": false,
                "text": "0.03",
                "x": "day",
                "xref": "x",
                "y": "duration",
                "yref": "y"
               },
               {
                "font": {
                 "color": "#FFFFFF"
                },
                "showarrow": false,
                "text": "1.0",
                "x": "duration",
                "xref": "x",
                "y": "duration",
                "yref": "y"
               },
               {
                "font": {
                 "color": "#000000"
                },
                "showarrow": false,
                "text": "0.08",
                "x": "campaign",
                "xref": "x",
                "y": "duration",
                "yref": "y"
               },
               {
                "font": {
                 "color": "#000000"
                },
                "showarrow": false,
                "text": "0.0",
                "x": "pdays",
                "xref": "x",
                "y": "duration",
                "yref": "y"
               },
               {
                "font": {
                 "color": "#000000"
                },
                "showarrow": false,
                "text": "0.0",
                "x": "previous",
                "xref": "x",
                "y": "duration",
                "yref": "y"
               },
               {
                "font": {
                 "color": "#000000"
                },
                "showarrow": false,
                "text": "0.04",
                "x": "job",
                "xref": "x",
                "y": "duration",
                "yref": "y"
               },
               {
                "font": {
                 "color": "#000000"
                },
                "showarrow": false,
                "text": "0.02",
                "x": "marital",
                "xref": "x",
                "y": "duration",
                "yref": "y"
               },
               {
                "font": {
                 "color": "#000000"
                },
                "showarrow": false,
                "text": "0.0",
                "x": "education",
                "xref": "x",
                "y": "duration",
                "yref": "y"
               },
               {
                "font": {
                 "color": "#000000"
                },
                "showarrow": false,
                "text": "0.01",
                "x": "default",
                "xref": "x",
                "y": "duration",
                "yref": "y"
               },
               {
                "font": {
                 "color": "#000000"
                },
                "showarrow": false,
                "text": "0.01",
                "x": "housing",
                "xref": "x",
                "y": "duration",
                "yref": "y"
               },
               {
                "font": {
                 "color": "#000000"
                },
                "showarrow": false,
                "text": "0.01",
                "x": "loan",
                "xref": "x",
                "y": "duration",
                "yref": "y"
               },
               {
                "font": {
                 "color": "#000000"
                },
                "showarrow": false,
                "text": "0.03",
                "x": "contact",
                "xref": "x",
                "y": "duration",
                "yref": "y"
               },
               {
                "font": {
                 "color": "#000000"
                },
                "showarrow": false,
                "text": "0.07",
                "x": "month",
                "xref": "x",
                "y": "duration",
                "yref": "y"
               },
               {
                "font": {
                 "color": "#000000"
                },
                "showarrow": false,
                "text": "0.05",
                "x": "poutcome",
                "xref": "x",
                "y": "duration",
                "yref": "y"
               },
               {
                "font": {
                 "color": "#000000"
                },
                "showarrow": false,
                "text": "0.0",
                "x": "age",
                "xref": "x",
                "y": "campaign",
                "yref": "y"
               },
               {
                "font": {
                 "color": "#000000"
                },
                "showarrow": false,
                "text": "0.01",
                "x": "balance",
                "xref": "x",
                "y": "campaign",
                "yref": "y"
               },
               {
                "font": {
                 "color": "#000000"
                },
                "showarrow": false,
                "text": "0.16",
                "x": "day",
                "xref": "x",
                "y": "campaign",
                "yref": "y"
               },
               {
                "font": {
                 "color": "#000000"
                },
                "showarrow": false,
                "text": "0.08",
                "x": "duration",
                "xref": "x",
                "y": "campaign",
                "yref": "y"
               },
               {
                "font": {
                 "color": "#FFFFFF"
                },
                "showarrow": false,
                "text": "1.0",
                "x": "campaign",
                "xref": "x",
                "y": "campaign",
                "yref": "y"
               },
               {
                "font": {
                 "color": "#000000"
                },
                "showarrow": false,
                "text": "0.09",
                "x": "pdays",
                "xref": "x",
                "y": "campaign",
                "yref": "y"
               },
               {
                "font": {
                 "color": "#000000"
                },
                "showarrow": false,
                "text": "0.03",
                "x": "previous",
                "xref": "x",
                "y": "campaign",
                "yref": "y"
               },
               {
                "font": {
                 "color": "#000000"
                },
                "showarrow": false,
                "text": "0.06",
                "x": "job",
                "xref": "x",
                "y": "campaign",
                "yref": "y"
               },
               {
                "font": {
                 "color": "#000000"
                },
                "showarrow": false,
                "text": "0.03",
                "x": "marital",
                "xref": "x",
                "y": "campaign",
                "yref": "y"
               },
               {
                "font": {
                 "color": "#000000"
                },
                "showarrow": false,
                "text": "0.02",
                "x": "education",
                "xref": "x",
                "y": "campaign",
                "yref": "y"
               },
               {
                "font": {
                 "color": "#000000"
                },
                "showarrow": false,
                "text": "0.02",
                "x": "default",
                "xref": "x",
                "y": "campaign",
                "yref": "y"
               },
               {
                "font": {
                 "color": "#000000"
                },
                "showarrow": false,
                "text": "0.02",
                "x": "housing",
                "xref": "x",
                "y": "campaign",
                "yref": "y"
               },
               {
                "font": {
                 "color": "#000000"
                },
                "showarrow": false,
                "text": "0.01",
                "x": "loan",
                "xref": "x",
                "y": "campaign",
                "yref": "y"
               },
               {
                "font": {
                 "color": "#000000"
                },
                "showarrow": false,
                "text": "0.06",
                "x": "contact",
                "xref": "x",
                "y": "campaign",
                "yref": "y"
               },
               {
                "font": {
                 "color": "#000000"
                },
                "showarrow": false,
                "text": "0.23",
                "x": "month",
                "xref": "x",
                "y": "campaign",
                "yref": "y"
               },
               {
                "font": {
                 "color": "#000000"
                },
                "showarrow": false,
                "text": "0.11",
                "x": "poutcome",
                "xref": "x",
                "y": "campaign",
                "yref": "y"
               },
               {
                "font": {
                 "color": "#000000"
                },
                "showarrow": false,
                "text": "0.02",
                "x": "age",
                "xref": "x",
                "y": "pdays",
                "yref": "y"
               },
               {
                "font": {
                 "color": "#000000"
                },
                "showarrow": false,
                "text": "0.0",
                "x": "balance",
                "xref": "x",
                "y": "pdays",
                "yref": "y"
               },
               {
                "font": {
                 "color": "#000000"
                },
                "showarrow": false,
                "text": "0.09",
                "x": "day",
                "xref": "x",
                "y": "pdays",
                "yref": "y"
               },
               {
                "font": {
                 "color": "#000000"
                },
                "showarrow": false,
                "text": "0.0",
                "x": "duration",
                "xref": "x",
                "y": "pdays",
                "yref": "y"
               },
               {
                "font": {
                 "color": "#000000"
                },
                "showarrow": false,
                "text": "0.09",
                "x": "campaign",
                "xref": "x",
                "y": "pdays",
                "yref": "y"
               },
               {
                "font": {
                 "color": "#FFFFFF"
                },
                "showarrow": false,
                "text": "1.0",
                "x": "pdays",
                "xref": "x",
                "y": "pdays",
                "yref": "y"
               },
               {
                "font": {
                 "color": "#000000"
                },
                "showarrow": false,
                "text": "0.45",
                "x": "previous",
                "xref": "x",
                "y": "pdays",
                "yref": "y"
               },
               {
                "font": {
                 "color": "#000000"
                },
                "showarrow": false,
                "text": "0.06",
                "x": "job",
                "xref": "x",
                "y": "pdays",
                "yref": "y"
               },
               {
                "font": {
                 "color": "#000000"
                },
                "showarrow": false,
                "text": "0.03",
                "x": "marital",
                "xref": "x",
                "y": "pdays",
                "yref": "y"
               },
               {
                "font": {
                 "color": "#000000"
                },
                "showarrow": false,
                "text": "0.02",
                "x": "education",
                "xref": "x",
                "y": "pdays",
                "yref": "y"
               },
               {
                "font": {
                 "color": "#000000"
                },
                "showarrow": false,
                "text": "0.03",
                "x": "default",
                "xref": "x",
                "y": "pdays",
                "yref": "y"
               },
               {
                "font": {
                 "color": "#000000"
                },
                "showarrow": false,
                "text": "0.12",
                "x": "housing",
                "xref": "x",
                "y": "pdays",
                "yref": "y"
               },
               {
                "font": {
                 "color": "#000000"
                },
                "showarrow": false,
                "text": "0.02",
                "x": "loan",
                "xref": "x",
                "y": "pdays",
                "yref": "y"
               },
               {
                "font": {
                 "color": "#000000"
                },
                "showarrow": false,
                "text": "0.25",
                "x": "contact",
                "xref": "x",
                "y": "pdays",
                "yref": "y"
               },
               {
                "font": {
                 "color": "#000000"
                },
                "showarrow": false,
                "text": "0.29",
                "x": "month",
                "xref": "x",
                "y": "pdays",
                "yref": "y"
               },
               {
                "font": {
                 "color": "#FFFFFF"
                },
                "showarrow": false,
                "text": "0.88",
                "x": "poutcome",
                "xref": "x",
                "y": "pdays",
                "yref": "y"
               },
               {
                "font": {
                 "color": "#000000"
                },
                "showarrow": false,
                "text": "0.0",
                "x": "age",
                "xref": "x",
                "y": "previous",
                "yref": "y"
               },
               {
                "font": {
                 "color": "#000000"
                },
                "showarrow": false,
                "text": "0.02",
                "x": "balance",
                "xref": "x",
                "y": "previous",
                "yref": "y"
               },
               {
                "font": {
                 "color": "#000000"
                },
                "showarrow": false,
                "text": "0.05",
                "x": "day",
                "xref": "x",
                "y": "previous",
                "yref": "y"
               },
               {
                "font": {
                 "color": "#000000"
                },
                "showarrow": false,
                "text": "0.0",
                "x": "duration",
                "xref": "x",
                "y": "previous",
                "yref": "y"
               },
               {
                "font": {
                 "color": "#000000"
                },
                "showarrow": false,
                "text": "0.03",
                "x": "campaign",
                "xref": "x",
                "y": "previous",
                "yref": "y"
               },
               {
                "font": {
                 "color": "#000000"
                },
                "showarrow": false,
                "text": "0.45",
                "x": "pdays",
                "xref": "x",
                "y": "previous",
                "yref": "y"
               },
               {
                "font": {
                 "color": "#FFFFFF"
                },
                "showarrow": false,
                "text": "1.0",
                "x": "previous",
                "xref": "x",
                "y": "previous",
                "yref": "y"
               },
               {
                "font": {
                 "color": "#000000"
                },
                "showarrow": false,
                "text": "0.04",
                "x": "job",
                "xref": "x",
                "y": "previous",
                "yref": "y"
               },
               {
                "font": {
                 "color": "#000000"
                },
                "showarrow": false,
                "text": "0.02",
                "x": "marital",
                "xref": "x",
                "y": "previous",
                "yref": "y"
               },
               {
                "font": {
                 "color": "#000000"
                },
                "showarrow": false,
                "text": "0.03",
                "x": "education",
                "xref": "x",
                "y": "previous",
                "yref": "y"
               },
               {
                "font": {
                 "color": "#000000"
                },
                "showarrow": false,
                "text": "0.02",
                "x": "default",
                "xref": "x",
                "y": "previous",
                "yref": "y"
               },
               {
                "font": {
                 "color": "#000000"
                },
                "showarrow": false,
                "text": "0.04",
                "x": "housing",
                "xref": "x",
                "y": "previous",
                "yref": "y"
               },
               {
                "font": {
                 "color": "#000000"
                },
                "showarrow": false,
                "text": "0.01",
                "x": "loan",
                "xref": "x",
                "y": "previous",
                "yref": "y"
               },
               {
                "font": {
                 "color": "#000000"
                },
                "showarrow": false,
                "text": "0.15",
                "x": "contact",
                "xref": "x",
                "y": "previous",
                "yref": "y"
               },
               {
                "font": {
                 "color": "#000000"
                },
                "showarrow": false,
                "text": "0.18",
                "x": "month",
                "xref": "x",
                "y": "previous",
                "yref": "y"
               },
               {
                "font": {
                 "color": "#FFFFFF"
                },
                "showarrow": false,
                "text": "0.54",
                "x": "poutcome",
                "xref": "x",
                "y": "previous",
                "yref": "y"
               },
               {
                "font": {
                 "color": "#FFFFFF"
                },
                "showarrow": false,
                "text": "0.5",
                "x": "age",
                "xref": "x",
                "y": "job",
                "yref": "y"
               },
               {
                "font": {
                 "color": "#000000"
                },
                "showarrow": false,
                "text": "0.1",
                "x": "balance",
                "xref": "x",
                "y": "job",
                "yref": "y"
               },
               {
                "font": {
                 "color": "#000000"
                },
                "showarrow": false,
                "text": "0.05",
                "x": "day",
                "xref": "x",
                "y": "job",
                "yref": "y"
               },
               {
                "font": {
                 "color": "#000000"
                },
                "showarrow": false,
                "text": "0.04",
                "x": "duration",
                "xref": "x",
                "y": "job",
                "yref": "y"
               },
               {
                "font": {
                 "color": "#000000"
                },
                "showarrow": false,
                "text": "0.06",
                "x": "campaign",
                "xref": "x",
                "y": "job",
                "yref": "y"
               },
               {
                "font": {
                 "color": "#000000"
                },
                "showarrow": false,
                "text": "0.06",
                "x": "pdays",
                "xref": "x",
                "y": "job",
                "yref": "y"
               },
               {
                "font": {
                 "color": "#000000"
                },
                "showarrow": false,
                "text": "0.04",
                "x": "previous",
                "xref": "x",
                "y": "job",
                "yref": "y"
               },
               {
                "font": {
                 "color": "#FFFFFF"
                },
                "showarrow": false,
                "text": "1.0",
                "x": "job",
                "xref": "x",
                "y": "job",
                "yref": "y"
               },
               {
                "font": {
                 "color": "#000000"
                },
                "showarrow": false,
                "text": "0.21",
                "x": "marital",
                "xref": "x",
                "y": "job",
                "yref": "y"
               },
               {
                "font": {
                 "color": "#000000"
                },
                "showarrow": false,
                "text": "0.46",
                "x": "education",
                "xref": "x",
                "y": "job",
                "yref": "y"
               },
               {
                "font": {
                 "color": "#000000"
                },
                "showarrow": false,
                "text": "0.04",
                "x": "default",
                "xref": "x",
                "y": "job",
                "yref": "y"
               },
               {
                "font": {
                 "color": "#000000"
                },
                "showarrow": false,
                "text": "0.28",
                "x": "housing",
                "xref": "x",
                "y": "job",
                "yref": "y"
               },
               {
                "font": {
                 "color": "#000000"
                },
                "showarrow": false,
                "text": "0.11",
                "x": "loan",
                "xref": "x",
                "y": "job",
                "yref": "y"
               },
               {
                "font": {
                 "color": "#000000"
                },
                "showarrow": false,
                "text": "0.15",
                "x": "contact",
                "xref": "x",
                "y": "job",
                "yref": "y"
               },
               {
                "font": {
                 "color": "#000000"
                },
                "showarrow": false,
                "text": "0.11",
                "x": "month",
                "xref": "x",
                "y": "job",
                "yref": "y"
               },
               {
                "font": {
                 "color": "#000000"
                },
                "showarrow": false,
                "text": "0.06",
                "x": "poutcome",
                "xref": "x",
                "y": "job",
                "yref": "y"
               },
               {
                "font": {
                 "color": "#000000"
                },
                "showarrow": false,
                "text": "0.43",
                "x": "age",
                "xref": "x",
                "y": "marital",
                "yref": "y"
               },
               {
                "font": {
                 "color": "#000000"
                },
                "showarrow": false,
                "text": "0.03",
                "x": "balance",
                "xref": "x",
                "y": "marital",
                "yref": "y"
               },
               {
                "font": {
                 "color": "#000000"
                },
                "showarrow": false,
                "text": "0.01",
                "x": "day",
                "xref": "x",
                "y": "marital",
                "yref": "y"
               },
               {
                "font": {
                 "color": "#000000"
                },
                "showarrow": false,
                "text": "0.02",
                "x": "duration",
                "xref": "x",
                "y": "marital",
                "yref": "y"
               },
               {
                "font": {
                 "color": "#000000"
                },
                "showarrow": false,
                "text": "0.03",
                "x": "campaign",
                "xref": "x",
                "y": "marital",
                "yref": "y"
               },
               {
                "font": {
                 "color": "#000000"
                },
                "showarrow": false,
                "text": "0.03",
                "x": "pdays",
                "xref": "x",
                "y": "marital",
                "yref": "y"
               },
               {
                "font": {
                 "color": "#000000"
                },
                "showarrow": false,
                "text": "0.02",
                "x": "previous",
                "xref": "x",
                "y": "marital",
                "yref": "y"
               },
               {
                "font": {
                 "color": "#000000"
                },
                "showarrow": false,
                "text": "0.21",
                "x": "job",
                "xref": "x",
                "y": "marital",
                "yref": "y"
               },
               {
                "font": {
                 "color": "#FFFFFF"
                },
                "showarrow": false,
                "text": "1.0",
                "x": "marital",
                "xref": "x",
                "y": "marital",
                "yref": "y"
               },
               {
                "font": {
                 "color": "#000000"
                },
                "showarrow": false,
                "text": "0.12",
                "x": "education",
                "xref": "x",
                "y": "marital",
                "yref": "y"
               },
               {
                "font": {
                 "color": "#000000"
                },
                "showarrow": false,
                "text": "0.02",
                "x": "default",
                "xref": "x",
                "y": "marital",
                "yref": "y"
               },
               {
                "font": {
                 "color": "#000000"
                },
                "showarrow": false,
                "text": "0.02",
                "x": "housing",
                "xref": "x",
                "y": "marital",
                "yref": "y"
               },
               {
                "font": {
                 "color": "#000000"
                },
                "showarrow": false,
                "text": "0.05",
                "x": "loan",
                "xref": "x",
                "y": "marital",
                "yref": "y"
               },
               {
                "font": {
                 "color": "#000000"
                },
                "showarrow": false,
                "text": "0.05",
                "x": "contact",
                "xref": "x",
                "y": "marital",
                "yref": "y"
               },
               {
                "font": {
                 "color": "#000000"
                },
                "showarrow": false,
                "text": "0.07",
                "x": "month",
                "xref": "x",
                "y": "marital",
                "yref": "y"
               },
               {
                "font": {
                 "color": "#000000"
                },
                "showarrow": false,
                "text": "0.03",
                "x": "poutcome",
                "xref": "x",
                "y": "marital",
                "yref": "y"
               },
               {
                "font": {
                 "color": "#000000"
                },
                "showarrow": false,
                "text": "0.22",
                "x": "age",
                "xref": "x",
                "y": "education",
                "yref": "y"
               },
               {
                "font": {
                 "color": "#000000"
                },
                "showarrow": false,
                "text": "0.09",
                "x": "balance",
                "xref": "x",
                "y": "education",
                "yref": "y"
               },
               {
                "font": {
                 "color": "#000000"
                },
                "showarrow": false,
                "text": "0.03",
                "x": "day",
                "xref": "x",
                "y": "education",
                "yref": "y"
               },
               {
                "font": {
                 "color": "#000000"
                },
                "showarrow": false,
                "text": "0.0",
                "x": "duration",
                "xref": "x",
                "y": "education",
                "yref": "y"
               },
               {
                "font": {
                 "color": "#000000"
                },
                "showarrow": false,
                "text": "0.02",
                "x": "campaign",
                "xref": "x",
                "y": "education",
                "yref": "y"
               },
               {
                "font": {
                 "color": "#000000"
                },
                "showarrow": false,
                "text": "0.02",
                "x": "pdays",
                "xref": "x",
                "y": "education",
                "yref": "y"
               },
               {
                "font": {
                 "color": "#000000"
                },
                "showarrow": false,
                "text": "0.03",
                "x": "previous",
                "xref": "x",
                "y": "education",
                "yref": "y"
               },
               {
                "font": {
                 "color": "#000000"
                },
                "showarrow": false,
                "text": "0.46",
                "x": "job",
                "xref": "x",
                "y": "education",
                "yref": "y"
               },
               {
                "font": {
                 "color": "#000000"
                },
                "showarrow": false,
                "text": "0.12",
                "x": "marital",
                "xref": "x",
                "y": "education",
                "yref": "y"
               },
               {
                "font": {
                 "color": "#FFFFFF"
                },
                "showarrow": false,
                "text": "1.0",
                "x": "education",
                "xref": "x",
                "y": "education",
                "yref": "y"
               },
               {
                "font": {
                 "color": "#000000"
                },
                "showarrow": false,
                "text": "0.02",
                "x": "default",
                "xref": "x",
                "y": "education",
                "yref": "y"
               },
               {
                "font": {
                 "color": "#000000"
                },
                "showarrow": false,
                "text": "0.12",
                "x": "housing",
                "xref": "x",
                "y": "education",
                "yref": "y"
               },
               {
                "font": {
                 "color": "#000000"
                },
                "showarrow": false,
                "text": "0.08",
                "x": "loan",
                "xref": "x",
                "y": "education",
                "yref": "y"
               },
               {
                "font": {
                 "color": "#000000"
                },
                "showarrow": false,
                "text": "0.12",
                "x": "contact",
                "xref": "x",
                "y": "education",
                "yref": "y"
               },
               {
                "font": {
                 "color": "#000000"
                },
                "showarrow": false,
                "text": "0.11",
                "x": "month",
                "xref": "x",
                "y": "education",
                "yref": "y"
               },
               {
                "font": {
                 "color": "#000000"
                },
                "showarrow": false,
                "text": "0.04",
                "x": "poutcome",
                "xref": "x",
                "y": "education",
                "yref": "y"
               },
               {
                "font": {
                 "color": "#000000"
                },
                "showarrow": false,
                "text": "0.02",
                "x": "age",
                "xref": "x",
                "y": "default",
                "yref": "y"
               },
               {
                "font": {
                 "color": "#000000"
                },
                "showarrow": false,
                "text": "0.07",
                "x": "balance",
                "xref": "x",
                "y": "default",
                "yref": "y"
               },
               {
                "font": {
                 "color": "#000000"
                },
                "showarrow": false,
                "text": "0.01",
                "x": "day",
                "xref": "x",
                "y": "default",
                "yref": "y"
               },
               {
                "font": {
                 "color": "#000000"
                },
                "showarrow": false,
                "text": "0.01",
                "x": "duration",
                "xref": "x",
                "y": "default",
                "yref": "y"
               },
               {
                "font": {
                 "color": "#000000"
                },
                "showarrow": false,
                "text": "0.02",
                "x": "campaign",
                "xref": "x",
                "y": "default",
                "yref": "y"
               },
               {
                "font": {
                 "color": "#000000"
                },
                "showarrow": false,
                "text": "0.03",
                "x": "pdays",
                "xref": "x",
                "y": "default",
                "yref": "y"
               },
               {
                "font": {
                 "color": "#000000"
                },
                "showarrow": false,
                "text": "0.02",
                "x": "previous",
                "xref": "x",
                "y": "default",
                "yref": "y"
               },
               {
                "font": {
                 "color": "#000000"
                },
                "showarrow": false,
                "text": "0.04",
                "x": "job",
                "xref": "x",
                "y": "default",
                "yref": "y"
               },
               {
                "font": {
                 "color": "#000000"
                },
                "showarrow": false,
                "text": "0.02",
                "x": "marital",
                "xref": "x",
                "y": "default",
                "yref": "y"
               },
               {
                "font": {
                 "color": "#000000"
                },
                "showarrow": false,
                "text": "0.02",
                "x": "education",
                "xref": "x",
                "y": "default",
                "yref": "y"
               },
               {
                "font": {
                 "color": "#FFFFFF"
                },
                "showarrow": false,
                "text": "1.0",
                "x": "default",
                "xref": "x",
                "y": "default",
                "yref": "y"
               },
               {
                "font": {
                 "color": "#000000"
                },
                "showarrow": false,
                "text": "0.01",
                "x": "housing",
                "xref": "x",
                "y": "default",
                "yref": "y"
               },
               {
                "font": {
                 "color": "#000000"
                },
                "showarrow": false,
                "text": "0.08",
                "x": "loan",
                "xref": "x",
                "y": "default",
                "yref": "y"
               },
               {
                "font": {
                 "color": "#000000"
                },
                "showarrow": false,
                "text": "0.02",
                "x": "contact",
                "xref": "x",
                "y": "default",
                "yref": "y"
               },
               {
                "font": {
                 "color": "#000000"
                },
                "showarrow": false,
                "text": "0.06",
                "x": "month",
                "xref": "x",
                "y": "default",
                "yref": "y"
               },
               {
                "font": {
                 "color": "#000000"
                },
                "showarrow": false,
                "text": "0.04",
                "x": "poutcome",
                "xref": "x",
                "y": "default",
                "yref": "y"
               },
               {
                "font": {
                 "color": "#000000"
                },
                "showarrow": false,
                "text": "0.19",
                "x": "age",
                "xref": "x",
                "y": "housing",
                "yref": "y"
               },
               {
                "font": {
                 "color": "#000000"
                },
                "showarrow": false,
                "text": "0.07",
                "x": "balance",
                "xref": "x",
                "y": "housing",
                "yref": "y"
               },
               {
                "font": {
                 "color": "#000000"
                },
                "showarrow": false,
                "text": "0.03",
                "x": "day",
                "xref": "x",
                "y": "housing",
                "yref": "y"
               },
               {
                "font": {
                 "color": "#000000"
                },
                "showarrow": false,
                "text": "0.01",
                "x": "duration",
                "xref": "x",
                "y": "housing",
                "yref": "y"
               },
               {
                "font": {
                 "color": "#000000"
                },
                "showarrow": false,
                "text": "0.02",
                "x": "campaign",
                "xref": "x",
                "y": "housing",
                "yref": "y"
               },
               {
                "font": {
                 "color": "#000000"
                },
                "showarrow": false,
                "text": "0.12",
                "x": "pdays",
                "xref": "x",
                "y": "housing",
                "yref": "y"
               },
               {
                "font": {
                 "color": "#000000"
                },
                "showarrow": false,
                "text": "0.04",
                "x": "previous",
                "xref": "x",
                "y": "housing",
                "yref": "y"
               },
               {
                "font": {
                 "color": "#000000"
                },
                "showarrow": false,
                "text": "0.28",
                "x": "job",
                "xref": "x",
                "y": "housing",
                "yref": "y"
               },
               {
                "font": {
                 "color": "#000000"
                },
                "showarrow": false,
                "text": "0.02",
                "x": "marital",
                "xref": "x",
                "y": "housing",
                "yref": "y"
               },
               {
                "font": {
                 "color": "#000000"
                },
                "showarrow": false,
                "text": "0.12",
                "x": "education",
                "xref": "x",
                "y": "housing",
                "yref": "y"
               },
               {
                "font": {
                 "color": "#000000"
                },
                "showarrow": false,
                "text": "0.01",
                "x": "default",
                "xref": "x",
                "y": "housing",
                "yref": "y"
               },
               {
                "font": {
                 "color": "#FFFFFF"
                },
                "showarrow": false,
                "text": "1.0",
                "x": "housing",
                "xref": "x",
                "y": "housing",
                "yref": "y"
               },
               {
                "font": {
                 "color": "#000000"
                },
                "showarrow": false,
                "text": "0.04",
                "x": "loan",
                "xref": "x",
                "y": "housing",
                "yref": "y"
               },
               {
                "font": {
                 "color": "#000000"
                },
                "showarrow": false,
                "text": "0.21",
                "x": "contact",
                "xref": "x",
                "y": "housing",
                "yref": "y"
               },
               {
                "font": {
                 "color": "#FFFFFF"
                },
                "showarrow": false,
                "text": "0.5",
                "x": "month",
                "xref": "x",
                "y": "housing",
                "yref": "y"
               },
               {
                "font": {
                 "color": "#000000"
                },
                "showarrow": false,
                "text": "0.14",
                "x": "poutcome",
                "xref": "x",
                "y": "housing",
                "yref": "y"
               },
               {
                "font": {
                 "color": "#000000"
                },
                "showarrow": false,
                "text": "0.02",
                "x": "age",
                "xref": "x",
                "y": "loan",
                "yref": "y"
               },
               {
                "font": {
                 "color": "#000000"
                },
                "showarrow": false,
                "text": "0.08",
                "x": "balance",
                "xref": "x",
                "y": "loan",
                "yref": "y"
               },
               {
                "font": {
                 "color": "#000000"
                },
                "showarrow": false,
                "text": "0.01",
                "x": "day",
                "xref": "x",
                "y": "loan",
                "yref": "y"
               },
               {
                "font": {
                 "color": "#000000"
                },
                "showarrow": false,
                "text": "0.01",
                "x": "duration",
                "xref": "x",
                "y": "loan",
                "yref": "y"
               },
               {
                "font": {
                 "color": "#000000"
                },
                "showarrow": false,
                "text": "0.01",
                "x": "campaign",
                "xref": "x",
                "y": "loan",
                "yref": "y"
               },
               {
                "font": {
                 "color": "#000000"
                },
                "showarrow": false,
                "text": "0.02",
                "x": "pdays",
                "xref": "x",
                "y": "loan",
                "yref": "y"
               },
               {
                "font": {
                 "color": "#000000"
                },
                "showarrow": false,
                "text": "0.01",
                "x": "previous",
                "xref": "x",
                "y": "loan",
                "yref": "y"
               },
               {
                "font": {
                 "color": "#000000"
                },
                "showarrow": false,
                "text": "0.11",
                "x": "job",
                "xref": "x",
                "y": "loan",
                "yref": "y"
               },
               {
                "font": {
                 "color": "#000000"
                },
                "showarrow": false,
                "text": "0.05",
                "x": "marital",
                "xref": "x",
                "y": "loan",
                "yref": "y"
               },
               {
                "font": {
                 "color": "#000000"
                },
                "showarrow": false,
                "text": "0.08",
                "x": "education",
                "xref": "x",
                "y": "loan",
                "yref": "y"
               },
               {
                "font": {
                 "color": "#000000"
                },
                "showarrow": false,
                "text": "0.08",
                "x": "default",
                "xref": "x",
                "y": "loan",
                "yref": "y"
               },
               {
                "font": {
                 "color": "#000000"
                },
                "showarrow": false,
                "text": "0.04",
                "x": "housing",
                "xref": "x",
                "y": "loan",
                "yref": "y"
               },
               {
                "font": {
                 "color": "#FFFFFF"
                },
                "showarrow": false,
                "text": "1.0",
                "x": "loan",
                "xref": "x",
                "y": "loan",
                "yref": "y"
               },
               {
                "font": {
                 "color": "#000000"
                },
                "showarrow": false,
                "text": "0.02",
                "x": "contact",
                "xref": "x",
                "y": "loan",
                "yref": "y"
               },
               {
                "font": {
                 "color": "#000000"
                },
                "showarrow": false,
                "text": "0.18",
                "x": "month",
                "xref": "x",
                "y": "loan",
                "yref": "y"
               },
               {
                "font": {
                 "color": "#000000"
                },
                "showarrow": false,
                "text": "0.06",
                "x": "poutcome",
                "xref": "x",
                "y": "loan",
                "yref": "y"
               },
               {
                "font": {
                 "color": "#000000"
                },
                "showarrow": false,
                "text": "0.17",
                "x": "age",
                "xref": "x",
                "y": "contact",
                "yref": "y"
               },
               {
                "font": {
                 "color": "#000000"
                },
                "showarrow": false,
                "text": "0.05",
                "x": "balance",
                "xref": "x",
                "y": "contact",
                "yref": "y"
               },
               {
                "font": {
                 "color": "#000000"
                },
                "showarrow": false,
                "text": "0.04",
                "x": "day",
                "xref": "x",
                "y": "contact",
                "yref": "y"
               },
               {
                "font": {
                 "color": "#000000"
                },
                "showarrow": false,
                "text": "0.03",
                "x": "duration",
                "xref": "x",
                "y": "contact",
                "yref": "y"
               },
               {
                "font": {
                 "color": "#000000"
                },
                "showarrow": false,
                "text": "0.06",
                "x": "campaign",
                "xref": "x",
                "y": "contact",
                "yref": "y"
               },
               {
                "font": {
                 "color": "#000000"
                },
                "showarrow": false,
                "text": "0.25",
                "x": "pdays",
                "xref": "x",
                "y": "contact",
                "yref": "y"
               },
               {
                "font": {
                 "color": "#000000"
                },
                "showarrow": false,
                "text": "0.15",
                "x": "previous",
                "xref": "x",
                "y": "contact",
                "yref": "y"
               },
               {
                "font": {
                 "color": "#000000"
                },
                "showarrow": false,
                "text": "0.15",
                "x": "job",
                "xref": "x",
                "y": "contact",
                "yref": "y"
               },
               {
                "font": {
                 "color": "#000000"
                },
                "showarrow": false,
                "text": "0.05",
                "x": "marital",
                "xref": "x",
                "y": "contact",
                "yref": "y"
               },
               {
                "font": {
                 "color": "#000000"
                },
                "showarrow": false,
                "text": "0.12",
                "x": "education",
                "xref": "x",
                "y": "contact",
                "yref": "y"
               },
               {
                "font": {
                 "color": "#000000"
                },
                "showarrow": false,
                "text": "0.02",
                "x": "default",
                "xref": "x",
                "y": "contact",
                "yref": "y"
               },
               {
                "font": {
                 "color": "#000000"
                },
                "showarrow": false,
                "text": "0.21",
                "x": "housing",
                "xref": "x",
                "y": "contact",
                "yref": "y"
               },
               {
                "font": {
                 "color": "#000000"
                },
                "showarrow": false,
                "text": "0.02",
                "x": "loan",
                "xref": "x",
                "y": "contact",
                "yref": "y"
               },
               {
                "font": {
                 "color": "#FFFFFF"
                },
                "showarrow": false,
                "text": "1.0",
                "x": "contact",
                "xref": "x",
                "y": "contact",
                "yref": "y"
               },
               {
                "font": {
                 "color": "#FFFFFF"
                },
                "showarrow": false,
                "text": "0.51",
                "x": "month",
                "xref": "x",
                "y": "contact",
                "yref": "y"
               },
               {
                "font": {
                 "color": "#000000"
                },
                "showarrow": false,
                "text": "0.21",
                "x": "poutcome",
                "xref": "x",
                "y": "contact",
                "yref": "y"
               },
               {
                "font": {
                 "color": "#000000"
                },
                "showarrow": false,
                "text": "0.16",
                "x": "age",
                "xref": "x",
                "y": "month",
                "yref": "y"
               },
               {
                "font": {
                 "color": "#000000"
                },
                "showarrow": false,
                "text": "0.16",
                "x": "balance",
                "xref": "x",
                "y": "month",
                "yref": "y"
               },
               {
                "font": {
                 "color": "#000000"
                },
                "showarrow": false,
                "text": "0.45",
                "x": "day",
                "xref": "x",
                "y": "month",
                "yref": "y"
               },
               {
                "font": {
                 "color": "#000000"
                },
                "showarrow": false,
                "text": "0.07",
                "x": "duration",
                "xref": "x",
                "y": "month",
                "yref": "y"
               },
               {
                "font": {
                 "color": "#000000"
                },
                "showarrow": false,
                "text": "0.23",
                "x": "campaign",
                "xref": "x",
                "y": "month",
                "yref": "y"
               },
               {
                "font": {
                 "color": "#000000"
                },
                "showarrow": false,
                "text": "0.29",
                "x": "pdays",
                "xref": "x",
                "y": "month",
                "yref": "y"
               },
               {
                "font": {
                 "color": "#000000"
                },
                "showarrow": false,
                "text": "0.18",
                "x": "previous",
                "xref": "x",
                "y": "month",
                "yref": "y"
               },
               {
                "font": {
                 "color": "#000000"
                },
                "showarrow": false,
                "text": "0.11",
                "x": "job",
                "xref": "x",
                "y": "month",
                "yref": "y"
               },
               {
                "font": {
                 "color": "#000000"
                },
                "showarrow": false,
                "text": "0.07",
                "x": "marital",
                "xref": "x",
                "y": "month",
                "yref": "y"
               },
               {
                "font": {
                 "color": "#000000"
                },
                "showarrow": false,
                "text": "0.11",
                "x": "education",
                "xref": "x",
                "y": "month",
                "yref": "y"
               },
               {
                "font": {
                 "color": "#000000"
                },
                "showarrow": false,
                "text": "0.06",
                "x": "default",
                "xref": "x",
                "y": "month",
                "yref": "y"
               },
               {
                "font": {
                 "color": "#FFFFFF"
                },
                "showarrow": false,
                "text": "0.5",
                "x": "housing",
                "xref": "x",
                "y": "month",
                "yref": "y"
               },
               {
                "font": {
                 "color": "#000000"
                },
                "showarrow": false,
                "text": "0.18",
                "x": "loan",
                "xref": "x",
                "y": "month",
                "yref": "y"
               },
               {
                "font": {
                 "color": "#FFFFFF"
                },
                "showarrow": false,
                "text": "0.51",
                "x": "contact",
                "xref": "x",
                "y": "month",
                "yref": "y"
               },
               {
                "font": {
                 "color": "#FFFFFF"
                },
                "showarrow": false,
                "text": "1.0",
                "x": "month",
                "xref": "x",
                "y": "month",
                "yref": "y"
               },
               {
                "font": {
                 "color": "#000000"
                },
                "showarrow": false,
                "text": "0.21",
                "x": "poutcome",
                "xref": "x",
                "y": "month",
                "yref": "y"
               },
               {
                "font": {
                 "color": "#000000"
                },
                "showarrow": false,
                "text": "0.04",
                "x": "age",
                "xref": "x",
                "y": "poutcome",
                "yref": "y"
               },
               {
                "font": {
                 "color": "#000000"
                },
                "showarrow": false,
                "text": "0.04",
                "x": "balance",
                "xref": "x",
                "y": "poutcome",
                "yref": "y"
               },
               {
                "font": {
                 "color": "#000000"
                },
                "showarrow": false,
                "text": "0.09",
                "x": "day",
                "xref": "x",
                "y": "poutcome",
                "yref": "y"
               },
               {
                "font": {
                 "color": "#000000"
                },
                "showarrow": false,
                "text": "0.05",
                "x": "duration",
                "xref": "x",
                "y": "poutcome",
                "yref": "y"
               },
               {
                "font": {
                 "color": "#000000"
                },
                "showarrow": false,
                "text": "0.11",
                "x": "campaign",
                "xref": "x",
                "y": "poutcome",
                "yref": "y"
               },
               {
                "font": {
                 "color": "#FFFFFF"
                },
                "showarrow": false,
                "text": "0.88",
                "x": "pdays",
                "xref": "x",
                "y": "poutcome",
                "yref": "y"
               },
               {
                "font": {
                 "color": "#FFFFFF"
                },
                "showarrow": false,
                "text": "0.54",
                "x": "previous",
                "xref": "x",
                "y": "poutcome",
                "yref": "y"
               },
               {
                "font": {
                 "color": "#000000"
                },
                "showarrow": false,
                "text": "0.06",
                "x": "job",
                "xref": "x",
                "y": "poutcome",
                "yref": "y"
               },
               {
                "font": {
                 "color": "#000000"
                },
                "showarrow": false,
                "text": "0.03",
                "x": "marital",
                "xref": "x",
                "y": "poutcome",
                "yref": "y"
               },
               {
                "font": {
                 "color": "#000000"
                },
                "showarrow": false,
                "text": "0.04",
                "x": "education",
                "xref": "x",
                "y": "poutcome",
                "yref": "y"
               },
               {
                "font": {
                 "color": "#000000"
                },
                "showarrow": false,
                "text": "0.04",
                "x": "default",
                "xref": "x",
                "y": "poutcome",
                "yref": "y"
               },
               {
                "font": {
                 "color": "#000000"
                },
                "showarrow": false,
                "text": "0.14",
                "x": "housing",
                "xref": "x",
                "y": "poutcome",
                "yref": "y"
               },
               {
                "font": {
                 "color": "#000000"
                },
                "showarrow": false,
                "text": "0.06",
                "x": "loan",
                "xref": "x",
                "y": "poutcome",
                "yref": "y"
               },
               {
                "font": {
                 "color": "#000000"
                },
                "showarrow": false,
                "text": "0.21",
                "x": "contact",
                "xref": "x",
                "y": "poutcome",
                "yref": "y"
               },
               {
                "font": {
                 "color": "#000000"
                },
                "showarrow": false,
                "text": "0.21",
                "x": "month",
                "xref": "x",
                "y": "poutcome",
                "yref": "y"
               },
               {
                "font": {
                 "color": "#FFFFFF"
                },
                "showarrow": false,
                "text": "1.0",
                "x": "poutcome",
                "xref": "x",
                "y": "poutcome",
                "yref": "y"
               }
              ]
             }
            ],
            "label": "Show value",
            "method": "relayout"
           }
          ],
          "direction": "right",
          "pad": {
           "l": -60,
           "r": 0,
           "t": -50
          },
          "type": "buttons",
          "x": 0.1,
          "xanchor": "left",
          "y": 1,
          "yanchor": "top"
         }
        ],
        "width": 1118,
        "xaxis": {
         "constrain": "domain",
         "fixedrange": true,
         "scaleanchor": "y",
         "tickangle": -45
        },
        "yaxis": {
         "autorange": "reversed",
         "fixedrange": true,
         "tickmode": "array",
         "ticktext": [
          "age (N)",
          "balance (N)",
          "day (N)",
          "duration (N)",
          "campaign (N)",
          "pdays (N)",
          "previous (N)",
          "job (C)",
          "marital (C)",
          "education (C)",
          "default (C)",
          "housing (C)",
          "loan (C)",
          "contact (C)",
          "month (C)",
          "poutcome (C)"
         ],
         "tickvals": [
          0,
          1,
          2,
          3,
          4,
          5,
          6,
          7,
          8,
          9,
          10,
          11,
          12,
          13,
          14,
          15
         ]
        }
       }
      },
      "text/html": [
       "<div>                            <div id=\"b9cd838c-08ad-4adb-bc3f-0b6dda115629\" class=\"plotly-graph-div\" style=\"height:766px; width:1118px;\"></div>            <script type=\"text/javascript\">                require([\"plotly\"], function(Plotly) {                    window.PLOTLYENV=window.PLOTLYENV || {};                                    if (document.getElementById(\"b9cd838c-08ad-4adb-bc3f-0b6dda115629\")) {                    Plotly.newPlot(                        \"b9cd838c-08ad-4adb-bc3f-0b6dda115629\",                        [{\"colorscale\":[[0.0,\"rgb(255,255,217)\"],[0.125,\"rgb(237,248,177)\"],[0.25,\"rgb(199,233,180)\"],[0.375,\"rgb(127,205,187)\"],[0.5,\"rgb(65,182,196)\"],[0.625,\"rgb(29,145,192)\"],[0.75,\"rgb(34,94,168)\"],[0.875,\"rgb(37,52,148)\"],[1.0,\"rgb(8,29,88)\"]],\"hovertemplate\":\"Corr ( %{x}, %{y} ) = %{z} <extra></extra>\",\"reversescale\":false,\"showscale\":true,\"x\":[\"age\",\"balance\",\"day\",\"duration\",\"campaign\",\"pdays\",\"previous\",\"job\",\"marital\",\"education\",\"default\",\"housing\",\"loan\",\"contact\",\"month\",\"poutcome\"],\"y\":[\"age\",\"balance\",\"day\",\"duration\",\"campaign\",\"pdays\",\"previous\",\"job\",\"marital\",\"education\",\"default\",\"housing\",\"loan\",\"contact\",\"month\",\"poutcome\"],\"z\":[[1.0,0.1,0.01,0.0,0.0,0.02,0.0,0.5,0.43,0.22,0.02,0.19,0.02,0.17,0.16,0.04],[0.1,1.0,0.0,0.02,0.01,0.0,0.02,0.1,0.03,0.09,0.07,0.07,0.08,0.05,0.16,0.04],[0.01,0.0,1.0,0.03,0.16,0.09,0.05,0.05,0.01,0.03,0.01,0.03,0.01,0.04,0.45,0.09],[0.0,0.02,0.03,1.0,0.08,0.0,0.0,0.04,0.02,0.0,0.01,0.01,0.01,0.03,0.07,0.05],[0.0,0.01,0.16,0.08,1.0,0.09,0.03,0.06,0.03,0.02,0.02,0.02,0.01,0.06,0.23,0.11],[0.02,0.0,0.09,0.0,0.09,1.0,0.45,0.06,0.03,0.02,0.03,0.12,0.02,0.25,0.29,0.88],[0.0,0.02,0.05,0.0,0.03,0.45,1.0,0.04,0.02,0.03,0.02,0.04,0.01,0.15,0.18,0.54],[0.5,0.1,0.05,0.04,0.06,0.06,0.04,1.0,0.21,0.46,0.04,0.28,0.11,0.15,0.11,0.06],[0.43,0.03,0.01,0.02,0.03,0.03,0.02,0.21,1.0,0.12,0.02,0.02,0.05,0.05,0.07,0.03],[0.22,0.09,0.03,0.0,0.02,0.02,0.03,0.46,0.12,1.0,0.02,0.12,0.08,0.12,0.11,0.04],[0.02,0.07,0.01,0.01,0.02,0.03,0.02,0.04,0.02,0.02,1.0,0.01,0.08,0.02,0.06,0.04],[0.19,0.07,0.03,0.01,0.02,0.12,0.04,0.28,0.02,0.12,0.01,1.0,0.04,0.21,0.5,0.14],[0.02,0.08,0.01,0.01,0.01,0.02,0.01,0.11,0.05,0.08,0.08,0.04,1.0,0.02,0.18,0.06],[0.17,0.05,0.04,0.03,0.06,0.25,0.15,0.15,0.05,0.12,0.02,0.21,0.02,1.0,0.51,0.21],[0.16,0.16,0.45,0.07,0.23,0.29,0.18,0.11,0.07,0.11,0.06,0.5,0.18,0.51,1.0,0.21],[0.04,0.04,0.09,0.05,0.11,0.88,0.54,0.06,0.03,0.04,0.04,0.14,0.06,0.21,0.21,1.0]],\"zmax\":1,\"zmin\":0,\"type\":\"heatmap\"}],                        {\"template\":{\"data\":{\"barpolar\":[{\"marker\":{\"line\":{\"color\":\"white\",\"width\":0.5},\"pattern\":{\"fillmode\":\"overlay\",\"size\":10,\"solidity\":0.2}},\"type\":\"barpolar\"}],\"bar\":[{\"error_x\":{\"color\":\"#2a3f5f\"},\"error_y\":{\"color\":\"#2a3f5f\"},\"marker\":{\"line\":{\"color\":\"white\",\"width\":0.5},\"pattern\":{\"fillmode\":\"overlay\",\"size\":10,\"solidity\":0.2}},\"type\":\"bar\"}],\"carpet\":[{\"aaxis\":{\"endlinecolor\":\"#2a3f5f\",\"gridcolor\":\"#C8D4E3\",\"linecolor\":\"#C8D4E3\",\"minorgridcolor\":\"#C8D4E3\",\"startlinecolor\":\"#2a3f5f\"},\"baxis\":{\"endlinecolor\":\"#2a3f5f\",\"gridcolor\":\"#C8D4E3\",\"linecolor\":\"#C8D4E3\",\"minorgridcolor\":\"#C8D4E3\",\"startlinecolor\":\"#2a3f5f\"},\"type\":\"carpet\"}],\"choropleth\":[{\"colorbar\":{\"outlinewidth\":0,\"ticks\":\"\"},\"type\":\"choropleth\"}],\"contourcarpet\":[{\"colorbar\":{\"outlinewidth\":0,\"ticks\":\"\"},\"type\":\"contourcarpet\"}],\"contour\":[{\"colorbar\":{\"outlinewidth\":0,\"ticks\":\"\"},\"colorscale\":[[0.0,\"#0d0887\"],[0.1111111111111111,\"#46039f\"],[0.2222222222222222,\"#7201a8\"],[0.3333333333333333,\"#9c179e\"],[0.4444444444444444,\"#bd3786\"],[0.5555555555555556,\"#d8576b\"],[0.6666666666666666,\"#ed7953\"],[0.7777777777777778,\"#fb9f3a\"],[0.8888888888888888,\"#fdca26\"],[1.0,\"#f0f921\"]],\"type\":\"contour\"}],\"heatmapgl\":[{\"colorbar\":{\"outlinewidth\":0,\"ticks\":\"\"},\"colorscale\":[[0.0,\"#0d0887\"],[0.1111111111111111,\"#46039f\"],[0.2222222222222222,\"#7201a8\"],[0.3333333333333333,\"#9c179e\"],[0.4444444444444444,\"#bd3786\"],[0.5555555555555556,\"#d8576b\"],[0.6666666666666666,\"#ed7953\"],[0.7777777777777778,\"#fb9f3a\"],[0.8888888888888888,\"#fdca26\"],[1.0,\"#f0f921\"]],\"type\":\"heatmapgl\"}],\"heatmap\":[{\"colorbar\":{\"outlinewidth\":0,\"ticks\":\"\"},\"colorscale\":[[0.0,\"#0d0887\"],[0.1111111111111111,\"#46039f\"],[0.2222222222222222,\"#7201a8\"],[0.3333333333333333,\"#9c179e\"],[0.4444444444444444,\"#bd3786\"],[0.5555555555555556,\"#d8576b\"],[0.6666666666666666,\"#ed7953\"],[0.7777777777777778,\"#fb9f3a\"],[0.8888888888888888,\"#fdca26\"],[1.0,\"#f0f921\"]],\"type\":\"heatmap\"}],\"histogram2dcontour\":[{\"colorbar\":{\"outlinewidth\":0,\"ticks\":\"\"},\"colorscale\":[[0.0,\"#0d0887\"],[0.1111111111111111,\"#46039f\"],[0.2222222222222222,\"#7201a8\"],[0.3333333333333333,\"#9c179e\"],[0.4444444444444444,\"#bd3786\"],[0.5555555555555556,\"#d8576b\"],[0.6666666666666666,\"#ed7953\"],[0.7777777777777778,\"#fb9f3a\"],[0.8888888888888888,\"#fdca26\"],[1.0,\"#f0f921\"]],\"type\":\"histogram2dcontour\"}],\"histogram2d\":[{\"colorbar\":{\"outlinewidth\":0,\"ticks\":\"\"},\"colorscale\":[[0.0,\"#0d0887\"],[0.1111111111111111,\"#46039f\"],[0.2222222222222222,\"#7201a8\"],[0.3333333333333333,\"#9c179e\"],[0.4444444444444444,\"#bd3786\"],[0.5555555555555556,\"#d8576b\"],[0.6666666666666666,\"#ed7953\"],[0.7777777777777778,\"#fb9f3a\"],[0.8888888888888888,\"#fdca26\"],[1.0,\"#f0f921\"]],\"type\":\"histogram2d\"}],\"histogram\":[{\"marker\":{\"pattern\":{\"fillmode\":\"overlay\",\"size\":10,\"solidity\":0.2}},\"type\":\"histogram\"}],\"mesh3d\":[{\"colorbar\":{\"outlinewidth\":0,\"ticks\":\"\"},\"type\":\"mesh3d\"}],\"parcoords\":[{\"line\":{\"colorbar\":{\"outlinewidth\":0,\"ticks\":\"\"}},\"type\":\"parcoords\"}],\"pie\":[{\"automargin\":true,\"type\":\"pie\"}],\"scatter3d\":[{\"line\":{\"colorbar\":{\"outlinewidth\":0,\"ticks\":\"\"}},\"marker\":{\"colorbar\":{\"outlinewidth\":0,\"ticks\":\"\"}},\"type\":\"scatter3d\"}],\"scattercarpet\":[{\"marker\":{\"colorbar\":{\"outlinewidth\":0,\"ticks\":\"\"}},\"type\":\"scattercarpet\"}],\"scattergeo\":[{\"marker\":{\"colorbar\":{\"outlinewidth\":0,\"ticks\":\"\"}},\"type\":\"scattergeo\"}],\"scattergl\":[{\"marker\":{\"colorbar\":{\"outlinewidth\":0,\"ticks\":\"\"}},\"type\":\"scattergl\"}],\"scattermapbox\":[{\"marker\":{\"colorbar\":{\"outlinewidth\":0,\"ticks\":\"\"}},\"type\":\"scattermapbox\"}],\"scatterpolargl\":[{\"marker\":{\"colorbar\":{\"outlinewidth\":0,\"ticks\":\"\"}},\"type\":\"scatterpolargl\"}],\"scatterpolar\":[{\"marker\":{\"colorbar\":{\"outlinewidth\":0,\"ticks\":\"\"}},\"type\":\"scatterpolar\"}],\"scatter\":[{\"marker\":{\"colorbar\":{\"outlinewidth\":0,\"ticks\":\"\"}},\"type\":\"scatter\"}],\"scatterternary\":[{\"marker\":{\"colorbar\":{\"outlinewidth\":0,\"ticks\":\"\"}},\"type\":\"scatterternary\"}],\"surface\":[{\"colorbar\":{\"outlinewidth\":0,\"ticks\":\"\"},\"colorscale\":[[0.0,\"#0d0887\"],[0.1111111111111111,\"#46039f\"],[0.2222222222222222,\"#7201a8\"],[0.3333333333333333,\"#9c179e\"],[0.4444444444444444,\"#bd3786\"],[0.5555555555555556,\"#d8576b\"],[0.6666666666666666,\"#ed7953\"],[0.7777777777777778,\"#fb9f3a\"],[0.8888888888888888,\"#fdca26\"],[1.0,\"#f0f921\"]],\"type\":\"surface\"}],\"table\":[{\"cells\":{\"fill\":{\"color\":\"#EBF0F8\"},\"line\":{\"color\":\"white\"}},\"header\":{\"fill\":{\"color\":\"#C8D4E3\"},\"line\":{\"color\":\"white\"}},\"type\":\"table\"}]},\"layout\":{\"annotationdefaults\":{\"arrowcolor\":\"#2a3f5f\",\"arrowhead\":0,\"arrowwidth\":1},\"autotypenumbers\":\"strict\",\"coloraxis\":{\"colorbar\":{\"outlinewidth\":0,\"ticks\":\"\"}},\"colorscale\":{\"diverging\":[[0,\"#8e0152\"],[0.1,\"#c51b7d\"],[0.2,\"#de77ae\"],[0.3,\"#f1b6da\"],[0.4,\"#fde0ef\"],[0.5,\"#f7f7f7\"],[0.6,\"#e6f5d0\"],[0.7,\"#b8e186\"],[0.8,\"#7fbc41\"],[0.9,\"#4d9221\"],[1,\"#276419\"]],\"sequential\":[[0.0,\"#0d0887\"],[0.1111111111111111,\"#46039f\"],[0.2222222222222222,\"#7201a8\"],[0.3333333333333333,\"#9c179e\"],[0.4444444444444444,\"#bd3786\"],[0.5555555555555556,\"#d8576b\"],[0.6666666666666666,\"#ed7953\"],[0.7777777777777778,\"#fb9f3a\"],[0.8888888888888888,\"#fdca26\"],[1.0,\"#f0f921\"]],\"sequentialminus\":[[0.0,\"#0d0887\"],[0.1111111111111111,\"#46039f\"],[0.2222222222222222,\"#7201a8\"],[0.3333333333333333,\"#9c179e\"],[0.4444444444444444,\"#bd3786\"],[0.5555555555555556,\"#d8576b\"],[0.6666666666666666,\"#ed7953\"],[0.7777777777777778,\"#fb9f3a\"],[0.8888888888888888,\"#fdca26\"],[1.0,\"#f0f921\"]]},\"colorway\":[\"#636efa\",\"#EF553B\",\"#00cc96\",\"#ab63fa\",\"#FFA15A\",\"#19d3f3\",\"#FF6692\",\"#B6E880\",\"#FF97FF\",\"#FECB52\"],\"font\":{\"color\":\"#2a3f5f\"},\"geo\":{\"bgcolor\":\"white\",\"lakecolor\":\"white\",\"landcolor\":\"white\",\"showlakes\":true,\"showland\":true,\"subunitcolor\":\"#C8D4E3\"},\"hoverlabel\":{\"align\":\"left\"},\"hovermode\":\"closest\",\"mapbox\":{\"style\":\"light\"},\"paper_bgcolor\":\"white\",\"plot_bgcolor\":\"white\",\"polar\":{\"angularaxis\":{\"gridcolor\":\"#EBF0F8\",\"linecolor\":\"#EBF0F8\",\"ticks\":\"\"},\"bgcolor\":\"white\",\"radialaxis\":{\"gridcolor\":\"#EBF0F8\",\"linecolor\":\"#EBF0F8\",\"ticks\":\"\"}},\"scene\":{\"xaxis\":{\"backgroundcolor\":\"white\",\"gridcolor\":\"#DFE8F3\",\"gridwidth\":2,\"linecolor\":\"#EBF0F8\",\"showbackground\":true,\"ticks\":\"\",\"zerolinecolor\":\"#EBF0F8\"},\"yaxis\":{\"backgroundcolor\":\"white\",\"gridcolor\":\"#DFE8F3\",\"gridwidth\":2,\"linecolor\":\"#EBF0F8\",\"showbackground\":true,\"ticks\":\"\",\"zerolinecolor\":\"#EBF0F8\"},\"zaxis\":{\"backgroundcolor\":\"white\",\"gridcolor\":\"#DFE8F3\",\"gridwidth\":2,\"linecolor\":\"#EBF0F8\",\"showbackground\":true,\"ticks\":\"\",\"zerolinecolor\":\"#EBF0F8\"}},\"shapedefaults\":{\"line\":{\"color\":\"#2a3f5f\"}},\"ternary\":{\"aaxis\":{\"gridcolor\":\"#DFE8F3\",\"linecolor\":\"#A2B1C6\",\"ticks\":\"\"},\"baxis\":{\"gridcolor\":\"#DFE8F3\",\"linecolor\":\"#A2B1C6\",\"ticks\":\"\"},\"bgcolor\":\"white\",\"caxis\":{\"gridcolor\":\"#DFE8F3\",\"linecolor\":\"#A2B1C6\",\"ticks\":\"\"}},\"title\":{\"x\":0.05},\"xaxis\":{\"automargin\":true,\"gridcolor\":\"#EBF0F8\",\"linecolor\":\"#EBF0F8\",\"ticks\":\"\",\"title\":{\"standoff\":15},\"zerolinecolor\":\"#EBF0F8\",\"zerolinewidth\":2},\"yaxis\":{\"automargin\":true,\"gridcolor\":\"#EBF0F8\",\"linecolor\":\"#EBF0F8\",\"ticks\":\"\",\"title\":{\"standoff\":15},\"zerolinecolor\":\"#EBF0F8\",\"zerolinewidth\":2}}},\"title\":{\"text\":\"Correlation\",\"font\":{\"size\":22},\"y\":0.99,\"x\":0,\"xanchor\":\"left\",\"yanchor\":\"top\"},\"xaxis\":{\"scaleanchor\":\"y\",\"constrain\":\"domain\",\"tickangle\":-45,\"fixedrange\":true},\"annotations\":[{\"font\":{\"color\":\"#FFFFFF\"},\"showarrow\":false,\"text\":\"1.0\",\"x\":\"age\",\"xref\":\"x\",\"y\":\"age\",\"yref\":\"y\"},{\"font\":{\"color\":\"#000000\"},\"showarrow\":false,\"text\":\"0.1\",\"x\":\"balance\",\"xref\":\"x\",\"y\":\"age\",\"yref\":\"y\"},{\"font\":{\"color\":\"#000000\"},\"showarrow\":false,\"text\":\"0.01\",\"x\":\"day\",\"xref\":\"x\",\"y\":\"age\",\"yref\":\"y\"},{\"font\":{\"color\":\"#000000\"},\"showarrow\":false,\"text\":\"0.0\",\"x\":\"duration\",\"xref\":\"x\",\"y\":\"age\",\"yref\":\"y\"},{\"font\":{\"color\":\"#000000\"},\"showarrow\":false,\"text\":\"0.0\",\"x\":\"campaign\",\"xref\":\"x\",\"y\":\"age\",\"yref\":\"y\"},{\"font\":{\"color\":\"#000000\"},\"showarrow\":false,\"text\":\"0.02\",\"x\":\"pdays\",\"xref\":\"x\",\"y\":\"age\",\"yref\":\"y\"},{\"font\":{\"color\":\"#000000\"},\"showarrow\":false,\"text\":\"0.0\",\"x\":\"previous\",\"xref\":\"x\",\"y\":\"age\",\"yref\":\"y\"},{\"font\":{\"color\":\"#FFFFFF\"},\"showarrow\":false,\"text\":\"0.5\",\"x\":\"job\",\"xref\":\"x\",\"y\":\"age\",\"yref\":\"y\"},{\"font\":{\"color\":\"#000000\"},\"showarrow\":false,\"text\":\"0.43\",\"x\":\"marital\",\"xref\":\"x\",\"y\":\"age\",\"yref\":\"y\"},{\"font\":{\"color\":\"#000000\"},\"showarrow\":false,\"text\":\"0.22\",\"x\":\"education\",\"xref\":\"x\",\"y\":\"age\",\"yref\":\"y\"},{\"font\":{\"color\":\"#000000\"},\"showarrow\":false,\"text\":\"0.02\",\"x\":\"default\",\"xref\":\"x\",\"y\":\"age\",\"yref\":\"y\"},{\"font\":{\"color\":\"#000000\"},\"showarrow\":false,\"text\":\"0.19\",\"x\":\"housing\",\"xref\":\"x\",\"y\":\"age\",\"yref\":\"y\"},{\"font\":{\"color\":\"#000000\"},\"showarrow\":false,\"text\":\"0.02\",\"x\":\"loan\",\"xref\":\"x\",\"y\":\"age\",\"yref\":\"y\"},{\"font\":{\"color\":\"#000000\"},\"showarrow\":false,\"text\":\"0.17\",\"x\":\"contact\",\"xref\":\"x\",\"y\":\"age\",\"yref\":\"y\"},{\"font\":{\"color\":\"#000000\"},\"showarrow\":false,\"text\":\"0.16\",\"x\":\"month\",\"xref\":\"x\",\"y\":\"age\",\"yref\":\"y\"},{\"font\":{\"color\":\"#000000\"},\"showarrow\":false,\"text\":\"0.04\",\"x\":\"poutcome\",\"xref\":\"x\",\"y\":\"age\",\"yref\":\"y\"},{\"font\":{\"color\":\"#000000\"},\"showarrow\":false,\"text\":\"0.1\",\"x\":\"age\",\"xref\":\"x\",\"y\":\"balance\",\"yref\":\"y\"},{\"font\":{\"color\":\"#FFFFFF\"},\"showarrow\":false,\"text\":\"1.0\",\"x\":\"balance\",\"xref\":\"x\",\"y\":\"balance\",\"yref\":\"y\"},{\"font\":{\"color\":\"#000000\"},\"showarrow\":false,\"text\":\"0.0\",\"x\":\"day\",\"xref\":\"x\",\"y\":\"balance\",\"yref\":\"y\"},{\"font\":{\"color\":\"#000000\"},\"showarrow\":false,\"text\":\"0.02\",\"x\":\"duration\",\"xref\":\"x\",\"y\":\"balance\",\"yref\":\"y\"},{\"font\":{\"color\":\"#000000\"},\"showarrow\":false,\"text\":\"0.01\",\"x\":\"campaign\",\"xref\":\"x\",\"y\":\"balance\",\"yref\":\"y\"},{\"font\":{\"color\":\"#000000\"},\"showarrow\":false,\"text\":\"0.0\",\"x\":\"pdays\",\"xref\":\"x\",\"y\":\"balance\",\"yref\":\"y\"},{\"font\":{\"color\":\"#000000\"},\"showarrow\":false,\"text\":\"0.02\",\"x\":\"previous\",\"xref\":\"x\",\"y\":\"balance\",\"yref\":\"y\"},{\"font\":{\"color\":\"#000000\"},\"showarrow\":false,\"text\":\"0.1\",\"x\":\"job\",\"xref\":\"x\",\"y\":\"balance\",\"yref\":\"y\"},{\"font\":{\"color\":\"#000000\"},\"showarrow\":false,\"text\":\"0.03\",\"x\":\"marital\",\"xref\":\"x\",\"y\":\"balance\",\"yref\":\"y\"},{\"font\":{\"color\":\"#000000\"},\"showarrow\":false,\"text\":\"0.09\",\"x\":\"education\",\"xref\":\"x\",\"y\":\"balance\",\"yref\":\"y\"},{\"font\":{\"color\":\"#000000\"},\"showarrow\":false,\"text\":\"0.07\",\"x\":\"default\",\"xref\":\"x\",\"y\":\"balance\",\"yref\":\"y\"},{\"font\":{\"color\":\"#000000\"},\"showarrow\":false,\"text\":\"0.07\",\"x\":\"housing\",\"xref\":\"x\",\"y\":\"balance\",\"yref\":\"y\"},{\"font\":{\"color\":\"#000000\"},\"showarrow\":false,\"text\":\"0.08\",\"x\":\"loan\",\"xref\":\"x\",\"y\":\"balance\",\"yref\":\"y\"},{\"font\":{\"color\":\"#000000\"},\"showarrow\":false,\"text\":\"0.05\",\"x\":\"contact\",\"xref\":\"x\",\"y\":\"balance\",\"yref\":\"y\"},{\"font\":{\"color\":\"#000000\"},\"showarrow\":false,\"text\":\"0.16\",\"x\":\"month\",\"xref\":\"x\",\"y\":\"balance\",\"yref\":\"y\"},{\"font\":{\"color\":\"#000000\"},\"showarrow\":false,\"text\":\"0.04\",\"x\":\"poutcome\",\"xref\":\"x\",\"y\":\"balance\",\"yref\":\"y\"},{\"font\":{\"color\":\"#000000\"},\"showarrow\":false,\"text\":\"0.01\",\"x\":\"age\",\"xref\":\"x\",\"y\":\"day\",\"yref\":\"y\"},{\"font\":{\"color\":\"#000000\"},\"showarrow\":false,\"text\":\"0.0\",\"x\":\"balance\",\"xref\":\"x\",\"y\":\"day\",\"yref\":\"y\"},{\"font\":{\"color\":\"#FFFFFF\"},\"showarrow\":false,\"text\":\"1.0\",\"x\":\"day\",\"xref\":\"x\",\"y\":\"day\",\"yref\":\"y\"},{\"font\":{\"color\":\"#000000\"},\"showarrow\":false,\"text\":\"0.03\",\"x\":\"duration\",\"xref\":\"x\",\"y\":\"day\",\"yref\":\"y\"},{\"font\":{\"color\":\"#000000\"},\"showarrow\":false,\"text\":\"0.16\",\"x\":\"campaign\",\"xref\":\"x\",\"y\":\"day\",\"yref\":\"y\"},{\"font\":{\"color\":\"#000000\"},\"showarrow\":false,\"text\":\"0.09\",\"x\":\"pdays\",\"xref\":\"x\",\"y\":\"day\",\"yref\":\"y\"},{\"font\":{\"color\":\"#000000\"},\"showarrow\":false,\"text\":\"0.05\",\"x\":\"previous\",\"xref\":\"x\",\"y\":\"day\",\"yref\":\"y\"},{\"font\":{\"color\":\"#000000\"},\"showarrow\":false,\"text\":\"0.05\",\"x\":\"job\",\"xref\":\"x\",\"y\":\"day\",\"yref\":\"y\"},{\"font\":{\"color\":\"#000000\"},\"showarrow\":false,\"text\":\"0.01\",\"x\":\"marital\",\"xref\":\"x\",\"y\":\"day\",\"yref\":\"y\"},{\"font\":{\"color\":\"#000000\"},\"showarrow\":false,\"text\":\"0.03\",\"x\":\"education\",\"xref\":\"x\",\"y\":\"day\",\"yref\":\"y\"},{\"font\":{\"color\":\"#000000\"},\"showarrow\":false,\"text\":\"0.01\",\"x\":\"default\",\"xref\":\"x\",\"y\":\"day\",\"yref\":\"y\"},{\"font\":{\"color\":\"#000000\"},\"showarrow\":false,\"text\":\"0.03\",\"x\":\"housing\",\"xref\":\"x\",\"y\":\"day\",\"yref\":\"y\"},{\"font\":{\"color\":\"#000000\"},\"showarrow\":false,\"text\":\"0.01\",\"x\":\"loan\",\"xref\":\"x\",\"y\":\"day\",\"yref\":\"y\"},{\"font\":{\"color\":\"#000000\"},\"showarrow\":false,\"text\":\"0.04\",\"x\":\"contact\",\"xref\":\"x\",\"y\":\"day\",\"yref\":\"y\"},{\"font\":{\"color\":\"#000000\"},\"showarrow\":false,\"text\":\"0.45\",\"x\":\"month\",\"xref\":\"x\",\"y\":\"day\",\"yref\":\"y\"},{\"font\":{\"color\":\"#000000\"},\"showarrow\":false,\"text\":\"0.09\",\"x\":\"poutcome\",\"xref\":\"x\",\"y\":\"day\",\"yref\":\"y\"},{\"font\":{\"color\":\"#000000\"},\"showarrow\":false,\"text\":\"0.0\",\"x\":\"age\",\"xref\":\"x\",\"y\":\"duration\",\"yref\":\"y\"},{\"font\":{\"color\":\"#000000\"},\"showarrow\":false,\"text\":\"0.02\",\"x\":\"balance\",\"xref\":\"x\",\"y\":\"duration\",\"yref\":\"y\"},{\"font\":{\"color\":\"#000000\"},\"showarrow\":false,\"text\":\"0.03\",\"x\":\"day\",\"xref\":\"x\",\"y\":\"duration\",\"yref\":\"y\"},{\"font\":{\"color\":\"#FFFFFF\"},\"showarrow\":false,\"text\":\"1.0\",\"x\":\"duration\",\"xref\":\"x\",\"y\":\"duration\",\"yref\":\"y\"},{\"font\":{\"color\":\"#000000\"},\"showarrow\":false,\"text\":\"0.08\",\"x\":\"campaign\",\"xref\":\"x\",\"y\":\"duration\",\"yref\":\"y\"},{\"font\":{\"color\":\"#000000\"},\"showarrow\":false,\"text\":\"0.0\",\"x\":\"pdays\",\"xref\":\"x\",\"y\":\"duration\",\"yref\":\"y\"},{\"font\":{\"color\":\"#000000\"},\"showarrow\":false,\"text\":\"0.0\",\"x\":\"previous\",\"xref\":\"x\",\"y\":\"duration\",\"yref\":\"y\"},{\"font\":{\"color\":\"#000000\"},\"showarrow\":false,\"text\":\"0.04\",\"x\":\"job\",\"xref\":\"x\",\"y\":\"duration\",\"yref\":\"y\"},{\"font\":{\"color\":\"#000000\"},\"showarrow\":false,\"text\":\"0.02\",\"x\":\"marital\",\"xref\":\"x\",\"y\":\"duration\",\"yref\":\"y\"},{\"font\":{\"color\":\"#000000\"},\"showarrow\":false,\"text\":\"0.0\",\"x\":\"education\",\"xref\":\"x\",\"y\":\"duration\",\"yref\":\"y\"},{\"font\":{\"color\":\"#000000\"},\"showarrow\":false,\"text\":\"0.01\",\"x\":\"default\",\"xref\":\"x\",\"y\":\"duration\",\"yref\":\"y\"},{\"font\":{\"color\":\"#000000\"},\"showarrow\":false,\"text\":\"0.01\",\"x\":\"housing\",\"xref\":\"x\",\"y\":\"duration\",\"yref\":\"y\"},{\"font\":{\"color\":\"#000000\"},\"showarrow\":false,\"text\":\"0.01\",\"x\":\"loan\",\"xref\":\"x\",\"y\":\"duration\",\"yref\":\"y\"},{\"font\":{\"color\":\"#000000\"},\"showarrow\":false,\"text\":\"0.03\",\"x\":\"contact\",\"xref\":\"x\",\"y\":\"duration\",\"yref\":\"y\"},{\"font\":{\"color\":\"#000000\"},\"showarrow\":false,\"text\":\"0.07\",\"x\":\"month\",\"xref\":\"x\",\"y\":\"duration\",\"yref\":\"y\"},{\"font\":{\"color\":\"#000000\"},\"showarrow\":false,\"text\":\"0.05\",\"x\":\"poutcome\",\"xref\":\"x\",\"y\":\"duration\",\"yref\":\"y\"},{\"font\":{\"color\":\"#000000\"},\"showarrow\":false,\"text\":\"0.0\",\"x\":\"age\",\"xref\":\"x\",\"y\":\"campaign\",\"yref\":\"y\"},{\"font\":{\"color\":\"#000000\"},\"showarrow\":false,\"text\":\"0.01\",\"x\":\"balance\",\"xref\":\"x\",\"y\":\"campaign\",\"yref\":\"y\"},{\"font\":{\"color\":\"#000000\"},\"showarrow\":false,\"text\":\"0.16\",\"x\":\"day\",\"xref\":\"x\",\"y\":\"campaign\",\"yref\":\"y\"},{\"font\":{\"color\":\"#000000\"},\"showarrow\":false,\"text\":\"0.08\",\"x\":\"duration\",\"xref\":\"x\",\"y\":\"campaign\",\"yref\":\"y\"},{\"font\":{\"color\":\"#FFFFFF\"},\"showarrow\":false,\"text\":\"1.0\",\"x\":\"campaign\",\"xref\":\"x\",\"y\":\"campaign\",\"yref\":\"y\"},{\"font\":{\"color\":\"#000000\"},\"showarrow\":false,\"text\":\"0.09\",\"x\":\"pdays\",\"xref\":\"x\",\"y\":\"campaign\",\"yref\":\"y\"},{\"font\":{\"color\":\"#000000\"},\"showarrow\":false,\"text\":\"0.03\",\"x\":\"previous\",\"xref\":\"x\",\"y\":\"campaign\",\"yref\":\"y\"},{\"font\":{\"color\":\"#000000\"},\"showarrow\":false,\"text\":\"0.06\",\"x\":\"job\",\"xref\":\"x\",\"y\":\"campaign\",\"yref\":\"y\"},{\"font\":{\"color\":\"#000000\"},\"showarrow\":false,\"text\":\"0.03\",\"x\":\"marital\",\"xref\":\"x\",\"y\":\"campaign\",\"yref\":\"y\"},{\"font\":{\"color\":\"#000000\"},\"showarrow\":false,\"text\":\"0.02\",\"x\":\"education\",\"xref\":\"x\",\"y\":\"campaign\",\"yref\":\"y\"},{\"font\":{\"color\":\"#000000\"},\"showarrow\":false,\"text\":\"0.02\",\"x\":\"default\",\"xref\":\"x\",\"y\":\"campaign\",\"yref\":\"y\"},{\"font\":{\"color\":\"#000000\"},\"showarrow\":false,\"text\":\"0.02\",\"x\":\"housing\",\"xref\":\"x\",\"y\":\"campaign\",\"yref\":\"y\"},{\"font\":{\"color\":\"#000000\"},\"showarrow\":false,\"text\":\"0.01\",\"x\":\"loan\",\"xref\":\"x\",\"y\":\"campaign\",\"yref\":\"y\"},{\"font\":{\"color\":\"#000000\"},\"showarrow\":false,\"text\":\"0.06\",\"x\":\"contact\",\"xref\":\"x\",\"y\":\"campaign\",\"yref\":\"y\"},{\"font\":{\"color\":\"#000000\"},\"showarrow\":false,\"text\":\"0.23\",\"x\":\"month\",\"xref\":\"x\",\"y\":\"campaign\",\"yref\":\"y\"},{\"font\":{\"color\":\"#000000\"},\"showarrow\":false,\"text\":\"0.11\",\"x\":\"poutcome\",\"xref\":\"x\",\"y\":\"campaign\",\"yref\":\"y\"},{\"font\":{\"color\":\"#000000\"},\"showarrow\":false,\"text\":\"0.02\",\"x\":\"age\",\"xref\":\"x\",\"y\":\"pdays\",\"yref\":\"y\"},{\"font\":{\"color\":\"#000000\"},\"showarrow\":false,\"text\":\"0.0\",\"x\":\"balance\",\"xref\":\"x\",\"y\":\"pdays\",\"yref\":\"y\"},{\"font\":{\"color\":\"#000000\"},\"showarrow\":false,\"text\":\"0.09\",\"x\":\"day\",\"xref\":\"x\",\"y\":\"pdays\",\"yref\":\"y\"},{\"font\":{\"color\":\"#000000\"},\"showarrow\":false,\"text\":\"0.0\",\"x\":\"duration\",\"xref\":\"x\",\"y\":\"pdays\",\"yref\":\"y\"},{\"font\":{\"color\":\"#000000\"},\"showarrow\":false,\"text\":\"0.09\",\"x\":\"campaign\",\"xref\":\"x\",\"y\":\"pdays\",\"yref\":\"y\"},{\"font\":{\"color\":\"#FFFFFF\"},\"showarrow\":false,\"text\":\"1.0\",\"x\":\"pdays\",\"xref\":\"x\",\"y\":\"pdays\",\"yref\":\"y\"},{\"font\":{\"color\":\"#000000\"},\"showarrow\":false,\"text\":\"0.45\",\"x\":\"previous\",\"xref\":\"x\",\"y\":\"pdays\",\"yref\":\"y\"},{\"font\":{\"color\":\"#000000\"},\"showarrow\":false,\"text\":\"0.06\",\"x\":\"job\",\"xref\":\"x\",\"y\":\"pdays\",\"yref\":\"y\"},{\"font\":{\"color\":\"#000000\"},\"showarrow\":false,\"text\":\"0.03\",\"x\":\"marital\",\"xref\":\"x\",\"y\":\"pdays\",\"yref\":\"y\"},{\"font\":{\"color\":\"#000000\"},\"showarrow\":false,\"text\":\"0.02\",\"x\":\"education\",\"xref\":\"x\",\"y\":\"pdays\",\"yref\":\"y\"},{\"font\":{\"color\":\"#000000\"},\"showarrow\":false,\"text\":\"0.03\",\"x\":\"default\",\"xref\":\"x\",\"y\":\"pdays\",\"yref\":\"y\"},{\"font\":{\"color\":\"#000000\"},\"showarrow\":false,\"text\":\"0.12\",\"x\":\"housing\",\"xref\":\"x\",\"y\":\"pdays\",\"yref\":\"y\"},{\"font\":{\"color\":\"#000000\"},\"showarrow\":false,\"text\":\"0.02\",\"x\":\"loan\",\"xref\":\"x\",\"y\":\"pdays\",\"yref\":\"y\"},{\"font\":{\"color\":\"#000000\"},\"showarrow\":false,\"text\":\"0.25\",\"x\":\"contact\",\"xref\":\"x\",\"y\":\"pdays\",\"yref\":\"y\"},{\"font\":{\"color\":\"#000000\"},\"showarrow\":false,\"text\":\"0.29\",\"x\":\"month\",\"xref\":\"x\",\"y\":\"pdays\",\"yref\":\"y\"},{\"font\":{\"color\":\"#FFFFFF\"},\"showarrow\":false,\"text\":\"0.88\",\"x\":\"poutcome\",\"xref\":\"x\",\"y\":\"pdays\",\"yref\":\"y\"},{\"font\":{\"color\":\"#000000\"},\"showarrow\":false,\"text\":\"0.0\",\"x\":\"age\",\"xref\":\"x\",\"y\":\"previous\",\"yref\":\"y\"},{\"font\":{\"color\":\"#000000\"},\"showarrow\":false,\"text\":\"0.02\",\"x\":\"balance\",\"xref\":\"x\",\"y\":\"previous\",\"yref\":\"y\"},{\"font\":{\"color\":\"#000000\"},\"showarrow\":false,\"text\":\"0.05\",\"x\":\"day\",\"xref\":\"x\",\"y\":\"previous\",\"yref\":\"y\"},{\"font\":{\"color\":\"#000000\"},\"showarrow\":false,\"text\":\"0.0\",\"x\":\"duration\",\"xref\":\"x\",\"y\":\"previous\",\"yref\":\"y\"},{\"font\":{\"color\":\"#000000\"},\"showarrow\":false,\"text\":\"0.03\",\"x\":\"campaign\",\"xref\":\"x\",\"y\":\"previous\",\"yref\":\"y\"},{\"font\":{\"color\":\"#000000\"},\"showarrow\":false,\"text\":\"0.45\",\"x\":\"pdays\",\"xref\":\"x\",\"y\":\"previous\",\"yref\":\"y\"},{\"font\":{\"color\":\"#FFFFFF\"},\"showarrow\":false,\"text\":\"1.0\",\"x\":\"previous\",\"xref\":\"x\",\"y\":\"previous\",\"yref\":\"y\"},{\"font\":{\"color\":\"#000000\"},\"showarrow\":false,\"text\":\"0.04\",\"x\":\"job\",\"xref\":\"x\",\"y\":\"previous\",\"yref\":\"y\"},{\"font\":{\"color\":\"#000000\"},\"showarrow\":false,\"text\":\"0.02\",\"x\":\"marital\",\"xref\":\"x\",\"y\":\"previous\",\"yref\":\"y\"},{\"font\":{\"color\":\"#000000\"},\"showarrow\":false,\"text\":\"0.03\",\"x\":\"education\",\"xref\":\"x\",\"y\":\"previous\",\"yref\":\"y\"},{\"font\":{\"color\":\"#000000\"},\"showarrow\":false,\"text\":\"0.02\",\"x\":\"default\",\"xref\":\"x\",\"y\":\"previous\",\"yref\":\"y\"},{\"font\":{\"color\":\"#000000\"},\"showarrow\":false,\"text\":\"0.04\",\"x\":\"housing\",\"xref\":\"x\",\"y\":\"previous\",\"yref\":\"y\"},{\"font\":{\"color\":\"#000000\"},\"showarrow\":false,\"text\":\"0.01\",\"x\":\"loan\",\"xref\":\"x\",\"y\":\"previous\",\"yref\":\"y\"},{\"font\":{\"color\":\"#000000\"},\"showarrow\":false,\"text\":\"0.15\",\"x\":\"contact\",\"xref\":\"x\",\"y\":\"previous\",\"yref\":\"y\"},{\"font\":{\"color\":\"#000000\"},\"showarrow\":false,\"text\":\"0.18\",\"x\":\"month\",\"xref\":\"x\",\"y\":\"previous\",\"yref\":\"y\"},{\"font\":{\"color\":\"#FFFFFF\"},\"showarrow\":false,\"text\":\"0.54\",\"x\":\"poutcome\",\"xref\":\"x\",\"y\":\"previous\",\"yref\":\"y\"},{\"font\":{\"color\":\"#FFFFFF\"},\"showarrow\":false,\"text\":\"0.5\",\"x\":\"age\",\"xref\":\"x\",\"y\":\"job\",\"yref\":\"y\"},{\"font\":{\"color\":\"#000000\"},\"showarrow\":false,\"text\":\"0.1\",\"x\":\"balance\",\"xref\":\"x\",\"y\":\"job\",\"yref\":\"y\"},{\"font\":{\"color\":\"#000000\"},\"showarrow\":false,\"text\":\"0.05\",\"x\":\"day\",\"xref\":\"x\",\"y\":\"job\",\"yref\":\"y\"},{\"font\":{\"color\":\"#000000\"},\"showarrow\":false,\"text\":\"0.04\",\"x\":\"duration\",\"xref\":\"x\",\"y\":\"job\",\"yref\":\"y\"},{\"font\":{\"color\":\"#000000\"},\"showarrow\":false,\"text\":\"0.06\",\"x\":\"campaign\",\"xref\":\"x\",\"y\":\"job\",\"yref\":\"y\"},{\"font\":{\"color\":\"#000000\"},\"showarrow\":false,\"text\":\"0.06\",\"x\":\"pdays\",\"xref\":\"x\",\"y\":\"job\",\"yref\":\"y\"},{\"font\":{\"color\":\"#000000\"},\"showarrow\":false,\"text\":\"0.04\",\"x\":\"previous\",\"xref\":\"x\",\"y\":\"job\",\"yref\":\"y\"},{\"font\":{\"color\":\"#FFFFFF\"},\"showarrow\":false,\"text\":\"1.0\",\"x\":\"job\",\"xref\":\"x\",\"y\":\"job\",\"yref\":\"y\"},{\"font\":{\"color\":\"#000000\"},\"showarrow\":false,\"text\":\"0.21\",\"x\":\"marital\",\"xref\":\"x\",\"y\":\"job\",\"yref\":\"y\"},{\"font\":{\"color\":\"#000000\"},\"showarrow\":false,\"text\":\"0.46\",\"x\":\"education\",\"xref\":\"x\",\"y\":\"job\",\"yref\":\"y\"},{\"font\":{\"color\":\"#000000\"},\"showarrow\":false,\"text\":\"0.04\",\"x\":\"default\",\"xref\":\"x\",\"y\":\"job\",\"yref\":\"y\"},{\"font\":{\"color\":\"#000000\"},\"showarrow\":false,\"text\":\"0.28\",\"x\":\"housing\",\"xref\":\"x\",\"y\":\"job\",\"yref\":\"y\"},{\"font\":{\"color\":\"#000000\"},\"showarrow\":false,\"text\":\"0.11\",\"x\":\"loan\",\"xref\":\"x\",\"y\":\"job\",\"yref\":\"y\"},{\"font\":{\"color\":\"#000000\"},\"showarrow\":false,\"text\":\"0.15\",\"x\":\"contact\",\"xref\":\"x\",\"y\":\"job\",\"yref\":\"y\"},{\"font\":{\"color\":\"#000000\"},\"showarrow\":false,\"text\":\"0.11\",\"x\":\"month\",\"xref\":\"x\",\"y\":\"job\",\"yref\":\"y\"},{\"font\":{\"color\":\"#000000\"},\"showarrow\":false,\"text\":\"0.06\",\"x\":\"poutcome\",\"xref\":\"x\",\"y\":\"job\",\"yref\":\"y\"},{\"font\":{\"color\":\"#000000\"},\"showarrow\":false,\"text\":\"0.43\",\"x\":\"age\",\"xref\":\"x\",\"y\":\"marital\",\"yref\":\"y\"},{\"font\":{\"color\":\"#000000\"},\"showarrow\":false,\"text\":\"0.03\",\"x\":\"balance\",\"xref\":\"x\",\"y\":\"marital\",\"yref\":\"y\"},{\"font\":{\"color\":\"#000000\"},\"showarrow\":false,\"text\":\"0.01\",\"x\":\"day\",\"xref\":\"x\",\"y\":\"marital\",\"yref\":\"y\"},{\"font\":{\"color\":\"#000000\"},\"showarrow\":false,\"text\":\"0.02\",\"x\":\"duration\",\"xref\":\"x\",\"y\":\"marital\",\"yref\":\"y\"},{\"font\":{\"color\":\"#000000\"},\"showarrow\":false,\"text\":\"0.03\",\"x\":\"campaign\",\"xref\":\"x\",\"y\":\"marital\",\"yref\":\"y\"},{\"font\":{\"color\":\"#000000\"},\"showarrow\":false,\"text\":\"0.03\",\"x\":\"pdays\",\"xref\":\"x\",\"y\":\"marital\",\"yref\":\"y\"},{\"font\":{\"color\":\"#000000\"},\"showarrow\":false,\"text\":\"0.02\",\"x\":\"previous\",\"xref\":\"x\",\"y\":\"marital\",\"yref\":\"y\"},{\"font\":{\"color\":\"#000000\"},\"showarrow\":false,\"text\":\"0.21\",\"x\":\"job\",\"xref\":\"x\",\"y\":\"marital\",\"yref\":\"y\"},{\"font\":{\"color\":\"#FFFFFF\"},\"showarrow\":false,\"text\":\"1.0\",\"x\":\"marital\",\"xref\":\"x\",\"y\":\"marital\",\"yref\":\"y\"},{\"font\":{\"color\":\"#000000\"},\"showarrow\":false,\"text\":\"0.12\",\"x\":\"education\",\"xref\":\"x\",\"y\":\"marital\",\"yref\":\"y\"},{\"font\":{\"color\":\"#000000\"},\"showarrow\":false,\"text\":\"0.02\",\"x\":\"default\",\"xref\":\"x\",\"y\":\"marital\",\"yref\":\"y\"},{\"font\":{\"color\":\"#000000\"},\"showarrow\":false,\"text\":\"0.02\",\"x\":\"housing\",\"xref\":\"x\",\"y\":\"marital\",\"yref\":\"y\"},{\"font\":{\"color\":\"#000000\"},\"showarrow\":false,\"text\":\"0.05\",\"x\":\"loan\",\"xref\":\"x\",\"y\":\"marital\",\"yref\":\"y\"},{\"font\":{\"color\":\"#000000\"},\"showarrow\":false,\"text\":\"0.05\",\"x\":\"contact\",\"xref\":\"x\",\"y\":\"marital\",\"yref\":\"y\"},{\"font\":{\"color\":\"#000000\"},\"showarrow\":false,\"text\":\"0.07\",\"x\":\"month\",\"xref\":\"x\",\"y\":\"marital\",\"yref\":\"y\"},{\"font\":{\"color\":\"#000000\"},\"showarrow\":false,\"text\":\"0.03\",\"x\":\"poutcome\",\"xref\":\"x\",\"y\":\"marital\",\"yref\":\"y\"},{\"font\":{\"color\":\"#000000\"},\"showarrow\":false,\"text\":\"0.22\",\"x\":\"age\",\"xref\":\"x\",\"y\":\"education\",\"yref\":\"y\"},{\"font\":{\"color\":\"#000000\"},\"showarrow\":false,\"text\":\"0.09\",\"x\":\"balance\",\"xref\":\"x\",\"y\":\"education\",\"yref\":\"y\"},{\"font\":{\"color\":\"#000000\"},\"showarrow\":false,\"text\":\"0.03\",\"x\":\"day\",\"xref\":\"x\",\"y\":\"education\",\"yref\":\"y\"},{\"font\":{\"color\":\"#000000\"},\"showarrow\":false,\"text\":\"0.0\",\"x\":\"duration\",\"xref\":\"x\",\"y\":\"education\",\"yref\":\"y\"},{\"font\":{\"color\":\"#000000\"},\"showarrow\":false,\"text\":\"0.02\",\"x\":\"campaign\",\"xref\":\"x\",\"y\":\"education\",\"yref\":\"y\"},{\"font\":{\"color\":\"#000000\"},\"showarrow\":false,\"text\":\"0.02\",\"x\":\"pdays\",\"xref\":\"x\",\"y\":\"education\",\"yref\":\"y\"},{\"font\":{\"color\":\"#000000\"},\"showarrow\":false,\"text\":\"0.03\",\"x\":\"previous\",\"xref\":\"x\",\"y\":\"education\",\"yref\":\"y\"},{\"font\":{\"color\":\"#000000\"},\"showarrow\":false,\"text\":\"0.46\",\"x\":\"job\",\"xref\":\"x\",\"y\":\"education\",\"yref\":\"y\"},{\"font\":{\"color\":\"#000000\"},\"showarrow\":false,\"text\":\"0.12\",\"x\":\"marital\",\"xref\":\"x\",\"y\":\"education\",\"yref\":\"y\"},{\"font\":{\"color\":\"#FFFFFF\"},\"showarrow\":false,\"text\":\"1.0\",\"x\":\"education\",\"xref\":\"x\",\"y\":\"education\",\"yref\":\"y\"},{\"font\":{\"color\":\"#000000\"},\"showarrow\":false,\"text\":\"0.02\",\"x\":\"default\",\"xref\":\"x\",\"y\":\"education\",\"yref\":\"y\"},{\"font\":{\"color\":\"#000000\"},\"showarrow\":false,\"text\":\"0.12\",\"x\":\"housing\",\"xref\":\"x\",\"y\":\"education\",\"yref\":\"y\"},{\"font\":{\"color\":\"#000000\"},\"showarrow\":false,\"text\":\"0.08\",\"x\":\"loan\",\"xref\":\"x\",\"y\":\"education\",\"yref\":\"y\"},{\"font\":{\"color\":\"#000000\"},\"showarrow\":false,\"text\":\"0.12\",\"x\":\"contact\",\"xref\":\"x\",\"y\":\"education\",\"yref\":\"y\"},{\"font\":{\"color\":\"#000000\"},\"showarrow\":false,\"text\":\"0.11\",\"x\":\"month\",\"xref\":\"x\",\"y\":\"education\",\"yref\":\"y\"},{\"font\":{\"color\":\"#000000\"},\"showarrow\":false,\"text\":\"0.04\",\"x\":\"poutcome\",\"xref\":\"x\",\"y\":\"education\",\"yref\":\"y\"},{\"font\":{\"color\":\"#000000\"},\"showarrow\":false,\"text\":\"0.02\",\"x\":\"age\",\"xref\":\"x\",\"y\":\"default\",\"yref\":\"y\"},{\"font\":{\"color\":\"#000000\"},\"showarrow\":false,\"text\":\"0.07\",\"x\":\"balance\",\"xref\":\"x\",\"y\":\"default\",\"yref\":\"y\"},{\"font\":{\"color\":\"#000000\"},\"showarrow\":false,\"text\":\"0.01\",\"x\":\"day\",\"xref\":\"x\",\"y\":\"default\",\"yref\":\"y\"},{\"font\":{\"color\":\"#000000\"},\"showarrow\":false,\"text\":\"0.01\",\"x\":\"duration\",\"xref\":\"x\",\"y\":\"default\",\"yref\":\"y\"},{\"font\":{\"color\":\"#000000\"},\"showarrow\":false,\"text\":\"0.02\",\"x\":\"campaign\",\"xref\":\"x\",\"y\":\"default\",\"yref\":\"y\"},{\"font\":{\"color\":\"#000000\"},\"showarrow\":false,\"text\":\"0.03\",\"x\":\"pdays\",\"xref\":\"x\",\"y\":\"default\",\"yref\":\"y\"},{\"font\":{\"color\":\"#000000\"},\"showarrow\":false,\"text\":\"0.02\",\"x\":\"previous\",\"xref\":\"x\",\"y\":\"default\",\"yref\":\"y\"},{\"font\":{\"color\":\"#000000\"},\"showarrow\":false,\"text\":\"0.04\",\"x\":\"job\",\"xref\":\"x\",\"y\":\"default\",\"yref\":\"y\"},{\"font\":{\"color\":\"#000000\"},\"showarrow\":false,\"text\":\"0.02\",\"x\":\"marital\",\"xref\":\"x\",\"y\":\"default\",\"yref\":\"y\"},{\"font\":{\"color\":\"#000000\"},\"showarrow\":false,\"text\":\"0.02\",\"x\":\"education\",\"xref\":\"x\",\"y\":\"default\",\"yref\":\"y\"},{\"font\":{\"color\":\"#FFFFFF\"},\"showarrow\":false,\"text\":\"1.0\",\"x\":\"default\",\"xref\":\"x\",\"y\":\"default\",\"yref\":\"y\"},{\"font\":{\"color\":\"#000000\"},\"showarrow\":false,\"text\":\"0.01\",\"x\":\"housing\",\"xref\":\"x\",\"y\":\"default\",\"yref\":\"y\"},{\"font\":{\"color\":\"#000000\"},\"showarrow\":false,\"text\":\"0.08\",\"x\":\"loan\",\"xref\":\"x\",\"y\":\"default\",\"yref\":\"y\"},{\"font\":{\"color\":\"#000000\"},\"showarrow\":false,\"text\":\"0.02\",\"x\":\"contact\",\"xref\":\"x\",\"y\":\"default\",\"yref\":\"y\"},{\"font\":{\"color\":\"#000000\"},\"showarrow\":false,\"text\":\"0.06\",\"x\":\"month\",\"xref\":\"x\",\"y\":\"default\",\"yref\":\"y\"},{\"font\":{\"color\":\"#000000\"},\"showarrow\":false,\"text\":\"0.04\",\"x\":\"poutcome\",\"xref\":\"x\",\"y\":\"default\",\"yref\":\"y\"},{\"font\":{\"color\":\"#000000\"},\"showarrow\":false,\"text\":\"0.19\",\"x\":\"age\",\"xref\":\"x\",\"y\":\"housing\",\"yref\":\"y\"},{\"font\":{\"color\":\"#000000\"},\"showarrow\":false,\"text\":\"0.07\",\"x\":\"balance\",\"xref\":\"x\",\"y\":\"housing\",\"yref\":\"y\"},{\"font\":{\"color\":\"#000000\"},\"showarrow\":false,\"text\":\"0.03\",\"x\":\"day\",\"xref\":\"x\",\"y\":\"housing\",\"yref\":\"y\"},{\"font\":{\"color\":\"#000000\"},\"showarrow\":false,\"text\":\"0.01\",\"x\":\"duration\",\"xref\":\"x\",\"y\":\"housing\",\"yref\":\"y\"},{\"font\":{\"color\":\"#000000\"},\"showarrow\":false,\"text\":\"0.02\",\"x\":\"campaign\",\"xref\":\"x\",\"y\":\"housing\",\"yref\":\"y\"},{\"font\":{\"color\":\"#000000\"},\"showarrow\":false,\"text\":\"0.12\",\"x\":\"pdays\",\"xref\":\"x\",\"y\":\"housing\",\"yref\":\"y\"},{\"font\":{\"color\":\"#000000\"},\"showarrow\":false,\"text\":\"0.04\",\"x\":\"previous\",\"xref\":\"x\",\"y\":\"housing\",\"yref\":\"y\"},{\"font\":{\"color\":\"#000000\"},\"showarrow\":false,\"text\":\"0.28\",\"x\":\"job\",\"xref\":\"x\",\"y\":\"housing\",\"yref\":\"y\"},{\"font\":{\"color\":\"#000000\"},\"showarrow\":false,\"text\":\"0.02\",\"x\":\"marital\",\"xref\":\"x\",\"y\":\"housing\",\"yref\":\"y\"},{\"font\":{\"color\":\"#000000\"},\"showarrow\":false,\"text\":\"0.12\",\"x\":\"education\",\"xref\":\"x\",\"y\":\"housing\",\"yref\":\"y\"},{\"font\":{\"color\":\"#000000\"},\"showarrow\":false,\"text\":\"0.01\",\"x\":\"default\",\"xref\":\"x\",\"y\":\"housing\",\"yref\":\"y\"},{\"font\":{\"color\":\"#FFFFFF\"},\"showarrow\":false,\"text\":\"1.0\",\"x\":\"housing\",\"xref\":\"x\",\"y\":\"housing\",\"yref\":\"y\"},{\"font\":{\"color\":\"#000000\"},\"showarrow\":false,\"text\":\"0.04\",\"x\":\"loan\",\"xref\":\"x\",\"y\":\"housing\",\"yref\":\"y\"},{\"font\":{\"color\":\"#000000\"},\"showarrow\":false,\"text\":\"0.21\",\"x\":\"contact\",\"xref\":\"x\",\"y\":\"housing\",\"yref\":\"y\"},{\"font\":{\"color\":\"#FFFFFF\"},\"showarrow\":false,\"text\":\"0.5\",\"x\":\"month\",\"xref\":\"x\",\"y\":\"housing\",\"yref\":\"y\"},{\"font\":{\"color\":\"#000000\"},\"showarrow\":false,\"text\":\"0.14\",\"x\":\"poutcome\",\"xref\":\"x\",\"y\":\"housing\",\"yref\":\"y\"},{\"font\":{\"color\":\"#000000\"},\"showarrow\":false,\"text\":\"0.02\",\"x\":\"age\",\"xref\":\"x\",\"y\":\"loan\",\"yref\":\"y\"},{\"font\":{\"color\":\"#000000\"},\"showarrow\":false,\"text\":\"0.08\",\"x\":\"balance\",\"xref\":\"x\",\"y\":\"loan\",\"yref\":\"y\"},{\"font\":{\"color\":\"#000000\"},\"showarrow\":false,\"text\":\"0.01\",\"x\":\"day\",\"xref\":\"x\",\"y\":\"loan\",\"yref\":\"y\"},{\"font\":{\"color\":\"#000000\"},\"showarrow\":false,\"text\":\"0.01\",\"x\":\"duration\",\"xref\":\"x\",\"y\":\"loan\",\"yref\":\"y\"},{\"font\":{\"color\":\"#000000\"},\"showarrow\":false,\"text\":\"0.01\",\"x\":\"campaign\",\"xref\":\"x\",\"y\":\"loan\",\"yref\":\"y\"},{\"font\":{\"color\":\"#000000\"},\"showarrow\":false,\"text\":\"0.02\",\"x\":\"pdays\",\"xref\":\"x\",\"y\":\"loan\",\"yref\":\"y\"},{\"font\":{\"color\":\"#000000\"},\"showarrow\":false,\"text\":\"0.01\",\"x\":\"previous\",\"xref\":\"x\",\"y\":\"loan\",\"yref\":\"y\"},{\"font\":{\"color\":\"#000000\"},\"showarrow\":false,\"text\":\"0.11\",\"x\":\"job\",\"xref\":\"x\",\"y\":\"loan\",\"yref\":\"y\"},{\"font\":{\"color\":\"#000000\"},\"showarrow\":false,\"text\":\"0.05\",\"x\":\"marital\",\"xref\":\"x\",\"y\":\"loan\",\"yref\":\"y\"},{\"font\":{\"color\":\"#000000\"},\"showarrow\":false,\"text\":\"0.08\",\"x\":\"education\",\"xref\":\"x\",\"y\":\"loan\",\"yref\":\"y\"},{\"font\":{\"color\":\"#000000\"},\"showarrow\":false,\"text\":\"0.08\",\"x\":\"default\",\"xref\":\"x\",\"y\":\"loan\",\"yref\":\"y\"},{\"font\":{\"color\":\"#000000\"},\"showarrow\":false,\"text\":\"0.04\",\"x\":\"housing\",\"xref\":\"x\",\"y\":\"loan\",\"yref\":\"y\"},{\"font\":{\"color\":\"#FFFFFF\"},\"showarrow\":false,\"text\":\"1.0\",\"x\":\"loan\",\"xref\":\"x\",\"y\":\"loan\",\"yref\":\"y\"},{\"font\":{\"color\":\"#000000\"},\"showarrow\":false,\"text\":\"0.02\",\"x\":\"contact\",\"xref\":\"x\",\"y\":\"loan\",\"yref\":\"y\"},{\"font\":{\"color\":\"#000000\"},\"showarrow\":false,\"text\":\"0.18\",\"x\":\"month\",\"xref\":\"x\",\"y\":\"loan\",\"yref\":\"y\"},{\"font\":{\"color\":\"#000000\"},\"showarrow\":false,\"text\":\"0.06\",\"x\":\"poutcome\",\"xref\":\"x\",\"y\":\"loan\",\"yref\":\"y\"},{\"font\":{\"color\":\"#000000\"},\"showarrow\":false,\"text\":\"0.17\",\"x\":\"age\",\"xref\":\"x\",\"y\":\"contact\",\"yref\":\"y\"},{\"font\":{\"color\":\"#000000\"},\"showarrow\":false,\"text\":\"0.05\",\"x\":\"balance\",\"xref\":\"x\",\"y\":\"contact\",\"yref\":\"y\"},{\"font\":{\"color\":\"#000000\"},\"showarrow\":false,\"text\":\"0.04\",\"x\":\"day\",\"xref\":\"x\",\"y\":\"contact\",\"yref\":\"y\"},{\"font\":{\"color\":\"#000000\"},\"showarrow\":false,\"text\":\"0.03\",\"x\":\"duration\",\"xref\":\"x\",\"y\":\"contact\",\"yref\":\"y\"},{\"font\":{\"color\":\"#000000\"},\"showarrow\":false,\"text\":\"0.06\",\"x\":\"campaign\",\"xref\":\"x\",\"y\":\"contact\",\"yref\":\"y\"},{\"font\":{\"color\":\"#000000\"},\"showarrow\":false,\"text\":\"0.25\",\"x\":\"pdays\",\"xref\":\"x\",\"y\":\"contact\",\"yref\":\"y\"},{\"font\":{\"color\":\"#000000\"},\"showarrow\":false,\"text\":\"0.15\",\"x\":\"previous\",\"xref\":\"x\",\"y\":\"contact\",\"yref\":\"y\"},{\"font\":{\"color\":\"#000000\"},\"showarrow\":false,\"text\":\"0.15\",\"x\":\"job\",\"xref\":\"x\",\"y\":\"contact\",\"yref\":\"y\"},{\"font\":{\"color\":\"#000000\"},\"showarrow\":false,\"text\":\"0.05\",\"x\":\"marital\",\"xref\":\"x\",\"y\":\"contact\",\"yref\":\"y\"},{\"font\":{\"color\":\"#000000\"},\"showarrow\":false,\"text\":\"0.12\",\"x\":\"education\",\"xref\":\"x\",\"y\":\"contact\",\"yref\":\"y\"},{\"font\":{\"color\":\"#000000\"},\"showarrow\":false,\"text\":\"0.02\",\"x\":\"default\",\"xref\":\"x\",\"y\":\"contact\",\"yref\":\"y\"},{\"font\":{\"color\":\"#000000\"},\"showarrow\":false,\"text\":\"0.21\",\"x\":\"housing\",\"xref\":\"x\",\"y\":\"contact\",\"yref\":\"y\"},{\"font\":{\"color\":\"#000000\"},\"showarrow\":false,\"text\":\"0.02\",\"x\":\"loan\",\"xref\":\"x\",\"y\":\"contact\",\"yref\":\"y\"},{\"font\":{\"color\":\"#FFFFFF\"},\"showarrow\":false,\"text\":\"1.0\",\"x\":\"contact\",\"xref\":\"x\",\"y\":\"contact\",\"yref\":\"y\"},{\"font\":{\"color\":\"#FFFFFF\"},\"showarrow\":false,\"text\":\"0.51\",\"x\":\"month\",\"xref\":\"x\",\"y\":\"contact\",\"yref\":\"y\"},{\"font\":{\"color\":\"#000000\"},\"showarrow\":false,\"text\":\"0.21\",\"x\":\"poutcome\",\"xref\":\"x\",\"y\":\"contact\",\"yref\":\"y\"},{\"font\":{\"color\":\"#000000\"},\"showarrow\":false,\"text\":\"0.16\",\"x\":\"age\",\"xref\":\"x\",\"y\":\"month\",\"yref\":\"y\"},{\"font\":{\"color\":\"#000000\"},\"showarrow\":false,\"text\":\"0.16\",\"x\":\"balance\",\"xref\":\"x\",\"y\":\"month\",\"yref\":\"y\"},{\"font\":{\"color\":\"#000000\"},\"showarrow\":false,\"text\":\"0.45\",\"x\":\"day\",\"xref\":\"x\",\"y\":\"month\",\"yref\":\"y\"},{\"font\":{\"color\":\"#000000\"},\"showarrow\":false,\"text\":\"0.07\",\"x\":\"duration\",\"xref\":\"x\",\"y\":\"month\",\"yref\":\"y\"},{\"font\":{\"color\":\"#000000\"},\"showarrow\":false,\"text\":\"0.23\",\"x\":\"campaign\",\"xref\":\"x\",\"y\":\"month\",\"yref\":\"y\"},{\"font\":{\"color\":\"#000000\"},\"showarrow\":false,\"text\":\"0.29\",\"x\":\"pdays\",\"xref\":\"x\",\"y\":\"month\",\"yref\":\"y\"},{\"font\":{\"color\":\"#000000\"},\"showarrow\":false,\"text\":\"0.18\",\"x\":\"previous\",\"xref\":\"x\",\"y\":\"month\",\"yref\":\"y\"},{\"font\":{\"color\":\"#000000\"},\"showarrow\":false,\"text\":\"0.11\",\"x\":\"job\",\"xref\":\"x\",\"y\":\"month\",\"yref\":\"y\"},{\"font\":{\"color\":\"#000000\"},\"showarrow\":false,\"text\":\"0.07\",\"x\":\"marital\",\"xref\":\"x\",\"y\":\"month\",\"yref\":\"y\"},{\"font\":{\"color\":\"#000000\"},\"showarrow\":false,\"text\":\"0.11\",\"x\":\"education\",\"xref\":\"x\",\"y\":\"month\",\"yref\":\"y\"},{\"font\":{\"color\":\"#000000\"},\"showarrow\":false,\"text\":\"0.06\",\"x\":\"default\",\"xref\":\"x\",\"y\":\"month\",\"yref\":\"y\"},{\"font\":{\"color\":\"#FFFFFF\"},\"showarrow\":false,\"text\":\"0.5\",\"x\":\"housing\",\"xref\":\"x\",\"y\":\"month\",\"yref\":\"y\"},{\"font\":{\"color\":\"#000000\"},\"showarrow\":false,\"text\":\"0.18\",\"x\":\"loan\",\"xref\":\"x\",\"y\":\"month\",\"yref\":\"y\"},{\"font\":{\"color\":\"#FFFFFF\"},\"showarrow\":false,\"text\":\"0.51\",\"x\":\"contact\",\"xref\":\"x\",\"y\":\"month\",\"yref\":\"y\"},{\"font\":{\"color\":\"#FFFFFF\"},\"showarrow\":false,\"text\":\"1.0\",\"x\":\"month\",\"xref\":\"x\",\"y\":\"month\",\"yref\":\"y\"},{\"font\":{\"color\":\"#000000\"},\"showarrow\":false,\"text\":\"0.21\",\"x\":\"poutcome\",\"xref\":\"x\",\"y\":\"month\",\"yref\":\"y\"},{\"font\":{\"color\":\"#000000\"},\"showarrow\":false,\"text\":\"0.04\",\"x\":\"age\",\"xref\":\"x\",\"y\":\"poutcome\",\"yref\":\"y\"},{\"font\":{\"color\":\"#000000\"},\"showarrow\":false,\"text\":\"0.04\",\"x\":\"balance\",\"xref\":\"x\",\"y\":\"poutcome\",\"yref\":\"y\"},{\"font\":{\"color\":\"#000000\"},\"showarrow\":false,\"text\":\"0.09\",\"x\":\"day\",\"xref\":\"x\",\"y\":\"poutcome\",\"yref\":\"y\"},{\"font\":{\"color\":\"#000000\"},\"showarrow\":false,\"text\":\"0.05\",\"x\":\"duration\",\"xref\":\"x\",\"y\":\"poutcome\",\"yref\":\"y\"},{\"font\":{\"color\":\"#000000\"},\"showarrow\":false,\"text\":\"0.11\",\"x\":\"campaign\",\"xref\":\"x\",\"y\":\"poutcome\",\"yref\":\"y\"},{\"font\":{\"color\":\"#FFFFFF\"},\"showarrow\":false,\"text\":\"0.88\",\"x\":\"pdays\",\"xref\":\"x\",\"y\":\"poutcome\",\"yref\":\"y\"},{\"font\":{\"color\":\"#FFFFFF\"},\"showarrow\":false,\"text\":\"0.54\",\"x\":\"previous\",\"xref\":\"x\",\"y\":\"poutcome\",\"yref\":\"y\"},{\"font\":{\"color\":\"#000000\"},\"showarrow\":false,\"text\":\"0.06\",\"x\":\"job\",\"xref\":\"x\",\"y\":\"poutcome\",\"yref\":\"y\"},{\"font\":{\"color\":\"#000000\"},\"showarrow\":false,\"text\":\"0.03\",\"x\":\"marital\",\"xref\":\"x\",\"y\":\"poutcome\",\"yref\":\"y\"},{\"font\":{\"color\":\"#000000\"},\"showarrow\":false,\"text\":\"0.04\",\"x\":\"education\",\"xref\":\"x\",\"y\":\"poutcome\",\"yref\":\"y\"},{\"font\":{\"color\":\"#000000\"},\"showarrow\":false,\"text\":\"0.04\",\"x\":\"default\",\"xref\":\"x\",\"y\":\"poutcome\",\"yref\":\"y\"},{\"font\":{\"color\":\"#000000\"},\"showarrow\":false,\"text\":\"0.14\",\"x\":\"housing\",\"xref\":\"x\",\"y\":\"poutcome\",\"yref\":\"y\"},{\"font\":{\"color\":\"#000000\"},\"showarrow\":false,\"text\":\"0.06\",\"x\":\"loan\",\"xref\":\"x\",\"y\":\"poutcome\",\"yref\":\"y\"},{\"font\":{\"color\":\"#000000\"},\"showarrow\":false,\"text\":\"0.21\",\"x\":\"contact\",\"xref\":\"x\",\"y\":\"poutcome\",\"yref\":\"y\"},{\"font\":{\"color\":\"#000000\"},\"showarrow\":false,\"text\":\"0.21\",\"x\":\"month\",\"xref\":\"x\",\"y\":\"poutcome\",\"yref\":\"y\"},{\"font\":{\"color\":\"#FFFFFF\"},\"showarrow\":false,\"text\":\"1.0\",\"x\":\"poutcome\",\"xref\":\"x\",\"y\":\"poutcome\",\"yref\":\"y\"}],\"width\":1118,\"height\":766,\"yaxis\":{\"autorange\":\"reversed\",\"tickmode\":\"array\",\"tickvals\":[0,1,2,3,4,5,6,7,8,9,10,11,12,13,14,15],\"ticktext\":[\"age (N)\",\"balance (N)\",\"day (N)\",\"duration (N)\",\"campaign (N)\",\"pdays (N)\",\"previous (N)\",\"job (C)\",\"marital (C)\",\"education (C)\",\"default (C)\",\"housing (C)\",\"loan (C)\",\"contact (C)\",\"month (C)\",\"poutcome (C)\"],\"fixedrange\":true},\"margin\":{\"t\":150,\"b\":0,\"l\":270,\"r\":280},\"coloraxis\":{\"colorbar\":{\"thicknessmode\":\"pixels\",\"thickness\":50,\"lenmode\":\"pixels\",\"len\":200,\"yanchor\":\"top\",\"y\":1,\"ticks\":\"outside\",\"ticksuffix\":\" bills\",\"dtick\":5}},\"hoverlabel\":{\"font\":{\"size\":12,\"family\":\"Arial\"},\"bgcolor\":\"white\"},\"modebar\":{\"bgcolor\":\"rgba(0,0,0,0)\",\"activecolor\":\"rgba(68,68,68, 0.7)\",\"color\":\"rgba(68, 68, 68, 0.3)\"},\"paper_bgcolor\":\"rgba(0,0,0,0)\",\"plot_bgcolor\":\"rgba(238,238,238,1)\",\"updatemenus\":[{\"bgcolor\":\"rgba(255,255,255,1)\",\"buttons\":[{\"args\":[\"shapes\",[]],\"label\":\"None\",\"method\":\"relayout\"},{\"args\":[\"shapes\",[{\"type\":\"rect\",\"x0\":-0.5,\"y0\":-0.5,\"x1\":6.5,\"y1\":6.5,\"line\":{\"color\":\"blue\",\"width\":4}}]],\"label\":\"num-num\",\"method\":\"relayout\"},{\"args\":[\"shapes\",[{\"type\":\"rect\",\"x0\":-0.5,\"y0\":6.5,\"x1\":6.5,\"y1\":15.5,\"line\":{\"color\":\"blue\",\"width\":4}}]],\"label\":\"cat-num\",\"method\":\"relayout\"},{\"args\":[\"shapes\",[{\"type\":\"rect\",\"x0\":6.5,\"y0\":-0.5,\"x1\":15.5,\"y1\":6.5,\"line\":{\"color\":\"blue\",\"width\":4}}]],\"label\":\"num-cat\",\"method\":\"relayout\"},{\"args\":[\"shapes\",[{\"type\":\"rect\",\"x0\":6.5,\"y0\":6.5,\"x1\":15.5,\"y1\":15.5,\"line\":{\"color\":\"blue\",\"width\":4}}]],\"label\":\"cat-cat\",\"method\":\"relayout\"}],\"direction\":\"right\",\"pad\":{\"l\":-60,\"r\":0,\"t\":-100},\"type\":\"buttons\",\"x\":0.1,\"xanchor\":\"left\",\"y\":1,\"yanchor\":\"top\"},{\"active\":1,\"bgcolor\":\"rgba(255,255,255,1)\",\"buttons\":[{\"args\":[{\"annotations\":[]}],\"args2\":[{\"annotations\":[{\"font\":{\"color\":\"#FFFFFF\"},\"showarrow\":false,\"text\":\"1.0\",\"x\":\"age\",\"xref\":\"x\",\"y\":\"age\",\"yref\":\"y\"},{\"font\":{\"color\":\"#000000\"},\"showarrow\":false,\"text\":\"0.1\",\"x\":\"balance\",\"xref\":\"x\",\"y\":\"age\",\"yref\":\"y\"},{\"font\":{\"color\":\"#000000\"},\"showarrow\":false,\"text\":\"0.01\",\"x\":\"day\",\"xref\":\"x\",\"y\":\"age\",\"yref\":\"y\"},{\"font\":{\"color\":\"#000000\"},\"showarrow\":false,\"text\":\"0.0\",\"x\":\"duration\",\"xref\":\"x\",\"y\":\"age\",\"yref\":\"y\"},{\"font\":{\"color\":\"#000000\"},\"showarrow\":false,\"text\":\"0.0\",\"x\":\"campaign\",\"xref\":\"x\",\"y\":\"age\",\"yref\":\"y\"},{\"font\":{\"color\":\"#000000\"},\"showarrow\":false,\"text\":\"0.02\",\"x\":\"pdays\",\"xref\":\"x\",\"y\":\"age\",\"yref\":\"y\"},{\"font\":{\"color\":\"#000000\"},\"showarrow\":false,\"text\":\"0.0\",\"x\":\"previous\",\"xref\":\"x\",\"y\":\"age\",\"yref\":\"y\"},{\"font\":{\"color\":\"#FFFFFF\"},\"showarrow\":false,\"text\":\"0.5\",\"x\":\"job\",\"xref\":\"x\",\"y\":\"age\",\"yref\":\"y\"},{\"font\":{\"color\":\"#000000\"},\"showarrow\":false,\"text\":\"0.43\",\"x\":\"marital\",\"xref\":\"x\",\"y\":\"age\",\"yref\":\"y\"},{\"font\":{\"color\":\"#000000\"},\"showarrow\":false,\"text\":\"0.22\",\"x\":\"education\",\"xref\":\"x\",\"y\":\"age\",\"yref\":\"y\"},{\"font\":{\"color\":\"#000000\"},\"showarrow\":false,\"text\":\"0.02\",\"x\":\"default\",\"xref\":\"x\",\"y\":\"age\",\"yref\":\"y\"},{\"font\":{\"color\":\"#000000\"},\"showarrow\":false,\"text\":\"0.19\",\"x\":\"housing\",\"xref\":\"x\",\"y\":\"age\",\"yref\":\"y\"},{\"font\":{\"color\":\"#000000\"},\"showarrow\":false,\"text\":\"0.02\",\"x\":\"loan\",\"xref\":\"x\",\"y\":\"age\",\"yref\":\"y\"},{\"font\":{\"color\":\"#000000\"},\"showarrow\":false,\"text\":\"0.17\",\"x\":\"contact\",\"xref\":\"x\",\"y\":\"age\",\"yref\":\"y\"},{\"font\":{\"color\":\"#000000\"},\"showarrow\":false,\"text\":\"0.16\",\"x\":\"month\",\"xref\":\"x\",\"y\":\"age\",\"yref\":\"y\"},{\"font\":{\"color\":\"#000000\"},\"showarrow\":false,\"text\":\"0.04\",\"x\":\"poutcome\",\"xref\":\"x\",\"y\":\"age\",\"yref\":\"y\"},{\"font\":{\"color\":\"#000000\"},\"showarrow\":false,\"text\":\"0.1\",\"x\":\"age\",\"xref\":\"x\",\"y\":\"balance\",\"yref\":\"y\"},{\"font\":{\"color\":\"#FFFFFF\"},\"showarrow\":false,\"text\":\"1.0\",\"x\":\"balance\",\"xref\":\"x\",\"y\":\"balance\",\"yref\":\"y\"},{\"font\":{\"color\":\"#000000\"},\"showarrow\":false,\"text\":\"0.0\",\"x\":\"day\",\"xref\":\"x\",\"y\":\"balance\",\"yref\":\"y\"},{\"font\":{\"color\":\"#000000\"},\"showarrow\":false,\"text\":\"0.02\",\"x\":\"duration\",\"xref\":\"x\",\"y\":\"balance\",\"yref\":\"y\"},{\"font\":{\"color\":\"#000000\"},\"showarrow\":false,\"text\":\"0.01\",\"x\":\"campaign\",\"xref\":\"x\",\"y\":\"balance\",\"yref\":\"y\"},{\"font\":{\"color\":\"#000000\"},\"showarrow\":false,\"text\":\"0.0\",\"x\":\"pdays\",\"xref\":\"x\",\"y\":\"balance\",\"yref\":\"y\"},{\"font\":{\"color\":\"#000000\"},\"showarrow\":false,\"text\":\"0.02\",\"x\":\"previous\",\"xref\":\"x\",\"y\":\"balance\",\"yref\":\"y\"},{\"font\":{\"color\":\"#000000\"},\"showarrow\":false,\"text\":\"0.1\",\"x\":\"job\",\"xref\":\"x\",\"y\":\"balance\",\"yref\":\"y\"},{\"font\":{\"color\":\"#000000\"},\"showarrow\":false,\"text\":\"0.03\",\"x\":\"marital\",\"xref\":\"x\",\"y\":\"balance\",\"yref\":\"y\"},{\"font\":{\"color\":\"#000000\"},\"showarrow\":false,\"text\":\"0.09\",\"x\":\"education\",\"xref\":\"x\",\"y\":\"balance\",\"yref\":\"y\"},{\"font\":{\"color\":\"#000000\"},\"showarrow\":false,\"text\":\"0.07\",\"x\":\"default\",\"xref\":\"x\",\"y\":\"balance\",\"yref\":\"y\"},{\"font\":{\"color\":\"#000000\"},\"showarrow\":false,\"text\":\"0.07\",\"x\":\"housing\",\"xref\":\"x\",\"y\":\"balance\",\"yref\":\"y\"},{\"font\":{\"color\":\"#000000\"},\"showarrow\":false,\"text\":\"0.08\",\"x\":\"loan\",\"xref\":\"x\",\"y\":\"balance\",\"yref\":\"y\"},{\"font\":{\"color\":\"#000000\"},\"showarrow\":false,\"text\":\"0.05\",\"x\":\"contact\",\"xref\":\"x\",\"y\":\"balance\",\"yref\":\"y\"},{\"font\":{\"color\":\"#000000\"},\"showarrow\":false,\"text\":\"0.16\",\"x\":\"month\",\"xref\":\"x\",\"y\":\"balance\",\"yref\":\"y\"},{\"font\":{\"color\":\"#000000\"},\"showarrow\":false,\"text\":\"0.04\",\"x\":\"poutcome\",\"xref\":\"x\",\"y\":\"balance\",\"yref\":\"y\"},{\"font\":{\"color\":\"#000000\"},\"showarrow\":false,\"text\":\"0.01\",\"x\":\"age\",\"xref\":\"x\",\"y\":\"day\",\"yref\":\"y\"},{\"font\":{\"color\":\"#000000\"},\"showarrow\":false,\"text\":\"0.0\",\"x\":\"balance\",\"xref\":\"x\",\"y\":\"day\",\"yref\":\"y\"},{\"font\":{\"color\":\"#FFFFFF\"},\"showarrow\":false,\"text\":\"1.0\",\"x\":\"day\",\"xref\":\"x\",\"y\":\"day\",\"yref\":\"y\"},{\"font\":{\"color\":\"#000000\"},\"showarrow\":false,\"text\":\"0.03\",\"x\":\"duration\",\"xref\":\"x\",\"y\":\"day\",\"yref\":\"y\"},{\"font\":{\"color\":\"#000000\"},\"showarrow\":false,\"text\":\"0.16\",\"x\":\"campaign\",\"xref\":\"x\",\"y\":\"day\",\"yref\":\"y\"},{\"font\":{\"color\":\"#000000\"},\"showarrow\":false,\"text\":\"0.09\",\"x\":\"pdays\",\"xref\":\"x\",\"y\":\"day\",\"yref\":\"y\"},{\"font\":{\"color\":\"#000000\"},\"showarrow\":false,\"text\":\"0.05\",\"x\":\"previous\",\"xref\":\"x\",\"y\":\"day\",\"yref\":\"y\"},{\"font\":{\"color\":\"#000000\"},\"showarrow\":false,\"text\":\"0.05\",\"x\":\"job\",\"xref\":\"x\",\"y\":\"day\",\"yref\":\"y\"},{\"font\":{\"color\":\"#000000\"},\"showarrow\":false,\"text\":\"0.01\",\"x\":\"marital\",\"xref\":\"x\",\"y\":\"day\",\"yref\":\"y\"},{\"font\":{\"color\":\"#000000\"},\"showarrow\":false,\"text\":\"0.03\",\"x\":\"education\",\"xref\":\"x\",\"y\":\"day\",\"yref\":\"y\"},{\"font\":{\"color\":\"#000000\"},\"showarrow\":false,\"text\":\"0.01\",\"x\":\"default\",\"xref\":\"x\",\"y\":\"day\",\"yref\":\"y\"},{\"font\":{\"color\":\"#000000\"},\"showarrow\":false,\"text\":\"0.03\",\"x\":\"housing\",\"xref\":\"x\",\"y\":\"day\",\"yref\":\"y\"},{\"font\":{\"color\":\"#000000\"},\"showarrow\":false,\"text\":\"0.01\",\"x\":\"loan\",\"xref\":\"x\",\"y\":\"day\",\"yref\":\"y\"},{\"font\":{\"color\":\"#000000\"},\"showarrow\":false,\"text\":\"0.04\",\"x\":\"contact\",\"xref\":\"x\",\"y\":\"day\",\"yref\":\"y\"},{\"font\":{\"color\":\"#000000\"},\"showarrow\":false,\"text\":\"0.45\",\"x\":\"month\",\"xref\":\"x\",\"y\":\"day\",\"yref\":\"y\"},{\"font\":{\"color\":\"#000000\"},\"showarrow\":false,\"text\":\"0.09\",\"x\":\"poutcome\",\"xref\":\"x\",\"y\":\"day\",\"yref\":\"y\"},{\"font\":{\"color\":\"#000000\"},\"showarrow\":false,\"text\":\"0.0\",\"x\":\"age\",\"xref\":\"x\",\"y\":\"duration\",\"yref\":\"y\"},{\"font\":{\"color\":\"#000000\"},\"showarrow\":false,\"text\":\"0.02\",\"x\":\"balance\",\"xref\":\"x\",\"y\":\"duration\",\"yref\":\"y\"},{\"font\":{\"color\":\"#000000\"},\"showarrow\":false,\"text\":\"0.03\",\"x\":\"day\",\"xref\":\"x\",\"y\":\"duration\",\"yref\":\"y\"},{\"font\":{\"color\":\"#FFFFFF\"},\"showarrow\":false,\"text\":\"1.0\",\"x\":\"duration\",\"xref\":\"x\",\"y\":\"duration\",\"yref\":\"y\"},{\"font\":{\"color\":\"#000000\"},\"showarrow\":false,\"text\":\"0.08\",\"x\":\"campaign\",\"xref\":\"x\",\"y\":\"duration\",\"yref\":\"y\"},{\"font\":{\"color\":\"#000000\"},\"showarrow\":false,\"text\":\"0.0\",\"x\":\"pdays\",\"xref\":\"x\",\"y\":\"duration\",\"yref\":\"y\"},{\"font\":{\"color\":\"#000000\"},\"showarrow\":false,\"text\":\"0.0\",\"x\":\"previous\",\"xref\":\"x\",\"y\":\"duration\",\"yref\":\"y\"},{\"font\":{\"color\":\"#000000\"},\"showarrow\":false,\"text\":\"0.04\",\"x\":\"job\",\"xref\":\"x\",\"y\":\"duration\",\"yref\":\"y\"},{\"font\":{\"color\":\"#000000\"},\"showarrow\":false,\"text\":\"0.02\",\"x\":\"marital\",\"xref\":\"x\",\"y\":\"duration\",\"yref\":\"y\"},{\"font\":{\"color\":\"#000000\"},\"showarrow\":false,\"text\":\"0.0\",\"x\":\"education\",\"xref\":\"x\",\"y\":\"duration\",\"yref\":\"y\"},{\"font\":{\"color\":\"#000000\"},\"showarrow\":false,\"text\":\"0.01\",\"x\":\"default\",\"xref\":\"x\",\"y\":\"duration\",\"yref\":\"y\"},{\"font\":{\"color\":\"#000000\"},\"showarrow\":false,\"text\":\"0.01\",\"x\":\"housing\",\"xref\":\"x\",\"y\":\"duration\",\"yref\":\"y\"},{\"font\":{\"color\":\"#000000\"},\"showarrow\":false,\"text\":\"0.01\",\"x\":\"loan\",\"xref\":\"x\",\"y\":\"duration\",\"yref\":\"y\"},{\"font\":{\"color\":\"#000000\"},\"showarrow\":false,\"text\":\"0.03\",\"x\":\"contact\",\"xref\":\"x\",\"y\":\"duration\",\"yref\":\"y\"},{\"font\":{\"color\":\"#000000\"},\"showarrow\":false,\"text\":\"0.07\",\"x\":\"month\",\"xref\":\"x\",\"y\":\"duration\",\"yref\":\"y\"},{\"font\":{\"color\":\"#000000\"},\"showarrow\":false,\"text\":\"0.05\",\"x\":\"poutcome\",\"xref\":\"x\",\"y\":\"duration\",\"yref\":\"y\"},{\"font\":{\"color\":\"#000000\"},\"showarrow\":false,\"text\":\"0.0\",\"x\":\"age\",\"xref\":\"x\",\"y\":\"campaign\",\"yref\":\"y\"},{\"font\":{\"color\":\"#000000\"},\"showarrow\":false,\"text\":\"0.01\",\"x\":\"balance\",\"xref\":\"x\",\"y\":\"campaign\",\"yref\":\"y\"},{\"font\":{\"color\":\"#000000\"},\"showarrow\":false,\"text\":\"0.16\",\"x\":\"day\",\"xref\":\"x\",\"y\":\"campaign\",\"yref\":\"y\"},{\"font\":{\"color\":\"#000000\"},\"showarrow\":false,\"text\":\"0.08\",\"x\":\"duration\",\"xref\":\"x\",\"y\":\"campaign\",\"yref\":\"y\"},{\"font\":{\"color\":\"#FFFFFF\"},\"showarrow\":false,\"text\":\"1.0\",\"x\":\"campaign\",\"xref\":\"x\",\"y\":\"campaign\",\"yref\":\"y\"},{\"font\":{\"color\":\"#000000\"},\"showarrow\":false,\"text\":\"0.09\",\"x\":\"pdays\",\"xref\":\"x\",\"y\":\"campaign\",\"yref\":\"y\"},{\"font\":{\"color\":\"#000000\"},\"showarrow\":false,\"text\":\"0.03\",\"x\":\"previous\",\"xref\":\"x\",\"y\":\"campaign\",\"yref\":\"y\"},{\"font\":{\"color\":\"#000000\"},\"showarrow\":false,\"text\":\"0.06\",\"x\":\"job\",\"xref\":\"x\",\"y\":\"campaign\",\"yref\":\"y\"},{\"font\":{\"color\":\"#000000\"},\"showarrow\":false,\"text\":\"0.03\",\"x\":\"marital\",\"xref\":\"x\",\"y\":\"campaign\",\"yref\":\"y\"},{\"font\":{\"color\":\"#000000\"},\"showarrow\":false,\"text\":\"0.02\",\"x\":\"education\",\"xref\":\"x\",\"y\":\"campaign\",\"yref\":\"y\"},{\"font\":{\"color\":\"#000000\"},\"showarrow\":false,\"text\":\"0.02\",\"x\":\"default\",\"xref\":\"x\",\"y\":\"campaign\",\"yref\":\"y\"},{\"font\":{\"color\":\"#000000\"},\"showarrow\":false,\"text\":\"0.02\",\"x\":\"housing\",\"xref\":\"x\",\"y\":\"campaign\",\"yref\":\"y\"},{\"font\":{\"color\":\"#000000\"},\"showarrow\":false,\"text\":\"0.01\",\"x\":\"loan\",\"xref\":\"x\",\"y\":\"campaign\",\"yref\":\"y\"},{\"font\":{\"color\":\"#000000\"},\"showarrow\":false,\"text\":\"0.06\",\"x\":\"contact\",\"xref\":\"x\",\"y\":\"campaign\",\"yref\":\"y\"},{\"font\":{\"color\":\"#000000\"},\"showarrow\":false,\"text\":\"0.23\",\"x\":\"month\",\"xref\":\"x\",\"y\":\"campaign\",\"yref\":\"y\"},{\"font\":{\"color\":\"#000000\"},\"showarrow\":false,\"text\":\"0.11\",\"x\":\"poutcome\",\"xref\":\"x\",\"y\":\"campaign\",\"yref\":\"y\"},{\"font\":{\"color\":\"#000000\"},\"showarrow\":false,\"text\":\"0.02\",\"x\":\"age\",\"xref\":\"x\",\"y\":\"pdays\",\"yref\":\"y\"},{\"font\":{\"color\":\"#000000\"},\"showarrow\":false,\"text\":\"0.0\",\"x\":\"balance\",\"xref\":\"x\",\"y\":\"pdays\",\"yref\":\"y\"},{\"font\":{\"color\":\"#000000\"},\"showarrow\":false,\"text\":\"0.09\",\"x\":\"day\",\"xref\":\"x\",\"y\":\"pdays\",\"yref\":\"y\"},{\"font\":{\"color\":\"#000000\"},\"showarrow\":false,\"text\":\"0.0\",\"x\":\"duration\",\"xref\":\"x\",\"y\":\"pdays\",\"yref\":\"y\"},{\"font\":{\"color\":\"#000000\"},\"showarrow\":false,\"text\":\"0.09\",\"x\":\"campaign\",\"xref\":\"x\",\"y\":\"pdays\",\"yref\":\"y\"},{\"font\":{\"color\":\"#FFFFFF\"},\"showarrow\":false,\"text\":\"1.0\",\"x\":\"pdays\",\"xref\":\"x\",\"y\":\"pdays\",\"yref\":\"y\"},{\"font\":{\"color\":\"#000000\"},\"showarrow\":false,\"text\":\"0.45\",\"x\":\"previous\",\"xref\":\"x\",\"y\":\"pdays\",\"yref\":\"y\"},{\"font\":{\"color\":\"#000000\"},\"showarrow\":false,\"text\":\"0.06\",\"x\":\"job\",\"xref\":\"x\",\"y\":\"pdays\",\"yref\":\"y\"},{\"font\":{\"color\":\"#000000\"},\"showarrow\":false,\"text\":\"0.03\",\"x\":\"marital\",\"xref\":\"x\",\"y\":\"pdays\",\"yref\":\"y\"},{\"font\":{\"color\":\"#000000\"},\"showarrow\":false,\"text\":\"0.02\",\"x\":\"education\",\"xref\":\"x\",\"y\":\"pdays\",\"yref\":\"y\"},{\"font\":{\"color\":\"#000000\"},\"showarrow\":false,\"text\":\"0.03\",\"x\":\"default\",\"xref\":\"x\",\"y\":\"pdays\",\"yref\":\"y\"},{\"font\":{\"color\":\"#000000\"},\"showarrow\":false,\"text\":\"0.12\",\"x\":\"housing\",\"xref\":\"x\",\"y\":\"pdays\",\"yref\":\"y\"},{\"font\":{\"color\":\"#000000\"},\"showarrow\":false,\"text\":\"0.02\",\"x\":\"loan\",\"xref\":\"x\",\"y\":\"pdays\",\"yref\":\"y\"},{\"font\":{\"color\":\"#000000\"},\"showarrow\":false,\"text\":\"0.25\",\"x\":\"contact\",\"xref\":\"x\",\"y\":\"pdays\",\"yref\":\"y\"},{\"font\":{\"color\":\"#000000\"},\"showarrow\":false,\"text\":\"0.29\",\"x\":\"month\",\"xref\":\"x\",\"y\":\"pdays\",\"yref\":\"y\"},{\"font\":{\"color\":\"#FFFFFF\"},\"showarrow\":false,\"text\":\"0.88\",\"x\":\"poutcome\",\"xref\":\"x\",\"y\":\"pdays\",\"yref\":\"y\"},{\"font\":{\"color\":\"#000000\"},\"showarrow\":false,\"text\":\"0.0\",\"x\":\"age\",\"xref\":\"x\",\"y\":\"previous\",\"yref\":\"y\"},{\"font\":{\"color\":\"#000000\"},\"showarrow\":false,\"text\":\"0.02\",\"x\":\"balance\",\"xref\":\"x\",\"y\":\"previous\",\"yref\":\"y\"},{\"font\":{\"color\":\"#000000\"},\"showarrow\":false,\"text\":\"0.05\",\"x\":\"day\",\"xref\":\"x\",\"y\":\"previous\",\"yref\":\"y\"},{\"font\":{\"color\":\"#000000\"},\"showarrow\":false,\"text\":\"0.0\",\"x\":\"duration\",\"xref\":\"x\",\"y\":\"previous\",\"yref\":\"y\"},{\"font\":{\"color\":\"#000000\"},\"showarrow\":false,\"text\":\"0.03\",\"x\":\"campaign\",\"xref\":\"x\",\"y\":\"previous\",\"yref\":\"y\"},{\"font\":{\"color\":\"#000000\"},\"showarrow\":false,\"text\":\"0.45\",\"x\":\"pdays\",\"xref\":\"x\",\"y\":\"previous\",\"yref\":\"y\"},{\"font\":{\"color\":\"#FFFFFF\"},\"showarrow\":false,\"text\":\"1.0\",\"x\":\"previous\",\"xref\":\"x\",\"y\":\"previous\",\"yref\":\"y\"},{\"font\":{\"color\":\"#000000\"},\"showarrow\":false,\"text\":\"0.04\",\"x\":\"job\",\"xref\":\"x\",\"y\":\"previous\",\"yref\":\"y\"},{\"font\":{\"color\":\"#000000\"},\"showarrow\":false,\"text\":\"0.02\",\"x\":\"marital\",\"xref\":\"x\",\"y\":\"previous\",\"yref\":\"y\"},{\"font\":{\"color\":\"#000000\"},\"showarrow\":false,\"text\":\"0.03\",\"x\":\"education\",\"xref\":\"x\",\"y\":\"previous\",\"yref\":\"y\"},{\"font\":{\"color\":\"#000000\"},\"showarrow\":false,\"text\":\"0.02\",\"x\":\"default\",\"xref\":\"x\",\"y\":\"previous\",\"yref\":\"y\"},{\"font\":{\"color\":\"#000000\"},\"showarrow\":false,\"text\":\"0.04\",\"x\":\"housing\",\"xref\":\"x\",\"y\":\"previous\",\"yref\":\"y\"},{\"font\":{\"color\":\"#000000\"},\"showarrow\":false,\"text\":\"0.01\",\"x\":\"loan\",\"xref\":\"x\",\"y\":\"previous\",\"yref\":\"y\"},{\"font\":{\"color\":\"#000000\"},\"showarrow\":false,\"text\":\"0.15\",\"x\":\"contact\",\"xref\":\"x\",\"y\":\"previous\",\"yref\":\"y\"},{\"font\":{\"color\":\"#000000\"},\"showarrow\":false,\"text\":\"0.18\",\"x\":\"month\",\"xref\":\"x\",\"y\":\"previous\",\"yref\":\"y\"},{\"font\":{\"color\":\"#FFFFFF\"},\"showarrow\":false,\"text\":\"0.54\",\"x\":\"poutcome\",\"xref\":\"x\",\"y\":\"previous\",\"yref\":\"y\"},{\"font\":{\"color\":\"#FFFFFF\"},\"showarrow\":false,\"text\":\"0.5\",\"x\":\"age\",\"xref\":\"x\",\"y\":\"job\",\"yref\":\"y\"},{\"font\":{\"color\":\"#000000\"},\"showarrow\":false,\"text\":\"0.1\",\"x\":\"balance\",\"xref\":\"x\",\"y\":\"job\",\"yref\":\"y\"},{\"font\":{\"color\":\"#000000\"},\"showarrow\":false,\"text\":\"0.05\",\"x\":\"day\",\"xref\":\"x\",\"y\":\"job\",\"yref\":\"y\"},{\"font\":{\"color\":\"#000000\"},\"showarrow\":false,\"text\":\"0.04\",\"x\":\"duration\",\"xref\":\"x\",\"y\":\"job\",\"yref\":\"y\"},{\"font\":{\"color\":\"#000000\"},\"showarrow\":false,\"text\":\"0.06\",\"x\":\"campaign\",\"xref\":\"x\",\"y\":\"job\",\"yref\":\"y\"},{\"font\":{\"color\":\"#000000\"},\"showarrow\":false,\"text\":\"0.06\",\"x\":\"pdays\",\"xref\":\"x\",\"y\":\"job\",\"yref\":\"y\"},{\"font\":{\"color\":\"#000000\"},\"showarrow\":false,\"text\":\"0.04\",\"x\":\"previous\",\"xref\":\"x\",\"y\":\"job\",\"yref\":\"y\"},{\"font\":{\"color\":\"#FFFFFF\"},\"showarrow\":false,\"text\":\"1.0\",\"x\":\"job\",\"xref\":\"x\",\"y\":\"job\",\"yref\":\"y\"},{\"font\":{\"color\":\"#000000\"},\"showarrow\":false,\"text\":\"0.21\",\"x\":\"marital\",\"xref\":\"x\",\"y\":\"job\",\"yref\":\"y\"},{\"font\":{\"color\":\"#000000\"},\"showarrow\":false,\"text\":\"0.46\",\"x\":\"education\",\"xref\":\"x\",\"y\":\"job\",\"yref\":\"y\"},{\"font\":{\"color\":\"#000000\"},\"showarrow\":false,\"text\":\"0.04\",\"x\":\"default\",\"xref\":\"x\",\"y\":\"job\",\"yref\":\"y\"},{\"font\":{\"color\":\"#000000\"},\"showarrow\":false,\"text\":\"0.28\",\"x\":\"housing\",\"xref\":\"x\",\"y\":\"job\",\"yref\":\"y\"},{\"font\":{\"color\":\"#000000\"},\"showarrow\":false,\"text\":\"0.11\",\"x\":\"loan\",\"xref\":\"x\",\"y\":\"job\",\"yref\":\"y\"},{\"font\":{\"color\":\"#000000\"},\"showarrow\":false,\"text\":\"0.15\",\"x\":\"contact\",\"xref\":\"x\",\"y\":\"job\",\"yref\":\"y\"},{\"font\":{\"color\":\"#000000\"},\"showarrow\":false,\"text\":\"0.11\",\"x\":\"month\",\"xref\":\"x\",\"y\":\"job\",\"yref\":\"y\"},{\"font\":{\"color\":\"#000000\"},\"showarrow\":false,\"text\":\"0.06\",\"x\":\"poutcome\",\"xref\":\"x\",\"y\":\"job\",\"yref\":\"y\"},{\"font\":{\"color\":\"#000000\"},\"showarrow\":false,\"text\":\"0.43\",\"x\":\"age\",\"xref\":\"x\",\"y\":\"marital\",\"yref\":\"y\"},{\"font\":{\"color\":\"#000000\"},\"showarrow\":false,\"text\":\"0.03\",\"x\":\"balance\",\"xref\":\"x\",\"y\":\"marital\",\"yref\":\"y\"},{\"font\":{\"color\":\"#000000\"},\"showarrow\":false,\"text\":\"0.01\",\"x\":\"day\",\"xref\":\"x\",\"y\":\"marital\",\"yref\":\"y\"},{\"font\":{\"color\":\"#000000\"},\"showarrow\":false,\"text\":\"0.02\",\"x\":\"duration\",\"xref\":\"x\",\"y\":\"marital\",\"yref\":\"y\"},{\"font\":{\"color\":\"#000000\"},\"showarrow\":false,\"text\":\"0.03\",\"x\":\"campaign\",\"xref\":\"x\",\"y\":\"marital\",\"yref\":\"y\"},{\"font\":{\"color\":\"#000000\"},\"showarrow\":false,\"text\":\"0.03\",\"x\":\"pdays\",\"xref\":\"x\",\"y\":\"marital\",\"yref\":\"y\"},{\"font\":{\"color\":\"#000000\"},\"showarrow\":false,\"text\":\"0.02\",\"x\":\"previous\",\"xref\":\"x\",\"y\":\"marital\",\"yref\":\"y\"},{\"font\":{\"color\":\"#000000\"},\"showarrow\":false,\"text\":\"0.21\",\"x\":\"job\",\"xref\":\"x\",\"y\":\"marital\",\"yref\":\"y\"},{\"font\":{\"color\":\"#FFFFFF\"},\"showarrow\":false,\"text\":\"1.0\",\"x\":\"marital\",\"xref\":\"x\",\"y\":\"marital\",\"yref\":\"y\"},{\"font\":{\"color\":\"#000000\"},\"showarrow\":false,\"text\":\"0.12\",\"x\":\"education\",\"xref\":\"x\",\"y\":\"marital\",\"yref\":\"y\"},{\"font\":{\"color\":\"#000000\"},\"showarrow\":false,\"text\":\"0.02\",\"x\":\"default\",\"xref\":\"x\",\"y\":\"marital\",\"yref\":\"y\"},{\"font\":{\"color\":\"#000000\"},\"showarrow\":false,\"text\":\"0.02\",\"x\":\"housing\",\"xref\":\"x\",\"y\":\"marital\",\"yref\":\"y\"},{\"font\":{\"color\":\"#000000\"},\"showarrow\":false,\"text\":\"0.05\",\"x\":\"loan\",\"xref\":\"x\",\"y\":\"marital\",\"yref\":\"y\"},{\"font\":{\"color\":\"#000000\"},\"showarrow\":false,\"text\":\"0.05\",\"x\":\"contact\",\"xref\":\"x\",\"y\":\"marital\",\"yref\":\"y\"},{\"font\":{\"color\":\"#000000\"},\"showarrow\":false,\"text\":\"0.07\",\"x\":\"month\",\"xref\":\"x\",\"y\":\"marital\",\"yref\":\"y\"},{\"font\":{\"color\":\"#000000\"},\"showarrow\":false,\"text\":\"0.03\",\"x\":\"poutcome\",\"xref\":\"x\",\"y\":\"marital\",\"yref\":\"y\"},{\"font\":{\"color\":\"#000000\"},\"showarrow\":false,\"text\":\"0.22\",\"x\":\"age\",\"xref\":\"x\",\"y\":\"education\",\"yref\":\"y\"},{\"font\":{\"color\":\"#000000\"},\"showarrow\":false,\"text\":\"0.09\",\"x\":\"balance\",\"xref\":\"x\",\"y\":\"education\",\"yref\":\"y\"},{\"font\":{\"color\":\"#000000\"},\"showarrow\":false,\"text\":\"0.03\",\"x\":\"day\",\"xref\":\"x\",\"y\":\"education\",\"yref\":\"y\"},{\"font\":{\"color\":\"#000000\"},\"showarrow\":false,\"text\":\"0.0\",\"x\":\"duration\",\"xref\":\"x\",\"y\":\"education\",\"yref\":\"y\"},{\"font\":{\"color\":\"#000000\"},\"showarrow\":false,\"text\":\"0.02\",\"x\":\"campaign\",\"xref\":\"x\",\"y\":\"education\",\"yref\":\"y\"},{\"font\":{\"color\":\"#000000\"},\"showarrow\":false,\"text\":\"0.02\",\"x\":\"pdays\",\"xref\":\"x\",\"y\":\"education\",\"yref\":\"y\"},{\"font\":{\"color\":\"#000000\"},\"showarrow\":false,\"text\":\"0.03\",\"x\":\"previous\",\"xref\":\"x\",\"y\":\"education\",\"yref\":\"y\"},{\"font\":{\"color\":\"#000000\"},\"showarrow\":false,\"text\":\"0.46\",\"x\":\"job\",\"xref\":\"x\",\"y\":\"education\",\"yref\":\"y\"},{\"font\":{\"color\":\"#000000\"},\"showarrow\":false,\"text\":\"0.12\",\"x\":\"marital\",\"xref\":\"x\",\"y\":\"education\",\"yref\":\"y\"},{\"font\":{\"color\":\"#FFFFFF\"},\"showarrow\":false,\"text\":\"1.0\",\"x\":\"education\",\"xref\":\"x\",\"y\":\"education\",\"yref\":\"y\"},{\"font\":{\"color\":\"#000000\"},\"showarrow\":false,\"text\":\"0.02\",\"x\":\"default\",\"xref\":\"x\",\"y\":\"education\",\"yref\":\"y\"},{\"font\":{\"color\":\"#000000\"},\"showarrow\":false,\"text\":\"0.12\",\"x\":\"housing\",\"xref\":\"x\",\"y\":\"education\",\"yref\":\"y\"},{\"font\":{\"color\":\"#000000\"},\"showarrow\":false,\"text\":\"0.08\",\"x\":\"loan\",\"xref\":\"x\",\"y\":\"education\",\"yref\":\"y\"},{\"font\":{\"color\":\"#000000\"},\"showarrow\":false,\"text\":\"0.12\",\"x\":\"contact\",\"xref\":\"x\",\"y\":\"education\",\"yref\":\"y\"},{\"font\":{\"color\":\"#000000\"},\"showarrow\":false,\"text\":\"0.11\",\"x\":\"month\",\"xref\":\"x\",\"y\":\"education\",\"yref\":\"y\"},{\"font\":{\"color\":\"#000000\"},\"showarrow\":false,\"text\":\"0.04\",\"x\":\"poutcome\",\"xref\":\"x\",\"y\":\"education\",\"yref\":\"y\"},{\"font\":{\"color\":\"#000000\"},\"showarrow\":false,\"text\":\"0.02\",\"x\":\"age\",\"xref\":\"x\",\"y\":\"default\",\"yref\":\"y\"},{\"font\":{\"color\":\"#000000\"},\"showarrow\":false,\"text\":\"0.07\",\"x\":\"balance\",\"xref\":\"x\",\"y\":\"default\",\"yref\":\"y\"},{\"font\":{\"color\":\"#000000\"},\"showarrow\":false,\"text\":\"0.01\",\"x\":\"day\",\"xref\":\"x\",\"y\":\"default\",\"yref\":\"y\"},{\"font\":{\"color\":\"#000000\"},\"showarrow\":false,\"text\":\"0.01\",\"x\":\"duration\",\"xref\":\"x\",\"y\":\"default\",\"yref\":\"y\"},{\"font\":{\"color\":\"#000000\"},\"showarrow\":false,\"text\":\"0.02\",\"x\":\"campaign\",\"xref\":\"x\",\"y\":\"default\",\"yref\":\"y\"},{\"font\":{\"color\":\"#000000\"},\"showarrow\":false,\"text\":\"0.03\",\"x\":\"pdays\",\"xref\":\"x\",\"y\":\"default\",\"yref\":\"y\"},{\"font\":{\"color\":\"#000000\"},\"showarrow\":false,\"text\":\"0.02\",\"x\":\"previous\",\"xref\":\"x\",\"y\":\"default\",\"yref\":\"y\"},{\"font\":{\"color\":\"#000000\"},\"showarrow\":false,\"text\":\"0.04\",\"x\":\"job\",\"xref\":\"x\",\"y\":\"default\",\"yref\":\"y\"},{\"font\":{\"color\":\"#000000\"},\"showarrow\":false,\"text\":\"0.02\",\"x\":\"marital\",\"xref\":\"x\",\"y\":\"default\",\"yref\":\"y\"},{\"font\":{\"color\":\"#000000\"},\"showarrow\":false,\"text\":\"0.02\",\"x\":\"education\",\"xref\":\"x\",\"y\":\"default\",\"yref\":\"y\"},{\"font\":{\"color\":\"#FFFFFF\"},\"showarrow\":false,\"text\":\"1.0\",\"x\":\"default\",\"xref\":\"x\",\"y\":\"default\",\"yref\":\"y\"},{\"font\":{\"color\":\"#000000\"},\"showarrow\":false,\"text\":\"0.01\",\"x\":\"housing\",\"xref\":\"x\",\"y\":\"default\",\"yref\":\"y\"},{\"font\":{\"color\":\"#000000\"},\"showarrow\":false,\"text\":\"0.08\",\"x\":\"loan\",\"xref\":\"x\",\"y\":\"default\",\"yref\":\"y\"},{\"font\":{\"color\":\"#000000\"},\"showarrow\":false,\"text\":\"0.02\",\"x\":\"contact\",\"xref\":\"x\",\"y\":\"default\",\"yref\":\"y\"},{\"font\":{\"color\":\"#000000\"},\"showarrow\":false,\"text\":\"0.06\",\"x\":\"month\",\"xref\":\"x\",\"y\":\"default\",\"yref\":\"y\"},{\"font\":{\"color\":\"#000000\"},\"showarrow\":false,\"text\":\"0.04\",\"x\":\"poutcome\",\"xref\":\"x\",\"y\":\"default\",\"yref\":\"y\"},{\"font\":{\"color\":\"#000000\"},\"showarrow\":false,\"text\":\"0.19\",\"x\":\"age\",\"xref\":\"x\",\"y\":\"housing\",\"yref\":\"y\"},{\"font\":{\"color\":\"#000000\"},\"showarrow\":false,\"text\":\"0.07\",\"x\":\"balance\",\"xref\":\"x\",\"y\":\"housing\",\"yref\":\"y\"},{\"font\":{\"color\":\"#000000\"},\"showarrow\":false,\"text\":\"0.03\",\"x\":\"day\",\"xref\":\"x\",\"y\":\"housing\",\"yref\":\"y\"},{\"font\":{\"color\":\"#000000\"},\"showarrow\":false,\"text\":\"0.01\",\"x\":\"duration\",\"xref\":\"x\",\"y\":\"housing\",\"yref\":\"y\"},{\"font\":{\"color\":\"#000000\"},\"showarrow\":false,\"text\":\"0.02\",\"x\":\"campaign\",\"xref\":\"x\",\"y\":\"housing\",\"yref\":\"y\"},{\"font\":{\"color\":\"#000000\"},\"showarrow\":false,\"text\":\"0.12\",\"x\":\"pdays\",\"xref\":\"x\",\"y\":\"housing\",\"yref\":\"y\"},{\"font\":{\"color\":\"#000000\"},\"showarrow\":false,\"text\":\"0.04\",\"x\":\"previous\",\"xref\":\"x\",\"y\":\"housing\",\"yref\":\"y\"},{\"font\":{\"color\":\"#000000\"},\"showarrow\":false,\"text\":\"0.28\",\"x\":\"job\",\"xref\":\"x\",\"y\":\"housing\",\"yref\":\"y\"},{\"font\":{\"color\":\"#000000\"},\"showarrow\":false,\"text\":\"0.02\",\"x\":\"marital\",\"xref\":\"x\",\"y\":\"housing\",\"yref\":\"y\"},{\"font\":{\"color\":\"#000000\"},\"showarrow\":false,\"text\":\"0.12\",\"x\":\"education\",\"xref\":\"x\",\"y\":\"housing\",\"yref\":\"y\"},{\"font\":{\"color\":\"#000000\"},\"showarrow\":false,\"text\":\"0.01\",\"x\":\"default\",\"xref\":\"x\",\"y\":\"housing\",\"yref\":\"y\"},{\"font\":{\"color\":\"#FFFFFF\"},\"showarrow\":false,\"text\":\"1.0\",\"x\":\"housing\",\"xref\":\"x\",\"y\":\"housing\",\"yref\":\"y\"},{\"font\":{\"color\":\"#000000\"},\"showarrow\":false,\"text\":\"0.04\",\"x\":\"loan\",\"xref\":\"x\",\"y\":\"housing\",\"yref\":\"y\"},{\"font\":{\"color\":\"#000000\"},\"showarrow\":false,\"text\":\"0.21\",\"x\":\"contact\",\"xref\":\"x\",\"y\":\"housing\",\"yref\":\"y\"},{\"font\":{\"color\":\"#FFFFFF\"},\"showarrow\":false,\"text\":\"0.5\",\"x\":\"month\",\"xref\":\"x\",\"y\":\"housing\",\"yref\":\"y\"},{\"font\":{\"color\":\"#000000\"},\"showarrow\":false,\"text\":\"0.14\",\"x\":\"poutcome\",\"xref\":\"x\",\"y\":\"housing\",\"yref\":\"y\"},{\"font\":{\"color\":\"#000000\"},\"showarrow\":false,\"text\":\"0.02\",\"x\":\"age\",\"xref\":\"x\",\"y\":\"loan\",\"yref\":\"y\"},{\"font\":{\"color\":\"#000000\"},\"showarrow\":false,\"text\":\"0.08\",\"x\":\"balance\",\"xref\":\"x\",\"y\":\"loan\",\"yref\":\"y\"},{\"font\":{\"color\":\"#000000\"},\"showarrow\":false,\"text\":\"0.01\",\"x\":\"day\",\"xref\":\"x\",\"y\":\"loan\",\"yref\":\"y\"},{\"font\":{\"color\":\"#000000\"},\"showarrow\":false,\"text\":\"0.01\",\"x\":\"duration\",\"xref\":\"x\",\"y\":\"loan\",\"yref\":\"y\"},{\"font\":{\"color\":\"#000000\"},\"showarrow\":false,\"text\":\"0.01\",\"x\":\"campaign\",\"xref\":\"x\",\"y\":\"loan\",\"yref\":\"y\"},{\"font\":{\"color\":\"#000000\"},\"showarrow\":false,\"text\":\"0.02\",\"x\":\"pdays\",\"xref\":\"x\",\"y\":\"loan\",\"yref\":\"y\"},{\"font\":{\"color\":\"#000000\"},\"showarrow\":false,\"text\":\"0.01\",\"x\":\"previous\",\"xref\":\"x\",\"y\":\"loan\",\"yref\":\"y\"},{\"font\":{\"color\":\"#000000\"},\"showarrow\":false,\"text\":\"0.11\",\"x\":\"job\",\"xref\":\"x\",\"y\":\"loan\",\"yref\":\"y\"},{\"font\":{\"color\":\"#000000\"},\"showarrow\":false,\"text\":\"0.05\",\"x\":\"marital\",\"xref\":\"x\",\"y\":\"loan\",\"yref\":\"y\"},{\"font\":{\"color\":\"#000000\"},\"showarrow\":false,\"text\":\"0.08\",\"x\":\"education\",\"xref\":\"x\",\"y\":\"loan\",\"yref\":\"y\"},{\"font\":{\"color\":\"#000000\"},\"showarrow\":false,\"text\":\"0.08\",\"x\":\"default\",\"xref\":\"x\",\"y\":\"loan\",\"yref\":\"y\"},{\"font\":{\"color\":\"#000000\"},\"showarrow\":false,\"text\":\"0.04\",\"x\":\"housing\",\"xref\":\"x\",\"y\":\"loan\",\"yref\":\"y\"},{\"font\":{\"color\":\"#FFFFFF\"},\"showarrow\":false,\"text\":\"1.0\",\"x\":\"loan\",\"xref\":\"x\",\"y\":\"loan\",\"yref\":\"y\"},{\"font\":{\"color\":\"#000000\"},\"showarrow\":false,\"text\":\"0.02\",\"x\":\"contact\",\"xref\":\"x\",\"y\":\"loan\",\"yref\":\"y\"},{\"font\":{\"color\":\"#000000\"},\"showarrow\":false,\"text\":\"0.18\",\"x\":\"month\",\"xref\":\"x\",\"y\":\"loan\",\"yref\":\"y\"},{\"font\":{\"color\":\"#000000\"},\"showarrow\":false,\"text\":\"0.06\",\"x\":\"poutcome\",\"xref\":\"x\",\"y\":\"loan\",\"yref\":\"y\"},{\"font\":{\"color\":\"#000000\"},\"showarrow\":false,\"text\":\"0.17\",\"x\":\"age\",\"xref\":\"x\",\"y\":\"contact\",\"yref\":\"y\"},{\"font\":{\"color\":\"#000000\"},\"showarrow\":false,\"text\":\"0.05\",\"x\":\"balance\",\"xref\":\"x\",\"y\":\"contact\",\"yref\":\"y\"},{\"font\":{\"color\":\"#000000\"},\"showarrow\":false,\"text\":\"0.04\",\"x\":\"day\",\"xref\":\"x\",\"y\":\"contact\",\"yref\":\"y\"},{\"font\":{\"color\":\"#000000\"},\"showarrow\":false,\"text\":\"0.03\",\"x\":\"duration\",\"xref\":\"x\",\"y\":\"contact\",\"yref\":\"y\"},{\"font\":{\"color\":\"#000000\"},\"showarrow\":false,\"text\":\"0.06\",\"x\":\"campaign\",\"xref\":\"x\",\"y\":\"contact\",\"yref\":\"y\"},{\"font\":{\"color\":\"#000000\"},\"showarrow\":false,\"text\":\"0.25\",\"x\":\"pdays\",\"xref\":\"x\",\"y\":\"contact\",\"yref\":\"y\"},{\"font\":{\"color\":\"#000000\"},\"showarrow\":false,\"text\":\"0.15\",\"x\":\"previous\",\"xref\":\"x\",\"y\":\"contact\",\"yref\":\"y\"},{\"font\":{\"color\":\"#000000\"},\"showarrow\":false,\"text\":\"0.15\",\"x\":\"job\",\"xref\":\"x\",\"y\":\"contact\",\"yref\":\"y\"},{\"font\":{\"color\":\"#000000\"},\"showarrow\":false,\"text\":\"0.05\",\"x\":\"marital\",\"xref\":\"x\",\"y\":\"contact\",\"yref\":\"y\"},{\"font\":{\"color\":\"#000000\"},\"showarrow\":false,\"text\":\"0.12\",\"x\":\"education\",\"xref\":\"x\",\"y\":\"contact\",\"yref\":\"y\"},{\"font\":{\"color\":\"#000000\"},\"showarrow\":false,\"text\":\"0.02\",\"x\":\"default\",\"xref\":\"x\",\"y\":\"contact\",\"yref\":\"y\"},{\"font\":{\"color\":\"#000000\"},\"showarrow\":false,\"text\":\"0.21\",\"x\":\"housing\",\"xref\":\"x\",\"y\":\"contact\",\"yref\":\"y\"},{\"font\":{\"color\":\"#000000\"},\"showarrow\":false,\"text\":\"0.02\",\"x\":\"loan\",\"xref\":\"x\",\"y\":\"contact\",\"yref\":\"y\"},{\"font\":{\"color\":\"#FFFFFF\"},\"showarrow\":false,\"text\":\"1.0\",\"x\":\"contact\",\"xref\":\"x\",\"y\":\"contact\",\"yref\":\"y\"},{\"font\":{\"color\":\"#FFFFFF\"},\"showarrow\":false,\"text\":\"0.51\",\"x\":\"month\",\"xref\":\"x\",\"y\":\"contact\",\"yref\":\"y\"},{\"font\":{\"color\":\"#000000\"},\"showarrow\":false,\"text\":\"0.21\",\"x\":\"poutcome\",\"xref\":\"x\",\"y\":\"contact\",\"yref\":\"y\"},{\"font\":{\"color\":\"#000000\"},\"showarrow\":false,\"text\":\"0.16\",\"x\":\"age\",\"xref\":\"x\",\"y\":\"month\",\"yref\":\"y\"},{\"font\":{\"color\":\"#000000\"},\"showarrow\":false,\"text\":\"0.16\",\"x\":\"balance\",\"xref\":\"x\",\"y\":\"month\",\"yref\":\"y\"},{\"font\":{\"color\":\"#000000\"},\"showarrow\":false,\"text\":\"0.45\",\"x\":\"day\",\"xref\":\"x\",\"y\":\"month\",\"yref\":\"y\"},{\"font\":{\"color\":\"#000000\"},\"showarrow\":false,\"text\":\"0.07\",\"x\":\"duration\",\"xref\":\"x\",\"y\":\"month\",\"yref\":\"y\"},{\"font\":{\"color\":\"#000000\"},\"showarrow\":false,\"text\":\"0.23\",\"x\":\"campaign\",\"xref\":\"x\",\"y\":\"month\",\"yref\":\"y\"},{\"font\":{\"color\":\"#000000\"},\"showarrow\":false,\"text\":\"0.29\",\"x\":\"pdays\",\"xref\":\"x\",\"y\":\"month\",\"yref\":\"y\"},{\"font\":{\"color\":\"#000000\"},\"showarrow\":false,\"text\":\"0.18\",\"x\":\"previous\",\"xref\":\"x\",\"y\":\"month\",\"yref\":\"y\"},{\"font\":{\"color\":\"#000000\"},\"showarrow\":false,\"text\":\"0.11\",\"x\":\"job\",\"xref\":\"x\",\"y\":\"month\",\"yref\":\"y\"},{\"font\":{\"color\":\"#000000\"},\"showarrow\":false,\"text\":\"0.07\",\"x\":\"marital\",\"xref\":\"x\",\"y\":\"month\",\"yref\":\"y\"},{\"font\":{\"color\":\"#000000\"},\"showarrow\":false,\"text\":\"0.11\",\"x\":\"education\",\"xref\":\"x\",\"y\":\"month\",\"yref\":\"y\"},{\"font\":{\"color\":\"#000000\"},\"showarrow\":false,\"text\":\"0.06\",\"x\":\"default\",\"xref\":\"x\",\"y\":\"month\",\"yref\":\"y\"},{\"font\":{\"color\":\"#FFFFFF\"},\"showarrow\":false,\"text\":\"0.5\",\"x\":\"housing\",\"xref\":\"x\",\"y\":\"month\",\"yref\":\"y\"},{\"font\":{\"color\":\"#000000\"},\"showarrow\":false,\"text\":\"0.18\",\"x\":\"loan\",\"xref\":\"x\",\"y\":\"month\",\"yref\":\"y\"},{\"font\":{\"color\":\"#FFFFFF\"},\"showarrow\":false,\"text\":\"0.51\",\"x\":\"contact\",\"xref\":\"x\",\"y\":\"month\",\"yref\":\"y\"},{\"font\":{\"color\":\"#FFFFFF\"},\"showarrow\":false,\"text\":\"1.0\",\"x\":\"month\",\"xref\":\"x\",\"y\":\"month\",\"yref\":\"y\"},{\"font\":{\"color\":\"#000000\"},\"showarrow\":false,\"text\":\"0.21\",\"x\":\"poutcome\",\"xref\":\"x\",\"y\":\"month\",\"yref\":\"y\"},{\"font\":{\"color\":\"#000000\"},\"showarrow\":false,\"text\":\"0.04\",\"x\":\"age\",\"xref\":\"x\",\"y\":\"poutcome\",\"yref\":\"y\"},{\"font\":{\"color\":\"#000000\"},\"showarrow\":false,\"text\":\"0.04\",\"x\":\"balance\",\"xref\":\"x\",\"y\":\"poutcome\",\"yref\":\"y\"},{\"font\":{\"color\":\"#000000\"},\"showarrow\":false,\"text\":\"0.09\",\"x\":\"day\",\"xref\":\"x\",\"y\":\"poutcome\",\"yref\":\"y\"},{\"font\":{\"color\":\"#000000\"},\"showarrow\":false,\"text\":\"0.05\",\"x\":\"duration\",\"xref\":\"x\",\"y\":\"poutcome\",\"yref\":\"y\"},{\"font\":{\"color\":\"#000000\"},\"showarrow\":false,\"text\":\"0.11\",\"x\":\"campaign\",\"xref\":\"x\",\"y\":\"poutcome\",\"yref\":\"y\"},{\"font\":{\"color\":\"#FFFFFF\"},\"showarrow\":false,\"text\":\"0.88\",\"x\":\"pdays\",\"xref\":\"x\",\"y\":\"poutcome\",\"yref\":\"y\"},{\"font\":{\"color\":\"#FFFFFF\"},\"showarrow\":false,\"text\":\"0.54\",\"x\":\"previous\",\"xref\":\"x\",\"y\":\"poutcome\",\"yref\":\"y\"},{\"font\":{\"color\":\"#000000\"},\"showarrow\":false,\"text\":\"0.06\",\"x\":\"job\",\"xref\":\"x\",\"y\":\"poutcome\",\"yref\":\"y\"},{\"font\":{\"color\":\"#000000\"},\"showarrow\":false,\"text\":\"0.03\",\"x\":\"marital\",\"xref\":\"x\",\"y\":\"poutcome\",\"yref\":\"y\"},{\"font\":{\"color\":\"#000000\"},\"showarrow\":false,\"text\":\"0.04\",\"x\":\"education\",\"xref\":\"x\",\"y\":\"poutcome\",\"yref\":\"y\"},{\"font\":{\"color\":\"#000000\"},\"showarrow\":false,\"text\":\"0.04\",\"x\":\"default\",\"xref\":\"x\",\"y\":\"poutcome\",\"yref\":\"y\"},{\"font\":{\"color\":\"#000000\"},\"showarrow\":false,\"text\":\"0.14\",\"x\":\"housing\",\"xref\":\"x\",\"y\":\"poutcome\",\"yref\":\"y\"},{\"font\":{\"color\":\"#000000\"},\"showarrow\":false,\"text\":\"0.06\",\"x\":\"loan\",\"xref\":\"x\",\"y\":\"poutcome\",\"yref\":\"y\"},{\"font\":{\"color\":\"#000000\"},\"showarrow\":false,\"text\":\"0.21\",\"x\":\"contact\",\"xref\":\"x\",\"y\":\"poutcome\",\"yref\":\"y\"},{\"font\":{\"color\":\"#000000\"},\"showarrow\":false,\"text\":\"0.21\",\"x\":\"month\",\"xref\":\"x\",\"y\":\"poutcome\",\"yref\":\"y\"},{\"font\":{\"color\":\"#FFFFFF\"},\"showarrow\":false,\"text\":\"1.0\",\"x\":\"poutcome\",\"xref\":\"x\",\"y\":\"poutcome\",\"yref\":\"y\"}]}],\"label\":\"Show value\",\"method\":\"relayout\"}],\"direction\":\"right\",\"pad\":{\"l\":-60,\"r\":0,\"t\":-50},\"type\":\"buttons\",\"x\":0.1,\"xanchor\":\"left\",\"y\":1,\"yanchor\":\"top\"}]},                        {\"displaylogo\": false, \"responsive\": true}                    ).then(function(){\n",
       "                            \n",
       "var gd = document.getElementById('b9cd838c-08ad-4adb-bc3f-0b6dda115629');\n",
       "var x = new MutationObserver(function (mutations, observer) {{\n",
       "        var display = window.getComputedStyle(gd).display;\n",
       "        if (!display || display === 'none') {{\n",
       "            console.log([gd, 'removed!']);\n",
       "            Plotly.purge(gd);\n",
       "            observer.disconnect();\n",
       "        }}\n",
       "}});\n",
       "\n",
       "// Listen for the removal of the full notebook cells\n",
       "var notebookContainer = gd.closest('#notebook-container');\n",
       "if (notebookContainer) {{\n",
       "    x.observe(notebookContainer, {childList: true});\n",
       "}}\n",
       "\n",
       "// Listen for the clearing of the current output cell\n",
       "var outputEl = gd.closest('.output');\n",
       "if (outputEl) {{\n",
       "    x.observe(outputEl, {childList: true});\n",
       "}}\n",
       "\n",
       "                        })                };                });            </script>        </div>"
      ]
     },
     "metadata": {},
     "output_type": "display_data"
    }
   ],
   "source": [
    "num_cols = [k for k, v in feature_type_names.items() if v == 'numeric']\n",
    "cat_cols = [k for k, v in feature_type_names.items() if v == 'category']\n",
    "\n",
    "fig = plot_correlation_matrix(data, num_cols=num_cols, cat_cols=cat_cols, fig=go.Figure(), width=1118, height=766, colorscale='YlGnBu', reverse_font_color=False)\n",
    "fig.show(config={'displaylogo':False})\n",
    "# fig.write_html('./automl_plot/corr.html', config={'displaylogo':False}, include_plotlyjs='cdn', full_html=False)"
   ]
  }
 ],
 "metadata": {
  "kernelspec": {
   "display_name": "Python 3",
   "language": "python",
   "name": "python3"
  },
  "language_info": {
   "codemirror_mode": {
    "name": "ipython",
    "version": 3
   },
   "file_extension": ".py",
   "mimetype": "text/x-python",
   "name": "python",
   "nbconvert_exporter": "python",
   "pygments_lexer": "ipython3",
   "version": "3.7.10"
  }
 },
 "nbformat": 4,
 "nbformat_minor": 5
}
