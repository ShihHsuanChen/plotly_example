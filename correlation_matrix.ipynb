{
 "cells": [
  {
   "cell_type": "code",
   "execution_count": 1,
   "id": "56bdcdb6",
   "metadata": {},
   "outputs": [],
   "source": [
    "import os\n",
    "import numpy as np\n",
    "import pandas as pd\n",
    "\n",
    "import plotly.graph_objects as go"
   ]
  },
  {
   "cell_type": "code",
   "execution_count": 2,
   "id": "7844af82",
   "metadata": {},
   "outputs": [
    {
     "data": {
      "text/html": [
       "        <script type=\"text/javascript\">\n",
       "        window.PlotlyConfig = {MathJaxConfig: 'local'};\n",
       "        if (window.MathJax) {MathJax.Hub.Config({SVG: {font: \"STIX-Web\"}});}\n",
       "        if (typeof require !== 'undefined') {\n",
       "        require.undef(\"plotly\");\n",
       "        requirejs.config({\n",
       "            paths: {\n",
       "                'plotly': ['https://cdn.plot.ly/plotly-2.6.3.min']\n",
       "            }\n",
       "        });\n",
       "        require(['plotly'], function(Plotly) {\n",
       "            window._Plotly = Plotly;\n",
       "        });\n",
       "        }\n",
       "        </script>\n",
       "        "
      ]
     },
     "metadata": {},
     "output_type": "display_data"
    }
   ],
   "source": [
    "from plotly.offline import init_notebook_mode, iplot\n",
    "init_notebook_mode(connected=True)"
   ]
  },
  {
   "cell_type": "code",
   "execution_count": 3,
   "id": "5b0cae91",
   "metadata": {},
   "outputs": [],
   "source": [
    "data = pd.read_csv('./data/correlation_matrix.csv', index_col=0)"
   ]
  },
  {
   "cell_type": "code",
   "execution_count": 4,
   "id": "f3b2da8f",
   "metadata": {},
   "outputs": [],
   "source": [
    "feature_type_names = {\n",
    "    'age': 'numeric', \n",
    "    'job': 'category',\n",
    "    'marital': 'category', \n",
    "    'education': 'category', \n",
    "    'default': 'category',\n",
    "    'balance': 'numeric', \n",
    "    'housing': 'category',\n",
    "    'loan': 'category',\n",
    "    'contact': 'category', \n",
    "    'day': 'numeric',\n",
    "    'month': 'category',\n",
    "    'duration': 'numeric', \n",
    "    'campaign': 'numeric',\n",
    "    'pdays': 'numeric',\n",
    "    'previous': 'numeric',\n",
    "    'poutcome': 'category',\n",
    "}"
   ]
  },
  {
   "cell_type": "code",
   "execution_count": 5,
   "id": "7e676276",
   "metadata": {},
   "outputs": [],
   "source": [
    "# create a mixed correlation matrix\n",
    "# cols = num_cols + cat_cols\n",
    "# _data = {c: {c: np.nan for c in cols} for c in cols}\n",
    "# df = pd.DataFrame(_data)\n",
    "\n",
    "# if n_num > 0:\n",
    "#     num_corr = NumericCorr(method='pearson')(data, num_cols).abs()\n",
    "#     df.loc[num_cols, num_cols] = num_corr\n",
    "# if n_cat > 0:\n",
    "#     cat_corr = CramersVCorr()(data, cat_cols)\n",
    "#     df.loc[cat_cols, cat_cols] = cat_corr\n",
    "# if n_num > 0 and n_cat > 0:\n",
    "#     mix_corr = CorrelationRatio()(data, cat_cols, num_cols)\n",
    "#     df.loc[num_cols, cat_cols] = mix_corr\n",
    "#     df.loc[cat_cols, num_cols] = mix_corr.T"
   ]
  },
  {
   "cell_type": "markdown",
   "id": "4340ee4c",
   "metadata": {},
   "source": [
    "### Correlation matrix\n",
    "\n",
    "### This plot shows\n",
    "- Use heatmap to show correlation matrix.\n",
    "- Use two buttons, one decides whether to show annotation or not, the other one shows rectangle on the plot for specific type of features.\n",
    "- Fix the axes range. User cannot zoom in, zoom out, or select any region in the plot.\n",
    "\n",
    "#### Main trace\n",
    "- Heatmap\n",
    "```python\n",
    "trace = go.Heatmap(\n",
    "    x=np.arange(len(data.columns)),\n",
    "    y=np.arange(len(data.index)),\n",
    "    z=data.values,\n",
    "    zmin=0,\n",
    "    zmax=1,\n",
    "    hovertemplate=\"Corr ( %{x}, %{y} ) = %{z} <extra></extra>\",\n",
    "    ...\n",
    ")\n",
    "```\n",
    "\n",
    "#### Layout: shapes\n",
    "```python\n",
    "shape = dict(\n",
    "    type=\"rect\", \n",
    "    x0=x0, y0=y0, x1=x1, y1=y1,\n",
    "    line=dict(color=\"blue\", width = 4), \n",
    "    layer='above'\n",
    ")\n",
    "```\n",
    "- layer: `below` and `above`. This means whether shapes are drawn below or above traces.\n",
    "\n",
    "#### Layout: annotation\n",
    "We need to create a list of dictionary or instances of go.layout.Annotation that represent each element in the correlation matrix.<br>\n",
    "For each annotation, the font color is controled by the size of the element in the matrix."
   ]
  },
  {
   "cell_type": "code",
   "execution_count": 6,
   "id": "c8385445",
   "metadata": {},
   "outputs": [],
   "source": [
    "def gen_annotations(data, reverse_font_color=False):\n",
    "    x = np.arange(data.shape[1])\n",
    "    y = np.arange(data.shape[0])\n",
    "    annotation_text = np.round(data.values, 2).tolist()\n",
    "    annotations = []\n",
    "    \n",
    "    for n, row in enumerate(annotation_text):\n",
    "        for m, val in enumerate(row):\n",
    "            font_color = \"#000000\" if (val < 0.5) ^ reverse_font_color else \"#FFFFFF\"\n",
    "            annotations.append(\n",
    "                go.layout.Annotation(\n",
    "                    text=str(annotation_text[n][m]),\n",
    "                    x=x[m],\n",
    "                    y=y[n],\n",
    "                    xref=\"x1\",\n",
    "                    yref=\"y1\",\n",
    "                    font=dict(color=font_color),\n",
    "                    showarrow=False,\n",
    "                )\n",
    "            )\n",
    "    return annotations"
   ]
  },
  {
   "cell_type": "code",
   "execution_count": 7,
   "id": "37a45cba",
   "metadata": {},
   "outputs": [],
   "source": [
    "def plot_correlation_table(data, fig=None, width=500, height=500, colorscale='YlGnBu', reverse_font_color=False):\n",
    "    if fig is None:\n",
    "        fig = go.Figure()\n",
    "\n",
    "    x = data.columns.values.tolist()\n",
    "    y = data.index.values.tolist()\n",
    "    z = np.round(data.values, 2).tolist()\n",
    "\n",
    "    fig.add_trace(\n",
    "        go.Heatmap(\n",
    "            x=np.arange(len(x)),\n",
    "            y=np.arange(len(y)),\n",
    "            z=z,\n",
    "            colorscale=colorscale,\n",
    "            showscale=True,\n",
    "            reversescale=False,\n",
    "            zmin=0,\n",
    "            zmax=1,\n",
    "            hovertemplate=\"Corr ( %{x}, %{y} ) = %{z} <extra></extra>\"\n",
    "        )\n",
    "    )\n",
    "\n",
    "    fig.update_layout(\n",
    "        xaxis = dict(scaleanchor = 'y', constrain='domain'),\n",
    "        width=width,\n",
    "        height=height,\n",
    "    )\n",
    "    \n",
    "    fig.update_yaxes(autorange='reversed', tickvals=np.arange(len(y)), ticktext=y)\n",
    "    fig.update_xaxes(tickangle=-45, tickvals=np.arange(len(x)), ticktext=x)\n",
    "\n",
    "    return fig"
   ]
  },
  {
   "cell_type": "code",
   "execution_count": 8,
   "id": "39007556",
   "metadata": {},
   "outputs": [],
   "source": [
    "def plot_correlation_matrix(data, num_cols=[], cat_cols=[], fig=None, width=500, height=500, colorscale='YlGnBu', reverse_font_color=False):\n",
    "    df = data.copy(deep=True)\n",
    "    \n",
    "    n_num = len(num_cols)\n",
    "    n_cat = len(cat_cols)\n",
    "    buttons_list = []\n",
    "    \n",
    "    ticktext = []\n",
    "    for n in num_cols:\n",
    "        ticktext.append(str(n)+' (N)  ')\n",
    "    for n in cat_cols:\n",
    "        ticktext.append(str(n)+' (C)  ')\n",
    "        \n",
    "    fig = plot_correlation_table(df, fig=fig, width=width, height=height, colorscale=colorscale)\n",
    "    annotations = gen_annotations(data, reverse_font_color=False)\n",
    "    \n",
    "    \n",
    "    if n_num > 0 and n_cat > 0:\n",
    "        line_config = dict(color=\"blue\", width = 4)\n",
    "        coor = [-0.5, n_num - 0.5, n_num + n_cat - 0.5]\n",
    "        button_label = ['numeric-numeric', 'categorical-numeric', 'numeric-categorical', 'categorical-categorical']\n",
    "        \n",
    "        shapes = []\n",
    "        buttons_list.append(dict(label=\"None\", method=\"relayout\", args=[{\"shapes\": []}]))\n",
    "        idx = 0\n",
    "        for i in range(2):\n",
    "            for j in range(2):\n",
    "                shape_ = dict(type=\"rect\", x0=coor[i], y0=coor[j], x1=coor[i+1], y1=coor[j+1] ,line=line_config, layer='above')\n",
    "                shapes.append(shape_)\n",
    "                buttons_list.append(dict(label=button_label[idx], method=\"relayout\", args=[{\"shapes\": [shape_]}]))\n",
    "                idx += 1\n",
    "    \n",
    "    fig.update_layout(\n",
    "        title={\n",
    "            'text': 'Correlation',\n",
    "            'y':0.99,\n",
    "            'x':0,\n",
    "            'xanchor': 'left',\n",
    "            'yanchor': 'top',\n",
    "            'font': {'size': 22},\n",
    "        },\n",
    "        margin=dict(t=150, b=0, l=270, r=280),\n",
    "        annotations=annotations,\n",
    "        coloraxis_colorbar=dict(\n",
    "            thicknessmode=\"pixels\", thickness=50,\n",
    "            lenmode=\"pixels\",# len=200,\n",
    "            yanchor=\"top\", y=1,\n",
    "            ticks=\"outside\",\n",
    "            dtick=5\n",
    "        ),\n",
    "        hoverlabel=dict(\n",
    "            bgcolor=\"white\",\n",
    "            font_size=12,\n",
    "            font_family=\"Arial\",\n",
    "        ),\n",
    "        paper_bgcolor='rgba(0,0,0,0)',\n",
    "        plot_bgcolor='rgba(238,238,238,1)',\n",
    "        modebar=dict(bgcolor='rgba(0,0,0,0)', activecolor='rgba(68,68,68,0.7)', color='rgba(68,68,68,0.3)'),\n",
    "    )\n",
    "                \n",
    "    fig.update_layout(\n",
    "    updatemenus=[\n",
    "        dict(\n",
    "            type=\"dropdown\",\n",
    "            direction='down',\n",
    "            buttons=buttons_list,\n",
    "            active=0,\n",
    "            x=0.1, xanchor=\"left\",\n",
    "            y=1, yanchor=\"top\",\n",
    "            pad={\"r\": 0, \"t\": -50, 'l': -60},\n",
    "            bgcolor='rgba(255,255,255,1)',\n",
    "        ),\n",
    "        dict(\n",
    "            type = \"buttons\",\n",
    "            direction = \"right\",\n",
    "            buttons=list([\n",
    "                dict(\n",
    "                    args=[{\"annotations\": annotations}],\n",
    "                    args2=[{\"annotations\": []}],\n",
    "                    label=\"Show value\",\n",
    "                    method=\"relayout\"\n",
    "                )\n",
    "            ]),\n",
    "            active=0,\n",
    "            x=0.1, xanchor=\"left\",\n",
    "            y=1, yanchor=\"top\",\n",
    "            pad={\"r\": 0, \"t\": -100, 'l': -60},\n",
    "            bgcolor='rgba(255,255,255,1)',\n",
    "        ),\n",
    "    ]\n",
    "    )\n",
    "\n",
    "    fig.update_yaxes(\n",
    "        tickmode='array',\n",
    "        tickvals=np.arange(df.shape[1]),\n",
    "        ticktext=ticktext,\n",
    "        fixedrange=True\n",
    "    )\n",
    "    fig.update_xaxes(fixedrange=True)\n",
    "    \n",
    "    return fig"
   ]
  },
  {
   "cell_type": "code",
   "execution_count": 9,
   "id": "53f2025d",
   "metadata": {},
   "outputs": [
    {
     "data": {
      "application/vnd.plotly.v1+json": {
       "config": {
        "displaylogo": false,
        "plotlyServerURL": "https://plot.ly"
       },
       "data": [
        {
         "colorscale": [
          [
           0,
           "rgb(255,255,217)"
          ],
          [
           0.125,
           "rgb(237,248,177)"
          ],
          [
           0.25,
           "rgb(199,233,180)"
          ],
          [
           0.375,
           "rgb(127,205,187)"
          ],
          [
           0.5,
           "rgb(65,182,196)"
          ],
          [
           0.625,
           "rgb(29,145,192)"
          ],
          [
           0.75,
           "rgb(34,94,168)"
          ],
          [
           0.875,
           "rgb(37,52,148)"
          ],
          [
           1,
           "rgb(8,29,88)"
          ]
         ],
         "hovertemplate": "Corr ( %{x}, %{y} ) = %{z} <extra></extra>",
         "reversescale": false,
         "showscale": true,
         "type": "heatmap",
         "x": [
          0,
          1,
          2,
          3,
          4,
          5,
          6,
          7,
          8,
          9,
          10,
          11,
          12,
          13,
          14,
          15
         ],
         "y": [
          0,
          1,
          2,
          3,
          4,
          5,
          6,
          7,
          8,
          9,
          10,
          11,
          12,
          13,
          14,
          15
         ],
         "z": [
          [
           1,
           0.1,
           0.01,
           0,
           0,
           0.02,
           0,
           0.5,
           0.43,
           0.22,
           0.02,
           0.19,
           0.02,
           0.17,
           0.16,
           0.04
          ],
          [
           0.1,
           1,
           0,
           0.02,
           0.01,
           0,
           0.02,
           0.1,
           0.03,
           0.09,
           0.07,
           0.07,
           0.08,
           0.05,
           0.16,
           0.04
          ],
          [
           0.01,
           0,
           1,
           0.03,
           0.16,
           0.09,
           0.05,
           0.05,
           0.01,
           0.03,
           0.01,
           0.03,
           0.01,
           0.04,
           0.45,
           0.09
          ],
          [
           0,
           0.02,
           0.03,
           1,
           0.08,
           0,
           0,
           0.04,
           0.02,
           0,
           0.01,
           0.01,
           0.01,
           0.03,
           0.07,
           0.05
          ],
          [
           0,
           0.01,
           0.16,
           0.08,
           1,
           0.09,
           0.03,
           0.06,
           0.03,
           0.02,
           0.02,
           0.02,
           0.01,
           0.06,
           0.23,
           0.11
          ],
          [
           0.02,
           0,
           0.09,
           0,
           0.09,
           1,
           0.45,
           0.06,
           0.03,
           0.02,
           0.03,
           0.12,
           0.02,
           0.25,
           0.29,
           0.88
          ],
          [
           0,
           0.02,
           0.05,
           0,
           0.03,
           0.45,
           1,
           0.04,
           0.02,
           0.03,
           0.02,
           0.04,
           0.01,
           0.15,
           0.18,
           0.54
          ],
          [
           0.5,
           0.1,
           0.05,
           0.04,
           0.06,
           0.06,
           0.04,
           1,
           0.21,
           0.46,
           0.04,
           0.28,
           0.11,
           0.15,
           0.11,
           0.06
          ],
          [
           0.43,
           0.03,
           0.01,
           0.02,
           0.03,
           0.03,
           0.02,
           0.21,
           1,
           0.12,
           0.02,
           0.02,
           0.05,
           0.05,
           0.07,
           0.03
          ],
          [
           0.22,
           0.09,
           0.03,
           0,
           0.02,
           0.02,
           0.03,
           0.46,
           0.12,
           1,
           0.02,
           0.12,
           0.08,
           0.12,
           0.11,
           0.04
          ],
          [
           0.02,
           0.07,
           0.01,
           0.01,
           0.02,
           0.03,
           0.02,
           0.04,
           0.02,
           0.02,
           1,
           0.01,
           0.08,
           0.02,
           0.06,
           0.04
          ],
          [
           0.19,
           0.07,
           0.03,
           0.01,
           0.02,
           0.12,
           0.04,
           0.28,
           0.02,
           0.12,
           0.01,
           1,
           0.04,
           0.21,
           0.5,
           0.14
          ],
          [
           0.02,
           0.08,
           0.01,
           0.01,
           0.01,
           0.02,
           0.01,
           0.11,
           0.05,
           0.08,
           0.08,
           0.04,
           1,
           0.02,
           0.18,
           0.06
          ],
          [
           0.17,
           0.05,
           0.04,
           0.03,
           0.06,
           0.25,
           0.15,
           0.15,
           0.05,
           0.12,
           0.02,
           0.21,
           0.02,
           1,
           0.51,
           0.21
          ],
          [
           0.16,
           0.16,
           0.45,
           0.07,
           0.23,
           0.29,
           0.18,
           0.11,
           0.07,
           0.11,
           0.06,
           0.5,
           0.18,
           0.51,
           1,
           0.21
          ],
          [
           0.04,
           0.04,
           0.09,
           0.05,
           0.11,
           0.88,
           0.54,
           0.06,
           0.03,
           0.04,
           0.04,
           0.14,
           0.06,
           0.21,
           0.21,
           1
          ]
         ],
         "zmax": 1,
         "zmin": 0
        }
       ],
       "layout": {
        "annotations": [
         {
          "font": {
           "color": "#FFFFFF"
          },
          "showarrow": false,
          "text": "1.0",
          "x": 0,
          "xref": "x",
          "y": 0,
          "yref": "y"
         },
         {
          "font": {
           "color": "#000000"
          },
          "showarrow": false,
          "text": "0.1",
          "x": 1,
          "xref": "x",
          "y": 0,
          "yref": "y"
         },
         {
          "font": {
           "color": "#000000"
          },
          "showarrow": false,
          "text": "0.01",
          "x": 2,
          "xref": "x",
          "y": 0,
          "yref": "y"
         },
         {
          "font": {
           "color": "#000000"
          },
          "showarrow": false,
          "text": "0.0",
          "x": 3,
          "xref": "x",
          "y": 0,
          "yref": "y"
         },
         {
          "font": {
           "color": "#000000"
          },
          "showarrow": false,
          "text": "0.0",
          "x": 4,
          "xref": "x",
          "y": 0,
          "yref": "y"
         },
         {
          "font": {
           "color": "#000000"
          },
          "showarrow": false,
          "text": "0.02",
          "x": 5,
          "xref": "x",
          "y": 0,
          "yref": "y"
         },
         {
          "font": {
           "color": "#000000"
          },
          "showarrow": false,
          "text": "0.0",
          "x": 6,
          "xref": "x",
          "y": 0,
          "yref": "y"
         },
         {
          "font": {
           "color": "#FFFFFF"
          },
          "showarrow": false,
          "text": "0.5",
          "x": 7,
          "xref": "x",
          "y": 0,
          "yref": "y"
         },
         {
          "font": {
           "color": "#000000"
          },
          "showarrow": false,
          "text": "0.43",
          "x": 8,
          "xref": "x",
          "y": 0,
          "yref": "y"
         },
         {
          "font": {
           "color": "#000000"
          },
          "showarrow": false,
          "text": "0.22",
          "x": 9,
          "xref": "x",
          "y": 0,
          "yref": "y"
         },
         {
          "font": {
           "color": "#000000"
          },
          "showarrow": false,
          "text": "0.02",
          "x": 10,
          "xref": "x",
          "y": 0,
          "yref": "y"
         },
         {
          "font": {
           "color": "#000000"
          },
          "showarrow": false,
          "text": "0.19",
          "x": 11,
          "xref": "x",
          "y": 0,
          "yref": "y"
         },
         {
          "font": {
           "color": "#000000"
          },
          "showarrow": false,
          "text": "0.02",
          "x": 12,
          "xref": "x",
          "y": 0,
          "yref": "y"
         },
         {
          "font": {
           "color": "#000000"
          },
          "showarrow": false,
          "text": "0.17",
          "x": 13,
          "xref": "x",
          "y": 0,
          "yref": "y"
         },
         {
          "font": {
           "color": "#000000"
          },
          "showarrow": false,
          "text": "0.16",
          "x": 14,
          "xref": "x",
          "y": 0,
          "yref": "y"
         },
         {
          "font": {
           "color": "#000000"
          },
          "showarrow": false,
          "text": "0.04",
          "x": 15,
          "xref": "x",
          "y": 0,
          "yref": "y"
         },
         {
          "font": {
           "color": "#000000"
          },
          "showarrow": false,
          "text": "0.1",
          "x": 0,
          "xref": "x",
          "y": 1,
          "yref": "y"
         },
         {
          "font": {
           "color": "#FFFFFF"
          },
          "showarrow": false,
          "text": "1.0",
          "x": 1,
          "xref": "x",
          "y": 1,
          "yref": "y"
         },
         {
          "font": {
           "color": "#000000"
          },
          "showarrow": false,
          "text": "0.0",
          "x": 2,
          "xref": "x",
          "y": 1,
          "yref": "y"
         },
         {
          "font": {
           "color": "#000000"
          },
          "showarrow": false,
          "text": "0.02",
          "x": 3,
          "xref": "x",
          "y": 1,
          "yref": "y"
         },
         {
          "font": {
           "color": "#000000"
          },
          "showarrow": false,
          "text": "0.01",
          "x": 4,
          "xref": "x",
          "y": 1,
          "yref": "y"
         },
         {
          "font": {
           "color": "#000000"
          },
          "showarrow": false,
          "text": "0.0",
          "x": 5,
          "xref": "x",
          "y": 1,
          "yref": "y"
         },
         {
          "font": {
           "color": "#000000"
          },
          "showarrow": false,
          "text": "0.02",
          "x": 6,
          "xref": "x",
          "y": 1,
          "yref": "y"
         },
         {
          "font": {
           "color": "#000000"
          },
          "showarrow": false,
          "text": "0.1",
          "x": 7,
          "xref": "x",
          "y": 1,
          "yref": "y"
         },
         {
          "font": {
           "color": "#000000"
          },
          "showarrow": false,
          "text": "0.03",
          "x": 8,
          "xref": "x",
          "y": 1,
          "yref": "y"
         },
         {
          "font": {
           "color": "#000000"
          },
          "showarrow": false,
          "text": "0.09",
          "x": 9,
          "xref": "x",
          "y": 1,
          "yref": "y"
         },
         {
          "font": {
           "color": "#000000"
          },
          "showarrow": false,
          "text": "0.07",
          "x": 10,
          "xref": "x",
          "y": 1,
          "yref": "y"
         },
         {
          "font": {
           "color": "#000000"
          },
          "showarrow": false,
          "text": "0.07",
          "x": 11,
          "xref": "x",
          "y": 1,
          "yref": "y"
         },
         {
          "font": {
           "color": "#000000"
          },
          "showarrow": false,
          "text": "0.08",
          "x": 12,
          "xref": "x",
          "y": 1,
          "yref": "y"
         },
         {
          "font": {
           "color": "#000000"
          },
          "showarrow": false,
          "text": "0.05",
          "x": 13,
          "xref": "x",
          "y": 1,
          "yref": "y"
         },
         {
          "font": {
           "color": "#000000"
          },
          "showarrow": false,
          "text": "0.16",
          "x": 14,
          "xref": "x",
          "y": 1,
          "yref": "y"
         },
         {
          "font": {
           "color": "#000000"
          },
          "showarrow": false,
          "text": "0.04",
          "x": 15,
          "xref": "x",
          "y": 1,
          "yref": "y"
         },
         {
          "font": {
           "color": "#000000"
          },
          "showarrow": false,
          "text": "0.01",
          "x": 0,
          "xref": "x",
          "y": 2,
          "yref": "y"
         },
         {
          "font": {
           "color": "#000000"
          },
          "showarrow": false,
          "text": "0.0",
          "x": 1,
          "xref": "x",
          "y": 2,
          "yref": "y"
         },
         {
          "font": {
           "color": "#FFFFFF"
          },
          "showarrow": false,
          "text": "1.0",
          "x": 2,
          "xref": "x",
          "y": 2,
          "yref": "y"
         },
         {
          "font": {
           "color": "#000000"
          },
          "showarrow": false,
          "text": "0.03",
          "x": 3,
          "xref": "x",
          "y": 2,
          "yref": "y"
         },
         {
          "font": {
           "color": "#000000"
          },
          "showarrow": false,
          "text": "0.16",
          "x": 4,
          "xref": "x",
          "y": 2,
          "yref": "y"
         },
         {
          "font": {
           "color": "#000000"
          },
          "showarrow": false,
          "text": "0.09",
          "x": 5,
          "xref": "x",
          "y": 2,
          "yref": "y"
         },
         {
          "font": {
           "color": "#000000"
          },
          "showarrow": false,
          "text": "0.05",
          "x": 6,
          "xref": "x",
          "y": 2,
          "yref": "y"
         },
         {
          "font": {
           "color": "#000000"
          },
          "showarrow": false,
          "text": "0.05",
          "x": 7,
          "xref": "x",
          "y": 2,
          "yref": "y"
         },
         {
          "font": {
           "color": "#000000"
          },
          "showarrow": false,
          "text": "0.01",
          "x": 8,
          "xref": "x",
          "y": 2,
          "yref": "y"
         },
         {
          "font": {
           "color": "#000000"
          },
          "showarrow": false,
          "text": "0.03",
          "x": 9,
          "xref": "x",
          "y": 2,
          "yref": "y"
         },
         {
          "font": {
           "color": "#000000"
          },
          "showarrow": false,
          "text": "0.01",
          "x": 10,
          "xref": "x",
          "y": 2,
          "yref": "y"
         },
         {
          "font": {
           "color": "#000000"
          },
          "showarrow": false,
          "text": "0.03",
          "x": 11,
          "xref": "x",
          "y": 2,
          "yref": "y"
         },
         {
          "font": {
           "color": "#000000"
          },
          "showarrow": false,
          "text": "0.01",
          "x": 12,
          "xref": "x",
          "y": 2,
          "yref": "y"
         },
         {
          "font": {
           "color": "#000000"
          },
          "showarrow": false,
          "text": "0.04",
          "x": 13,
          "xref": "x",
          "y": 2,
          "yref": "y"
         },
         {
          "font": {
           "color": "#000000"
          },
          "showarrow": false,
          "text": "0.45",
          "x": 14,
          "xref": "x",
          "y": 2,
          "yref": "y"
         },
         {
          "font": {
           "color": "#000000"
          },
          "showarrow": false,
          "text": "0.09",
          "x": 15,
          "xref": "x",
          "y": 2,
          "yref": "y"
         },
         {
          "font": {
           "color": "#000000"
          },
          "showarrow": false,
          "text": "0.0",
          "x": 0,
          "xref": "x",
          "y": 3,
          "yref": "y"
         },
         {
          "font": {
           "color": "#000000"
          },
          "showarrow": false,
          "text": "0.02",
          "x": 1,
          "xref": "x",
          "y": 3,
          "yref": "y"
         },
         {
          "font": {
           "color": "#000000"
          },
          "showarrow": false,
          "text": "0.03",
          "x": 2,
          "xref": "x",
          "y": 3,
          "yref": "y"
         },
         {
          "font": {
           "color": "#FFFFFF"
          },
          "showarrow": false,
          "text": "1.0",
          "x": 3,
          "xref": "x",
          "y": 3,
          "yref": "y"
         },
         {
          "font": {
           "color": "#000000"
          },
          "showarrow": false,
          "text": "0.08",
          "x": 4,
          "xref": "x",
          "y": 3,
          "yref": "y"
         },
         {
          "font": {
           "color": "#000000"
          },
          "showarrow": false,
          "text": "0.0",
          "x": 5,
          "xref": "x",
          "y": 3,
          "yref": "y"
         },
         {
          "font": {
           "color": "#000000"
          },
          "showarrow": false,
          "text": "0.0",
          "x": 6,
          "xref": "x",
          "y": 3,
          "yref": "y"
         },
         {
          "font": {
           "color": "#000000"
          },
          "showarrow": false,
          "text": "0.04",
          "x": 7,
          "xref": "x",
          "y": 3,
          "yref": "y"
         },
         {
          "font": {
           "color": "#000000"
          },
          "showarrow": false,
          "text": "0.02",
          "x": 8,
          "xref": "x",
          "y": 3,
          "yref": "y"
         },
         {
          "font": {
           "color": "#000000"
          },
          "showarrow": false,
          "text": "0.0",
          "x": 9,
          "xref": "x",
          "y": 3,
          "yref": "y"
         },
         {
          "font": {
           "color": "#000000"
          },
          "showarrow": false,
          "text": "0.01",
          "x": 10,
          "xref": "x",
          "y": 3,
          "yref": "y"
         },
         {
          "font": {
           "color": "#000000"
          },
          "showarrow": false,
          "text": "0.01",
          "x": 11,
          "xref": "x",
          "y": 3,
          "yref": "y"
         },
         {
          "font": {
           "color": "#000000"
          },
          "showarrow": false,
          "text": "0.01",
          "x": 12,
          "xref": "x",
          "y": 3,
          "yref": "y"
         },
         {
          "font": {
           "color": "#000000"
          },
          "showarrow": false,
          "text": "0.03",
          "x": 13,
          "xref": "x",
          "y": 3,
          "yref": "y"
         },
         {
          "font": {
           "color": "#000000"
          },
          "showarrow": false,
          "text": "0.07",
          "x": 14,
          "xref": "x",
          "y": 3,
          "yref": "y"
         },
         {
          "font": {
           "color": "#000000"
          },
          "showarrow": false,
          "text": "0.05",
          "x": 15,
          "xref": "x",
          "y": 3,
          "yref": "y"
         },
         {
          "font": {
           "color": "#000000"
          },
          "showarrow": false,
          "text": "0.0",
          "x": 0,
          "xref": "x",
          "y": 4,
          "yref": "y"
         },
         {
          "font": {
           "color": "#000000"
          },
          "showarrow": false,
          "text": "0.01",
          "x": 1,
          "xref": "x",
          "y": 4,
          "yref": "y"
         },
         {
          "font": {
           "color": "#000000"
          },
          "showarrow": false,
          "text": "0.16",
          "x": 2,
          "xref": "x",
          "y": 4,
          "yref": "y"
         },
         {
          "font": {
           "color": "#000000"
          },
          "showarrow": false,
          "text": "0.08",
          "x": 3,
          "xref": "x",
          "y": 4,
          "yref": "y"
         },
         {
          "font": {
           "color": "#FFFFFF"
          },
          "showarrow": false,
          "text": "1.0",
          "x": 4,
          "xref": "x",
          "y": 4,
          "yref": "y"
         },
         {
          "font": {
           "color": "#000000"
          },
          "showarrow": false,
          "text": "0.09",
          "x": 5,
          "xref": "x",
          "y": 4,
          "yref": "y"
         },
         {
          "font": {
           "color": "#000000"
          },
          "showarrow": false,
          "text": "0.03",
          "x": 6,
          "xref": "x",
          "y": 4,
          "yref": "y"
         },
         {
          "font": {
           "color": "#000000"
          },
          "showarrow": false,
          "text": "0.06",
          "x": 7,
          "xref": "x",
          "y": 4,
          "yref": "y"
         },
         {
          "font": {
           "color": "#000000"
          },
          "showarrow": false,
          "text": "0.03",
          "x": 8,
          "xref": "x",
          "y": 4,
          "yref": "y"
         },
         {
          "font": {
           "color": "#000000"
          },
          "showarrow": false,
          "text": "0.02",
          "x": 9,
          "xref": "x",
          "y": 4,
          "yref": "y"
         },
         {
          "font": {
           "color": "#000000"
          },
          "showarrow": false,
          "text": "0.02",
          "x": 10,
          "xref": "x",
          "y": 4,
          "yref": "y"
         },
         {
          "font": {
           "color": "#000000"
          },
          "showarrow": false,
          "text": "0.02",
          "x": 11,
          "xref": "x",
          "y": 4,
          "yref": "y"
         },
         {
          "font": {
           "color": "#000000"
          },
          "showarrow": false,
          "text": "0.01",
          "x": 12,
          "xref": "x",
          "y": 4,
          "yref": "y"
         },
         {
          "font": {
           "color": "#000000"
          },
          "showarrow": false,
          "text": "0.06",
          "x": 13,
          "xref": "x",
          "y": 4,
          "yref": "y"
         },
         {
          "font": {
           "color": "#000000"
          },
          "showarrow": false,
          "text": "0.23",
          "x": 14,
          "xref": "x",
          "y": 4,
          "yref": "y"
         },
         {
          "font": {
           "color": "#000000"
          },
          "showarrow": false,
          "text": "0.11",
          "x": 15,
          "xref": "x",
          "y": 4,
          "yref": "y"
         },
         {
          "font": {
           "color": "#000000"
          },
          "showarrow": false,
          "text": "0.02",
          "x": 0,
          "xref": "x",
          "y": 5,
          "yref": "y"
         },
         {
          "font": {
           "color": "#000000"
          },
          "showarrow": false,
          "text": "0.0",
          "x": 1,
          "xref": "x",
          "y": 5,
          "yref": "y"
         },
         {
          "font": {
           "color": "#000000"
          },
          "showarrow": false,
          "text": "0.09",
          "x": 2,
          "xref": "x",
          "y": 5,
          "yref": "y"
         },
         {
          "font": {
           "color": "#000000"
          },
          "showarrow": false,
          "text": "0.0",
          "x": 3,
          "xref": "x",
          "y": 5,
          "yref": "y"
         },
         {
          "font": {
           "color": "#000000"
          },
          "showarrow": false,
          "text": "0.09",
          "x": 4,
          "xref": "x",
          "y": 5,
          "yref": "y"
         },
         {
          "font": {
           "color": "#FFFFFF"
          },
          "showarrow": false,
          "text": "1.0",
          "x": 5,
          "xref": "x",
          "y": 5,
          "yref": "y"
         },
         {
          "font": {
           "color": "#000000"
          },
          "showarrow": false,
          "text": "0.45",
          "x": 6,
          "xref": "x",
          "y": 5,
          "yref": "y"
         },
         {
          "font": {
           "color": "#000000"
          },
          "showarrow": false,
          "text": "0.06",
          "x": 7,
          "xref": "x",
          "y": 5,
          "yref": "y"
         },
         {
          "font": {
           "color": "#000000"
          },
          "showarrow": false,
          "text": "0.03",
          "x": 8,
          "xref": "x",
          "y": 5,
          "yref": "y"
         },
         {
          "font": {
           "color": "#000000"
          },
          "showarrow": false,
          "text": "0.02",
          "x": 9,
          "xref": "x",
          "y": 5,
          "yref": "y"
         },
         {
          "font": {
           "color": "#000000"
          },
          "showarrow": false,
          "text": "0.03",
          "x": 10,
          "xref": "x",
          "y": 5,
          "yref": "y"
         },
         {
          "font": {
           "color": "#000000"
          },
          "showarrow": false,
          "text": "0.12",
          "x": 11,
          "xref": "x",
          "y": 5,
          "yref": "y"
         },
         {
          "font": {
           "color": "#000000"
          },
          "showarrow": false,
          "text": "0.02",
          "x": 12,
          "xref": "x",
          "y": 5,
          "yref": "y"
         },
         {
          "font": {
           "color": "#000000"
          },
          "showarrow": false,
          "text": "0.25",
          "x": 13,
          "xref": "x",
          "y": 5,
          "yref": "y"
         },
         {
          "font": {
           "color": "#000000"
          },
          "showarrow": false,
          "text": "0.29",
          "x": 14,
          "xref": "x",
          "y": 5,
          "yref": "y"
         },
         {
          "font": {
           "color": "#FFFFFF"
          },
          "showarrow": false,
          "text": "0.88",
          "x": 15,
          "xref": "x",
          "y": 5,
          "yref": "y"
         },
         {
          "font": {
           "color": "#000000"
          },
          "showarrow": false,
          "text": "0.0",
          "x": 0,
          "xref": "x",
          "y": 6,
          "yref": "y"
         },
         {
          "font": {
           "color": "#000000"
          },
          "showarrow": false,
          "text": "0.02",
          "x": 1,
          "xref": "x",
          "y": 6,
          "yref": "y"
         },
         {
          "font": {
           "color": "#000000"
          },
          "showarrow": false,
          "text": "0.05",
          "x": 2,
          "xref": "x",
          "y": 6,
          "yref": "y"
         },
         {
          "font": {
           "color": "#000000"
          },
          "showarrow": false,
          "text": "0.0",
          "x": 3,
          "xref": "x",
          "y": 6,
          "yref": "y"
         },
         {
          "font": {
           "color": "#000000"
          },
          "showarrow": false,
          "text": "0.03",
          "x": 4,
          "xref": "x",
          "y": 6,
          "yref": "y"
         },
         {
          "font": {
           "color": "#000000"
          },
          "showarrow": false,
          "text": "0.45",
          "x": 5,
          "xref": "x",
          "y": 6,
          "yref": "y"
         },
         {
          "font": {
           "color": "#FFFFFF"
          },
          "showarrow": false,
          "text": "1.0",
          "x": 6,
          "xref": "x",
          "y": 6,
          "yref": "y"
         },
         {
          "font": {
           "color": "#000000"
          },
          "showarrow": false,
          "text": "0.04",
          "x": 7,
          "xref": "x",
          "y": 6,
          "yref": "y"
         },
         {
          "font": {
           "color": "#000000"
          },
          "showarrow": false,
          "text": "0.02",
          "x": 8,
          "xref": "x",
          "y": 6,
          "yref": "y"
         },
         {
          "font": {
           "color": "#000000"
          },
          "showarrow": false,
          "text": "0.03",
          "x": 9,
          "xref": "x",
          "y": 6,
          "yref": "y"
         },
         {
          "font": {
           "color": "#000000"
          },
          "showarrow": false,
          "text": "0.02",
          "x": 10,
          "xref": "x",
          "y": 6,
          "yref": "y"
         },
         {
          "font": {
           "color": "#000000"
          },
          "showarrow": false,
          "text": "0.04",
          "x": 11,
          "xref": "x",
          "y": 6,
          "yref": "y"
         },
         {
          "font": {
           "color": "#000000"
          },
          "showarrow": false,
          "text": "0.01",
          "x": 12,
          "xref": "x",
          "y": 6,
          "yref": "y"
         },
         {
          "font": {
           "color": "#000000"
          },
          "showarrow": false,
          "text": "0.15",
          "x": 13,
          "xref": "x",
          "y": 6,
          "yref": "y"
         },
         {
          "font": {
           "color": "#000000"
          },
          "showarrow": false,
          "text": "0.18",
          "x": 14,
          "xref": "x",
          "y": 6,
          "yref": "y"
         },
         {
          "font": {
           "color": "#FFFFFF"
          },
          "showarrow": false,
          "text": "0.54",
          "x": 15,
          "xref": "x",
          "y": 6,
          "yref": "y"
         },
         {
          "font": {
           "color": "#FFFFFF"
          },
          "showarrow": false,
          "text": "0.5",
          "x": 0,
          "xref": "x",
          "y": 7,
          "yref": "y"
         },
         {
          "font": {
           "color": "#000000"
          },
          "showarrow": false,
          "text": "0.1",
          "x": 1,
          "xref": "x",
          "y": 7,
          "yref": "y"
         },
         {
          "font": {
           "color": "#000000"
          },
          "showarrow": false,
          "text": "0.05",
          "x": 2,
          "xref": "x",
          "y": 7,
          "yref": "y"
         },
         {
          "font": {
           "color": "#000000"
          },
          "showarrow": false,
          "text": "0.04",
          "x": 3,
          "xref": "x",
          "y": 7,
          "yref": "y"
         },
         {
          "font": {
           "color": "#000000"
          },
          "showarrow": false,
          "text": "0.06",
          "x": 4,
          "xref": "x",
          "y": 7,
          "yref": "y"
         },
         {
          "font": {
           "color": "#000000"
          },
          "showarrow": false,
          "text": "0.06",
          "x": 5,
          "xref": "x",
          "y": 7,
          "yref": "y"
         },
         {
          "font": {
           "color": "#000000"
          },
          "showarrow": false,
          "text": "0.04",
          "x": 6,
          "xref": "x",
          "y": 7,
          "yref": "y"
         },
         {
          "font": {
           "color": "#FFFFFF"
          },
          "showarrow": false,
          "text": "1.0",
          "x": 7,
          "xref": "x",
          "y": 7,
          "yref": "y"
         },
         {
          "font": {
           "color": "#000000"
          },
          "showarrow": false,
          "text": "0.21",
          "x": 8,
          "xref": "x",
          "y": 7,
          "yref": "y"
         },
         {
          "font": {
           "color": "#000000"
          },
          "showarrow": false,
          "text": "0.46",
          "x": 9,
          "xref": "x",
          "y": 7,
          "yref": "y"
         },
         {
          "font": {
           "color": "#000000"
          },
          "showarrow": false,
          "text": "0.04",
          "x": 10,
          "xref": "x",
          "y": 7,
          "yref": "y"
         },
         {
          "font": {
           "color": "#000000"
          },
          "showarrow": false,
          "text": "0.28",
          "x": 11,
          "xref": "x",
          "y": 7,
          "yref": "y"
         },
         {
          "font": {
           "color": "#000000"
          },
          "showarrow": false,
          "text": "0.11",
          "x": 12,
          "xref": "x",
          "y": 7,
          "yref": "y"
         },
         {
          "font": {
           "color": "#000000"
          },
          "showarrow": false,
          "text": "0.15",
          "x": 13,
          "xref": "x",
          "y": 7,
          "yref": "y"
         },
         {
          "font": {
           "color": "#000000"
          },
          "showarrow": false,
          "text": "0.11",
          "x": 14,
          "xref": "x",
          "y": 7,
          "yref": "y"
         },
         {
          "font": {
           "color": "#000000"
          },
          "showarrow": false,
          "text": "0.06",
          "x": 15,
          "xref": "x",
          "y": 7,
          "yref": "y"
         },
         {
          "font": {
           "color": "#000000"
          },
          "showarrow": false,
          "text": "0.43",
          "x": 0,
          "xref": "x",
          "y": 8,
          "yref": "y"
         },
         {
          "font": {
           "color": "#000000"
          },
          "showarrow": false,
          "text": "0.03",
          "x": 1,
          "xref": "x",
          "y": 8,
          "yref": "y"
         },
         {
          "font": {
           "color": "#000000"
          },
          "showarrow": false,
          "text": "0.01",
          "x": 2,
          "xref": "x",
          "y": 8,
          "yref": "y"
         },
         {
          "font": {
           "color": "#000000"
          },
          "showarrow": false,
          "text": "0.02",
          "x": 3,
          "xref": "x",
          "y": 8,
          "yref": "y"
         },
         {
          "font": {
           "color": "#000000"
          },
          "showarrow": false,
          "text": "0.03",
          "x": 4,
          "xref": "x",
          "y": 8,
          "yref": "y"
         },
         {
          "font": {
           "color": "#000000"
          },
          "showarrow": false,
          "text": "0.03",
          "x": 5,
          "xref": "x",
          "y": 8,
          "yref": "y"
         },
         {
          "font": {
           "color": "#000000"
          },
          "showarrow": false,
          "text": "0.02",
          "x": 6,
          "xref": "x",
          "y": 8,
          "yref": "y"
         },
         {
          "font": {
           "color": "#000000"
          },
          "showarrow": false,
          "text": "0.21",
          "x": 7,
          "xref": "x",
          "y": 8,
          "yref": "y"
         },
         {
          "font": {
           "color": "#FFFFFF"
          },
          "showarrow": false,
          "text": "1.0",
          "x": 8,
          "xref": "x",
          "y": 8,
          "yref": "y"
         },
         {
          "font": {
           "color": "#000000"
          },
          "showarrow": false,
          "text": "0.12",
          "x": 9,
          "xref": "x",
          "y": 8,
          "yref": "y"
         },
         {
          "font": {
           "color": "#000000"
          },
          "showarrow": false,
          "text": "0.02",
          "x": 10,
          "xref": "x",
          "y": 8,
          "yref": "y"
         },
         {
          "font": {
           "color": "#000000"
          },
          "showarrow": false,
          "text": "0.02",
          "x": 11,
          "xref": "x",
          "y": 8,
          "yref": "y"
         },
         {
          "font": {
           "color": "#000000"
          },
          "showarrow": false,
          "text": "0.05",
          "x": 12,
          "xref": "x",
          "y": 8,
          "yref": "y"
         },
         {
          "font": {
           "color": "#000000"
          },
          "showarrow": false,
          "text": "0.05",
          "x": 13,
          "xref": "x",
          "y": 8,
          "yref": "y"
         },
         {
          "font": {
           "color": "#000000"
          },
          "showarrow": false,
          "text": "0.07",
          "x": 14,
          "xref": "x",
          "y": 8,
          "yref": "y"
         },
         {
          "font": {
           "color": "#000000"
          },
          "showarrow": false,
          "text": "0.03",
          "x": 15,
          "xref": "x",
          "y": 8,
          "yref": "y"
         },
         {
          "font": {
           "color": "#000000"
          },
          "showarrow": false,
          "text": "0.22",
          "x": 0,
          "xref": "x",
          "y": 9,
          "yref": "y"
         },
         {
          "font": {
           "color": "#000000"
          },
          "showarrow": false,
          "text": "0.09",
          "x": 1,
          "xref": "x",
          "y": 9,
          "yref": "y"
         },
         {
          "font": {
           "color": "#000000"
          },
          "showarrow": false,
          "text": "0.03",
          "x": 2,
          "xref": "x",
          "y": 9,
          "yref": "y"
         },
         {
          "font": {
           "color": "#000000"
          },
          "showarrow": false,
          "text": "0.0",
          "x": 3,
          "xref": "x",
          "y": 9,
          "yref": "y"
         },
         {
          "font": {
           "color": "#000000"
          },
          "showarrow": false,
          "text": "0.02",
          "x": 4,
          "xref": "x",
          "y": 9,
          "yref": "y"
         },
         {
          "font": {
           "color": "#000000"
          },
          "showarrow": false,
          "text": "0.02",
          "x": 5,
          "xref": "x",
          "y": 9,
          "yref": "y"
         },
         {
          "font": {
           "color": "#000000"
          },
          "showarrow": false,
          "text": "0.03",
          "x": 6,
          "xref": "x",
          "y": 9,
          "yref": "y"
         },
         {
          "font": {
           "color": "#000000"
          },
          "showarrow": false,
          "text": "0.46",
          "x": 7,
          "xref": "x",
          "y": 9,
          "yref": "y"
         },
         {
          "font": {
           "color": "#000000"
          },
          "showarrow": false,
          "text": "0.12",
          "x": 8,
          "xref": "x",
          "y": 9,
          "yref": "y"
         },
         {
          "font": {
           "color": "#FFFFFF"
          },
          "showarrow": false,
          "text": "1.0",
          "x": 9,
          "xref": "x",
          "y": 9,
          "yref": "y"
         },
         {
          "font": {
           "color": "#000000"
          },
          "showarrow": false,
          "text": "0.02",
          "x": 10,
          "xref": "x",
          "y": 9,
          "yref": "y"
         },
         {
          "font": {
           "color": "#000000"
          },
          "showarrow": false,
          "text": "0.12",
          "x": 11,
          "xref": "x",
          "y": 9,
          "yref": "y"
         },
         {
          "font": {
           "color": "#000000"
          },
          "showarrow": false,
          "text": "0.08",
          "x": 12,
          "xref": "x",
          "y": 9,
          "yref": "y"
         },
         {
          "font": {
           "color": "#000000"
          },
          "showarrow": false,
          "text": "0.12",
          "x": 13,
          "xref": "x",
          "y": 9,
          "yref": "y"
         },
         {
          "font": {
           "color": "#000000"
          },
          "showarrow": false,
          "text": "0.11",
          "x": 14,
          "xref": "x",
          "y": 9,
          "yref": "y"
         },
         {
          "font": {
           "color": "#000000"
          },
          "showarrow": false,
          "text": "0.04",
          "x": 15,
          "xref": "x",
          "y": 9,
          "yref": "y"
         },
         {
          "font": {
           "color": "#000000"
          },
          "showarrow": false,
          "text": "0.02",
          "x": 0,
          "xref": "x",
          "y": 10,
          "yref": "y"
         },
         {
          "font": {
           "color": "#000000"
          },
          "showarrow": false,
          "text": "0.07",
          "x": 1,
          "xref": "x",
          "y": 10,
          "yref": "y"
         },
         {
          "font": {
           "color": "#000000"
          },
          "showarrow": false,
          "text": "0.01",
          "x": 2,
          "xref": "x",
          "y": 10,
          "yref": "y"
         },
         {
          "font": {
           "color": "#000000"
          },
          "showarrow": false,
          "text": "0.01",
          "x": 3,
          "xref": "x",
          "y": 10,
          "yref": "y"
         },
         {
          "font": {
           "color": "#000000"
          },
          "showarrow": false,
          "text": "0.02",
          "x": 4,
          "xref": "x",
          "y": 10,
          "yref": "y"
         },
         {
          "font": {
           "color": "#000000"
          },
          "showarrow": false,
          "text": "0.03",
          "x": 5,
          "xref": "x",
          "y": 10,
          "yref": "y"
         },
         {
          "font": {
           "color": "#000000"
          },
          "showarrow": false,
          "text": "0.02",
          "x": 6,
          "xref": "x",
          "y": 10,
          "yref": "y"
         },
         {
          "font": {
           "color": "#000000"
          },
          "showarrow": false,
          "text": "0.04",
          "x": 7,
          "xref": "x",
          "y": 10,
          "yref": "y"
         },
         {
          "font": {
           "color": "#000000"
          },
          "showarrow": false,
          "text": "0.02",
          "x": 8,
          "xref": "x",
          "y": 10,
          "yref": "y"
         },
         {
          "font": {
           "color": "#000000"
          },
          "showarrow": false,
          "text": "0.02",
          "x": 9,
          "xref": "x",
          "y": 10,
          "yref": "y"
         },
         {
          "font": {
           "color": "#FFFFFF"
          },
          "showarrow": false,
          "text": "1.0",
          "x": 10,
          "xref": "x",
          "y": 10,
          "yref": "y"
         },
         {
          "font": {
           "color": "#000000"
          },
          "showarrow": false,
          "text": "0.01",
          "x": 11,
          "xref": "x",
          "y": 10,
          "yref": "y"
         },
         {
          "font": {
           "color": "#000000"
          },
          "showarrow": false,
          "text": "0.08",
          "x": 12,
          "xref": "x",
          "y": 10,
          "yref": "y"
         },
         {
          "font": {
           "color": "#000000"
          },
          "showarrow": false,
          "text": "0.02",
          "x": 13,
          "xref": "x",
          "y": 10,
          "yref": "y"
         },
         {
          "font": {
           "color": "#000000"
          },
          "showarrow": false,
          "text": "0.06",
          "x": 14,
          "xref": "x",
          "y": 10,
          "yref": "y"
         },
         {
          "font": {
           "color": "#000000"
          },
          "showarrow": false,
          "text": "0.04",
          "x": 15,
          "xref": "x",
          "y": 10,
          "yref": "y"
         },
         {
          "font": {
           "color": "#000000"
          },
          "showarrow": false,
          "text": "0.19",
          "x": 0,
          "xref": "x",
          "y": 11,
          "yref": "y"
         },
         {
          "font": {
           "color": "#000000"
          },
          "showarrow": false,
          "text": "0.07",
          "x": 1,
          "xref": "x",
          "y": 11,
          "yref": "y"
         },
         {
          "font": {
           "color": "#000000"
          },
          "showarrow": false,
          "text": "0.03",
          "x": 2,
          "xref": "x",
          "y": 11,
          "yref": "y"
         },
         {
          "font": {
           "color": "#000000"
          },
          "showarrow": false,
          "text": "0.01",
          "x": 3,
          "xref": "x",
          "y": 11,
          "yref": "y"
         },
         {
          "font": {
           "color": "#000000"
          },
          "showarrow": false,
          "text": "0.02",
          "x": 4,
          "xref": "x",
          "y": 11,
          "yref": "y"
         },
         {
          "font": {
           "color": "#000000"
          },
          "showarrow": false,
          "text": "0.12",
          "x": 5,
          "xref": "x",
          "y": 11,
          "yref": "y"
         },
         {
          "font": {
           "color": "#000000"
          },
          "showarrow": false,
          "text": "0.04",
          "x": 6,
          "xref": "x",
          "y": 11,
          "yref": "y"
         },
         {
          "font": {
           "color": "#000000"
          },
          "showarrow": false,
          "text": "0.28",
          "x": 7,
          "xref": "x",
          "y": 11,
          "yref": "y"
         },
         {
          "font": {
           "color": "#000000"
          },
          "showarrow": false,
          "text": "0.02",
          "x": 8,
          "xref": "x",
          "y": 11,
          "yref": "y"
         },
         {
          "font": {
           "color": "#000000"
          },
          "showarrow": false,
          "text": "0.12",
          "x": 9,
          "xref": "x",
          "y": 11,
          "yref": "y"
         },
         {
          "font": {
           "color": "#000000"
          },
          "showarrow": false,
          "text": "0.01",
          "x": 10,
          "xref": "x",
          "y": 11,
          "yref": "y"
         },
         {
          "font": {
           "color": "#FFFFFF"
          },
          "showarrow": false,
          "text": "1.0",
          "x": 11,
          "xref": "x",
          "y": 11,
          "yref": "y"
         },
         {
          "font": {
           "color": "#000000"
          },
          "showarrow": false,
          "text": "0.04",
          "x": 12,
          "xref": "x",
          "y": 11,
          "yref": "y"
         },
         {
          "font": {
           "color": "#000000"
          },
          "showarrow": false,
          "text": "0.21",
          "x": 13,
          "xref": "x",
          "y": 11,
          "yref": "y"
         },
         {
          "font": {
           "color": "#FFFFFF"
          },
          "showarrow": false,
          "text": "0.5",
          "x": 14,
          "xref": "x",
          "y": 11,
          "yref": "y"
         },
         {
          "font": {
           "color": "#000000"
          },
          "showarrow": false,
          "text": "0.14",
          "x": 15,
          "xref": "x",
          "y": 11,
          "yref": "y"
         },
         {
          "font": {
           "color": "#000000"
          },
          "showarrow": false,
          "text": "0.02",
          "x": 0,
          "xref": "x",
          "y": 12,
          "yref": "y"
         },
         {
          "font": {
           "color": "#000000"
          },
          "showarrow": false,
          "text": "0.08",
          "x": 1,
          "xref": "x",
          "y": 12,
          "yref": "y"
         },
         {
          "font": {
           "color": "#000000"
          },
          "showarrow": false,
          "text": "0.01",
          "x": 2,
          "xref": "x",
          "y": 12,
          "yref": "y"
         },
         {
          "font": {
           "color": "#000000"
          },
          "showarrow": false,
          "text": "0.01",
          "x": 3,
          "xref": "x",
          "y": 12,
          "yref": "y"
         },
         {
          "font": {
           "color": "#000000"
          },
          "showarrow": false,
          "text": "0.01",
          "x": 4,
          "xref": "x",
          "y": 12,
          "yref": "y"
         },
         {
          "font": {
           "color": "#000000"
          },
          "showarrow": false,
          "text": "0.02",
          "x": 5,
          "xref": "x",
          "y": 12,
          "yref": "y"
         },
         {
          "font": {
           "color": "#000000"
          },
          "showarrow": false,
          "text": "0.01",
          "x": 6,
          "xref": "x",
          "y": 12,
          "yref": "y"
         },
         {
          "font": {
           "color": "#000000"
          },
          "showarrow": false,
          "text": "0.11",
          "x": 7,
          "xref": "x",
          "y": 12,
          "yref": "y"
         },
         {
          "font": {
           "color": "#000000"
          },
          "showarrow": false,
          "text": "0.05",
          "x": 8,
          "xref": "x",
          "y": 12,
          "yref": "y"
         },
         {
          "font": {
           "color": "#000000"
          },
          "showarrow": false,
          "text": "0.08",
          "x": 9,
          "xref": "x",
          "y": 12,
          "yref": "y"
         },
         {
          "font": {
           "color": "#000000"
          },
          "showarrow": false,
          "text": "0.08",
          "x": 10,
          "xref": "x",
          "y": 12,
          "yref": "y"
         },
         {
          "font": {
           "color": "#000000"
          },
          "showarrow": false,
          "text": "0.04",
          "x": 11,
          "xref": "x",
          "y": 12,
          "yref": "y"
         },
         {
          "font": {
           "color": "#FFFFFF"
          },
          "showarrow": false,
          "text": "1.0",
          "x": 12,
          "xref": "x",
          "y": 12,
          "yref": "y"
         },
         {
          "font": {
           "color": "#000000"
          },
          "showarrow": false,
          "text": "0.02",
          "x": 13,
          "xref": "x",
          "y": 12,
          "yref": "y"
         },
         {
          "font": {
           "color": "#000000"
          },
          "showarrow": false,
          "text": "0.18",
          "x": 14,
          "xref": "x",
          "y": 12,
          "yref": "y"
         },
         {
          "font": {
           "color": "#000000"
          },
          "showarrow": false,
          "text": "0.06",
          "x": 15,
          "xref": "x",
          "y": 12,
          "yref": "y"
         },
         {
          "font": {
           "color": "#000000"
          },
          "showarrow": false,
          "text": "0.17",
          "x": 0,
          "xref": "x",
          "y": 13,
          "yref": "y"
         },
         {
          "font": {
           "color": "#000000"
          },
          "showarrow": false,
          "text": "0.05",
          "x": 1,
          "xref": "x",
          "y": 13,
          "yref": "y"
         },
         {
          "font": {
           "color": "#000000"
          },
          "showarrow": false,
          "text": "0.04",
          "x": 2,
          "xref": "x",
          "y": 13,
          "yref": "y"
         },
         {
          "font": {
           "color": "#000000"
          },
          "showarrow": false,
          "text": "0.03",
          "x": 3,
          "xref": "x",
          "y": 13,
          "yref": "y"
         },
         {
          "font": {
           "color": "#000000"
          },
          "showarrow": false,
          "text": "0.06",
          "x": 4,
          "xref": "x",
          "y": 13,
          "yref": "y"
         },
         {
          "font": {
           "color": "#000000"
          },
          "showarrow": false,
          "text": "0.25",
          "x": 5,
          "xref": "x",
          "y": 13,
          "yref": "y"
         },
         {
          "font": {
           "color": "#000000"
          },
          "showarrow": false,
          "text": "0.15",
          "x": 6,
          "xref": "x",
          "y": 13,
          "yref": "y"
         },
         {
          "font": {
           "color": "#000000"
          },
          "showarrow": false,
          "text": "0.15",
          "x": 7,
          "xref": "x",
          "y": 13,
          "yref": "y"
         },
         {
          "font": {
           "color": "#000000"
          },
          "showarrow": false,
          "text": "0.05",
          "x": 8,
          "xref": "x",
          "y": 13,
          "yref": "y"
         },
         {
          "font": {
           "color": "#000000"
          },
          "showarrow": false,
          "text": "0.12",
          "x": 9,
          "xref": "x",
          "y": 13,
          "yref": "y"
         },
         {
          "font": {
           "color": "#000000"
          },
          "showarrow": false,
          "text": "0.02",
          "x": 10,
          "xref": "x",
          "y": 13,
          "yref": "y"
         },
         {
          "font": {
           "color": "#000000"
          },
          "showarrow": false,
          "text": "0.21",
          "x": 11,
          "xref": "x",
          "y": 13,
          "yref": "y"
         },
         {
          "font": {
           "color": "#000000"
          },
          "showarrow": false,
          "text": "0.02",
          "x": 12,
          "xref": "x",
          "y": 13,
          "yref": "y"
         },
         {
          "font": {
           "color": "#FFFFFF"
          },
          "showarrow": false,
          "text": "1.0",
          "x": 13,
          "xref": "x",
          "y": 13,
          "yref": "y"
         },
         {
          "font": {
           "color": "#FFFFFF"
          },
          "showarrow": false,
          "text": "0.51",
          "x": 14,
          "xref": "x",
          "y": 13,
          "yref": "y"
         },
         {
          "font": {
           "color": "#000000"
          },
          "showarrow": false,
          "text": "0.21",
          "x": 15,
          "xref": "x",
          "y": 13,
          "yref": "y"
         },
         {
          "font": {
           "color": "#000000"
          },
          "showarrow": false,
          "text": "0.16",
          "x": 0,
          "xref": "x",
          "y": 14,
          "yref": "y"
         },
         {
          "font": {
           "color": "#000000"
          },
          "showarrow": false,
          "text": "0.16",
          "x": 1,
          "xref": "x",
          "y": 14,
          "yref": "y"
         },
         {
          "font": {
           "color": "#000000"
          },
          "showarrow": false,
          "text": "0.45",
          "x": 2,
          "xref": "x",
          "y": 14,
          "yref": "y"
         },
         {
          "font": {
           "color": "#000000"
          },
          "showarrow": false,
          "text": "0.07",
          "x": 3,
          "xref": "x",
          "y": 14,
          "yref": "y"
         },
         {
          "font": {
           "color": "#000000"
          },
          "showarrow": false,
          "text": "0.23",
          "x": 4,
          "xref": "x",
          "y": 14,
          "yref": "y"
         },
         {
          "font": {
           "color": "#000000"
          },
          "showarrow": false,
          "text": "0.29",
          "x": 5,
          "xref": "x",
          "y": 14,
          "yref": "y"
         },
         {
          "font": {
           "color": "#000000"
          },
          "showarrow": false,
          "text": "0.18",
          "x": 6,
          "xref": "x",
          "y": 14,
          "yref": "y"
         },
         {
          "font": {
           "color": "#000000"
          },
          "showarrow": false,
          "text": "0.11",
          "x": 7,
          "xref": "x",
          "y": 14,
          "yref": "y"
         },
         {
          "font": {
           "color": "#000000"
          },
          "showarrow": false,
          "text": "0.07",
          "x": 8,
          "xref": "x",
          "y": 14,
          "yref": "y"
         },
         {
          "font": {
           "color": "#000000"
          },
          "showarrow": false,
          "text": "0.11",
          "x": 9,
          "xref": "x",
          "y": 14,
          "yref": "y"
         },
         {
          "font": {
           "color": "#000000"
          },
          "showarrow": false,
          "text": "0.06",
          "x": 10,
          "xref": "x",
          "y": 14,
          "yref": "y"
         },
         {
          "font": {
           "color": "#FFFFFF"
          },
          "showarrow": false,
          "text": "0.5",
          "x": 11,
          "xref": "x",
          "y": 14,
          "yref": "y"
         },
         {
          "font": {
           "color": "#000000"
          },
          "showarrow": false,
          "text": "0.18",
          "x": 12,
          "xref": "x",
          "y": 14,
          "yref": "y"
         },
         {
          "font": {
           "color": "#FFFFFF"
          },
          "showarrow": false,
          "text": "0.51",
          "x": 13,
          "xref": "x",
          "y": 14,
          "yref": "y"
         },
         {
          "font": {
           "color": "#FFFFFF"
          },
          "showarrow": false,
          "text": "1.0",
          "x": 14,
          "xref": "x",
          "y": 14,
          "yref": "y"
         },
         {
          "font": {
           "color": "#000000"
          },
          "showarrow": false,
          "text": "0.21",
          "x": 15,
          "xref": "x",
          "y": 14,
          "yref": "y"
         },
         {
          "font": {
           "color": "#000000"
          },
          "showarrow": false,
          "text": "0.04",
          "x": 0,
          "xref": "x",
          "y": 15,
          "yref": "y"
         },
         {
          "font": {
           "color": "#000000"
          },
          "showarrow": false,
          "text": "0.04",
          "x": 1,
          "xref": "x",
          "y": 15,
          "yref": "y"
         },
         {
          "font": {
           "color": "#000000"
          },
          "showarrow": false,
          "text": "0.09",
          "x": 2,
          "xref": "x",
          "y": 15,
          "yref": "y"
         },
         {
          "font": {
           "color": "#000000"
          },
          "showarrow": false,
          "text": "0.05",
          "x": 3,
          "xref": "x",
          "y": 15,
          "yref": "y"
         },
         {
          "font": {
           "color": "#000000"
          },
          "showarrow": false,
          "text": "0.11",
          "x": 4,
          "xref": "x",
          "y": 15,
          "yref": "y"
         },
         {
          "font": {
           "color": "#FFFFFF"
          },
          "showarrow": false,
          "text": "0.88",
          "x": 5,
          "xref": "x",
          "y": 15,
          "yref": "y"
         },
         {
          "font": {
           "color": "#FFFFFF"
          },
          "showarrow": false,
          "text": "0.54",
          "x": 6,
          "xref": "x",
          "y": 15,
          "yref": "y"
         },
         {
          "font": {
           "color": "#000000"
          },
          "showarrow": false,
          "text": "0.06",
          "x": 7,
          "xref": "x",
          "y": 15,
          "yref": "y"
         },
         {
          "font": {
           "color": "#000000"
          },
          "showarrow": false,
          "text": "0.03",
          "x": 8,
          "xref": "x",
          "y": 15,
          "yref": "y"
         },
         {
          "font": {
           "color": "#000000"
          },
          "showarrow": false,
          "text": "0.04",
          "x": 9,
          "xref": "x",
          "y": 15,
          "yref": "y"
         },
         {
          "font": {
           "color": "#000000"
          },
          "showarrow": false,
          "text": "0.04",
          "x": 10,
          "xref": "x",
          "y": 15,
          "yref": "y"
         },
         {
          "font": {
           "color": "#000000"
          },
          "showarrow": false,
          "text": "0.14",
          "x": 11,
          "xref": "x",
          "y": 15,
          "yref": "y"
         },
         {
          "font": {
           "color": "#000000"
          },
          "showarrow": false,
          "text": "0.06",
          "x": 12,
          "xref": "x",
          "y": 15,
          "yref": "y"
         },
         {
          "font": {
           "color": "#000000"
          },
          "showarrow": false,
          "text": "0.21",
          "x": 13,
          "xref": "x",
          "y": 15,
          "yref": "y"
         },
         {
          "font": {
           "color": "#000000"
          },
          "showarrow": false,
          "text": "0.21",
          "x": 14,
          "xref": "x",
          "y": 15,
          "yref": "y"
         },
         {
          "font": {
           "color": "#FFFFFF"
          },
          "showarrow": false,
          "text": "1.0",
          "x": 15,
          "xref": "x",
          "y": 15,
          "yref": "y"
         }
        ],
        "coloraxis": {
         "colorbar": {
          "dtick": 5,
          "lenmode": "pixels",
          "thickness": 50,
          "thicknessmode": "pixels",
          "ticks": "outside",
          "y": 1,
          "yanchor": "top"
         }
        },
        "height": 766,
        "hoverlabel": {
         "bgcolor": "white",
         "font": {
          "family": "Arial",
          "size": 12
         }
        },
        "margin": {
         "b": 0,
         "l": 270,
         "r": 280,
         "t": 150
        },
        "modebar": {
         "activecolor": "rgba(68,68,68,0.7)",
         "bgcolor": "rgba(0,0,0,0)",
         "color": "rgba(68,68,68,0.3)"
        },
        "paper_bgcolor": "rgba(0,0,0,0)",
        "plot_bgcolor": "rgba(238,238,238,1)",
        "template": {
         "data": {
          "bar": [
           {
            "error_x": {
             "color": "#2a3f5f"
            },
            "error_y": {
             "color": "#2a3f5f"
            },
            "marker": {
             "line": {
              "color": "#E5ECF6",
              "width": 0.5
             },
             "pattern": {
              "fillmode": "overlay",
              "size": 10,
              "solidity": 0.2
             }
            },
            "type": "bar"
           }
          ],
          "barpolar": [
           {
            "marker": {
             "line": {
              "color": "#E5ECF6",
              "width": 0.5
             },
             "pattern": {
              "fillmode": "overlay",
              "size": 10,
              "solidity": 0.2
             }
            },
            "type": "barpolar"
           }
          ],
          "carpet": [
           {
            "aaxis": {
             "endlinecolor": "#2a3f5f",
             "gridcolor": "white",
             "linecolor": "white",
             "minorgridcolor": "white",
             "startlinecolor": "#2a3f5f"
            },
            "baxis": {
             "endlinecolor": "#2a3f5f",
             "gridcolor": "white",
             "linecolor": "white",
             "minorgridcolor": "white",
             "startlinecolor": "#2a3f5f"
            },
            "type": "carpet"
           }
          ],
          "choropleth": [
           {
            "colorbar": {
             "outlinewidth": 0,
             "ticks": ""
            },
            "type": "choropleth"
           }
          ],
          "contour": [
           {
            "colorbar": {
             "outlinewidth": 0,
             "ticks": ""
            },
            "colorscale": [
             [
              0,
              "#0d0887"
             ],
             [
              0.1111111111111111,
              "#46039f"
             ],
             [
              0.2222222222222222,
              "#7201a8"
             ],
             [
              0.3333333333333333,
              "#9c179e"
             ],
             [
              0.4444444444444444,
              "#bd3786"
             ],
             [
              0.5555555555555556,
              "#d8576b"
             ],
             [
              0.6666666666666666,
              "#ed7953"
             ],
             [
              0.7777777777777778,
              "#fb9f3a"
             ],
             [
              0.8888888888888888,
              "#fdca26"
             ],
             [
              1,
              "#f0f921"
             ]
            ],
            "type": "contour"
           }
          ],
          "contourcarpet": [
           {
            "colorbar": {
             "outlinewidth": 0,
             "ticks": ""
            },
            "type": "contourcarpet"
           }
          ],
          "heatmap": [
           {
            "colorbar": {
             "outlinewidth": 0,
             "ticks": ""
            },
            "colorscale": [
             [
              0,
              "#0d0887"
             ],
             [
              0.1111111111111111,
              "#46039f"
             ],
             [
              0.2222222222222222,
              "#7201a8"
             ],
             [
              0.3333333333333333,
              "#9c179e"
             ],
             [
              0.4444444444444444,
              "#bd3786"
             ],
             [
              0.5555555555555556,
              "#d8576b"
             ],
             [
              0.6666666666666666,
              "#ed7953"
             ],
             [
              0.7777777777777778,
              "#fb9f3a"
             ],
             [
              0.8888888888888888,
              "#fdca26"
             ],
             [
              1,
              "#f0f921"
             ]
            ],
            "type": "heatmap"
           }
          ],
          "heatmapgl": [
           {
            "colorbar": {
             "outlinewidth": 0,
             "ticks": ""
            },
            "colorscale": [
             [
              0,
              "#0d0887"
             ],
             [
              0.1111111111111111,
              "#46039f"
             ],
             [
              0.2222222222222222,
              "#7201a8"
             ],
             [
              0.3333333333333333,
              "#9c179e"
             ],
             [
              0.4444444444444444,
              "#bd3786"
             ],
             [
              0.5555555555555556,
              "#d8576b"
             ],
             [
              0.6666666666666666,
              "#ed7953"
             ],
             [
              0.7777777777777778,
              "#fb9f3a"
             ],
             [
              0.8888888888888888,
              "#fdca26"
             ],
             [
              1,
              "#f0f921"
             ]
            ],
            "type": "heatmapgl"
           }
          ],
          "histogram": [
           {
            "marker": {
             "pattern": {
              "fillmode": "overlay",
              "size": 10,
              "solidity": 0.2
             }
            },
            "type": "histogram"
           }
          ],
          "histogram2d": [
           {
            "colorbar": {
             "outlinewidth": 0,
             "ticks": ""
            },
            "colorscale": [
             [
              0,
              "#0d0887"
             ],
             [
              0.1111111111111111,
              "#46039f"
             ],
             [
              0.2222222222222222,
              "#7201a8"
             ],
             [
              0.3333333333333333,
              "#9c179e"
             ],
             [
              0.4444444444444444,
              "#bd3786"
             ],
             [
              0.5555555555555556,
              "#d8576b"
             ],
             [
              0.6666666666666666,
              "#ed7953"
             ],
             [
              0.7777777777777778,
              "#fb9f3a"
             ],
             [
              0.8888888888888888,
              "#fdca26"
             ],
             [
              1,
              "#f0f921"
             ]
            ],
            "type": "histogram2d"
           }
          ],
          "histogram2dcontour": [
           {
            "colorbar": {
             "outlinewidth": 0,
             "ticks": ""
            },
            "colorscale": [
             [
              0,
              "#0d0887"
             ],
             [
              0.1111111111111111,
              "#46039f"
             ],
             [
              0.2222222222222222,
              "#7201a8"
             ],
             [
              0.3333333333333333,
              "#9c179e"
             ],
             [
              0.4444444444444444,
              "#bd3786"
             ],
             [
              0.5555555555555556,
              "#d8576b"
             ],
             [
              0.6666666666666666,
              "#ed7953"
             ],
             [
              0.7777777777777778,
              "#fb9f3a"
             ],
             [
              0.8888888888888888,
              "#fdca26"
             ],
             [
              1,
              "#f0f921"
             ]
            ],
            "type": "histogram2dcontour"
           }
          ],
          "mesh3d": [
           {
            "colorbar": {
             "outlinewidth": 0,
             "ticks": ""
            },
            "type": "mesh3d"
           }
          ],
          "parcoords": [
           {
            "line": {
             "colorbar": {
              "outlinewidth": 0,
              "ticks": ""
             }
            },
            "type": "parcoords"
           }
          ],
          "pie": [
           {
            "automargin": true,
            "type": "pie"
           }
          ],
          "scatter": [
           {
            "marker": {
             "colorbar": {
              "outlinewidth": 0,
              "ticks": ""
             }
            },
            "type": "scatter"
           }
          ],
          "scatter3d": [
           {
            "line": {
             "colorbar": {
              "outlinewidth": 0,
              "ticks": ""
             }
            },
            "marker": {
             "colorbar": {
              "outlinewidth": 0,
              "ticks": ""
             }
            },
            "type": "scatter3d"
           }
          ],
          "scattercarpet": [
           {
            "marker": {
             "colorbar": {
              "outlinewidth": 0,
              "ticks": ""
             }
            },
            "type": "scattercarpet"
           }
          ],
          "scattergeo": [
           {
            "marker": {
             "colorbar": {
              "outlinewidth": 0,
              "ticks": ""
             }
            },
            "type": "scattergeo"
           }
          ],
          "scattergl": [
           {
            "marker": {
             "colorbar": {
              "outlinewidth": 0,
              "ticks": ""
             }
            },
            "type": "scattergl"
           }
          ],
          "scattermapbox": [
           {
            "marker": {
             "colorbar": {
              "outlinewidth": 0,
              "ticks": ""
             }
            },
            "type": "scattermapbox"
           }
          ],
          "scatterpolar": [
           {
            "marker": {
             "colorbar": {
              "outlinewidth": 0,
              "ticks": ""
             }
            },
            "type": "scatterpolar"
           }
          ],
          "scatterpolargl": [
           {
            "marker": {
             "colorbar": {
              "outlinewidth": 0,
              "ticks": ""
             }
            },
            "type": "scatterpolargl"
           }
          ],
          "scatterternary": [
           {
            "marker": {
             "colorbar": {
              "outlinewidth": 0,
              "ticks": ""
             }
            },
            "type": "scatterternary"
           }
          ],
          "surface": [
           {
            "colorbar": {
             "outlinewidth": 0,
             "ticks": ""
            },
            "colorscale": [
             [
              0,
              "#0d0887"
             ],
             [
              0.1111111111111111,
              "#46039f"
             ],
             [
              0.2222222222222222,
              "#7201a8"
             ],
             [
              0.3333333333333333,
              "#9c179e"
             ],
             [
              0.4444444444444444,
              "#bd3786"
             ],
             [
              0.5555555555555556,
              "#d8576b"
             ],
             [
              0.6666666666666666,
              "#ed7953"
             ],
             [
              0.7777777777777778,
              "#fb9f3a"
             ],
             [
              0.8888888888888888,
              "#fdca26"
             ],
             [
              1,
              "#f0f921"
             ]
            ],
            "type": "surface"
           }
          ],
          "table": [
           {
            "cells": {
             "fill": {
              "color": "#EBF0F8"
             },
             "line": {
              "color": "white"
             }
            },
            "header": {
             "fill": {
              "color": "#C8D4E3"
             },
             "line": {
              "color": "white"
             }
            },
            "type": "table"
           }
          ]
         },
         "layout": {
          "annotationdefaults": {
           "arrowcolor": "#2a3f5f",
           "arrowhead": 0,
           "arrowwidth": 1
          },
          "autotypenumbers": "strict",
          "coloraxis": {
           "colorbar": {
            "outlinewidth": 0,
            "ticks": ""
           }
          },
          "colorscale": {
           "diverging": [
            [
             0,
             "#8e0152"
            ],
            [
             0.1,
             "#c51b7d"
            ],
            [
             0.2,
             "#de77ae"
            ],
            [
             0.3,
             "#f1b6da"
            ],
            [
             0.4,
             "#fde0ef"
            ],
            [
             0.5,
             "#f7f7f7"
            ],
            [
             0.6,
             "#e6f5d0"
            ],
            [
             0.7,
             "#b8e186"
            ],
            [
             0.8,
             "#7fbc41"
            ],
            [
             0.9,
             "#4d9221"
            ],
            [
             1,
             "#276419"
            ]
           ],
           "sequential": [
            [
             0,
             "#0d0887"
            ],
            [
             0.1111111111111111,
             "#46039f"
            ],
            [
             0.2222222222222222,
             "#7201a8"
            ],
            [
             0.3333333333333333,
             "#9c179e"
            ],
            [
             0.4444444444444444,
             "#bd3786"
            ],
            [
             0.5555555555555556,
             "#d8576b"
            ],
            [
             0.6666666666666666,
             "#ed7953"
            ],
            [
             0.7777777777777778,
             "#fb9f3a"
            ],
            [
             0.8888888888888888,
             "#fdca26"
            ],
            [
             1,
             "#f0f921"
            ]
           ],
           "sequentialminus": [
            [
             0,
             "#0d0887"
            ],
            [
             0.1111111111111111,
             "#46039f"
            ],
            [
             0.2222222222222222,
             "#7201a8"
            ],
            [
             0.3333333333333333,
             "#9c179e"
            ],
            [
             0.4444444444444444,
             "#bd3786"
            ],
            [
             0.5555555555555556,
             "#d8576b"
            ],
            [
             0.6666666666666666,
             "#ed7953"
            ],
            [
             0.7777777777777778,
             "#fb9f3a"
            ],
            [
             0.8888888888888888,
             "#fdca26"
            ],
            [
             1,
             "#f0f921"
            ]
           ]
          },
          "colorway": [
           "#636efa",
           "#EF553B",
           "#00cc96",
           "#ab63fa",
           "#FFA15A",
           "#19d3f3",
           "#FF6692",
           "#B6E880",
           "#FF97FF",
           "#FECB52"
          ],
          "font": {
           "color": "#2a3f5f"
          },
          "geo": {
           "bgcolor": "white",
           "lakecolor": "white",
           "landcolor": "#E5ECF6",
           "showlakes": true,
           "showland": true,
           "subunitcolor": "white"
          },
          "hoverlabel": {
           "align": "left"
          },
          "hovermode": "closest",
          "mapbox": {
           "style": "light"
          },
          "paper_bgcolor": "white",
          "plot_bgcolor": "#E5ECF6",
          "polar": {
           "angularaxis": {
            "gridcolor": "white",
            "linecolor": "white",
            "ticks": ""
           },
           "bgcolor": "#E5ECF6",
           "radialaxis": {
            "gridcolor": "white",
            "linecolor": "white",
            "ticks": ""
           }
          },
          "scene": {
           "xaxis": {
            "backgroundcolor": "#E5ECF6",
            "gridcolor": "white",
            "gridwidth": 2,
            "linecolor": "white",
            "showbackground": true,
            "ticks": "",
            "zerolinecolor": "white"
           },
           "yaxis": {
            "backgroundcolor": "#E5ECF6",
            "gridcolor": "white",
            "gridwidth": 2,
            "linecolor": "white",
            "showbackground": true,
            "ticks": "",
            "zerolinecolor": "white"
           },
           "zaxis": {
            "backgroundcolor": "#E5ECF6",
            "gridcolor": "white",
            "gridwidth": 2,
            "linecolor": "white",
            "showbackground": true,
            "ticks": "",
            "zerolinecolor": "white"
           }
          },
          "shapedefaults": {
           "line": {
            "color": "#2a3f5f"
           }
          },
          "ternary": {
           "aaxis": {
            "gridcolor": "white",
            "linecolor": "white",
            "ticks": ""
           },
           "baxis": {
            "gridcolor": "white",
            "linecolor": "white",
            "ticks": ""
           },
           "bgcolor": "#E5ECF6",
           "caxis": {
            "gridcolor": "white",
            "linecolor": "white",
            "ticks": ""
           }
          },
          "title": {
           "x": 0.05
          },
          "xaxis": {
           "automargin": true,
           "gridcolor": "white",
           "linecolor": "white",
           "ticks": "",
           "title": {
            "standoff": 15
           },
           "zerolinecolor": "white",
           "zerolinewidth": 2
          },
          "yaxis": {
           "automargin": true,
           "gridcolor": "white",
           "linecolor": "white",
           "ticks": "",
           "title": {
            "standoff": 15
           },
           "zerolinecolor": "white",
           "zerolinewidth": 2
          }
         }
        },
        "title": {
         "font": {
          "size": 22
         },
         "text": "Correlation",
         "x": 0,
         "xanchor": "left",
         "y": 0.99,
         "yanchor": "top"
        },
        "updatemenus": [
         {
          "active": 0,
          "bgcolor": "rgba(255,255,255,1)",
          "buttons": [
           {
            "args": [
             {
              "shapes": []
             }
            ],
            "label": "None",
            "method": "relayout"
           },
           {
            "args": [
             {
              "shapes": [
               {
                "layer": "above",
                "line": {
                 "color": "blue",
                 "width": 4
                },
                "type": "rect",
                "x0": -0.5,
                "x1": 6.5,
                "y0": -0.5,
                "y1": 6.5
               }
              ]
             }
            ],
            "label": "numeric-numeric",
            "method": "relayout"
           },
           {
            "args": [
             {
              "shapes": [
               {
                "layer": "above",
                "line": {
                 "color": "blue",
                 "width": 4
                },
                "type": "rect",
                "x0": -0.5,
                "x1": 6.5,
                "y0": 6.5,
                "y1": 15.5
               }
              ]
             }
            ],
            "label": "categorical-numeric",
            "method": "relayout"
           },
           {
            "args": [
             {
              "shapes": [
               {
                "layer": "above",
                "line": {
                 "color": "blue",
                 "width": 4
                },
                "type": "rect",
                "x0": 6.5,
                "x1": 15.5,
                "y0": -0.5,
                "y1": 6.5
               }
              ]
             }
            ],
            "label": "numeric-categorical",
            "method": "relayout"
           },
           {
            "args": [
             {
              "shapes": [
               {
                "layer": "above",
                "line": {
                 "color": "blue",
                 "width": 4
                },
                "type": "rect",
                "x0": 6.5,
                "x1": 15.5,
                "y0": 6.5,
                "y1": 15.5
               }
              ]
             }
            ],
            "label": "categorical-categorical",
            "method": "relayout"
           }
          ],
          "direction": "down",
          "pad": {
           "l": -60,
           "r": 0,
           "t": -50
          },
          "type": "dropdown",
          "x": 0.1,
          "xanchor": "left",
          "y": 1,
          "yanchor": "top"
         },
         {
          "active": 0,
          "bgcolor": "rgba(255,255,255,1)",
          "buttons": [
           {
            "args": [
             {
              "annotations": [
               {
                "font": {
                 "color": "#FFFFFF"
                },
                "showarrow": false,
                "text": "1.0",
                "x": 0,
                "xref": "x",
                "y": 0,
                "yref": "y"
               },
               {
                "font": {
                 "color": "#000000"
                },
                "showarrow": false,
                "text": "0.1",
                "x": 1,
                "xref": "x",
                "y": 0,
                "yref": "y"
               },
               {
                "font": {
                 "color": "#000000"
                },
                "showarrow": false,
                "text": "0.01",
                "x": 2,
                "xref": "x",
                "y": 0,
                "yref": "y"
               },
               {
                "font": {
                 "color": "#000000"
                },
                "showarrow": false,
                "text": "0.0",
                "x": 3,
                "xref": "x",
                "y": 0,
                "yref": "y"
               },
               {
                "font": {
                 "color": "#000000"
                },
                "showarrow": false,
                "text": "0.0",
                "x": 4,
                "xref": "x",
                "y": 0,
                "yref": "y"
               },
               {
                "font": {
                 "color": "#000000"
                },
                "showarrow": false,
                "text": "0.02",
                "x": 5,
                "xref": "x",
                "y": 0,
                "yref": "y"
               },
               {
                "font": {
                 "color": "#000000"
                },
                "showarrow": false,
                "text": "0.0",
                "x": 6,
                "xref": "x",
                "y": 0,
                "yref": "y"
               },
               {
                "font": {
                 "color": "#FFFFFF"
                },
                "showarrow": false,
                "text": "0.5",
                "x": 7,
                "xref": "x",
                "y": 0,
                "yref": "y"
               },
               {
                "font": {
                 "color": "#000000"
                },
                "showarrow": false,
                "text": "0.43",
                "x": 8,
                "xref": "x",
                "y": 0,
                "yref": "y"
               },
               {
                "font": {
                 "color": "#000000"
                },
                "showarrow": false,
                "text": "0.22",
                "x": 9,
                "xref": "x",
                "y": 0,
                "yref": "y"
               },
               {
                "font": {
                 "color": "#000000"
                },
                "showarrow": false,
                "text": "0.02",
                "x": 10,
                "xref": "x",
                "y": 0,
                "yref": "y"
               },
               {
                "font": {
                 "color": "#000000"
                },
                "showarrow": false,
                "text": "0.19",
                "x": 11,
                "xref": "x",
                "y": 0,
                "yref": "y"
               },
               {
                "font": {
                 "color": "#000000"
                },
                "showarrow": false,
                "text": "0.02",
                "x": 12,
                "xref": "x",
                "y": 0,
                "yref": "y"
               },
               {
                "font": {
                 "color": "#000000"
                },
                "showarrow": false,
                "text": "0.17",
                "x": 13,
                "xref": "x",
                "y": 0,
                "yref": "y"
               },
               {
                "font": {
                 "color": "#000000"
                },
                "showarrow": false,
                "text": "0.16",
                "x": 14,
                "xref": "x",
                "y": 0,
                "yref": "y"
               },
               {
                "font": {
                 "color": "#000000"
                },
                "showarrow": false,
                "text": "0.04",
                "x": 15,
                "xref": "x",
                "y": 0,
                "yref": "y"
               },
               {
                "font": {
                 "color": "#000000"
                },
                "showarrow": false,
                "text": "0.1",
                "x": 0,
                "xref": "x",
                "y": 1,
                "yref": "y"
               },
               {
                "font": {
                 "color": "#FFFFFF"
                },
                "showarrow": false,
                "text": "1.0",
                "x": 1,
                "xref": "x",
                "y": 1,
                "yref": "y"
               },
               {
                "font": {
                 "color": "#000000"
                },
                "showarrow": false,
                "text": "0.0",
                "x": 2,
                "xref": "x",
                "y": 1,
                "yref": "y"
               },
               {
                "font": {
                 "color": "#000000"
                },
                "showarrow": false,
                "text": "0.02",
                "x": 3,
                "xref": "x",
                "y": 1,
                "yref": "y"
               },
               {
                "font": {
                 "color": "#000000"
                },
                "showarrow": false,
                "text": "0.01",
                "x": 4,
                "xref": "x",
                "y": 1,
                "yref": "y"
               },
               {
                "font": {
                 "color": "#000000"
                },
                "showarrow": false,
                "text": "0.0",
                "x": 5,
                "xref": "x",
                "y": 1,
                "yref": "y"
               },
               {
                "font": {
                 "color": "#000000"
                },
                "showarrow": false,
                "text": "0.02",
                "x": 6,
                "xref": "x",
                "y": 1,
                "yref": "y"
               },
               {
                "font": {
                 "color": "#000000"
                },
                "showarrow": false,
                "text": "0.1",
                "x": 7,
                "xref": "x",
                "y": 1,
                "yref": "y"
               },
               {
                "font": {
                 "color": "#000000"
                },
                "showarrow": false,
                "text": "0.03",
                "x": 8,
                "xref": "x",
                "y": 1,
                "yref": "y"
               },
               {
                "font": {
                 "color": "#000000"
                },
                "showarrow": false,
                "text": "0.09",
                "x": 9,
                "xref": "x",
                "y": 1,
                "yref": "y"
               },
               {
                "font": {
                 "color": "#000000"
                },
                "showarrow": false,
                "text": "0.07",
                "x": 10,
                "xref": "x",
                "y": 1,
                "yref": "y"
               },
               {
                "font": {
                 "color": "#000000"
                },
                "showarrow": false,
                "text": "0.07",
                "x": 11,
                "xref": "x",
                "y": 1,
                "yref": "y"
               },
               {
                "font": {
                 "color": "#000000"
                },
                "showarrow": false,
                "text": "0.08",
                "x": 12,
                "xref": "x",
                "y": 1,
                "yref": "y"
               },
               {
                "font": {
                 "color": "#000000"
                },
                "showarrow": false,
                "text": "0.05",
                "x": 13,
                "xref": "x",
                "y": 1,
                "yref": "y"
               },
               {
                "font": {
                 "color": "#000000"
                },
                "showarrow": false,
                "text": "0.16",
                "x": 14,
                "xref": "x",
                "y": 1,
                "yref": "y"
               },
               {
                "font": {
                 "color": "#000000"
                },
                "showarrow": false,
                "text": "0.04",
                "x": 15,
                "xref": "x",
                "y": 1,
                "yref": "y"
               },
               {
                "font": {
                 "color": "#000000"
                },
                "showarrow": false,
                "text": "0.01",
                "x": 0,
                "xref": "x",
                "y": 2,
                "yref": "y"
               },
               {
                "font": {
                 "color": "#000000"
                },
                "showarrow": false,
                "text": "0.0",
                "x": 1,
                "xref": "x",
                "y": 2,
                "yref": "y"
               },
               {
                "font": {
                 "color": "#FFFFFF"
                },
                "showarrow": false,
                "text": "1.0",
                "x": 2,
                "xref": "x",
                "y": 2,
                "yref": "y"
               },
               {
                "font": {
                 "color": "#000000"
                },
                "showarrow": false,
                "text": "0.03",
                "x": 3,
                "xref": "x",
                "y": 2,
                "yref": "y"
               },
               {
                "font": {
                 "color": "#000000"
                },
                "showarrow": false,
                "text": "0.16",
                "x": 4,
                "xref": "x",
                "y": 2,
                "yref": "y"
               },
               {
                "font": {
                 "color": "#000000"
                },
                "showarrow": false,
                "text": "0.09",
                "x": 5,
                "xref": "x",
                "y": 2,
                "yref": "y"
               },
               {
                "font": {
                 "color": "#000000"
                },
                "showarrow": false,
                "text": "0.05",
                "x": 6,
                "xref": "x",
                "y": 2,
                "yref": "y"
               },
               {
                "font": {
                 "color": "#000000"
                },
                "showarrow": false,
                "text": "0.05",
                "x": 7,
                "xref": "x",
                "y": 2,
                "yref": "y"
               },
               {
                "font": {
                 "color": "#000000"
                },
                "showarrow": false,
                "text": "0.01",
                "x": 8,
                "xref": "x",
                "y": 2,
                "yref": "y"
               },
               {
                "font": {
                 "color": "#000000"
                },
                "showarrow": false,
                "text": "0.03",
                "x": 9,
                "xref": "x",
                "y": 2,
                "yref": "y"
               },
               {
                "font": {
                 "color": "#000000"
                },
                "showarrow": false,
                "text": "0.01",
                "x": 10,
                "xref": "x",
                "y": 2,
                "yref": "y"
               },
               {
                "font": {
                 "color": "#000000"
                },
                "showarrow": false,
                "text": "0.03",
                "x": 11,
                "xref": "x",
                "y": 2,
                "yref": "y"
               },
               {
                "font": {
                 "color": "#000000"
                },
                "showarrow": false,
                "text": "0.01",
                "x": 12,
                "xref": "x",
                "y": 2,
                "yref": "y"
               },
               {
                "font": {
                 "color": "#000000"
                },
                "showarrow": false,
                "text": "0.04",
                "x": 13,
                "xref": "x",
                "y": 2,
                "yref": "y"
               },
               {
                "font": {
                 "color": "#000000"
                },
                "showarrow": false,
                "text": "0.45",
                "x": 14,
                "xref": "x",
                "y": 2,
                "yref": "y"
               },
               {
                "font": {
                 "color": "#000000"
                },
                "showarrow": false,
                "text": "0.09",
                "x": 15,
                "xref": "x",
                "y": 2,
                "yref": "y"
               },
               {
                "font": {
                 "color": "#000000"
                },
                "showarrow": false,
                "text": "0.0",
                "x": 0,
                "xref": "x",
                "y": 3,
                "yref": "y"
               },
               {
                "font": {
                 "color": "#000000"
                },
                "showarrow": false,
                "text": "0.02",
                "x": 1,
                "xref": "x",
                "y": 3,
                "yref": "y"
               },
               {
                "font": {
                 "color": "#000000"
                },
                "showarrow": false,
                "text": "0.03",
                "x": 2,
                "xref": "x",
                "y": 3,
                "yref": "y"
               },
               {
                "font": {
                 "color": "#FFFFFF"
                },
                "showarrow": false,
                "text": "1.0",
                "x": 3,
                "xref": "x",
                "y": 3,
                "yref": "y"
               },
               {
                "font": {
                 "color": "#000000"
                },
                "showarrow": false,
                "text": "0.08",
                "x": 4,
                "xref": "x",
                "y": 3,
                "yref": "y"
               },
               {
                "font": {
                 "color": "#000000"
                },
                "showarrow": false,
                "text": "0.0",
                "x": 5,
                "xref": "x",
                "y": 3,
                "yref": "y"
               },
               {
                "font": {
                 "color": "#000000"
                },
                "showarrow": false,
                "text": "0.0",
                "x": 6,
                "xref": "x",
                "y": 3,
                "yref": "y"
               },
               {
                "font": {
                 "color": "#000000"
                },
                "showarrow": false,
                "text": "0.04",
                "x": 7,
                "xref": "x",
                "y": 3,
                "yref": "y"
               },
               {
                "font": {
                 "color": "#000000"
                },
                "showarrow": false,
                "text": "0.02",
                "x": 8,
                "xref": "x",
                "y": 3,
                "yref": "y"
               },
               {
                "font": {
                 "color": "#000000"
                },
                "showarrow": false,
                "text": "0.0",
                "x": 9,
                "xref": "x",
                "y": 3,
                "yref": "y"
               },
               {
                "font": {
                 "color": "#000000"
                },
                "showarrow": false,
                "text": "0.01",
                "x": 10,
                "xref": "x",
                "y": 3,
                "yref": "y"
               },
               {
                "font": {
                 "color": "#000000"
                },
                "showarrow": false,
                "text": "0.01",
                "x": 11,
                "xref": "x",
                "y": 3,
                "yref": "y"
               },
               {
                "font": {
                 "color": "#000000"
                },
                "showarrow": false,
                "text": "0.01",
                "x": 12,
                "xref": "x",
                "y": 3,
                "yref": "y"
               },
               {
                "font": {
                 "color": "#000000"
                },
                "showarrow": false,
                "text": "0.03",
                "x": 13,
                "xref": "x",
                "y": 3,
                "yref": "y"
               },
               {
                "font": {
                 "color": "#000000"
                },
                "showarrow": false,
                "text": "0.07",
                "x": 14,
                "xref": "x",
                "y": 3,
                "yref": "y"
               },
               {
                "font": {
                 "color": "#000000"
                },
                "showarrow": false,
                "text": "0.05",
                "x": 15,
                "xref": "x",
                "y": 3,
                "yref": "y"
               },
               {
                "font": {
                 "color": "#000000"
                },
                "showarrow": false,
                "text": "0.0",
                "x": 0,
                "xref": "x",
                "y": 4,
                "yref": "y"
               },
               {
                "font": {
                 "color": "#000000"
                },
                "showarrow": false,
                "text": "0.01",
                "x": 1,
                "xref": "x",
                "y": 4,
                "yref": "y"
               },
               {
                "font": {
                 "color": "#000000"
                },
                "showarrow": false,
                "text": "0.16",
                "x": 2,
                "xref": "x",
                "y": 4,
                "yref": "y"
               },
               {
                "font": {
                 "color": "#000000"
                },
                "showarrow": false,
                "text": "0.08",
                "x": 3,
                "xref": "x",
                "y": 4,
                "yref": "y"
               },
               {
                "font": {
                 "color": "#FFFFFF"
                },
                "showarrow": false,
                "text": "1.0",
                "x": 4,
                "xref": "x",
                "y": 4,
                "yref": "y"
               },
               {
                "font": {
                 "color": "#000000"
                },
                "showarrow": false,
                "text": "0.09",
                "x": 5,
                "xref": "x",
                "y": 4,
                "yref": "y"
               },
               {
                "font": {
                 "color": "#000000"
                },
                "showarrow": false,
                "text": "0.03",
                "x": 6,
                "xref": "x",
                "y": 4,
                "yref": "y"
               },
               {
                "font": {
                 "color": "#000000"
                },
                "showarrow": false,
                "text": "0.06",
                "x": 7,
                "xref": "x",
                "y": 4,
                "yref": "y"
               },
               {
                "font": {
                 "color": "#000000"
                },
                "showarrow": false,
                "text": "0.03",
                "x": 8,
                "xref": "x",
                "y": 4,
                "yref": "y"
               },
               {
                "font": {
                 "color": "#000000"
                },
                "showarrow": false,
                "text": "0.02",
                "x": 9,
                "xref": "x",
                "y": 4,
                "yref": "y"
               },
               {
                "font": {
                 "color": "#000000"
                },
                "showarrow": false,
                "text": "0.02",
                "x": 10,
                "xref": "x",
                "y": 4,
                "yref": "y"
               },
               {
                "font": {
                 "color": "#000000"
                },
                "showarrow": false,
                "text": "0.02",
                "x": 11,
                "xref": "x",
                "y": 4,
                "yref": "y"
               },
               {
                "font": {
                 "color": "#000000"
                },
                "showarrow": false,
                "text": "0.01",
                "x": 12,
                "xref": "x",
                "y": 4,
                "yref": "y"
               },
               {
                "font": {
                 "color": "#000000"
                },
                "showarrow": false,
                "text": "0.06",
                "x": 13,
                "xref": "x",
                "y": 4,
                "yref": "y"
               },
               {
                "font": {
                 "color": "#000000"
                },
                "showarrow": false,
                "text": "0.23",
                "x": 14,
                "xref": "x",
                "y": 4,
                "yref": "y"
               },
               {
                "font": {
                 "color": "#000000"
                },
                "showarrow": false,
                "text": "0.11",
                "x": 15,
                "xref": "x",
                "y": 4,
                "yref": "y"
               },
               {
                "font": {
                 "color": "#000000"
                },
                "showarrow": false,
                "text": "0.02",
                "x": 0,
                "xref": "x",
                "y": 5,
                "yref": "y"
               },
               {
                "font": {
                 "color": "#000000"
                },
                "showarrow": false,
                "text": "0.0",
                "x": 1,
                "xref": "x",
                "y": 5,
                "yref": "y"
               },
               {
                "font": {
                 "color": "#000000"
                },
                "showarrow": false,
                "text": "0.09",
                "x": 2,
                "xref": "x",
                "y": 5,
                "yref": "y"
               },
               {
                "font": {
                 "color": "#000000"
                },
                "showarrow": false,
                "text": "0.0",
                "x": 3,
                "xref": "x",
                "y": 5,
                "yref": "y"
               },
               {
                "font": {
                 "color": "#000000"
                },
                "showarrow": false,
                "text": "0.09",
                "x": 4,
                "xref": "x",
                "y": 5,
                "yref": "y"
               },
               {
                "font": {
                 "color": "#FFFFFF"
                },
                "showarrow": false,
                "text": "1.0",
                "x": 5,
                "xref": "x",
                "y": 5,
                "yref": "y"
               },
               {
                "font": {
                 "color": "#000000"
                },
                "showarrow": false,
                "text": "0.45",
                "x": 6,
                "xref": "x",
                "y": 5,
                "yref": "y"
               },
               {
                "font": {
                 "color": "#000000"
                },
                "showarrow": false,
                "text": "0.06",
                "x": 7,
                "xref": "x",
                "y": 5,
                "yref": "y"
               },
               {
                "font": {
                 "color": "#000000"
                },
                "showarrow": false,
                "text": "0.03",
                "x": 8,
                "xref": "x",
                "y": 5,
                "yref": "y"
               },
               {
                "font": {
                 "color": "#000000"
                },
                "showarrow": false,
                "text": "0.02",
                "x": 9,
                "xref": "x",
                "y": 5,
                "yref": "y"
               },
               {
                "font": {
                 "color": "#000000"
                },
                "showarrow": false,
                "text": "0.03",
                "x": 10,
                "xref": "x",
                "y": 5,
                "yref": "y"
               },
               {
                "font": {
                 "color": "#000000"
                },
                "showarrow": false,
                "text": "0.12",
                "x": 11,
                "xref": "x",
                "y": 5,
                "yref": "y"
               },
               {
                "font": {
                 "color": "#000000"
                },
                "showarrow": false,
                "text": "0.02",
                "x": 12,
                "xref": "x",
                "y": 5,
                "yref": "y"
               },
               {
                "font": {
                 "color": "#000000"
                },
                "showarrow": false,
                "text": "0.25",
                "x": 13,
                "xref": "x",
                "y": 5,
                "yref": "y"
               },
               {
                "font": {
                 "color": "#000000"
                },
                "showarrow": false,
                "text": "0.29",
                "x": 14,
                "xref": "x",
                "y": 5,
                "yref": "y"
               },
               {
                "font": {
                 "color": "#FFFFFF"
                },
                "showarrow": false,
                "text": "0.88",
                "x": 15,
                "xref": "x",
                "y": 5,
                "yref": "y"
               },
               {
                "font": {
                 "color": "#000000"
                },
                "showarrow": false,
                "text": "0.0",
                "x": 0,
                "xref": "x",
                "y": 6,
                "yref": "y"
               },
               {
                "font": {
                 "color": "#000000"
                },
                "showarrow": false,
                "text": "0.02",
                "x": 1,
                "xref": "x",
                "y": 6,
                "yref": "y"
               },
               {
                "font": {
                 "color": "#000000"
                },
                "showarrow": false,
                "text": "0.05",
                "x": 2,
                "xref": "x",
                "y": 6,
                "yref": "y"
               },
               {
                "font": {
                 "color": "#000000"
                },
                "showarrow": false,
                "text": "0.0",
                "x": 3,
                "xref": "x",
                "y": 6,
                "yref": "y"
               },
               {
                "font": {
                 "color": "#000000"
                },
                "showarrow": false,
                "text": "0.03",
                "x": 4,
                "xref": "x",
                "y": 6,
                "yref": "y"
               },
               {
                "font": {
                 "color": "#000000"
                },
                "showarrow": false,
                "text": "0.45",
                "x": 5,
                "xref": "x",
                "y": 6,
                "yref": "y"
               },
               {
                "font": {
                 "color": "#FFFFFF"
                },
                "showarrow": false,
                "text": "1.0",
                "x": 6,
                "xref": "x",
                "y": 6,
                "yref": "y"
               },
               {
                "font": {
                 "color": "#000000"
                },
                "showarrow": false,
                "text": "0.04",
                "x": 7,
                "xref": "x",
                "y": 6,
                "yref": "y"
               },
               {
                "font": {
                 "color": "#000000"
                },
                "showarrow": false,
                "text": "0.02",
                "x": 8,
                "xref": "x",
                "y": 6,
                "yref": "y"
               },
               {
                "font": {
                 "color": "#000000"
                },
                "showarrow": false,
                "text": "0.03",
                "x": 9,
                "xref": "x",
                "y": 6,
                "yref": "y"
               },
               {
                "font": {
                 "color": "#000000"
                },
                "showarrow": false,
                "text": "0.02",
                "x": 10,
                "xref": "x",
                "y": 6,
                "yref": "y"
               },
               {
                "font": {
                 "color": "#000000"
                },
                "showarrow": false,
                "text": "0.04",
                "x": 11,
                "xref": "x",
                "y": 6,
                "yref": "y"
               },
               {
                "font": {
                 "color": "#000000"
                },
                "showarrow": false,
                "text": "0.01",
                "x": 12,
                "xref": "x",
                "y": 6,
                "yref": "y"
               },
               {
                "font": {
                 "color": "#000000"
                },
                "showarrow": false,
                "text": "0.15",
                "x": 13,
                "xref": "x",
                "y": 6,
                "yref": "y"
               },
               {
                "font": {
                 "color": "#000000"
                },
                "showarrow": false,
                "text": "0.18",
                "x": 14,
                "xref": "x",
                "y": 6,
                "yref": "y"
               },
               {
                "font": {
                 "color": "#FFFFFF"
                },
                "showarrow": false,
                "text": "0.54",
                "x": 15,
                "xref": "x",
                "y": 6,
                "yref": "y"
               },
               {
                "font": {
                 "color": "#FFFFFF"
                },
                "showarrow": false,
                "text": "0.5",
                "x": 0,
                "xref": "x",
                "y": 7,
                "yref": "y"
               },
               {
                "font": {
                 "color": "#000000"
                },
                "showarrow": false,
                "text": "0.1",
                "x": 1,
                "xref": "x",
                "y": 7,
                "yref": "y"
               },
               {
                "font": {
                 "color": "#000000"
                },
                "showarrow": false,
                "text": "0.05",
                "x": 2,
                "xref": "x",
                "y": 7,
                "yref": "y"
               },
               {
                "font": {
                 "color": "#000000"
                },
                "showarrow": false,
                "text": "0.04",
                "x": 3,
                "xref": "x",
                "y": 7,
                "yref": "y"
               },
               {
                "font": {
                 "color": "#000000"
                },
                "showarrow": false,
                "text": "0.06",
                "x": 4,
                "xref": "x",
                "y": 7,
                "yref": "y"
               },
               {
                "font": {
                 "color": "#000000"
                },
                "showarrow": false,
                "text": "0.06",
                "x": 5,
                "xref": "x",
                "y": 7,
                "yref": "y"
               },
               {
                "font": {
                 "color": "#000000"
                },
                "showarrow": false,
                "text": "0.04",
                "x": 6,
                "xref": "x",
                "y": 7,
                "yref": "y"
               },
               {
                "font": {
                 "color": "#FFFFFF"
                },
                "showarrow": false,
                "text": "1.0",
                "x": 7,
                "xref": "x",
                "y": 7,
                "yref": "y"
               },
               {
                "font": {
                 "color": "#000000"
                },
                "showarrow": false,
                "text": "0.21",
                "x": 8,
                "xref": "x",
                "y": 7,
                "yref": "y"
               },
               {
                "font": {
                 "color": "#000000"
                },
                "showarrow": false,
                "text": "0.46",
                "x": 9,
                "xref": "x",
                "y": 7,
                "yref": "y"
               },
               {
                "font": {
                 "color": "#000000"
                },
                "showarrow": false,
                "text": "0.04",
                "x": 10,
                "xref": "x",
                "y": 7,
                "yref": "y"
               },
               {
                "font": {
                 "color": "#000000"
                },
                "showarrow": false,
                "text": "0.28",
                "x": 11,
                "xref": "x",
                "y": 7,
                "yref": "y"
               },
               {
                "font": {
                 "color": "#000000"
                },
                "showarrow": false,
                "text": "0.11",
                "x": 12,
                "xref": "x",
                "y": 7,
                "yref": "y"
               },
               {
                "font": {
                 "color": "#000000"
                },
                "showarrow": false,
                "text": "0.15",
                "x": 13,
                "xref": "x",
                "y": 7,
                "yref": "y"
               },
               {
                "font": {
                 "color": "#000000"
                },
                "showarrow": false,
                "text": "0.11",
                "x": 14,
                "xref": "x",
                "y": 7,
                "yref": "y"
               },
               {
                "font": {
                 "color": "#000000"
                },
                "showarrow": false,
                "text": "0.06",
                "x": 15,
                "xref": "x",
                "y": 7,
                "yref": "y"
               },
               {
                "font": {
                 "color": "#000000"
                },
                "showarrow": false,
                "text": "0.43",
                "x": 0,
                "xref": "x",
                "y": 8,
                "yref": "y"
               },
               {
                "font": {
                 "color": "#000000"
                },
                "showarrow": false,
                "text": "0.03",
                "x": 1,
                "xref": "x",
                "y": 8,
                "yref": "y"
               },
               {
                "font": {
                 "color": "#000000"
                },
                "showarrow": false,
                "text": "0.01",
                "x": 2,
                "xref": "x",
                "y": 8,
                "yref": "y"
               },
               {
                "font": {
                 "color": "#000000"
                },
                "showarrow": false,
                "text": "0.02",
                "x": 3,
                "xref": "x",
                "y": 8,
                "yref": "y"
               },
               {
                "font": {
                 "color": "#000000"
                },
                "showarrow": false,
                "text": "0.03",
                "x": 4,
                "xref": "x",
                "y": 8,
                "yref": "y"
               },
               {
                "font": {
                 "color": "#000000"
                },
                "showarrow": false,
                "text": "0.03",
                "x": 5,
                "xref": "x",
                "y": 8,
                "yref": "y"
               },
               {
                "font": {
                 "color": "#000000"
                },
                "showarrow": false,
                "text": "0.02",
                "x": 6,
                "xref": "x",
                "y": 8,
                "yref": "y"
               },
               {
                "font": {
                 "color": "#000000"
                },
                "showarrow": false,
                "text": "0.21",
                "x": 7,
                "xref": "x",
                "y": 8,
                "yref": "y"
               },
               {
                "font": {
                 "color": "#FFFFFF"
                },
                "showarrow": false,
                "text": "1.0",
                "x": 8,
                "xref": "x",
                "y": 8,
                "yref": "y"
               },
               {
                "font": {
                 "color": "#000000"
                },
                "showarrow": false,
                "text": "0.12",
                "x": 9,
                "xref": "x",
                "y": 8,
                "yref": "y"
               },
               {
                "font": {
                 "color": "#000000"
                },
                "showarrow": false,
                "text": "0.02",
                "x": 10,
                "xref": "x",
                "y": 8,
                "yref": "y"
               },
               {
                "font": {
                 "color": "#000000"
                },
                "showarrow": false,
                "text": "0.02",
                "x": 11,
                "xref": "x",
                "y": 8,
                "yref": "y"
               },
               {
                "font": {
                 "color": "#000000"
                },
                "showarrow": false,
                "text": "0.05",
                "x": 12,
                "xref": "x",
                "y": 8,
                "yref": "y"
               },
               {
                "font": {
                 "color": "#000000"
                },
                "showarrow": false,
                "text": "0.05",
                "x": 13,
                "xref": "x",
                "y": 8,
                "yref": "y"
               },
               {
                "font": {
                 "color": "#000000"
                },
                "showarrow": false,
                "text": "0.07",
                "x": 14,
                "xref": "x",
                "y": 8,
                "yref": "y"
               },
               {
                "font": {
                 "color": "#000000"
                },
                "showarrow": false,
                "text": "0.03",
                "x": 15,
                "xref": "x",
                "y": 8,
                "yref": "y"
               },
               {
                "font": {
                 "color": "#000000"
                },
                "showarrow": false,
                "text": "0.22",
                "x": 0,
                "xref": "x",
                "y": 9,
                "yref": "y"
               },
               {
                "font": {
                 "color": "#000000"
                },
                "showarrow": false,
                "text": "0.09",
                "x": 1,
                "xref": "x",
                "y": 9,
                "yref": "y"
               },
               {
                "font": {
                 "color": "#000000"
                },
                "showarrow": false,
                "text": "0.03",
                "x": 2,
                "xref": "x",
                "y": 9,
                "yref": "y"
               },
               {
                "font": {
                 "color": "#000000"
                },
                "showarrow": false,
                "text": "0.0",
                "x": 3,
                "xref": "x",
                "y": 9,
                "yref": "y"
               },
               {
                "font": {
                 "color": "#000000"
                },
                "showarrow": false,
                "text": "0.02",
                "x": 4,
                "xref": "x",
                "y": 9,
                "yref": "y"
               },
               {
                "font": {
                 "color": "#000000"
                },
                "showarrow": false,
                "text": "0.02",
                "x": 5,
                "xref": "x",
                "y": 9,
                "yref": "y"
               },
               {
                "font": {
                 "color": "#000000"
                },
                "showarrow": false,
                "text": "0.03",
                "x": 6,
                "xref": "x",
                "y": 9,
                "yref": "y"
               },
               {
                "font": {
                 "color": "#000000"
                },
                "showarrow": false,
                "text": "0.46",
                "x": 7,
                "xref": "x",
                "y": 9,
                "yref": "y"
               },
               {
                "font": {
                 "color": "#000000"
                },
                "showarrow": false,
                "text": "0.12",
                "x": 8,
                "xref": "x",
                "y": 9,
                "yref": "y"
               },
               {
                "font": {
                 "color": "#FFFFFF"
                },
                "showarrow": false,
                "text": "1.0",
                "x": 9,
                "xref": "x",
                "y": 9,
                "yref": "y"
               },
               {
                "font": {
                 "color": "#000000"
                },
                "showarrow": false,
                "text": "0.02",
                "x": 10,
                "xref": "x",
                "y": 9,
                "yref": "y"
               },
               {
                "font": {
                 "color": "#000000"
                },
                "showarrow": false,
                "text": "0.12",
                "x": 11,
                "xref": "x",
                "y": 9,
                "yref": "y"
               },
               {
                "font": {
                 "color": "#000000"
                },
                "showarrow": false,
                "text": "0.08",
                "x": 12,
                "xref": "x",
                "y": 9,
                "yref": "y"
               },
               {
                "font": {
                 "color": "#000000"
                },
                "showarrow": false,
                "text": "0.12",
                "x": 13,
                "xref": "x",
                "y": 9,
                "yref": "y"
               },
               {
                "font": {
                 "color": "#000000"
                },
                "showarrow": false,
                "text": "0.11",
                "x": 14,
                "xref": "x",
                "y": 9,
                "yref": "y"
               },
               {
                "font": {
                 "color": "#000000"
                },
                "showarrow": false,
                "text": "0.04",
                "x": 15,
                "xref": "x",
                "y": 9,
                "yref": "y"
               },
               {
                "font": {
                 "color": "#000000"
                },
                "showarrow": false,
                "text": "0.02",
                "x": 0,
                "xref": "x",
                "y": 10,
                "yref": "y"
               },
               {
                "font": {
                 "color": "#000000"
                },
                "showarrow": false,
                "text": "0.07",
                "x": 1,
                "xref": "x",
                "y": 10,
                "yref": "y"
               },
               {
                "font": {
                 "color": "#000000"
                },
                "showarrow": false,
                "text": "0.01",
                "x": 2,
                "xref": "x",
                "y": 10,
                "yref": "y"
               },
               {
                "font": {
                 "color": "#000000"
                },
                "showarrow": false,
                "text": "0.01",
                "x": 3,
                "xref": "x",
                "y": 10,
                "yref": "y"
               },
               {
                "font": {
                 "color": "#000000"
                },
                "showarrow": false,
                "text": "0.02",
                "x": 4,
                "xref": "x",
                "y": 10,
                "yref": "y"
               },
               {
                "font": {
                 "color": "#000000"
                },
                "showarrow": false,
                "text": "0.03",
                "x": 5,
                "xref": "x",
                "y": 10,
                "yref": "y"
               },
               {
                "font": {
                 "color": "#000000"
                },
                "showarrow": false,
                "text": "0.02",
                "x": 6,
                "xref": "x",
                "y": 10,
                "yref": "y"
               },
               {
                "font": {
                 "color": "#000000"
                },
                "showarrow": false,
                "text": "0.04",
                "x": 7,
                "xref": "x",
                "y": 10,
                "yref": "y"
               },
               {
                "font": {
                 "color": "#000000"
                },
                "showarrow": false,
                "text": "0.02",
                "x": 8,
                "xref": "x",
                "y": 10,
                "yref": "y"
               },
               {
                "font": {
                 "color": "#000000"
                },
                "showarrow": false,
                "text": "0.02",
                "x": 9,
                "xref": "x",
                "y": 10,
                "yref": "y"
               },
               {
                "font": {
                 "color": "#FFFFFF"
                },
                "showarrow": false,
                "text": "1.0",
                "x": 10,
                "xref": "x",
                "y": 10,
                "yref": "y"
               },
               {
                "font": {
                 "color": "#000000"
                },
                "showarrow": false,
                "text": "0.01",
                "x": 11,
                "xref": "x",
                "y": 10,
                "yref": "y"
               },
               {
                "font": {
                 "color": "#000000"
                },
                "showarrow": false,
                "text": "0.08",
                "x": 12,
                "xref": "x",
                "y": 10,
                "yref": "y"
               },
               {
                "font": {
                 "color": "#000000"
                },
                "showarrow": false,
                "text": "0.02",
                "x": 13,
                "xref": "x",
                "y": 10,
                "yref": "y"
               },
               {
                "font": {
                 "color": "#000000"
                },
                "showarrow": false,
                "text": "0.06",
                "x": 14,
                "xref": "x",
                "y": 10,
                "yref": "y"
               },
               {
                "font": {
                 "color": "#000000"
                },
                "showarrow": false,
                "text": "0.04",
                "x": 15,
                "xref": "x",
                "y": 10,
                "yref": "y"
               },
               {
                "font": {
                 "color": "#000000"
                },
                "showarrow": false,
                "text": "0.19",
                "x": 0,
                "xref": "x",
                "y": 11,
                "yref": "y"
               },
               {
                "font": {
                 "color": "#000000"
                },
                "showarrow": false,
                "text": "0.07",
                "x": 1,
                "xref": "x",
                "y": 11,
                "yref": "y"
               },
               {
                "font": {
                 "color": "#000000"
                },
                "showarrow": false,
                "text": "0.03",
                "x": 2,
                "xref": "x",
                "y": 11,
                "yref": "y"
               },
               {
                "font": {
                 "color": "#000000"
                },
                "showarrow": false,
                "text": "0.01",
                "x": 3,
                "xref": "x",
                "y": 11,
                "yref": "y"
               },
               {
                "font": {
                 "color": "#000000"
                },
                "showarrow": false,
                "text": "0.02",
                "x": 4,
                "xref": "x",
                "y": 11,
                "yref": "y"
               },
               {
                "font": {
                 "color": "#000000"
                },
                "showarrow": false,
                "text": "0.12",
                "x": 5,
                "xref": "x",
                "y": 11,
                "yref": "y"
               },
               {
                "font": {
                 "color": "#000000"
                },
                "showarrow": false,
                "text": "0.04",
                "x": 6,
                "xref": "x",
                "y": 11,
                "yref": "y"
               },
               {
                "font": {
                 "color": "#000000"
                },
                "showarrow": false,
                "text": "0.28",
                "x": 7,
                "xref": "x",
                "y": 11,
                "yref": "y"
               },
               {
                "font": {
                 "color": "#000000"
                },
                "showarrow": false,
                "text": "0.02",
                "x": 8,
                "xref": "x",
                "y": 11,
                "yref": "y"
               },
               {
                "font": {
                 "color": "#000000"
                },
                "showarrow": false,
                "text": "0.12",
                "x": 9,
                "xref": "x",
                "y": 11,
                "yref": "y"
               },
               {
                "font": {
                 "color": "#000000"
                },
                "showarrow": false,
                "text": "0.01",
                "x": 10,
                "xref": "x",
                "y": 11,
                "yref": "y"
               },
               {
                "font": {
                 "color": "#FFFFFF"
                },
                "showarrow": false,
                "text": "1.0",
                "x": 11,
                "xref": "x",
                "y": 11,
                "yref": "y"
               },
               {
                "font": {
                 "color": "#000000"
                },
                "showarrow": false,
                "text": "0.04",
                "x": 12,
                "xref": "x",
                "y": 11,
                "yref": "y"
               },
               {
                "font": {
                 "color": "#000000"
                },
                "showarrow": false,
                "text": "0.21",
                "x": 13,
                "xref": "x",
                "y": 11,
                "yref": "y"
               },
               {
                "font": {
                 "color": "#FFFFFF"
                },
                "showarrow": false,
                "text": "0.5",
                "x": 14,
                "xref": "x",
                "y": 11,
                "yref": "y"
               },
               {
                "font": {
                 "color": "#000000"
                },
                "showarrow": false,
                "text": "0.14",
                "x": 15,
                "xref": "x",
                "y": 11,
                "yref": "y"
               },
               {
                "font": {
                 "color": "#000000"
                },
                "showarrow": false,
                "text": "0.02",
                "x": 0,
                "xref": "x",
                "y": 12,
                "yref": "y"
               },
               {
                "font": {
                 "color": "#000000"
                },
                "showarrow": false,
                "text": "0.08",
                "x": 1,
                "xref": "x",
                "y": 12,
                "yref": "y"
               },
               {
                "font": {
                 "color": "#000000"
                },
                "showarrow": false,
                "text": "0.01",
                "x": 2,
                "xref": "x",
                "y": 12,
                "yref": "y"
               },
               {
                "font": {
                 "color": "#000000"
                },
                "showarrow": false,
                "text": "0.01",
                "x": 3,
                "xref": "x",
                "y": 12,
                "yref": "y"
               },
               {
                "font": {
                 "color": "#000000"
                },
                "showarrow": false,
                "text": "0.01",
                "x": 4,
                "xref": "x",
                "y": 12,
                "yref": "y"
               },
               {
                "font": {
                 "color": "#000000"
                },
                "showarrow": false,
                "text": "0.02",
                "x": 5,
                "xref": "x",
                "y": 12,
                "yref": "y"
               },
               {
                "font": {
                 "color": "#000000"
                },
                "showarrow": false,
                "text": "0.01",
                "x": 6,
                "xref": "x",
                "y": 12,
                "yref": "y"
               },
               {
                "font": {
                 "color": "#000000"
                },
                "showarrow": false,
                "text": "0.11",
                "x": 7,
                "xref": "x",
                "y": 12,
                "yref": "y"
               },
               {
                "font": {
                 "color": "#000000"
                },
                "showarrow": false,
                "text": "0.05",
                "x": 8,
                "xref": "x",
                "y": 12,
                "yref": "y"
               },
               {
                "font": {
                 "color": "#000000"
                },
                "showarrow": false,
                "text": "0.08",
                "x": 9,
                "xref": "x",
                "y": 12,
                "yref": "y"
               },
               {
                "font": {
                 "color": "#000000"
                },
                "showarrow": false,
                "text": "0.08",
                "x": 10,
                "xref": "x",
                "y": 12,
                "yref": "y"
               },
               {
                "font": {
                 "color": "#000000"
                },
                "showarrow": false,
                "text": "0.04",
                "x": 11,
                "xref": "x",
                "y": 12,
                "yref": "y"
               },
               {
                "font": {
                 "color": "#FFFFFF"
                },
                "showarrow": false,
                "text": "1.0",
                "x": 12,
                "xref": "x",
                "y": 12,
                "yref": "y"
               },
               {
                "font": {
                 "color": "#000000"
                },
                "showarrow": false,
                "text": "0.02",
                "x": 13,
                "xref": "x",
                "y": 12,
                "yref": "y"
               },
               {
                "font": {
                 "color": "#000000"
                },
                "showarrow": false,
                "text": "0.18",
                "x": 14,
                "xref": "x",
                "y": 12,
                "yref": "y"
               },
               {
                "font": {
                 "color": "#000000"
                },
                "showarrow": false,
                "text": "0.06",
                "x": 15,
                "xref": "x",
                "y": 12,
                "yref": "y"
               },
               {
                "font": {
                 "color": "#000000"
                },
                "showarrow": false,
                "text": "0.17",
                "x": 0,
                "xref": "x",
                "y": 13,
                "yref": "y"
               },
               {
                "font": {
                 "color": "#000000"
                },
                "showarrow": false,
                "text": "0.05",
                "x": 1,
                "xref": "x",
                "y": 13,
                "yref": "y"
               },
               {
                "font": {
                 "color": "#000000"
                },
                "showarrow": false,
                "text": "0.04",
                "x": 2,
                "xref": "x",
                "y": 13,
                "yref": "y"
               },
               {
                "font": {
                 "color": "#000000"
                },
                "showarrow": false,
                "text": "0.03",
                "x": 3,
                "xref": "x",
                "y": 13,
                "yref": "y"
               },
               {
                "font": {
                 "color": "#000000"
                },
                "showarrow": false,
                "text": "0.06",
                "x": 4,
                "xref": "x",
                "y": 13,
                "yref": "y"
               },
               {
                "font": {
                 "color": "#000000"
                },
                "showarrow": false,
                "text": "0.25",
                "x": 5,
                "xref": "x",
                "y": 13,
                "yref": "y"
               },
               {
                "font": {
                 "color": "#000000"
                },
                "showarrow": false,
                "text": "0.15",
                "x": 6,
                "xref": "x",
                "y": 13,
                "yref": "y"
               },
               {
                "font": {
                 "color": "#000000"
                },
                "showarrow": false,
                "text": "0.15",
                "x": 7,
                "xref": "x",
                "y": 13,
                "yref": "y"
               },
               {
                "font": {
                 "color": "#000000"
                },
                "showarrow": false,
                "text": "0.05",
                "x": 8,
                "xref": "x",
                "y": 13,
                "yref": "y"
               },
               {
                "font": {
                 "color": "#000000"
                },
                "showarrow": false,
                "text": "0.12",
                "x": 9,
                "xref": "x",
                "y": 13,
                "yref": "y"
               },
               {
                "font": {
                 "color": "#000000"
                },
                "showarrow": false,
                "text": "0.02",
                "x": 10,
                "xref": "x",
                "y": 13,
                "yref": "y"
               },
               {
                "font": {
                 "color": "#000000"
                },
                "showarrow": false,
                "text": "0.21",
                "x": 11,
                "xref": "x",
                "y": 13,
                "yref": "y"
               },
               {
                "font": {
                 "color": "#000000"
                },
                "showarrow": false,
                "text": "0.02",
                "x": 12,
                "xref": "x",
                "y": 13,
                "yref": "y"
               },
               {
                "font": {
                 "color": "#FFFFFF"
                },
                "showarrow": false,
                "text": "1.0",
                "x": 13,
                "xref": "x",
                "y": 13,
                "yref": "y"
               },
               {
                "font": {
                 "color": "#FFFFFF"
                },
                "showarrow": false,
                "text": "0.51",
                "x": 14,
                "xref": "x",
                "y": 13,
                "yref": "y"
               },
               {
                "font": {
                 "color": "#000000"
                },
                "showarrow": false,
                "text": "0.21",
                "x": 15,
                "xref": "x",
                "y": 13,
                "yref": "y"
               },
               {
                "font": {
                 "color": "#000000"
                },
                "showarrow": false,
                "text": "0.16",
                "x": 0,
                "xref": "x",
                "y": 14,
                "yref": "y"
               },
               {
                "font": {
                 "color": "#000000"
                },
                "showarrow": false,
                "text": "0.16",
                "x": 1,
                "xref": "x",
                "y": 14,
                "yref": "y"
               },
               {
                "font": {
                 "color": "#000000"
                },
                "showarrow": false,
                "text": "0.45",
                "x": 2,
                "xref": "x",
                "y": 14,
                "yref": "y"
               },
               {
                "font": {
                 "color": "#000000"
                },
                "showarrow": false,
                "text": "0.07",
                "x": 3,
                "xref": "x",
                "y": 14,
                "yref": "y"
               },
               {
                "font": {
                 "color": "#000000"
                },
                "showarrow": false,
                "text": "0.23",
                "x": 4,
                "xref": "x",
                "y": 14,
                "yref": "y"
               },
               {
                "font": {
                 "color": "#000000"
                },
                "showarrow": false,
                "text": "0.29",
                "x": 5,
                "xref": "x",
                "y": 14,
                "yref": "y"
               },
               {
                "font": {
                 "color": "#000000"
                },
                "showarrow": false,
                "text": "0.18",
                "x": 6,
                "xref": "x",
                "y": 14,
                "yref": "y"
               },
               {
                "font": {
                 "color": "#000000"
                },
                "showarrow": false,
                "text": "0.11",
                "x": 7,
                "xref": "x",
                "y": 14,
                "yref": "y"
               },
               {
                "font": {
                 "color": "#000000"
                },
                "showarrow": false,
                "text": "0.07",
                "x": 8,
                "xref": "x",
                "y": 14,
                "yref": "y"
               },
               {
                "font": {
                 "color": "#000000"
                },
                "showarrow": false,
                "text": "0.11",
                "x": 9,
                "xref": "x",
                "y": 14,
                "yref": "y"
               },
               {
                "font": {
                 "color": "#000000"
                },
                "showarrow": false,
                "text": "0.06",
                "x": 10,
                "xref": "x",
                "y": 14,
                "yref": "y"
               },
               {
                "font": {
                 "color": "#FFFFFF"
                },
                "showarrow": false,
                "text": "0.5",
                "x": 11,
                "xref": "x",
                "y": 14,
                "yref": "y"
               },
               {
                "font": {
                 "color": "#000000"
                },
                "showarrow": false,
                "text": "0.18",
                "x": 12,
                "xref": "x",
                "y": 14,
                "yref": "y"
               },
               {
                "font": {
                 "color": "#FFFFFF"
                },
                "showarrow": false,
                "text": "0.51",
                "x": 13,
                "xref": "x",
                "y": 14,
                "yref": "y"
               },
               {
                "font": {
                 "color": "#FFFFFF"
                },
                "showarrow": false,
                "text": "1.0",
                "x": 14,
                "xref": "x",
                "y": 14,
                "yref": "y"
               },
               {
                "font": {
                 "color": "#000000"
                },
                "showarrow": false,
                "text": "0.21",
                "x": 15,
                "xref": "x",
                "y": 14,
                "yref": "y"
               },
               {
                "font": {
                 "color": "#000000"
                },
                "showarrow": false,
                "text": "0.04",
                "x": 0,
                "xref": "x",
                "y": 15,
                "yref": "y"
               },
               {
                "font": {
                 "color": "#000000"
                },
                "showarrow": false,
                "text": "0.04",
                "x": 1,
                "xref": "x",
                "y": 15,
                "yref": "y"
               },
               {
                "font": {
                 "color": "#000000"
                },
                "showarrow": false,
                "text": "0.09",
                "x": 2,
                "xref": "x",
                "y": 15,
                "yref": "y"
               },
               {
                "font": {
                 "color": "#000000"
                },
                "showarrow": false,
                "text": "0.05",
                "x": 3,
                "xref": "x",
                "y": 15,
                "yref": "y"
               },
               {
                "font": {
                 "color": "#000000"
                },
                "showarrow": false,
                "text": "0.11",
                "x": 4,
                "xref": "x",
                "y": 15,
                "yref": "y"
               },
               {
                "font": {
                 "color": "#FFFFFF"
                },
                "showarrow": false,
                "text": "0.88",
                "x": 5,
                "xref": "x",
                "y": 15,
                "yref": "y"
               },
               {
                "font": {
                 "color": "#FFFFFF"
                },
                "showarrow": false,
                "text": "0.54",
                "x": 6,
                "xref": "x",
                "y": 15,
                "yref": "y"
               },
               {
                "font": {
                 "color": "#000000"
                },
                "showarrow": false,
                "text": "0.06",
                "x": 7,
                "xref": "x",
                "y": 15,
                "yref": "y"
               },
               {
                "font": {
                 "color": "#000000"
                },
                "showarrow": false,
                "text": "0.03",
                "x": 8,
                "xref": "x",
                "y": 15,
                "yref": "y"
               },
               {
                "font": {
                 "color": "#000000"
                },
                "showarrow": false,
                "text": "0.04",
                "x": 9,
                "xref": "x",
                "y": 15,
                "yref": "y"
               },
               {
                "font": {
                 "color": "#000000"
                },
                "showarrow": false,
                "text": "0.04",
                "x": 10,
                "xref": "x",
                "y": 15,
                "yref": "y"
               },
               {
                "font": {
                 "color": "#000000"
                },
                "showarrow": false,
                "text": "0.14",
                "x": 11,
                "xref": "x",
                "y": 15,
                "yref": "y"
               },
               {
                "font": {
                 "color": "#000000"
                },
                "showarrow": false,
                "text": "0.06",
                "x": 12,
                "xref": "x",
                "y": 15,
                "yref": "y"
               },
               {
                "font": {
                 "color": "#000000"
                },
                "showarrow": false,
                "text": "0.21",
                "x": 13,
                "xref": "x",
                "y": 15,
                "yref": "y"
               },
               {
                "font": {
                 "color": "#000000"
                },
                "showarrow": false,
                "text": "0.21",
                "x": 14,
                "xref": "x",
                "y": 15,
                "yref": "y"
               },
               {
                "font": {
                 "color": "#FFFFFF"
                },
                "showarrow": false,
                "text": "1.0",
                "x": 15,
                "xref": "x",
                "y": 15,
                "yref": "y"
               }
              ]
             }
            ],
            "args2": [
             {
              "annotations": []
             }
            ],
            "label": "Show value",
            "method": "relayout"
           }
          ],
          "direction": "right",
          "pad": {
           "l": -60,
           "r": 0,
           "t": -100
          },
          "type": "buttons",
          "x": 0.1,
          "xanchor": "left",
          "y": 1,
          "yanchor": "top"
         }
        ],
        "width": 1118,
        "xaxis": {
         "constrain": "domain",
         "fixedrange": true,
         "scaleanchor": "y",
         "tickangle": -45,
         "ticktext": [
          "age",
          "balance",
          "day",
          "duration",
          "campaign",
          "pdays",
          "previous",
          "job",
          "marital",
          "education",
          "default",
          "housing",
          "loan",
          "contact",
          "month",
          "poutcome"
         ],
         "tickvals": [
          0,
          1,
          2,
          3,
          4,
          5,
          6,
          7,
          8,
          9,
          10,
          11,
          12,
          13,
          14,
          15
         ]
        },
        "yaxis": {
         "autorange": "reversed",
         "fixedrange": true,
         "tickmode": "array",
         "ticktext": [
          "age (N)  ",
          "balance (N)  ",
          "day (N)  ",
          "duration (N)  ",
          "campaign (N)  ",
          "pdays (N)  ",
          "previous (N)  ",
          "job (C)  ",
          "marital (C)  ",
          "education (C)  ",
          "default (C)  ",
          "housing (C)  ",
          "loan (C)  ",
          "contact (C)  ",
          "month (C)  ",
          "poutcome (C)  "
         ],
         "tickvals": [
          0,
          1,
          2,
          3,
          4,
          5,
          6,
          7,
          8,
          9,
          10,
          11,
          12,
          13,
          14,
          15
         ]
        }
       }
      },
      "text/html": [
       "<div>                            <div id=\"1ac5cb82-fbb2-454a-9623-633174c7249a\" class=\"plotly-graph-div\" style=\"height:766px; width:1118px;\"></div>            <script type=\"text/javascript\">                require([\"plotly\"], function(Plotly) {                    window.PLOTLYENV=window.PLOTLYENV || {};                                    if (document.getElementById(\"1ac5cb82-fbb2-454a-9623-633174c7249a\")) {                    Plotly.newPlot(                        \"1ac5cb82-fbb2-454a-9623-633174c7249a\",                        [{\"colorscale\":[[0.0,\"rgb(255,255,217)\"],[0.125,\"rgb(237,248,177)\"],[0.25,\"rgb(199,233,180)\"],[0.375,\"rgb(127,205,187)\"],[0.5,\"rgb(65,182,196)\"],[0.625,\"rgb(29,145,192)\"],[0.75,\"rgb(34,94,168)\"],[0.875,\"rgb(37,52,148)\"],[1.0,\"rgb(8,29,88)\"]],\"hovertemplate\":\"Corr ( %{x}, %{y} ) = %{z} <extra></extra>\",\"reversescale\":false,\"showscale\":true,\"x\":[0,1,2,3,4,5,6,7,8,9,10,11,12,13,14,15],\"y\":[0,1,2,3,4,5,6,7,8,9,10,11,12,13,14,15],\"z\":[[1.0,0.1,0.01,0.0,0.0,0.02,0.0,0.5,0.43,0.22,0.02,0.19,0.02,0.17,0.16,0.04],[0.1,1.0,0.0,0.02,0.01,0.0,0.02,0.1,0.03,0.09,0.07,0.07,0.08,0.05,0.16,0.04],[0.01,0.0,1.0,0.03,0.16,0.09,0.05,0.05,0.01,0.03,0.01,0.03,0.01,0.04,0.45,0.09],[0.0,0.02,0.03,1.0,0.08,0.0,0.0,0.04,0.02,0.0,0.01,0.01,0.01,0.03,0.07,0.05],[0.0,0.01,0.16,0.08,1.0,0.09,0.03,0.06,0.03,0.02,0.02,0.02,0.01,0.06,0.23,0.11],[0.02,0.0,0.09,0.0,0.09,1.0,0.45,0.06,0.03,0.02,0.03,0.12,0.02,0.25,0.29,0.88],[0.0,0.02,0.05,0.0,0.03,0.45,1.0,0.04,0.02,0.03,0.02,0.04,0.01,0.15,0.18,0.54],[0.5,0.1,0.05,0.04,0.06,0.06,0.04,1.0,0.21,0.46,0.04,0.28,0.11,0.15,0.11,0.06],[0.43,0.03,0.01,0.02,0.03,0.03,0.02,0.21,1.0,0.12,0.02,0.02,0.05,0.05,0.07,0.03],[0.22,0.09,0.03,0.0,0.02,0.02,0.03,0.46,0.12,1.0,0.02,0.12,0.08,0.12,0.11,0.04],[0.02,0.07,0.01,0.01,0.02,0.03,0.02,0.04,0.02,0.02,1.0,0.01,0.08,0.02,0.06,0.04],[0.19,0.07,0.03,0.01,0.02,0.12,0.04,0.28,0.02,0.12,0.01,1.0,0.04,0.21,0.5,0.14],[0.02,0.08,0.01,0.01,0.01,0.02,0.01,0.11,0.05,0.08,0.08,0.04,1.0,0.02,0.18,0.06],[0.17,0.05,0.04,0.03,0.06,0.25,0.15,0.15,0.05,0.12,0.02,0.21,0.02,1.0,0.51,0.21],[0.16,0.16,0.45,0.07,0.23,0.29,0.18,0.11,0.07,0.11,0.06,0.5,0.18,0.51,1.0,0.21],[0.04,0.04,0.09,0.05,0.11,0.88,0.54,0.06,0.03,0.04,0.04,0.14,0.06,0.21,0.21,1.0]],\"zmax\":1,\"zmin\":0,\"type\":\"heatmap\"}],                        {\"template\":{\"data\":{\"bar\":[{\"error_x\":{\"color\":\"#2a3f5f\"},\"error_y\":{\"color\":\"#2a3f5f\"},\"marker\":{\"line\":{\"color\":\"#E5ECF6\",\"width\":0.5},\"pattern\":{\"fillmode\":\"overlay\",\"size\":10,\"solidity\":0.2}},\"type\":\"bar\"}],\"barpolar\":[{\"marker\":{\"line\":{\"color\":\"#E5ECF6\",\"width\":0.5},\"pattern\":{\"fillmode\":\"overlay\",\"size\":10,\"solidity\":0.2}},\"type\":\"barpolar\"}],\"carpet\":[{\"aaxis\":{\"endlinecolor\":\"#2a3f5f\",\"gridcolor\":\"white\",\"linecolor\":\"white\",\"minorgridcolor\":\"white\",\"startlinecolor\":\"#2a3f5f\"},\"baxis\":{\"endlinecolor\":\"#2a3f5f\",\"gridcolor\":\"white\",\"linecolor\":\"white\",\"minorgridcolor\":\"white\",\"startlinecolor\":\"#2a3f5f\"},\"type\":\"carpet\"}],\"choropleth\":[{\"colorbar\":{\"outlinewidth\":0,\"ticks\":\"\"},\"type\":\"choropleth\"}],\"contour\":[{\"colorbar\":{\"outlinewidth\":0,\"ticks\":\"\"},\"colorscale\":[[0.0,\"#0d0887\"],[0.1111111111111111,\"#46039f\"],[0.2222222222222222,\"#7201a8\"],[0.3333333333333333,\"#9c179e\"],[0.4444444444444444,\"#bd3786\"],[0.5555555555555556,\"#d8576b\"],[0.6666666666666666,\"#ed7953\"],[0.7777777777777778,\"#fb9f3a\"],[0.8888888888888888,\"#fdca26\"],[1.0,\"#f0f921\"]],\"type\":\"contour\"}],\"contourcarpet\":[{\"colorbar\":{\"outlinewidth\":0,\"ticks\":\"\"},\"type\":\"contourcarpet\"}],\"heatmap\":[{\"colorbar\":{\"outlinewidth\":0,\"ticks\":\"\"},\"colorscale\":[[0.0,\"#0d0887\"],[0.1111111111111111,\"#46039f\"],[0.2222222222222222,\"#7201a8\"],[0.3333333333333333,\"#9c179e\"],[0.4444444444444444,\"#bd3786\"],[0.5555555555555556,\"#d8576b\"],[0.6666666666666666,\"#ed7953\"],[0.7777777777777778,\"#fb9f3a\"],[0.8888888888888888,\"#fdca26\"],[1.0,\"#f0f921\"]],\"type\":\"heatmap\"}],\"heatmapgl\":[{\"colorbar\":{\"outlinewidth\":0,\"ticks\":\"\"},\"colorscale\":[[0.0,\"#0d0887\"],[0.1111111111111111,\"#46039f\"],[0.2222222222222222,\"#7201a8\"],[0.3333333333333333,\"#9c179e\"],[0.4444444444444444,\"#bd3786\"],[0.5555555555555556,\"#d8576b\"],[0.6666666666666666,\"#ed7953\"],[0.7777777777777778,\"#fb9f3a\"],[0.8888888888888888,\"#fdca26\"],[1.0,\"#f0f921\"]],\"type\":\"heatmapgl\"}],\"histogram\":[{\"marker\":{\"pattern\":{\"fillmode\":\"overlay\",\"size\":10,\"solidity\":0.2}},\"type\":\"histogram\"}],\"histogram2d\":[{\"colorbar\":{\"outlinewidth\":0,\"ticks\":\"\"},\"colorscale\":[[0.0,\"#0d0887\"],[0.1111111111111111,\"#46039f\"],[0.2222222222222222,\"#7201a8\"],[0.3333333333333333,\"#9c179e\"],[0.4444444444444444,\"#bd3786\"],[0.5555555555555556,\"#d8576b\"],[0.6666666666666666,\"#ed7953\"],[0.7777777777777778,\"#fb9f3a\"],[0.8888888888888888,\"#fdca26\"],[1.0,\"#f0f921\"]],\"type\":\"histogram2d\"}],\"histogram2dcontour\":[{\"colorbar\":{\"outlinewidth\":0,\"ticks\":\"\"},\"colorscale\":[[0.0,\"#0d0887\"],[0.1111111111111111,\"#46039f\"],[0.2222222222222222,\"#7201a8\"],[0.3333333333333333,\"#9c179e\"],[0.4444444444444444,\"#bd3786\"],[0.5555555555555556,\"#d8576b\"],[0.6666666666666666,\"#ed7953\"],[0.7777777777777778,\"#fb9f3a\"],[0.8888888888888888,\"#fdca26\"],[1.0,\"#f0f921\"]],\"type\":\"histogram2dcontour\"}],\"mesh3d\":[{\"colorbar\":{\"outlinewidth\":0,\"ticks\":\"\"},\"type\":\"mesh3d\"}],\"parcoords\":[{\"line\":{\"colorbar\":{\"outlinewidth\":0,\"ticks\":\"\"}},\"type\":\"parcoords\"}],\"pie\":[{\"automargin\":true,\"type\":\"pie\"}],\"scatter\":[{\"marker\":{\"colorbar\":{\"outlinewidth\":0,\"ticks\":\"\"}},\"type\":\"scatter\"}],\"scatter3d\":[{\"line\":{\"colorbar\":{\"outlinewidth\":0,\"ticks\":\"\"}},\"marker\":{\"colorbar\":{\"outlinewidth\":0,\"ticks\":\"\"}},\"type\":\"scatter3d\"}],\"scattercarpet\":[{\"marker\":{\"colorbar\":{\"outlinewidth\":0,\"ticks\":\"\"}},\"type\":\"scattercarpet\"}],\"scattergeo\":[{\"marker\":{\"colorbar\":{\"outlinewidth\":0,\"ticks\":\"\"}},\"type\":\"scattergeo\"}],\"scattergl\":[{\"marker\":{\"colorbar\":{\"outlinewidth\":0,\"ticks\":\"\"}},\"type\":\"scattergl\"}],\"scattermapbox\":[{\"marker\":{\"colorbar\":{\"outlinewidth\":0,\"ticks\":\"\"}},\"type\":\"scattermapbox\"}],\"scatterpolar\":[{\"marker\":{\"colorbar\":{\"outlinewidth\":0,\"ticks\":\"\"}},\"type\":\"scatterpolar\"}],\"scatterpolargl\":[{\"marker\":{\"colorbar\":{\"outlinewidth\":0,\"ticks\":\"\"}},\"type\":\"scatterpolargl\"}],\"scatterternary\":[{\"marker\":{\"colorbar\":{\"outlinewidth\":0,\"ticks\":\"\"}},\"type\":\"scatterternary\"}],\"surface\":[{\"colorbar\":{\"outlinewidth\":0,\"ticks\":\"\"},\"colorscale\":[[0.0,\"#0d0887\"],[0.1111111111111111,\"#46039f\"],[0.2222222222222222,\"#7201a8\"],[0.3333333333333333,\"#9c179e\"],[0.4444444444444444,\"#bd3786\"],[0.5555555555555556,\"#d8576b\"],[0.6666666666666666,\"#ed7953\"],[0.7777777777777778,\"#fb9f3a\"],[0.8888888888888888,\"#fdca26\"],[1.0,\"#f0f921\"]],\"type\":\"surface\"}],\"table\":[{\"cells\":{\"fill\":{\"color\":\"#EBF0F8\"},\"line\":{\"color\":\"white\"}},\"header\":{\"fill\":{\"color\":\"#C8D4E3\"},\"line\":{\"color\":\"white\"}},\"type\":\"table\"}]},\"layout\":{\"annotationdefaults\":{\"arrowcolor\":\"#2a3f5f\",\"arrowhead\":0,\"arrowwidth\":1},\"autotypenumbers\":\"strict\",\"coloraxis\":{\"colorbar\":{\"outlinewidth\":0,\"ticks\":\"\"}},\"colorscale\":{\"diverging\":[[0,\"#8e0152\"],[0.1,\"#c51b7d\"],[0.2,\"#de77ae\"],[0.3,\"#f1b6da\"],[0.4,\"#fde0ef\"],[0.5,\"#f7f7f7\"],[0.6,\"#e6f5d0\"],[0.7,\"#b8e186\"],[0.8,\"#7fbc41\"],[0.9,\"#4d9221\"],[1,\"#276419\"]],\"sequential\":[[0.0,\"#0d0887\"],[0.1111111111111111,\"#46039f\"],[0.2222222222222222,\"#7201a8\"],[0.3333333333333333,\"#9c179e\"],[0.4444444444444444,\"#bd3786\"],[0.5555555555555556,\"#d8576b\"],[0.6666666666666666,\"#ed7953\"],[0.7777777777777778,\"#fb9f3a\"],[0.8888888888888888,\"#fdca26\"],[1.0,\"#f0f921\"]],\"sequentialminus\":[[0.0,\"#0d0887\"],[0.1111111111111111,\"#46039f\"],[0.2222222222222222,\"#7201a8\"],[0.3333333333333333,\"#9c179e\"],[0.4444444444444444,\"#bd3786\"],[0.5555555555555556,\"#d8576b\"],[0.6666666666666666,\"#ed7953\"],[0.7777777777777778,\"#fb9f3a\"],[0.8888888888888888,\"#fdca26\"],[1.0,\"#f0f921\"]]},\"colorway\":[\"#636efa\",\"#EF553B\",\"#00cc96\",\"#ab63fa\",\"#FFA15A\",\"#19d3f3\",\"#FF6692\",\"#B6E880\",\"#FF97FF\",\"#FECB52\"],\"font\":{\"color\":\"#2a3f5f\"},\"geo\":{\"bgcolor\":\"white\",\"lakecolor\":\"white\",\"landcolor\":\"#E5ECF6\",\"showlakes\":true,\"showland\":true,\"subunitcolor\":\"white\"},\"hoverlabel\":{\"align\":\"left\"},\"hovermode\":\"closest\",\"mapbox\":{\"style\":\"light\"},\"paper_bgcolor\":\"white\",\"plot_bgcolor\":\"#E5ECF6\",\"polar\":{\"angularaxis\":{\"gridcolor\":\"white\",\"linecolor\":\"white\",\"ticks\":\"\"},\"bgcolor\":\"#E5ECF6\",\"radialaxis\":{\"gridcolor\":\"white\",\"linecolor\":\"white\",\"ticks\":\"\"}},\"scene\":{\"xaxis\":{\"backgroundcolor\":\"#E5ECF6\",\"gridcolor\":\"white\",\"gridwidth\":2,\"linecolor\":\"white\",\"showbackground\":true,\"ticks\":\"\",\"zerolinecolor\":\"white\"},\"yaxis\":{\"backgroundcolor\":\"#E5ECF6\",\"gridcolor\":\"white\",\"gridwidth\":2,\"linecolor\":\"white\",\"showbackground\":true,\"ticks\":\"\",\"zerolinecolor\":\"white\"},\"zaxis\":{\"backgroundcolor\":\"#E5ECF6\",\"gridcolor\":\"white\",\"gridwidth\":2,\"linecolor\":\"white\",\"showbackground\":true,\"ticks\":\"\",\"zerolinecolor\":\"white\"}},\"shapedefaults\":{\"line\":{\"color\":\"#2a3f5f\"}},\"ternary\":{\"aaxis\":{\"gridcolor\":\"white\",\"linecolor\":\"white\",\"ticks\":\"\"},\"baxis\":{\"gridcolor\":\"white\",\"linecolor\":\"white\",\"ticks\":\"\"},\"bgcolor\":\"#E5ECF6\",\"caxis\":{\"gridcolor\":\"white\",\"linecolor\":\"white\",\"ticks\":\"\"}},\"title\":{\"x\":0.05},\"xaxis\":{\"automargin\":true,\"gridcolor\":\"white\",\"linecolor\":\"white\",\"ticks\":\"\",\"title\":{\"standoff\":15},\"zerolinecolor\":\"white\",\"zerolinewidth\":2},\"yaxis\":{\"automargin\":true,\"gridcolor\":\"white\",\"linecolor\":\"white\",\"ticks\":\"\",\"title\":{\"standoff\":15},\"zerolinecolor\":\"white\",\"zerolinewidth\":2}}},\"xaxis\":{\"scaleanchor\":\"y\",\"constrain\":\"domain\",\"tickangle\":-45,\"tickvals\":[0,1,2,3,4,5,6,7,8,9,10,11,12,13,14,15],\"ticktext\":[\"age\",\"balance\",\"day\",\"duration\",\"campaign\",\"pdays\",\"previous\",\"job\",\"marital\",\"education\",\"default\",\"housing\",\"loan\",\"contact\",\"month\",\"poutcome\"],\"fixedrange\":true},\"width\":1118,\"height\":766,\"yaxis\":{\"autorange\":\"reversed\",\"tickvals\":[0,1,2,3,4,5,6,7,8,9,10,11,12,13,14,15],\"ticktext\":[\"age (N)  \",\"balance (N)  \",\"day (N)  \",\"duration (N)  \",\"campaign (N)  \",\"pdays (N)  \",\"previous (N)  \",\"job (C)  \",\"marital (C)  \",\"education (C)  \",\"default (C)  \",\"housing (C)  \",\"loan (C)  \",\"contact (C)  \",\"month (C)  \",\"poutcome (C)  \"],\"tickmode\":\"array\",\"fixedrange\":true},\"title\":{\"font\":{\"size\":22},\"text\":\"Correlation\",\"y\":0.99,\"x\":0,\"xanchor\":\"left\",\"yanchor\":\"top\"},\"margin\":{\"t\":150,\"b\":0,\"l\":270,\"r\":280},\"coloraxis\":{\"colorbar\":{\"thicknessmode\":\"pixels\",\"thickness\":50,\"lenmode\":\"pixels\",\"yanchor\":\"top\",\"y\":1,\"ticks\":\"outside\",\"dtick\":5}},\"hoverlabel\":{\"font\":{\"size\":12,\"family\":\"Arial\"},\"bgcolor\":\"white\"},\"modebar\":{\"bgcolor\":\"rgba(0,0,0,0)\",\"activecolor\":\"rgba(68,68,68,0.7)\",\"color\":\"rgba(68,68,68,0.3)\"},\"annotations\":[{\"font\":{\"color\":\"#FFFFFF\"},\"showarrow\":false,\"text\":\"1.0\",\"x\":0,\"xref\":\"x\",\"y\":0,\"yref\":\"y\"},{\"font\":{\"color\":\"#000000\"},\"showarrow\":false,\"text\":\"0.1\",\"x\":1,\"xref\":\"x\",\"y\":0,\"yref\":\"y\"},{\"font\":{\"color\":\"#000000\"},\"showarrow\":false,\"text\":\"0.01\",\"x\":2,\"xref\":\"x\",\"y\":0,\"yref\":\"y\"},{\"font\":{\"color\":\"#000000\"},\"showarrow\":false,\"text\":\"0.0\",\"x\":3,\"xref\":\"x\",\"y\":0,\"yref\":\"y\"},{\"font\":{\"color\":\"#000000\"},\"showarrow\":false,\"text\":\"0.0\",\"x\":4,\"xref\":\"x\",\"y\":0,\"yref\":\"y\"},{\"font\":{\"color\":\"#000000\"},\"showarrow\":false,\"text\":\"0.02\",\"x\":5,\"xref\":\"x\",\"y\":0,\"yref\":\"y\"},{\"font\":{\"color\":\"#000000\"},\"showarrow\":false,\"text\":\"0.0\",\"x\":6,\"xref\":\"x\",\"y\":0,\"yref\":\"y\"},{\"font\":{\"color\":\"#FFFFFF\"},\"showarrow\":false,\"text\":\"0.5\",\"x\":7,\"xref\":\"x\",\"y\":0,\"yref\":\"y\"},{\"font\":{\"color\":\"#000000\"},\"showarrow\":false,\"text\":\"0.43\",\"x\":8,\"xref\":\"x\",\"y\":0,\"yref\":\"y\"},{\"font\":{\"color\":\"#000000\"},\"showarrow\":false,\"text\":\"0.22\",\"x\":9,\"xref\":\"x\",\"y\":0,\"yref\":\"y\"},{\"font\":{\"color\":\"#000000\"},\"showarrow\":false,\"text\":\"0.02\",\"x\":10,\"xref\":\"x\",\"y\":0,\"yref\":\"y\"},{\"font\":{\"color\":\"#000000\"},\"showarrow\":false,\"text\":\"0.19\",\"x\":11,\"xref\":\"x\",\"y\":0,\"yref\":\"y\"},{\"font\":{\"color\":\"#000000\"},\"showarrow\":false,\"text\":\"0.02\",\"x\":12,\"xref\":\"x\",\"y\":0,\"yref\":\"y\"},{\"font\":{\"color\":\"#000000\"},\"showarrow\":false,\"text\":\"0.17\",\"x\":13,\"xref\":\"x\",\"y\":0,\"yref\":\"y\"},{\"font\":{\"color\":\"#000000\"},\"showarrow\":false,\"text\":\"0.16\",\"x\":14,\"xref\":\"x\",\"y\":0,\"yref\":\"y\"},{\"font\":{\"color\":\"#000000\"},\"showarrow\":false,\"text\":\"0.04\",\"x\":15,\"xref\":\"x\",\"y\":0,\"yref\":\"y\"},{\"font\":{\"color\":\"#000000\"},\"showarrow\":false,\"text\":\"0.1\",\"x\":0,\"xref\":\"x\",\"y\":1,\"yref\":\"y\"},{\"font\":{\"color\":\"#FFFFFF\"},\"showarrow\":false,\"text\":\"1.0\",\"x\":1,\"xref\":\"x\",\"y\":1,\"yref\":\"y\"},{\"font\":{\"color\":\"#000000\"},\"showarrow\":false,\"text\":\"0.0\",\"x\":2,\"xref\":\"x\",\"y\":1,\"yref\":\"y\"},{\"font\":{\"color\":\"#000000\"},\"showarrow\":false,\"text\":\"0.02\",\"x\":3,\"xref\":\"x\",\"y\":1,\"yref\":\"y\"},{\"font\":{\"color\":\"#000000\"},\"showarrow\":false,\"text\":\"0.01\",\"x\":4,\"xref\":\"x\",\"y\":1,\"yref\":\"y\"},{\"font\":{\"color\":\"#000000\"},\"showarrow\":false,\"text\":\"0.0\",\"x\":5,\"xref\":\"x\",\"y\":1,\"yref\":\"y\"},{\"font\":{\"color\":\"#000000\"},\"showarrow\":false,\"text\":\"0.02\",\"x\":6,\"xref\":\"x\",\"y\":1,\"yref\":\"y\"},{\"font\":{\"color\":\"#000000\"},\"showarrow\":false,\"text\":\"0.1\",\"x\":7,\"xref\":\"x\",\"y\":1,\"yref\":\"y\"},{\"font\":{\"color\":\"#000000\"},\"showarrow\":false,\"text\":\"0.03\",\"x\":8,\"xref\":\"x\",\"y\":1,\"yref\":\"y\"},{\"font\":{\"color\":\"#000000\"},\"showarrow\":false,\"text\":\"0.09\",\"x\":9,\"xref\":\"x\",\"y\":1,\"yref\":\"y\"},{\"font\":{\"color\":\"#000000\"},\"showarrow\":false,\"text\":\"0.07\",\"x\":10,\"xref\":\"x\",\"y\":1,\"yref\":\"y\"},{\"font\":{\"color\":\"#000000\"},\"showarrow\":false,\"text\":\"0.07\",\"x\":11,\"xref\":\"x\",\"y\":1,\"yref\":\"y\"},{\"font\":{\"color\":\"#000000\"},\"showarrow\":false,\"text\":\"0.08\",\"x\":12,\"xref\":\"x\",\"y\":1,\"yref\":\"y\"},{\"font\":{\"color\":\"#000000\"},\"showarrow\":false,\"text\":\"0.05\",\"x\":13,\"xref\":\"x\",\"y\":1,\"yref\":\"y\"},{\"font\":{\"color\":\"#000000\"},\"showarrow\":false,\"text\":\"0.16\",\"x\":14,\"xref\":\"x\",\"y\":1,\"yref\":\"y\"},{\"font\":{\"color\":\"#000000\"},\"showarrow\":false,\"text\":\"0.04\",\"x\":15,\"xref\":\"x\",\"y\":1,\"yref\":\"y\"},{\"font\":{\"color\":\"#000000\"},\"showarrow\":false,\"text\":\"0.01\",\"x\":0,\"xref\":\"x\",\"y\":2,\"yref\":\"y\"},{\"font\":{\"color\":\"#000000\"},\"showarrow\":false,\"text\":\"0.0\",\"x\":1,\"xref\":\"x\",\"y\":2,\"yref\":\"y\"},{\"font\":{\"color\":\"#FFFFFF\"},\"showarrow\":false,\"text\":\"1.0\",\"x\":2,\"xref\":\"x\",\"y\":2,\"yref\":\"y\"},{\"font\":{\"color\":\"#000000\"},\"showarrow\":false,\"text\":\"0.03\",\"x\":3,\"xref\":\"x\",\"y\":2,\"yref\":\"y\"},{\"font\":{\"color\":\"#000000\"},\"showarrow\":false,\"text\":\"0.16\",\"x\":4,\"xref\":\"x\",\"y\":2,\"yref\":\"y\"},{\"font\":{\"color\":\"#000000\"},\"showarrow\":false,\"text\":\"0.09\",\"x\":5,\"xref\":\"x\",\"y\":2,\"yref\":\"y\"},{\"font\":{\"color\":\"#000000\"},\"showarrow\":false,\"text\":\"0.05\",\"x\":6,\"xref\":\"x\",\"y\":2,\"yref\":\"y\"},{\"font\":{\"color\":\"#000000\"},\"showarrow\":false,\"text\":\"0.05\",\"x\":7,\"xref\":\"x\",\"y\":2,\"yref\":\"y\"},{\"font\":{\"color\":\"#000000\"},\"showarrow\":false,\"text\":\"0.01\",\"x\":8,\"xref\":\"x\",\"y\":2,\"yref\":\"y\"},{\"font\":{\"color\":\"#000000\"},\"showarrow\":false,\"text\":\"0.03\",\"x\":9,\"xref\":\"x\",\"y\":2,\"yref\":\"y\"},{\"font\":{\"color\":\"#000000\"},\"showarrow\":false,\"text\":\"0.01\",\"x\":10,\"xref\":\"x\",\"y\":2,\"yref\":\"y\"},{\"font\":{\"color\":\"#000000\"},\"showarrow\":false,\"text\":\"0.03\",\"x\":11,\"xref\":\"x\",\"y\":2,\"yref\":\"y\"},{\"font\":{\"color\":\"#000000\"},\"showarrow\":false,\"text\":\"0.01\",\"x\":12,\"xref\":\"x\",\"y\":2,\"yref\":\"y\"},{\"font\":{\"color\":\"#000000\"},\"showarrow\":false,\"text\":\"0.04\",\"x\":13,\"xref\":\"x\",\"y\":2,\"yref\":\"y\"},{\"font\":{\"color\":\"#000000\"},\"showarrow\":false,\"text\":\"0.45\",\"x\":14,\"xref\":\"x\",\"y\":2,\"yref\":\"y\"},{\"font\":{\"color\":\"#000000\"},\"showarrow\":false,\"text\":\"0.09\",\"x\":15,\"xref\":\"x\",\"y\":2,\"yref\":\"y\"},{\"font\":{\"color\":\"#000000\"},\"showarrow\":false,\"text\":\"0.0\",\"x\":0,\"xref\":\"x\",\"y\":3,\"yref\":\"y\"},{\"font\":{\"color\":\"#000000\"},\"showarrow\":false,\"text\":\"0.02\",\"x\":1,\"xref\":\"x\",\"y\":3,\"yref\":\"y\"},{\"font\":{\"color\":\"#000000\"},\"showarrow\":false,\"text\":\"0.03\",\"x\":2,\"xref\":\"x\",\"y\":3,\"yref\":\"y\"},{\"font\":{\"color\":\"#FFFFFF\"},\"showarrow\":false,\"text\":\"1.0\",\"x\":3,\"xref\":\"x\",\"y\":3,\"yref\":\"y\"},{\"font\":{\"color\":\"#000000\"},\"showarrow\":false,\"text\":\"0.08\",\"x\":4,\"xref\":\"x\",\"y\":3,\"yref\":\"y\"},{\"font\":{\"color\":\"#000000\"},\"showarrow\":false,\"text\":\"0.0\",\"x\":5,\"xref\":\"x\",\"y\":3,\"yref\":\"y\"},{\"font\":{\"color\":\"#000000\"},\"showarrow\":false,\"text\":\"0.0\",\"x\":6,\"xref\":\"x\",\"y\":3,\"yref\":\"y\"},{\"font\":{\"color\":\"#000000\"},\"showarrow\":false,\"text\":\"0.04\",\"x\":7,\"xref\":\"x\",\"y\":3,\"yref\":\"y\"},{\"font\":{\"color\":\"#000000\"},\"showarrow\":false,\"text\":\"0.02\",\"x\":8,\"xref\":\"x\",\"y\":3,\"yref\":\"y\"},{\"font\":{\"color\":\"#000000\"},\"showarrow\":false,\"text\":\"0.0\",\"x\":9,\"xref\":\"x\",\"y\":3,\"yref\":\"y\"},{\"font\":{\"color\":\"#000000\"},\"showarrow\":false,\"text\":\"0.01\",\"x\":10,\"xref\":\"x\",\"y\":3,\"yref\":\"y\"},{\"font\":{\"color\":\"#000000\"},\"showarrow\":false,\"text\":\"0.01\",\"x\":11,\"xref\":\"x\",\"y\":3,\"yref\":\"y\"},{\"font\":{\"color\":\"#000000\"},\"showarrow\":false,\"text\":\"0.01\",\"x\":12,\"xref\":\"x\",\"y\":3,\"yref\":\"y\"},{\"font\":{\"color\":\"#000000\"},\"showarrow\":false,\"text\":\"0.03\",\"x\":13,\"xref\":\"x\",\"y\":3,\"yref\":\"y\"},{\"font\":{\"color\":\"#000000\"},\"showarrow\":false,\"text\":\"0.07\",\"x\":14,\"xref\":\"x\",\"y\":3,\"yref\":\"y\"},{\"font\":{\"color\":\"#000000\"},\"showarrow\":false,\"text\":\"0.05\",\"x\":15,\"xref\":\"x\",\"y\":3,\"yref\":\"y\"},{\"font\":{\"color\":\"#000000\"},\"showarrow\":false,\"text\":\"0.0\",\"x\":0,\"xref\":\"x\",\"y\":4,\"yref\":\"y\"},{\"font\":{\"color\":\"#000000\"},\"showarrow\":false,\"text\":\"0.01\",\"x\":1,\"xref\":\"x\",\"y\":4,\"yref\":\"y\"},{\"font\":{\"color\":\"#000000\"},\"showarrow\":false,\"text\":\"0.16\",\"x\":2,\"xref\":\"x\",\"y\":4,\"yref\":\"y\"},{\"font\":{\"color\":\"#000000\"},\"showarrow\":false,\"text\":\"0.08\",\"x\":3,\"xref\":\"x\",\"y\":4,\"yref\":\"y\"},{\"font\":{\"color\":\"#FFFFFF\"},\"showarrow\":false,\"text\":\"1.0\",\"x\":4,\"xref\":\"x\",\"y\":4,\"yref\":\"y\"},{\"font\":{\"color\":\"#000000\"},\"showarrow\":false,\"text\":\"0.09\",\"x\":5,\"xref\":\"x\",\"y\":4,\"yref\":\"y\"},{\"font\":{\"color\":\"#000000\"},\"showarrow\":false,\"text\":\"0.03\",\"x\":6,\"xref\":\"x\",\"y\":4,\"yref\":\"y\"},{\"font\":{\"color\":\"#000000\"},\"showarrow\":false,\"text\":\"0.06\",\"x\":7,\"xref\":\"x\",\"y\":4,\"yref\":\"y\"},{\"font\":{\"color\":\"#000000\"},\"showarrow\":false,\"text\":\"0.03\",\"x\":8,\"xref\":\"x\",\"y\":4,\"yref\":\"y\"},{\"font\":{\"color\":\"#000000\"},\"showarrow\":false,\"text\":\"0.02\",\"x\":9,\"xref\":\"x\",\"y\":4,\"yref\":\"y\"},{\"font\":{\"color\":\"#000000\"},\"showarrow\":false,\"text\":\"0.02\",\"x\":10,\"xref\":\"x\",\"y\":4,\"yref\":\"y\"},{\"font\":{\"color\":\"#000000\"},\"showarrow\":false,\"text\":\"0.02\",\"x\":11,\"xref\":\"x\",\"y\":4,\"yref\":\"y\"},{\"font\":{\"color\":\"#000000\"},\"showarrow\":false,\"text\":\"0.01\",\"x\":12,\"xref\":\"x\",\"y\":4,\"yref\":\"y\"},{\"font\":{\"color\":\"#000000\"},\"showarrow\":false,\"text\":\"0.06\",\"x\":13,\"xref\":\"x\",\"y\":4,\"yref\":\"y\"},{\"font\":{\"color\":\"#000000\"},\"showarrow\":false,\"text\":\"0.23\",\"x\":14,\"xref\":\"x\",\"y\":4,\"yref\":\"y\"},{\"font\":{\"color\":\"#000000\"},\"showarrow\":false,\"text\":\"0.11\",\"x\":15,\"xref\":\"x\",\"y\":4,\"yref\":\"y\"},{\"font\":{\"color\":\"#000000\"},\"showarrow\":false,\"text\":\"0.02\",\"x\":0,\"xref\":\"x\",\"y\":5,\"yref\":\"y\"},{\"font\":{\"color\":\"#000000\"},\"showarrow\":false,\"text\":\"0.0\",\"x\":1,\"xref\":\"x\",\"y\":5,\"yref\":\"y\"},{\"font\":{\"color\":\"#000000\"},\"showarrow\":false,\"text\":\"0.09\",\"x\":2,\"xref\":\"x\",\"y\":5,\"yref\":\"y\"},{\"font\":{\"color\":\"#000000\"},\"showarrow\":false,\"text\":\"0.0\",\"x\":3,\"xref\":\"x\",\"y\":5,\"yref\":\"y\"},{\"font\":{\"color\":\"#000000\"},\"showarrow\":false,\"text\":\"0.09\",\"x\":4,\"xref\":\"x\",\"y\":5,\"yref\":\"y\"},{\"font\":{\"color\":\"#FFFFFF\"},\"showarrow\":false,\"text\":\"1.0\",\"x\":5,\"xref\":\"x\",\"y\":5,\"yref\":\"y\"},{\"font\":{\"color\":\"#000000\"},\"showarrow\":false,\"text\":\"0.45\",\"x\":6,\"xref\":\"x\",\"y\":5,\"yref\":\"y\"},{\"font\":{\"color\":\"#000000\"},\"showarrow\":false,\"text\":\"0.06\",\"x\":7,\"xref\":\"x\",\"y\":5,\"yref\":\"y\"},{\"font\":{\"color\":\"#000000\"},\"showarrow\":false,\"text\":\"0.03\",\"x\":8,\"xref\":\"x\",\"y\":5,\"yref\":\"y\"},{\"font\":{\"color\":\"#000000\"},\"showarrow\":false,\"text\":\"0.02\",\"x\":9,\"xref\":\"x\",\"y\":5,\"yref\":\"y\"},{\"font\":{\"color\":\"#000000\"},\"showarrow\":false,\"text\":\"0.03\",\"x\":10,\"xref\":\"x\",\"y\":5,\"yref\":\"y\"},{\"font\":{\"color\":\"#000000\"},\"showarrow\":false,\"text\":\"0.12\",\"x\":11,\"xref\":\"x\",\"y\":5,\"yref\":\"y\"},{\"font\":{\"color\":\"#000000\"},\"showarrow\":false,\"text\":\"0.02\",\"x\":12,\"xref\":\"x\",\"y\":5,\"yref\":\"y\"},{\"font\":{\"color\":\"#000000\"},\"showarrow\":false,\"text\":\"0.25\",\"x\":13,\"xref\":\"x\",\"y\":5,\"yref\":\"y\"},{\"font\":{\"color\":\"#000000\"},\"showarrow\":false,\"text\":\"0.29\",\"x\":14,\"xref\":\"x\",\"y\":5,\"yref\":\"y\"},{\"font\":{\"color\":\"#FFFFFF\"},\"showarrow\":false,\"text\":\"0.88\",\"x\":15,\"xref\":\"x\",\"y\":5,\"yref\":\"y\"},{\"font\":{\"color\":\"#000000\"},\"showarrow\":false,\"text\":\"0.0\",\"x\":0,\"xref\":\"x\",\"y\":6,\"yref\":\"y\"},{\"font\":{\"color\":\"#000000\"},\"showarrow\":false,\"text\":\"0.02\",\"x\":1,\"xref\":\"x\",\"y\":6,\"yref\":\"y\"},{\"font\":{\"color\":\"#000000\"},\"showarrow\":false,\"text\":\"0.05\",\"x\":2,\"xref\":\"x\",\"y\":6,\"yref\":\"y\"},{\"font\":{\"color\":\"#000000\"},\"showarrow\":false,\"text\":\"0.0\",\"x\":3,\"xref\":\"x\",\"y\":6,\"yref\":\"y\"},{\"font\":{\"color\":\"#000000\"},\"showarrow\":false,\"text\":\"0.03\",\"x\":4,\"xref\":\"x\",\"y\":6,\"yref\":\"y\"},{\"font\":{\"color\":\"#000000\"},\"showarrow\":false,\"text\":\"0.45\",\"x\":5,\"xref\":\"x\",\"y\":6,\"yref\":\"y\"},{\"font\":{\"color\":\"#FFFFFF\"},\"showarrow\":false,\"text\":\"1.0\",\"x\":6,\"xref\":\"x\",\"y\":6,\"yref\":\"y\"},{\"font\":{\"color\":\"#000000\"},\"showarrow\":false,\"text\":\"0.04\",\"x\":7,\"xref\":\"x\",\"y\":6,\"yref\":\"y\"},{\"font\":{\"color\":\"#000000\"},\"showarrow\":false,\"text\":\"0.02\",\"x\":8,\"xref\":\"x\",\"y\":6,\"yref\":\"y\"},{\"font\":{\"color\":\"#000000\"},\"showarrow\":false,\"text\":\"0.03\",\"x\":9,\"xref\":\"x\",\"y\":6,\"yref\":\"y\"},{\"font\":{\"color\":\"#000000\"},\"showarrow\":false,\"text\":\"0.02\",\"x\":10,\"xref\":\"x\",\"y\":6,\"yref\":\"y\"},{\"font\":{\"color\":\"#000000\"},\"showarrow\":false,\"text\":\"0.04\",\"x\":11,\"xref\":\"x\",\"y\":6,\"yref\":\"y\"},{\"font\":{\"color\":\"#000000\"},\"showarrow\":false,\"text\":\"0.01\",\"x\":12,\"xref\":\"x\",\"y\":6,\"yref\":\"y\"},{\"font\":{\"color\":\"#000000\"},\"showarrow\":false,\"text\":\"0.15\",\"x\":13,\"xref\":\"x\",\"y\":6,\"yref\":\"y\"},{\"font\":{\"color\":\"#000000\"},\"showarrow\":false,\"text\":\"0.18\",\"x\":14,\"xref\":\"x\",\"y\":6,\"yref\":\"y\"},{\"font\":{\"color\":\"#FFFFFF\"},\"showarrow\":false,\"text\":\"0.54\",\"x\":15,\"xref\":\"x\",\"y\":6,\"yref\":\"y\"},{\"font\":{\"color\":\"#FFFFFF\"},\"showarrow\":false,\"text\":\"0.5\",\"x\":0,\"xref\":\"x\",\"y\":7,\"yref\":\"y\"},{\"font\":{\"color\":\"#000000\"},\"showarrow\":false,\"text\":\"0.1\",\"x\":1,\"xref\":\"x\",\"y\":7,\"yref\":\"y\"},{\"font\":{\"color\":\"#000000\"},\"showarrow\":false,\"text\":\"0.05\",\"x\":2,\"xref\":\"x\",\"y\":7,\"yref\":\"y\"},{\"font\":{\"color\":\"#000000\"},\"showarrow\":false,\"text\":\"0.04\",\"x\":3,\"xref\":\"x\",\"y\":7,\"yref\":\"y\"},{\"font\":{\"color\":\"#000000\"},\"showarrow\":false,\"text\":\"0.06\",\"x\":4,\"xref\":\"x\",\"y\":7,\"yref\":\"y\"},{\"font\":{\"color\":\"#000000\"},\"showarrow\":false,\"text\":\"0.06\",\"x\":5,\"xref\":\"x\",\"y\":7,\"yref\":\"y\"},{\"font\":{\"color\":\"#000000\"},\"showarrow\":false,\"text\":\"0.04\",\"x\":6,\"xref\":\"x\",\"y\":7,\"yref\":\"y\"},{\"font\":{\"color\":\"#FFFFFF\"},\"showarrow\":false,\"text\":\"1.0\",\"x\":7,\"xref\":\"x\",\"y\":7,\"yref\":\"y\"},{\"font\":{\"color\":\"#000000\"},\"showarrow\":false,\"text\":\"0.21\",\"x\":8,\"xref\":\"x\",\"y\":7,\"yref\":\"y\"},{\"font\":{\"color\":\"#000000\"},\"showarrow\":false,\"text\":\"0.46\",\"x\":9,\"xref\":\"x\",\"y\":7,\"yref\":\"y\"},{\"font\":{\"color\":\"#000000\"},\"showarrow\":false,\"text\":\"0.04\",\"x\":10,\"xref\":\"x\",\"y\":7,\"yref\":\"y\"},{\"font\":{\"color\":\"#000000\"},\"showarrow\":false,\"text\":\"0.28\",\"x\":11,\"xref\":\"x\",\"y\":7,\"yref\":\"y\"},{\"font\":{\"color\":\"#000000\"},\"showarrow\":false,\"text\":\"0.11\",\"x\":12,\"xref\":\"x\",\"y\":7,\"yref\":\"y\"},{\"font\":{\"color\":\"#000000\"},\"showarrow\":false,\"text\":\"0.15\",\"x\":13,\"xref\":\"x\",\"y\":7,\"yref\":\"y\"},{\"font\":{\"color\":\"#000000\"},\"showarrow\":false,\"text\":\"0.11\",\"x\":14,\"xref\":\"x\",\"y\":7,\"yref\":\"y\"},{\"font\":{\"color\":\"#000000\"},\"showarrow\":false,\"text\":\"0.06\",\"x\":15,\"xref\":\"x\",\"y\":7,\"yref\":\"y\"},{\"font\":{\"color\":\"#000000\"},\"showarrow\":false,\"text\":\"0.43\",\"x\":0,\"xref\":\"x\",\"y\":8,\"yref\":\"y\"},{\"font\":{\"color\":\"#000000\"},\"showarrow\":false,\"text\":\"0.03\",\"x\":1,\"xref\":\"x\",\"y\":8,\"yref\":\"y\"},{\"font\":{\"color\":\"#000000\"},\"showarrow\":false,\"text\":\"0.01\",\"x\":2,\"xref\":\"x\",\"y\":8,\"yref\":\"y\"},{\"font\":{\"color\":\"#000000\"},\"showarrow\":false,\"text\":\"0.02\",\"x\":3,\"xref\":\"x\",\"y\":8,\"yref\":\"y\"},{\"font\":{\"color\":\"#000000\"},\"showarrow\":false,\"text\":\"0.03\",\"x\":4,\"xref\":\"x\",\"y\":8,\"yref\":\"y\"},{\"font\":{\"color\":\"#000000\"},\"showarrow\":false,\"text\":\"0.03\",\"x\":5,\"xref\":\"x\",\"y\":8,\"yref\":\"y\"},{\"font\":{\"color\":\"#000000\"},\"showarrow\":false,\"text\":\"0.02\",\"x\":6,\"xref\":\"x\",\"y\":8,\"yref\":\"y\"},{\"font\":{\"color\":\"#000000\"},\"showarrow\":false,\"text\":\"0.21\",\"x\":7,\"xref\":\"x\",\"y\":8,\"yref\":\"y\"},{\"font\":{\"color\":\"#FFFFFF\"},\"showarrow\":false,\"text\":\"1.0\",\"x\":8,\"xref\":\"x\",\"y\":8,\"yref\":\"y\"},{\"font\":{\"color\":\"#000000\"},\"showarrow\":false,\"text\":\"0.12\",\"x\":9,\"xref\":\"x\",\"y\":8,\"yref\":\"y\"},{\"font\":{\"color\":\"#000000\"},\"showarrow\":false,\"text\":\"0.02\",\"x\":10,\"xref\":\"x\",\"y\":8,\"yref\":\"y\"},{\"font\":{\"color\":\"#000000\"},\"showarrow\":false,\"text\":\"0.02\",\"x\":11,\"xref\":\"x\",\"y\":8,\"yref\":\"y\"},{\"font\":{\"color\":\"#000000\"},\"showarrow\":false,\"text\":\"0.05\",\"x\":12,\"xref\":\"x\",\"y\":8,\"yref\":\"y\"},{\"font\":{\"color\":\"#000000\"},\"showarrow\":false,\"text\":\"0.05\",\"x\":13,\"xref\":\"x\",\"y\":8,\"yref\":\"y\"},{\"font\":{\"color\":\"#000000\"},\"showarrow\":false,\"text\":\"0.07\",\"x\":14,\"xref\":\"x\",\"y\":8,\"yref\":\"y\"},{\"font\":{\"color\":\"#000000\"},\"showarrow\":false,\"text\":\"0.03\",\"x\":15,\"xref\":\"x\",\"y\":8,\"yref\":\"y\"},{\"font\":{\"color\":\"#000000\"},\"showarrow\":false,\"text\":\"0.22\",\"x\":0,\"xref\":\"x\",\"y\":9,\"yref\":\"y\"},{\"font\":{\"color\":\"#000000\"},\"showarrow\":false,\"text\":\"0.09\",\"x\":1,\"xref\":\"x\",\"y\":9,\"yref\":\"y\"},{\"font\":{\"color\":\"#000000\"},\"showarrow\":false,\"text\":\"0.03\",\"x\":2,\"xref\":\"x\",\"y\":9,\"yref\":\"y\"},{\"font\":{\"color\":\"#000000\"},\"showarrow\":false,\"text\":\"0.0\",\"x\":3,\"xref\":\"x\",\"y\":9,\"yref\":\"y\"},{\"font\":{\"color\":\"#000000\"},\"showarrow\":false,\"text\":\"0.02\",\"x\":4,\"xref\":\"x\",\"y\":9,\"yref\":\"y\"},{\"font\":{\"color\":\"#000000\"},\"showarrow\":false,\"text\":\"0.02\",\"x\":5,\"xref\":\"x\",\"y\":9,\"yref\":\"y\"},{\"font\":{\"color\":\"#000000\"},\"showarrow\":false,\"text\":\"0.03\",\"x\":6,\"xref\":\"x\",\"y\":9,\"yref\":\"y\"},{\"font\":{\"color\":\"#000000\"},\"showarrow\":false,\"text\":\"0.46\",\"x\":7,\"xref\":\"x\",\"y\":9,\"yref\":\"y\"},{\"font\":{\"color\":\"#000000\"},\"showarrow\":false,\"text\":\"0.12\",\"x\":8,\"xref\":\"x\",\"y\":9,\"yref\":\"y\"},{\"font\":{\"color\":\"#FFFFFF\"},\"showarrow\":false,\"text\":\"1.0\",\"x\":9,\"xref\":\"x\",\"y\":9,\"yref\":\"y\"},{\"font\":{\"color\":\"#000000\"},\"showarrow\":false,\"text\":\"0.02\",\"x\":10,\"xref\":\"x\",\"y\":9,\"yref\":\"y\"},{\"font\":{\"color\":\"#000000\"},\"showarrow\":false,\"text\":\"0.12\",\"x\":11,\"xref\":\"x\",\"y\":9,\"yref\":\"y\"},{\"font\":{\"color\":\"#000000\"},\"showarrow\":false,\"text\":\"0.08\",\"x\":12,\"xref\":\"x\",\"y\":9,\"yref\":\"y\"},{\"font\":{\"color\":\"#000000\"},\"showarrow\":false,\"text\":\"0.12\",\"x\":13,\"xref\":\"x\",\"y\":9,\"yref\":\"y\"},{\"font\":{\"color\":\"#000000\"},\"showarrow\":false,\"text\":\"0.11\",\"x\":14,\"xref\":\"x\",\"y\":9,\"yref\":\"y\"},{\"font\":{\"color\":\"#000000\"},\"showarrow\":false,\"text\":\"0.04\",\"x\":15,\"xref\":\"x\",\"y\":9,\"yref\":\"y\"},{\"font\":{\"color\":\"#000000\"},\"showarrow\":false,\"text\":\"0.02\",\"x\":0,\"xref\":\"x\",\"y\":10,\"yref\":\"y\"},{\"font\":{\"color\":\"#000000\"},\"showarrow\":false,\"text\":\"0.07\",\"x\":1,\"xref\":\"x\",\"y\":10,\"yref\":\"y\"},{\"font\":{\"color\":\"#000000\"},\"showarrow\":false,\"text\":\"0.01\",\"x\":2,\"xref\":\"x\",\"y\":10,\"yref\":\"y\"},{\"font\":{\"color\":\"#000000\"},\"showarrow\":false,\"text\":\"0.01\",\"x\":3,\"xref\":\"x\",\"y\":10,\"yref\":\"y\"},{\"font\":{\"color\":\"#000000\"},\"showarrow\":false,\"text\":\"0.02\",\"x\":4,\"xref\":\"x\",\"y\":10,\"yref\":\"y\"},{\"font\":{\"color\":\"#000000\"},\"showarrow\":false,\"text\":\"0.03\",\"x\":5,\"xref\":\"x\",\"y\":10,\"yref\":\"y\"},{\"font\":{\"color\":\"#000000\"},\"showarrow\":false,\"text\":\"0.02\",\"x\":6,\"xref\":\"x\",\"y\":10,\"yref\":\"y\"},{\"font\":{\"color\":\"#000000\"},\"showarrow\":false,\"text\":\"0.04\",\"x\":7,\"xref\":\"x\",\"y\":10,\"yref\":\"y\"},{\"font\":{\"color\":\"#000000\"},\"showarrow\":false,\"text\":\"0.02\",\"x\":8,\"xref\":\"x\",\"y\":10,\"yref\":\"y\"},{\"font\":{\"color\":\"#000000\"},\"showarrow\":false,\"text\":\"0.02\",\"x\":9,\"xref\":\"x\",\"y\":10,\"yref\":\"y\"},{\"font\":{\"color\":\"#FFFFFF\"},\"showarrow\":false,\"text\":\"1.0\",\"x\":10,\"xref\":\"x\",\"y\":10,\"yref\":\"y\"},{\"font\":{\"color\":\"#000000\"},\"showarrow\":false,\"text\":\"0.01\",\"x\":11,\"xref\":\"x\",\"y\":10,\"yref\":\"y\"},{\"font\":{\"color\":\"#000000\"},\"showarrow\":false,\"text\":\"0.08\",\"x\":12,\"xref\":\"x\",\"y\":10,\"yref\":\"y\"},{\"font\":{\"color\":\"#000000\"},\"showarrow\":false,\"text\":\"0.02\",\"x\":13,\"xref\":\"x\",\"y\":10,\"yref\":\"y\"},{\"font\":{\"color\":\"#000000\"},\"showarrow\":false,\"text\":\"0.06\",\"x\":14,\"xref\":\"x\",\"y\":10,\"yref\":\"y\"},{\"font\":{\"color\":\"#000000\"},\"showarrow\":false,\"text\":\"0.04\",\"x\":15,\"xref\":\"x\",\"y\":10,\"yref\":\"y\"},{\"font\":{\"color\":\"#000000\"},\"showarrow\":false,\"text\":\"0.19\",\"x\":0,\"xref\":\"x\",\"y\":11,\"yref\":\"y\"},{\"font\":{\"color\":\"#000000\"},\"showarrow\":false,\"text\":\"0.07\",\"x\":1,\"xref\":\"x\",\"y\":11,\"yref\":\"y\"},{\"font\":{\"color\":\"#000000\"},\"showarrow\":false,\"text\":\"0.03\",\"x\":2,\"xref\":\"x\",\"y\":11,\"yref\":\"y\"},{\"font\":{\"color\":\"#000000\"},\"showarrow\":false,\"text\":\"0.01\",\"x\":3,\"xref\":\"x\",\"y\":11,\"yref\":\"y\"},{\"font\":{\"color\":\"#000000\"},\"showarrow\":false,\"text\":\"0.02\",\"x\":4,\"xref\":\"x\",\"y\":11,\"yref\":\"y\"},{\"font\":{\"color\":\"#000000\"},\"showarrow\":false,\"text\":\"0.12\",\"x\":5,\"xref\":\"x\",\"y\":11,\"yref\":\"y\"},{\"font\":{\"color\":\"#000000\"},\"showarrow\":false,\"text\":\"0.04\",\"x\":6,\"xref\":\"x\",\"y\":11,\"yref\":\"y\"},{\"font\":{\"color\":\"#000000\"},\"showarrow\":false,\"text\":\"0.28\",\"x\":7,\"xref\":\"x\",\"y\":11,\"yref\":\"y\"},{\"font\":{\"color\":\"#000000\"},\"showarrow\":false,\"text\":\"0.02\",\"x\":8,\"xref\":\"x\",\"y\":11,\"yref\":\"y\"},{\"font\":{\"color\":\"#000000\"},\"showarrow\":false,\"text\":\"0.12\",\"x\":9,\"xref\":\"x\",\"y\":11,\"yref\":\"y\"},{\"font\":{\"color\":\"#000000\"},\"showarrow\":false,\"text\":\"0.01\",\"x\":10,\"xref\":\"x\",\"y\":11,\"yref\":\"y\"},{\"font\":{\"color\":\"#FFFFFF\"},\"showarrow\":false,\"text\":\"1.0\",\"x\":11,\"xref\":\"x\",\"y\":11,\"yref\":\"y\"},{\"font\":{\"color\":\"#000000\"},\"showarrow\":false,\"text\":\"0.04\",\"x\":12,\"xref\":\"x\",\"y\":11,\"yref\":\"y\"},{\"font\":{\"color\":\"#000000\"},\"showarrow\":false,\"text\":\"0.21\",\"x\":13,\"xref\":\"x\",\"y\":11,\"yref\":\"y\"},{\"font\":{\"color\":\"#FFFFFF\"},\"showarrow\":false,\"text\":\"0.5\",\"x\":14,\"xref\":\"x\",\"y\":11,\"yref\":\"y\"},{\"font\":{\"color\":\"#000000\"},\"showarrow\":false,\"text\":\"0.14\",\"x\":15,\"xref\":\"x\",\"y\":11,\"yref\":\"y\"},{\"font\":{\"color\":\"#000000\"},\"showarrow\":false,\"text\":\"0.02\",\"x\":0,\"xref\":\"x\",\"y\":12,\"yref\":\"y\"},{\"font\":{\"color\":\"#000000\"},\"showarrow\":false,\"text\":\"0.08\",\"x\":1,\"xref\":\"x\",\"y\":12,\"yref\":\"y\"},{\"font\":{\"color\":\"#000000\"},\"showarrow\":false,\"text\":\"0.01\",\"x\":2,\"xref\":\"x\",\"y\":12,\"yref\":\"y\"},{\"font\":{\"color\":\"#000000\"},\"showarrow\":false,\"text\":\"0.01\",\"x\":3,\"xref\":\"x\",\"y\":12,\"yref\":\"y\"},{\"font\":{\"color\":\"#000000\"},\"showarrow\":false,\"text\":\"0.01\",\"x\":4,\"xref\":\"x\",\"y\":12,\"yref\":\"y\"},{\"font\":{\"color\":\"#000000\"},\"showarrow\":false,\"text\":\"0.02\",\"x\":5,\"xref\":\"x\",\"y\":12,\"yref\":\"y\"},{\"font\":{\"color\":\"#000000\"},\"showarrow\":false,\"text\":\"0.01\",\"x\":6,\"xref\":\"x\",\"y\":12,\"yref\":\"y\"},{\"font\":{\"color\":\"#000000\"},\"showarrow\":false,\"text\":\"0.11\",\"x\":7,\"xref\":\"x\",\"y\":12,\"yref\":\"y\"},{\"font\":{\"color\":\"#000000\"},\"showarrow\":false,\"text\":\"0.05\",\"x\":8,\"xref\":\"x\",\"y\":12,\"yref\":\"y\"},{\"font\":{\"color\":\"#000000\"},\"showarrow\":false,\"text\":\"0.08\",\"x\":9,\"xref\":\"x\",\"y\":12,\"yref\":\"y\"},{\"font\":{\"color\":\"#000000\"},\"showarrow\":false,\"text\":\"0.08\",\"x\":10,\"xref\":\"x\",\"y\":12,\"yref\":\"y\"},{\"font\":{\"color\":\"#000000\"},\"showarrow\":false,\"text\":\"0.04\",\"x\":11,\"xref\":\"x\",\"y\":12,\"yref\":\"y\"},{\"font\":{\"color\":\"#FFFFFF\"},\"showarrow\":false,\"text\":\"1.0\",\"x\":12,\"xref\":\"x\",\"y\":12,\"yref\":\"y\"},{\"font\":{\"color\":\"#000000\"},\"showarrow\":false,\"text\":\"0.02\",\"x\":13,\"xref\":\"x\",\"y\":12,\"yref\":\"y\"},{\"font\":{\"color\":\"#000000\"},\"showarrow\":false,\"text\":\"0.18\",\"x\":14,\"xref\":\"x\",\"y\":12,\"yref\":\"y\"},{\"font\":{\"color\":\"#000000\"},\"showarrow\":false,\"text\":\"0.06\",\"x\":15,\"xref\":\"x\",\"y\":12,\"yref\":\"y\"},{\"font\":{\"color\":\"#000000\"},\"showarrow\":false,\"text\":\"0.17\",\"x\":0,\"xref\":\"x\",\"y\":13,\"yref\":\"y\"},{\"font\":{\"color\":\"#000000\"},\"showarrow\":false,\"text\":\"0.05\",\"x\":1,\"xref\":\"x\",\"y\":13,\"yref\":\"y\"},{\"font\":{\"color\":\"#000000\"},\"showarrow\":false,\"text\":\"0.04\",\"x\":2,\"xref\":\"x\",\"y\":13,\"yref\":\"y\"},{\"font\":{\"color\":\"#000000\"},\"showarrow\":false,\"text\":\"0.03\",\"x\":3,\"xref\":\"x\",\"y\":13,\"yref\":\"y\"},{\"font\":{\"color\":\"#000000\"},\"showarrow\":false,\"text\":\"0.06\",\"x\":4,\"xref\":\"x\",\"y\":13,\"yref\":\"y\"},{\"font\":{\"color\":\"#000000\"},\"showarrow\":false,\"text\":\"0.25\",\"x\":5,\"xref\":\"x\",\"y\":13,\"yref\":\"y\"},{\"font\":{\"color\":\"#000000\"},\"showarrow\":false,\"text\":\"0.15\",\"x\":6,\"xref\":\"x\",\"y\":13,\"yref\":\"y\"},{\"font\":{\"color\":\"#000000\"},\"showarrow\":false,\"text\":\"0.15\",\"x\":7,\"xref\":\"x\",\"y\":13,\"yref\":\"y\"},{\"font\":{\"color\":\"#000000\"},\"showarrow\":false,\"text\":\"0.05\",\"x\":8,\"xref\":\"x\",\"y\":13,\"yref\":\"y\"},{\"font\":{\"color\":\"#000000\"},\"showarrow\":false,\"text\":\"0.12\",\"x\":9,\"xref\":\"x\",\"y\":13,\"yref\":\"y\"},{\"font\":{\"color\":\"#000000\"},\"showarrow\":false,\"text\":\"0.02\",\"x\":10,\"xref\":\"x\",\"y\":13,\"yref\":\"y\"},{\"font\":{\"color\":\"#000000\"},\"showarrow\":false,\"text\":\"0.21\",\"x\":11,\"xref\":\"x\",\"y\":13,\"yref\":\"y\"},{\"font\":{\"color\":\"#000000\"},\"showarrow\":false,\"text\":\"0.02\",\"x\":12,\"xref\":\"x\",\"y\":13,\"yref\":\"y\"},{\"font\":{\"color\":\"#FFFFFF\"},\"showarrow\":false,\"text\":\"1.0\",\"x\":13,\"xref\":\"x\",\"y\":13,\"yref\":\"y\"},{\"font\":{\"color\":\"#FFFFFF\"},\"showarrow\":false,\"text\":\"0.51\",\"x\":14,\"xref\":\"x\",\"y\":13,\"yref\":\"y\"},{\"font\":{\"color\":\"#000000\"},\"showarrow\":false,\"text\":\"0.21\",\"x\":15,\"xref\":\"x\",\"y\":13,\"yref\":\"y\"},{\"font\":{\"color\":\"#000000\"},\"showarrow\":false,\"text\":\"0.16\",\"x\":0,\"xref\":\"x\",\"y\":14,\"yref\":\"y\"},{\"font\":{\"color\":\"#000000\"},\"showarrow\":false,\"text\":\"0.16\",\"x\":1,\"xref\":\"x\",\"y\":14,\"yref\":\"y\"},{\"font\":{\"color\":\"#000000\"},\"showarrow\":false,\"text\":\"0.45\",\"x\":2,\"xref\":\"x\",\"y\":14,\"yref\":\"y\"},{\"font\":{\"color\":\"#000000\"},\"showarrow\":false,\"text\":\"0.07\",\"x\":3,\"xref\":\"x\",\"y\":14,\"yref\":\"y\"},{\"font\":{\"color\":\"#000000\"},\"showarrow\":false,\"text\":\"0.23\",\"x\":4,\"xref\":\"x\",\"y\":14,\"yref\":\"y\"},{\"font\":{\"color\":\"#000000\"},\"showarrow\":false,\"text\":\"0.29\",\"x\":5,\"xref\":\"x\",\"y\":14,\"yref\":\"y\"},{\"font\":{\"color\":\"#000000\"},\"showarrow\":false,\"text\":\"0.18\",\"x\":6,\"xref\":\"x\",\"y\":14,\"yref\":\"y\"},{\"font\":{\"color\":\"#000000\"},\"showarrow\":false,\"text\":\"0.11\",\"x\":7,\"xref\":\"x\",\"y\":14,\"yref\":\"y\"},{\"font\":{\"color\":\"#000000\"},\"showarrow\":false,\"text\":\"0.07\",\"x\":8,\"xref\":\"x\",\"y\":14,\"yref\":\"y\"},{\"font\":{\"color\":\"#000000\"},\"showarrow\":false,\"text\":\"0.11\",\"x\":9,\"xref\":\"x\",\"y\":14,\"yref\":\"y\"},{\"font\":{\"color\":\"#000000\"},\"showarrow\":false,\"text\":\"0.06\",\"x\":10,\"xref\":\"x\",\"y\":14,\"yref\":\"y\"},{\"font\":{\"color\":\"#FFFFFF\"},\"showarrow\":false,\"text\":\"0.5\",\"x\":11,\"xref\":\"x\",\"y\":14,\"yref\":\"y\"},{\"font\":{\"color\":\"#000000\"},\"showarrow\":false,\"text\":\"0.18\",\"x\":12,\"xref\":\"x\",\"y\":14,\"yref\":\"y\"},{\"font\":{\"color\":\"#FFFFFF\"},\"showarrow\":false,\"text\":\"0.51\",\"x\":13,\"xref\":\"x\",\"y\":14,\"yref\":\"y\"},{\"font\":{\"color\":\"#FFFFFF\"},\"showarrow\":false,\"text\":\"1.0\",\"x\":14,\"xref\":\"x\",\"y\":14,\"yref\":\"y\"},{\"font\":{\"color\":\"#000000\"},\"showarrow\":false,\"text\":\"0.21\",\"x\":15,\"xref\":\"x\",\"y\":14,\"yref\":\"y\"},{\"font\":{\"color\":\"#000000\"},\"showarrow\":false,\"text\":\"0.04\",\"x\":0,\"xref\":\"x\",\"y\":15,\"yref\":\"y\"},{\"font\":{\"color\":\"#000000\"},\"showarrow\":false,\"text\":\"0.04\",\"x\":1,\"xref\":\"x\",\"y\":15,\"yref\":\"y\"},{\"font\":{\"color\":\"#000000\"},\"showarrow\":false,\"text\":\"0.09\",\"x\":2,\"xref\":\"x\",\"y\":15,\"yref\":\"y\"},{\"font\":{\"color\":\"#000000\"},\"showarrow\":false,\"text\":\"0.05\",\"x\":3,\"xref\":\"x\",\"y\":15,\"yref\":\"y\"},{\"font\":{\"color\":\"#000000\"},\"showarrow\":false,\"text\":\"0.11\",\"x\":4,\"xref\":\"x\",\"y\":15,\"yref\":\"y\"},{\"font\":{\"color\":\"#FFFFFF\"},\"showarrow\":false,\"text\":\"0.88\",\"x\":5,\"xref\":\"x\",\"y\":15,\"yref\":\"y\"},{\"font\":{\"color\":\"#FFFFFF\"},\"showarrow\":false,\"text\":\"0.54\",\"x\":6,\"xref\":\"x\",\"y\":15,\"yref\":\"y\"},{\"font\":{\"color\":\"#000000\"},\"showarrow\":false,\"text\":\"0.06\",\"x\":7,\"xref\":\"x\",\"y\":15,\"yref\":\"y\"},{\"font\":{\"color\":\"#000000\"},\"showarrow\":false,\"text\":\"0.03\",\"x\":8,\"xref\":\"x\",\"y\":15,\"yref\":\"y\"},{\"font\":{\"color\":\"#000000\"},\"showarrow\":false,\"text\":\"0.04\",\"x\":9,\"xref\":\"x\",\"y\":15,\"yref\":\"y\"},{\"font\":{\"color\":\"#000000\"},\"showarrow\":false,\"text\":\"0.04\",\"x\":10,\"xref\":\"x\",\"y\":15,\"yref\":\"y\"},{\"font\":{\"color\":\"#000000\"},\"showarrow\":false,\"text\":\"0.14\",\"x\":11,\"xref\":\"x\",\"y\":15,\"yref\":\"y\"},{\"font\":{\"color\":\"#000000\"},\"showarrow\":false,\"text\":\"0.06\",\"x\":12,\"xref\":\"x\",\"y\":15,\"yref\":\"y\"},{\"font\":{\"color\":\"#000000\"},\"showarrow\":false,\"text\":\"0.21\",\"x\":13,\"xref\":\"x\",\"y\":15,\"yref\":\"y\"},{\"font\":{\"color\":\"#000000\"},\"showarrow\":false,\"text\":\"0.21\",\"x\":14,\"xref\":\"x\",\"y\":15,\"yref\":\"y\"},{\"font\":{\"color\":\"#FFFFFF\"},\"showarrow\":false,\"text\":\"1.0\",\"x\":15,\"xref\":\"x\",\"y\":15,\"yref\":\"y\"}],\"paper_bgcolor\":\"rgba(0,0,0,0)\",\"plot_bgcolor\":\"rgba(238,238,238,1)\",\"updatemenus\":[{\"active\":0,\"bgcolor\":\"rgba(255,255,255,1)\",\"buttons\":[{\"args\":[{\"shapes\":[]}],\"label\":\"None\",\"method\":\"relayout\"},{\"args\":[{\"shapes\":[{\"type\":\"rect\",\"x0\":-0.5,\"y0\":-0.5,\"x1\":6.5,\"y1\":6.5,\"line\":{\"color\":\"blue\",\"width\":4},\"layer\":\"above\"}]}],\"label\":\"numeric-numeric\",\"method\":\"relayout\"},{\"args\":[{\"shapes\":[{\"type\":\"rect\",\"x0\":-0.5,\"y0\":6.5,\"x1\":6.5,\"y1\":15.5,\"line\":{\"color\":\"blue\",\"width\":4},\"layer\":\"above\"}]}],\"label\":\"categorical-numeric\",\"method\":\"relayout\"},{\"args\":[{\"shapes\":[{\"type\":\"rect\",\"x0\":6.5,\"y0\":-0.5,\"x1\":15.5,\"y1\":6.5,\"line\":{\"color\":\"blue\",\"width\":4},\"layer\":\"above\"}]}],\"label\":\"numeric-categorical\",\"method\":\"relayout\"},{\"args\":[{\"shapes\":[{\"type\":\"rect\",\"x0\":6.5,\"y0\":6.5,\"x1\":15.5,\"y1\":15.5,\"line\":{\"color\":\"blue\",\"width\":4},\"layer\":\"above\"}]}],\"label\":\"categorical-categorical\",\"method\":\"relayout\"}],\"direction\":\"down\",\"pad\":{\"l\":-60,\"r\":0,\"t\":-50},\"type\":\"dropdown\",\"x\":0.1,\"xanchor\":\"left\",\"y\":1,\"yanchor\":\"top\"},{\"active\":0,\"bgcolor\":\"rgba(255,255,255,1)\",\"buttons\":[{\"args\":[{\"annotations\":[{\"font\":{\"color\":\"#FFFFFF\"},\"showarrow\":false,\"text\":\"1.0\",\"x\":0,\"xref\":\"x\",\"y\":0,\"yref\":\"y\"},{\"font\":{\"color\":\"#000000\"},\"showarrow\":false,\"text\":\"0.1\",\"x\":1,\"xref\":\"x\",\"y\":0,\"yref\":\"y\"},{\"font\":{\"color\":\"#000000\"},\"showarrow\":false,\"text\":\"0.01\",\"x\":2,\"xref\":\"x\",\"y\":0,\"yref\":\"y\"},{\"font\":{\"color\":\"#000000\"},\"showarrow\":false,\"text\":\"0.0\",\"x\":3,\"xref\":\"x\",\"y\":0,\"yref\":\"y\"},{\"font\":{\"color\":\"#000000\"},\"showarrow\":false,\"text\":\"0.0\",\"x\":4,\"xref\":\"x\",\"y\":0,\"yref\":\"y\"},{\"font\":{\"color\":\"#000000\"},\"showarrow\":false,\"text\":\"0.02\",\"x\":5,\"xref\":\"x\",\"y\":0,\"yref\":\"y\"},{\"font\":{\"color\":\"#000000\"},\"showarrow\":false,\"text\":\"0.0\",\"x\":6,\"xref\":\"x\",\"y\":0,\"yref\":\"y\"},{\"font\":{\"color\":\"#FFFFFF\"},\"showarrow\":false,\"text\":\"0.5\",\"x\":7,\"xref\":\"x\",\"y\":0,\"yref\":\"y\"},{\"font\":{\"color\":\"#000000\"},\"showarrow\":false,\"text\":\"0.43\",\"x\":8,\"xref\":\"x\",\"y\":0,\"yref\":\"y\"},{\"font\":{\"color\":\"#000000\"},\"showarrow\":false,\"text\":\"0.22\",\"x\":9,\"xref\":\"x\",\"y\":0,\"yref\":\"y\"},{\"font\":{\"color\":\"#000000\"},\"showarrow\":false,\"text\":\"0.02\",\"x\":10,\"xref\":\"x\",\"y\":0,\"yref\":\"y\"},{\"font\":{\"color\":\"#000000\"},\"showarrow\":false,\"text\":\"0.19\",\"x\":11,\"xref\":\"x\",\"y\":0,\"yref\":\"y\"},{\"font\":{\"color\":\"#000000\"},\"showarrow\":false,\"text\":\"0.02\",\"x\":12,\"xref\":\"x\",\"y\":0,\"yref\":\"y\"},{\"font\":{\"color\":\"#000000\"},\"showarrow\":false,\"text\":\"0.17\",\"x\":13,\"xref\":\"x\",\"y\":0,\"yref\":\"y\"},{\"font\":{\"color\":\"#000000\"},\"showarrow\":false,\"text\":\"0.16\",\"x\":14,\"xref\":\"x\",\"y\":0,\"yref\":\"y\"},{\"font\":{\"color\":\"#000000\"},\"showarrow\":false,\"text\":\"0.04\",\"x\":15,\"xref\":\"x\",\"y\":0,\"yref\":\"y\"},{\"font\":{\"color\":\"#000000\"},\"showarrow\":false,\"text\":\"0.1\",\"x\":0,\"xref\":\"x\",\"y\":1,\"yref\":\"y\"},{\"font\":{\"color\":\"#FFFFFF\"},\"showarrow\":false,\"text\":\"1.0\",\"x\":1,\"xref\":\"x\",\"y\":1,\"yref\":\"y\"},{\"font\":{\"color\":\"#000000\"},\"showarrow\":false,\"text\":\"0.0\",\"x\":2,\"xref\":\"x\",\"y\":1,\"yref\":\"y\"},{\"font\":{\"color\":\"#000000\"},\"showarrow\":false,\"text\":\"0.02\",\"x\":3,\"xref\":\"x\",\"y\":1,\"yref\":\"y\"},{\"font\":{\"color\":\"#000000\"},\"showarrow\":false,\"text\":\"0.01\",\"x\":4,\"xref\":\"x\",\"y\":1,\"yref\":\"y\"},{\"font\":{\"color\":\"#000000\"},\"showarrow\":false,\"text\":\"0.0\",\"x\":5,\"xref\":\"x\",\"y\":1,\"yref\":\"y\"},{\"font\":{\"color\":\"#000000\"},\"showarrow\":false,\"text\":\"0.02\",\"x\":6,\"xref\":\"x\",\"y\":1,\"yref\":\"y\"},{\"font\":{\"color\":\"#000000\"},\"showarrow\":false,\"text\":\"0.1\",\"x\":7,\"xref\":\"x\",\"y\":1,\"yref\":\"y\"},{\"font\":{\"color\":\"#000000\"},\"showarrow\":false,\"text\":\"0.03\",\"x\":8,\"xref\":\"x\",\"y\":1,\"yref\":\"y\"},{\"font\":{\"color\":\"#000000\"},\"showarrow\":false,\"text\":\"0.09\",\"x\":9,\"xref\":\"x\",\"y\":1,\"yref\":\"y\"},{\"font\":{\"color\":\"#000000\"},\"showarrow\":false,\"text\":\"0.07\",\"x\":10,\"xref\":\"x\",\"y\":1,\"yref\":\"y\"},{\"font\":{\"color\":\"#000000\"},\"showarrow\":false,\"text\":\"0.07\",\"x\":11,\"xref\":\"x\",\"y\":1,\"yref\":\"y\"},{\"font\":{\"color\":\"#000000\"},\"showarrow\":false,\"text\":\"0.08\",\"x\":12,\"xref\":\"x\",\"y\":1,\"yref\":\"y\"},{\"font\":{\"color\":\"#000000\"},\"showarrow\":false,\"text\":\"0.05\",\"x\":13,\"xref\":\"x\",\"y\":1,\"yref\":\"y\"},{\"font\":{\"color\":\"#000000\"},\"showarrow\":false,\"text\":\"0.16\",\"x\":14,\"xref\":\"x\",\"y\":1,\"yref\":\"y\"},{\"font\":{\"color\":\"#000000\"},\"showarrow\":false,\"text\":\"0.04\",\"x\":15,\"xref\":\"x\",\"y\":1,\"yref\":\"y\"},{\"font\":{\"color\":\"#000000\"},\"showarrow\":false,\"text\":\"0.01\",\"x\":0,\"xref\":\"x\",\"y\":2,\"yref\":\"y\"},{\"font\":{\"color\":\"#000000\"},\"showarrow\":false,\"text\":\"0.0\",\"x\":1,\"xref\":\"x\",\"y\":2,\"yref\":\"y\"},{\"font\":{\"color\":\"#FFFFFF\"},\"showarrow\":false,\"text\":\"1.0\",\"x\":2,\"xref\":\"x\",\"y\":2,\"yref\":\"y\"},{\"font\":{\"color\":\"#000000\"},\"showarrow\":false,\"text\":\"0.03\",\"x\":3,\"xref\":\"x\",\"y\":2,\"yref\":\"y\"},{\"font\":{\"color\":\"#000000\"},\"showarrow\":false,\"text\":\"0.16\",\"x\":4,\"xref\":\"x\",\"y\":2,\"yref\":\"y\"},{\"font\":{\"color\":\"#000000\"},\"showarrow\":false,\"text\":\"0.09\",\"x\":5,\"xref\":\"x\",\"y\":2,\"yref\":\"y\"},{\"font\":{\"color\":\"#000000\"},\"showarrow\":false,\"text\":\"0.05\",\"x\":6,\"xref\":\"x\",\"y\":2,\"yref\":\"y\"},{\"font\":{\"color\":\"#000000\"},\"showarrow\":false,\"text\":\"0.05\",\"x\":7,\"xref\":\"x\",\"y\":2,\"yref\":\"y\"},{\"font\":{\"color\":\"#000000\"},\"showarrow\":false,\"text\":\"0.01\",\"x\":8,\"xref\":\"x\",\"y\":2,\"yref\":\"y\"},{\"font\":{\"color\":\"#000000\"},\"showarrow\":false,\"text\":\"0.03\",\"x\":9,\"xref\":\"x\",\"y\":2,\"yref\":\"y\"},{\"font\":{\"color\":\"#000000\"},\"showarrow\":false,\"text\":\"0.01\",\"x\":10,\"xref\":\"x\",\"y\":2,\"yref\":\"y\"},{\"font\":{\"color\":\"#000000\"},\"showarrow\":false,\"text\":\"0.03\",\"x\":11,\"xref\":\"x\",\"y\":2,\"yref\":\"y\"},{\"font\":{\"color\":\"#000000\"},\"showarrow\":false,\"text\":\"0.01\",\"x\":12,\"xref\":\"x\",\"y\":2,\"yref\":\"y\"},{\"font\":{\"color\":\"#000000\"},\"showarrow\":false,\"text\":\"0.04\",\"x\":13,\"xref\":\"x\",\"y\":2,\"yref\":\"y\"},{\"font\":{\"color\":\"#000000\"},\"showarrow\":false,\"text\":\"0.45\",\"x\":14,\"xref\":\"x\",\"y\":2,\"yref\":\"y\"},{\"font\":{\"color\":\"#000000\"},\"showarrow\":false,\"text\":\"0.09\",\"x\":15,\"xref\":\"x\",\"y\":2,\"yref\":\"y\"},{\"font\":{\"color\":\"#000000\"},\"showarrow\":false,\"text\":\"0.0\",\"x\":0,\"xref\":\"x\",\"y\":3,\"yref\":\"y\"},{\"font\":{\"color\":\"#000000\"},\"showarrow\":false,\"text\":\"0.02\",\"x\":1,\"xref\":\"x\",\"y\":3,\"yref\":\"y\"},{\"font\":{\"color\":\"#000000\"},\"showarrow\":false,\"text\":\"0.03\",\"x\":2,\"xref\":\"x\",\"y\":3,\"yref\":\"y\"},{\"font\":{\"color\":\"#FFFFFF\"},\"showarrow\":false,\"text\":\"1.0\",\"x\":3,\"xref\":\"x\",\"y\":3,\"yref\":\"y\"},{\"font\":{\"color\":\"#000000\"},\"showarrow\":false,\"text\":\"0.08\",\"x\":4,\"xref\":\"x\",\"y\":3,\"yref\":\"y\"},{\"font\":{\"color\":\"#000000\"},\"showarrow\":false,\"text\":\"0.0\",\"x\":5,\"xref\":\"x\",\"y\":3,\"yref\":\"y\"},{\"font\":{\"color\":\"#000000\"},\"showarrow\":false,\"text\":\"0.0\",\"x\":6,\"xref\":\"x\",\"y\":3,\"yref\":\"y\"},{\"font\":{\"color\":\"#000000\"},\"showarrow\":false,\"text\":\"0.04\",\"x\":7,\"xref\":\"x\",\"y\":3,\"yref\":\"y\"},{\"font\":{\"color\":\"#000000\"},\"showarrow\":false,\"text\":\"0.02\",\"x\":8,\"xref\":\"x\",\"y\":3,\"yref\":\"y\"},{\"font\":{\"color\":\"#000000\"},\"showarrow\":false,\"text\":\"0.0\",\"x\":9,\"xref\":\"x\",\"y\":3,\"yref\":\"y\"},{\"font\":{\"color\":\"#000000\"},\"showarrow\":false,\"text\":\"0.01\",\"x\":10,\"xref\":\"x\",\"y\":3,\"yref\":\"y\"},{\"font\":{\"color\":\"#000000\"},\"showarrow\":false,\"text\":\"0.01\",\"x\":11,\"xref\":\"x\",\"y\":3,\"yref\":\"y\"},{\"font\":{\"color\":\"#000000\"},\"showarrow\":false,\"text\":\"0.01\",\"x\":12,\"xref\":\"x\",\"y\":3,\"yref\":\"y\"},{\"font\":{\"color\":\"#000000\"},\"showarrow\":false,\"text\":\"0.03\",\"x\":13,\"xref\":\"x\",\"y\":3,\"yref\":\"y\"},{\"font\":{\"color\":\"#000000\"},\"showarrow\":false,\"text\":\"0.07\",\"x\":14,\"xref\":\"x\",\"y\":3,\"yref\":\"y\"},{\"font\":{\"color\":\"#000000\"},\"showarrow\":false,\"text\":\"0.05\",\"x\":15,\"xref\":\"x\",\"y\":3,\"yref\":\"y\"},{\"font\":{\"color\":\"#000000\"},\"showarrow\":false,\"text\":\"0.0\",\"x\":0,\"xref\":\"x\",\"y\":4,\"yref\":\"y\"},{\"font\":{\"color\":\"#000000\"},\"showarrow\":false,\"text\":\"0.01\",\"x\":1,\"xref\":\"x\",\"y\":4,\"yref\":\"y\"},{\"font\":{\"color\":\"#000000\"},\"showarrow\":false,\"text\":\"0.16\",\"x\":2,\"xref\":\"x\",\"y\":4,\"yref\":\"y\"},{\"font\":{\"color\":\"#000000\"},\"showarrow\":false,\"text\":\"0.08\",\"x\":3,\"xref\":\"x\",\"y\":4,\"yref\":\"y\"},{\"font\":{\"color\":\"#FFFFFF\"},\"showarrow\":false,\"text\":\"1.0\",\"x\":4,\"xref\":\"x\",\"y\":4,\"yref\":\"y\"},{\"font\":{\"color\":\"#000000\"},\"showarrow\":false,\"text\":\"0.09\",\"x\":5,\"xref\":\"x\",\"y\":4,\"yref\":\"y\"},{\"font\":{\"color\":\"#000000\"},\"showarrow\":false,\"text\":\"0.03\",\"x\":6,\"xref\":\"x\",\"y\":4,\"yref\":\"y\"},{\"font\":{\"color\":\"#000000\"},\"showarrow\":false,\"text\":\"0.06\",\"x\":7,\"xref\":\"x\",\"y\":4,\"yref\":\"y\"},{\"font\":{\"color\":\"#000000\"},\"showarrow\":false,\"text\":\"0.03\",\"x\":8,\"xref\":\"x\",\"y\":4,\"yref\":\"y\"},{\"font\":{\"color\":\"#000000\"},\"showarrow\":false,\"text\":\"0.02\",\"x\":9,\"xref\":\"x\",\"y\":4,\"yref\":\"y\"},{\"font\":{\"color\":\"#000000\"},\"showarrow\":false,\"text\":\"0.02\",\"x\":10,\"xref\":\"x\",\"y\":4,\"yref\":\"y\"},{\"font\":{\"color\":\"#000000\"},\"showarrow\":false,\"text\":\"0.02\",\"x\":11,\"xref\":\"x\",\"y\":4,\"yref\":\"y\"},{\"font\":{\"color\":\"#000000\"},\"showarrow\":false,\"text\":\"0.01\",\"x\":12,\"xref\":\"x\",\"y\":4,\"yref\":\"y\"},{\"font\":{\"color\":\"#000000\"},\"showarrow\":false,\"text\":\"0.06\",\"x\":13,\"xref\":\"x\",\"y\":4,\"yref\":\"y\"},{\"font\":{\"color\":\"#000000\"},\"showarrow\":false,\"text\":\"0.23\",\"x\":14,\"xref\":\"x\",\"y\":4,\"yref\":\"y\"},{\"font\":{\"color\":\"#000000\"},\"showarrow\":false,\"text\":\"0.11\",\"x\":15,\"xref\":\"x\",\"y\":4,\"yref\":\"y\"},{\"font\":{\"color\":\"#000000\"},\"showarrow\":false,\"text\":\"0.02\",\"x\":0,\"xref\":\"x\",\"y\":5,\"yref\":\"y\"},{\"font\":{\"color\":\"#000000\"},\"showarrow\":false,\"text\":\"0.0\",\"x\":1,\"xref\":\"x\",\"y\":5,\"yref\":\"y\"},{\"font\":{\"color\":\"#000000\"},\"showarrow\":false,\"text\":\"0.09\",\"x\":2,\"xref\":\"x\",\"y\":5,\"yref\":\"y\"},{\"font\":{\"color\":\"#000000\"},\"showarrow\":false,\"text\":\"0.0\",\"x\":3,\"xref\":\"x\",\"y\":5,\"yref\":\"y\"},{\"font\":{\"color\":\"#000000\"},\"showarrow\":false,\"text\":\"0.09\",\"x\":4,\"xref\":\"x\",\"y\":5,\"yref\":\"y\"},{\"font\":{\"color\":\"#FFFFFF\"},\"showarrow\":false,\"text\":\"1.0\",\"x\":5,\"xref\":\"x\",\"y\":5,\"yref\":\"y\"},{\"font\":{\"color\":\"#000000\"},\"showarrow\":false,\"text\":\"0.45\",\"x\":6,\"xref\":\"x\",\"y\":5,\"yref\":\"y\"},{\"font\":{\"color\":\"#000000\"},\"showarrow\":false,\"text\":\"0.06\",\"x\":7,\"xref\":\"x\",\"y\":5,\"yref\":\"y\"},{\"font\":{\"color\":\"#000000\"},\"showarrow\":false,\"text\":\"0.03\",\"x\":8,\"xref\":\"x\",\"y\":5,\"yref\":\"y\"},{\"font\":{\"color\":\"#000000\"},\"showarrow\":false,\"text\":\"0.02\",\"x\":9,\"xref\":\"x\",\"y\":5,\"yref\":\"y\"},{\"font\":{\"color\":\"#000000\"},\"showarrow\":false,\"text\":\"0.03\",\"x\":10,\"xref\":\"x\",\"y\":5,\"yref\":\"y\"},{\"font\":{\"color\":\"#000000\"},\"showarrow\":false,\"text\":\"0.12\",\"x\":11,\"xref\":\"x\",\"y\":5,\"yref\":\"y\"},{\"font\":{\"color\":\"#000000\"},\"showarrow\":false,\"text\":\"0.02\",\"x\":12,\"xref\":\"x\",\"y\":5,\"yref\":\"y\"},{\"font\":{\"color\":\"#000000\"},\"showarrow\":false,\"text\":\"0.25\",\"x\":13,\"xref\":\"x\",\"y\":5,\"yref\":\"y\"},{\"font\":{\"color\":\"#000000\"},\"showarrow\":false,\"text\":\"0.29\",\"x\":14,\"xref\":\"x\",\"y\":5,\"yref\":\"y\"},{\"font\":{\"color\":\"#FFFFFF\"},\"showarrow\":false,\"text\":\"0.88\",\"x\":15,\"xref\":\"x\",\"y\":5,\"yref\":\"y\"},{\"font\":{\"color\":\"#000000\"},\"showarrow\":false,\"text\":\"0.0\",\"x\":0,\"xref\":\"x\",\"y\":6,\"yref\":\"y\"},{\"font\":{\"color\":\"#000000\"},\"showarrow\":false,\"text\":\"0.02\",\"x\":1,\"xref\":\"x\",\"y\":6,\"yref\":\"y\"},{\"font\":{\"color\":\"#000000\"},\"showarrow\":false,\"text\":\"0.05\",\"x\":2,\"xref\":\"x\",\"y\":6,\"yref\":\"y\"},{\"font\":{\"color\":\"#000000\"},\"showarrow\":false,\"text\":\"0.0\",\"x\":3,\"xref\":\"x\",\"y\":6,\"yref\":\"y\"},{\"font\":{\"color\":\"#000000\"},\"showarrow\":false,\"text\":\"0.03\",\"x\":4,\"xref\":\"x\",\"y\":6,\"yref\":\"y\"},{\"font\":{\"color\":\"#000000\"},\"showarrow\":false,\"text\":\"0.45\",\"x\":5,\"xref\":\"x\",\"y\":6,\"yref\":\"y\"},{\"font\":{\"color\":\"#FFFFFF\"},\"showarrow\":false,\"text\":\"1.0\",\"x\":6,\"xref\":\"x\",\"y\":6,\"yref\":\"y\"},{\"font\":{\"color\":\"#000000\"},\"showarrow\":false,\"text\":\"0.04\",\"x\":7,\"xref\":\"x\",\"y\":6,\"yref\":\"y\"},{\"font\":{\"color\":\"#000000\"},\"showarrow\":false,\"text\":\"0.02\",\"x\":8,\"xref\":\"x\",\"y\":6,\"yref\":\"y\"},{\"font\":{\"color\":\"#000000\"},\"showarrow\":false,\"text\":\"0.03\",\"x\":9,\"xref\":\"x\",\"y\":6,\"yref\":\"y\"},{\"font\":{\"color\":\"#000000\"},\"showarrow\":false,\"text\":\"0.02\",\"x\":10,\"xref\":\"x\",\"y\":6,\"yref\":\"y\"},{\"font\":{\"color\":\"#000000\"},\"showarrow\":false,\"text\":\"0.04\",\"x\":11,\"xref\":\"x\",\"y\":6,\"yref\":\"y\"},{\"font\":{\"color\":\"#000000\"},\"showarrow\":false,\"text\":\"0.01\",\"x\":12,\"xref\":\"x\",\"y\":6,\"yref\":\"y\"},{\"font\":{\"color\":\"#000000\"},\"showarrow\":false,\"text\":\"0.15\",\"x\":13,\"xref\":\"x\",\"y\":6,\"yref\":\"y\"},{\"font\":{\"color\":\"#000000\"},\"showarrow\":false,\"text\":\"0.18\",\"x\":14,\"xref\":\"x\",\"y\":6,\"yref\":\"y\"},{\"font\":{\"color\":\"#FFFFFF\"},\"showarrow\":false,\"text\":\"0.54\",\"x\":15,\"xref\":\"x\",\"y\":6,\"yref\":\"y\"},{\"font\":{\"color\":\"#FFFFFF\"},\"showarrow\":false,\"text\":\"0.5\",\"x\":0,\"xref\":\"x\",\"y\":7,\"yref\":\"y\"},{\"font\":{\"color\":\"#000000\"},\"showarrow\":false,\"text\":\"0.1\",\"x\":1,\"xref\":\"x\",\"y\":7,\"yref\":\"y\"},{\"font\":{\"color\":\"#000000\"},\"showarrow\":false,\"text\":\"0.05\",\"x\":2,\"xref\":\"x\",\"y\":7,\"yref\":\"y\"},{\"font\":{\"color\":\"#000000\"},\"showarrow\":false,\"text\":\"0.04\",\"x\":3,\"xref\":\"x\",\"y\":7,\"yref\":\"y\"},{\"font\":{\"color\":\"#000000\"},\"showarrow\":false,\"text\":\"0.06\",\"x\":4,\"xref\":\"x\",\"y\":7,\"yref\":\"y\"},{\"font\":{\"color\":\"#000000\"},\"showarrow\":false,\"text\":\"0.06\",\"x\":5,\"xref\":\"x\",\"y\":7,\"yref\":\"y\"},{\"font\":{\"color\":\"#000000\"},\"showarrow\":false,\"text\":\"0.04\",\"x\":6,\"xref\":\"x\",\"y\":7,\"yref\":\"y\"},{\"font\":{\"color\":\"#FFFFFF\"},\"showarrow\":false,\"text\":\"1.0\",\"x\":7,\"xref\":\"x\",\"y\":7,\"yref\":\"y\"},{\"font\":{\"color\":\"#000000\"},\"showarrow\":false,\"text\":\"0.21\",\"x\":8,\"xref\":\"x\",\"y\":7,\"yref\":\"y\"},{\"font\":{\"color\":\"#000000\"},\"showarrow\":false,\"text\":\"0.46\",\"x\":9,\"xref\":\"x\",\"y\":7,\"yref\":\"y\"},{\"font\":{\"color\":\"#000000\"},\"showarrow\":false,\"text\":\"0.04\",\"x\":10,\"xref\":\"x\",\"y\":7,\"yref\":\"y\"},{\"font\":{\"color\":\"#000000\"},\"showarrow\":false,\"text\":\"0.28\",\"x\":11,\"xref\":\"x\",\"y\":7,\"yref\":\"y\"},{\"font\":{\"color\":\"#000000\"},\"showarrow\":false,\"text\":\"0.11\",\"x\":12,\"xref\":\"x\",\"y\":7,\"yref\":\"y\"},{\"font\":{\"color\":\"#000000\"},\"showarrow\":false,\"text\":\"0.15\",\"x\":13,\"xref\":\"x\",\"y\":7,\"yref\":\"y\"},{\"font\":{\"color\":\"#000000\"},\"showarrow\":false,\"text\":\"0.11\",\"x\":14,\"xref\":\"x\",\"y\":7,\"yref\":\"y\"},{\"font\":{\"color\":\"#000000\"},\"showarrow\":false,\"text\":\"0.06\",\"x\":15,\"xref\":\"x\",\"y\":7,\"yref\":\"y\"},{\"font\":{\"color\":\"#000000\"},\"showarrow\":false,\"text\":\"0.43\",\"x\":0,\"xref\":\"x\",\"y\":8,\"yref\":\"y\"},{\"font\":{\"color\":\"#000000\"},\"showarrow\":false,\"text\":\"0.03\",\"x\":1,\"xref\":\"x\",\"y\":8,\"yref\":\"y\"},{\"font\":{\"color\":\"#000000\"},\"showarrow\":false,\"text\":\"0.01\",\"x\":2,\"xref\":\"x\",\"y\":8,\"yref\":\"y\"},{\"font\":{\"color\":\"#000000\"},\"showarrow\":false,\"text\":\"0.02\",\"x\":3,\"xref\":\"x\",\"y\":8,\"yref\":\"y\"},{\"font\":{\"color\":\"#000000\"},\"showarrow\":false,\"text\":\"0.03\",\"x\":4,\"xref\":\"x\",\"y\":8,\"yref\":\"y\"},{\"font\":{\"color\":\"#000000\"},\"showarrow\":false,\"text\":\"0.03\",\"x\":5,\"xref\":\"x\",\"y\":8,\"yref\":\"y\"},{\"font\":{\"color\":\"#000000\"},\"showarrow\":false,\"text\":\"0.02\",\"x\":6,\"xref\":\"x\",\"y\":8,\"yref\":\"y\"},{\"font\":{\"color\":\"#000000\"},\"showarrow\":false,\"text\":\"0.21\",\"x\":7,\"xref\":\"x\",\"y\":8,\"yref\":\"y\"},{\"font\":{\"color\":\"#FFFFFF\"},\"showarrow\":false,\"text\":\"1.0\",\"x\":8,\"xref\":\"x\",\"y\":8,\"yref\":\"y\"},{\"font\":{\"color\":\"#000000\"},\"showarrow\":false,\"text\":\"0.12\",\"x\":9,\"xref\":\"x\",\"y\":8,\"yref\":\"y\"},{\"font\":{\"color\":\"#000000\"},\"showarrow\":false,\"text\":\"0.02\",\"x\":10,\"xref\":\"x\",\"y\":8,\"yref\":\"y\"},{\"font\":{\"color\":\"#000000\"},\"showarrow\":false,\"text\":\"0.02\",\"x\":11,\"xref\":\"x\",\"y\":8,\"yref\":\"y\"},{\"font\":{\"color\":\"#000000\"},\"showarrow\":false,\"text\":\"0.05\",\"x\":12,\"xref\":\"x\",\"y\":8,\"yref\":\"y\"},{\"font\":{\"color\":\"#000000\"},\"showarrow\":false,\"text\":\"0.05\",\"x\":13,\"xref\":\"x\",\"y\":8,\"yref\":\"y\"},{\"font\":{\"color\":\"#000000\"},\"showarrow\":false,\"text\":\"0.07\",\"x\":14,\"xref\":\"x\",\"y\":8,\"yref\":\"y\"},{\"font\":{\"color\":\"#000000\"},\"showarrow\":false,\"text\":\"0.03\",\"x\":15,\"xref\":\"x\",\"y\":8,\"yref\":\"y\"},{\"font\":{\"color\":\"#000000\"},\"showarrow\":false,\"text\":\"0.22\",\"x\":0,\"xref\":\"x\",\"y\":9,\"yref\":\"y\"},{\"font\":{\"color\":\"#000000\"},\"showarrow\":false,\"text\":\"0.09\",\"x\":1,\"xref\":\"x\",\"y\":9,\"yref\":\"y\"},{\"font\":{\"color\":\"#000000\"},\"showarrow\":false,\"text\":\"0.03\",\"x\":2,\"xref\":\"x\",\"y\":9,\"yref\":\"y\"},{\"font\":{\"color\":\"#000000\"},\"showarrow\":false,\"text\":\"0.0\",\"x\":3,\"xref\":\"x\",\"y\":9,\"yref\":\"y\"},{\"font\":{\"color\":\"#000000\"},\"showarrow\":false,\"text\":\"0.02\",\"x\":4,\"xref\":\"x\",\"y\":9,\"yref\":\"y\"},{\"font\":{\"color\":\"#000000\"},\"showarrow\":false,\"text\":\"0.02\",\"x\":5,\"xref\":\"x\",\"y\":9,\"yref\":\"y\"},{\"font\":{\"color\":\"#000000\"},\"showarrow\":false,\"text\":\"0.03\",\"x\":6,\"xref\":\"x\",\"y\":9,\"yref\":\"y\"},{\"font\":{\"color\":\"#000000\"},\"showarrow\":false,\"text\":\"0.46\",\"x\":7,\"xref\":\"x\",\"y\":9,\"yref\":\"y\"},{\"font\":{\"color\":\"#000000\"},\"showarrow\":false,\"text\":\"0.12\",\"x\":8,\"xref\":\"x\",\"y\":9,\"yref\":\"y\"},{\"font\":{\"color\":\"#FFFFFF\"},\"showarrow\":false,\"text\":\"1.0\",\"x\":9,\"xref\":\"x\",\"y\":9,\"yref\":\"y\"},{\"font\":{\"color\":\"#000000\"},\"showarrow\":false,\"text\":\"0.02\",\"x\":10,\"xref\":\"x\",\"y\":9,\"yref\":\"y\"},{\"font\":{\"color\":\"#000000\"},\"showarrow\":false,\"text\":\"0.12\",\"x\":11,\"xref\":\"x\",\"y\":9,\"yref\":\"y\"},{\"font\":{\"color\":\"#000000\"},\"showarrow\":false,\"text\":\"0.08\",\"x\":12,\"xref\":\"x\",\"y\":9,\"yref\":\"y\"},{\"font\":{\"color\":\"#000000\"},\"showarrow\":false,\"text\":\"0.12\",\"x\":13,\"xref\":\"x\",\"y\":9,\"yref\":\"y\"},{\"font\":{\"color\":\"#000000\"},\"showarrow\":false,\"text\":\"0.11\",\"x\":14,\"xref\":\"x\",\"y\":9,\"yref\":\"y\"},{\"font\":{\"color\":\"#000000\"},\"showarrow\":false,\"text\":\"0.04\",\"x\":15,\"xref\":\"x\",\"y\":9,\"yref\":\"y\"},{\"font\":{\"color\":\"#000000\"},\"showarrow\":false,\"text\":\"0.02\",\"x\":0,\"xref\":\"x\",\"y\":10,\"yref\":\"y\"},{\"font\":{\"color\":\"#000000\"},\"showarrow\":false,\"text\":\"0.07\",\"x\":1,\"xref\":\"x\",\"y\":10,\"yref\":\"y\"},{\"font\":{\"color\":\"#000000\"},\"showarrow\":false,\"text\":\"0.01\",\"x\":2,\"xref\":\"x\",\"y\":10,\"yref\":\"y\"},{\"font\":{\"color\":\"#000000\"},\"showarrow\":false,\"text\":\"0.01\",\"x\":3,\"xref\":\"x\",\"y\":10,\"yref\":\"y\"},{\"font\":{\"color\":\"#000000\"},\"showarrow\":false,\"text\":\"0.02\",\"x\":4,\"xref\":\"x\",\"y\":10,\"yref\":\"y\"},{\"font\":{\"color\":\"#000000\"},\"showarrow\":false,\"text\":\"0.03\",\"x\":5,\"xref\":\"x\",\"y\":10,\"yref\":\"y\"},{\"font\":{\"color\":\"#000000\"},\"showarrow\":false,\"text\":\"0.02\",\"x\":6,\"xref\":\"x\",\"y\":10,\"yref\":\"y\"},{\"font\":{\"color\":\"#000000\"},\"showarrow\":false,\"text\":\"0.04\",\"x\":7,\"xref\":\"x\",\"y\":10,\"yref\":\"y\"},{\"font\":{\"color\":\"#000000\"},\"showarrow\":false,\"text\":\"0.02\",\"x\":8,\"xref\":\"x\",\"y\":10,\"yref\":\"y\"},{\"font\":{\"color\":\"#000000\"},\"showarrow\":false,\"text\":\"0.02\",\"x\":9,\"xref\":\"x\",\"y\":10,\"yref\":\"y\"},{\"font\":{\"color\":\"#FFFFFF\"},\"showarrow\":false,\"text\":\"1.0\",\"x\":10,\"xref\":\"x\",\"y\":10,\"yref\":\"y\"},{\"font\":{\"color\":\"#000000\"},\"showarrow\":false,\"text\":\"0.01\",\"x\":11,\"xref\":\"x\",\"y\":10,\"yref\":\"y\"},{\"font\":{\"color\":\"#000000\"},\"showarrow\":false,\"text\":\"0.08\",\"x\":12,\"xref\":\"x\",\"y\":10,\"yref\":\"y\"},{\"font\":{\"color\":\"#000000\"},\"showarrow\":false,\"text\":\"0.02\",\"x\":13,\"xref\":\"x\",\"y\":10,\"yref\":\"y\"},{\"font\":{\"color\":\"#000000\"},\"showarrow\":false,\"text\":\"0.06\",\"x\":14,\"xref\":\"x\",\"y\":10,\"yref\":\"y\"},{\"font\":{\"color\":\"#000000\"},\"showarrow\":false,\"text\":\"0.04\",\"x\":15,\"xref\":\"x\",\"y\":10,\"yref\":\"y\"},{\"font\":{\"color\":\"#000000\"},\"showarrow\":false,\"text\":\"0.19\",\"x\":0,\"xref\":\"x\",\"y\":11,\"yref\":\"y\"},{\"font\":{\"color\":\"#000000\"},\"showarrow\":false,\"text\":\"0.07\",\"x\":1,\"xref\":\"x\",\"y\":11,\"yref\":\"y\"},{\"font\":{\"color\":\"#000000\"},\"showarrow\":false,\"text\":\"0.03\",\"x\":2,\"xref\":\"x\",\"y\":11,\"yref\":\"y\"},{\"font\":{\"color\":\"#000000\"},\"showarrow\":false,\"text\":\"0.01\",\"x\":3,\"xref\":\"x\",\"y\":11,\"yref\":\"y\"},{\"font\":{\"color\":\"#000000\"},\"showarrow\":false,\"text\":\"0.02\",\"x\":4,\"xref\":\"x\",\"y\":11,\"yref\":\"y\"},{\"font\":{\"color\":\"#000000\"},\"showarrow\":false,\"text\":\"0.12\",\"x\":5,\"xref\":\"x\",\"y\":11,\"yref\":\"y\"},{\"font\":{\"color\":\"#000000\"},\"showarrow\":false,\"text\":\"0.04\",\"x\":6,\"xref\":\"x\",\"y\":11,\"yref\":\"y\"},{\"font\":{\"color\":\"#000000\"},\"showarrow\":false,\"text\":\"0.28\",\"x\":7,\"xref\":\"x\",\"y\":11,\"yref\":\"y\"},{\"font\":{\"color\":\"#000000\"},\"showarrow\":false,\"text\":\"0.02\",\"x\":8,\"xref\":\"x\",\"y\":11,\"yref\":\"y\"},{\"font\":{\"color\":\"#000000\"},\"showarrow\":false,\"text\":\"0.12\",\"x\":9,\"xref\":\"x\",\"y\":11,\"yref\":\"y\"},{\"font\":{\"color\":\"#000000\"},\"showarrow\":false,\"text\":\"0.01\",\"x\":10,\"xref\":\"x\",\"y\":11,\"yref\":\"y\"},{\"font\":{\"color\":\"#FFFFFF\"},\"showarrow\":false,\"text\":\"1.0\",\"x\":11,\"xref\":\"x\",\"y\":11,\"yref\":\"y\"},{\"font\":{\"color\":\"#000000\"},\"showarrow\":false,\"text\":\"0.04\",\"x\":12,\"xref\":\"x\",\"y\":11,\"yref\":\"y\"},{\"font\":{\"color\":\"#000000\"},\"showarrow\":false,\"text\":\"0.21\",\"x\":13,\"xref\":\"x\",\"y\":11,\"yref\":\"y\"},{\"font\":{\"color\":\"#FFFFFF\"},\"showarrow\":false,\"text\":\"0.5\",\"x\":14,\"xref\":\"x\",\"y\":11,\"yref\":\"y\"},{\"font\":{\"color\":\"#000000\"},\"showarrow\":false,\"text\":\"0.14\",\"x\":15,\"xref\":\"x\",\"y\":11,\"yref\":\"y\"},{\"font\":{\"color\":\"#000000\"},\"showarrow\":false,\"text\":\"0.02\",\"x\":0,\"xref\":\"x\",\"y\":12,\"yref\":\"y\"},{\"font\":{\"color\":\"#000000\"},\"showarrow\":false,\"text\":\"0.08\",\"x\":1,\"xref\":\"x\",\"y\":12,\"yref\":\"y\"},{\"font\":{\"color\":\"#000000\"},\"showarrow\":false,\"text\":\"0.01\",\"x\":2,\"xref\":\"x\",\"y\":12,\"yref\":\"y\"},{\"font\":{\"color\":\"#000000\"},\"showarrow\":false,\"text\":\"0.01\",\"x\":3,\"xref\":\"x\",\"y\":12,\"yref\":\"y\"},{\"font\":{\"color\":\"#000000\"},\"showarrow\":false,\"text\":\"0.01\",\"x\":4,\"xref\":\"x\",\"y\":12,\"yref\":\"y\"},{\"font\":{\"color\":\"#000000\"},\"showarrow\":false,\"text\":\"0.02\",\"x\":5,\"xref\":\"x\",\"y\":12,\"yref\":\"y\"},{\"font\":{\"color\":\"#000000\"},\"showarrow\":false,\"text\":\"0.01\",\"x\":6,\"xref\":\"x\",\"y\":12,\"yref\":\"y\"},{\"font\":{\"color\":\"#000000\"},\"showarrow\":false,\"text\":\"0.11\",\"x\":7,\"xref\":\"x\",\"y\":12,\"yref\":\"y\"},{\"font\":{\"color\":\"#000000\"},\"showarrow\":false,\"text\":\"0.05\",\"x\":8,\"xref\":\"x\",\"y\":12,\"yref\":\"y\"},{\"font\":{\"color\":\"#000000\"},\"showarrow\":false,\"text\":\"0.08\",\"x\":9,\"xref\":\"x\",\"y\":12,\"yref\":\"y\"},{\"font\":{\"color\":\"#000000\"},\"showarrow\":false,\"text\":\"0.08\",\"x\":10,\"xref\":\"x\",\"y\":12,\"yref\":\"y\"},{\"font\":{\"color\":\"#000000\"},\"showarrow\":false,\"text\":\"0.04\",\"x\":11,\"xref\":\"x\",\"y\":12,\"yref\":\"y\"},{\"font\":{\"color\":\"#FFFFFF\"},\"showarrow\":false,\"text\":\"1.0\",\"x\":12,\"xref\":\"x\",\"y\":12,\"yref\":\"y\"},{\"font\":{\"color\":\"#000000\"},\"showarrow\":false,\"text\":\"0.02\",\"x\":13,\"xref\":\"x\",\"y\":12,\"yref\":\"y\"},{\"font\":{\"color\":\"#000000\"},\"showarrow\":false,\"text\":\"0.18\",\"x\":14,\"xref\":\"x\",\"y\":12,\"yref\":\"y\"},{\"font\":{\"color\":\"#000000\"},\"showarrow\":false,\"text\":\"0.06\",\"x\":15,\"xref\":\"x\",\"y\":12,\"yref\":\"y\"},{\"font\":{\"color\":\"#000000\"},\"showarrow\":false,\"text\":\"0.17\",\"x\":0,\"xref\":\"x\",\"y\":13,\"yref\":\"y\"},{\"font\":{\"color\":\"#000000\"},\"showarrow\":false,\"text\":\"0.05\",\"x\":1,\"xref\":\"x\",\"y\":13,\"yref\":\"y\"},{\"font\":{\"color\":\"#000000\"},\"showarrow\":false,\"text\":\"0.04\",\"x\":2,\"xref\":\"x\",\"y\":13,\"yref\":\"y\"},{\"font\":{\"color\":\"#000000\"},\"showarrow\":false,\"text\":\"0.03\",\"x\":3,\"xref\":\"x\",\"y\":13,\"yref\":\"y\"},{\"font\":{\"color\":\"#000000\"},\"showarrow\":false,\"text\":\"0.06\",\"x\":4,\"xref\":\"x\",\"y\":13,\"yref\":\"y\"},{\"font\":{\"color\":\"#000000\"},\"showarrow\":false,\"text\":\"0.25\",\"x\":5,\"xref\":\"x\",\"y\":13,\"yref\":\"y\"},{\"font\":{\"color\":\"#000000\"},\"showarrow\":false,\"text\":\"0.15\",\"x\":6,\"xref\":\"x\",\"y\":13,\"yref\":\"y\"},{\"font\":{\"color\":\"#000000\"},\"showarrow\":false,\"text\":\"0.15\",\"x\":7,\"xref\":\"x\",\"y\":13,\"yref\":\"y\"},{\"font\":{\"color\":\"#000000\"},\"showarrow\":false,\"text\":\"0.05\",\"x\":8,\"xref\":\"x\",\"y\":13,\"yref\":\"y\"},{\"font\":{\"color\":\"#000000\"},\"showarrow\":false,\"text\":\"0.12\",\"x\":9,\"xref\":\"x\",\"y\":13,\"yref\":\"y\"},{\"font\":{\"color\":\"#000000\"},\"showarrow\":false,\"text\":\"0.02\",\"x\":10,\"xref\":\"x\",\"y\":13,\"yref\":\"y\"},{\"font\":{\"color\":\"#000000\"},\"showarrow\":false,\"text\":\"0.21\",\"x\":11,\"xref\":\"x\",\"y\":13,\"yref\":\"y\"},{\"font\":{\"color\":\"#000000\"},\"showarrow\":false,\"text\":\"0.02\",\"x\":12,\"xref\":\"x\",\"y\":13,\"yref\":\"y\"},{\"font\":{\"color\":\"#FFFFFF\"},\"showarrow\":false,\"text\":\"1.0\",\"x\":13,\"xref\":\"x\",\"y\":13,\"yref\":\"y\"},{\"font\":{\"color\":\"#FFFFFF\"},\"showarrow\":false,\"text\":\"0.51\",\"x\":14,\"xref\":\"x\",\"y\":13,\"yref\":\"y\"},{\"font\":{\"color\":\"#000000\"},\"showarrow\":false,\"text\":\"0.21\",\"x\":15,\"xref\":\"x\",\"y\":13,\"yref\":\"y\"},{\"font\":{\"color\":\"#000000\"},\"showarrow\":false,\"text\":\"0.16\",\"x\":0,\"xref\":\"x\",\"y\":14,\"yref\":\"y\"},{\"font\":{\"color\":\"#000000\"},\"showarrow\":false,\"text\":\"0.16\",\"x\":1,\"xref\":\"x\",\"y\":14,\"yref\":\"y\"},{\"font\":{\"color\":\"#000000\"},\"showarrow\":false,\"text\":\"0.45\",\"x\":2,\"xref\":\"x\",\"y\":14,\"yref\":\"y\"},{\"font\":{\"color\":\"#000000\"},\"showarrow\":false,\"text\":\"0.07\",\"x\":3,\"xref\":\"x\",\"y\":14,\"yref\":\"y\"},{\"font\":{\"color\":\"#000000\"},\"showarrow\":false,\"text\":\"0.23\",\"x\":4,\"xref\":\"x\",\"y\":14,\"yref\":\"y\"},{\"font\":{\"color\":\"#000000\"},\"showarrow\":false,\"text\":\"0.29\",\"x\":5,\"xref\":\"x\",\"y\":14,\"yref\":\"y\"},{\"font\":{\"color\":\"#000000\"},\"showarrow\":false,\"text\":\"0.18\",\"x\":6,\"xref\":\"x\",\"y\":14,\"yref\":\"y\"},{\"font\":{\"color\":\"#000000\"},\"showarrow\":false,\"text\":\"0.11\",\"x\":7,\"xref\":\"x\",\"y\":14,\"yref\":\"y\"},{\"font\":{\"color\":\"#000000\"},\"showarrow\":false,\"text\":\"0.07\",\"x\":8,\"xref\":\"x\",\"y\":14,\"yref\":\"y\"},{\"font\":{\"color\":\"#000000\"},\"showarrow\":false,\"text\":\"0.11\",\"x\":9,\"xref\":\"x\",\"y\":14,\"yref\":\"y\"},{\"font\":{\"color\":\"#000000\"},\"showarrow\":false,\"text\":\"0.06\",\"x\":10,\"xref\":\"x\",\"y\":14,\"yref\":\"y\"},{\"font\":{\"color\":\"#FFFFFF\"},\"showarrow\":false,\"text\":\"0.5\",\"x\":11,\"xref\":\"x\",\"y\":14,\"yref\":\"y\"},{\"font\":{\"color\":\"#000000\"},\"showarrow\":false,\"text\":\"0.18\",\"x\":12,\"xref\":\"x\",\"y\":14,\"yref\":\"y\"},{\"font\":{\"color\":\"#FFFFFF\"},\"showarrow\":false,\"text\":\"0.51\",\"x\":13,\"xref\":\"x\",\"y\":14,\"yref\":\"y\"},{\"font\":{\"color\":\"#FFFFFF\"},\"showarrow\":false,\"text\":\"1.0\",\"x\":14,\"xref\":\"x\",\"y\":14,\"yref\":\"y\"},{\"font\":{\"color\":\"#000000\"},\"showarrow\":false,\"text\":\"0.21\",\"x\":15,\"xref\":\"x\",\"y\":14,\"yref\":\"y\"},{\"font\":{\"color\":\"#000000\"},\"showarrow\":false,\"text\":\"0.04\",\"x\":0,\"xref\":\"x\",\"y\":15,\"yref\":\"y\"},{\"font\":{\"color\":\"#000000\"},\"showarrow\":false,\"text\":\"0.04\",\"x\":1,\"xref\":\"x\",\"y\":15,\"yref\":\"y\"},{\"font\":{\"color\":\"#000000\"},\"showarrow\":false,\"text\":\"0.09\",\"x\":2,\"xref\":\"x\",\"y\":15,\"yref\":\"y\"},{\"font\":{\"color\":\"#000000\"},\"showarrow\":false,\"text\":\"0.05\",\"x\":3,\"xref\":\"x\",\"y\":15,\"yref\":\"y\"},{\"font\":{\"color\":\"#000000\"},\"showarrow\":false,\"text\":\"0.11\",\"x\":4,\"xref\":\"x\",\"y\":15,\"yref\":\"y\"},{\"font\":{\"color\":\"#FFFFFF\"},\"showarrow\":false,\"text\":\"0.88\",\"x\":5,\"xref\":\"x\",\"y\":15,\"yref\":\"y\"},{\"font\":{\"color\":\"#FFFFFF\"},\"showarrow\":false,\"text\":\"0.54\",\"x\":6,\"xref\":\"x\",\"y\":15,\"yref\":\"y\"},{\"font\":{\"color\":\"#000000\"},\"showarrow\":false,\"text\":\"0.06\",\"x\":7,\"xref\":\"x\",\"y\":15,\"yref\":\"y\"},{\"font\":{\"color\":\"#000000\"},\"showarrow\":false,\"text\":\"0.03\",\"x\":8,\"xref\":\"x\",\"y\":15,\"yref\":\"y\"},{\"font\":{\"color\":\"#000000\"},\"showarrow\":false,\"text\":\"0.04\",\"x\":9,\"xref\":\"x\",\"y\":15,\"yref\":\"y\"},{\"font\":{\"color\":\"#000000\"},\"showarrow\":false,\"text\":\"0.04\",\"x\":10,\"xref\":\"x\",\"y\":15,\"yref\":\"y\"},{\"font\":{\"color\":\"#000000\"},\"showarrow\":false,\"text\":\"0.14\",\"x\":11,\"xref\":\"x\",\"y\":15,\"yref\":\"y\"},{\"font\":{\"color\":\"#000000\"},\"showarrow\":false,\"text\":\"0.06\",\"x\":12,\"xref\":\"x\",\"y\":15,\"yref\":\"y\"},{\"font\":{\"color\":\"#000000\"},\"showarrow\":false,\"text\":\"0.21\",\"x\":13,\"xref\":\"x\",\"y\":15,\"yref\":\"y\"},{\"font\":{\"color\":\"#000000\"},\"showarrow\":false,\"text\":\"0.21\",\"x\":14,\"xref\":\"x\",\"y\":15,\"yref\":\"y\"},{\"font\":{\"color\":\"#FFFFFF\"},\"showarrow\":false,\"text\":\"1.0\",\"x\":15,\"xref\":\"x\",\"y\":15,\"yref\":\"y\"}]}],\"args2\":[{\"annotations\":[]}],\"label\":\"Show value\",\"method\":\"relayout\"}],\"direction\":\"right\",\"pad\":{\"l\":-60,\"r\":0,\"t\":-100},\"type\":\"buttons\",\"x\":0.1,\"xanchor\":\"left\",\"y\":1,\"yanchor\":\"top\"}]},                        {\"displaylogo\": false, \"responsive\": true}                    ).then(function(){\n",
       "                            \n",
       "var gd = document.getElementById('1ac5cb82-fbb2-454a-9623-633174c7249a');\n",
       "var x = new MutationObserver(function (mutations, observer) {{\n",
       "        var display = window.getComputedStyle(gd).display;\n",
       "        if (!display || display === 'none') {{\n",
       "            console.log([gd, 'removed!']);\n",
       "            Plotly.purge(gd);\n",
       "            observer.disconnect();\n",
       "        }}\n",
       "}});\n",
       "\n",
       "// Listen for the removal of the full notebook cells\n",
       "var notebookContainer = gd.closest('#notebook-container');\n",
       "if (notebookContainer) {{\n",
       "    x.observe(notebookContainer, {childList: true});\n",
       "}}\n",
       "\n",
       "// Listen for the clearing of the current output cell\n",
       "var outputEl = gd.closest('.output');\n",
       "if (outputEl) {{\n",
       "    x.observe(outputEl, {childList: true});\n",
       "}}\n",
       "\n",
       "                        })                };                });            </script>        </div>"
      ]
     },
     "metadata": {},
     "output_type": "display_data"
    }
   ],
   "source": [
    "num_cols = [k for k, v in feature_type_names.items() if v == 'numeric']\n",
    "cat_cols = [k for k, v in feature_type_names.items() if v == 'category']\n",
    "\n",
    "fig = plot_correlation_matrix(data, num_cols=num_cols, cat_cols=cat_cols, fig=go.Figure(), width=1118, height=766, colorscale='YlGnBu', reverse_font_color=False)\n",
    "fig.show(config={'displaylogo':False})\n",
    "# fig.write_html('./automl_plot/corr.html', config={'displaylogo':False}, include_plotlyjs='cdn', full_html=False)"
   ]
  },
  {
   "cell_type": "markdown",
   "id": "438d3a94",
   "metadata": {},
   "source": [
    "### Correlation matrix with filter\n",
    "\n",
    "#### Layout: buttons\n",
    "One button decides whether to show annotation or not, the other one is used to filter different types of correlation matrix.<br>\n",
    "\n",
    "- Dropdown button: filter different types of correlation matrix<br>\n",
    "In a mixing correlation matrix, we combine four different correlation matrix.<br>\n",
    "\n",
    "    - Numeric-Numeric: Pearson correlation\n",
    "    - Categorical-Categorical: Cramer's V correlation.\n",
    "    - Categorical-Numeric: Ratio correlation.\n",
    "    - Numeric-Categorical: Ratio correlation.\n",
    "    \n",
    "    \n",
    "- Toggle button: showing annotation values<br>\n",
    "For each correlation matrix, we need to create a list of annotation properties. Hence, we have to update `Show value` button when different correlation matrix is filtered.<br>\n",
    "In plotly, buttons are defined in `updatemenus`. `updatemenus` itself can be updated through `updatemenus`.\n",
    "```python\n",
    "dict(args=[{'x': [np.arange(len(df.columns))], \n",
    "            'y': [np.arange(len(df.index))], \n",
    "            'z': [df.values]}, \n",
    "           {'annotations': gen_annotations(df, reverse_font_color=False),\n",
    "            'updatemenus': [button_annotation(df),],  # update button through updatemenus\n",
    "            'xaxis': {'fixedrange': True, 'tickvals': np.arange(len(df.columns)), 'ticktext': df.columns},\n",
    "            'yaxis': {'autorange':'reversed', 'fixedrange': True, \n",
    "                      'tickvals': np.arange(len(df.index)), 'ticktext': df.index},\n",
    "           }],\n",
    "     label=\"All\", \n",
    "     method=\"update\")\n",
    "```"
   ]
  },
  {
   "cell_type": "code",
   "execution_count": 10,
   "id": "7c7f1497",
   "metadata": {},
   "outputs": [],
   "source": [
    "def button_annotation(data):\n",
    "    r'''\n",
    "    Create a \"Show value\" button for different data set.\n",
    "    '''\n",
    "    return dict(type = \"buttons\", \n",
    "                direction = \"right\",\n",
    "                buttons=list([\n",
    "                    dict(\n",
    "                        args=[{\"annotations\": gen_annotations(data, reverse_font_color=False)}],\n",
    "                        args2=[{\"annotations\": []}],\n",
    "                        label=\"Show value\",\n",
    "                        method=\"relayout\"\n",
    "                    )\n",
    "                ]),\n",
    "                active=0,\n",
    "                x=0.1, xanchor=\"left\",\n",
    "                y=1, yanchor=\"top\",\n",
    "                pad={\"r\": 0, \"t\": -250, 'l': -387},\n",
    "                bgcolor='rgba(255,255,255,1)')"
   ]
  },
  {
   "cell_type": "code",
   "execution_count": 11,
   "id": "22586fa3",
   "metadata": {},
   "outputs": [],
   "source": [
    "def tick_color(color, text):\n",
    "    r'''\n",
    "    This function is used to change tick text color.\n",
    "    '''\n",
    "    s = '$\\color{' + str(color) + '}{' + str(text) + '}$'\n",
    "    return s"
   ]
  },
  {
   "cell_type": "code",
   "execution_count": 12,
   "id": "d74bc028",
   "metadata": {},
   "outputs": [],
   "source": [
    "def plot_correlation_matrix_filter(data, num_cols=[], cat_cols=[], fig=None, width=500, height=500, colorscale='YlGnBu', reverse_font_color=False):\n",
    "    df = data.copy(deep=True)\n",
    "    \n",
    "    n_num = len(num_cols)\n",
    "    n_cat = len(cat_cols)\n",
    "    buttons_list = []\n",
    "    \n",
    "    fig = plot_correlation_table(df, fig=fig, width=width, height=height, colorscale=colorscale)\n",
    "    annotations = gen_annotations(data, reverse_font_color=False)\n",
    "    \n",
    "    \n",
    "    if n_num > 0 and n_cat > 0:\n",
    "        num_df = df.loc[num_cols, num_cols]\n",
    "        cat_df = df.loc[cat_cols, cat_cols]\n",
    "        eta_df = df.loc[cat_cols, num_cols]\n",
    "        \n",
    "        buttons_list.append(dict(args=[{'x': [np.arange(len(df.columns))], 'y': [np.arange(len(df.index))], 'z': [df.values]}, \n",
    "                                       {'annotations': gen_annotations(df, reverse_font_color=False),\n",
    "                                        'updatemenus': [button_annotation(df),],\n",
    "                                        'xaxis': {'fixedrange': True, 'tickvals': np.arange(len(df.columns)), 'ticktext': df.columns},\n",
    "                                        'yaxis': {'autorange':'reversed', 'fixedrange': True,\n",
    "                                                  'tickvals': np.arange(len(df.index)), 'ticktext': df.index},\n",
    "                                       }], \n",
    "                                 label=\"All\", method=\"update\"))\n",
    "        \n",
    "        buttons_list.append(dict(args=[{'x': [np.arange(len(num_df.columns))], 'y': [np.arange(len(num_df.index))], 'z': [num_df.values]}, \n",
    "                                       {'annotations': gen_annotations(num_df, reverse_font_color=False),\n",
    "                                        'updatemenus': [button_annotation(num_df),],\n",
    "                                        'xaxis': {'fixedrange': True, 'tickvals': np.arange(len(num_df.columns)), 'ticktext': num_df.columns},\n",
    "                                        'yaxis': {'autorange':'reversed', 'fixedrange': True,\n",
    "                                                  'tickvals': np.arange(len(num_df.index)), 'ticktext': num_df.index},\n",
    "                                       }], \n",
    "                                 label=\"Numeric-Numeric\", method=\"update\"))\n",
    "        \n",
    "        buttons_list.append(dict(args=[{'x': [np.arange(len(cat_df.columns))], 'y': [np.arange(len(cat_df.index))], 'z': [cat_df.values]}, \n",
    "                                       {'annotations': gen_annotations(cat_df, reverse_font_color=False),\n",
    "                                        'updatemenus': [button_annotation(cat_df),],\n",
    "                                        'xaxis': {'fixedrange': True, 'tickvals': np.arange(len(cat_df.columns)), 'ticktext': cat_df.columns},\n",
    "                                        'yaxis': {'autorange':'reversed', 'fixedrange': True,\n",
    "                                                  'tickvals': np.arange(len(cat_df.index)), 'ticktext': cat_df.index},\n",
    "                                       }], \n",
    "                                 label=\"Categorical-Categorical\", method=\"update\"))\n",
    "        \n",
    "        buttons_list.append(dict(args=[{'x': [np.arange(len(eta_df.columns))], 'y': [np.arange(len(eta_df.index))], 'z': [eta_df.values]}, \n",
    "                                       {'annotations': gen_annotations(eta_df, reverse_font_color=False),\n",
    "                                        'updatemenus': [button_annotation(eta_df),],\n",
    "                                        'xaxis': {'fixedrange': True, 'tickvals': np.arange(len(eta_df.columns)), 'ticktext': eta_df.columns},\n",
    "                                        'yaxis': {'autorange':'reversed', 'fixedrange': True,\n",
    "                                                  'tickvals': np.arange(len(eta_df.index)), 'ticktext': eta_df.index},\n",
    "                                       }], \n",
    "                                 label=\"Categorical-Numeric\", method=\"update\"))\n",
    "        \n",
    "        buttons_list.append(dict(args=[{'x': [np.arange(len(eta_df.T.columns))], 'y': [np.arange(len(eta_df.T.index))], 'z': [eta_df.T.values]}, \n",
    "                                       {'annotations': gen_annotations(eta_df.T, reverse_font_color=False),\n",
    "                                        'updatemenus': [button_annotation(eta_df.T),],\n",
    "                                        'xaxis': {'fixedrange': True, 'tickvals': np.arange(len(eta_df.T.columns)), 'ticktext': eta_df.T.columns},\n",
    "                                        'yaxis': {'autorange':'reversed', 'fixedrange': True,\n",
    "                                                  'tickvals': np.arange(len(eta_df.T.index)), 'ticktext': eta_df.T.index},\n",
    "                                       }], \n",
    "                                 label=\"Numeric-Categorical\", method=\"update\"))\n",
    "        \n",
    "    \n",
    "    fig.update_layout(\n",
    "        margin=dict(t=150, b=0, l=270, r=280),\n",
    "        title={\n",
    "            'text': 'Correlation',\n",
    "            'y':0.99,\n",
    "            'x':0,\n",
    "            'xanchor': 'left',\n",
    "            'yanchor': 'top',\n",
    "            'font': {'size': 22},\n",
    "        },\n",
    "        annotations=annotations,\n",
    "        coloraxis_colorbar=dict(\n",
    "            thicknessmode=\"pixels\", thickness=50,\n",
    "            lenmode=\"pixels\", len=200,\n",
    "            yanchor=\"top\", y=1,\n",
    "            ticks=\"outside\",\n",
    "            dtick=5\n",
    "        ),\n",
    "        hoverlabel=dict(\n",
    "            bgcolor=\"white\",\n",
    "            font_size=12,\n",
    "            font_family=\"Arial\",\n",
    "        ),\n",
    "        paper_bgcolor='rgba(0,0,0,0)',\n",
    "        plot_bgcolor='rgba(238,238,238,0)',\n",
    "        modebar=dict(bgcolor='rgba(0,0,0,0)', activecolor='rgba(68,68,68,0.7)', color='rgba(68,68,68,0.3)'),\n",
    "    )\n",
    "                \n",
    "    fig.update_layout(\n",
    "    updatemenus=[\n",
    "        dict(\n",
    "            type=\"dropdown\",\n",
    "            direction='down',\n",
    "            buttons=buttons_list,\n",
    "            active=0,\n",
    "            x=0.1, xanchor=\"left\",\n",
    "            y=1, yanchor=\"top\",\n",
    "            pad={\"r\": 0, \"t\": -50, 'l': -60},\n",
    "            bgcolor='rgba(255,255,255,1)',\n",
    "        ),\n",
    "        dict(\n",
    "            type = \"buttons\",\n",
    "            direction = \"right\",\n",
    "            buttons=list([\n",
    "                dict(\n",
    "                    args=[{\"annotations\": annotations}],\n",
    "                    args2=[{\"annotations\": []}],\n",
    "                    label=\"Show value\",\n",
    "                    method=\"relayout\"\n",
    "                )\n",
    "            ]),\n",
    "            active=0,\n",
    "            x=0.1, xanchor=\"left\",\n",
    "            y=1, yanchor=\"top\",\n",
    "            pad={\"r\": 0, \"t\": -100, 'l': -60},\n",
    "            bgcolor='rgba(255,255,255,1)',\n",
    "        ),\n",
    "    ]\n",
    "    )\n",
    "\n",
    "    fig.update_yaxes(\n",
    "        tickmode='array',\n",
    "        ticksuffix='   ',\n",
    "        fixedrange=True\n",
    "    )\n",
    "    fig.update_xaxes(fixedrange=True)\n",
    "    \n",
    "    return fig"
   ]
  },
  {
   "cell_type": "code",
   "execution_count": 13,
   "id": "e80ff7ae",
   "metadata": {},
   "outputs": [
    {
     "data": {
      "application/vnd.plotly.v1+json": {
       "config": {
        "displaylogo": false,
        "plotlyServerURL": "https://plot.ly"
       },
       "data": [
        {
         "colorscale": [
          [
           0,
           "rgb(255,255,217)"
          ],
          [
           0.125,
           "rgb(237,248,177)"
          ],
          [
           0.25,
           "rgb(199,233,180)"
          ],
          [
           0.375,
           "rgb(127,205,187)"
          ],
          [
           0.5,
           "rgb(65,182,196)"
          ],
          [
           0.625,
           "rgb(29,145,192)"
          ],
          [
           0.75,
           "rgb(34,94,168)"
          ],
          [
           0.875,
           "rgb(37,52,148)"
          ],
          [
           1,
           "rgb(8,29,88)"
          ]
         ],
         "hovertemplate": "Corr ( %{x}, %{y} ) = %{z} <extra></extra>",
         "reversescale": false,
         "showscale": true,
         "type": "heatmap",
         "x": [
          0,
          1,
          2,
          3,
          4,
          5,
          6,
          7,
          8,
          9,
          10,
          11,
          12,
          13,
          14,
          15
         ],
         "y": [
          0,
          1,
          2,
          3,
          4,
          5,
          6,
          7,
          8,
          9,
          10,
          11,
          12,
          13,
          14,
          15
         ],
         "z": [
          [
           1,
           0.1,
           0.01,
           0,
           0,
           0.02,
           0,
           0.5,
           0.43,
           0.22,
           0.02,
           0.19,
           0.02,
           0.17,
           0.16,
           0.04
          ],
          [
           0.1,
           1,
           0,
           0.02,
           0.01,
           0,
           0.02,
           0.1,
           0.03,
           0.09,
           0.07,
           0.07,
           0.08,
           0.05,
           0.16,
           0.04
          ],
          [
           0.01,
           0,
           1,
           0.03,
           0.16,
           0.09,
           0.05,
           0.05,
           0.01,
           0.03,
           0.01,
           0.03,
           0.01,
           0.04,
           0.45,
           0.09
          ],
          [
           0,
           0.02,
           0.03,
           1,
           0.08,
           0,
           0,
           0.04,
           0.02,
           0,
           0.01,
           0.01,
           0.01,
           0.03,
           0.07,
           0.05
          ],
          [
           0,
           0.01,
           0.16,
           0.08,
           1,
           0.09,
           0.03,
           0.06,
           0.03,
           0.02,
           0.02,
           0.02,
           0.01,
           0.06,
           0.23,
           0.11
          ],
          [
           0.02,
           0,
           0.09,
           0,
           0.09,
           1,
           0.45,
           0.06,
           0.03,
           0.02,
           0.03,
           0.12,
           0.02,
           0.25,
           0.29,
           0.88
          ],
          [
           0,
           0.02,
           0.05,
           0,
           0.03,
           0.45,
           1,
           0.04,
           0.02,
           0.03,
           0.02,
           0.04,
           0.01,
           0.15,
           0.18,
           0.54
          ],
          [
           0.5,
           0.1,
           0.05,
           0.04,
           0.06,
           0.06,
           0.04,
           1,
           0.21,
           0.46,
           0.04,
           0.28,
           0.11,
           0.15,
           0.11,
           0.06
          ],
          [
           0.43,
           0.03,
           0.01,
           0.02,
           0.03,
           0.03,
           0.02,
           0.21,
           1,
           0.12,
           0.02,
           0.02,
           0.05,
           0.05,
           0.07,
           0.03
          ],
          [
           0.22,
           0.09,
           0.03,
           0,
           0.02,
           0.02,
           0.03,
           0.46,
           0.12,
           1,
           0.02,
           0.12,
           0.08,
           0.12,
           0.11,
           0.04
          ],
          [
           0.02,
           0.07,
           0.01,
           0.01,
           0.02,
           0.03,
           0.02,
           0.04,
           0.02,
           0.02,
           1,
           0.01,
           0.08,
           0.02,
           0.06,
           0.04
          ],
          [
           0.19,
           0.07,
           0.03,
           0.01,
           0.02,
           0.12,
           0.04,
           0.28,
           0.02,
           0.12,
           0.01,
           1,
           0.04,
           0.21,
           0.5,
           0.14
          ],
          [
           0.02,
           0.08,
           0.01,
           0.01,
           0.01,
           0.02,
           0.01,
           0.11,
           0.05,
           0.08,
           0.08,
           0.04,
           1,
           0.02,
           0.18,
           0.06
          ],
          [
           0.17,
           0.05,
           0.04,
           0.03,
           0.06,
           0.25,
           0.15,
           0.15,
           0.05,
           0.12,
           0.02,
           0.21,
           0.02,
           1,
           0.51,
           0.21
          ],
          [
           0.16,
           0.16,
           0.45,
           0.07,
           0.23,
           0.29,
           0.18,
           0.11,
           0.07,
           0.11,
           0.06,
           0.5,
           0.18,
           0.51,
           1,
           0.21
          ],
          [
           0.04,
           0.04,
           0.09,
           0.05,
           0.11,
           0.88,
           0.54,
           0.06,
           0.03,
           0.04,
           0.04,
           0.14,
           0.06,
           0.21,
           0.21,
           1
          ]
         ],
         "zmax": 1,
         "zmin": 0
        }
       ],
       "layout": {
        "annotations": [
         {
          "font": {
           "color": "#FFFFFF"
          },
          "showarrow": false,
          "text": "1.0",
          "x": 0,
          "xref": "x",
          "y": 0,
          "yref": "y"
         },
         {
          "font": {
           "color": "#000000"
          },
          "showarrow": false,
          "text": "0.1",
          "x": 1,
          "xref": "x",
          "y": 0,
          "yref": "y"
         },
         {
          "font": {
           "color": "#000000"
          },
          "showarrow": false,
          "text": "0.01",
          "x": 2,
          "xref": "x",
          "y": 0,
          "yref": "y"
         },
         {
          "font": {
           "color": "#000000"
          },
          "showarrow": false,
          "text": "0.0",
          "x": 3,
          "xref": "x",
          "y": 0,
          "yref": "y"
         },
         {
          "font": {
           "color": "#000000"
          },
          "showarrow": false,
          "text": "0.0",
          "x": 4,
          "xref": "x",
          "y": 0,
          "yref": "y"
         },
         {
          "font": {
           "color": "#000000"
          },
          "showarrow": false,
          "text": "0.02",
          "x": 5,
          "xref": "x",
          "y": 0,
          "yref": "y"
         },
         {
          "font": {
           "color": "#000000"
          },
          "showarrow": false,
          "text": "0.0",
          "x": 6,
          "xref": "x",
          "y": 0,
          "yref": "y"
         },
         {
          "font": {
           "color": "#FFFFFF"
          },
          "showarrow": false,
          "text": "0.5",
          "x": 7,
          "xref": "x",
          "y": 0,
          "yref": "y"
         },
         {
          "font": {
           "color": "#000000"
          },
          "showarrow": false,
          "text": "0.43",
          "x": 8,
          "xref": "x",
          "y": 0,
          "yref": "y"
         },
         {
          "font": {
           "color": "#000000"
          },
          "showarrow": false,
          "text": "0.22",
          "x": 9,
          "xref": "x",
          "y": 0,
          "yref": "y"
         },
         {
          "font": {
           "color": "#000000"
          },
          "showarrow": false,
          "text": "0.02",
          "x": 10,
          "xref": "x",
          "y": 0,
          "yref": "y"
         },
         {
          "font": {
           "color": "#000000"
          },
          "showarrow": false,
          "text": "0.19",
          "x": 11,
          "xref": "x",
          "y": 0,
          "yref": "y"
         },
         {
          "font": {
           "color": "#000000"
          },
          "showarrow": false,
          "text": "0.02",
          "x": 12,
          "xref": "x",
          "y": 0,
          "yref": "y"
         },
         {
          "font": {
           "color": "#000000"
          },
          "showarrow": false,
          "text": "0.17",
          "x": 13,
          "xref": "x",
          "y": 0,
          "yref": "y"
         },
         {
          "font": {
           "color": "#000000"
          },
          "showarrow": false,
          "text": "0.16",
          "x": 14,
          "xref": "x",
          "y": 0,
          "yref": "y"
         },
         {
          "font": {
           "color": "#000000"
          },
          "showarrow": false,
          "text": "0.04",
          "x": 15,
          "xref": "x",
          "y": 0,
          "yref": "y"
         },
         {
          "font": {
           "color": "#000000"
          },
          "showarrow": false,
          "text": "0.1",
          "x": 0,
          "xref": "x",
          "y": 1,
          "yref": "y"
         },
         {
          "font": {
           "color": "#FFFFFF"
          },
          "showarrow": false,
          "text": "1.0",
          "x": 1,
          "xref": "x",
          "y": 1,
          "yref": "y"
         },
         {
          "font": {
           "color": "#000000"
          },
          "showarrow": false,
          "text": "0.0",
          "x": 2,
          "xref": "x",
          "y": 1,
          "yref": "y"
         },
         {
          "font": {
           "color": "#000000"
          },
          "showarrow": false,
          "text": "0.02",
          "x": 3,
          "xref": "x",
          "y": 1,
          "yref": "y"
         },
         {
          "font": {
           "color": "#000000"
          },
          "showarrow": false,
          "text": "0.01",
          "x": 4,
          "xref": "x",
          "y": 1,
          "yref": "y"
         },
         {
          "font": {
           "color": "#000000"
          },
          "showarrow": false,
          "text": "0.0",
          "x": 5,
          "xref": "x",
          "y": 1,
          "yref": "y"
         },
         {
          "font": {
           "color": "#000000"
          },
          "showarrow": false,
          "text": "0.02",
          "x": 6,
          "xref": "x",
          "y": 1,
          "yref": "y"
         },
         {
          "font": {
           "color": "#000000"
          },
          "showarrow": false,
          "text": "0.1",
          "x": 7,
          "xref": "x",
          "y": 1,
          "yref": "y"
         },
         {
          "font": {
           "color": "#000000"
          },
          "showarrow": false,
          "text": "0.03",
          "x": 8,
          "xref": "x",
          "y": 1,
          "yref": "y"
         },
         {
          "font": {
           "color": "#000000"
          },
          "showarrow": false,
          "text": "0.09",
          "x": 9,
          "xref": "x",
          "y": 1,
          "yref": "y"
         },
         {
          "font": {
           "color": "#000000"
          },
          "showarrow": false,
          "text": "0.07",
          "x": 10,
          "xref": "x",
          "y": 1,
          "yref": "y"
         },
         {
          "font": {
           "color": "#000000"
          },
          "showarrow": false,
          "text": "0.07",
          "x": 11,
          "xref": "x",
          "y": 1,
          "yref": "y"
         },
         {
          "font": {
           "color": "#000000"
          },
          "showarrow": false,
          "text": "0.08",
          "x": 12,
          "xref": "x",
          "y": 1,
          "yref": "y"
         },
         {
          "font": {
           "color": "#000000"
          },
          "showarrow": false,
          "text": "0.05",
          "x": 13,
          "xref": "x",
          "y": 1,
          "yref": "y"
         },
         {
          "font": {
           "color": "#000000"
          },
          "showarrow": false,
          "text": "0.16",
          "x": 14,
          "xref": "x",
          "y": 1,
          "yref": "y"
         },
         {
          "font": {
           "color": "#000000"
          },
          "showarrow": false,
          "text": "0.04",
          "x": 15,
          "xref": "x",
          "y": 1,
          "yref": "y"
         },
         {
          "font": {
           "color": "#000000"
          },
          "showarrow": false,
          "text": "0.01",
          "x": 0,
          "xref": "x",
          "y": 2,
          "yref": "y"
         },
         {
          "font": {
           "color": "#000000"
          },
          "showarrow": false,
          "text": "0.0",
          "x": 1,
          "xref": "x",
          "y": 2,
          "yref": "y"
         },
         {
          "font": {
           "color": "#FFFFFF"
          },
          "showarrow": false,
          "text": "1.0",
          "x": 2,
          "xref": "x",
          "y": 2,
          "yref": "y"
         },
         {
          "font": {
           "color": "#000000"
          },
          "showarrow": false,
          "text": "0.03",
          "x": 3,
          "xref": "x",
          "y": 2,
          "yref": "y"
         },
         {
          "font": {
           "color": "#000000"
          },
          "showarrow": false,
          "text": "0.16",
          "x": 4,
          "xref": "x",
          "y": 2,
          "yref": "y"
         },
         {
          "font": {
           "color": "#000000"
          },
          "showarrow": false,
          "text": "0.09",
          "x": 5,
          "xref": "x",
          "y": 2,
          "yref": "y"
         },
         {
          "font": {
           "color": "#000000"
          },
          "showarrow": false,
          "text": "0.05",
          "x": 6,
          "xref": "x",
          "y": 2,
          "yref": "y"
         },
         {
          "font": {
           "color": "#000000"
          },
          "showarrow": false,
          "text": "0.05",
          "x": 7,
          "xref": "x",
          "y": 2,
          "yref": "y"
         },
         {
          "font": {
           "color": "#000000"
          },
          "showarrow": false,
          "text": "0.01",
          "x": 8,
          "xref": "x",
          "y": 2,
          "yref": "y"
         },
         {
          "font": {
           "color": "#000000"
          },
          "showarrow": false,
          "text": "0.03",
          "x": 9,
          "xref": "x",
          "y": 2,
          "yref": "y"
         },
         {
          "font": {
           "color": "#000000"
          },
          "showarrow": false,
          "text": "0.01",
          "x": 10,
          "xref": "x",
          "y": 2,
          "yref": "y"
         },
         {
          "font": {
           "color": "#000000"
          },
          "showarrow": false,
          "text": "0.03",
          "x": 11,
          "xref": "x",
          "y": 2,
          "yref": "y"
         },
         {
          "font": {
           "color": "#000000"
          },
          "showarrow": false,
          "text": "0.01",
          "x": 12,
          "xref": "x",
          "y": 2,
          "yref": "y"
         },
         {
          "font": {
           "color": "#000000"
          },
          "showarrow": false,
          "text": "0.04",
          "x": 13,
          "xref": "x",
          "y": 2,
          "yref": "y"
         },
         {
          "font": {
           "color": "#000000"
          },
          "showarrow": false,
          "text": "0.45",
          "x": 14,
          "xref": "x",
          "y": 2,
          "yref": "y"
         },
         {
          "font": {
           "color": "#000000"
          },
          "showarrow": false,
          "text": "0.09",
          "x": 15,
          "xref": "x",
          "y": 2,
          "yref": "y"
         },
         {
          "font": {
           "color": "#000000"
          },
          "showarrow": false,
          "text": "0.0",
          "x": 0,
          "xref": "x",
          "y": 3,
          "yref": "y"
         },
         {
          "font": {
           "color": "#000000"
          },
          "showarrow": false,
          "text": "0.02",
          "x": 1,
          "xref": "x",
          "y": 3,
          "yref": "y"
         },
         {
          "font": {
           "color": "#000000"
          },
          "showarrow": false,
          "text": "0.03",
          "x": 2,
          "xref": "x",
          "y": 3,
          "yref": "y"
         },
         {
          "font": {
           "color": "#FFFFFF"
          },
          "showarrow": false,
          "text": "1.0",
          "x": 3,
          "xref": "x",
          "y": 3,
          "yref": "y"
         },
         {
          "font": {
           "color": "#000000"
          },
          "showarrow": false,
          "text": "0.08",
          "x": 4,
          "xref": "x",
          "y": 3,
          "yref": "y"
         },
         {
          "font": {
           "color": "#000000"
          },
          "showarrow": false,
          "text": "0.0",
          "x": 5,
          "xref": "x",
          "y": 3,
          "yref": "y"
         },
         {
          "font": {
           "color": "#000000"
          },
          "showarrow": false,
          "text": "0.0",
          "x": 6,
          "xref": "x",
          "y": 3,
          "yref": "y"
         },
         {
          "font": {
           "color": "#000000"
          },
          "showarrow": false,
          "text": "0.04",
          "x": 7,
          "xref": "x",
          "y": 3,
          "yref": "y"
         },
         {
          "font": {
           "color": "#000000"
          },
          "showarrow": false,
          "text": "0.02",
          "x": 8,
          "xref": "x",
          "y": 3,
          "yref": "y"
         },
         {
          "font": {
           "color": "#000000"
          },
          "showarrow": false,
          "text": "0.0",
          "x": 9,
          "xref": "x",
          "y": 3,
          "yref": "y"
         },
         {
          "font": {
           "color": "#000000"
          },
          "showarrow": false,
          "text": "0.01",
          "x": 10,
          "xref": "x",
          "y": 3,
          "yref": "y"
         },
         {
          "font": {
           "color": "#000000"
          },
          "showarrow": false,
          "text": "0.01",
          "x": 11,
          "xref": "x",
          "y": 3,
          "yref": "y"
         },
         {
          "font": {
           "color": "#000000"
          },
          "showarrow": false,
          "text": "0.01",
          "x": 12,
          "xref": "x",
          "y": 3,
          "yref": "y"
         },
         {
          "font": {
           "color": "#000000"
          },
          "showarrow": false,
          "text": "0.03",
          "x": 13,
          "xref": "x",
          "y": 3,
          "yref": "y"
         },
         {
          "font": {
           "color": "#000000"
          },
          "showarrow": false,
          "text": "0.07",
          "x": 14,
          "xref": "x",
          "y": 3,
          "yref": "y"
         },
         {
          "font": {
           "color": "#000000"
          },
          "showarrow": false,
          "text": "0.05",
          "x": 15,
          "xref": "x",
          "y": 3,
          "yref": "y"
         },
         {
          "font": {
           "color": "#000000"
          },
          "showarrow": false,
          "text": "0.0",
          "x": 0,
          "xref": "x",
          "y": 4,
          "yref": "y"
         },
         {
          "font": {
           "color": "#000000"
          },
          "showarrow": false,
          "text": "0.01",
          "x": 1,
          "xref": "x",
          "y": 4,
          "yref": "y"
         },
         {
          "font": {
           "color": "#000000"
          },
          "showarrow": false,
          "text": "0.16",
          "x": 2,
          "xref": "x",
          "y": 4,
          "yref": "y"
         },
         {
          "font": {
           "color": "#000000"
          },
          "showarrow": false,
          "text": "0.08",
          "x": 3,
          "xref": "x",
          "y": 4,
          "yref": "y"
         },
         {
          "font": {
           "color": "#FFFFFF"
          },
          "showarrow": false,
          "text": "1.0",
          "x": 4,
          "xref": "x",
          "y": 4,
          "yref": "y"
         },
         {
          "font": {
           "color": "#000000"
          },
          "showarrow": false,
          "text": "0.09",
          "x": 5,
          "xref": "x",
          "y": 4,
          "yref": "y"
         },
         {
          "font": {
           "color": "#000000"
          },
          "showarrow": false,
          "text": "0.03",
          "x": 6,
          "xref": "x",
          "y": 4,
          "yref": "y"
         },
         {
          "font": {
           "color": "#000000"
          },
          "showarrow": false,
          "text": "0.06",
          "x": 7,
          "xref": "x",
          "y": 4,
          "yref": "y"
         },
         {
          "font": {
           "color": "#000000"
          },
          "showarrow": false,
          "text": "0.03",
          "x": 8,
          "xref": "x",
          "y": 4,
          "yref": "y"
         },
         {
          "font": {
           "color": "#000000"
          },
          "showarrow": false,
          "text": "0.02",
          "x": 9,
          "xref": "x",
          "y": 4,
          "yref": "y"
         },
         {
          "font": {
           "color": "#000000"
          },
          "showarrow": false,
          "text": "0.02",
          "x": 10,
          "xref": "x",
          "y": 4,
          "yref": "y"
         },
         {
          "font": {
           "color": "#000000"
          },
          "showarrow": false,
          "text": "0.02",
          "x": 11,
          "xref": "x",
          "y": 4,
          "yref": "y"
         },
         {
          "font": {
           "color": "#000000"
          },
          "showarrow": false,
          "text": "0.01",
          "x": 12,
          "xref": "x",
          "y": 4,
          "yref": "y"
         },
         {
          "font": {
           "color": "#000000"
          },
          "showarrow": false,
          "text": "0.06",
          "x": 13,
          "xref": "x",
          "y": 4,
          "yref": "y"
         },
         {
          "font": {
           "color": "#000000"
          },
          "showarrow": false,
          "text": "0.23",
          "x": 14,
          "xref": "x",
          "y": 4,
          "yref": "y"
         },
         {
          "font": {
           "color": "#000000"
          },
          "showarrow": false,
          "text": "0.11",
          "x": 15,
          "xref": "x",
          "y": 4,
          "yref": "y"
         },
         {
          "font": {
           "color": "#000000"
          },
          "showarrow": false,
          "text": "0.02",
          "x": 0,
          "xref": "x",
          "y": 5,
          "yref": "y"
         },
         {
          "font": {
           "color": "#000000"
          },
          "showarrow": false,
          "text": "0.0",
          "x": 1,
          "xref": "x",
          "y": 5,
          "yref": "y"
         },
         {
          "font": {
           "color": "#000000"
          },
          "showarrow": false,
          "text": "0.09",
          "x": 2,
          "xref": "x",
          "y": 5,
          "yref": "y"
         },
         {
          "font": {
           "color": "#000000"
          },
          "showarrow": false,
          "text": "0.0",
          "x": 3,
          "xref": "x",
          "y": 5,
          "yref": "y"
         },
         {
          "font": {
           "color": "#000000"
          },
          "showarrow": false,
          "text": "0.09",
          "x": 4,
          "xref": "x",
          "y": 5,
          "yref": "y"
         },
         {
          "font": {
           "color": "#FFFFFF"
          },
          "showarrow": false,
          "text": "1.0",
          "x": 5,
          "xref": "x",
          "y": 5,
          "yref": "y"
         },
         {
          "font": {
           "color": "#000000"
          },
          "showarrow": false,
          "text": "0.45",
          "x": 6,
          "xref": "x",
          "y": 5,
          "yref": "y"
         },
         {
          "font": {
           "color": "#000000"
          },
          "showarrow": false,
          "text": "0.06",
          "x": 7,
          "xref": "x",
          "y": 5,
          "yref": "y"
         },
         {
          "font": {
           "color": "#000000"
          },
          "showarrow": false,
          "text": "0.03",
          "x": 8,
          "xref": "x",
          "y": 5,
          "yref": "y"
         },
         {
          "font": {
           "color": "#000000"
          },
          "showarrow": false,
          "text": "0.02",
          "x": 9,
          "xref": "x",
          "y": 5,
          "yref": "y"
         },
         {
          "font": {
           "color": "#000000"
          },
          "showarrow": false,
          "text": "0.03",
          "x": 10,
          "xref": "x",
          "y": 5,
          "yref": "y"
         },
         {
          "font": {
           "color": "#000000"
          },
          "showarrow": false,
          "text": "0.12",
          "x": 11,
          "xref": "x",
          "y": 5,
          "yref": "y"
         },
         {
          "font": {
           "color": "#000000"
          },
          "showarrow": false,
          "text": "0.02",
          "x": 12,
          "xref": "x",
          "y": 5,
          "yref": "y"
         },
         {
          "font": {
           "color": "#000000"
          },
          "showarrow": false,
          "text": "0.25",
          "x": 13,
          "xref": "x",
          "y": 5,
          "yref": "y"
         },
         {
          "font": {
           "color": "#000000"
          },
          "showarrow": false,
          "text": "0.29",
          "x": 14,
          "xref": "x",
          "y": 5,
          "yref": "y"
         },
         {
          "font": {
           "color": "#FFFFFF"
          },
          "showarrow": false,
          "text": "0.88",
          "x": 15,
          "xref": "x",
          "y": 5,
          "yref": "y"
         },
         {
          "font": {
           "color": "#000000"
          },
          "showarrow": false,
          "text": "0.0",
          "x": 0,
          "xref": "x",
          "y": 6,
          "yref": "y"
         },
         {
          "font": {
           "color": "#000000"
          },
          "showarrow": false,
          "text": "0.02",
          "x": 1,
          "xref": "x",
          "y": 6,
          "yref": "y"
         },
         {
          "font": {
           "color": "#000000"
          },
          "showarrow": false,
          "text": "0.05",
          "x": 2,
          "xref": "x",
          "y": 6,
          "yref": "y"
         },
         {
          "font": {
           "color": "#000000"
          },
          "showarrow": false,
          "text": "0.0",
          "x": 3,
          "xref": "x",
          "y": 6,
          "yref": "y"
         },
         {
          "font": {
           "color": "#000000"
          },
          "showarrow": false,
          "text": "0.03",
          "x": 4,
          "xref": "x",
          "y": 6,
          "yref": "y"
         },
         {
          "font": {
           "color": "#000000"
          },
          "showarrow": false,
          "text": "0.45",
          "x": 5,
          "xref": "x",
          "y": 6,
          "yref": "y"
         },
         {
          "font": {
           "color": "#FFFFFF"
          },
          "showarrow": false,
          "text": "1.0",
          "x": 6,
          "xref": "x",
          "y": 6,
          "yref": "y"
         },
         {
          "font": {
           "color": "#000000"
          },
          "showarrow": false,
          "text": "0.04",
          "x": 7,
          "xref": "x",
          "y": 6,
          "yref": "y"
         },
         {
          "font": {
           "color": "#000000"
          },
          "showarrow": false,
          "text": "0.02",
          "x": 8,
          "xref": "x",
          "y": 6,
          "yref": "y"
         },
         {
          "font": {
           "color": "#000000"
          },
          "showarrow": false,
          "text": "0.03",
          "x": 9,
          "xref": "x",
          "y": 6,
          "yref": "y"
         },
         {
          "font": {
           "color": "#000000"
          },
          "showarrow": false,
          "text": "0.02",
          "x": 10,
          "xref": "x",
          "y": 6,
          "yref": "y"
         },
         {
          "font": {
           "color": "#000000"
          },
          "showarrow": false,
          "text": "0.04",
          "x": 11,
          "xref": "x",
          "y": 6,
          "yref": "y"
         },
         {
          "font": {
           "color": "#000000"
          },
          "showarrow": false,
          "text": "0.01",
          "x": 12,
          "xref": "x",
          "y": 6,
          "yref": "y"
         },
         {
          "font": {
           "color": "#000000"
          },
          "showarrow": false,
          "text": "0.15",
          "x": 13,
          "xref": "x",
          "y": 6,
          "yref": "y"
         },
         {
          "font": {
           "color": "#000000"
          },
          "showarrow": false,
          "text": "0.18",
          "x": 14,
          "xref": "x",
          "y": 6,
          "yref": "y"
         },
         {
          "font": {
           "color": "#FFFFFF"
          },
          "showarrow": false,
          "text": "0.54",
          "x": 15,
          "xref": "x",
          "y": 6,
          "yref": "y"
         },
         {
          "font": {
           "color": "#FFFFFF"
          },
          "showarrow": false,
          "text": "0.5",
          "x": 0,
          "xref": "x",
          "y": 7,
          "yref": "y"
         },
         {
          "font": {
           "color": "#000000"
          },
          "showarrow": false,
          "text": "0.1",
          "x": 1,
          "xref": "x",
          "y": 7,
          "yref": "y"
         },
         {
          "font": {
           "color": "#000000"
          },
          "showarrow": false,
          "text": "0.05",
          "x": 2,
          "xref": "x",
          "y": 7,
          "yref": "y"
         },
         {
          "font": {
           "color": "#000000"
          },
          "showarrow": false,
          "text": "0.04",
          "x": 3,
          "xref": "x",
          "y": 7,
          "yref": "y"
         },
         {
          "font": {
           "color": "#000000"
          },
          "showarrow": false,
          "text": "0.06",
          "x": 4,
          "xref": "x",
          "y": 7,
          "yref": "y"
         },
         {
          "font": {
           "color": "#000000"
          },
          "showarrow": false,
          "text": "0.06",
          "x": 5,
          "xref": "x",
          "y": 7,
          "yref": "y"
         },
         {
          "font": {
           "color": "#000000"
          },
          "showarrow": false,
          "text": "0.04",
          "x": 6,
          "xref": "x",
          "y": 7,
          "yref": "y"
         },
         {
          "font": {
           "color": "#FFFFFF"
          },
          "showarrow": false,
          "text": "1.0",
          "x": 7,
          "xref": "x",
          "y": 7,
          "yref": "y"
         },
         {
          "font": {
           "color": "#000000"
          },
          "showarrow": false,
          "text": "0.21",
          "x": 8,
          "xref": "x",
          "y": 7,
          "yref": "y"
         },
         {
          "font": {
           "color": "#000000"
          },
          "showarrow": false,
          "text": "0.46",
          "x": 9,
          "xref": "x",
          "y": 7,
          "yref": "y"
         },
         {
          "font": {
           "color": "#000000"
          },
          "showarrow": false,
          "text": "0.04",
          "x": 10,
          "xref": "x",
          "y": 7,
          "yref": "y"
         },
         {
          "font": {
           "color": "#000000"
          },
          "showarrow": false,
          "text": "0.28",
          "x": 11,
          "xref": "x",
          "y": 7,
          "yref": "y"
         },
         {
          "font": {
           "color": "#000000"
          },
          "showarrow": false,
          "text": "0.11",
          "x": 12,
          "xref": "x",
          "y": 7,
          "yref": "y"
         },
         {
          "font": {
           "color": "#000000"
          },
          "showarrow": false,
          "text": "0.15",
          "x": 13,
          "xref": "x",
          "y": 7,
          "yref": "y"
         },
         {
          "font": {
           "color": "#000000"
          },
          "showarrow": false,
          "text": "0.11",
          "x": 14,
          "xref": "x",
          "y": 7,
          "yref": "y"
         },
         {
          "font": {
           "color": "#000000"
          },
          "showarrow": false,
          "text": "0.06",
          "x": 15,
          "xref": "x",
          "y": 7,
          "yref": "y"
         },
         {
          "font": {
           "color": "#000000"
          },
          "showarrow": false,
          "text": "0.43",
          "x": 0,
          "xref": "x",
          "y": 8,
          "yref": "y"
         },
         {
          "font": {
           "color": "#000000"
          },
          "showarrow": false,
          "text": "0.03",
          "x": 1,
          "xref": "x",
          "y": 8,
          "yref": "y"
         },
         {
          "font": {
           "color": "#000000"
          },
          "showarrow": false,
          "text": "0.01",
          "x": 2,
          "xref": "x",
          "y": 8,
          "yref": "y"
         },
         {
          "font": {
           "color": "#000000"
          },
          "showarrow": false,
          "text": "0.02",
          "x": 3,
          "xref": "x",
          "y": 8,
          "yref": "y"
         },
         {
          "font": {
           "color": "#000000"
          },
          "showarrow": false,
          "text": "0.03",
          "x": 4,
          "xref": "x",
          "y": 8,
          "yref": "y"
         },
         {
          "font": {
           "color": "#000000"
          },
          "showarrow": false,
          "text": "0.03",
          "x": 5,
          "xref": "x",
          "y": 8,
          "yref": "y"
         },
         {
          "font": {
           "color": "#000000"
          },
          "showarrow": false,
          "text": "0.02",
          "x": 6,
          "xref": "x",
          "y": 8,
          "yref": "y"
         },
         {
          "font": {
           "color": "#000000"
          },
          "showarrow": false,
          "text": "0.21",
          "x": 7,
          "xref": "x",
          "y": 8,
          "yref": "y"
         },
         {
          "font": {
           "color": "#FFFFFF"
          },
          "showarrow": false,
          "text": "1.0",
          "x": 8,
          "xref": "x",
          "y": 8,
          "yref": "y"
         },
         {
          "font": {
           "color": "#000000"
          },
          "showarrow": false,
          "text": "0.12",
          "x": 9,
          "xref": "x",
          "y": 8,
          "yref": "y"
         },
         {
          "font": {
           "color": "#000000"
          },
          "showarrow": false,
          "text": "0.02",
          "x": 10,
          "xref": "x",
          "y": 8,
          "yref": "y"
         },
         {
          "font": {
           "color": "#000000"
          },
          "showarrow": false,
          "text": "0.02",
          "x": 11,
          "xref": "x",
          "y": 8,
          "yref": "y"
         },
         {
          "font": {
           "color": "#000000"
          },
          "showarrow": false,
          "text": "0.05",
          "x": 12,
          "xref": "x",
          "y": 8,
          "yref": "y"
         },
         {
          "font": {
           "color": "#000000"
          },
          "showarrow": false,
          "text": "0.05",
          "x": 13,
          "xref": "x",
          "y": 8,
          "yref": "y"
         },
         {
          "font": {
           "color": "#000000"
          },
          "showarrow": false,
          "text": "0.07",
          "x": 14,
          "xref": "x",
          "y": 8,
          "yref": "y"
         },
         {
          "font": {
           "color": "#000000"
          },
          "showarrow": false,
          "text": "0.03",
          "x": 15,
          "xref": "x",
          "y": 8,
          "yref": "y"
         },
         {
          "font": {
           "color": "#000000"
          },
          "showarrow": false,
          "text": "0.22",
          "x": 0,
          "xref": "x",
          "y": 9,
          "yref": "y"
         },
         {
          "font": {
           "color": "#000000"
          },
          "showarrow": false,
          "text": "0.09",
          "x": 1,
          "xref": "x",
          "y": 9,
          "yref": "y"
         },
         {
          "font": {
           "color": "#000000"
          },
          "showarrow": false,
          "text": "0.03",
          "x": 2,
          "xref": "x",
          "y": 9,
          "yref": "y"
         },
         {
          "font": {
           "color": "#000000"
          },
          "showarrow": false,
          "text": "0.0",
          "x": 3,
          "xref": "x",
          "y": 9,
          "yref": "y"
         },
         {
          "font": {
           "color": "#000000"
          },
          "showarrow": false,
          "text": "0.02",
          "x": 4,
          "xref": "x",
          "y": 9,
          "yref": "y"
         },
         {
          "font": {
           "color": "#000000"
          },
          "showarrow": false,
          "text": "0.02",
          "x": 5,
          "xref": "x",
          "y": 9,
          "yref": "y"
         },
         {
          "font": {
           "color": "#000000"
          },
          "showarrow": false,
          "text": "0.03",
          "x": 6,
          "xref": "x",
          "y": 9,
          "yref": "y"
         },
         {
          "font": {
           "color": "#000000"
          },
          "showarrow": false,
          "text": "0.46",
          "x": 7,
          "xref": "x",
          "y": 9,
          "yref": "y"
         },
         {
          "font": {
           "color": "#000000"
          },
          "showarrow": false,
          "text": "0.12",
          "x": 8,
          "xref": "x",
          "y": 9,
          "yref": "y"
         },
         {
          "font": {
           "color": "#FFFFFF"
          },
          "showarrow": false,
          "text": "1.0",
          "x": 9,
          "xref": "x",
          "y": 9,
          "yref": "y"
         },
         {
          "font": {
           "color": "#000000"
          },
          "showarrow": false,
          "text": "0.02",
          "x": 10,
          "xref": "x",
          "y": 9,
          "yref": "y"
         },
         {
          "font": {
           "color": "#000000"
          },
          "showarrow": false,
          "text": "0.12",
          "x": 11,
          "xref": "x",
          "y": 9,
          "yref": "y"
         },
         {
          "font": {
           "color": "#000000"
          },
          "showarrow": false,
          "text": "0.08",
          "x": 12,
          "xref": "x",
          "y": 9,
          "yref": "y"
         },
         {
          "font": {
           "color": "#000000"
          },
          "showarrow": false,
          "text": "0.12",
          "x": 13,
          "xref": "x",
          "y": 9,
          "yref": "y"
         },
         {
          "font": {
           "color": "#000000"
          },
          "showarrow": false,
          "text": "0.11",
          "x": 14,
          "xref": "x",
          "y": 9,
          "yref": "y"
         },
         {
          "font": {
           "color": "#000000"
          },
          "showarrow": false,
          "text": "0.04",
          "x": 15,
          "xref": "x",
          "y": 9,
          "yref": "y"
         },
         {
          "font": {
           "color": "#000000"
          },
          "showarrow": false,
          "text": "0.02",
          "x": 0,
          "xref": "x",
          "y": 10,
          "yref": "y"
         },
         {
          "font": {
           "color": "#000000"
          },
          "showarrow": false,
          "text": "0.07",
          "x": 1,
          "xref": "x",
          "y": 10,
          "yref": "y"
         },
         {
          "font": {
           "color": "#000000"
          },
          "showarrow": false,
          "text": "0.01",
          "x": 2,
          "xref": "x",
          "y": 10,
          "yref": "y"
         },
         {
          "font": {
           "color": "#000000"
          },
          "showarrow": false,
          "text": "0.01",
          "x": 3,
          "xref": "x",
          "y": 10,
          "yref": "y"
         },
         {
          "font": {
           "color": "#000000"
          },
          "showarrow": false,
          "text": "0.02",
          "x": 4,
          "xref": "x",
          "y": 10,
          "yref": "y"
         },
         {
          "font": {
           "color": "#000000"
          },
          "showarrow": false,
          "text": "0.03",
          "x": 5,
          "xref": "x",
          "y": 10,
          "yref": "y"
         },
         {
          "font": {
           "color": "#000000"
          },
          "showarrow": false,
          "text": "0.02",
          "x": 6,
          "xref": "x",
          "y": 10,
          "yref": "y"
         },
         {
          "font": {
           "color": "#000000"
          },
          "showarrow": false,
          "text": "0.04",
          "x": 7,
          "xref": "x",
          "y": 10,
          "yref": "y"
         },
         {
          "font": {
           "color": "#000000"
          },
          "showarrow": false,
          "text": "0.02",
          "x": 8,
          "xref": "x",
          "y": 10,
          "yref": "y"
         },
         {
          "font": {
           "color": "#000000"
          },
          "showarrow": false,
          "text": "0.02",
          "x": 9,
          "xref": "x",
          "y": 10,
          "yref": "y"
         },
         {
          "font": {
           "color": "#FFFFFF"
          },
          "showarrow": false,
          "text": "1.0",
          "x": 10,
          "xref": "x",
          "y": 10,
          "yref": "y"
         },
         {
          "font": {
           "color": "#000000"
          },
          "showarrow": false,
          "text": "0.01",
          "x": 11,
          "xref": "x",
          "y": 10,
          "yref": "y"
         },
         {
          "font": {
           "color": "#000000"
          },
          "showarrow": false,
          "text": "0.08",
          "x": 12,
          "xref": "x",
          "y": 10,
          "yref": "y"
         },
         {
          "font": {
           "color": "#000000"
          },
          "showarrow": false,
          "text": "0.02",
          "x": 13,
          "xref": "x",
          "y": 10,
          "yref": "y"
         },
         {
          "font": {
           "color": "#000000"
          },
          "showarrow": false,
          "text": "0.06",
          "x": 14,
          "xref": "x",
          "y": 10,
          "yref": "y"
         },
         {
          "font": {
           "color": "#000000"
          },
          "showarrow": false,
          "text": "0.04",
          "x": 15,
          "xref": "x",
          "y": 10,
          "yref": "y"
         },
         {
          "font": {
           "color": "#000000"
          },
          "showarrow": false,
          "text": "0.19",
          "x": 0,
          "xref": "x",
          "y": 11,
          "yref": "y"
         },
         {
          "font": {
           "color": "#000000"
          },
          "showarrow": false,
          "text": "0.07",
          "x": 1,
          "xref": "x",
          "y": 11,
          "yref": "y"
         },
         {
          "font": {
           "color": "#000000"
          },
          "showarrow": false,
          "text": "0.03",
          "x": 2,
          "xref": "x",
          "y": 11,
          "yref": "y"
         },
         {
          "font": {
           "color": "#000000"
          },
          "showarrow": false,
          "text": "0.01",
          "x": 3,
          "xref": "x",
          "y": 11,
          "yref": "y"
         },
         {
          "font": {
           "color": "#000000"
          },
          "showarrow": false,
          "text": "0.02",
          "x": 4,
          "xref": "x",
          "y": 11,
          "yref": "y"
         },
         {
          "font": {
           "color": "#000000"
          },
          "showarrow": false,
          "text": "0.12",
          "x": 5,
          "xref": "x",
          "y": 11,
          "yref": "y"
         },
         {
          "font": {
           "color": "#000000"
          },
          "showarrow": false,
          "text": "0.04",
          "x": 6,
          "xref": "x",
          "y": 11,
          "yref": "y"
         },
         {
          "font": {
           "color": "#000000"
          },
          "showarrow": false,
          "text": "0.28",
          "x": 7,
          "xref": "x",
          "y": 11,
          "yref": "y"
         },
         {
          "font": {
           "color": "#000000"
          },
          "showarrow": false,
          "text": "0.02",
          "x": 8,
          "xref": "x",
          "y": 11,
          "yref": "y"
         },
         {
          "font": {
           "color": "#000000"
          },
          "showarrow": false,
          "text": "0.12",
          "x": 9,
          "xref": "x",
          "y": 11,
          "yref": "y"
         },
         {
          "font": {
           "color": "#000000"
          },
          "showarrow": false,
          "text": "0.01",
          "x": 10,
          "xref": "x",
          "y": 11,
          "yref": "y"
         },
         {
          "font": {
           "color": "#FFFFFF"
          },
          "showarrow": false,
          "text": "1.0",
          "x": 11,
          "xref": "x",
          "y": 11,
          "yref": "y"
         },
         {
          "font": {
           "color": "#000000"
          },
          "showarrow": false,
          "text": "0.04",
          "x": 12,
          "xref": "x",
          "y": 11,
          "yref": "y"
         },
         {
          "font": {
           "color": "#000000"
          },
          "showarrow": false,
          "text": "0.21",
          "x": 13,
          "xref": "x",
          "y": 11,
          "yref": "y"
         },
         {
          "font": {
           "color": "#FFFFFF"
          },
          "showarrow": false,
          "text": "0.5",
          "x": 14,
          "xref": "x",
          "y": 11,
          "yref": "y"
         },
         {
          "font": {
           "color": "#000000"
          },
          "showarrow": false,
          "text": "0.14",
          "x": 15,
          "xref": "x",
          "y": 11,
          "yref": "y"
         },
         {
          "font": {
           "color": "#000000"
          },
          "showarrow": false,
          "text": "0.02",
          "x": 0,
          "xref": "x",
          "y": 12,
          "yref": "y"
         },
         {
          "font": {
           "color": "#000000"
          },
          "showarrow": false,
          "text": "0.08",
          "x": 1,
          "xref": "x",
          "y": 12,
          "yref": "y"
         },
         {
          "font": {
           "color": "#000000"
          },
          "showarrow": false,
          "text": "0.01",
          "x": 2,
          "xref": "x",
          "y": 12,
          "yref": "y"
         },
         {
          "font": {
           "color": "#000000"
          },
          "showarrow": false,
          "text": "0.01",
          "x": 3,
          "xref": "x",
          "y": 12,
          "yref": "y"
         },
         {
          "font": {
           "color": "#000000"
          },
          "showarrow": false,
          "text": "0.01",
          "x": 4,
          "xref": "x",
          "y": 12,
          "yref": "y"
         },
         {
          "font": {
           "color": "#000000"
          },
          "showarrow": false,
          "text": "0.02",
          "x": 5,
          "xref": "x",
          "y": 12,
          "yref": "y"
         },
         {
          "font": {
           "color": "#000000"
          },
          "showarrow": false,
          "text": "0.01",
          "x": 6,
          "xref": "x",
          "y": 12,
          "yref": "y"
         },
         {
          "font": {
           "color": "#000000"
          },
          "showarrow": false,
          "text": "0.11",
          "x": 7,
          "xref": "x",
          "y": 12,
          "yref": "y"
         },
         {
          "font": {
           "color": "#000000"
          },
          "showarrow": false,
          "text": "0.05",
          "x": 8,
          "xref": "x",
          "y": 12,
          "yref": "y"
         },
         {
          "font": {
           "color": "#000000"
          },
          "showarrow": false,
          "text": "0.08",
          "x": 9,
          "xref": "x",
          "y": 12,
          "yref": "y"
         },
         {
          "font": {
           "color": "#000000"
          },
          "showarrow": false,
          "text": "0.08",
          "x": 10,
          "xref": "x",
          "y": 12,
          "yref": "y"
         },
         {
          "font": {
           "color": "#000000"
          },
          "showarrow": false,
          "text": "0.04",
          "x": 11,
          "xref": "x",
          "y": 12,
          "yref": "y"
         },
         {
          "font": {
           "color": "#FFFFFF"
          },
          "showarrow": false,
          "text": "1.0",
          "x": 12,
          "xref": "x",
          "y": 12,
          "yref": "y"
         },
         {
          "font": {
           "color": "#000000"
          },
          "showarrow": false,
          "text": "0.02",
          "x": 13,
          "xref": "x",
          "y": 12,
          "yref": "y"
         },
         {
          "font": {
           "color": "#000000"
          },
          "showarrow": false,
          "text": "0.18",
          "x": 14,
          "xref": "x",
          "y": 12,
          "yref": "y"
         },
         {
          "font": {
           "color": "#000000"
          },
          "showarrow": false,
          "text": "0.06",
          "x": 15,
          "xref": "x",
          "y": 12,
          "yref": "y"
         },
         {
          "font": {
           "color": "#000000"
          },
          "showarrow": false,
          "text": "0.17",
          "x": 0,
          "xref": "x",
          "y": 13,
          "yref": "y"
         },
         {
          "font": {
           "color": "#000000"
          },
          "showarrow": false,
          "text": "0.05",
          "x": 1,
          "xref": "x",
          "y": 13,
          "yref": "y"
         },
         {
          "font": {
           "color": "#000000"
          },
          "showarrow": false,
          "text": "0.04",
          "x": 2,
          "xref": "x",
          "y": 13,
          "yref": "y"
         },
         {
          "font": {
           "color": "#000000"
          },
          "showarrow": false,
          "text": "0.03",
          "x": 3,
          "xref": "x",
          "y": 13,
          "yref": "y"
         },
         {
          "font": {
           "color": "#000000"
          },
          "showarrow": false,
          "text": "0.06",
          "x": 4,
          "xref": "x",
          "y": 13,
          "yref": "y"
         },
         {
          "font": {
           "color": "#000000"
          },
          "showarrow": false,
          "text": "0.25",
          "x": 5,
          "xref": "x",
          "y": 13,
          "yref": "y"
         },
         {
          "font": {
           "color": "#000000"
          },
          "showarrow": false,
          "text": "0.15",
          "x": 6,
          "xref": "x",
          "y": 13,
          "yref": "y"
         },
         {
          "font": {
           "color": "#000000"
          },
          "showarrow": false,
          "text": "0.15",
          "x": 7,
          "xref": "x",
          "y": 13,
          "yref": "y"
         },
         {
          "font": {
           "color": "#000000"
          },
          "showarrow": false,
          "text": "0.05",
          "x": 8,
          "xref": "x",
          "y": 13,
          "yref": "y"
         },
         {
          "font": {
           "color": "#000000"
          },
          "showarrow": false,
          "text": "0.12",
          "x": 9,
          "xref": "x",
          "y": 13,
          "yref": "y"
         },
         {
          "font": {
           "color": "#000000"
          },
          "showarrow": false,
          "text": "0.02",
          "x": 10,
          "xref": "x",
          "y": 13,
          "yref": "y"
         },
         {
          "font": {
           "color": "#000000"
          },
          "showarrow": false,
          "text": "0.21",
          "x": 11,
          "xref": "x",
          "y": 13,
          "yref": "y"
         },
         {
          "font": {
           "color": "#000000"
          },
          "showarrow": false,
          "text": "0.02",
          "x": 12,
          "xref": "x",
          "y": 13,
          "yref": "y"
         },
         {
          "font": {
           "color": "#FFFFFF"
          },
          "showarrow": false,
          "text": "1.0",
          "x": 13,
          "xref": "x",
          "y": 13,
          "yref": "y"
         },
         {
          "font": {
           "color": "#FFFFFF"
          },
          "showarrow": false,
          "text": "0.51",
          "x": 14,
          "xref": "x",
          "y": 13,
          "yref": "y"
         },
         {
          "font": {
           "color": "#000000"
          },
          "showarrow": false,
          "text": "0.21",
          "x": 15,
          "xref": "x",
          "y": 13,
          "yref": "y"
         },
         {
          "font": {
           "color": "#000000"
          },
          "showarrow": false,
          "text": "0.16",
          "x": 0,
          "xref": "x",
          "y": 14,
          "yref": "y"
         },
         {
          "font": {
           "color": "#000000"
          },
          "showarrow": false,
          "text": "0.16",
          "x": 1,
          "xref": "x",
          "y": 14,
          "yref": "y"
         },
         {
          "font": {
           "color": "#000000"
          },
          "showarrow": false,
          "text": "0.45",
          "x": 2,
          "xref": "x",
          "y": 14,
          "yref": "y"
         },
         {
          "font": {
           "color": "#000000"
          },
          "showarrow": false,
          "text": "0.07",
          "x": 3,
          "xref": "x",
          "y": 14,
          "yref": "y"
         },
         {
          "font": {
           "color": "#000000"
          },
          "showarrow": false,
          "text": "0.23",
          "x": 4,
          "xref": "x",
          "y": 14,
          "yref": "y"
         },
         {
          "font": {
           "color": "#000000"
          },
          "showarrow": false,
          "text": "0.29",
          "x": 5,
          "xref": "x",
          "y": 14,
          "yref": "y"
         },
         {
          "font": {
           "color": "#000000"
          },
          "showarrow": false,
          "text": "0.18",
          "x": 6,
          "xref": "x",
          "y": 14,
          "yref": "y"
         },
         {
          "font": {
           "color": "#000000"
          },
          "showarrow": false,
          "text": "0.11",
          "x": 7,
          "xref": "x",
          "y": 14,
          "yref": "y"
         },
         {
          "font": {
           "color": "#000000"
          },
          "showarrow": false,
          "text": "0.07",
          "x": 8,
          "xref": "x",
          "y": 14,
          "yref": "y"
         },
         {
          "font": {
           "color": "#000000"
          },
          "showarrow": false,
          "text": "0.11",
          "x": 9,
          "xref": "x",
          "y": 14,
          "yref": "y"
         },
         {
          "font": {
           "color": "#000000"
          },
          "showarrow": false,
          "text": "0.06",
          "x": 10,
          "xref": "x",
          "y": 14,
          "yref": "y"
         },
         {
          "font": {
           "color": "#FFFFFF"
          },
          "showarrow": false,
          "text": "0.5",
          "x": 11,
          "xref": "x",
          "y": 14,
          "yref": "y"
         },
         {
          "font": {
           "color": "#000000"
          },
          "showarrow": false,
          "text": "0.18",
          "x": 12,
          "xref": "x",
          "y": 14,
          "yref": "y"
         },
         {
          "font": {
           "color": "#FFFFFF"
          },
          "showarrow": false,
          "text": "0.51",
          "x": 13,
          "xref": "x",
          "y": 14,
          "yref": "y"
         },
         {
          "font": {
           "color": "#FFFFFF"
          },
          "showarrow": false,
          "text": "1.0",
          "x": 14,
          "xref": "x",
          "y": 14,
          "yref": "y"
         },
         {
          "font": {
           "color": "#000000"
          },
          "showarrow": false,
          "text": "0.21",
          "x": 15,
          "xref": "x",
          "y": 14,
          "yref": "y"
         },
         {
          "font": {
           "color": "#000000"
          },
          "showarrow": false,
          "text": "0.04",
          "x": 0,
          "xref": "x",
          "y": 15,
          "yref": "y"
         },
         {
          "font": {
           "color": "#000000"
          },
          "showarrow": false,
          "text": "0.04",
          "x": 1,
          "xref": "x",
          "y": 15,
          "yref": "y"
         },
         {
          "font": {
           "color": "#000000"
          },
          "showarrow": false,
          "text": "0.09",
          "x": 2,
          "xref": "x",
          "y": 15,
          "yref": "y"
         },
         {
          "font": {
           "color": "#000000"
          },
          "showarrow": false,
          "text": "0.05",
          "x": 3,
          "xref": "x",
          "y": 15,
          "yref": "y"
         },
         {
          "font": {
           "color": "#000000"
          },
          "showarrow": false,
          "text": "0.11",
          "x": 4,
          "xref": "x",
          "y": 15,
          "yref": "y"
         },
         {
          "font": {
           "color": "#FFFFFF"
          },
          "showarrow": false,
          "text": "0.88",
          "x": 5,
          "xref": "x",
          "y": 15,
          "yref": "y"
         },
         {
          "font": {
           "color": "#FFFFFF"
          },
          "showarrow": false,
          "text": "0.54",
          "x": 6,
          "xref": "x",
          "y": 15,
          "yref": "y"
         },
         {
          "font": {
           "color": "#000000"
          },
          "showarrow": false,
          "text": "0.06",
          "x": 7,
          "xref": "x",
          "y": 15,
          "yref": "y"
         },
         {
          "font": {
           "color": "#000000"
          },
          "showarrow": false,
          "text": "0.03",
          "x": 8,
          "xref": "x",
          "y": 15,
          "yref": "y"
         },
         {
          "font": {
           "color": "#000000"
          },
          "showarrow": false,
          "text": "0.04",
          "x": 9,
          "xref": "x",
          "y": 15,
          "yref": "y"
         },
         {
          "font": {
           "color": "#000000"
          },
          "showarrow": false,
          "text": "0.04",
          "x": 10,
          "xref": "x",
          "y": 15,
          "yref": "y"
         },
         {
          "font": {
           "color": "#000000"
          },
          "showarrow": false,
          "text": "0.14",
          "x": 11,
          "xref": "x",
          "y": 15,
          "yref": "y"
         },
         {
          "font": {
           "color": "#000000"
          },
          "showarrow": false,
          "text": "0.06",
          "x": 12,
          "xref": "x",
          "y": 15,
          "yref": "y"
         },
         {
          "font": {
           "color": "#000000"
          },
          "showarrow": false,
          "text": "0.21",
          "x": 13,
          "xref": "x",
          "y": 15,
          "yref": "y"
         },
         {
          "font": {
           "color": "#000000"
          },
          "showarrow": false,
          "text": "0.21",
          "x": 14,
          "xref": "x",
          "y": 15,
          "yref": "y"
         },
         {
          "font": {
           "color": "#FFFFFF"
          },
          "showarrow": false,
          "text": "1.0",
          "x": 15,
          "xref": "x",
          "y": 15,
          "yref": "y"
         }
        ],
        "coloraxis": {
         "colorbar": {
          "dtick": 5,
          "len": 200,
          "lenmode": "pixels",
          "thickness": 50,
          "thicknessmode": "pixels",
          "ticks": "outside",
          "y": 1,
          "yanchor": "top"
         }
        },
        "height": 766,
        "hoverlabel": {
         "bgcolor": "white",
         "font": {
          "family": "Arial",
          "size": 12
         }
        },
        "margin": {
         "b": 0,
         "l": 270,
         "r": 280,
         "t": 150
        },
        "modebar": {
         "activecolor": "rgba(68,68,68,0.7)",
         "bgcolor": "rgba(0,0,0,0)",
         "color": "rgba(68,68,68,0.3)"
        },
        "paper_bgcolor": "rgba(0,0,0,0)",
        "plot_bgcolor": "rgba(238,238,238,0)",
        "template": {
         "data": {
          "bar": [
           {
            "error_x": {
             "color": "#2a3f5f"
            },
            "error_y": {
             "color": "#2a3f5f"
            },
            "marker": {
             "line": {
              "color": "#E5ECF6",
              "width": 0.5
             },
             "pattern": {
              "fillmode": "overlay",
              "size": 10,
              "solidity": 0.2
             }
            },
            "type": "bar"
           }
          ],
          "barpolar": [
           {
            "marker": {
             "line": {
              "color": "#E5ECF6",
              "width": 0.5
             },
             "pattern": {
              "fillmode": "overlay",
              "size": 10,
              "solidity": 0.2
             }
            },
            "type": "barpolar"
           }
          ],
          "carpet": [
           {
            "aaxis": {
             "endlinecolor": "#2a3f5f",
             "gridcolor": "white",
             "linecolor": "white",
             "minorgridcolor": "white",
             "startlinecolor": "#2a3f5f"
            },
            "baxis": {
             "endlinecolor": "#2a3f5f",
             "gridcolor": "white",
             "linecolor": "white",
             "minorgridcolor": "white",
             "startlinecolor": "#2a3f5f"
            },
            "type": "carpet"
           }
          ],
          "choropleth": [
           {
            "colorbar": {
             "outlinewidth": 0,
             "ticks": ""
            },
            "type": "choropleth"
           }
          ],
          "contour": [
           {
            "colorbar": {
             "outlinewidth": 0,
             "ticks": ""
            },
            "colorscale": [
             [
              0,
              "#0d0887"
             ],
             [
              0.1111111111111111,
              "#46039f"
             ],
             [
              0.2222222222222222,
              "#7201a8"
             ],
             [
              0.3333333333333333,
              "#9c179e"
             ],
             [
              0.4444444444444444,
              "#bd3786"
             ],
             [
              0.5555555555555556,
              "#d8576b"
             ],
             [
              0.6666666666666666,
              "#ed7953"
             ],
             [
              0.7777777777777778,
              "#fb9f3a"
             ],
             [
              0.8888888888888888,
              "#fdca26"
             ],
             [
              1,
              "#f0f921"
             ]
            ],
            "type": "contour"
           }
          ],
          "contourcarpet": [
           {
            "colorbar": {
             "outlinewidth": 0,
             "ticks": ""
            },
            "type": "contourcarpet"
           }
          ],
          "heatmap": [
           {
            "colorbar": {
             "outlinewidth": 0,
             "ticks": ""
            },
            "colorscale": [
             [
              0,
              "#0d0887"
             ],
             [
              0.1111111111111111,
              "#46039f"
             ],
             [
              0.2222222222222222,
              "#7201a8"
             ],
             [
              0.3333333333333333,
              "#9c179e"
             ],
             [
              0.4444444444444444,
              "#bd3786"
             ],
             [
              0.5555555555555556,
              "#d8576b"
             ],
             [
              0.6666666666666666,
              "#ed7953"
             ],
             [
              0.7777777777777778,
              "#fb9f3a"
             ],
             [
              0.8888888888888888,
              "#fdca26"
             ],
             [
              1,
              "#f0f921"
             ]
            ],
            "type": "heatmap"
           }
          ],
          "heatmapgl": [
           {
            "colorbar": {
             "outlinewidth": 0,
             "ticks": ""
            },
            "colorscale": [
             [
              0,
              "#0d0887"
             ],
             [
              0.1111111111111111,
              "#46039f"
             ],
             [
              0.2222222222222222,
              "#7201a8"
             ],
             [
              0.3333333333333333,
              "#9c179e"
             ],
             [
              0.4444444444444444,
              "#bd3786"
             ],
             [
              0.5555555555555556,
              "#d8576b"
             ],
             [
              0.6666666666666666,
              "#ed7953"
             ],
             [
              0.7777777777777778,
              "#fb9f3a"
             ],
             [
              0.8888888888888888,
              "#fdca26"
             ],
             [
              1,
              "#f0f921"
             ]
            ],
            "type": "heatmapgl"
           }
          ],
          "histogram": [
           {
            "marker": {
             "pattern": {
              "fillmode": "overlay",
              "size": 10,
              "solidity": 0.2
             }
            },
            "type": "histogram"
           }
          ],
          "histogram2d": [
           {
            "colorbar": {
             "outlinewidth": 0,
             "ticks": ""
            },
            "colorscale": [
             [
              0,
              "#0d0887"
             ],
             [
              0.1111111111111111,
              "#46039f"
             ],
             [
              0.2222222222222222,
              "#7201a8"
             ],
             [
              0.3333333333333333,
              "#9c179e"
             ],
             [
              0.4444444444444444,
              "#bd3786"
             ],
             [
              0.5555555555555556,
              "#d8576b"
             ],
             [
              0.6666666666666666,
              "#ed7953"
             ],
             [
              0.7777777777777778,
              "#fb9f3a"
             ],
             [
              0.8888888888888888,
              "#fdca26"
             ],
             [
              1,
              "#f0f921"
             ]
            ],
            "type": "histogram2d"
           }
          ],
          "histogram2dcontour": [
           {
            "colorbar": {
             "outlinewidth": 0,
             "ticks": ""
            },
            "colorscale": [
             [
              0,
              "#0d0887"
             ],
             [
              0.1111111111111111,
              "#46039f"
             ],
             [
              0.2222222222222222,
              "#7201a8"
             ],
             [
              0.3333333333333333,
              "#9c179e"
             ],
             [
              0.4444444444444444,
              "#bd3786"
             ],
             [
              0.5555555555555556,
              "#d8576b"
             ],
             [
              0.6666666666666666,
              "#ed7953"
             ],
             [
              0.7777777777777778,
              "#fb9f3a"
             ],
             [
              0.8888888888888888,
              "#fdca26"
             ],
             [
              1,
              "#f0f921"
             ]
            ],
            "type": "histogram2dcontour"
           }
          ],
          "mesh3d": [
           {
            "colorbar": {
             "outlinewidth": 0,
             "ticks": ""
            },
            "type": "mesh3d"
           }
          ],
          "parcoords": [
           {
            "line": {
             "colorbar": {
              "outlinewidth": 0,
              "ticks": ""
             }
            },
            "type": "parcoords"
           }
          ],
          "pie": [
           {
            "automargin": true,
            "type": "pie"
           }
          ],
          "scatter": [
           {
            "marker": {
             "colorbar": {
              "outlinewidth": 0,
              "ticks": ""
             }
            },
            "type": "scatter"
           }
          ],
          "scatter3d": [
           {
            "line": {
             "colorbar": {
              "outlinewidth": 0,
              "ticks": ""
             }
            },
            "marker": {
             "colorbar": {
              "outlinewidth": 0,
              "ticks": ""
             }
            },
            "type": "scatter3d"
           }
          ],
          "scattercarpet": [
           {
            "marker": {
             "colorbar": {
              "outlinewidth": 0,
              "ticks": ""
             }
            },
            "type": "scattercarpet"
           }
          ],
          "scattergeo": [
           {
            "marker": {
             "colorbar": {
              "outlinewidth": 0,
              "ticks": ""
             }
            },
            "type": "scattergeo"
           }
          ],
          "scattergl": [
           {
            "marker": {
             "colorbar": {
              "outlinewidth": 0,
              "ticks": ""
             }
            },
            "type": "scattergl"
           }
          ],
          "scattermapbox": [
           {
            "marker": {
             "colorbar": {
              "outlinewidth": 0,
              "ticks": ""
             }
            },
            "type": "scattermapbox"
           }
          ],
          "scatterpolar": [
           {
            "marker": {
             "colorbar": {
              "outlinewidth": 0,
              "ticks": ""
             }
            },
            "type": "scatterpolar"
           }
          ],
          "scatterpolargl": [
           {
            "marker": {
             "colorbar": {
              "outlinewidth": 0,
              "ticks": ""
             }
            },
            "type": "scatterpolargl"
           }
          ],
          "scatterternary": [
           {
            "marker": {
             "colorbar": {
              "outlinewidth": 0,
              "ticks": ""
             }
            },
            "type": "scatterternary"
           }
          ],
          "surface": [
           {
            "colorbar": {
             "outlinewidth": 0,
             "ticks": ""
            },
            "colorscale": [
             [
              0,
              "#0d0887"
             ],
             [
              0.1111111111111111,
              "#46039f"
             ],
             [
              0.2222222222222222,
              "#7201a8"
             ],
             [
              0.3333333333333333,
              "#9c179e"
             ],
             [
              0.4444444444444444,
              "#bd3786"
             ],
             [
              0.5555555555555556,
              "#d8576b"
             ],
             [
              0.6666666666666666,
              "#ed7953"
             ],
             [
              0.7777777777777778,
              "#fb9f3a"
             ],
             [
              0.8888888888888888,
              "#fdca26"
             ],
             [
              1,
              "#f0f921"
             ]
            ],
            "type": "surface"
           }
          ],
          "table": [
           {
            "cells": {
             "fill": {
              "color": "#EBF0F8"
             },
             "line": {
              "color": "white"
             }
            },
            "header": {
             "fill": {
              "color": "#C8D4E3"
             },
             "line": {
              "color": "white"
             }
            },
            "type": "table"
           }
          ]
         },
         "layout": {
          "annotationdefaults": {
           "arrowcolor": "#2a3f5f",
           "arrowhead": 0,
           "arrowwidth": 1
          },
          "autotypenumbers": "strict",
          "coloraxis": {
           "colorbar": {
            "outlinewidth": 0,
            "ticks": ""
           }
          },
          "colorscale": {
           "diverging": [
            [
             0,
             "#8e0152"
            ],
            [
             0.1,
             "#c51b7d"
            ],
            [
             0.2,
             "#de77ae"
            ],
            [
             0.3,
             "#f1b6da"
            ],
            [
             0.4,
             "#fde0ef"
            ],
            [
             0.5,
             "#f7f7f7"
            ],
            [
             0.6,
             "#e6f5d0"
            ],
            [
             0.7,
             "#b8e186"
            ],
            [
             0.8,
             "#7fbc41"
            ],
            [
             0.9,
             "#4d9221"
            ],
            [
             1,
             "#276419"
            ]
           ],
           "sequential": [
            [
             0,
             "#0d0887"
            ],
            [
             0.1111111111111111,
             "#46039f"
            ],
            [
             0.2222222222222222,
             "#7201a8"
            ],
            [
             0.3333333333333333,
             "#9c179e"
            ],
            [
             0.4444444444444444,
             "#bd3786"
            ],
            [
             0.5555555555555556,
             "#d8576b"
            ],
            [
             0.6666666666666666,
             "#ed7953"
            ],
            [
             0.7777777777777778,
             "#fb9f3a"
            ],
            [
             0.8888888888888888,
             "#fdca26"
            ],
            [
             1,
             "#f0f921"
            ]
           ],
           "sequentialminus": [
            [
             0,
             "#0d0887"
            ],
            [
             0.1111111111111111,
             "#46039f"
            ],
            [
             0.2222222222222222,
             "#7201a8"
            ],
            [
             0.3333333333333333,
             "#9c179e"
            ],
            [
             0.4444444444444444,
             "#bd3786"
            ],
            [
             0.5555555555555556,
             "#d8576b"
            ],
            [
             0.6666666666666666,
             "#ed7953"
            ],
            [
             0.7777777777777778,
             "#fb9f3a"
            ],
            [
             0.8888888888888888,
             "#fdca26"
            ],
            [
             1,
             "#f0f921"
            ]
           ]
          },
          "colorway": [
           "#636efa",
           "#EF553B",
           "#00cc96",
           "#ab63fa",
           "#FFA15A",
           "#19d3f3",
           "#FF6692",
           "#B6E880",
           "#FF97FF",
           "#FECB52"
          ],
          "font": {
           "color": "#2a3f5f"
          },
          "geo": {
           "bgcolor": "white",
           "lakecolor": "white",
           "landcolor": "#E5ECF6",
           "showlakes": true,
           "showland": true,
           "subunitcolor": "white"
          },
          "hoverlabel": {
           "align": "left"
          },
          "hovermode": "closest",
          "mapbox": {
           "style": "light"
          },
          "paper_bgcolor": "white",
          "plot_bgcolor": "#E5ECF6",
          "polar": {
           "angularaxis": {
            "gridcolor": "white",
            "linecolor": "white",
            "ticks": ""
           },
           "bgcolor": "#E5ECF6",
           "radialaxis": {
            "gridcolor": "white",
            "linecolor": "white",
            "ticks": ""
           }
          },
          "scene": {
           "xaxis": {
            "backgroundcolor": "#E5ECF6",
            "gridcolor": "white",
            "gridwidth": 2,
            "linecolor": "white",
            "showbackground": true,
            "ticks": "",
            "zerolinecolor": "white"
           },
           "yaxis": {
            "backgroundcolor": "#E5ECF6",
            "gridcolor": "white",
            "gridwidth": 2,
            "linecolor": "white",
            "showbackground": true,
            "ticks": "",
            "zerolinecolor": "white"
           },
           "zaxis": {
            "backgroundcolor": "#E5ECF6",
            "gridcolor": "white",
            "gridwidth": 2,
            "linecolor": "white",
            "showbackground": true,
            "ticks": "",
            "zerolinecolor": "white"
           }
          },
          "shapedefaults": {
           "line": {
            "color": "#2a3f5f"
           }
          },
          "ternary": {
           "aaxis": {
            "gridcolor": "white",
            "linecolor": "white",
            "ticks": ""
           },
           "baxis": {
            "gridcolor": "white",
            "linecolor": "white",
            "ticks": ""
           },
           "bgcolor": "#E5ECF6",
           "caxis": {
            "gridcolor": "white",
            "linecolor": "white",
            "ticks": ""
           }
          },
          "title": {
           "x": 0.05
          },
          "xaxis": {
           "automargin": true,
           "gridcolor": "white",
           "linecolor": "white",
           "ticks": "",
           "title": {
            "standoff": 15
           },
           "zerolinecolor": "white",
           "zerolinewidth": 2
          },
          "yaxis": {
           "automargin": true,
           "gridcolor": "white",
           "linecolor": "white",
           "ticks": "",
           "title": {
            "standoff": 15
           },
           "zerolinecolor": "white",
           "zerolinewidth": 2
          }
         }
        },
        "title": {
         "font": {
          "size": 22
         },
         "text": "Correlation",
         "x": 0,
         "xanchor": "left",
         "y": 0.99,
         "yanchor": "top"
        },
        "updatemenus": [
         {
          "active": 0,
          "bgcolor": "rgba(255,255,255,1)",
          "buttons": [
           {
            "args": [
             {
              "x": [
               [
                0,
                1,
                2,
                3,
                4,
                5,
                6,
                7,
                8,
                9,
                10,
                11,
                12,
                13,
                14,
                15
               ]
              ],
              "y": [
               [
                0,
                1,
                2,
                3,
                4,
                5,
                6,
                7,
                8,
                9,
                10,
                11,
                12,
                13,
                14,
                15
               ]
              ],
              "z": [
               [
                [
                 1,
                 0.097782739371348,
                 0.0091200456335523,
                 0.0046484284706156,
                 0.0047603117624537,
                 0.0237580141117282,
                 0.0012883192026692,
                 0.5011291136256929,
                 0.4334313328817917,
                 0.215201208925847,
                 0.0178793036087058,
                 0.1855130815371743,
                 0.0156552726566358,
                 0.1705550091417664,
                 0.1602179147820747,
                 0.0418052846926059
                ],
                [
                 0.097782739371348,
                 1,
                 0.0045025851297185,
                 0.0215603804946688,
                 0.0145782788507662,
                 0.0034353218681066,
                 0.0166736367283579,
                 0.1017757821030214,
                 0.0281721114432671,
                 0.0876566600280385,
                 0.066745057113631,
                 0.0687683156896658,
                 0.0843502457312265,
                 0.0493169409519651,
                 0.1558414443790849,
                 0.0395185384675558
                ],
                [
                 0.0091200456335523,
                 0.0045025851297185,
                 1,
                 0.0302063411386519,
                 0.1624902163261922,
                 0.0930440737729404,
                 0.0517104967358036,
                 0.0476110096878106,
                 0.0077227221767962,
                 0.0259649069328426,
                 0.0094238990984915,
                 0.0279816493222859,
                 0.01137015761615,
                 0.0386666923936747,
                 0.45164801400351,
                 0.086581183091839
                ],
                [
                 0.0046484284706156,
                 0.0215603804946688,
                 0.0302063411386519,
                 1,
                 0.0845695027300617,
                 0.0015647704813434,
                 0.0012030569167003,
                 0.0407742948641717,
                 0.0231100128650697,
                 0.0038058592063737,
                 0.0100214613460636,
                 0.005075449414075,
                 0.0124119718236037,
                 0.0296772734110411,
                 0.0678939077521507,
                 0.045409395257748
                ],
                [
                 0.0047603117624537,
                 0.0145782788507662,
                 0.1624902163261922,
                 0.0845695027300617,
                 1,
                 0.0886276679156842,
                 0.0328552896782795,
                 0.0550356298570614,
                 0.0314199241726727,
                 0.020951672922716,
                 0.0168215314222849,
                 0.0235987068497175,
                 0.0099798458977573,
                 0.0556919140474517,
                 0.231631512863582,
                 0.112404509259099
                ],
                [
                 0.0237580141117282,
                 0.0034353218681066,
                 0.0930440737729404,
                 0.0015647704813434,
                 0.0886276679156842,
                 1,
                 0.4548196354805043,
                 0.0586047768614424,
                 0.0295056891413736,
                 0.0240856785781985,
                 0.0299793611027598,
                 0.1241784001201226,
                 0.0227536387182437,
                 0.2483838104264416,
                 0.2856304436358165,
                 0.8789620178091383
                ],
                [
                 0.0012883192026692,
                 0.0166736367283579,
                 0.0517104967358036,
                 0.0012030569167003,
                 0.0328552896782795,
                 0.4548196354805043,
                 1,
                 0.0429428509737354,
                 0.0170202464794228,
                 0.0262139868086665,
                 0.0183294048165689,
                 0.0370761497033099,
                 0.0110434882512817,
                 0.1541814772491456,
                 0.1753450395009097,
                 0.5392781616189852
                ],
                [
                 0.5011291136256929,
                 0.1017757821030214,
                 0.0476110096878106,
                 0.0407742948641717,
                 0.0550356298570614,
                 0.0586047768614424,
                 0.0429428509737354,
                 1,
                 0.20601,
                 0.45826,
                 0.03653,
                 0.28174,
                 0.1065,
                 0.15047,
                 0.11024,
                 0.06421
                ],
                [
                 0.4334313328817917,
                 0.0281721114432671,
                 0.0077227221767962,
                 0.0231100128650697,
                 0.0314199241726727,
                 0.0295056891413736,
                 0.0170202464794228,
                 0.20601,
                 1,
                 0.12162,
                 0.01923,
                 0.02069,
                 0.05194,
                 0.04509,
                 0.07232,
                 0.02908
                ],
                [
                 0.215201208925847,
                 0.0876566600280385,
                 0.0259649069328426,
                 0.0038058592063737,
                 0.020951672922716,
                 0.0240856785781985,
                 0.0262139868086665,
                 0.45826,
                 0.12162,
                 1,
                 0.0159,
                 0.11934,
                 0.08028,
                 0.12279,
                 0.1101,
                 0.03565
                ],
                [
                 0.0178793036087058,
                 0.066745057113631,
                 0.0094238990984915,
                 0.0100214613460636,
                 0.0168215314222849,
                 0.0299793611027598,
                 0.0183294048165689,
                 0.03653,
                 0.01923,
                 0.0159,
                 0.99938,
                 0.00586,
                 0.07701,
                 0.02441,
                 0.05867,
                 0.0404
                ],
                [
                 0.1855130815371743,
                 0.0687683156896658,
                 0.0279816493222859,
                 0.005075449414075,
                 0.0235987068497175,
                 0.1241784001201226,
                 0.0370761497033099,
                 0.28174,
                 0.02069,
                 0.11934,
                 0.00586,
                 0.99996,
                 0.04126,
                 0.21359,
                 0.50421,
                 0.14315
                ],
                [
                 0.0156552726566358,
                 0.0843502457312265,
                 0.01137015761615,
                 0.0124119718236037,
                 0.0099798458977573,
                 0.0227536387182437,
                 0.0110434882512817,
                 0.1065,
                 0.05194,
                 0.08028,
                 0.07701,
                 0.04126,
                 0.99992,
                 0.01627,
                 0.18283,
                 0.05525
                ],
                [
                 0.1705550091417664,
                 0.0493169409519651,
                 0.0386666923936747,
                 0.0296772734110411,
                 0.0556919140474517,
                 0.2483838104264416,
                 0.1541814772491456,
                 0.15047,
                 0.04509,
                 0.12279,
                 0.02441,
                 0.21359,
                 0.01627,
                 1,
                 0.51213,
                 0.20747
                ],
                [
                 0.1602179147820747,
                 0.1558414443790849,
                 0.45164801400351,
                 0.0678939077521507,
                 0.231631512863582,
                 0.2856304436358165,
                 0.1753450395009097,
                 0.11024,
                 0.07232,
                 0.1101,
                 0.05867,
                 0.50421,
                 0.18283,
                 0.51213,
                 1,
                 0.21434
                ],
                [
                 0.0418052846926059,
                 0.0395185384675558,
                 0.086581183091839,
                 0.045409395257748,
                 0.112404509259099,
                 0.8789620178091383,
                 0.5392781616189852,
                 0.06421,
                 0.02908,
                 0.03565,
                 0.0404,
                 0.14315,
                 0.05525,
                 0.20747,
                 0.21434,
                 1
                ]
               ]
              ]
             },
             {
              "annotations": [
               {
                "font": {
                 "color": "#FFFFFF"
                },
                "showarrow": false,
                "text": "1.0",
                "x": 0,
                "xref": "x",
                "y": 0,
                "yref": "y"
               },
               {
                "font": {
                 "color": "#000000"
                },
                "showarrow": false,
                "text": "0.1",
                "x": 1,
                "xref": "x",
                "y": 0,
                "yref": "y"
               },
               {
                "font": {
                 "color": "#000000"
                },
                "showarrow": false,
                "text": "0.01",
                "x": 2,
                "xref": "x",
                "y": 0,
                "yref": "y"
               },
               {
                "font": {
                 "color": "#000000"
                },
                "showarrow": false,
                "text": "0.0",
                "x": 3,
                "xref": "x",
                "y": 0,
                "yref": "y"
               },
               {
                "font": {
                 "color": "#000000"
                },
                "showarrow": false,
                "text": "0.0",
                "x": 4,
                "xref": "x",
                "y": 0,
                "yref": "y"
               },
               {
                "font": {
                 "color": "#000000"
                },
                "showarrow": false,
                "text": "0.02",
                "x": 5,
                "xref": "x",
                "y": 0,
                "yref": "y"
               },
               {
                "font": {
                 "color": "#000000"
                },
                "showarrow": false,
                "text": "0.0",
                "x": 6,
                "xref": "x",
                "y": 0,
                "yref": "y"
               },
               {
                "font": {
                 "color": "#FFFFFF"
                },
                "showarrow": false,
                "text": "0.5",
                "x": 7,
                "xref": "x",
                "y": 0,
                "yref": "y"
               },
               {
                "font": {
                 "color": "#000000"
                },
                "showarrow": false,
                "text": "0.43",
                "x": 8,
                "xref": "x",
                "y": 0,
                "yref": "y"
               },
               {
                "font": {
                 "color": "#000000"
                },
                "showarrow": false,
                "text": "0.22",
                "x": 9,
                "xref": "x",
                "y": 0,
                "yref": "y"
               },
               {
                "font": {
                 "color": "#000000"
                },
                "showarrow": false,
                "text": "0.02",
                "x": 10,
                "xref": "x",
                "y": 0,
                "yref": "y"
               },
               {
                "font": {
                 "color": "#000000"
                },
                "showarrow": false,
                "text": "0.19",
                "x": 11,
                "xref": "x",
                "y": 0,
                "yref": "y"
               },
               {
                "font": {
                 "color": "#000000"
                },
                "showarrow": false,
                "text": "0.02",
                "x": 12,
                "xref": "x",
                "y": 0,
                "yref": "y"
               },
               {
                "font": {
                 "color": "#000000"
                },
                "showarrow": false,
                "text": "0.17",
                "x": 13,
                "xref": "x",
                "y": 0,
                "yref": "y"
               },
               {
                "font": {
                 "color": "#000000"
                },
                "showarrow": false,
                "text": "0.16",
                "x": 14,
                "xref": "x",
                "y": 0,
                "yref": "y"
               },
               {
                "font": {
                 "color": "#000000"
                },
                "showarrow": false,
                "text": "0.04",
                "x": 15,
                "xref": "x",
                "y": 0,
                "yref": "y"
               },
               {
                "font": {
                 "color": "#000000"
                },
                "showarrow": false,
                "text": "0.1",
                "x": 0,
                "xref": "x",
                "y": 1,
                "yref": "y"
               },
               {
                "font": {
                 "color": "#FFFFFF"
                },
                "showarrow": false,
                "text": "1.0",
                "x": 1,
                "xref": "x",
                "y": 1,
                "yref": "y"
               },
               {
                "font": {
                 "color": "#000000"
                },
                "showarrow": false,
                "text": "0.0",
                "x": 2,
                "xref": "x",
                "y": 1,
                "yref": "y"
               },
               {
                "font": {
                 "color": "#000000"
                },
                "showarrow": false,
                "text": "0.02",
                "x": 3,
                "xref": "x",
                "y": 1,
                "yref": "y"
               },
               {
                "font": {
                 "color": "#000000"
                },
                "showarrow": false,
                "text": "0.01",
                "x": 4,
                "xref": "x",
                "y": 1,
                "yref": "y"
               },
               {
                "font": {
                 "color": "#000000"
                },
                "showarrow": false,
                "text": "0.0",
                "x": 5,
                "xref": "x",
                "y": 1,
                "yref": "y"
               },
               {
                "font": {
                 "color": "#000000"
                },
                "showarrow": false,
                "text": "0.02",
                "x": 6,
                "xref": "x",
                "y": 1,
                "yref": "y"
               },
               {
                "font": {
                 "color": "#000000"
                },
                "showarrow": false,
                "text": "0.1",
                "x": 7,
                "xref": "x",
                "y": 1,
                "yref": "y"
               },
               {
                "font": {
                 "color": "#000000"
                },
                "showarrow": false,
                "text": "0.03",
                "x": 8,
                "xref": "x",
                "y": 1,
                "yref": "y"
               },
               {
                "font": {
                 "color": "#000000"
                },
                "showarrow": false,
                "text": "0.09",
                "x": 9,
                "xref": "x",
                "y": 1,
                "yref": "y"
               },
               {
                "font": {
                 "color": "#000000"
                },
                "showarrow": false,
                "text": "0.07",
                "x": 10,
                "xref": "x",
                "y": 1,
                "yref": "y"
               },
               {
                "font": {
                 "color": "#000000"
                },
                "showarrow": false,
                "text": "0.07",
                "x": 11,
                "xref": "x",
                "y": 1,
                "yref": "y"
               },
               {
                "font": {
                 "color": "#000000"
                },
                "showarrow": false,
                "text": "0.08",
                "x": 12,
                "xref": "x",
                "y": 1,
                "yref": "y"
               },
               {
                "font": {
                 "color": "#000000"
                },
                "showarrow": false,
                "text": "0.05",
                "x": 13,
                "xref": "x",
                "y": 1,
                "yref": "y"
               },
               {
                "font": {
                 "color": "#000000"
                },
                "showarrow": false,
                "text": "0.16",
                "x": 14,
                "xref": "x",
                "y": 1,
                "yref": "y"
               },
               {
                "font": {
                 "color": "#000000"
                },
                "showarrow": false,
                "text": "0.04",
                "x": 15,
                "xref": "x",
                "y": 1,
                "yref": "y"
               },
               {
                "font": {
                 "color": "#000000"
                },
                "showarrow": false,
                "text": "0.01",
                "x": 0,
                "xref": "x",
                "y": 2,
                "yref": "y"
               },
               {
                "font": {
                 "color": "#000000"
                },
                "showarrow": false,
                "text": "0.0",
                "x": 1,
                "xref": "x",
                "y": 2,
                "yref": "y"
               },
               {
                "font": {
                 "color": "#FFFFFF"
                },
                "showarrow": false,
                "text": "1.0",
                "x": 2,
                "xref": "x",
                "y": 2,
                "yref": "y"
               },
               {
                "font": {
                 "color": "#000000"
                },
                "showarrow": false,
                "text": "0.03",
                "x": 3,
                "xref": "x",
                "y": 2,
                "yref": "y"
               },
               {
                "font": {
                 "color": "#000000"
                },
                "showarrow": false,
                "text": "0.16",
                "x": 4,
                "xref": "x",
                "y": 2,
                "yref": "y"
               },
               {
                "font": {
                 "color": "#000000"
                },
                "showarrow": false,
                "text": "0.09",
                "x": 5,
                "xref": "x",
                "y": 2,
                "yref": "y"
               },
               {
                "font": {
                 "color": "#000000"
                },
                "showarrow": false,
                "text": "0.05",
                "x": 6,
                "xref": "x",
                "y": 2,
                "yref": "y"
               },
               {
                "font": {
                 "color": "#000000"
                },
                "showarrow": false,
                "text": "0.05",
                "x": 7,
                "xref": "x",
                "y": 2,
                "yref": "y"
               },
               {
                "font": {
                 "color": "#000000"
                },
                "showarrow": false,
                "text": "0.01",
                "x": 8,
                "xref": "x",
                "y": 2,
                "yref": "y"
               },
               {
                "font": {
                 "color": "#000000"
                },
                "showarrow": false,
                "text": "0.03",
                "x": 9,
                "xref": "x",
                "y": 2,
                "yref": "y"
               },
               {
                "font": {
                 "color": "#000000"
                },
                "showarrow": false,
                "text": "0.01",
                "x": 10,
                "xref": "x",
                "y": 2,
                "yref": "y"
               },
               {
                "font": {
                 "color": "#000000"
                },
                "showarrow": false,
                "text": "0.03",
                "x": 11,
                "xref": "x",
                "y": 2,
                "yref": "y"
               },
               {
                "font": {
                 "color": "#000000"
                },
                "showarrow": false,
                "text": "0.01",
                "x": 12,
                "xref": "x",
                "y": 2,
                "yref": "y"
               },
               {
                "font": {
                 "color": "#000000"
                },
                "showarrow": false,
                "text": "0.04",
                "x": 13,
                "xref": "x",
                "y": 2,
                "yref": "y"
               },
               {
                "font": {
                 "color": "#000000"
                },
                "showarrow": false,
                "text": "0.45",
                "x": 14,
                "xref": "x",
                "y": 2,
                "yref": "y"
               },
               {
                "font": {
                 "color": "#000000"
                },
                "showarrow": false,
                "text": "0.09",
                "x": 15,
                "xref": "x",
                "y": 2,
                "yref": "y"
               },
               {
                "font": {
                 "color": "#000000"
                },
                "showarrow": false,
                "text": "0.0",
                "x": 0,
                "xref": "x",
                "y": 3,
                "yref": "y"
               },
               {
                "font": {
                 "color": "#000000"
                },
                "showarrow": false,
                "text": "0.02",
                "x": 1,
                "xref": "x",
                "y": 3,
                "yref": "y"
               },
               {
                "font": {
                 "color": "#000000"
                },
                "showarrow": false,
                "text": "0.03",
                "x": 2,
                "xref": "x",
                "y": 3,
                "yref": "y"
               },
               {
                "font": {
                 "color": "#FFFFFF"
                },
                "showarrow": false,
                "text": "1.0",
                "x": 3,
                "xref": "x",
                "y": 3,
                "yref": "y"
               },
               {
                "font": {
                 "color": "#000000"
                },
                "showarrow": false,
                "text": "0.08",
                "x": 4,
                "xref": "x",
                "y": 3,
                "yref": "y"
               },
               {
                "font": {
                 "color": "#000000"
                },
                "showarrow": false,
                "text": "0.0",
                "x": 5,
                "xref": "x",
                "y": 3,
                "yref": "y"
               },
               {
                "font": {
                 "color": "#000000"
                },
                "showarrow": false,
                "text": "0.0",
                "x": 6,
                "xref": "x",
                "y": 3,
                "yref": "y"
               },
               {
                "font": {
                 "color": "#000000"
                },
                "showarrow": false,
                "text": "0.04",
                "x": 7,
                "xref": "x",
                "y": 3,
                "yref": "y"
               },
               {
                "font": {
                 "color": "#000000"
                },
                "showarrow": false,
                "text": "0.02",
                "x": 8,
                "xref": "x",
                "y": 3,
                "yref": "y"
               },
               {
                "font": {
                 "color": "#000000"
                },
                "showarrow": false,
                "text": "0.0",
                "x": 9,
                "xref": "x",
                "y": 3,
                "yref": "y"
               },
               {
                "font": {
                 "color": "#000000"
                },
                "showarrow": false,
                "text": "0.01",
                "x": 10,
                "xref": "x",
                "y": 3,
                "yref": "y"
               },
               {
                "font": {
                 "color": "#000000"
                },
                "showarrow": false,
                "text": "0.01",
                "x": 11,
                "xref": "x",
                "y": 3,
                "yref": "y"
               },
               {
                "font": {
                 "color": "#000000"
                },
                "showarrow": false,
                "text": "0.01",
                "x": 12,
                "xref": "x",
                "y": 3,
                "yref": "y"
               },
               {
                "font": {
                 "color": "#000000"
                },
                "showarrow": false,
                "text": "0.03",
                "x": 13,
                "xref": "x",
                "y": 3,
                "yref": "y"
               },
               {
                "font": {
                 "color": "#000000"
                },
                "showarrow": false,
                "text": "0.07",
                "x": 14,
                "xref": "x",
                "y": 3,
                "yref": "y"
               },
               {
                "font": {
                 "color": "#000000"
                },
                "showarrow": false,
                "text": "0.05",
                "x": 15,
                "xref": "x",
                "y": 3,
                "yref": "y"
               },
               {
                "font": {
                 "color": "#000000"
                },
                "showarrow": false,
                "text": "0.0",
                "x": 0,
                "xref": "x",
                "y": 4,
                "yref": "y"
               },
               {
                "font": {
                 "color": "#000000"
                },
                "showarrow": false,
                "text": "0.01",
                "x": 1,
                "xref": "x",
                "y": 4,
                "yref": "y"
               },
               {
                "font": {
                 "color": "#000000"
                },
                "showarrow": false,
                "text": "0.16",
                "x": 2,
                "xref": "x",
                "y": 4,
                "yref": "y"
               },
               {
                "font": {
                 "color": "#000000"
                },
                "showarrow": false,
                "text": "0.08",
                "x": 3,
                "xref": "x",
                "y": 4,
                "yref": "y"
               },
               {
                "font": {
                 "color": "#FFFFFF"
                },
                "showarrow": false,
                "text": "1.0",
                "x": 4,
                "xref": "x",
                "y": 4,
                "yref": "y"
               },
               {
                "font": {
                 "color": "#000000"
                },
                "showarrow": false,
                "text": "0.09",
                "x": 5,
                "xref": "x",
                "y": 4,
                "yref": "y"
               },
               {
                "font": {
                 "color": "#000000"
                },
                "showarrow": false,
                "text": "0.03",
                "x": 6,
                "xref": "x",
                "y": 4,
                "yref": "y"
               },
               {
                "font": {
                 "color": "#000000"
                },
                "showarrow": false,
                "text": "0.06",
                "x": 7,
                "xref": "x",
                "y": 4,
                "yref": "y"
               },
               {
                "font": {
                 "color": "#000000"
                },
                "showarrow": false,
                "text": "0.03",
                "x": 8,
                "xref": "x",
                "y": 4,
                "yref": "y"
               },
               {
                "font": {
                 "color": "#000000"
                },
                "showarrow": false,
                "text": "0.02",
                "x": 9,
                "xref": "x",
                "y": 4,
                "yref": "y"
               },
               {
                "font": {
                 "color": "#000000"
                },
                "showarrow": false,
                "text": "0.02",
                "x": 10,
                "xref": "x",
                "y": 4,
                "yref": "y"
               },
               {
                "font": {
                 "color": "#000000"
                },
                "showarrow": false,
                "text": "0.02",
                "x": 11,
                "xref": "x",
                "y": 4,
                "yref": "y"
               },
               {
                "font": {
                 "color": "#000000"
                },
                "showarrow": false,
                "text": "0.01",
                "x": 12,
                "xref": "x",
                "y": 4,
                "yref": "y"
               },
               {
                "font": {
                 "color": "#000000"
                },
                "showarrow": false,
                "text": "0.06",
                "x": 13,
                "xref": "x",
                "y": 4,
                "yref": "y"
               },
               {
                "font": {
                 "color": "#000000"
                },
                "showarrow": false,
                "text": "0.23",
                "x": 14,
                "xref": "x",
                "y": 4,
                "yref": "y"
               },
               {
                "font": {
                 "color": "#000000"
                },
                "showarrow": false,
                "text": "0.11",
                "x": 15,
                "xref": "x",
                "y": 4,
                "yref": "y"
               },
               {
                "font": {
                 "color": "#000000"
                },
                "showarrow": false,
                "text": "0.02",
                "x": 0,
                "xref": "x",
                "y": 5,
                "yref": "y"
               },
               {
                "font": {
                 "color": "#000000"
                },
                "showarrow": false,
                "text": "0.0",
                "x": 1,
                "xref": "x",
                "y": 5,
                "yref": "y"
               },
               {
                "font": {
                 "color": "#000000"
                },
                "showarrow": false,
                "text": "0.09",
                "x": 2,
                "xref": "x",
                "y": 5,
                "yref": "y"
               },
               {
                "font": {
                 "color": "#000000"
                },
                "showarrow": false,
                "text": "0.0",
                "x": 3,
                "xref": "x",
                "y": 5,
                "yref": "y"
               },
               {
                "font": {
                 "color": "#000000"
                },
                "showarrow": false,
                "text": "0.09",
                "x": 4,
                "xref": "x",
                "y": 5,
                "yref": "y"
               },
               {
                "font": {
                 "color": "#FFFFFF"
                },
                "showarrow": false,
                "text": "1.0",
                "x": 5,
                "xref": "x",
                "y": 5,
                "yref": "y"
               },
               {
                "font": {
                 "color": "#000000"
                },
                "showarrow": false,
                "text": "0.45",
                "x": 6,
                "xref": "x",
                "y": 5,
                "yref": "y"
               },
               {
                "font": {
                 "color": "#000000"
                },
                "showarrow": false,
                "text": "0.06",
                "x": 7,
                "xref": "x",
                "y": 5,
                "yref": "y"
               },
               {
                "font": {
                 "color": "#000000"
                },
                "showarrow": false,
                "text": "0.03",
                "x": 8,
                "xref": "x",
                "y": 5,
                "yref": "y"
               },
               {
                "font": {
                 "color": "#000000"
                },
                "showarrow": false,
                "text": "0.02",
                "x": 9,
                "xref": "x",
                "y": 5,
                "yref": "y"
               },
               {
                "font": {
                 "color": "#000000"
                },
                "showarrow": false,
                "text": "0.03",
                "x": 10,
                "xref": "x",
                "y": 5,
                "yref": "y"
               },
               {
                "font": {
                 "color": "#000000"
                },
                "showarrow": false,
                "text": "0.12",
                "x": 11,
                "xref": "x",
                "y": 5,
                "yref": "y"
               },
               {
                "font": {
                 "color": "#000000"
                },
                "showarrow": false,
                "text": "0.02",
                "x": 12,
                "xref": "x",
                "y": 5,
                "yref": "y"
               },
               {
                "font": {
                 "color": "#000000"
                },
                "showarrow": false,
                "text": "0.25",
                "x": 13,
                "xref": "x",
                "y": 5,
                "yref": "y"
               },
               {
                "font": {
                 "color": "#000000"
                },
                "showarrow": false,
                "text": "0.29",
                "x": 14,
                "xref": "x",
                "y": 5,
                "yref": "y"
               },
               {
                "font": {
                 "color": "#FFFFFF"
                },
                "showarrow": false,
                "text": "0.88",
                "x": 15,
                "xref": "x",
                "y": 5,
                "yref": "y"
               },
               {
                "font": {
                 "color": "#000000"
                },
                "showarrow": false,
                "text": "0.0",
                "x": 0,
                "xref": "x",
                "y": 6,
                "yref": "y"
               },
               {
                "font": {
                 "color": "#000000"
                },
                "showarrow": false,
                "text": "0.02",
                "x": 1,
                "xref": "x",
                "y": 6,
                "yref": "y"
               },
               {
                "font": {
                 "color": "#000000"
                },
                "showarrow": false,
                "text": "0.05",
                "x": 2,
                "xref": "x",
                "y": 6,
                "yref": "y"
               },
               {
                "font": {
                 "color": "#000000"
                },
                "showarrow": false,
                "text": "0.0",
                "x": 3,
                "xref": "x",
                "y": 6,
                "yref": "y"
               },
               {
                "font": {
                 "color": "#000000"
                },
                "showarrow": false,
                "text": "0.03",
                "x": 4,
                "xref": "x",
                "y": 6,
                "yref": "y"
               },
               {
                "font": {
                 "color": "#000000"
                },
                "showarrow": false,
                "text": "0.45",
                "x": 5,
                "xref": "x",
                "y": 6,
                "yref": "y"
               },
               {
                "font": {
                 "color": "#FFFFFF"
                },
                "showarrow": false,
                "text": "1.0",
                "x": 6,
                "xref": "x",
                "y": 6,
                "yref": "y"
               },
               {
                "font": {
                 "color": "#000000"
                },
                "showarrow": false,
                "text": "0.04",
                "x": 7,
                "xref": "x",
                "y": 6,
                "yref": "y"
               },
               {
                "font": {
                 "color": "#000000"
                },
                "showarrow": false,
                "text": "0.02",
                "x": 8,
                "xref": "x",
                "y": 6,
                "yref": "y"
               },
               {
                "font": {
                 "color": "#000000"
                },
                "showarrow": false,
                "text": "0.03",
                "x": 9,
                "xref": "x",
                "y": 6,
                "yref": "y"
               },
               {
                "font": {
                 "color": "#000000"
                },
                "showarrow": false,
                "text": "0.02",
                "x": 10,
                "xref": "x",
                "y": 6,
                "yref": "y"
               },
               {
                "font": {
                 "color": "#000000"
                },
                "showarrow": false,
                "text": "0.04",
                "x": 11,
                "xref": "x",
                "y": 6,
                "yref": "y"
               },
               {
                "font": {
                 "color": "#000000"
                },
                "showarrow": false,
                "text": "0.01",
                "x": 12,
                "xref": "x",
                "y": 6,
                "yref": "y"
               },
               {
                "font": {
                 "color": "#000000"
                },
                "showarrow": false,
                "text": "0.15",
                "x": 13,
                "xref": "x",
                "y": 6,
                "yref": "y"
               },
               {
                "font": {
                 "color": "#000000"
                },
                "showarrow": false,
                "text": "0.18",
                "x": 14,
                "xref": "x",
                "y": 6,
                "yref": "y"
               },
               {
                "font": {
                 "color": "#FFFFFF"
                },
                "showarrow": false,
                "text": "0.54",
                "x": 15,
                "xref": "x",
                "y": 6,
                "yref": "y"
               },
               {
                "font": {
                 "color": "#FFFFFF"
                },
                "showarrow": false,
                "text": "0.5",
                "x": 0,
                "xref": "x",
                "y": 7,
                "yref": "y"
               },
               {
                "font": {
                 "color": "#000000"
                },
                "showarrow": false,
                "text": "0.1",
                "x": 1,
                "xref": "x",
                "y": 7,
                "yref": "y"
               },
               {
                "font": {
                 "color": "#000000"
                },
                "showarrow": false,
                "text": "0.05",
                "x": 2,
                "xref": "x",
                "y": 7,
                "yref": "y"
               },
               {
                "font": {
                 "color": "#000000"
                },
                "showarrow": false,
                "text": "0.04",
                "x": 3,
                "xref": "x",
                "y": 7,
                "yref": "y"
               },
               {
                "font": {
                 "color": "#000000"
                },
                "showarrow": false,
                "text": "0.06",
                "x": 4,
                "xref": "x",
                "y": 7,
                "yref": "y"
               },
               {
                "font": {
                 "color": "#000000"
                },
                "showarrow": false,
                "text": "0.06",
                "x": 5,
                "xref": "x",
                "y": 7,
                "yref": "y"
               },
               {
                "font": {
                 "color": "#000000"
                },
                "showarrow": false,
                "text": "0.04",
                "x": 6,
                "xref": "x",
                "y": 7,
                "yref": "y"
               },
               {
                "font": {
                 "color": "#FFFFFF"
                },
                "showarrow": false,
                "text": "1.0",
                "x": 7,
                "xref": "x",
                "y": 7,
                "yref": "y"
               },
               {
                "font": {
                 "color": "#000000"
                },
                "showarrow": false,
                "text": "0.21",
                "x": 8,
                "xref": "x",
                "y": 7,
                "yref": "y"
               },
               {
                "font": {
                 "color": "#000000"
                },
                "showarrow": false,
                "text": "0.46",
                "x": 9,
                "xref": "x",
                "y": 7,
                "yref": "y"
               },
               {
                "font": {
                 "color": "#000000"
                },
                "showarrow": false,
                "text": "0.04",
                "x": 10,
                "xref": "x",
                "y": 7,
                "yref": "y"
               },
               {
                "font": {
                 "color": "#000000"
                },
                "showarrow": false,
                "text": "0.28",
                "x": 11,
                "xref": "x",
                "y": 7,
                "yref": "y"
               },
               {
                "font": {
                 "color": "#000000"
                },
                "showarrow": false,
                "text": "0.11",
                "x": 12,
                "xref": "x",
                "y": 7,
                "yref": "y"
               },
               {
                "font": {
                 "color": "#000000"
                },
                "showarrow": false,
                "text": "0.15",
                "x": 13,
                "xref": "x",
                "y": 7,
                "yref": "y"
               },
               {
                "font": {
                 "color": "#000000"
                },
                "showarrow": false,
                "text": "0.11",
                "x": 14,
                "xref": "x",
                "y": 7,
                "yref": "y"
               },
               {
                "font": {
                 "color": "#000000"
                },
                "showarrow": false,
                "text": "0.06",
                "x": 15,
                "xref": "x",
                "y": 7,
                "yref": "y"
               },
               {
                "font": {
                 "color": "#000000"
                },
                "showarrow": false,
                "text": "0.43",
                "x": 0,
                "xref": "x",
                "y": 8,
                "yref": "y"
               },
               {
                "font": {
                 "color": "#000000"
                },
                "showarrow": false,
                "text": "0.03",
                "x": 1,
                "xref": "x",
                "y": 8,
                "yref": "y"
               },
               {
                "font": {
                 "color": "#000000"
                },
                "showarrow": false,
                "text": "0.01",
                "x": 2,
                "xref": "x",
                "y": 8,
                "yref": "y"
               },
               {
                "font": {
                 "color": "#000000"
                },
                "showarrow": false,
                "text": "0.02",
                "x": 3,
                "xref": "x",
                "y": 8,
                "yref": "y"
               },
               {
                "font": {
                 "color": "#000000"
                },
                "showarrow": false,
                "text": "0.03",
                "x": 4,
                "xref": "x",
                "y": 8,
                "yref": "y"
               },
               {
                "font": {
                 "color": "#000000"
                },
                "showarrow": false,
                "text": "0.03",
                "x": 5,
                "xref": "x",
                "y": 8,
                "yref": "y"
               },
               {
                "font": {
                 "color": "#000000"
                },
                "showarrow": false,
                "text": "0.02",
                "x": 6,
                "xref": "x",
                "y": 8,
                "yref": "y"
               },
               {
                "font": {
                 "color": "#000000"
                },
                "showarrow": false,
                "text": "0.21",
                "x": 7,
                "xref": "x",
                "y": 8,
                "yref": "y"
               },
               {
                "font": {
                 "color": "#FFFFFF"
                },
                "showarrow": false,
                "text": "1.0",
                "x": 8,
                "xref": "x",
                "y": 8,
                "yref": "y"
               },
               {
                "font": {
                 "color": "#000000"
                },
                "showarrow": false,
                "text": "0.12",
                "x": 9,
                "xref": "x",
                "y": 8,
                "yref": "y"
               },
               {
                "font": {
                 "color": "#000000"
                },
                "showarrow": false,
                "text": "0.02",
                "x": 10,
                "xref": "x",
                "y": 8,
                "yref": "y"
               },
               {
                "font": {
                 "color": "#000000"
                },
                "showarrow": false,
                "text": "0.02",
                "x": 11,
                "xref": "x",
                "y": 8,
                "yref": "y"
               },
               {
                "font": {
                 "color": "#000000"
                },
                "showarrow": false,
                "text": "0.05",
                "x": 12,
                "xref": "x",
                "y": 8,
                "yref": "y"
               },
               {
                "font": {
                 "color": "#000000"
                },
                "showarrow": false,
                "text": "0.05",
                "x": 13,
                "xref": "x",
                "y": 8,
                "yref": "y"
               },
               {
                "font": {
                 "color": "#000000"
                },
                "showarrow": false,
                "text": "0.07",
                "x": 14,
                "xref": "x",
                "y": 8,
                "yref": "y"
               },
               {
                "font": {
                 "color": "#000000"
                },
                "showarrow": false,
                "text": "0.03",
                "x": 15,
                "xref": "x",
                "y": 8,
                "yref": "y"
               },
               {
                "font": {
                 "color": "#000000"
                },
                "showarrow": false,
                "text": "0.22",
                "x": 0,
                "xref": "x",
                "y": 9,
                "yref": "y"
               },
               {
                "font": {
                 "color": "#000000"
                },
                "showarrow": false,
                "text": "0.09",
                "x": 1,
                "xref": "x",
                "y": 9,
                "yref": "y"
               },
               {
                "font": {
                 "color": "#000000"
                },
                "showarrow": false,
                "text": "0.03",
                "x": 2,
                "xref": "x",
                "y": 9,
                "yref": "y"
               },
               {
                "font": {
                 "color": "#000000"
                },
                "showarrow": false,
                "text": "0.0",
                "x": 3,
                "xref": "x",
                "y": 9,
                "yref": "y"
               },
               {
                "font": {
                 "color": "#000000"
                },
                "showarrow": false,
                "text": "0.02",
                "x": 4,
                "xref": "x",
                "y": 9,
                "yref": "y"
               },
               {
                "font": {
                 "color": "#000000"
                },
                "showarrow": false,
                "text": "0.02",
                "x": 5,
                "xref": "x",
                "y": 9,
                "yref": "y"
               },
               {
                "font": {
                 "color": "#000000"
                },
                "showarrow": false,
                "text": "0.03",
                "x": 6,
                "xref": "x",
                "y": 9,
                "yref": "y"
               },
               {
                "font": {
                 "color": "#000000"
                },
                "showarrow": false,
                "text": "0.46",
                "x": 7,
                "xref": "x",
                "y": 9,
                "yref": "y"
               },
               {
                "font": {
                 "color": "#000000"
                },
                "showarrow": false,
                "text": "0.12",
                "x": 8,
                "xref": "x",
                "y": 9,
                "yref": "y"
               },
               {
                "font": {
                 "color": "#FFFFFF"
                },
                "showarrow": false,
                "text": "1.0",
                "x": 9,
                "xref": "x",
                "y": 9,
                "yref": "y"
               },
               {
                "font": {
                 "color": "#000000"
                },
                "showarrow": false,
                "text": "0.02",
                "x": 10,
                "xref": "x",
                "y": 9,
                "yref": "y"
               },
               {
                "font": {
                 "color": "#000000"
                },
                "showarrow": false,
                "text": "0.12",
                "x": 11,
                "xref": "x",
                "y": 9,
                "yref": "y"
               },
               {
                "font": {
                 "color": "#000000"
                },
                "showarrow": false,
                "text": "0.08",
                "x": 12,
                "xref": "x",
                "y": 9,
                "yref": "y"
               },
               {
                "font": {
                 "color": "#000000"
                },
                "showarrow": false,
                "text": "0.12",
                "x": 13,
                "xref": "x",
                "y": 9,
                "yref": "y"
               },
               {
                "font": {
                 "color": "#000000"
                },
                "showarrow": false,
                "text": "0.11",
                "x": 14,
                "xref": "x",
                "y": 9,
                "yref": "y"
               },
               {
                "font": {
                 "color": "#000000"
                },
                "showarrow": false,
                "text": "0.04",
                "x": 15,
                "xref": "x",
                "y": 9,
                "yref": "y"
               },
               {
                "font": {
                 "color": "#000000"
                },
                "showarrow": false,
                "text": "0.02",
                "x": 0,
                "xref": "x",
                "y": 10,
                "yref": "y"
               },
               {
                "font": {
                 "color": "#000000"
                },
                "showarrow": false,
                "text": "0.07",
                "x": 1,
                "xref": "x",
                "y": 10,
                "yref": "y"
               },
               {
                "font": {
                 "color": "#000000"
                },
                "showarrow": false,
                "text": "0.01",
                "x": 2,
                "xref": "x",
                "y": 10,
                "yref": "y"
               },
               {
                "font": {
                 "color": "#000000"
                },
                "showarrow": false,
                "text": "0.01",
                "x": 3,
                "xref": "x",
                "y": 10,
                "yref": "y"
               },
               {
                "font": {
                 "color": "#000000"
                },
                "showarrow": false,
                "text": "0.02",
                "x": 4,
                "xref": "x",
                "y": 10,
                "yref": "y"
               },
               {
                "font": {
                 "color": "#000000"
                },
                "showarrow": false,
                "text": "0.03",
                "x": 5,
                "xref": "x",
                "y": 10,
                "yref": "y"
               },
               {
                "font": {
                 "color": "#000000"
                },
                "showarrow": false,
                "text": "0.02",
                "x": 6,
                "xref": "x",
                "y": 10,
                "yref": "y"
               },
               {
                "font": {
                 "color": "#000000"
                },
                "showarrow": false,
                "text": "0.04",
                "x": 7,
                "xref": "x",
                "y": 10,
                "yref": "y"
               },
               {
                "font": {
                 "color": "#000000"
                },
                "showarrow": false,
                "text": "0.02",
                "x": 8,
                "xref": "x",
                "y": 10,
                "yref": "y"
               },
               {
                "font": {
                 "color": "#000000"
                },
                "showarrow": false,
                "text": "0.02",
                "x": 9,
                "xref": "x",
                "y": 10,
                "yref": "y"
               },
               {
                "font": {
                 "color": "#FFFFFF"
                },
                "showarrow": false,
                "text": "1.0",
                "x": 10,
                "xref": "x",
                "y": 10,
                "yref": "y"
               },
               {
                "font": {
                 "color": "#000000"
                },
                "showarrow": false,
                "text": "0.01",
                "x": 11,
                "xref": "x",
                "y": 10,
                "yref": "y"
               },
               {
                "font": {
                 "color": "#000000"
                },
                "showarrow": false,
                "text": "0.08",
                "x": 12,
                "xref": "x",
                "y": 10,
                "yref": "y"
               },
               {
                "font": {
                 "color": "#000000"
                },
                "showarrow": false,
                "text": "0.02",
                "x": 13,
                "xref": "x",
                "y": 10,
                "yref": "y"
               },
               {
                "font": {
                 "color": "#000000"
                },
                "showarrow": false,
                "text": "0.06",
                "x": 14,
                "xref": "x",
                "y": 10,
                "yref": "y"
               },
               {
                "font": {
                 "color": "#000000"
                },
                "showarrow": false,
                "text": "0.04",
                "x": 15,
                "xref": "x",
                "y": 10,
                "yref": "y"
               },
               {
                "font": {
                 "color": "#000000"
                },
                "showarrow": false,
                "text": "0.19",
                "x": 0,
                "xref": "x",
                "y": 11,
                "yref": "y"
               },
               {
                "font": {
                 "color": "#000000"
                },
                "showarrow": false,
                "text": "0.07",
                "x": 1,
                "xref": "x",
                "y": 11,
                "yref": "y"
               },
               {
                "font": {
                 "color": "#000000"
                },
                "showarrow": false,
                "text": "0.03",
                "x": 2,
                "xref": "x",
                "y": 11,
                "yref": "y"
               },
               {
                "font": {
                 "color": "#000000"
                },
                "showarrow": false,
                "text": "0.01",
                "x": 3,
                "xref": "x",
                "y": 11,
                "yref": "y"
               },
               {
                "font": {
                 "color": "#000000"
                },
                "showarrow": false,
                "text": "0.02",
                "x": 4,
                "xref": "x",
                "y": 11,
                "yref": "y"
               },
               {
                "font": {
                 "color": "#000000"
                },
                "showarrow": false,
                "text": "0.12",
                "x": 5,
                "xref": "x",
                "y": 11,
                "yref": "y"
               },
               {
                "font": {
                 "color": "#000000"
                },
                "showarrow": false,
                "text": "0.04",
                "x": 6,
                "xref": "x",
                "y": 11,
                "yref": "y"
               },
               {
                "font": {
                 "color": "#000000"
                },
                "showarrow": false,
                "text": "0.28",
                "x": 7,
                "xref": "x",
                "y": 11,
                "yref": "y"
               },
               {
                "font": {
                 "color": "#000000"
                },
                "showarrow": false,
                "text": "0.02",
                "x": 8,
                "xref": "x",
                "y": 11,
                "yref": "y"
               },
               {
                "font": {
                 "color": "#000000"
                },
                "showarrow": false,
                "text": "0.12",
                "x": 9,
                "xref": "x",
                "y": 11,
                "yref": "y"
               },
               {
                "font": {
                 "color": "#000000"
                },
                "showarrow": false,
                "text": "0.01",
                "x": 10,
                "xref": "x",
                "y": 11,
                "yref": "y"
               },
               {
                "font": {
                 "color": "#FFFFFF"
                },
                "showarrow": false,
                "text": "1.0",
                "x": 11,
                "xref": "x",
                "y": 11,
                "yref": "y"
               },
               {
                "font": {
                 "color": "#000000"
                },
                "showarrow": false,
                "text": "0.04",
                "x": 12,
                "xref": "x",
                "y": 11,
                "yref": "y"
               },
               {
                "font": {
                 "color": "#000000"
                },
                "showarrow": false,
                "text": "0.21",
                "x": 13,
                "xref": "x",
                "y": 11,
                "yref": "y"
               },
               {
                "font": {
                 "color": "#FFFFFF"
                },
                "showarrow": false,
                "text": "0.5",
                "x": 14,
                "xref": "x",
                "y": 11,
                "yref": "y"
               },
               {
                "font": {
                 "color": "#000000"
                },
                "showarrow": false,
                "text": "0.14",
                "x": 15,
                "xref": "x",
                "y": 11,
                "yref": "y"
               },
               {
                "font": {
                 "color": "#000000"
                },
                "showarrow": false,
                "text": "0.02",
                "x": 0,
                "xref": "x",
                "y": 12,
                "yref": "y"
               },
               {
                "font": {
                 "color": "#000000"
                },
                "showarrow": false,
                "text": "0.08",
                "x": 1,
                "xref": "x",
                "y": 12,
                "yref": "y"
               },
               {
                "font": {
                 "color": "#000000"
                },
                "showarrow": false,
                "text": "0.01",
                "x": 2,
                "xref": "x",
                "y": 12,
                "yref": "y"
               },
               {
                "font": {
                 "color": "#000000"
                },
                "showarrow": false,
                "text": "0.01",
                "x": 3,
                "xref": "x",
                "y": 12,
                "yref": "y"
               },
               {
                "font": {
                 "color": "#000000"
                },
                "showarrow": false,
                "text": "0.01",
                "x": 4,
                "xref": "x",
                "y": 12,
                "yref": "y"
               },
               {
                "font": {
                 "color": "#000000"
                },
                "showarrow": false,
                "text": "0.02",
                "x": 5,
                "xref": "x",
                "y": 12,
                "yref": "y"
               },
               {
                "font": {
                 "color": "#000000"
                },
                "showarrow": false,
                "text": "0.01",
                "x": 6,
                "xref": "x",
                "y": 12,
                "yref": "y"
               },
               {
                "font": {
                 "color": "#000000"
                },
                "showarrow": false,
                "text": "0.11",
                "x": 7,
                "xref": "x",
                "y": 12,
                "yref": "y"
               },
               {
                "font": {
                 "color": "#000000"
                },
                "showarrow": false,
                "text": "0.05",
                "x": 8,
                "xref": "x",
                "y": 12,
                "yref": "y"
               },
               {
                "font": {
                 "color": "#000000"
                },
                "showarrow": false,
                "text": "0.08",
                "x": 9,
                "xref": "x",
                "y": 12,
                "yref": "y"
               },
               {
                "font": {
                 "color": "#000000"
                },
                "showarrow": false,
                "text": "0.08",
                "x": 10,
                "xref": "x",
                "y": 12,
                "yref": "y"
               },
               {
                "font": {
                 "color": "#000000"
                },
                "showarrow": false,
                "text": "0.04",
                "x": 11,
                "xref": "x",
                "y": 12,
                "yref": "y"
               },
               {
                "font": {
                 "color": "#FFFFFF"
                },
                "showarrow": false,
                "text": "1.0",
                "x": 12,
                "xref": "x",
                "y": 12,
                "yref": "y"
               },
               {
                "font": {
                 "color": "#000000"
                },
                "showarrow": false,
                "text": "0.02",
                "x": 13,
                "xref": "x",
                "y": 12,
                "yref": "y"
               },
               {
                "font": {
                 "color": "#000000"
                },
                "showarrow": false,
                "text": "0.18",
                "x": 14,
                "xref": "x",
                "y": 12,
                "yref": "y"
               },
               {
                "font": {
                 "color": "#000000"
                },
                "showarrow": false,
                "text": "0.06",
                "x": 15,
                "xref": "x",
                "y": 12,
                "yref": "y"
               },
               {
                "font": {
                 "color": "#000000"
                },
                "showarrow": false,
                "text": "0.17",
                "x": 0,
                "xref": "x",
                "y": 13,
                "yref": "y"
               },
               {
                "font": {
                 "color": "#000000"
                },
                "showarrow": false,
                "text": "0.05",
                "x": 1,
                "xref": "x",
                "y": 13,
                "yref": "y"
               },
               {
                "font": {
                 "color": "#000000"
                },
                "showarrow": false,
                "text": "0.04",
                "x": 2,
                "xref": "x",
                "y": 13,
                "yref": "y"
               },
               {
                "font": {
                 "color": "#000000"
                },
                "showarrow": false,
                "text": "0.03",
                "x": 3,
                "xref": "x",
                "y": 13,
                "yref": "y"
               },
               {
                "font": {
                 "color": "#000000"
                },
                "showarrow": false,
                "text": "0.06",
                "x": 4,
                "xref": "x",
                "y": 13,
                "yref": "y"
               },
               {
                "font": {
                 "color": "#000000"
                },
                "showarrow": false,
                "text": "0.25",
                "x": 5,
                "xref": "x",
                "y": 13,
                "yref": "y"
               },
               {
                "font": {
                 "color": "#000000"
                },
                "showarrow": false,
                "text": "0.15",
                "x": 6,
                "xref": "x",
                "y": 13,
                "yref": "y"
               },
               {
                "font": {
                 "color": "#000000"
                },
                "showarrow": false,
                "text": "0.15",
                "x": 7,
                "xref": "x",
                "y": 13,
                "yref": "y"
               },
               {
                "font": {
                 "color": "#000000"
                },
                "showarrow": false,
                "text": "0.05",
                "x": 8,
                "xref": "x",
                "y": 13,
                "yref": "y"
               },
               {
                "font": {
                 "color": "#000000"
                },
                "showarrow": false,
                "text": "0.12",
                "x": 9,
                "xref": "x",
                "y": 13,
                "yref": "y"
               },
               {
                "font": {
                 "color": "#000000"
                },
                "showarrow": false,
                "text": "0.02",
                "x": 10,
                "xref": "x",
                "y": 13,
                "yref": "y"
               },
               {
                "font": {
                 "color": "#000000"
                },
                "showarrow": false,
                "text": "0.21",
                "x": 11,
                "xref": "x",
                "y": 13,
                "yref": "y"
               },
               {
                "font": {
                 "color": "#000000"
                },
                "showarrow": false,
                "text": "0.02",
                "x": 12,
                "xref": "x",
                "y": 13,
                "yref": "y"
               },
               {
                "font": {
                 "color": "#FFFFFF"
                },
                "showarrow": false,
                "text": "1.0",
                "x": 13,
                "xref": "x",
                "y": 13,
                "yref": "y"
               },
               {
                "font": {
                 "color": "#FFFFFF"
                },
                "showarrow": false,
                "text": "0.51",
                "x": 14,
                "xref": "x",
                "y": 13,
                "yref": "y"
               },
               {
                "font": {
                 "color": "#000000"
                },
                "showarrow": false,
                "text": "0.21",
                "x": 15,
                "xref": "x",
                "y": 13,
                "yref": "y"
               },
               {
                "font": {
                 "color": "#000000"
                },
                "showarrow": false,
                "text": "0.16",
                "x": 0,
                "xref": "x",
                "y": 14,
                "yref": "y"
               },
               {
                "font": {
                 "color": "#000000"
                },
                "showarrow": false,
                "text": "0.16",
                "x": 1,
                "xref": "x",
                "y": 14,
                "yref": "y"
               },
               {
                "font": {
                 "color": "#000000"
                },
                "showarrow": false,
                "text": "0.45",
                "x": 2,
                "xref": "x",
                "y": 14,
                "yref": "y"
               },
               {
                "font": {
                 "color": "#000000"
                },
                "showarrow": false,
                "text": "0.07",
                "x": 3,
                "xref": "x",
                "y": 14,
                "yref": "y"
               },
               {
                "font": {
                 "color": "#000000"
                },
                "showarrow": false,
                "text": "0.23",
                "x": 4,
                "xref": "x",
                "y": 14,
                "yref": "y"
               },
               {
                "font": {
                 "color": "#000000"
                },
                "showarrow": false,
                "text": "0.29",
                "x": 5,
                "xref": "x",
                "y": 14,
                "yref": "y"
               },
               {
                "font": {
                 "color": "#000000"
                },
                "showarrow": false,
                "text": "0.18",
                "x": 6,
                "xref": "x",
                "y": 14,
                "yref": "y"
               },
               {
                "font": {
                 "color": "#000000"
                },
                "showarrow": false,
                "text": "0.11",
                "x": 7,
                "xref": "x",
                "y": 14,
                "yref": "y"
               },
               {
                "font": {
                 "color": "#000000"
                },
                "showarrow": false,
                "text": "0.07",
                "x": 8,
                "xref": "x",
                "y": 14,
                "yref": "y"
               },
               {
                "font": {
                 "color": "#000000"
                },
                "showarrow": false,
                "text": "0.11",
                "x": 9,
                "xref": "x",
                "y": 14,
                "yref": "y"
               },
               {
                "font": {
                 "color": "#000000"
                },
                "showarrow": false,
                "text": "0.06",
                "x": 10,
                "xref": "x",
                "y": 14,
                "yref": "y"
               },
               {
                "font": {
                 "color": "#FFFFFF"
                },
                "showarrow": false,
                "text": "0.5",
                "x": 11,
                "xref": "x",
                "y": 14,
                "yref": "y"
               },
               {
                "font": {
                 "color": "#000000"
                },
                "showarrow": false,
                "text": "0.18",
                "x": 12,
                "xref": "x",
                "y": 14,
                "yref": "y"
               },
               {
                "font": {
                 "color": "#FFFFFF"
                },
                "showarrow": false,
                "text": "0.51",
                "x": 13,
                "xref": "x",
                "y": 14,
                "yref": "y"
               },
               {
                "font": {
                 "color": "#FFFFFF"
                },
                "showarrow": false,
                "text": "1.0",
                "x": 14,
                "xref": "x",
                "y": 14,
                "yref": "y"
               },
               {
                "font": {
                 "color": "#000000"
                },
                "showarrow": false,
                "text": "0.21",
                "x": 15,
                "xref": "x",
                "y": 14,
                "yref": "y"
               },
               {
                "font": {
                 "color": "#000000"
                },
                "showarrow": false,
                "text": "0.04",
                "x": 0,
                "xref": "x",
                "y": 15,
                "yref": "y"
               },
               {
                "font": {
                 "color": "#000000"
                },
                "showarrow": false,
                "text": "0.04",
                "x": 1,
                "xref": "x",
                "y": 15,
                "yref": "y"
               },
               {
                "font": {
                 "color": "#000000"
                },
                "showarrow": false,
                "text": "0.09",
                "x": 2,
                "xref": "x",
                "y": 15,
                "yref": "y"
               },
               {
                "font": {
                 "color": "#000000"
                },
                "showarrow": false,
                "text": "0.05",
                "x": 3,
                "xref": "x",
                "y": 15,
                "yref": "y"
               },
               {
                "font": {
                 "color": "#000000"
                },
                "showarrow": false,
                "text": "0.11",
                "x": 4,
                "xref": "x",
                "y": 15,
                "yref": "y"
               },
               {
                "font": {
                 "color": "#FFFFFF"
                },
                "showarrow": false,
                "text": "0.88",
                "x": 5,
                "xref": "x",
                "y": 15,
                "yref": "y"
               },
               {
                "font": {
                 "color": "#FFFFFF"
                },
                "showarrow": false,
                "text": "0.54",
                "x": 6,
                "xref": "x",
                "y": 15,
                "yref": "y"
               },
               {
                "font": {
                 "color": "#000000"
                },
                "showarrow": false,
                "text": "0.06",
                "x": 7,
                "xref": "x",
                "y": 15,
                "yref": "y"
               },
               {
                "font": {
                 "color": "#000000"
                },
                "showarrow": false,
                "text": "0.03",
                "x": 8,
                "xref": "x",
                "y": 15,
                "yref": "y"
               },
               {
                "font": {
                 "color": "#000000"
                },
                "showarrow": false,
                "text": "0.04",
                "x": 9,
                "xref": "x",
                "y": 15,
                "yref": "y"
               },
               {
                "font": {
                 "color": "#000000"
                },
                "showarrow": false,
                "text": "0.04",
                "x": 10,
                "xref": "x",
                "y": 15,
                "yref": "y"
               },
               {
                "font": {
                 "color": "#000000"
                },
                "showarrow": false,
                "text": "0.14",
                "x": 11,
                "xref": "x",
                "y": 15,
                "yref": "y"
               },
               {
                "font": {
                 "color": "#000000"
                },
                "showarrow": false,
                "text": "0.06",
                "x": 12,
                "xref": "x",
                "y": 15,
                "yref": "y"
               },
               {
                "font": {
                 "color": "#000000"
                },
                "showarrow": false,
                "text": "0.21",
                "x": 13,
                "xref": "x",
                "y": 15,
                "yref": "y"
               },
               {
                "font": {
                 "color": "#000000"
                },
                "showarrow": false,
                "text": "0.21",
                "x": 14,
                "xref": "x",
                "y": 15,
                "yref": "y"
               },
               {
                "font": {
                 "color": "#FFFFFF"
                },
                "showarrow": false,
                "text": "1.0",
                "x": 15,
                "xref": "x",
                "y": 15,
                "yref": "y"
               }
              ],
              "updatemenus": [
               {
                "active": 0,
                "bgcolor": "rgba(255,255,255,1)",
                "buttons": [
                 {
                  "args": [
                   {
                    "annotations": [
                     {
                      "font": {
                       "color": "#FFFFFF"
                      },
                      "showarrow": false,
                      "text": "1.0",
                      "x": 0,
                      "xref": "x",
                      "y": 0,
                      "yref": "y"
                     },
                     {
                      "font": {
                       "color": "#000000"
                      },
                      "showarrow": false,
                      "text": "0.1",
                      "x": 1,
                      "xref": "x",
                      "y": 0,
                      "yref": "y"
                     },
                     {
                      "font": {
                       "color": "#000000"
                      },
                      "showarrow": false,
                      "text": "0.01",
                      "x": 2,
                      "xref": "x",
                      "y": 0,
                      "yref": "y"
                     },
                     {
                      "font": {
                       "color": "#000000"
                      },
                      "showarrow": false,
                      "text": "0.0",
                      "x": 3,
                      "xref": "x",
                      "y": 0,
                      "yref": "y"
                     },
                     {
                      "font": {
                       "color": "#000000"
                      },
                      "showarrow": false,
                      "text": "0.0",
                      "x": 4,
                      "xref": "x",
                      "y": 0,
                      "yref": "y"
                     },
                     {
                      "font": {
                       "color": "#000000"
                      },
                      "showarrow": false,
                      "text": "0.02",
                      "x": 5,
                      "xref": "x",
                      "y": 0,
                      "yref": "y"
                     },
                     {
                      "font": {
                       "color": "#000000"
                      },
                      "showarrow": false,
                      "text": "0.0",
                      "x": 6,
                      "xref": "x",
                      "y": 0,
                      "yref": "y"
                     },
                     {
                      "font": {
                       "color": "#FFFFFF"
                      },
                      "showarrow": false,
                      "text": "0.5",
                      "x": 7,
                      "xref": "x",
                      "y": 0,
                      "yref": "y"
                     },
                     {
                      "font": {
                       "color": "#000000"
                      },
                      "showarrow": false,
                      "text": "0.43",
                      "x": 8,
                      "xref": "x",
                      "y": 0,
                      "yref": "y"
                     },
                     {
                      "font": {
                       "color": "#000000"
                      },
                      "showarrow": false,
                      "text": "0.22",
                      "x": 9,
                      "xref": "x",
                      "y": 0,
                      "yref": "y"
                     },
                     {
                      "font": {
                       "color": "#000000"
                      },
                      "showarrow": false,
                      "text": "0.02",
                      "x": 10,
                      "xref": "x",
                      "y": 0,
                      "yref": "y"
                     },
                     {
                      "font": {
                       "color": "#000000"
                      },
                      "showarrow": false,
                      "text": "0.19",
                      "x": 11,
                      "xref": "x",
                      "y": 0,
                      "yref": "y"
                     },
                     {
                      "font": {
                       "color": "#000000"
                      },
                      "showarrow": false,
                      "text": "0.02",
                      "x": 12,
                      "xref": "x",
                      "y": 0,
                      "yref": "y"
                     },
                     {
                      "font": {
                       "color": "#000000"
                      },
                      "showarrow": false,
                      "text": "0.17",
                      "x": 13,
                      "xref": "x",
                      "y": 0,
                      "yref": "y"
                     },
                     {
                      "font": {
                       "color": "#000000"
                      },
                      "showarrow": false,
                      "text": "0.16",
                      "x": 14,
                      "xref": "x",
                      "y": 0,
                      "yref": "y"
                     },
                     {
                      "font": {
                       "color": "#000000"
                      },
                      "showarrow": false,
                      "text": "0.04",
                      "x": 15,
                      "xref": "x",
                      "y": 0,
                      "yref": "y"
                     },
                     {
                      "font": {
                       "color": "#000000"
                      },
                      "showarrow": false,
                      "text": "0.1",
                      "x": 0,
                      "xref": "x",
                      "y": 1,
                      "yref": "y"
                     },
                     {
                      "font": {
                       "color": "#FFFFFF"
                      },
                      "showarrow": false,
                      "text": "1.0",
                      "x": 1,
                      "xref": "x",
                      "y": 1,
                      "yref": "y"
                     },
                     {
                      "font": {
                       "color": "#000000"
                      },
                      "showarrow": false,
                      "text": "0.0",
                      "x": 2,
                      "xref": "x",
                      "y": 1,
                      "yref": "y"
                     },
                     {
                      "font": {
                       "color": "#000000"
                      },
                      "showarrow": false,
                      "text": "0.02",
                      "x": 3,
                      "xref": "x",
                      "y": 1,
                      "yref": "y"
                     },
                     {
                      "font": {
                       "color": "#000000"
                      },
                      "showarrow": false,
                      "text": "0.01",
                      "x": 4,
                      "xref": "x",
                      "y": 1,
                      "yref": "y"
                     },
                     {
                      "font": {
                       "color": "#000000"
                      },
                      "showarrow": false,
                      "text": "0.0",
                      "x": 5,
                      "xref": "x",
                      "y": 1,
                      "yref": "y"
                     },
                     {
                      "font": {
                       "color": "#000000"
                      },
                      "showarrow": false,
                      "text": "0.02",
                      "x": 6,
                      "xref": "x",
                      "y": 1,
                      "yref": "y"
                     },
                     {
                      "font": {
                       "color": "#000000"
                      },
                      "showarrow": false,
                      "text": "0.1",
                      "x": 7,
                      "xref": "x",
                      "y": 1,
                      "yref": "y"
                     },
                     {
                      "font": {
                       "color": "#000000"
                      },
                      "showarrow": false,
                      "text": "0.03",
                      "x": 8,
                      "xref": "x",
                      "y": 1,
                      "yref": "y"
                     },
                     {
                      "font": {
                       "color": "#000000"
                      },
                      "showarrow": false,
                      "text": "0.09",
                      "x": 9,
                      "xref": "x",
                      "y": 1,
                      "yref": "y"
                     },
                     {
                      "font": {
                       "color": "#000000"
                      },
                      "showarrow": false,
                      "text": "0.07",
                      "x": 10,
                      "xref": "x",
                      "y": 1,
                      "yref": "y"
                     },
                     {
                      "font": {
                       "color": "#000000"
                      },
                      "showarrow": false,
                      "text": "0.07",
                      "x": 11,
                      "xref": "x",
                      "y": 1,
                      "yref": "y"
                     },
                     {
                      "font": {
                       "color": "#000000"
                      },
                      "showarrow": false,
                      "text": "0.08",
                      "x": 12,
                      "xref": "x",
                      "y": 1,
                      "yref": "y"
                     },
                     {
                      "font": {
                       "color": "#000000"
                      },
                      "showarrow": false,
                      "text": "0.05",
                      "x": 13,
                      "xref": "x",
                      "y": 1,
                      "yref": "y"
                     },
                     {
                      "font": {
                       "color": "#000000"
                      },
                      "showarrow": false,
                      "text": "0.16",
                      "x": 14,
                      "xref": "x",
                      "y": 1,
                      "yref": "y"
                     },
                     {
                      "font": {
                       "color": "#000000"
                      },
                      "showarrow": false,
                      "text": "0.04",
                      "x": 15,
                      "xref": "x",
                      "y": 1,
                      "yref": "y"
                     },
                     {
                      "font": {
                       "color": "#000000"
                      },
                      "showarrow": false,
                      "text": "0.01",
                      "x": 0,
                      "xref": "x",
                      "y": 2,
                      "yref": "y"
                     },
                     {
                      "font": {
                       "color": "#000000"
                      },
                      "showarrow": false,
                      "text": "0.0",
                      "x": 1,
                      "xref": "x",
                      "y": 2,
                      "yref": "y"
                     },
                     {
                      "font": {
                       "color": "#FFFFFF"
                      },
                      "showarrow": false,
                      "text": "1.0",
                      "x": 2,
                      "xref": "x",
                      "y": 2,
                      "yref": "y"
                     },
                     {
                      "font": {
                       "color": "#000000"
                      },
                      "showarrow": false,
                      "text": "0.03",
                      "x": 3,
                      "xref": "x",
                      "y": 2,
                      "yref": "y"
                     },
                     {
                      "font": {
                       "color": "#000000"
                      },
                      "showarrow": false,
                      "text": "0.16",
                      "x": 4,
                      "xref": "x",
                      "y": 2,
                      "yref": "y"
                     },
                     {
                      "font": {
                       "color": "#000000"
                      },
                      "showarrow": false,
                      "text": "0.09",
                      "x": 5,
                      "xref": "x",
                      "y": 2,
                      "yref": "y"
                     },
                     {
                      "font": {
                       "color": "#000000"
                      },
                      "showarrow": false,
                      "text": "0.05",
                      "x": 6,
                      "xref": "x",
                      "y": 2,
                      "yref": "y"
                     },
                     {
                      "font": {
                       "color": "#000000"
                      },
                      "showarrow": false,
                      "text": "0.05",
                      "x": 7,
                      "xref": "x",
                      "y": 2,
                      "yref": "y"
                     },
                     {
                      "font": {
                       "color": "#000000"
                      },
                      "showarrow": false,
                      "text": "0.01",
                      "x": 8,
                      "xref": "x",
                      "y": 2,
                      "yref": "y"
                     },
                     {
                      "font": {
                       "color": "#000000"
                      },
                      "showarrow": false,
                      "text": "0.03",
                      "x": 9,
                      "xref": "x",
                      "y": 2,
                      "yref": "y"
                     },
                     {
                      "font": {
                       "color": "#000000"
                      },
                      "showarrow": false,
                      "text": "0.01",
                      "x": 10,
                      "xref": "x",
                      "y": 2,
                      "yref": "y"
                     },
                     {
                      "font": {
                       "color": "#000000"
                      },
                      "showarrow": false,
                      "text": "0.03",
                      "x": 11,
                      "xref": "x",
                      "y": 2,
                      "yref": "y"
                     },
                     {
                      "font": {
                       "color": "#000000"
                      },
                      "showarrow": false,
                      "text": "0.01",
                      "x": 12,
                      "xref": "x",
                      "y": 2,
                      "yref": "y"
                     },
                     {
                      "font": {
                       "color": "#000000"
                      },
                      "showarrow": false,
                      "text": "0.04",
                      "x": 13,
                      "xref": "x",
                      "y": 2,
                      "yref": "y"
                     },
                     {
                      "font": {
                       "color": "#000000"
                      },
                      "showarrow": false,
                      "text": "0.45",
                      "x": 14,
                      "xref": "x",
                      "y": 2,
                      "yref": "y"
                     },
                     {
                      "font": {
                       "color": "#000000"
                      },
                      "showarrow": false,
                      "text": "0.09",
                      "x": 15,
                      "xref": "x",
                      "y": 2,
                      "yref": "y"
                     },
                     {
                      "font": {
                       "color": "#000000"
                      },
                      "showarrow": false,
                      "text": "0.0",
                      "x": 0,
                      "xref": "x",
                      "y": 3,
                      "yref": "y"
                     },
                     {
                      "font": {
                       "color": "#000000"
                      },
                      "showarrow": false,
                      "text": "0.02",
                      "x": 1,
                      "xref": "x",
                      "y": 3,
                      "yref": "y"
                     },
                     {
                      "font": {
                       "color": "#000000"
                      },
                      "showarrow": false,
                      "text": "0.03",
                      "x": 2,
                      "xref": "x",
                      "y": 3,
                      "yref": "y"
                     },
                     {
                      "font": {
                       "color": "#FFFFFF"
                      },
                      "showarrow": false,
                      "text": "1.0",
                      "x": 3,
                      "xref": "x",
                      "y": 3,
                      "yref": "y"
                     },
                     {
                      "font": {
                       "color": "#000000"
                      },
                      "showarrow": false,
                      "text": "0.08",
                      "x": 4,
                      "xref": "x",
                      "y": 3,
                      "yref": "y"
                     },
                     {
                      "font": {
                       "color": "#000000"
                      },
                      "showarrow": false,
                      "text": "0.0",
                      "x": 5,
                      "xref": "x",
                      "y": 3,
                      "yref": "y"
                     },
                     {
                      "font": {
                       "color": "#000000"
                      },
                      "showarrow": false,
                      "text": "0.0",
                      "x": 6,
                      "xref": "x",
                      "y": 3,
                      "yref": "y"
                     },
                     {
                      "font": {
                       "color": "#000000"
                      },
                      "showarrow": false,
                      "text": "0.04",
                      "x": 7,
                      "xref": "x",
                      "y": 3,
                      "yref": "y"
                     },
                     {
                      "font": {
                       "color": "#000000"
                      },
                      "showarrow": false,
                      "text": "0.02",
                      "x": 8,
                      "xref": "x",
                      "y": 3,
                      "yref": "y"
                     },
                     {
                      "font": {
                       "color": "#000000"
                      },
                      "showarrow": false,
                      "text": "0.0",
                      "x": 9,
                      "xref": "x",
                      "y": 3,
                      "yref": "y"
                     },
                     {
                      "font": {
                       "color": "#000000"
                      },
                      "showarrow": false,
                      "text": "0.01",
                      "x": 10,
                      "xref": "x",
                      "y": 3,
                      "yref": "y"
                     },
                     {
                      "font": {
                       "color": "#000000"
                      },
                      "showarrow": false,
                      "text": "0.01",
                      "x": 11,
                      "xref": "x",
                      "y": 3,
                      "yref": "y"
                     },
                     {
                      "font": {
                       "color": "#000000"
                      },
                      "showarrow": false,
                      "text": "0.01",
                      "x": 12,
                      "xref": "x",
                      "y": 3,
                      "yref": "y"
                     },
                     {
                      "font": {
                       "color": "#000000"
                      },
                      "showarrow": false,
                      "text": "0.03",
                      "x": 13,
                      "xref": "x",
                      "y": 3,
                      "yref": "y"
                     },
                     {
                      "font": {
                       "color": "#000000"
                      },
                      "showarrow": false,
                      "text": "0.07",
                      "x": 14,
                      "xref": "x",
                      "y": 3,
                      "yref": "y"
                     },
                     {
                      "font": {
                       "color": "#000000"
                      },
                      "showarrow": false,
                      "text": "0.05",
                      "x": 15,
                      "xref": "x",
                      "y": 3,
                      "yref": "y"
                     },
                     {
                      "font": {
                       "color": "#000000"
                      },
                      "showarrow": false,
                      "text": "0.0",
                      "x": 0,
                      "xref": "x",
                      "y": 4,
                      "yref": "y"
                     },
                     {
                      "font": {
                       "color": "#000000"
                      },
                      "showarrow": false,
                      "text": "0.01",
                      "x": 1,
                      "xref": "x",
                      "y": 4,
                      "yref": "y"
                     },
                     {
                      "font": {
                       "color": "#000000"
                      },
                      "showarrow": false,
                      "text": "0.16",
                      "x": 2,
                      "xref": "x",
                      "y": 4,
                      "yref": "y"
                     },
                     {
                      "font": {
                       "color": "#000000"
                      },
                      "showarrow": false,
                      "text": "0.08",
                      "x": 3,
                      "xref": "x",
                      "y": 4,
                      "yref": "y"
                     },
                     {
                      "font": {
                       "color": "#FFFFFF"
                      },
                      "showarrow": false,
                      "text": "1.0",
                      "x": 4,
                      "xref": "x",
                      "y": 4,
                      "yref": "y"
                     },
                     {
                      "font": {
                       "color": "#000000"
                      },
                      "showarrow": false,
                      "text": "0.09",
                      "x": 5,
                      "xref": "x",
                      "y": 4,
                      "yref": "y"
                     },
                     {
                      "font": {
                       "color": "#000000"
                      },
                      "showarrow": false,
                      "text": "0.03",
                      "x": 6,
                      "xref": "x",
                      "y": 4,
                      "yref": "y"
                     },
                     {
                      "font": {
                       "color": "#000000"
                      },
                      "showarrow": false,
                      "text": "0.06",
                      "x": 7,
                      "xref": "x",
                      "y": 4,
                      "yref": "y"
                     },
                     {
                      "font": {
                       "color": "#000000"
                      },
                      "showarrow": false,
                      "text": "0.03",
                      "x": 8,
                      "xref": "x",
                      "y": 4,
                      "yref": "y"
                     },
                     {
                      "font": {
                       "color": "#000000"
                      },
                      "showarrow": false,
                      "text": "0.02",
                      "x": 9,
                      "xref": "x",
                      "y": 4,
                      "yref": "y"
                     },
                     {
                      "font": {
                       "color": "#000000"
                      },
                      "showarrow": false,
                      "text": "0.02",
                      "x": 10,
                      "xref": "x",
                      "y": 4,
                      "yref": "y"
                     },
                     {
                      "font": {
                       "color": "#000000"
                      },
                      "showarrow": false,
                      "text": "0.02",
                      "x": 11,
                      "xref": "x",
                      "y": 4,
                      "yref": "y"
                     },
                     {
                      "font": {
                       "color": "#000000"
                      },
                      "showarrow": false,
                      "text": "0.01",
                      "x": 12,
                      "xref": "x",
                      "y": 4,
                      "yref": "y"
                     },
                     {
                      "font": {
                       "color": "#000000"
                      },
                      "showarrow": false,
                      "text": "0.06",
                      "x": 13,
                      "xref": "x",
                      "y": 4,
                      "yref": "y"
                     },
                     {
                      "font": {
                       "color": "#000000"
                      },
                      "showarrow": false,
                      "text": "0.23",
                      "x": 14,
                      "xref": "x",
                      "y": 4,
                      "yref": "y"
                     },
                     {
                      "font": {
                       "color": "#000000"
                      },
                      "showarrow": false,
                      "text": "0.11",
                      "x": 15,
                      "xref": "x",
                      "y": 4,
                      "yref": "y"
                     },
                     {
                      "font": {
                       "color": "#000000"
                      },
                      "showarrow": false,
                      "text": "0.02",
                      "x": 0,
                      "xref": "x",
                      "y": 5,
                      "yref": "y"
                     },
                     {
                      "font": {
                       "color": "#000000"
                      },
                      "showarrow": false,
                      "text": "0.0",
                      "x": 1,
                      "xref": "x",
                      "y": 5,
                      "yref": "y"
                     },
                     {
                      "font": {
                       "color": "#000000"
                      },
                      "showarrow": false,
                      "text": "0.09",
                      "x": 2,
                      "xref": "x",
                      "y": 5,
                      "yref": "y"
                     },
                     {
                      "font": {
                       "color": "#000000"
                      },
                      "showarrow": false,
                      "text": "0.0",
                      "x": 3,
                      "xref": "x",
                      "y": 5,
                      "yref": "y"
                     },
                     {
                      "font": {
                       "color": "#000000"
                      },
                      "showarrow": false,
                      "text": "0.09",
                      "x": 4,
                      "xref": "x",
                      "y": 5,
                      "yref": "y"
                     },
                     {
                      "font": {
                       "color": "#FFFFFF"
                      },
                      "showarrow": false,
                      "text": "1.0",
                      "x": 5,
                      "xref": "x",
                      "y": 5,
                      "yref": "y"
                     },
                     {
                      "font": {
                       "color": "#000000"
                      },
                      "showarrow": false,
                      "text": "0.45",
                      "x": 6,
                      "xref": "x",
                      "y": 5,
                      "yref": "y"
                     },
                     {
                      "font": {
                       "color": "#000000"
                      },
                      "showarrow": false,
                      "text": "0.06",
                      "x": 7,
                      "xref": "x",
                      "y": 5,
                      "yref": "y"
                     },
                     {
                      "font": {
                       "color": "#000000"
                      },
                      "showarrow": false,
                      "text": "0.03",
                      "x": 8,
                      "xref": "x",
                      "y": 5,
                      "yref": "y"
                     },
                     {
                      "font": {
                       "color": "#000000"
                      },
                      "showarrow": false,
                      "text": "0.02",
                      "x": 9,
                      "xref": "x",
                      "y": 5,
                      "yref": "y"
                     },
                     {
                      "font": {
                       "color": "#000000"
                      },
                      "showarrow": false,
                      "text": "0.03",
                      "x": 10,
                      "xref": "x",
                      "y": 5,
                      "yref": "y"
                     },
                     {
                      "font": {
                       "color": "#000000"
                      },
                      "showarrow": false,
                      "text": "0.12",
                      "x": 11,
                      "xref": "x",
                      "y": 5,
                      "yref": "y"
                     },
                     {
                      "font": {
                       "color": "#000000"
                      },
                      "showarrow": false,
                      "text": "0.02",
                      "x": 12,
                      "xref": "x",
                      "y": 5,
                      "yref": "y"
                     },
                     {
                      "font": {
                       "color": "#000000"
                      },
                      "showarrow": false,
                      "text": "0.25",
                      "x": 13,
                      "xref": "x",
                      "y": 5,
                      "yref": "y"
                     },
                     {
                      "font": {
                       "color": "#000000"
                      },
                      "showarrow": false,
                      "text": "0.29",
                      "x": 14,
                      "xref": "x",
                      "y": 5,
                      "yref": "y"
                     },
                     {
                      "font": {
                       "color": "#FFFFFF"
                      },
                      "showarrow": false,
                      "text": "0.88",
                      "x": 15,
                      "xref": "x",
                      "y": 5,
                      "yref": "y"
                     },
                     {
                      "font": {
                       "color": "#000000"
                      },
                      "showarrow": false,
                      "text": "0.0",
                      "x": 0,
                      "xref": "x",
                      "y": 6,
                      "yref": "y"
                     },
                     {
                      "font": {
                       "color": "#000000"
                      },
                      "showarrow": false,
                      "text": "0.02",
                      "x": 1,
                      "xref": "x",
                      "y": 6,
                      "yref": "y"
                     },
                     {
                      "font": {
                       "color": "#000000"
                      },
                      "showarrow": false,
                      "text": "0.05",
                      "x": 2,
                      "xref": "x",
                      "y": 6,
                      "yref": "y"
                     },
                     {
                      "font": {
                       "color": "#000000"
                      },
                      "showarrow": false,
                      "text": "0.0",
                      "x": 3,
                      "xref": "x",
                      "y": 6,
                      "yref": "y"
                     },
                     {
                      "font": {
                       "color": "#000000"
                      },
                      "showarrow": false,
                      "text": "0.03",
                      "x": 4,
                      "xref": "x",
                      "y": 6,
                      "yref": "y"
                     },
                     {
                      "font": {
                       "color": "#000000"
                      },
                      "showarrow": false,
                      "text": "0.45",
                      "x": 5,
                      "xref": "x",
                      "y": 6,
                      "yref": "y"
                     },
                     {
                      "font": {
                       "color": "#FFFFFF"
                      },
                      "showarrow": false,
                      "text": "1.0",
                      "x": 6,
                      "xref": "x",
                      "y": 6,
                      "yref": "y"
                     },
                     {
                      "font": {
                       "color": "#000000"
                      },
                      "showarrow": false,
                      "text": "0.04",
                      "x": 7,
                      "xref": "x",
                      "y": 6,
                      "yref": "y"
                     },
                     {
                      "font": {
                       "color": "#000000"
                      },
                      "showarrow": false,
                      "text": "0.02",
                      "x": 8,
                      "xref": "x",
                      "y": 6,
                      "yref": "y"
                     },
                     {
                      "font": {
                       "color": "#000000"
                      },
                      "showarrow": false,
                      "text": "0.03",
                      "x": 9,
                      "xref": "x",
                      "y": 6,
                      "yref": "y"
                     },
                     {
                      "font": {
                       "color": "#000000"
                      },
                      "showarrow": false,
                      "text": "0.02",
                      "x": 10,
                      "xref": "x",
                      "y": 6,
                      "yref": "y"
                     },
                     {
                      "font": {
                       "color": "#000000"
                      },
                      "showarrow": false,
                      "text": "0.04",
                      "x": 11,
                      "xref": "x",
                      "y": 6,
                      "yref": "y"
                     },
                     {
                      "font": {
                       "color": "#000000"
                      },
                      "showarrow": false,
                      "text": "0.01",
                      "x": 12,
                      "xref": "x",
                      "y": 6,
                      "yref": "y"
                     },
                     {
                      "font": {
                       "color": "#000000"
                      },
                      "showarrow": false,
                      "text": "0.15",
                      "x": 13,
                      "xref": "x",
                      "y": 6,
                      "yref": "y"
                     },
                     {
                      "font": {
                       "color": "#000000"
                      },
                      "showarrow": false,
                      "text": "0.18",
                      "x": 14,
                      "xref": "x",
                      "y": 6,
                      "yref": "y"
                     },
                     {
                      "font": {
                       "color": "#FFFFFF"
                      },
                      "showarrow": false,
                      "text": "0.54",
                      "x": 15,
                      "xref": "x",
                      "y": 6,
                      "yref": "y"
                     },
                     {
                      "font": {
                       "color": "#FFFFFF"
                      },
                      "showarrow": false,
                      "text": "0.5",
                      "x": 0,
                      "xref": "x",
                      "y": 7,
                      "yref": "y"
                     },
                     {
                      "font": {
                       "color": "#000000"
                      },
                      "showarrow": false,
                      "text": "0.1",
                      "x": 1,
                      "xref": "x",
                      "y": 7,
                      "yref": "y"
                     },
                     {
                      "font": {
                       "color": "#000000"
                      },
                      "showarrow": false,
                      "text": "0.05",
                      "x": 2,
                      "xref": "x",
                      "y": 7,
                      "yref": "y"
                     },
                     {
                      "font": {
                       "color": "#000000"
                      },
                      "showarrow": false,
                      "text": "0.04",
                      "x": 3,
                      "xref": "x",
                      "y": 7,
                      "yref": "y"
                     },
                     {
                      "font": {
                       "color": "#000000"
                      },
                      "showarrow": false,
                      "text": "0.06",
                      "x": 4,
                      "xref": "x",
                      "y": 7,
                      "yref": "y"
                     },
                     {
                      "font": {
                       "color": "#000000"
                      },
                      "showarrow": false,
                      "text": "0.06",
                      "x": 5,
                      "xref": "x",
                      "y": 7,
                      "yref": "y"
                     },
                     {
                      "font": {
                       "color": "#000000"
                      },
                      "showarrow": false,
                      "text": "0.04",
                      "x": 6,
                      "xref": "x",
                      "y": 7,
                      "yref": "y"
                     },
                     {
                      "font": {
                       "color": "#FFFFFF"
                      },
                      "showarrow": false,
                      "text": "1.0",
                      "x": 7,
                      "xref": "x",
                      "y": 7,
                      "yref": "y"
                     },
                     {
                      "font": {
                       "color": "#000000"
                      },
                      "showarrow": false,
                      "text": "0.21",
                      "x": 8,
                      "xref": "x",
                      "y": 7,
                      "yref": "y"
                     },
                     {
                      "font": {
                       "color": "#000000"
                      },
                      "showarrow": false,
                      "text": "0.46",
                      "x": 9,
                      "xref": "x",
                      "y": 7,
                      "yref": "y"
                     },
                     {
                      "font": {
                       "color": "#000000"
                      },
                      "showarrow": false,
                      "text": "0.04",
                      "x": 10,
                      "xref": "x",
                      "y": 7,
                      "yref": "y"
                     },
                     {
                      "font": {
                       "color": "#000000"
                      },
                      "showarrow": false,
                      "text": "0.28",
                      "x": 11,
                      "xref": "x",
                      "y": 7,
                      "yref": "y"
                     },
                     {
                      "font": {
                       "color": "#000000"
                      },
                      "showarrow": false,
                      "text": "0.11",
                      "x": 12,
                      "xref": "x",
                      "y": 7,
                      "yref": "y"
                     },
                     {
                      "font": {
                       "color": "#000000"
                      },
                      "showarrow": false,
                      "text": "0.15",
                      "x": 13,
                      "xref": "x",
                      "y": 7,
                      "yref": "y"
                     },
                     {
                      "font": {
                       "color": "#000000"
                      },
                      "showarrow": false,
                      "text": "0.11",
                      "x": 14,
                      "xref": "x",
                      "y": 7,
                      "yref": "y"
                     },
                     {
                      "font": {
                       "color": "#000000"
                      },
                      "showarrow": false,
                      "text": "0.06",
                      "x": 15,
                      "xref": "x",
                      "y": 7,
                      "yref": "y"
                     },
                     {
                      "font": {
                       "color": "#000000"
                      },
                      "showarrow": false,
                      "text": "0.43",
                      "x": 0,
                      "xref": "x",
                      "y": 8,
                      "yref": "y"
                     },
                     {
                      "font": {
                       "color": "#000000"
                      },
                      "showarrow": false,
                      "text": "0.03",
                      "x": 1,
                      "xref": "x",
                      "y": 8,
                      "yref": "y"
                     },
                     {
                      "font": {
                       "color": "#000000"
                      },
                      "showarrow": false,
                      "text": "0.01",
                      "x": 2,
                      "xref": "x",
                      "y": 8,
                      "yref": "y"
                     },
                     {
                      "font": {
                       "color": "#000000"
                      },
                      "showarrow": false,
                      "text": "0.02",
                      "x": 3,
                      "xref": "x",
                      "y": 8,
                      "yref": "y"
                     },
                     {
                      "font": {
                       "color": "#000000"
                      },
                      "showarrow": false,
                      "text": "0.03",
                      "x": 4,
                      "xref": "x",
                      "y": 8,
                      "yref": "y"
                     },
                     {
                      "font": {
                       "color": "#000000"
                      },
                      "showarrow": false,
                      "text": "0.03",
                      "x": 5,
                      "xref": "x",
                      "y": 8,
                      "yref": "y"
                     },
                     {
                      "font": {
                       "color": "#000000"
                      },
                      "showarrow": false,
                      "text": "0.02",
                      "x": 6,
                      "xref": "x",
                      "y": 8,
                      "yref": "y"
                     },
                     {
                      "font": {
                       "color": "#000000"
                      },
                      "showarrow": false,
                      "text": "0.21",
                      "x": 7,
                      "xref": "x",
                      "y": 8,
                      "yref": "y"
                     },
                     {
                      "font": {
                       "color": "#FFFFFF"
                      },
                      "showarrow": false,
                      "text": "1.0",
                      "x": 8,
                      "xref": "x",
                      "y": 8,
                      "yref": "y"
                     },
                     {
                      "font": {
                       "color": "#000000"
                      },
                      "showarrow": false,
                      "text": "0.12",
                      "x": 9,
                      "xref": "x",
                      "y": 8,
                      "yref": "y"
                     },
                     {
                      "font": {
                       "color": "#000000"
                      },
                      "showarrow": false,
                      "text": "0.02",
                      "x": 10,
                      "xref": "x",
                      "y": 8,
                      "yref": "y"
                     },
                     {
                      "font": {
                       "color": "#000000"
                      },
                      "showarrow": false,
                      "text": "0.02",
                      "x": 11,
                      "xref": "x",
                      "y": 8,
                      "yref": "y"
                     },
                     {
                      "font": {
                       "color": "#000000"
                      },
                      "showarrow": false,
                      "text": "0.05",
                      "x": 12,
                      "xref": "x",
                      "y": 8,
                      "yref": "y"
                     },
                     {
                      "font": {
                       "color": "#000000"
                      },
                      "showarrow": false,
                      "text": "0.05",
                      "x": 13,
                      "xref": "x",
                      "y": 8,
                      "yref": "y"
                     },
                     {
                      "font": {
                       "color": "#000000"
                      },
                      "showarrow": false,
                      "text": "0.07",
                      "x": 14,
                      "xref": "x",
                      "y": 8,
                      "yref": "y"
                     },
                     {
                      "font": {
                       "color": "#000000"
                      },
                      "showarrow": false,
                      "text": "0.03",
                      "x": 15,
                      "xref": "x",
                      "y": 8,
                      "yref": "y"
                     },
                     {
                      "font": {
                       "color": "#000000"
                      },
                      "showarrow": false,
                      "text": "0.22",
                      "x": 0,
                      "xref": "x",
                      "y": 9,
                      "yref": "y"
                     },
                     {
                      "font": {
                       "color": "#000000"
                      },
                      "showarrow": false,
                      "text": "0.09",
                      "x": 1,
                      "xref": "x",
                      "y": 9,
                      "yref": "y"
                     },
                     {
                      "font": {
                       "color": "#000000"
                      },
                      "showarrow": false,
                      "text": "0.03",
                      "x": 2,
                      "xref": "x",
                      "y": 9,
                      "yref": "y"
                     },
                     {
                      "font": {
                       "color": "#000000"
                      },
                      "showarrow": false,
                      "text": "0.0",
                      "x": 3,
                      "xref": "x",
                      "y": 9,
                      "yref": "y"
                     },
                     {
                      "font": {
                       "color": "#000000"
                      },
                      "showarrow": false,
                      "text": "0.02",
                      "x": 4,
                      "xref": "x",
                      "y": 9,
                      "yref": "y"
                     },
                     {
                      "font": {
                       "color": "#000000"
                      },
                      "showarrow": false,
                      "text": "0.02",
                      "x": 5,
                      "xref": "x",
                      "y": 9,
                      "yref": "y"
                     },
                     {
                      "font": {
                       "color": "#000000"
                      },
                      "showarrow": false,
                      "text": "0.03",
                      "x": 6,
                      "xref": "x",
                      "y": 9,
                      "yref": "y"
                     },
                     {
                      "font": {
                       "color": "#000000"
                      },
                      "showarrow": false,
                      "text": "0.46",
                      "x": 7,
                      "xref": "x",
                      "y": 9,
                      "yref": "y"
                     },
                     {
                      "font": {
                       "color": "#000000"
                      },
                      "showarrow": false,
                      "text": "0.12",
                      "x": 8,
                      "xref": "x",
                      "y": 9,
                      "yref": "y"
                     },
                     {
                      "font": {
                       "color": "#FFFFFF"
                      },
                      "showarrow": false,
                      "text": "1.0",
                      "x": 9,
                      "xref": "x",
                      "y": 9,
                      "yref": "y"
                     },
                     {
                      "font": {
                       "color": "#000000"
                      },
                      "showarrow": false,
                      "text": "0.02",
                      "x": 10,
                      "xref": "x",
                      "y": 9,
                      "yref": "y"
                     },
                     {
                      "font": {
                       "color": "#000000"
                      },
                      "showarrow": false,
                      "text": "0.12",
                      "x": 11,
                      "xref": "x",
                      "y": 9,
                      "yref": "y"
                     },
                     {
                      "font": {
                       "color": "#000000"
                      },
                      "showarrow": false,
                      "text": "0.08",
                      "x": 12,
                      "xref": "x",
                      "y": 9,
                      "yref": "y"
                     },
                     {
                      "font": {
                       "color": "#000000"
                      },
                      "showarrow": false,
                      "text": "0.12",
                      "x": 13,
                      "xref": "x",
                      "y": 9,
                      "yref": "y"
                     },
                     {
                      "font": {
                       "color": "#000000"
                      },
                      "showarrow": false,
                      "text": "0.11",
                      "x": 14,
                      "xref": "x",
                      "y": 9,
                      "yref": "y"
                     },
                     {
                      "font": {
                       "color": "#000000"
                      },
                      "showarrow": false,
                      "text": "0.04",
                      "x": 15,
                      "xref": "x",
                      "y": 9,
                      "yref": "y"
                     },
                     {
                      "font": {
                       "color": "#000000"
                      },
                      "showarrow": false,
                      "text": "0.02",
                      "x": 0,
                      "xref": "x",
                      "y": 10,
                      "yref": "y"
                     },
                     {
                      "font": {
                       "color": "#000000"
                      },
                      "showarrow": false,
                      "text": "0.07",
                      "x": 1,
                      "xref": "x",
                      "y": 10,
                      "yref": "y"
                     },
                     {
                      "font": {
                       "color": "#000000"
                      },
                      "showarrow": false,
                      "text": "0.01",
                      "x": 2,
                      "xref": "x",
                      "y": 10,
                      "yref": "y"
                     },
                     {
                      "font": {
                       "color": "#000000"
                      },
                      "showarrow": false,
                      "text": "0.01",
                      "x": 3,
                      "xref": "x",
                      "y": 10,
                      "yref": "y"
                     },
                     {
                      "font": {
                       "color": "#000000"
                      },
                      "showarrow": false,
                      "text": "0.02",
                      "x": 4,
                      "xref": "x",
                      "y": 10,
                      "yref": "y"
                     },
                     {
                      "font": {
                       "color": "#000000"
                      },
                      "showarrow": false,
                      "text": "0.03",
                      "x": 5,
                      "xref": "x",
                      "y": 10,
                      "yref": "y"
                     },
                     {
                      "font": {
                       "color": "#000000"
                      },
                      "showarrow": false,
                      "text": "0.02",
                      "x": 6,
                      "xref": "x",
                      "y": 10,
                      "yref": "y"
                     },
                     {
                      "font": {
                       "color": "#000000"
                      },
                      "showarrow": false,
                      "text": "0.04",
                      "x": 7,
                      "xref": "x",
                      "y": 10,
                      "yref": "y"
                     },
                     {
                      "font": {
                       "color": "#000000"
                      },
                      "showarrow": false,
                      "text": "0.02",
                      "x": 8,
                      "xref": "x",
                      "y": 10,
                      "yref": "y"
                     },
                     {
                      "font": {
                       "color": "#000000"
                      },
                      "showarrow": false,
                      "text": "0.02",
                      "x": 9,
                      "xref": "x",
                      "y": 10,
                      "yref": "y"
                     },
                     {
                      "font": {
                       "color": "#FFFFFF"
                      },
                      "showarrow": false,
                      "text": "1.0",
                      "x": 10,
                      "xref": "x",
                      "y": 10,
                      "yref": "y"
                     },
                     {
                      "font": {
                       "color": "#000000"
                      },
                      "showarrow": false,
                      "text": "0.01",
                      "x": 11,
                      "xref": "x",
                      "y": 10,
                      "yref": "y"
                     },
                     {
                      "font": {
                       "color": "#000000"
                      },
                      "showarrow": false,
                      "text": "0.08",
                      "x": 12,
                      "xref": "x",
                      "y": 10,
                      "yref": "y"
                     },
                     {
                      "font": {
                       "color": "#000000"
                      },
                      "showarrow": false,
                      "text": "0.02",
                      "x": 13,
                      "xref": "x",
                      "y": 10,
                      "yref": "y"
                     },
                     {
                      "font": {
                       "color": "#000000"
                      },
                      "showarrow": false,
                      "text": "0.06",
                      "x": 14,
                      "xref": "x",
                      "y": 10,
                      "yref": "y"
                     },
                     {
                      "font": {
                       "color": "#000000"
                      },
                      "showarrow": false,
                      "text": "0.04",
                      "x": 15,
                      "xref": "x",
                      "y": 10,
                      "yref": "y"
                     },
                     {
                      "font": {
                       "color": "#000000"
                      },
                      "showarrow": false,
                      "text": "0.19",
                      "x": 0,
                      "xref": "x",
                      "y": 11,
                      "yref": "y"
                     },
                     {
                      "font": {
                       "color": "#000000"
                      },
                      "showarrow": false,
                      "text": "0.07",
                      "x": 1,
                      "xref": "x",
                      "y": 11,
                      "yref": "y"
                     },
                     {
                      "font": {
                       "color": "#000000"
                      },
                      "showarrow": false,
                      "text": "0.03",
                      "x": 2,
                      "xref": "x",
                      "y": 11,
                      "yref": "y"
                     },
                     {
                      "font": {
                       "color": "#000000"
                      },
                      "showarrow": false,
                      "text": "0.01",
                      "x": 3,
                      "xref": "x",
                      "y": 11,
                      "yref": "y"
                     },
                     {
                      "font": {
                       "color": "#000000"
                      },
                      "showarrow": false,
                      "text": "0.02",
                      "x": 4,
                      "xref": "x",
                      "y": 11,
                      "yref": "y"
                     },
                     {
                      "font": {
                       "color": "#000000"
                      },
                      "showarrow": false,
                      "text": "0.12",
                      "x": 5,
                      "xref": "x",
                      "y": 11,
                      "yref": "y"
                     },
                     {
                      "font": {
                       "color": "#000000"
                      },
                      "showarrow": false,
                      "text": "0.04",
                      "x": 6,
                      "xref": "x",
                      "y": 11,
                      "yref": "y"
                     },
                     {
                      "font": {
                       "color": "#000000"
                      },
                      "showarrow": false,
                      "text": "0.28",
                      "x": 7,
                      "xref": "x",
                      "y": 11,
                      "yref": "y"
                     },
                     {
                      "font": {
                       "color": "#000000"
                      },
                      "showarrow": false,
                      "text": "0.02",
                      "x": 8,
                      "xref": "x",
                      "y": 11,
                      "yref": "y"
                     },
                     {
                      "font": {
                       "color": "#000000"
                      },
                      "showarrow": false,
                      "text": "0.12",
                      "x": 9,
                      "xref": "x",
                      "y": 11,
                      "yref": "y"
                     },
                     {
                      "font": {
                       "color": "#000000"
                      },
                      "showarrow": false,
                      "text": "0.01",
                      "x": 10,
                      "xref": "x",
                      "y": 11,
                      "yref": "y"
                     },
                     {
                      "font": {
                       "color": "#FFFFFF"
                      },
                      "showarrow": false,
                      "text": "1.0",
                      "x": 11,
                      "xref": "x",
                      "y": 11,
                      "yref": "y"
                     },
                     {
                      "font": {
                       "color": "#000000"
                      },
                      "showarrow": false,
                      "text": "0.04",
                      "x": 12,
                      "xref": "x",
                      "y": 11,
                      "yref": "y"
                     },
                     {
                      "font": {
                       "color": "#000000"
                      },
                      "showarrow": false,
                      "text": "0.21",
                      "x": 13,
                      "xref": "x",
                      "y": 11,
                      "yref": "y"
                     },
                     {
                      "font": {
                       "color": "#FFFFFF"
                      },
                      "showarrow": false,
                      "text": "0.5",
                      "x": 14,
                      "xref": "x",
                      "y": 11,
                      "yref": "y"
                     },
                     {
                      "font": {
                       "color": "#000000"
                      },
                      "showarrow": false,
                      "text": "0.14",
                      "x": 15,
                      "xref": "x",
                      "y": 11,
                      "yref": "y"
                     },
                     {
                      "font": {
                       "color": "#000000"
                      },
                      "showarrow": false,
                      "text": "0.02",
                      "x": 0,
                      "xref": "x",
                      "y": 12,
                      "yref": "y"
                     },
                     {
                      "font": {
                       "color": "#000000"
                      },
                      "showarrow": false,
                      "text": "0.08",
                      "x": 1,
                      "xref": "x",
                      "y": 12,
                      "yref": "y"
                     },
                     {
                      "font": {
                       "color": "#000000"
                      },
                      "showarrow": false,
                      "text": "0.01",
                      "x": 2,
                      "xref": "x",
                      "y": 12,
                      "yref": "y"
                     },
                     {
                      "font": {
                       "color": "#000000"
                      },
                      "showarrow": false,
                      "text": "0.01",
                      "x": 3,
                      "xref": "x",
                      "y": 12,
                      "yref": "y"
                     },
                     {
                      "font": {
                       "color": "#000000"
                      },
                      "showarrow": false,
                      "text": "0.01",
                      "x": 4,
                      "xref": "x",
                      "y": 12,
                      "yref": "y"
                     },
                     {
                      "font": {
                       "color": "#000000"
                      },
                      "showarrow": false,
                      "text": "0.02",
                      "x": 5,
                      "xref": "x",
                      "y": 12,
                      "yref": "y"
                     },
                     {
                      "font": {
                       "color": "#000000"
                      },
                      "showarrow": false,
                      "text": "0.01",
                      "x": 6,
                      "xref": "x",
                      "y": 12,
                      "yref": "y"
                     },
                     {
                      "font": {
                       "color": "#000000"
                      },
                      "showarrow": false,
                      "text": "0.11",
                      "x": 7,
                      "xref": "x",
                      "y": 12,
                      "yref": "y"
                     },
                     {
                      "font": {
                       "color": "#000000"
                      },
                      "showarrow": false,
                      "text": "0.05",
                      "x": 8,
                      "xref": "x",
                      "y": 12,
                      "yref": "y"
                     },
                     {
                      "font": {
                       "color": "#000000"
                      },
                      "showarrow": false,
                      "text": "0.08",
                      "x": 9,
                      "xref": "x",
                      "y": 12,
                      "yref": "y"
                     },
                     {
                      "font": {
                       "color": "#000000"
                      },
                      "showarrow": false,
                      "text": "0.08",
                      "x": 10,
                      "xref": "x",
                      "y": 12,
                      "yref": "y"
                     },
                     {
                      "font": {
                       "color": "#000000"
                      },
                      "showarrow": false,
                      "text": "0.04",
                      "x": 11,
                      "xref": "x",
                      "y": 12,
                      "yref": "y"
                     },
                     {
                      "font": {
                       "color": "#FFFFFF"
                      },
                      "showarrow": false,
                      "text": "1.0",
                      "x": 12,
                      "xref": "x",
                      "y": 12,
                      "yref": "y"
                     },
                     {
                      "font": {
                       "color": "#000000"
                      },
                      "showarrow": false,
                      "text": "0.02",
                      "x": 13,
                      "xref": "x",
                      "y": 12,
                      "yref": "y"
                     },
                     {
                      "font": {
                       "color": "#000000"
                      },
                      "showarrow": false,
                      "text": "0.18",
                      "x": 14,
                      "xref": "x",
                      "y": 12,
                      "yref": "y"
                     },
                     {
                      "font": {
                       "color": "#000000"
                      },
                      "showarrow": false,
                      "text": "0.06",
                      "x": 15,
                      "xref": "x",
                      "y": 12,
                      "yref": "y"
                     },
                     {
                      "font": {
                       "color": "#000000"
                      },
                      "showarrow": false,
                      "text": "0.17",
                      "x": 0,
                      "xref": "x",
                      "y": 13,
                      "yref": "y"
                     },
                     {
                      "font": {
                       "color": "#000000"
                      },
                      "showarrow": false,
                      "text": "0.05",
                      "x": 1,
                      "xref": "x",
                      "y": 13,
                      "yref": "y"
                     },
                     {
                      "font": {
                       "color": "#000000"
                      },
                      "showarrow": false,
                      "text": "0.04",
                      "x": 2,
                      "xref": "x",
                      "y": 13,
                      "yref": "y"
                     },
                     {
                      "font": {
                       "color": "#000000"
                      },
                      "showarrow": false,
                      "text": "0.03",
                      "x": 3,
                      "xref": "x",
                      "y": 13,
                      "yref": "y"
                     },
                     {
                      "font": {
                       "color": "#000000"
                      },
                      "showarrow": false,
                      "text": "0.06",
                      "x": 4,
                      "xref": "x",
                      "y": 13,
                      "yref": "y"
                     },
                     {
                      "font": {
                       "color": "#000000"
                      },
                      "showarrow": false,
                      "text": "0.25",
                      "x": 5,
                      "xref": "x",
                      "y": 13,
                      "yref": "y"
                     },
                     {
                      "font": {
                       "color": "#000000"
                      },
                      "showarrow": false,
                      "text": "0.15",
                      "x": 6,
                      "xref": "x",
                      "y": 13,
                      "yref": "y"
                     },
                     {
                      "font": {
                       "color": "#000000"
                      },
                      "showarrow": false,
                      "text": "0.15",
                      "x": 7,
                      "xref": "x",
                      "y": 13,
                      "yref": "y"
                     },
                     {
                      "font": {
                       "color": "#000000"
                      },
                      "showarrow": false,
                      "text": "0.05",
                      "x": 8,
                      "xref": "x",
                      "y": 13,
                      "yref": "y"
                     },
                     {
                      "font": {
                       "color": "#000000"
                      },
                      "showarrow": false,
                      "text": "0.12",
                      "x": 9,
                      "xref": "x",
                      "y": 13,
                      "yref": "y"
                     },
                     {
                      "font": {
                       "color": "#000000"
                      },
                      "showarrow": false,
                      "text": "0.02",
                      "x": 10,
                      "xref": "x",
                      "y": 13,
                      "yref": "y"
                     },
                     {
                      "font": {
                       "color": "#000000"
                      },
                      "showarrow": false,
                      "text": "0.21",
                      "x": 11,
                      "xref": "x",
                      "y": 13,
                      "yref": "y"
                     },
                     {
                      "font": {
                       "color": "#000000"
                      },
                      "showarrow": false,
                      "text": "0.02",
                      "x": 12,
                      "xref": "x",
                      "y": 13,
                      "yref": "y"
                     },
                     {
                      "font": {
                       "color": "#FFFFFF"
                      },
                      "showarrow": false,
                      "text": "1.0",
                      "x": 13,
                      "xref": "x",
                      "y": 13,
                      "yref": "y"
                     },
                     {
                      "font": {
                       "color": "#FFFFFF"
                      },
                      "showarrow": false,
                      "text": "0.51",
                      "x": 14,
                      "xref": "x",
                      "y": 13,
                      "yref": "y"
                     },
                     {
                      "font": {
                       "color": "#000000"
                      },
                      "showarrow": false,
                      "text": "0.21",
                      "x": 15,
                      "xref": "x",
                      "y": 13,
                      "yref": "y"
                     },
                     {
                      "font": {
                       "color": "#000000"
                      },
                      "showarrow": false,
                      "text": "0.16",
                      "x": 0,
                      "xref": "x",
                      "y": 14,
                      "yref": "y"
                     },
                     {
                      "font": {
                       "color": "#000000"
                      },
                      "showarrow": false,
                      "text": "0.16",
                      "x": 1,
                      "xref": "x",
                      "y": 14,
                      "yref": "y"
                     },
                     {
                      "font": {
                       "color": "#000000"
                      },
                      "showarrow": false,
                      "text": "0.45",
                      "x": 2,
                      "xref": "x",
                      "y": 14,
                      "yref": "y"
                     },
                     {
                      "font": {
                       "color": "#000000"
                      },
                      "showarrow": false,
                      "text": "0.07",
                      "x": 3,
                      "xref": "x",
                      "y": 14,
                      "yref": "y"
                     },
                     {
                      "font": {
                       "color": "#000000"
                      },
                      "showarrow": false,
                      "text": "0.23",
                      "x": 4,
                      "xref": "x",
                      "y": 14,
                      "yref": "y"
                     },
                     {
                      "font": {
                       "color": "#000000"
                      },
                      "showarrow": false,
                      "text": "0.29",
                      "x": 5,
                      "xref": "x",
                      "y": 14,
                      "yref": "y"
                     },
                     {
                      "font": {
                       "color": "#000000"
                      },
                      "showarrow": false,
                      "text": "0.18",
                      "x": 6,
                      "xref": "x",
                      "y": 14,
                      "yref": "y"
                     },
                     {
                      "font": {
                       "color": "#000000"
                      },
                      "showarrow": false,
                      "text": "0.11",
                      "x": 7,
                      "xref": "x",
                      "y": 14,
                      "yref": "y"
                     },
                     {
                      "font": {
                       "color": "#000000"
                      },
                      "showarrow": false,
                      "text": "0.07",
                      "x": 8,
                      "xref": "x",
                      "y": 14,
                      "yref": "y"
                     },
                     {
                      "font": {
                       "color": "#000000"
                      },
                      "showarrow": false,
                      "text": "0.11",
                      "x": 9,
                      "xref": "x",
                      "y": 14,
                      "yref": "y"
                     },
                     {
                      "font": {
                       "color": "#000000"
                      },
                      "showarrow": false,
                      "text": "0.06",
                      "x": 10,
                      "xref": "x",
                      "y": 14,
                      "yref": "y"
                     },
                     {
                      "font": {
                       "color": "#FFFFFF"
                      },
                      "showarrow": false,
                      "text": "0.5",
                      "x": 11,
                      "xref": "x",
                      "y": 14,
                      "yref": "y"
                     },
                     {
                      "font": {
                       "color": "#000000"
                      },
                      "showarrow": false,
                      "text": "0.18",
                      "x": 12,
                      "xref": "x",
                      "y": 14,
                      "yref": "y"
                     },
                     {
                      "font": {
                       "color": "#FFFFFF"
                      },
                      "showarrow": false,
                      "text": "0.51",
                      "x": 13,
                      "xref": "x",
                      "y": 14,
                      "yref": "y"
                     },
                     {
                      "font": {
                       "color": "#FFFFFF"
                      },
                      "showarrow": false,
                      "text": "1.0",
                      "x": 14,
                      "xref": "x",
                      "y": 14,
                      "yref": "y"
                     },
                     {
                      "font": {
                       "color": "#000000"
                      },
                      "showarrow": false,
                      "text": "0.21",
                      "x": 15,
                      "xref": "x",
                      "y": 14,
                      "yref": "y"
                     },
                     {
                      "font": {
                       "color": "#000000"
                      },
                      "showarrow": false,
                      "text": "0.04",
                      "x": 0,
                      "xref": "x",
                      "y": 15,
                      "yref": "y"
                     },
                     {
                      "font": {
                       "color": "#000000"
                      },
                      "showarrow": false,
                      "text": "0.04",
                      "x": 1,
                      "xref": "x",
                      "y": 15,
                      "yref": "y"
                     },
                     {
                      "font": {
                       "color": "#000000"
                      },
                      "showarrow": false,
                      "text": "0.09",
                      "x": 2,
                      "xref": "x",
                      "y": 15,
                      "yref": "y"
                     },
                     {
                      "font": {
                       "color": "#000000"
                      },
                      "showarrow": false,
                      "text": "0.05",
                      "x": 3,
                      "xref": "x",
                      "y": 15,
                      "yref": "y"
                     },
                     {
                      "font": {
                       "color": "#000000"
                      },
                      "showarrow": false,
                      "text": "0.11",
                      "x": 4,
                      "xref": "x",
                      "y": 15,
                      "yref": "y"
                     },
                     {
                      "font": {
                       "color": "#FFFFFF"
                      },
                      "showarrow": false,
                      "text": "0.88",
                      "x": 5,
                      "xref": "x",
                      "y": 15,
                      "yref": "y"
                     },
                     {
                      "font": {
                       "color": "#FFFFFF"
                      },
                      "showarrow": false,
                      "text": "0.54",
                      "x": 6,
                      "xref": "x",
                      "y": 15,
                      "yref": "y"
                     },
                     {
                      "font": {
                       "color": "#000000"
                      },
                      "showarrow": false,
                      "text": "0.06",
                      "x": 7,
                      "xref": "x",
                      "y": 15,
                      "yref": "y"
                     },
                     {
                      "font": {
                       "color": "#000000"
                      },
                      "showarrow": false,
                      "text": "0.03",
                      "x": 8,
                      "xref": "x",
                      "y": 15,
                      "yref": "y"
                     },
                     {
                      "font": {
                       "color": "#000000"
                      },
                      "showarrow": false,
                      "text": "0.04",
                      "x": 9,
                      "xref": "x",
                      "y": 15,
                      "yref": "y"
                     },
                     {
                      "font": {
                       "color": "#000000"
                      },
                      "showarrow": false,
                      "text": "0.04",
                      "x": 10,
                      "xref": "x",
                      "y": 15,
                      "yref": "y"
                     },
                     {
                      "font": {
                       "color": "#000000"
                      },
                      "showarrow": false,
                      "text": "0.14",
                      "x": 11,
                      "xref": "x",
                      "y": 15,
                      "yref": "y"
                     },
                     {
                      "font": {
                       "color": "#000000"
                      },
                      "showarrow": false,
                      "text": "0.06",
                      "x": 12,
                      "xref": "x",
                      "y": 15,
                      "yref": "y"
                     },
                     {
                      "font": {
                       "color": "#000000"
                      },
                      "showarrow": false,
                      "text": "0.21",
                      "x": 13,
                      "xref": "x",
                      "y": 15,
                      "yref": "y"
                     },
                     {
                      "font": {
                       "color": "#000000"
                      },
                      "showarrow": false,
                      "text": "0.21",
                      "x": 14,
                      "xref": "x",
                      "y": 15,
                      "yref": "y"
                     },
                     {
                      "font": {
                       "color": "#FFFFFF"
                      },
                      "showarrow": false,
                      "text": "1.0",
                      "x": 15,
                      "xref": "x",
                      "y": 15,
                      "yref": "y"
                     }
                    ]
                   }
                  ],
                  "args2": [
                   {
                    "annotations": []
                   }
                  ],
                  "label": "Show value",
                  "method": "relayout"
                 }
                ],
                "direction": "right",
                "pad": {
                 "l": -387,
                 "r": 0,
                 "t": -250
                },
                "type": "buttons",
                "x": 0.1,
                "xanchor": "left",
                "y": 1,
                "yanchor": "top"
               }
              ],
              "xaxis": {
               "fixedrange": true,
               "ticktext": [
                "age",
                "balance",
                "day",
                "duration",
                "campaign",
                "pdays",
                "previous",
                "job",
                "marital",
                "education",
                "default",
                "housing",
                "loan",
                "contact",
                "month",
                "poutcome"
               ],
               "tickvals": [
                0,
                1,
                2,
                3,
                4,
                5,
                6,
                7,
                8,
                9,
                10,
                11,
                12,
                13,
                14,
                15
               ]
              },
              "yaxis": {
               "autorange": "reversed",
               "fixedrange": true,
               "ticktext": [
                "age",
                "balance",
                "day",
                "duration",
                "campaign",
                "pdays",
                "previous",
                "job",
                "marital",
                "education",
                "default",
                "housing",
                "loan",
                "contact",
                "month",
                "poutcome"
               ],
               "tickvals": [
                0,
                1,
                2,
                3,
                4,
                5,
                6,
                7,
                8,
                9,
                10,
                11,
                12,
                13,
                14,
                15
               ]
              }
             }
            ],
            "label": "All",
            "method": "update"
           },
           {
            "args": [
             {
              "x": [
               [
                0,
                1,
                2,
                3,
                4,
                5,
                6
               ]
              ],
              "y": [
               [
                0,
                1,
                2,
                3,
                4,
                5,
                6
               ]
              ],
              "z": [
               [
                [
                 1,
                 0.097782739371348,
                 0.0091200456335523,
                 0.0046484284706156,
                 0.0047603117624537,
                 0.0237580141117282,
                 0.0012883192026692
                ],
                [
                 0.097782739371348,
                 1,
                 0.0045025851297185,
                 0.0215603804946688,
                 0.0145782788507662,
                 0.0034353218681066,
                 0.0166736367283579
                ],
                [
                 0.0091200456335523,
                 0.0045025851297185,
                 1,
                 0.0302063411386519,
                 0.1624902163261922,
                 0.0930440737729404,
                 0.0517104967358036
                ],
                [
                 0.0046484284706156,
                 0.0215603804946688,
                 0.0302063411386519,
                 1,
                 0.0845695027300617,
                 0.0015647704813434,
                 0.0012030569167003
                ],
                [
                 0.0047603117624537,
                 0.0145782788507662,
                 0.1624902163261922,
                 0.0845695027300617,
                 1,
                 0.0886276679156842,
                 0.0328552896782795
                ],
                [
                 0.0237580141117282,
                 0.0034353218681066,
                 0.0930440737729404,
                 0.0015647704813434,
                 0.0886276679156842,
                 1,
                 0.4548196354805043
                ],
                [
                 0.0012883192026692,
                 0.0166736367283579,
                 0.0517104967358036,
                 0.0012030569167003,
                 0.0328552896782795,
                 0.4548196354805043,
                 1
                ]
               ]
              ]
             },
             {
              "annotations": [
               {
                "font": {
                 "color": "#FFFFFF"
                },
                "showarrow": false,
                "text": "1.0",
                "x": 0,
                "xref": "x",
                "y": 0,
                "yref": "y"
               },
               {
                "font": {
                 "color": "#000000"
                },
                "showarrow": false,
                "text": "0.1",
                "x": 1,
                "xref": "x",
                "y": 0,
                "yref": "y"
               },
               {
                "font": {
                 "color": "#000000"
                },
                "showarrow": false,
                "text": "0.01",
                "x": 2,
                "xref": "x",
                "y": 0,
                "yref": "y"
               },
               {
                "font": {
                 "color": "#000000"
                },
                "showarrow": false,
                "text": "0.0",
                "x": 3,
                "xref": "x",
                "y": 0,
                "yref": "y"
               },
               {
                "font": {
                 "color": "#000000"
                },
                "showarrow": false,
                "text": "0.0",
                "x": 4,
                "xref": "x",
                "y": 0,
                "yref": "y"
               },
               {
                "font": {
                 "color": "#000000"
                },
                "showarrow": false,
                "text": "0.02",
                "x": 5,
                "xref": "x",
                "y": 0,
                "yref": "y"
               },
               {
                "font": {
                 "color": "#000000"
                },
                "showarrow": false,
                "text": "0.0",
                "x": 6,
                "xref": "x",
                "y": 0,
                "yref": "y"
               },
               {
                "font": {
                 "color": "#000000"
                },
                "showarrow": false,
                "text": "0.1",
                "x": 0,
                "xref": "x",
                "y": 1,
                "yref": "y"
               },
               {
                "font": {
                 "color": "#FFFFFF"
                },
                "showarrow": false,
                "text": "1.0",
                "x": 1,
                "xref": "x",
                "y": 1,
                "yref": "y"
               },
               {
                "font": {
                 "color": "#000000"
                },
                "showarrow": false,
                "text": "0.0",
                "x": 2,
                "xref": "x",
                "y": 1,
                "yref": "y"
               },
               {
                "font": {
                 "color": "#000000"
                },
                "showarrow": false,
                "text": "0.02",
                "x": 3,
                "xref": "x",
                "y": 1,
                "yref": "y"
               },
               {
                "font": {
                 "color": "#000000"
                },
                "showarrow": false,
                "text": "0.01",
                "x": 4,
                "xref": "x",
                "y": 1,
                "yref": "y"
               },
               {
                "font": {
                 "color": "#000000"
                },
                "showarrow": false,
                "text": "0.0",
                "x": 5,
                "xref": "x",
                "y": 1,
                "yref": "y"
               },
               {
                "font": {
                 "color": "#000000"
                },
                "showarrow": false,
                "text": "0.02",
                "x": 6,
                "xref": "x",
                "y": 1,
                "yref": "y"
               },
               {
                "font": {
                 "color": "#000000"
                },
                "showarrow": false,
                "text": "0.01",
                "x": 0,
                "xref": "x",
                "y": 2,
                "yref": "y"
               },
               {
                "font": {
                 "color": "#000000"
                },
                "showarrow": false,
                "text": "0.0",
                "x": 1,
                "xref": "x",
                "y": 2,
                "yref": "y"
               },
               {
                "font": {
                 "color": "#FFFFFF"
                },
                "showarrow": false,
                "text": "1.0",
                "x": 2,
                "xref": "x",
                "y": 2,
                "yref": "y"
               },
               {
                "font": {
                 "color": "#000000"
                },
                "showarrow": false,
                "text": "0.03",
                "x": 3,
                "xref": "x",
                "y": 2,
                "yref": "y"
               },
               {
                "font": {
                 "color": "#000000"
                },
                "showarrow": false,
                "text": "0.16",
                "x": 4,
                "xref": "x",
                "y": 2,
                "yref": "y"
               },
               {
                "font": {
                 "color": "#000000"
                },
                "showarrow": false,
                "text": "0.09",
                "x": 5,
                "xref": "x",
                "y": 2,
                "yref": "y"
               },
               {
                "font": {
                 "color": "#000000"
                },
                "showarrow": false,
                "text": "0.05",
                "x": 6,
                "xref": "x",
                "y": 2,
                "yref": "y"
               },
               {
                "font": {
                 "color": "#000000"
                },
                "showarrow": false,
                "text": "0.0",
                "x": 0,
                "xref": "x",
                "y": 3,
                "yref": "y"
               },
               {
                "font": {
                 "color": "#000000"
                },
                "showarrow": false,
                "text": "0.02",
                "x": 1,
                "xref": "x",
                "y": 3,
                "yref": "y"
               },
               {
                "font": {
                 "color": "#000000"
                },
                "showarrow": false,
                "text": "0.03",
                "x": 2,
                "xref": "x",
                "y": 3,
                "yref": "y"
               },
               {
                "font": {
                 "color": "#FFFFFF"
                },
                "showarrow": false,
                "text": "1.0",
                "x": 3,
                "xref": "x",
                "y": 3,
                "yref": "y"
               },
               {
                "font": {
                 "color": "#000000"
                },
                "showarrow": false,
                "text": "0.08",
                "x": 4,
                "xref": "x",
                "y": 3,
                "yref": "y"
               },
               {
                "font": {
                 "color": "#000000"
                },
                "showarrow": false,
                "text": "0.0",
                "x": 5,
                "xref": "x",
                "y": 3,
                "yref": "y"
               },
               {
                "font": {
                 "color": "#000000"
                },
                "showarrow": false,
                "text": "0.0",
                "x": 6,
                "xref": "x",
                "y": 3,
                "yref": "y"
               },
               {
                "font": {
                 "color": "#000000"
                },
                "showarrow": false,
                "text": "0.0",
                "x": 0,
                "xref": "x",
                "y": 4,
                "yref": "y"
               },
               {
                "font": {
                 "color": "#000000"
                },
                "showarrow": false,
                "text": "0.01",
                "x": 1,
                "xref": "x",
                "y": 4,
                "yref": "y"
               },
               {
                "font": {
                 "color": "#000000"
                },
                "showarrow": false,
                "text": "0.16",
                "x": 2,
                "xref": "x",
                "y": 4,
                "yref": "y"
               },
               {
                "font": {
                 "color": "#000000"
                },
                "showarrow": false,
                "text": "0.08",
                "x": 3,
                "xref": "x",
                "y": 4,
                "yref": "y"
               },
               {
                "font": {
                 "color": "#FFFFFF"
                },
                "showarrow": false,
                "text": "1.0",
                "x": 4,
                "xref": "x",
                "y": 4,
                "yref": "y"
               },
               {
                "font": {
                 "color": "#000000"
                },
                "showarrow": false,
                "text": "0.09",
                "x": 5,
                "xref": "x",
                "y": 4,
                "yref": "y"
               },
               {
                "font": {
                 "color": "#000000"
                },
                "showarrow": false,
                "text": "0.03",
                "x": 6,
                "xref": "x",
                "y": 4,
                "yref": "y"
               },
               {
                "font": {
                 "color": "#000000"
                },
                "showarrow": false,
                "text": "0.02",
                "x": 0,
                "xref": "x",
                "y": 5,
                "yref": "y"
               },
               {
                "font": {
                 "color": "#000000"
                },
                "showarrow": false,
                "text": "0.0",
                "x": 1,
                "xref": "x",
                "y": 5,
                "yref": "y"
               },
               {
                "font": {
                 "color": "#000000"
                },
                "showarrow": false,
                "text": "0.09",
                "x": 2,
                "xref": "x",
                "y": 5,
                "yref": "y"
               },
               {
                "font": {
                 "color": "#000000"
                },
                "showarrow": false,
                "text": "0.0",
                "x": 3,
                "xref": "x",
                "y": 5,
                "yref": "y"
               },
               {
                "font": {
                 "color": "#000000"
                },
                "showarrow": false,
                "text": "0.09",
                "x": 4,
                "xref": "x",
                "y": 5,
                "yref": "y"
               },
               {
                "font": {
                 "color": "#FFFFFF"
                },
                "showarrow": false,
                "text": "1.0",
                "x": 5,
                "xref": "x",
                "y": 5,
                "yref": "y"
               },
               {
                "font": {
                 "color": "#000000"
                },
                "showarrow": false,
                "text": "0.45",
                "x": 6,
                "xref": "x",
                "y": 5,
                "yref": "y"
               },
               {
                "font": {
                 "color": "#000000"
                },
                "showarrow": false,
                "text": "0.0",
                "x": 0,
                "xref": "x",
                "y": 6,
                "yref": "y"
               },
               {
                "font": {
                 "color": "#000000"
                },
                "showarrow": false,
                "text": "0.02",
                "x": 1,
                "xref": "x",
                "y": 6,
                "yref": "y"
               },
               {
                "font": {
                 "color": "#000000"
                },
                "showarrow": false,
                "text": "0.05",
                "x": 2,
                "xref": "x",
                "y": 6,
                "yref": "y"
               },
               {
                "font": {
                 "color": "#000000"
                },
                "showarrow": false,
                "text": "0.0",
                "x": 3,
                "xref": "x",
                "y": 6,
                "yref": "y"
               },
               {
                "font": {
                 "color": "#000000"
                },
                "showarrow": false,
                "text": "0.03",
                "x": 4,
                "xref": "x",
                "y": 6,
                "yref": "y"
               },
               {
                "font": {
                 "color": "#000000"
                },
                "showarrow": false,
                "text": "0.45",
                "x": 5,
                "xref": "x",
                "y": 6,
                "yref": "y"
               },
               {
                "font": {
                 "color": "#FFFFFF"
                },
                "showarrow": false,
                "text": "1.0",
                "x": 6,
                "xref": "x",
                "y": 6,
                "yref": "y"
               }
              ],
              "updatemenus": [
               {
                "active": 0,
                "bgcolor": "rgba(255,255,255,1)",
                "buttons": [
                 {
                  "args": [
                   {
                    "annotations": [
                     {
                      "font": {
                       "color": "#FFFFFF"
                      },
                      "showarrow": false,
                      "text": "1.0",
                      "x": 0,
                      "xref": "x",
                      "y": 0,
                      "yref": "y"
                     },
                     {
                      "font": {
                       "color": "#000000"
                      },
                      "showarrow": false,
                      "text": "0.1",
                      "x": 1,
                      "xref": "x",
                      "y": 0,
                      "yref": "y"
                     },
                     {
                      "font": {
                       "color": "#000000"
                      },
                      "showarrow": false,
                      "text": "0.01",
                      "x": 2,
                      "xref": "x",
                      "y": 0,
                      "yref": "y"
                     },
                     {
                      "font": {
                       "color": "#000000"
                      },
                      "showarrow": false,
                      "text": "0.0",
                      "x": 3,
                      "xref": "x",
                      "y": 0,
                      "yref": "y"
                     },
                     {
                      "font": {
                       "color": "#000000"
                      },
                      "showarrow": false,
                      "text": "0.0",
                      "x": 4,
                      "xref": "x",
                      "y": 0,
                      "yref": "y"
                     },
                     {
                      "font": {
                       "color": "#000000"
                      },
                      "showarrow": false,
                      "text": "0.02",
                      "x": 5,
                      "xref": "x",
                      "y": 0,
                      "yref": "y"
                     },
                     {
                      "font": {
                       "color": "#000000"
                      },
                      "showarrow": false,
                      "text": "0.0",
                      "x": 6,
                      "xref": "x",
                      "y": 0,
                      "yref": "y"
                     },
                     {
                      "font": {
                       "color": "#000000"
                      },
                      "showarrow": false,
                      "text": "0.1",
                      "x": 0,
                      "xref": "x",
                      "y": 1,
                      "yref": "y"
                     },
                     {
                      "font": {
                       "color": "#FFFFFF"
                      },
                      "showarrow": false,
                      "text": "1.0",
                      "x": 1,
                      "xref": "x",
                      "y": 1,
                      "yref": "y"
                     },
                     {
                      "font": {
                       "color": "#000000"
                      },
                      "showarrow": false,
                      "text": "0.0",
                      "x": 2,
                      "xref": "x",
                      "y": 1,
                      "yref": "y"
                     },
                     {
                      "font": {
                       "color": "#000000"
                      },
                      "showarrow": false,
                      "text": "0.02",
                      "x": 3,
                      "xref": "x",
                      "y": 1,
                      "yref": "y"
                     },
                     {
                      "font": {
                       "color": "#000000"
                      },
                      "showarrow": false,
                      "text": "0.01",
                      "x": 4,
                      "xref": "x",
                      "y": 1,
                      "yref": "y"
                     },
                     {
                      "font": {
                       "color": "#000000"
                      },
                      "showarrow": false,
                      "text": "0.0",
                      "x": 5,
                      "xref": "x",
                      "y": 1,
                      "yref": "y"
                     },
                     {
                      "font": {
                       "color": "#000000"
                      },
                      "showarrow": false,
                      "text": "0.02",
                      "x": 6,
                      "xref": "x",
                      "y": 1,
                      "yref": "y"
                     },
                     {
                      "font": {
                       "color": "#000000"
                      },
                      "showarrow": false,
                      "text": "0.01",
                      "x": 0,
                      "xref": "x",
                      "y": 2,
                      "yref": "y"
                     },
                     {
                      "font": {
                       "color": "#000000"
                      },
                      "showarrow": false,
                      "text": "0.0",
                      "x": 1,
                      "xref": "x",
                      "y": 2,
                      "yref": "y"
                     },
                     {
                      "font": {
                       "color": "#FFFFFF"
                      },
                      "showarrow": false,
                      "text": "1.0",
                      "x": 2,
                      "xref": "x",
                      "y": 2,
                      "yref": "y"
                     },
                     {
                      "font": {
                       "color": "#000000"
                      },
                      "showarrow": false,
                      "text": "0.03",
                      "x": 3,
                      "xref": "x",
                      "y": 2,
                      "yref": "y"
                     },
                     {
                      "font": {
                       "color": "#000000"
                      },
                      "showarrow": false,
                      "text": "0.16",
                      "x": 4,
                      "xref": "x",
                      "y": 2,
                      "yref": "y"
                     },
                     {
                      "font": {
                       "color": "#000000"
                      },
                      "showarrow": false,
                      "text": "0.09",
                      "x": 5,
                      "xref": "x",
                      "y": 2,
                      "yref": "y"
                     },
                     {
                      "font": {
                       "color": "#000000"
                      },
                      "showarrow": false,
                      "text": "0.05",
                      "x": 6,
                      "xref": "x",
                      "y": 2,
                      "yref": "y"
                     },
                     {
                      "font": {
                       "color": "#000000"
                      },
                      "showarrow": false,
                      "text": "0.0",
                      "x": 0,
                      "xref": "x",
                      "y": 3,
                      "yref": "y"
                     },
                     {
                      "font": {
                       "color": "#000000"
                      },
                      "showarrow": false,
                      "text": "0.02",
                      "x": 1,
                      "xref": "x",
                      "y": 3,
                      "yref": "y"
                     },
                     {
                      "font": {
                       "color": "#000000"
                      },
                      "showarrow": false,
                      "text": "0.03",
                      "x": 2,
                      "xref": "x",
                      "y": 3,
                      "yref": "y"
                     },
                     {
                      "font": {
                       "color": "#FFFFFF"
                      },
                      "showarrow": false,
                      "text": "1.0",
                      "x": 3,
                      "xref": "x",
                      "y": 3,
                      "yref": "y"
                     },
                     {
                      "font": {
                       "color": "#000000"
                      },
                      "showarrow": false,
                      "text": "0.08",
                      "x": 4,
                      "xref": "x",
                      "y": 3,
                      "yref": "y"
                     },
                     {
                      "font": {
                       "color": "#000000"
                      },
                      "showarrow": false,
                      "text": "0.0",
                      "x": 5,
                      "xref": "x",
                      "y": 3,
                      "yref": "y"
                     },
                     {
                      "font": {
                       "color": "#000000"
                      },
                      "showarrow": false,
                      "text": "0.0",
                      "x": 6,
                      "xref": "x",
                      "y": 3,
                      "yref": "y"
                     },
                     {
                      "font": {
                       "color": "#000000"
                      },
                      "showarrow": false,
                      "text": "0.0",
                      "x": 0,
                      "xref": "x",
                      "y": 4,
                      "yref": "y"
                     },
                     {
                      "font": {
                       "color": "#000000"
                      },
                      "showarrow": false,
                      "text": "0.01",
                      "x": 1,
                      "xref": "x",
                      "y": 4,
                      "yref": "y"
                     },
                     {
                      "font": {
                       "color": "#000000"
                      },
                      "showarrow": false,
                      "text": "0.16",
                      "x": 2,
                      "xref": "x",
                      "y": 4,
                      "yref": "y"
                     },
                     {
                      "font": {
                       "color": "#000000"
                      },
                      "showarrow": false,
                      "text": "0.08",
                      "x": 3,
                      "xref": "x",
                      "y": 4,
                      "yref": "y"
                     },
                     {
                      "font": {
                       "color": "#FFFFFF"
                      },
                      "showarrow": false,
                      "text": "1.0",
                      "x": 4,
                      "xref": "x",
                      "y": 4,
                      "yref": "y"
                     },
                     {
                      "font": {
                       "color": "#000000"
                      },
                      "showarrow": false,
                      "text": "0.09",
                      "x": 5,
                      "xref": "x",
                      "y": 4,
                      "yref": "y"
                     },
                     {
                      "font": {
                       "color": "#000000"
                      },
                      "showarrow": false,
                      "text": "0.03",
                      "x": 6,
                      "xref": "x",
                      "y": 4,
                      "yref": "y"
                     },
                     {
                      "font": {
                       "color": "#000000"
                      },
                      "showarrow": false,
                      "text": "0.02",
                      "x": 0,
                      "xref": "x",
                      "y": 5,
                      "yref": "y"
                     },
                     {
                      "font": {
                       "color": "#000000"
                      },
                      "showarrow": false,
                      "text": "0.0",
                      "x": 1,
                      "xref": "x",
                      "y": 5,
                      "yref": "y"
                     },
                     {
                      "font": {
                       "color": "#000000"
                      },
                      "showarrow": false,
                      "text": "0.09",
                      "x": 2,
                      "xref": "x",
                      "y": 5,
                      "yref": "y"
                     },
                     {
                      "font": {
                       "color": "#000000"
                      },
                      "showarrow": false,
                      "text": "0.0",
                      "x": 3,
                      "xref": "x",
                      "y": 5,
                      "yref": "y"
                     },
                     {
                      "font": {
                       "color": "#000000"
                      },
                      "showarrow": false,
                      "text": "0.09",
                      "x": 4,
                      "xref": "x",
                      "y": 5,
                      "yref": "y"
                     },
                     {
                      "font": {
                       "color": "#FFFFFF"
                      },
                      "showarrow": false,
                      "text": "1.0",
                      "x": 5,
                      "xref": "x",
                      "y": 5,
                      "yref": "y"
                     },
                     {
                      "font": {
                       "color": "#000000"
                      },
                      "showarrow": false,
                      "text": "0.45",
                      "x": 6,
                      "xref": "x",
                      "y": 5,
                      "yref": "y"
                     },
                     {
                      "font": {
                       "color": "#000000"
                      },
                      "showarrow": false,
                      "text": "0.0",
                      "x": 0,
                      "xref": "x",
                      "y": 6,
                      "yref": "y"
                     },
                     {
                      "font": {
                       "color": "#000000"
                      },
                      "showarrow": false,
                      "text": "0.02",
                      "x": 1,
                      "xref": "x",
                      "y": 6,
                      "yref": "y"
                     },
                     {
                      "font": {
                       "color": "#000000"
                      },
                      "showarrow": false,
                      "text": "0.05",
                      "x": 2,
                      "xref": "x",
                      "y": 6,
                      "yref": "y"
                     },
                     {
                      "font": {
                       "color": "#000000"
                      },
                      "showarrow": false,
                      "text": "0.0",
                      "x": 3,
                      "xref": "x",
                      "y": 6,
                      "yref": "y"
                     },
                     {
                      "font": {
                       "color": "#000000"
                      },
                      "showarrow": false,
                      "text": "0.03",
                      "x": 4,
                      "xref": "x",
                      "y": 6,
                      "yref": "y"
                     },
                     {
                      "font": {
                       "color": "#000000"
                      },
                      "showarrow": false,
                      "text": "0.45",
                      "x": 5,
                      "xref": "x",
                      "y": 6,
                      "yref": "y"
                     },
                     {
                      "font": {
                       "color": "#FFFFFF"
                      },
                      "showarrow": false,
                      "text": "1.0",
                      "x": 6,
                      "xref": "x",
                      "y": 6,
                      "yref": "y"
                     }
                    ]
                   }
                  ],
                  "args2": [
                   {
                    "annotations": []
                   }
                  ],
                  "label": "Show value",
                  "method": "relayout"
                 }
                ],
                "direction": "right",
                "pad": {
                 "l": -387,
                 "r": 0,
                 "t": -250
                },
                "type": "buttons",
                "x": 0.1,
                "xanchor": "left",
                "y": 1,
                "yanchor": "top"
               }
              ],
              "xaxis": {
               "fixedrange": true,
               "ticktext": [
                "age",
                "balance",
                "day",
                "duration",
                "campaign",
                "pdays",
                "previous"
               ],
               "tickvals": [
                0,
                1,
                2,
                3,
                4,
                5,
                6
               ]
              },
              "yaxis": {
               "autorange": "reversed",
               "fixedrange": true,
               "ticktext": [
                "age",
                "balance",
                "day",
                "duration",
                "campaign",
                "pdays",
                "previous"
               ],
               "tickvals": [
                0,
                1,
                2,
                3,
                4,
                5,
                6
               ]
              }
             }
            ],
            "label": "Numeric-Numeric",
            "method": "update"
           },
           {
            "args": [
             {
              "x": [
               [
                0,
                1,
                2,
                3,
                4,
                5,
                6,
                7,
                8
               ]
              ],
              "y": [
               [
                0,
                1,
                2,
                3,
                4,
                5,
                6,
                7,
                8
               ]
              ],
              "z": [
               [
                [
                 1,
                 0.20601,
                 0.45826,
                 0.03653,
                 0.28174,
                 0.1065,
                 0.15047,
                 0.11024,
                 0.06421
                ],
                [
                 0.20601,
                 1,
                 0.12162,
                 0.01923,
                 0.02069,
                 0.05194,
                 0.04509,
                 0.07232,
                 0.02908
                ],
                [
                 0.45826,
                 0.12162,
                 1,
                 0.0159,
                 0.11934,
                 0.08028,
                 0.12279,
                 0.1101,
                 0.03565
                ],
                [
                 0.03653,
                 0.01923,
                 0.0159,
                 0.99938,
                 0.00586,
                 0.07701,
                 0.02441,
                 0.05867,
                 0.0404
                ],
                [
                 0.28174,
                 0.02069,
                 0.11934,
                 0.00586,
                 0.99996,
                 0.04126,
                 0.21359,
                 0.50421,
                 0.14315
                ],
                [
                 0.1065,
                 0.05194,
                 0.08028,
                 0.07701,
                 0.04126,
                 0.99992,
                 0.01627,
                 0.18283,
                 0.05525
                ],
                [
                 0.15047,
                 0.04509,
                 0.12279,
                 0.02441,
                 0.21359,
                 0.01627,
                 1,
                 0.51213,
                 0.20747
                ],
                [
                 0.11024,
                 0.07232,
                 0.1101,
                 0.05867,
                 0.50421,
                 0.18283,
                 0.51213,
                 1,
                 0.21434
                ],
                [
                 0.06421,
                 0.02908,
                 0.03565,
                 0.0404,
                 0.14315,
                 0.05525,
                 0.20747,
                 0.21434,
                 1
                ]
               ]
              ]
             },
             {
              "annotations": [
               {
                "font": {
                 "color": "#FFFFFF"
                },
                "showarrow": false,
                "text": "1.0",
                "x": 0,
                "xref": "x",
                "y": 0,
                "yref": "y"
               },
               {
                "font": {
                 "color": "#000000"
                },
                "showarrow": false,
                "text": "0.21",
                "x": 1,
                "xref": "x",
                "y": 0,
                "yref": "y"
               },
               {
                "font": {
                 "color": "#000000"
                },
                "showarrow": false,
                "text": "0.46",
                "x": 2,
                "xref": "x",
                "y": 0,
                "yref": "y"
               },
               {
                "font": {
                 "color": "#000000"
                },
                "showarrow": false,
                "text": "0.04",
                "x": 3,
                "xref": "x",
                "y": 0,
                "yref": "y"
               },
               {
                "font": {
                 "color": "#000000"
                },
                "showarrow": false,
                "text": "0.28",
                "x": 4,
                "xref": "x",
                "y": 0,
                "yref": "y"
               },
               {
                "font": {
                 "color": "#000000"
                },
                "showarrow": false,
                "text": "0.11",
                "x": 5,
                "xref": "x",
                "y": 0,
                "yref": "y"
               },
               {
                "font": {
                 "color": "#000000"
                },
                "showarrow": false,
                "text": "0.15",
                "x": 6,
                "xref": "x",
                "y": 0,
                "yref": "y"
               },
               {
                "font": {
                 "color": "#000000"
                },
                "showarrow": false,
                "text": "0.11",
                "x": 7,
                "xref": "x",
                "y": 0,
                "yref": "y"
               },
               {
                "font": {
                 "color": "#000000"
                },
                "showarrow": false,
                "text": "0.06",
                "x": 8,
                "xref": "x",
                "y": 0,
                "yref": "y"
               },
               {
                "font": {
                 "color": "#000000"
                },
                "showarrow": false,
                "text": "0.21",
                "x": 0,
                "xref": "x",
                "y": 1,
                "yref": "y"
               },
               {
                "font": {
                 "color": "#FFFFFF"
                },
                "showarrow": false,
                "text": "1.0",
                "x": 1,
                "xref": "x",
                "y": 1,
                "yref": "y"
               },
               {
                "font": {
                 "color": "#000000"
                },
                "showarrow": false,
                "text": "0.12",
                "x": 2,
                "xref": "x",
                "y": 1,
                "yref": "y"
               },
               {
                "font": {
                 "color": "#000000"
                },
                "showarrow": false,
                "text": "0.02",
                "x": 3,
                "xref": "x",
                "y": 1,
                "yref": "y"
               },
               {
                "font": {
                 "color": "#000000"
                },
                "showarrow": false,
                "text": "0.02",
                "x": 4,
                "xref": "x",
                "y": 1,
                "yref": "y"
               },
               {
                "font": {
                 "color": "#000000"
                },
                "showarrow": false,
                "text": "0.05",
                "x": 5,
                "xref": "x",
                "y": 1,
                "yref": "y"
               },
               {
                "font": {
                 "color": "#000000"
                },
                "showarrow": false,
                "text": "0.05",
                "x": 6,
                "xref": "x",
                "y": 1,
                "yref": "y"
               },
               {
                "font": {
                 "color": "#000000"
                },
                "showarrow": false,
                "text": "0.07",
                "x": 7,
                "xref": "x",
                "y": 1,
                "yref": "y"
               },
               {
                "font": {
                 "color": "#000000"
                },
                "showarrow": false,
                "text": "0.03",
                "x": 8,
                "xref": "x",
                "y": 1,
                "yref": "y"
               },
               {
                "font": {
                 "color": "#000000"
                },
                "showarrow": false,
                "text": "0.46",
                "x": 0,
                "xref": "x",
                "y": 2,
                "yref": "y"
               },
               {
                "font": {
                 "color": "#000000"
                },
                "showarrow": false,
                "text": "0.12",
                "x": 1,
                "xref": "x",
                "y": 2,
                "yref": "y"
               },
               {
                "font": {
                 "color": "#FFFFFF"
                },
                "showarrow": false,
                "text": "1.0",
                "x": 2,
                "xref": "x",
                "y": 2,
                "yref": "y"
               },
               {
                "font": {
                 "color": "#000000"
                },
                "showarrow": false,
                "text": "0.02",
                "x": 3,
                "xref": "x",
                "y": 2,
                "yref": "y"
               },
               {
                "font": {
                 "color": "#000000"
                },
                "showarrow": false,
                "text": "0.12",
                "x": 4,
                "xref": "x",
                "y": 2,
                "yref": "y"
               },
               {
                "font": {
                 "color": "#000000"
                },
                "showarrow": false,
                "text": "0.08",
                "x": 5,
                "xref": "x",
                "y": 2,
                "yref": "y"
               },
               {
                "font": {
                 "color": "#000000"
                },
                "showarrow": false,
                "text": "0.12",
                "x": 6,
                "xref": "x",
                "y": 2,
                "yref": "y"
               },
               {
                "font": {
                 "color": "#000000"
                },
                "showarrow": false,
                "text": "0.11",
                "x": 7,
                "xref": "x",
                "y": 2,
                "yref": "y"
               },
               {
                "font": {
                 "color": "#000000"
                },
                "showarrow": false,
                "text": "0.04",
                "x": 8,
                "xref": "x",
                "y": 2,
                "yref": "y"
               },
               {
                "font": {
                 "color": "#000000"
                },
                "showarrow": false,
                "text": "0.04",
                "x": 0,
                "xref": "x",
                "y": 3,
                "yref": "y"
               },
               {
                "font": {
                 "color": "#000000"
                },
                "showarrow": false,
                "text": "0.02",
                "x": 1,
                "xref": "x",
                "y": 3,
                "yref": "y"
               },
               {
                "font": {
                 "color": "#000000"
                },
                "showarrow": false,
                "text": "0.02",
                "x": 2,
                "xref": "x",
                "y": 3,
                "yref": "y"
               },
               {
                "font": {
                 "color": "#FFFFFF"
                },
                "showarrow": false,
                "text": "1.0",
                "x": 3,
                "xref": "x",
                "y": 3,
                "yref": "y"
               },
               {
                "font": {
                 "color": "#000000"
                },
                "showarrow": false,
                "text": "0.01",
                "x": 4,
                "xref": "x",
                "y": 3,
                "yref": "y"
               },
               {
                "font": {
                 "color": "#000000"
                },
                "showarrow": false,
                "text": "0.08",
                "x": 5,
                "xref": "x",
                "y": 3,
                "yref": "y"
               },
               {
                "font": {
                 "color": "#000000"
                },
                "showarrow": false,
                "text": "0.02",
                "x": 6,
                "xref": "x",
                "y": 3,
                "yref": "y"
               },
               {
                "font": {
                 "color": "#000000"
                },
                "showarrow": false,
                "text": "0.06",
                "x": 7,
                "xref": "x",
                "y": 3,
                "yref": "y"
               },
               {
                "font": {
                 "color": "#000000"
                },
                "showarrow": false,
                "text": "0.04",
                "x": 8,
                "xref": "x",
                "y": 3,
                "yref": "y"
               },
               {
                "font": {
                 "color": "#000000"
                },
                "showarrow": false,
                "text": "0.28",
                "x": 0,
                "xref": "x",
                "y": 4,
                "yref": "y"
               },
               {
                "font": {
                 "color": "#000000"
                },
                "showarrow": false,
                "text": "0.02",
                "x": 1,
                "xref": "x",
                "y": 4,
                "yref": "y"
               },
               {
                "font": {
                 "color": "#000000"
                },
                "showarrow": false,
                "text": "0.12",
                "x": 2,
                "xref": "x",
                "y": 4,
                "yref": "y"
               },
               {
                "font": {
                 "color": "#000000"
                },
                "showarrow": false,
                "text": "0.01",
                "x": 3,
                "xref": "x",
                "y": 4,
                "yref": "y"
               },
               {
                "font": {
                 "color": "#FFFFFF"
                },
                "showarrow": false,
                "text": "1.0",
                "x": 4,
                "xref": "x",
                "y": 4,
                "yref": "y"
               },
               {
                "font": {
                 "color": "#000000"
                },
                "showarrow": false,
                "text": "0.04",
                "x": 5,
                "xref": "x",
                "y": 4,
                "yref": "y"
               },
               {
                "font": {
                 "color": "#000000"
                },
                "showarrow": false,
                "text": "0.21",
                "x": 6,
                "xref": "x",
                "y": 4,
                "yref": "y"
               },
               {
                "font": {
                 "color": "#FFFFFF"
                },
                "showarrow": false,
                "text": "0.5",
                "x": 7,
                "xref": "x",
                "y": 4,
                "yref": "y"
               },
               {
                "font": {
                 "color": "#000000"
                },
                "showarrow": false,
                "text": "0.14",
                "x": 8,
                "xref": "x",
                "y": 4,
                "yref": "y"
               },
               {
                "font": {
                 "color": "#000000"
                },
                "showarrow": false,
                "text": "0.11",
                "x": 0,
                "xref": "x",
                "y": 5,
                "yref": "y"
               },
               {
                "font": {
                 "color": "#000000"
                },
                "showarrow": false,
                "text": "0.05",
                "x": 1,
                "xref": "x",
                "y": 5,
                "yref": "y"
               },
               {
                "font": {
                 "color": "#000000"
                },
                "showarrow": false,
                "text": "0.08",
                "x": 2,
                "xref": "x",
                "y": 5,
                "yref": "y"
               },
               {
                "font": {
                 "color": "#000000"
                },
                "showarrow": false,
                "text": "0.08",
                "x": 3,
                "xref": "x",
                "y": 5,
                "yref": "y"
               },
               {
                "font": {
                 "color": "#000000"
                },
                "showarrow": false,
                "text": "0.04",
                "x": 4,
                "xref": "x",
                "y": 5,
                "yref": "y"
               },
               {
                "font": {
                 "color": "#FFFFFF"
                },
                "showarrow": false,
                "text": "1.0",
                "x": 5,
                "xref": "x",
                "y": 5,
                "yref": "y"
               },
               {
                "font": {
                 "color": "#000000"
                },
                "showarrow": false,
                "text": "0.02",
                "x": 6,
                "xref": "x",
                "y": 5,
                "yref": "y"
               },
               {
                "font": {
                 "color": "#000000"
                },
                "showarrow": false,
                "text": "0.18",
                "x": 7,
                "xref": "x",
                "y": 5,
                "yref": "y"
               },
               {
                "font": {
                 "color": "#000000"
                },
                "showarrow": false,
                "text": "0.06",
                "x": 8,
                "xref": "x",
                "y": 5,
                "yref": "y"
               },
               {
                "font": {
                 "color": "#000000"
                },
                "showarrow": false,
                "text": "0.15",
                "x": 0,
                "xref": "x",
                "y": 6,
                "yref": "y"
               },
               {
                "font": {
                 "color": "#000000"
                },
                "showarrow": false,
                "text": "0.05",
                "x": 1,
                "xref": "x",
                "y": 6,
                "yref": "y"
               },
               {
                "font": {
                 "color": "#000000"
                },
                "showarrow": false,
                "text": "0.12",
                "x": 2,
                "xref": "x",
                "y": 6,
                "yref": "y"
               },
               {
                "font": {
                 "color": "#000000"
                },
                "showarrow": false,
                "text": "0.02",
                "x": 3,
                "xref": "x",
                "y": 6,
                "yref": "y"
               },
               {
                "font": {
                 "color": "#000000"
                },
                "showarrow": false,
                "text": "0.21",
                "x": 4,
                "xref": "x",
                "y": 6,
                "yref": "y"
               },
               {
                "font": {
                 "color": "#000000"
                },
                "showarrow": false,
                "text": "0.02",
                "x": 5,
                "xref": "x",
                "y": 6,
                "yref": "y"
               },
               {
                "font": {
                 "color": "#FFFFFF"
                },
                "showarrow": false,
                "text": "1.0",
                "x": 6,
                "xref": "x",
                "y": 6,
                "yref": "y"
               },
               {
                "font": {
                 "color": "#FFFFFF"
                },
                "showarrow": false,
                "text": "0.51",
                "x": 7,
                "xref": "x",
                "y": 6,
                "yref": "y"
               },
               {
                "font": {
                 "color": "#000000"
                },
                "showarrow": false,
                "text": "0.21",
                "x": 8,
                "xref": "x",
                "y": 6,
                "yref": "y"
               },
               {
                "font": {
                 "color": "#000000"
                },
                "showarrow": false,
                "text": "0.11",
                "x": 0,
                "xref": "x",
                "y": 7,
                "yref": "y"
               },
               {
                "font": {
                 "color": "#000000"
                },
                "showarrow": false,
                "text": "0.07",
                "x": 1,
                "xref": "x",
                "y": 7,
                "yref": "y"
               },
               {
                "font": {
                 "color": "#000000"
                },
                "showarrow": false,
                "text": "0.11",
                "x": 2,
                "xref": "x",
                "y": 7,
                "yref": "y"
               },
               {
                "font": {
                 "color": "#000000"
                },
                "showarrow": false,
                "text": "0.06",
                "x": 3,
                "xref": "x",
                "y": 7,
                "yref": "y"
               },
               {
                "font": {
                 "color": "#FFFFFF"
                },
                "showarrow": false,
                "text": "0.5",
                "x": 4,
                "xref": "x",
                "y": 7,
                "yref": "y"
               },
               {
                "font": {
                 "color": "#000000"
                },
                "showarrow": false,
                "text": "0.18",
                "x": 5,
                "xref": "x",
                "y": 7,
                "yref": "y"
               },
               {
                "font": {
                 "color": "#FFFFFF"
                },
                "showarrow": false,
                "text": "0.51",
                "x": 6,
                "xref": "x",
                "y": 7,
                "yref": "y"
               },
               {
                "font": {
                 "color": "#FFFFFF"
                },
                "showarrow": false,
                "text": "1.0",
                "x": 7,
                "xref": "x",
                "y": 7,
                "yref": "y"
               },
               {
                "font": {
                 "color": "#000000"
                },
                "showarrow": false,
                "text": "0.21",
                "x": 8,
                "xref": "x",
                "y": 7,
                "yref": "y"
               },
               {
                "font": {
                 "color": "#000000"
                },
                "showarrow": false,
                "text": "0.06",
                "x": 0,
                "xref": "x",
                "y": 8,
                "yref": "y"
               },
               {
                "font": {
                 "color": "#000000"
                },
                "showarrow": false,
                "text": "0.03",
                "x": 1,
                "xref": "x",
                "y": 8,
                "yref": "y"
               },
               {
                "font": {
                 "color": "#000000"
                },
                "showarrow": false,
                "text": "0.04",
                "x": 2,
                "xref": "x",
                "y": 8,
                "yref": "y"
               },
               {
                "font": {
                 "color": "#000000"
                },
                "showarrow": false,
                "text": "0.04",
                "x": 3,
                "xref": "x",
                "y": 8,
                "yref": "y"
               },
               {
                "font": {
                 "color": "#000000"
                },
                "showarrow": false,
                "text": "0.14",
                "x": 4,
                "xref": "x",
                "y": 8,
                "yref": "y"
               },
               {
                "font": {
                 "color": "#000000"
                },
                "showarrow": false,
                "text": "0.06",
                "x": 5,
                "xref": "x",
                "y": 8,
                "yref": "y"
               },
               {
                "font": {
                 "color": "#000000"
                },
                "showarrow": false,
                "text": "0.21",
                "x": 6,
                "xref": "x",
                "y": 8,
                "yref": "y"
               },
               {
                "font": {
                 "color": "#000000"
                },
                "showarrow": false,
                "text": "0.21",
                "x": 7,
                "xref": "x",
                "y": 8,
                "yref": "y"
               },
               {
                "font": {
                 "color": "#FFFFFF"
                },
                "showarrow": false,
                "text": "1.0",
                "x": 8,
                "xref": "x",
                "y": 8,
                "yref": "y"
               }
              ],
              "updatemenus": [
               {
                "active": 0,
                "bgcolor": "rgba(255,255,255,1)",
                "buttons": [
                 {
                  "args": [
                   {
                    "annotations": [
                     {
                      "font": {
                       "color": "#FFFFFF"
                      },
                      "showarrow": false,
                      "text": "1.0",
                      "x": 0,
                      "xref": "x",
                      "y": 0,
                      "yref": "y"
                     },
                     {
                      "font": {
                       "color": "#000000"
                      },
                      "showarrow": false,
                      "text": "0.21",
                      "x": 1,
                      "xref": "x",
                      "y": 0,
                      "yref": "y"
                     },
                     {
                      "font": {
                       "color": "#000000"
                      },
                      "showarrow": false,
                      "text": "0.46",
                      "x": 2,
                      "xref": "x",
                      "y": 0,
                      "yref": "y"
                     },
                     {
                      "font": {
                       "color": "#000000"
                      },
                      "showarrow": false,
                      "text": "0.04",
                      "x": 3,
                      "xref": "x",
                      "y": 0,
                      "yref": "y"
                     },
                     {
                      "font": {
                       "color": "#000000"
                      },
                      "showarrow": false,
                      "text": "0.28",
                      "x": 4,
                      "xref": "x",
                      "y": 0,
                      "yref": "y"
                     },
                     {
                      "font": {
                       "color": "#000000"
                      },
                      "showarrow": false,
                      "text": "0.11",
                      "x": 5,
                      "xref": "x",
                      "y": 0,
                      "yref": "y"
                     },
                     {
                      "font": {
                       "color": "#000000"
                      },
                      "showarrow": false,
                      "text": "0.15",
                      "x": 6,
                      "xref": "x",
                      "y": 0,
                      "yref": "y"
                     },
                     {
                      "font": {
                       "color": "#000000"
                      },
                      "showarrow": false,
                      "text": "0.11",
                      "x": 7,
                      "xref": "x",
                      "y": 0,
                      "yref": "y"
                     },
                     {
                      "font": {
                       "color": "#000000"
                      },
                      "showarrow": false,
                      "text": "0.06",
                      "x": 8,
                      "xref": "x",
                      "y": 0,
                      "yref": "y"
                     },
                     {
                      "font": {
                       "color": "#000000"
                      },
                      "showarrow": false,
                      "text": "0.21",
                      "x": 0,
                      "xref": "x",
                      "y": 1,
                      "yref": "y"
                     },
                     {
                      "font": {
                       "color": "#FFFFFF"
                      },
                      "showarrow": false,
                      "text": "1.0",
                      "x": 1,
                      "xref": "x",
                      "y": 1,
                      "yref": "y"
                     },
                     {
                      "font": {
                       "color": "#000000"
                      },
                      "showarrow": false,
                      "text": "0.12",
                      "x": 2,
                      "xref": "x",
                      "y": 1,
                      "yref": "y"
                     },
                     {
                      "font": {
                       "color": "#000000"
                      },
                      "showarrow": false,
                      "text": "0.02",
                      "x": 3,
                      "xref": "x",
                      "y": 1,
                      "yref": "y"
                     },
                     {
                      "font": {
                       "color": "#000000"
                      },
                      "showarrow": false,
                      "text": "0.02",
                      "x": 4,
                      "xref": "x",
                      "y": 1,
                      "yref": "y"
                     },
                     {
                      "font": {
                       "color": "#000000"
                      },
                      "showarrow": false,
                      "text": "0.05",
                      "x": 5,
                      "xref": "x",
                      "y": 1,
                      "yref": "y"
                     },
                     {
                      "font": {
                       "color": "#000000"
                      },
                      "showarrow": false,
                      "text": "0.05",
                      "x": 6,
                      "xref": "x",
                      "y": 1,
                      "yref": "y"
                     },
                     {
                      "font": {
                       "color": "#000000"
                      },
                      "showarrow": false,
                      "text": "0.07",
                      "x": 7,
                      "xref": "x",
                      "y": 1,
                      "yref": "y"
                     },
                     {
                      "font": {
                       "color": "#000000"
                      },
                      "showarrow": false,
                      "text": "0.03",
                      "x": 8,
                      "xref": "x",
                      "y": 1,
                      "yref": "y"
                     },
                     {
                      "font": {
                       "color": "#000000"
                      },
                      "showarrow": false,
                      "text": "0.46",
                      "x": 0,
                      "xref": "x",
                      "y": 2,
                      "yref": "y"
                     },
                     {
                      "font": {
                       "color": "#000000"
                      },
                      "showarrow": false,
                      "text": "0.12",
                      "x": 1,
                      "xref": "x",
                      "y": 2,
                      "yref": "y"
                     },
                     {
                      "font": {
                       "color": "#FFFFFF"
                      },
                      "showarrow": false,
                      "text": "1.0",
                      "x": 2,
                      "xref": "x",
                      "y": 2,
                      "yref": "y"
                     },
                     {
                      "font": {
                       "color": "#000000"
                      },
                      "showarrow": false,
                      "text": "0.02",
                      "x": 3,
                      "xref": "x",
                      "y": 2,
                      "yref": "y"
                     },
                     {
                      "font": {
                       "color": "#000000"
                      },
                      "showarrow": false,
                      "text": "0.12",
                      "x": 4,
                      "xref": "x",
                      "y": 2,
                      "yref": "y"
                     },
                     {
                      "font": {
                       "color": "#000000"
                      },
                      "showarrow": false,
                      "text": "0.08",
                      "x": 5,
                      "xref": "x",
                      "y": 2,
                      "yref": "y"
                     },
                     {
                      "font": {
                       "color": "#000000"
                      },
                      "showarrow": false,
                      "text": "0.12",
                      "x": 6,
                      "xref": "x",
                      "y": 2,
                      "yref": "y"
                     },
                     {
                      "font": {
                       "color": "#000000"
                      },
                      "showarrow": false,
                      "text": "0.11",
                      "x": 7,
                      "xref": "x",
                      "y": 2,
                      "yref": "y"
                     },
                     {
                      "font": {
                       "color": "#000000"
                      },
                      "showarrow": false,
                      "text": "0.04",
                      "x": 8,
                      "xref": "x",
                      "y": 2,
                      "yref": "y"
                     },
                     {
                      "font": {
                       "color": "#000000"
                      },
                      "showarrow": false,
                      "text": "0.04",
                      "x": 0,
                      "xref": "x",
                      "y": 3,
                      "yref": "y"
                     },
                     {
                      "font": {
                       "color": "#000000"
                      },
                      "showarrow": false,
                      "text": "0.02",
                      "x": 1,
                      "xref": "x",
                      "y": 3,
                      "yref": "y"
                     },
                     {
                      "font": {
                       "color": "#000000"
                      },
                      "showarrow": false,
                      "text": "0.02",
                      "x": 2,
                      "xref": "x",
                      "y": 3,
                      "yref": "y"
                     },
                     {
                      "font": {
                       "color": "#FFFFFF"
                      },
                      "showarrow": false,
                      "text": "1.0",
                      "x": 3,
                      "xref": "x",
                      "y": 3,
                      "yref": "y"
                     },
                     {
                      "font": {
                       "color": "#000000"
                      },
                      "showarrow": false,
                      "text": "0.01",
                      "x": 4,
                      "xref": "x",
                      "y": 3,
                      "yref": "y"
                     },
                     {
                      "font": {
                       "color": "#000000"
                      },
                      "showarrow": false,
                      "text": "0.08",
                      "x": 5,
                      "xref": "x",
                      "y": 3,
                      "yref": "y"
                     },
                     {
                      "font": {
                       "color": "#000000"
                      },
                      "showarrow": false,
                      "text": "0.02",
                      "x": 6,
                      "xref": "x",
                      "y": 3,
                      "yref": "y"
                     },
                     {
                      "font": {
                       "color": "#000000"
                      },
                      "showarrow": false,
                      "text": "0.06",
                      "x": 7,
                      "xref": "x",
                      "y": 3,
                      "yref": "y"
                     },
                     {
                      "font": {
                       "color": "#000000"
                      },
                      "showarrow": false,
                      "text": "0.04",
                      "x": 8,
                      "xref": "x",
                      "y": 3,
                      "yref": "y"
                     },
                     {
                      "font": {
                       "color": "#000000"
                      },
                      "showarrow": false,
                      "text": "0.28",
                      "x": 0,
                      "xref": "x",
                      "y": 4,
                      "yref": "y"
                     },
                     {
                      "font": {
                       "color": "#000000"
                      },
                      "showarrow": false,
                      "text": "0.02",
                      "x": 1,
                      "xref": "x",
                      "y": 4,
                      "yref": "y"
                     },
                     {
                      "font": {
                       "color": "#000000"
                      },
                      "showarrow": false,
                      "text": "0.12",
                      "x": 2,
                      "xref": "x",
                      "y": 4,
                      "yref": "y"
                     },
                     {
                      "font": {
                       "color": "#000000"
                      },
                      "showarrow": false,
                      "text": "0.01",
                      "x": 3,
                      "xref": "x",
                      "y": 4,
                      "yref": "y"
                     },
                     {
                      "font": {
                       "color": "#FFFFFF"
                      },
                      "showarrow": false,
                      "text": "1.0",
                      "x": 4,
                      "xref": "x",
                      "y": 4,
                      "yref": "y"
                     },
                     {
                      "font": {
                       "color": "#000000"
                      },
                      "showarrow": false,
                      "text": "0.04",
                      "x": 5,
                      "xref": "x",
                      "y": 4,
                      "yref": "y"
                     },
                     {
                      "font": {
                       "color": "#000000"
                      },
                      "showarrow": false,
                      "text": "0.21",
                      "x": 6,
                      "xref": "x",
                      "y": 4,
                      "yref": "y"
                     },
                     {
                      "font": {
                       "color": "#FFFFFF"
                      },
                      "showarrow": false,
                      "text": "0.5",
                      "x": 7,
                      "xref": "x",
                      "y": 4,
                      "yref": "y"
                     },
                     {
                      "font": {
                       "color": "#000000"
                      },
                      "showarrow": false,
                      "text": "0.14",
                      "x": 8,
                      "xref": "x",
                      "y": 4,
                      "yref": "y"
                     },
                     {
                      "font": {
                       "color": "#000000"
                      },
                      "showarrow": false,
                      "text": "0.11",
                      "x": 0,
                      "xref": "x",
                      "y": 5,
                      "yref": "y"
                     },
                     {
                      "font": {
                       "color": "#000000"
                      },
                      "showarrow": false,
                      "text": "0.05",
                      "x": 1,
                      "xref": "x",
                      "y": 5,
                      "yref": "y"
                     },
                     {
                      "font": {
                       "color": "#000000"
                      },
                      "showarrow": false,
                      "text": "0.08",
                      "x": 2,
                      "xref": "x",
                      "y": 5,
                      "yref": "y"
                     },
                     {
                      "font": {
                       "color": "#000000"
                      },
                      "showarrow": false,
                      "text": "0.08",
                      "x": 3,
                      "xref": "x",
                      "y": 5,
                      "yref": "y"
                     },
                     {
                      "font": {
                       "color": "#000000"
                      },
                      "showarrow": false,
                      "text": "0.04",
                      "x": 4,
                      "xref": "x",
                      "y": 5,
                      "yref": "y"
                     },
                     {
                      "font": {
                       "color": "#FFFFFF"
                      },
                      "showarrow": false,
                      "text": "1.0",
                      "x": 5,
                      "xref": "x",
                      "y": 5,
                      "yref": "y"
                     },
                     {
                      "font": {
                       "color": "#000000"
                      },
                      "showarrow": false,
                      "text": "0.02",
                      "x": 6,
                      "xref": "x",
                      "y": 5,
                      "yref": "y"
                     },
                     {
                      "font": {
                       "color": "#000000"
                      },
                      "showarrow": false,
                      "text": "0.18",
                      "x": 7,
                      "xref": "x",
                      "y": 5,
                      "yref": "y"
                     },
                     {
                      "font": {
                       "color": "#000000"
                      },
                      "showarrow": false,
                      "text": "0.06",
                      "x": 8,
                      "xref": "x",
                      "y": 5,
                      "yref": "y"
                     },
                     {
                      "font": {
                       "color": "#000000"
                      },
                      "showarrow": false,
                      "text": "0.15",
                      "x": 0,
                      "xref": "x",
                      "y": 6,
                      "yref": "y"
                     },
                     {
                      "font": {
                       "color": "#000000"
                      },
                      "showarrow": false,
                      "text": "0.05",
                      "x": 1,
                      "xref": "x",
                      "y": 6,
                      "yref": "y"
                     },
                     {
                      "font": {
                       "color": "#000000"
                      },
                      "showarrow": false,
                      "text": "0.12",
                      "x": 2,
                      "xref": "x",
                      "y": 6,
                      "yref": "y"
                     },
                     {
                      "font": {
                       "color": "#000000"
                      },
                      "showarrow": false,
                      "text": "0.02",
                      "x": 3,
                      "xref": "x",
                      "y": 6,
                      "yref": "y"
                     },
                     {
                      "font": {
                       "color": "#000000"
                      },
                      "showarrow": false,
                      "text": "0.21",
                      "x": 4,
                      "xref": "x",
                      "y": 6,
                      "yref": "y"
                     },
                     {
                      "font": {
                       "color": "#000000"
                      },
                      "showarrow": false,
                      "text": "0.02",
                      "x": 5,
                      "xref": "x",
                      "y": 6,
                      "yref": "y"
                     },
                     {
                      "font": {
                       "color": "#FFFFFF"
                      },
                      "showarrow": false,
                      "text": "1.0",
                      "x": 6,
                      "xref": "x",
                      "y": 6,
                      "yref": "y"
                     },
                     {
                      "font": {
                       "color": "#FFFFFF"
                      },
                      "showarrow": false,
                      "text": "0.51",
                      "x": 7,
                      "xref": "x",
                      "y": 6,
                      "yref": "y"
                     },
                     {
                      "font": {
                       "color": "#000000"
                      },
                      "showarrow": false,
                      "text": "0.21",
                      "x": 8,
                      "xref": "x",
                      "y": 6,
                      "yref": "y"
                     },
                     {
                      "font": {
                       "color": "#000000"
                      },
                      "showarrow": false,
                      "text": "0.11",
                      "x": 0,
                      "xref": "x",
                      "y": 7,
                      "yref": "y"
                     },
                     {
                      "font": {
                       "color": "#000000"
                      },
                      "showarrow": false,
                      "text": "0.07",
                      "x": 1,
                      "xref": "x",
                      "y": 7,
                      "yref": "y"
                     },
                     {
                      "font": {
                       "color": "#000000"
                      },
                      "showarrow": false,
                      "text": "0.11",
                      "x": 2,
                      "xref": "x",
                      "y": 7,
                      "yref": "y"
                     },
                     {
                      "font": {
                       "color": "#000000"
                      },
                      "showarrow": false,
                      "text": "0.06",
                      "x": 3,
                      "xref": "x",
                      "y": 7,
                      "yref": "y"
                     },
                     {
                      "font": {
                       "color": "#FFFFFF"
                      },
                      "showarrow": false,
                      "text": "0.5",
                      "x": 4,
                      "xref": "x",
                      "y": 7,
                      "yref": "y"
                     },
                     {
                      "font": {
                       "color": "#000000"
                      },
                      "showarrow": false,
                      "text": "0.18",
                      "x": 5,
                      "xref": "x",
                      "y": 7,
                      "yref": "y"
                     },
                     {
                      "font": {
                       "color": "#FFFFFF"
                      },
                      "showarrow": false,
                      "text": "0.51",
                      "x": 6,
                      "xref": "x",
                      "y": 7,
                      "yref": "y"
                     },
                     {
                      "font": {
                       "color": "#FFFFFF"
                      },
                      "showarrow": false,
                      "text": "1.0",
                      "x": 7,
                      "xref": "x",
                      "y": 7,
                      "yref": "y"
                     },
                     {
                      "font": {
                       "color": "#000000"
                      },
                      "showarrow": false,
                      "text": "0.21",
                      "x": 8,
                      "xref": "x",
                      "y": 7,
                      "yref": "y"
                     },
                     {
                      "font": {
                       "color": "#000000"
                      },
                      "showarrow": false,
                      "text": "0.06",
                      "x": 0,
                      "xref": "x",
                      "y": 8,
                      "yref": "y"
                     },
                     {
                      "font": {
                       "color": "#000000"
                      },
                      "showarrow": false,
                      "text": "0.03",
                      "x": 1,
                      "xref": "x",
                      "y": 8,
                      "yref": "y"
                     },
                     {
                      "font": {
                       "color": "#000000"
                      },
                      "showarrow": false,
                      "text": "0.04",
                      "x": 2,
                      "xref": "x",
                      "y": 8,
                      "yref": "y"
                     },
                     {
                      "font": {
                       "color": "#000000"
                      },
                      "showarrow": false,
                      "text": "0.04",
                      "x": 3,
                      "xref": "x",
                      "y": 8,
                      "yref": "y"
                     },
                     {
                      "font": {
                       "color": "#000000"
                      },
                      "showarrow": false,
                      "text": "0.14",
                      "x": 4,
                      "xref": "x",
                      "y": 8,
                      "yref": "y"
                     },
                     {
                      "font": {
                       "color": "#000000"
                      },
                      "showarrow": false,
                      "text": "0.06",
                      "x": 5,
                      "xref": "x",
                      "y": 8,
                      "yref": "y"
                     },
                     {
                      "font": {
                       "color": "#000000"
                      },
                      "showarrow": false,
                      "text": "0.21",
                      "x": 6,
                      "xref": "x",
                      "y": 8,
                      "yref": "y"
                     },
                     {
                      "font": {
                       "color": "#000000"
                      },
                      "showarrow": false,
                      "text": "0.21",
                      "x": 7,
                      "xref": "x",
                      "y": 8,
                      "yref": "y"
                     },
                     {
                      "font": {
                       "color": "#FFFFFF"
                      },
                      "showarrow": false,
                      "text": "1.0",
                      "x": 8,
                      "xref": "x",
                      "y": 8,
                      "yref": "y"
                     }
                    ]
                   }
                  ],
                  "args2": [
                   {
                    "annotations": []
                   }
                  ],
                  "label": "Show value",
                  "method": "relayout"
                 }
                ],
                "direction": "right",
                "pad": {
                 "l": -387,
                 "r": 0,
                 "t": -250
                },
                "type": "buttons",
                "x": 0.1,
                "xanchor": "left",
                "y": 1,
                "yanchor": "top"
               }
              ],
              "xaxis": {
               "fixedrange": true,
               "ticktext": [
                "job",
                "marital",
                "education",
                "default",
                "housing",
                "loan",
                "contact",
                "month",
                "poutcome"
               ],
               "tickvals": [
                0,
                1,
                2,
                3,
                4,
                5,
                6,
                7,
                8
               ]
              },
              "yaxis": {
               "autorange": "reversed",
               "fixedrange": true,
               "ticktext": [
                "job",
                "marital",
                "education",
                "default",
                "housing",
                "loan",
                "contact",
                "month",
                "poutcome"
               ],
               "tickvals": [
                0,
                1,
                2,
                3,
                4,
                5,
                6,
                7,
                8
               ]
              }
             }
            ],
            "label": "Categorical-Categorical",
            "method": "update"
           },
           {
            "args": [
             {
              "x": [
               [
                0,
                1,
                2,
                3,
                4,
                5,
                6
               ]
              ],
              "y": [
               [
                0,
                1,
                2,
                3,
                4,
                5,
                6,
                7,
                8
               ]
              ],
              "z": [
               [
                [
                 0.5011291136256929,
                 0.1017757821030214,
                 0.0476110096878106,
                 0.0407742948641717,
                 0.0550356298570614,
                 0.0586047768614424,
                 0.0429428509737354
                ],
                [
                 0.4334313328817917,
                 0.0281721114432671,
                 0.0077227221767962,
                 0.0231100128650697,
                 0.0314199241726727,
                 0.0295056891413736,
                 0.0170202464794228
                ],
                [
                 0.215201208925847,
                 0.0876566600280385,
                 0.0259649069328426,
                 0.0038058592063737,
                 0.020951672922716,
                 0.0240856785781985,
                 0.0262139868086665
                ],
                [
                 0.0178793036087058,
                 0.066745057113631,
                 0.0094238990984915,
                 0.0100214613460636,
                 0.0168215314222849,
                 0.0299793611027598,
                 0.0183294048165689
                ],
                [
                 0.1855130815371743,
                 0.0687683156896658,
                 0.0279816493222859,
                 0.005075449414075,
                 0.0235987068497175,
                 0.1241784001201226,
                 0.0370761497033099
                ],
                [
                 0.0156552726566358,
                 0.0843502457312265,
                 0.01137015761615,
                 0.0124119718236037,
                 0.0099798458977573,
                 0.0227536387182437,
                 0.0110434882512817
                ],
                [
                 0.1705550091417664,
                 0.0493169409519651,
                 0.0386666923936747,
                 0.0296772734110411,
                 0.0556919140474517,
                 0.2483838104264416,
                 0.1541814772491456
                ],
                [
                 0.1602179147820747,
                 0.1558414443790849,
                 0.45164801400351,
                 0.0678939077521507,
                 0.231631512863582,
                 0.2856304436358165,
                 0.1753450395009097
                ],
                [
                 0.0418052846926059,
                 0.0395185384675558,
                 0.086581183091839,
                 0.045409395257748,
                 0.112404509259099,
                 0.8789620178091383,
                 0.5392781616189852
                ]
               ]
              ]
             },
             {
              "annotations": [
               {
                "font": {
                 "color": "#FFFFFF"
                },
                "showarrow": false,
                "text": "0.5",
                "x": 0,
                "xref": "x",
                "y": 0,
                "yref": "y"
               },
               {
                "font": {
                 "color": "#000000"
                },
                "showarrow": false,
                "text": "0.1",
                "x": 1,
                "xref": "x",
                "y": 0,
                "yref": "y"
               },
               {
                "font": {
                 "color": "#000000"
                },
                "showarrow": false,
                "text": "0.05",
                "x": 2,
                "xref": "x",
                "y": 0,
                "yref": "y"
               },
               {
                "font": {
                 "color": "#000000"
                },
                "showarrow": false,
                "text": "0.04",
                "x": 3,
                "xref": "x",
                "y": 0,
                "yref": "y"
               },
               {
                "font": {
                 "color": "#000000"
                },
                "showarrow": false,
                "text": "0.06",
                "x": 4,
                "xref": "x",
                "y": 0,
                "yref": "y"
               },
               {
                "font": {
                 "color": "#000000"
                },
                "showarrow": false,
                "text": "0.06",
                "x": 5,
                "xref": "x",
                "y": 0,
                "yref": "y"
               },
               {
                "font": {
                 "color": "#000000"
                },
                "showarrow": false,
                "text": "0.04",
                "x": 6,
                "xref": "x",
                "y": 0,
                "yref": "y"
               },
               {
                "font": {
                 "color": "#000000"
                },
                "showarrow": false,
                "text": "0.43",
                "x": 0,
                "xref": "x",
                "y": 1,
                "yref": "y"
               },
               {
                "font": {
                 "color": "#000000"
                },
                "showarrow": false,
                "text": "0.03",
                "x": 1,
                "xref": "x",
                "y": 1,
                "yref": "y"
               },
               {
                "font": {
                 "color": "#000000"
                },
                "showarrow": false,
                "text": "0.01",
                "x": 2,
                "xref": "x",
                "y": 1,
                "yref": "y"
               },
               {
                "font": {
                 "color": "#000000"
                },
                "showarrow": false,
                "text": "0.02",
                "x": 3,
                "xref": "x",
                "y": 1,
                "yref": "y"
               },
               {
                "font": {
                 "color": "#000000"
                },
                "showarrow": false,
                "text": "0.03",
                "x": 4,
                "xref": "x",
                "y": 1,
                "yref": "y"
               },
               {
                "font": {
                 "color": "#000000"
                },
                "showarrow": false,
                "text": "0.03",
                "x": 5,
                "xref": "x",
                "y": 1,
                "yref": "y"
               },
               {
                "font": {
                 "color": "#000000"
                },
                "showarrow": false,
                "text": "0.02",
                "x": 6,
                "xref": "x",
                "y": 1,
                "yref": "y"
               },
               {
                "font": {
                 "color": "#000000"
                },
                "showarrow": false,
                "text": "0.22",
                "x": 0,
                "xref": "x",
                "y": 2,
                "yref": "y"
               },
               {
                "font": {
                 "color": "#000000"
                },
                "showarrow": false,
                "text": "0.09",
                "x": 1,
                "xref": "x",
                "y": 2,
                "yref": "y"
               },
               {
                "font": {
                 "color": "#000000"
                },
                "showarrow": false,
                "text": "0.03",
                "x": 2,
                "xref": "x",
                "y": 2,
                "yref": "y"
               },
               {
                "font": {
                 "color": "#000000"
                },
                "showarrow": false,
                "text": "0.0",
                "x": 3,
                "xref": "x",
                "y": 2,
                "yref": "y"
               },
               {
                "font": {
                 "color": "#000000"
                },
                "showarrow": false,
                "text": "0.02",
                "x": 4,
                "xref": "x",
                "y": 2,
                "yref": "y"
               },
               {
                "font": {
                 "color": "#000000"
                },
                "showarrow": false,
                "text": "0.02",
                "x": 5,
                "xref": "x",
                "y": 2,
                "yref": "y"
               },
               {
                "font": {
                 "color": "#000000"
                },
                "showarrow": false,
                "text": "0.03",
                "x": 6,
                "xref": "x",
                "y": 2,
                "yref": "y"
               },
               {
                "font": {
                 "color": "#000000"
                },
                "showarrow": false,
                "text": "0.02",
                "x": 0,
                "xref": "x",
                "y": 3,
                "yref": "y"
               },
               {
                "font": {
                 "color": "#000000"
                },
                "showarrow": false,
                "text": "0.07",
                "x": 1,
                "xref": "x",
                "y": 3,
                "yref": "y"
               },
               {
                "font": {
                 "color": "#000000"
                },
                "showarrow": false,
                "text": "0.01",
                "x": 2,
                "xref": "x",
                "y": 3,
                "yref": "y"
               },
               {
                "font": {
                 "color": "#000000"
                },
                "showarrow": false,
                "text": "0.01",
                "x": 3,
                "xref": "x",
                "y": 3,
                "yref": "y"
               },
               {
                "font": {
                 "color": "#000000"
                },
                "showarrow": false,
                "text": "0.02",
                "x": 4,
                "xref": "x",
                "y": 3,
                "yref": "y"
               },
               {
                "font": {
                 "color": "#000000"
                },
                "showarrow": false,
                "text": "0.03",
                "x": 5,
                "xref": "x",
                "y": 3,
                "yref": "y"
               },
               {
                "font": {
                 "color": "#000000"
                },
                "showarrow": false,
                "text": "0.02",
                "x": 6,
                "xref": "x",
                "y": 3,
                "yref": "y"
               },
               {
                "font": {
                 "color": "#000000"
                },
                "showarrow": false,
                "text": "0.19",
                "x": 0,
                "xref": "x",
                "y": 4,
                "yref": "y"
               },
               {
                "font": {
                 "color": "#000000"
                },
                "showarrow": false,
                "text": "0.07",
                "x": 1,
                "xref": "x",
                "y": 4,
                "yref": "y"
               },
               {
                "font": {
                 "color": "#000000"
                },
                "showarrow": false,
                "text": "0.03",
                "x": 2,
                "xref": "x",
                "y": 4,
                "yref": "y"
               },
               {
                "font": {
                 "color": "#000000"
                },
                "showarrow": false,
                "text": "0.01",
                "x": 3,
                "xref": "x",
                "y": 4,
                "yref": "y"
               },
               {
                "font": {
                 "color": "#000000"
                },
                "showarrow": false,
                "text": "0.02",
                "x": 4,
                "xref": "x",
                "y": 4,
                "yref": "y"
               },
               {
                "font": {
                 "color": "#000000"
                },
                "showarrow": false,
                "text": "0.12",
                "x": 5,
                "xref": "x",
                "y": 4,
                "yref": "y"
               },
               {
                "font": {
                 "color": "#000000"
                },
                "showarrow": false,
                "text": "0.04",
                "x": 6,
                "xref": "x",
                "y": 4,
                "yref": "y"
               },
               {
                "font": {
                 "color": "#000000"
                },
                "showarrow": false,
                "text": "0.02",
                "x": 0,
                "xref": "x",
                "y": 5,
                "yref": "y"
               },
               {
                "font": {
                 "color": "#000000"
                },
                "showarrow": false,
                "text": "0.08",
                "x": 1,
                "xref": "x",
                "y": 5,
                "yref": "y"
               },
               {
                "font": {
                 "color": "#000000"
                },
                "showarrow": false,
                "text": "0.01",
                "x": 2,
                "xref": "x",
                "y": 5,
                "yref": "y"
               },
               {
                "font": {
                 "color": "#000000"
                },
                "showarrow": false,
                "text": "0.01",
                "x": 3,
                "xref": "x",
                "y": 5,
                "yref": "y"
               },
               {
                "font": {
                 "color": "#000000"
                },
                "showarrow": false,
                "text": "0.01",
                "x": 4,
                "xref": "x",
                "y": 5,
                "yref": "y"
               },
               {
                "font": {
                 "color": "#000000"
                },
                "showarrow": false,
                "text": "0.02",
                "x": 5,
                "xref": "x",
                "y": 5,
                "yref": "y"
               },
               {
                "font": {
                 "color": "#000000"
                },
                "showarrow": false,
                "text": "0.01",
                "x": 6,
                "xref": "x",
                "y": 5,
                "yref": "y"
               },
               {
                "font": {
                 "color": "#000000"
                },
                "showarrow": false,
                "text": "0.17",
                "x": 0,
                "xref": "x",
                "y": 6,
                "yref": "y"
               },
               {
                "font": {
                 "color": "#000000"
                },
                "showarrow": false,
                "text": "0.05",
                "x": 1,
                "xref": "x",
                "y": 6,
                "yref": "y"
               },
               {
                "font": {
                 "color": "#000000"
                },
                "showarrow": false,
                "text": "0.04",
                "x": 2,
                "xref": "x",
                "y": 6,
                "yref": "y"
               },
               {
                "font": {
                 "color": "#000000"
                },
                "showarrow": false,
                "text": "0.03",
                "x": 3,
                "xref": "x",
                "y": 6,
                "yref": "y"
               },
               {
                "font": {
                 "color": "#000000"
                },
                "showarrow": false,
                "text": "0.06",
                "x": 4,
                "xref": "x",
                "y": 6,
                "yref": "y"
               },
               {
                "font": {
                 "color": "#000000"
                },
                "showarrow": false,
                "text": "0.25",
                "x": 5,
                "xref": "x",
                "y": 6,
                "yref": "y"
               },
               {
                "font": {
                 "color": "#000000"
                },
                "showarrow": false,
                "text": "0.15",
                "x": 6,
                "xref": "x",
                "y": 6,
                "yref": "y"
               },
               {
                "font": {
                 "color": "#000000"
                },
                "showarrow": false,
                "text": "0.16",
                "x": 0,
                "xref": "x",
                "y": 7,
                "yref": "y"
               },
               {
                "font": {
                 "color": "#000000"
                },
                "showarrow": false,
                "text": "0.16",
                "x": 1,
                "xref": "x",
                "y": 7,
                "yref": "y"
               },
               {
                "font": {
                 "color": "#000000"
                },
                "showarrow": false,
                "text": "0.45",
                "x": 2,
                "xref": "x",
                "y": 7,
                "yref": "y"
               },
               {
                "font": {
                 "color": "#000000"
                },
                "showarrow": false,
                "text": "0.07",
                "x": 3,
                "xref": "x",
                "y": 7,
                "yref": "y"
               },
               {
                "font": {
                 "color": "#000000"
                },
                "showarrow": false,
                "text": "0.23",
                "x": 4,
                "xref": "x",
                "y": 7,
                "yref": "y"
               },
               {
                "font": {
                 "color": "#000000"
                },
                "showarrow": false,
                "text": "0.29",
                "x": 5,
                "xref": "x",
                "y": 7,
                "yref": "y"
               },
               {
                "font": {
                 "color": "#000000"
                },
                "showarrow": false,
                "text": "0.18",
                "x": 6,
                "xref": "x",
                "y": 7,
                "yref": "y"
               },
               {
                "font": {
                 "color": "#000000"
                },
                "showarrow": false,
                "text": "0.04",
                "x": 0,
                "xref": "x",
                "y": 8,
                "yref": "y"
               },
               {
                "font": {
                 "color": "#000000"
                },
                "showarrow": false,
                "text": "0.04",
                "x": 1,
                "xref": "x",
                "y": 8,
                "yref": "y"
               },
               {
                "font": {
                 "color": "#000000"
                },
                "showarrow": false,
                "text": "0.09",
                "x": 2,
                "xref": "x",
                "y": 8,
                "yref": "y"
               },
               {
                "font": {
                 "color": "#000000"
                },
                "showarrow": false,
                "text": "0.05",
                "x": 3,
                "xref": "x",
                "y": 8,
                "yref": "y"
               },
               {
                "font": {
                 "color": "#000000"
                },
                "showarrow": false,
                "text": "0.11",
                "x": 4,
                "xref": "x",
                "y": 8,
                "yref": "y"
               },
               {
                "font": {
                 "color": "#FFFFFF"
                },
                "showarrow": false,
                "text": "0.88",
                "x": 5,
                "xref": "x",
                "y": 8,
                "yref": "y"
               },
               {
                "font": {
                 "color": "#FFFFFF"
                },
                "showarrow": false,
                "text": "0.54",
                "x": 6,
                "xref": "x",
                "y": 8,
                "yref": "y"
               }
              ],
              "updatemenus": [
               {
                "active": 0,
                "bgcolor": "rgba(255,255,255,1)",
                "buttons": [
                 {
                  "args": [
                   {
                    "annotations": [
                     {
                      "font": {
                       "color": "#FFFFFF"
                      },
                      "showarrow": false,
                      "text": "0.5",
                      "x": 0,
                      "xref": "x",
                      "y": 0,
                      "yref": "y"
                     },
                     {
                      "font": {
                       "color": "#000000"
                      },
                      "showarrow": false,
                      "text": "0.1",
                      "x": 1,
                      "xref": "x",
                      "y": 0,
                      "yref": "y"
                     },
                     {
                      "font": {
                       "color": "#000000"
                      },
                      "showarrow": false,
                      "text": "0.05",
                      "x": 2,
                      "xref": "x",
                      "y": 0,
                      "yref": "y"
                     },
                     {
                      "font": {
                       "color": "#000000"
                      },
                      "showarrow": false,
                      "text": "0.04",
                      "x": 3,
                      "xref": "x",
                      "y": 0,
                      "yref": "y"
                     },
                     {
                      "font": {
                       "color": "#000000"
                      },
                      "showarrow": false,
                      "text": "0.06",
                      "x": 4,
                      "xref": "x",
                      "y": 0,
                      "yref": "y"
                     },
                     {
                      "font": {
                       "color": "#000000"
                      },
                      "showarrow": false,
                      "text": "0.06",
                      "x": 5,
                      "xref": "x",
                      "y": 0,
                      "yref": "y"
                     },
                     {
                      "font": {
                       "color": "#000000"
                      },
                      "showarrow": false,
                      "text": "0.04",
                      "x": 6,
                      "xref": "x",
                      "y": 0,
                      "yref": "y"
                     },
                     {
                      "font": {
                       "color": "#000000"
                      },
                      "showarrow": false,
                      "text": "0.43",
                      "x": 0,
                      "xref": "x",
                      "y": 1,
                      "yref": "y"
                     },
                     {
                      "font": {
                       "color": "#000000"
                      },
                      "showarrow": false,
                      "text": "0.03",
                      "x": 1,
                      "xref": "x",
                      "y": 1,
                      "yref": "y"
                     },
                     {
                      "font": {
                       "color": "#000000"
                      },
                      "showarrow": false,
                      "text": "0.01",
                      "x": 2,
                      "xref": "x",
                      "y": 1,
                      "yref": "y"
                     },
                     {
                      "font": {
                       "color": "#000000"
                      },
                      "showarrow": false,
                      "text": "0.02",
                      "x": 3,
                      "xref": "x",
                      "y": 1,
                      "yref": "y"
                     },
                     {
                      "font": {
                       "color": "#000000"
                      },
                      "showarrow": false,
                      "text": "0.03",
                      "x": 4,
                      "xref": "x",
                      "y": 1,
                      "yref": "y"
                     },
                     {
                      "font": {
                       "color": "#000000"
                      },
                      "showarrow": false,
                      "text": "0.03",
                      "x": 5,
                      "xref": "x",
                      "y": 1,
                      "yref": "y"
                     },
                     {
                      "font": {
                       "color": "#000000"
                      },
                      "showarrow": false,
                      "text": "0.02",
                      "x": 6,
                      "xref": "x",
                      "y": 1,
                      "yref": "y"
                     },
                     {
                      "font": {
                       "color": "#000000"
                      },
                      "showarrow": false,
                      "text": "0.22",
                      "x": 0,
                      "xref": "x",
                      "y": 2,
                      "yref": "y"
                     },
                     {
                      "font": {
                       "color": "#000000"
                      },
                      "showarrow": false,
                      "text": "0.09",
                      "x": 1,
                      "xref": "x",
                      "y": 2,
                      "yref": "y"
                     },
                     {
                      "font": {
                       "color": "#000000"
                      },
                      "showarrow": false,
                      "text": "0.03",
                      "x": 2,
                      "xref": "x",
                      "y": 2,
                      "yref": "y"
                     },
                     {
                      "font": {
                       "color": "#000000"
                      },
                      "showarrow": false,
                      "text": "0.0",
                      "x": 3,
                      "xref": "x",
                      "y": 2,
                      "yref": "y"
                     },
                     {
                      "font": {
                       "color": "#000000"
                      },
                      "showarrow": false,
                      "text": "0.02",
                      "x": 4,
                      "xref": "x",
                      "y": 2,
                      "yref": "y"
                     },
                     {
                      "font": {
                       "color": "#000000"
                      },
                      "showarrow": false,
                      "text": "0.02",
                      "x": 5,
                      "xref": "x",
                      "y": 2,
                      "yref": "y"
                     },
                     {
                      "font": {
                       "color": "#000000"
                      },
                      "showarrow": false,
                      "text": "0.03",
                      "x": 6,
                      "xref": "x",
                      "y": 2,
                      "yref": "y"
                     },
                     {
                      "font": {
                       "color": "#000000"
                      },
                      "showarrow": false,
                      "text": "0.02",
                      "x": 0,
                      "xref": "x",
                      "y": 3,
                      "yref": "y"
                     },
                     {
                      "font": {
                       "color": "#000000"
                      },
                      "showarrow": false,
                      "text": "0.07",
                      "x": 1,
                      "xref": "x",
                      "y": 3,
                      "yref": "y"
                     },
                     {
                      "font": {
                       "color": "#000000"
                      },
                      "showarrow": false,
                      "text": "0.01",
                      "x": 2,
                      "xref": "x",
                      "y": 3,
                      "yref": "y"
                     },
                     {
                      "font": {
                       "color": "#000000"
                      },
                      "showarrow": false,
                      "text": "0.01",
                      "x": 3,
                      "xref": "x",
                      "y": 3,
                      "yref": "y"
                     },
                     {
                      "font": {
                       "color": "#000000"
                      },
                      "showarrow": false,
                      "text": "0.02",
                      "x": 4,
                      "xref": "x",
                      "y": 3,
                      "yref": "y"
                     },
                     {
                      "font": {
                       "color": "#000000"
                      },
                      "showarrow": false,
                      "text": "0.03",
                      "x": 5,
                      "xref": "x",
                      "y": 3,
                      "yref": "y"
                     },
                     {
                      "font": {
                       "color": "#000000"
                      },
                      "showarrow": false,
                      "text": "0.02",
                      "x": 6,
                      "xref": "x",
                      "y": 3,
                      "yref": "y"
                     },
                     {
                      "font": {
                       "color": "#000000"
                      },
                      "showarrow": false,
                      "text": "0.19",
                      "x": 0,
                      "xref": "x",
                      "y": 4,
                      "yref": "y"
                     },
                     {
                      "font": {
                       "color": "#000000"
                      },
                      "showarrow": false,
                      "text": "0.07",
                      "x": 1,
                      "xref": "x",
                      "y": 4,
                      "yref": "y"
                     },
                     {
                      "font": {
                       "color": "#000000"
                      },
                      "showarrow": false,
                      "text": "0.03",
                      "x": 2,
                      "xref": "x",
                      "y": 4,
                      "yref": "y"
                     },
                     {
                      "font": {
                       "color": "#000000"
                      },
                      "showarrow": false,
                      "text": "0.01",
                      "x": 3,
                      "xref": "x",
                      "y": 4,
                      "yref": "y"
                     },
                     {
                      "font": {
                       "color": "#000000"
                      },
                      "showarrow": false,
                      "text": "0.02",
                      "x": 4,
                      "xref": "x",
                      "y": 4,
                      "yref": "y"
                     },
                     {
                      "font": {
                       "color": "#000000"
                      },
                      "showarrow": false,
                      "text": "0.12",
                      "x": 5,
                      "xref": "x",
                      "y": 4,
                      "yref": "y"
                     },
                     {
                      "font": {
                       "color": "#000000"
                      },
                      "showarrow": false,
                      "text": "0.04",
                      "x": 6,
                      "xref": "x",
                      "y": 4,
                      "yref": "y"
                     },
                     {
                      "font": {
                       "color": "#000000"
                      },
                      "showarrow": false,
                      "text": "0.02",
                      "x": 0,
                      "xref": "x",
                      "y": 5,
                      "yref": "y"
                     },
                     {
                      "font": {
                       "color": "#000000"
                      },
                      "showarrow": false,
                      "text": "0.08",
                      "x": 1,
                      "xref": "x",
                      "y": 5,
                      "yref": "y"
                     },
                     {
                      "font": {
                       "color": "#000000"
                      },
                      "showarrow": false,
                      "text": "0.01",
                      "x": 2,
                      "xref": "x",
                      "y": 5,
                      "yref": "y"
                     },
                     {
                      "font": {
                       "color": "#000000"
                      },
                      "showarrow": false,
                      "text": "0.01",
                      "x": 3,
                      "xref": "x",
                      "y": 5,
                      "yref": "y"
                     },
                     {
                      "font": {
                       "color": "#000000"
                      },
                      "showarrow": false,
                      "text": "0.01",
                      "x": 4,
                      "xref": "x",
                      "y": 5,
                      "yref": "y"
                     },
                     {
                      "font": {
                       "color": "#000000"
                      },
                      "showarrow": false,
                      "text": "0.02",
                      "x": 5,
                      "xref": "x",
                      "y": 5,
                      "yref": "y"
                     },
                     {
                      "font": {
                       "color": "#000000"
                      },
                      "showarrow": false,
                      "text": "0.01",
                      "x": 6,
                      "xref": "x",
                      "y": 5,
                      "yref": "y"
                     },
                     {
                      "font": {
                       "color": "#000000"
                      },
                      "showarrow": false,
                      "text": "0.17",
                      "x": 0,
                      "xref": "x",
                      "y": 6,
                      "yref": "y"
                     },
                     {
                      "font": {
                       "color": "#000000"
                      },
                      "showarrow": false,
                      "text": "0.05",
                      "x": 1,
                      "xref": "x",
                      "y": 6,
                      "yref": "y"
                     },
                     {
                      "font": {
                       "color": "#000000"
                      },
                      "showarrow": false,
                      "text": "0.04",
                      "x": 2,
                      "xref": "x",
                      "y": 6,
                      "yref": "y"
                     },
                     {
                      "font": {
                       "color": "#000000"
                      },
                      "showarrow": false,
                      "text": "0.03",
                      "x": 3,
                      "xref": "x",
                      "y": 6,
                      "yref": "y"
                     },
                     {
                      "font": {
                       "color": "#000000"
                      },
                      "showarrow": false,
                      "text": "0.06",
                      "x": 4,
                      "xref": "x",
                      "y": 6,
                      "yref": "y"
                     },
                     {
                      "font": {
                       "color": "#000000"
                      },
                      "showarrow": false,
                      "text": "0.25",
                      "x": 5,
                      "xref": "x",
                      "y": 6,
                      "yref": "y"
                     },
                     {
                      "font": {
                       "color": "#000000"
                      },
                      "showarrow": false,
                      "text": "0.15",
                      "x": 6,
                      "xref": "x",
                      "y": 6,
                      "yref": "y"
                     },
                     {
                      "font": {
                       "color": "#000000"
                      },
                      "showarrow": false,
                      "text": "0.16",
                      "x": 0,
                      "xref": "x",
                      "y": 7,
                      "yref": "y"
                     },
                     {
                      "font": {
                       "color": "#000000"
                      },
                      "showarrow": false,
                      "text": "0.16",
                      "x": 1,
                      "xref": "x",
                      "y": 7,
                      "yref": "y"
                     },
                     {
                      "font": {
                       "color": "#000000"
                      },
                      "showarrow": false,
                      "text": "0.45",
                      "x": 2,
                      "xref": "x",
                      "y": 7,
                      "yref": "y"
                     },
                     {
                      "font": {
                       "color": "#000000"
                      },
                      "showarrow": false,
                      "text": "0.07",
                      "x": 3,
                      "xref": "x",
                      "y": 7,
                      "yref": "y"
                     },
                     {
                      "font": {
                       "color": "#000000"
                      },
                      "showarrow": false,
                      "text": "0.23",
                      "x": 4,
                      "xref": "x",
                      "y": 7,
                      "yref": "y"
                     },
                     {
                      "font": {
                       "color": "#000000"
                      },
                      "showarrow": false,
                      "text": "0.29",
                      "x": 5,
                      "xref": "x",
                      "y": 7,
                      "yref": "y"
                     },
                     {
                      "font": {
                       "color": "#000000"
                      },
                      "showarrow": false,
                      "text": "0.18",
                      "x": 6,
                      "xref": "x",
                      "y": 7,
                      "yref": "y"
                     },
                     {
                      "font": {
                       "color": "#000000"
                      },
                      "showarrow": false,
                      "text": "0.04",
                      "x": 0,
                      "xref": "x",
                      "y": 8,
                      "yref": "y"
                     },
                     {
                      "font": {
                       "color": "#000000"
                      },
                      "showarrow": false,
                      "text": "0.04",
                      "x": 1,
                      "xref": "x",
                      "y": 8,
                      "yref": "y"
                     },
                     {
                      "font": {
                       "color": "#000000"
                      },
                      "showarrow": false,
                      "text": "0.09",
                      "x": 2,
                      "xref": "x",
                      "y": 8,
                      "yref": "y"
                     },
                     {
                      "font": {
                       "color": "#000000"
                      },
                      "showarrow": false,
                      "text": "0.05",
                      "x": 3,
                      "xref": "x",
                      "y": 8,
                      "yref": "y"
                     },
                     {
                      "font": {
                       "color": "#000000"
                      },
                      "showarrow": false,
                      "text": "0.11",
                      "x": 4,
                      "xref": "x",
                      "y": 8,
                      "yref": "y"
                     },
                     {
                      "font": {
                       "color": "#FFFFFF"
                      },
                      "showarrow": false,
                      "text": "0.88",
                      "x": 5,
                      "xref": "x",
                      "y": 8,
                      "yref": "y"
                     },
                     {
                      "font": {
                       "color": "#FFFFFF"
                      },
                      "showarrow": false,
                      "text": "0.54",
                      "x": 6,
                      "xref": "x",
                      "y": 8,
                      "yref": "y"
                     }
                    ]
                   }
                  ],
                  "args2": [
                   {
                    "annotations": []
                   }
                  ],
                  "label": "Show value",
                  "method": "relayout"
                 }
                ],
                "direction": "right",
                "pad": {
                 "l": -387,
                 "r": 0,
                 "t": -250
                },
                "type": "buttons",
                "x": 0.1,
                "xanchor": "left",
                "y": 1,
                "yanchor": "top"
               }
              ],
              "xaxis": {
               "fixedrange": true,
               "ticktext": [
                "age",
                "balance",
                "day",
                "duration",
                "campaign",
                "pdays",
                "previous"
               ],
               "tickvals": [
                0,
                1,
                2,
                3,
                4,
                5,
                6
               ]
              },
              "yaxis": {
               "autorange": "reversed",
               "fixedrange": true,
               "ticktext": [
                "job",
                "marital",
                "education",
                "default",
                "housing",
                "loan",
                "contact",
                "month",
                "poutcome"
               ],
               "tickvals": [
                0,
                1,
                2,
                3,
                4,
                5,
                6,
                7,
                8
               ]
              }
             }
            ],
            "label": "Categorical-Numeric",
            "method": "update"
           },
           {
            "args": [
             {
              "x": [
               [
                0,
                1,
                2,
                3,
                4,
                5,
                6,
                7,
                8
               ]
              ],
              "y": [
               [
                0,
                1,
                2,
                3,
                4,
                5,
                6
               ]
              ],
              "z": [
               [
                [
                 0.5011291136256929,
                 0.4334313328817917,
                 0.215201208925847,
                 0.0178793036087058,
                 0.1855130815371743,
                 0.0156552726566358,
                 0.1705550091417664,
                 0.1602179147820747,
                 0.0418052846926059
                ],
                [
                 0.1017757821030214,
                 0.0281721114432671,
                 0.0876566600280385,
                 0.066745057113631,
                 0.0687683156896658,
                 0.0843502457312265,
                 0.0493169409519651,
                 0.1558414443790849,
                 0.0395185384675558
                ],
                [
                 0.0476110096878106,
                 0.0077227221767962,
                 0.0259649069328426,
                 0.0094238990984915,
                 0.0279816493222859,
                 0.01137015761615,
                 0.0386666923936747,
                 0.45164801400351,
                 0.086581183091839
                ],
                [
                 0.0407742948641717,
                 0.0231100128650697,
                 0.0038058592063737,
                 0.0100214613460636,
                 0.005075449414075,
                 0.0124119718236037,
                 0.0296772734110411,
                 0.0678939077521507,
                 0.045409395257748
                ],
                [
                 0.0550356298570614,
                 0.0314199241726727,
                 0.020951672922716,
                 0.0168215314222849,
                 0.0235987068497175,
                 0.0099798458977573,
                 0.0556919140474517,
                 0.231631512863582,
                 0.112404509259099
                ],
                [
                 0.0586047768614424,
                 0.0295056891413736,
                 0.0240856785781985,
                 0.0299793611027598,
                 0.1241784001201226,
                 0.0227536387182437,
                 0.2483838104264416,
                 0.2856304436358165,
                 0.8789620178091383
                ],
                [
                 0.0429428509737354,
                 0.0170202464794228,
                 0.0262139868086665,
                 0.0183294048165689,
                 0.0370761497033099,
                 0.0110434882512817,
                 0.1541814772491456,
                 0.1753450395009097,
                 0.5392781616189852
                ]
               ]
              ]
             },
             {
              "annotations": [
               {
                "font": {
                 "color": "#FFFFFF"
                },
                "showarrow": false,
                "text": "0.5",
                "x": 0,
                "xref": "x",
                "y": 0,
                "yref": "y"
               },
               {
                "font": {
                 "color": "#000000"
                },
                "showarrow": false,
                "text": "0.43",
                "x": 1,
                "xref": "x",
                "y": 0,
                "yref": "y"
               },
               {
                "font": {
                 "color": "#000000"
                },
                "showarrow": false,
                "text": "0.22",
                "x": 2,
                "xref": "x",
                "y": 0,
                "yref": "y"
               },
               {
                "font": {
                 "color": "#000000"
                },
                "showarrow": false,
                "text": "0.02",
                "x": 3,
                "xref": "x",
                "y": 0,
                "yref": "y"
               },
               {
                "font": {
                 "color": "#000000"
                },
                "showarrow": false,
                "text": "0.19",
                "x": 4,
                "xref": "x",
                "y": 0,
                "yref": "y"
               },
               {
                "font": {
                 "color": "#000000"
                },
                "showarrow": false,
                "text": "0.02",
                "x": 5,
                "xref": "x",
                "y": 0,
                "yref": "y"
               },
               {
                "font": {
                 "color": "#000000"
                },
                "showarrow": false,
                "text": "0.17",
                "x": 6,
                "xref": "x",
                "y": 0,
                "yref": "y"
               },
               {
                "font": {
                 "color": "#000000"
                },
                "showarrow": false,
                "text": "0.16",
                "x": 7,
                "xref": "x",
                "y": 0,
                "yref": "y"
               },
               {
                "font": {
                 "color": "#000000"
                },
                "showarrow": false,
                "text": "0.04",
                "x": 8,
                "xref": "x",
                "y": 0,
                "yref": "y"
               },
               {
                "font": {
                 "color": "#000000"
                },
                "showarrow": false,
                "text": "0.1",
                "x": 0,
                "xref": "x",
                "y": 1,
                "yref": "y"
               },
               {
                "font": {
                 "color": "#000000"
                },
                "showarrow": false,
                "text": "0.03",
                "x": 1,
                "xref": "x",
                "y": 1,
                "yref": "y"
               },
               {
                "font": {
                 "color": "#000000"
                },
                "showarrow": false,
                "text": "0.09",
                "x": 2,
                "xref": "x",
                "y": 1,
                "yref": "y"
               },
               {
                "font": {
                 "color": "#000000"
                },
                "showarrow": false,
                "text": "0.07",
                "x": 3,
                "xref": "x",
                "y": 1,
                "yref": "y"
               },
               {
                "font": {
                 "color": "#000000"
                },
                "showarrow": false,
                "text": "0.07",
                "x": 4,
                "xref": "x",
                "y": 1,
                "yref": "y"
               },
               {
                "font": {
                 "color": "#000000"
                },
                "showarrow": false,
                "text": "0.08",
                "x": 5,
                "xref": "x",
                "y": 1,
                "yref": "y"
               },
               {
                "font": {
                 "color": "#000000"
                },
                "showarrow": false,
                "text": "0.05",
                "x": 6,
                "xref": "x",
                "y": 1,
                "yref": "y"
               },
               {
                "font": {
                 "color": "#000000"
                },
                "showarrow": false,
                "text": "0.16",
                "x": 7,
                "xref": "x",
                "y": 1,
                "yref": "y"
               },
               {
                "font": {
                 "color": "#000000"
                },
                "showarrow": false,
                "text": "0.04",
                "x": 8,
                "xref": "x",
                "y": 1,
                "yref": "y"
               },
               {
                "font": {
                 "color": "#000000"
                },
                "showarrow": false,
                "text": "0.05",
                "x": 0,
                "xref": "x",
                "y": 2,
                "yref": "y"
               },
               {
                "font": {
                 "color": "#000000"
                },
                "showarrow": false,
                "text": "0.01",
                "x": 1,
                "xref": "x",
                "y": 2,
                "yref": "y"
               },
               {
                "font": {
                 "color": "#000000"
                },
                "showarrow": false,
                "text": "0.03",
                "x": 2,
                "xref": "x",
                "y": 2,
                "yref": "y"
               },
               {
                "font": {
                 "color": "#000000"
                },
                "showarrow": false,
                "text": "0.01",
                "x": 3,
                "xref": "x",
                "y": 2,
                "yref": "y"
               },
               {
                "font": {
                 "color": "#000000"
                },
                "showarrow": false,
                "text": "0.03",
                "x": 4,
                "xref": "x",
                "y": 2,
                "yref": "y"
               },
               {
                "font": {
                 "color": "#000000"
                },
                "showarrow": false,
                "text": "0.01",
                "x": 5,
                "xref": "x",
                "y": 2,
                "yref": "y"
               },
               {
                "font": {
                 "color": "#000000"
                },
                "showarrow": false,
                "text": "0.04",
                "x": 6,
                "xref": "x",
                "y": 2,
                "yref": "y"
               },
               {
                "font": {
                 "color": "#000000"
                },
                "showarrow": false,
                "text": "0.45",
                "x": 7,
                "xref": "x",
                "y": 2,
                "yref": "y"
               },
               {
                "font": {
                 "color": "#000000"
                },
                "showarrow": false,
                "text": "0.09",
                "x": 8,
                "xref": "x",
                "y": 2,
                "yref": "y"
               },
               {
                "font": {
                 "color": "#000000"
                },
                "showarrow": false,
                "text": "0.04",
                "x": 0,
                "xref": "x",
                "y": 3,
                "yref": "y"
               },
               {
                "font": {
                 "color": "#000000"
                },
                "showarrow": false,
                "text": "0.02",
                "x": 1,
                "xref": "x",
                "y": 3,
                "yref": "y"
               },
               {
                "font": {
                 "color": "#000000"
                },
                "showarrow": false,
                "text": "0.0",
                "x": 2,
                "xref": "x",
                "y": 3,
                "yref": "y"
               },
               {
                "font": {
                 "color": "#000000"
                },
                "showarrow": false,
                "text": "0.01",
                "x": 3,
                "xref": "x",
                "y": 3,
                "yref": "y"
               },
               {
                "font": {
                 "color": "#000000"
                },
                "showarrow": false,
                "text": "0.01",
                "x": 4,
                "xref": "x",
                "y": 3,
                "yref": "y"
               },
               {
                "font": {
                 "color": "#000000"
                },
                "showarrow": false,
                "text": "0.01",
                "x": 5,
                "xref": "x",
                "y": 3,
                "yref": "y"
               },
               {
                "font": {
                 "color": "#000000"
                },
                "showarrow": false,
                "text": "0.03",
                "x": 6,
                "xref": "x",
                "y": 3,
                "yref": "y"
               },
               {
                "font": {
                 "color": "#000000"
                },
                "showarrow": false,
                "text": "0.07",
                "x": 7,
                "xref": "x",
                "y": 3,
                "yref": "y"
               },
               {
                "font": {
                 "color": "#000000"
                },
                "showarrow": false,
                "text": "0.05",
                "x": 8,
                "xref": "x",
                "y": 3,
                "yref": "y"
               },
               {
                "font": {
                 "color": "#000000"
                },
                "showarrow": false,
                "text": "0.06",
                "x": 0,
                "xref": "x",
                "y": 4,
                "yref": "y"
               },
               {
                "font": {
                 "color": "#000000"
                },
                "showarrow": false,
                "text": "0.03",
                "x": 1,
                "xref": "x",
                "y": 4,
                "yref": "y"
               },
               {
                "font": {
                 "color": "#000000"
                },
                "showarrow": false,
                "text": "0.02",
                "x": 2,
                "xref": "x",
                "y": 4,
                "yref": "y"
               },
               {
                "font": {
                 "color": "#000000"
                },
                "showarrow": false,
                "text": "0.02",
                "x": 3,
                "xref": "x",
                "y": 4,
                "yref": "y"
               },
               {
                "font": {
                 "color": "#000000"
                },
                "showarrow": false,
                "text": "0.02",
                "x": 4,
                "xref": "x",
                "y": 4,
                "yref": "y"
               },
               {
                "font": {
                 "color": "#000000"
                },
                "showarrow": false,
                "text": "0.01",
                "x": 5,
                "xref": "x",
                "y": 4,
                "yref": "y"
               },
               {
                "font": {
                 "color": "#000000"
                },
                "showarrow": false,
                "text": "0.06",
                "x": 6,
                "xref": "x",
                "y": 4,
                "yref": "y"
               },
               {
                "font": {
                 "color": "#000000"
                },
                "showarrow": false,
                "text": "0.23",
                "x": 7,
                "xref": "x",
                "y": 4,
                "yref": "y"
               },
               {
                "font": {
                 "color": "#000000"
                },
                "showarrow": false,
                "text": "0.11",
                "x": 8,
                "xref": "x",
                "y": 4,
                "yref": "y"
               },
               {
                "font": {
                 "color": "#000000"
                },
                "showarrow": false,
                "text": "0.06",
                "x": 0,
                "xref": "x",
                "y": 5,
                "yref": "y"
               },
               {
                "font": {
                 "color": "#000000"
                },
                "showarrow": false,
                "text": "0.03",
                "x": 1,
                "xref": "x",
                "y": 5,
                "yref": "y"
               },
               {
                "font": {
                 "color": "#000000"
                },
                "showarrow": false,
                "text": "0.02",
                "x": 2,
                "xref": "x",
                "y": 5,
                "yref": "y"
               },
               {
                "font": {
                 "color": "#000000"
                },
                "showarrow": false,
                "text": "0.03",
                "x": 3,
                "xref": "x",
                "y": 5,
                "yref": "y"
               },
               {
                "font": {
                 "color": "#000000"
                },
                "showarrow": false,
                "text": "0.12",
                "x": 4,
                "xref": "x",
                "y": 5,
                "yref": "y"
               },
               {
                "font": {
                 "color": "#000000"
                },
                "showarrow": false,
                "text": "0.02",
                "x": 5,
                "xref": "x",
                "y": 5,
                "yref": "y"
               },
               {
                "font": {
                 "color": "#000000"
                },
                "showarrow": false,
                "text": "0.25",
                "x": 6,
                "xref": "x",
                "y": 5,
                "yref": "y"
               },
               {
                "font": {
                 "color": "#000000"
                },
                "showarrow": false,
                "text": "0.29",
                "x": 7,
                "xref": "x",
                "y": 5,
                "yref": "y"
               },
               {
                "font": {
                 "color": "#FFFFFF"
                },
                "showarrow": false,
                "text": "0.88",
                "x": 8,
                "xref": "x",
                "y": 5,
                "yref": "y"
               },
               {
                "font": {
                 "color": "#000000"
                },
                "showarrow": false,
                "text": "0.04",
                "x": 0,
                "xref": "x",
                "y": 6,
                "yref": "y"
               },
               {
                "font": {
                 "color": "#000000"
                },
                "showarrow": false,
                "text": "0.02",
                "x": 1,
                "xref": "x",
                "y": 6,
                "yref": "y"
               },
               {
                "font": {
                 "color": "#000000"
                },
                "showarrow": false,
                "text": "0.03",
                "x": 2,
                "xref": "x",
                "y": 6,
                "yref": "y"
               },
               {
                "font": {
                 "color": "#000000"
                },
                "showarrow": false,
                "text": "0.02",
                "x": 3,
                "xref": "x",
                "y": 6,
                "yref": "y"
               },
               {
                "font": {
                 "color": "#000000"
                },
                "showarrow": false,
                "text": "0.04",
                "x": 4,
                "xref": "x",
                "y": 6,
                "yref": "y"
               },
               {
                "font": {
                 "color": "#000000"
                },
                "showarrow": false,
                "text": "0.01",
                "x": 5,
                "xref": "x",
                "y": 6,
                "yref": "y"
               },
               {
                "font": {
                 "color": "#000000"
                },
                "showarrow": false,
                "text": "0.15",
                "x": 6,
                "xref": "x",
                "y": 6,
                "yref": "y"
               },
               {
                "font": {
                 "color": "#000000"
                },
                "showarrow": false,
                "text": "0.18",
                "x": 7,
                "xref": "x",
                "y": 6,
                "yref": "y"
               },
               {
                "font": {
                 "color": "#FFFFFF"
                },
                "showarrow": false,
                "text": "0.54",
                "x": 8,
                "xref": "x",
                "y": 6,
                "yref": "y"
               }
              ],
              "updatemenus": [
               {
                "active": 0,
                "bgcolor": "rgba(255,255,255,1)",
                "buttons": [
                 {
                  "args": [
                   {
                    "annotations": [
                     {
                      "font": {
                       "color": "#FFFFFF"
                      },
                      "showarrow": false,
                      "text": "0.5",
                      "x": 0,
                      "xref": "x",
                      "y": 0,
                      "yref": "y"
                     },
                     {
                      "font": {
                       "color": "#000000"
                      },
                      "showarrow": false,
                      "text": "0.43",
                      "x": 1,
                      "xref": "x",
                      "y": 0,
                      "yref": "y"
                     },
                     {
                      "font": {
                       "color": "#000000"
                      },
                      "showarrow": false,
                      "text": "0.22",
                      "x": 2,
                      "xref": "x",
                      "y": 0,
                      "yref": "y"
                     },
                     {
                      "font": {
                       "color": "#000000"
                      },
                      "showarrow": false,
                      "text": "0.02",
                      "x": 3,
                      "xref": "x",
                      "y": 0,
                      "yref": "y"
                     },
                     {
                      "font": {
                       "color": "#000000"
                      },
                      "showarrow": false,
                      "text": "0.19",
                      "x": 4,
                      "xref": "x",
                      "y": 0,
                      "yref": "y"
                     },
                     {
                      "font": {
                       "color": "#000000"
                      },
                      "showarrow": false,
                      "text": "0.02",
                      "x": 5,
                      "xref": "x",
                      "y": 0,
                      "yref": "y"
                     },
                     {
                      "font": {
                       "color": "#000000"
                      },
                      "showarrow": false,
                      "text": "0.17",
                      "x": 6,
                      "xref": "x",
                      "y": 0,
                      "yref": "y"
                     },
                     {
                      "font": {
                       "color": "#000000"
                      },
                      "showarrow": false,
                      "text": "0.16",
                      "x": 7,
                      "xref": "x",
                      "y": 0,
                      "yref": "y"
                     },
                     {
                      "font": {
                       "color": "#000000"
                      },
                      "showarrow": false,
                      "text": "0.04",
                      "x": 8,
                      "xref": "x",
                      "y": 0,
                      "yref": "y"
                     },
                     {
                      "font": {
                       "color": "#000000"
                      },
                      "showarrow": false,
                      "text": "0.1",
                      "x": 0,
                      "xref": "x",
                      "y": 1,
                      "yref": "y"
                     },
                     {
                      "font": {
                       "color": "#000000"
                      },
                      "showarrow": false,
                      "text": "0.03",
                      "x": 1,
                      "xref": "x",
                      "y": 1,
                      "yref": "y"
                     },
                     {
                      "font": {
                       "color": "#000000"
                      },
                      "showarrow": false,
                      "text": "0.09",
                      "x": 2,
                      "xref": "x",
                      "y": 1,
                      "yref": "y"
                     },
                     {
                      "font": {
                       "color": "#000000"
                      },
                      "showarrow": false,
                      "text": "0.07",
                      "x": 3,
                      "xref": "x",
                      "y": 1,
                      "yref": "y"
                     },
                     {
                      "font": {
                       "color": "#000000"
                      },
                      "showarrow": false,
                      "text": "0.07",
                      "x": 4,
                      "xref": "x",
                      "y": 1,
                      "yref": "y"
                     },
                     {
                      "font": {
                       "color": "#000000"
                      },
                      "showarrow": false,
                      "text": "0.08",
                      "x": 5,
                      "xref": "x",
                      "y": 1,
                      "yref": "y"
                     },
                     {
                      "font": {
                       "color": "#000000"
                      },
                      "showarrow": false,
                      "text": "0.05",
                      "x": 6,
                      "xref": "x",
                      "y": 1,
                      "yref": "y"
                     },
                     {
                      "font": {
                       "color": "#000000"
                      },
                      "showarrow": false,
                      "text": "0.16",
                      "x": 7,
                      "xref": "x",
                      "y": 1,
                      "yref": "y"
                     },
                     {
                      "font": {
                       "color": "#000000"
                      },
                      "showarrow": false,
                      "text": "0.04",
                      "x": 8,
                      "xref": "x",
                      "y": 1,
                      "yref": "y"
                     },
                     {
                      "font": {
                       "color": "#000000"
                      },
                      "showarrow": false,
                      "text": "0.05",
                      "x": 0,
                      "xref": "x",
                      "y": 2,
                      "yref": "y"
                     },
                     {
                      "font": {
                       "color": "#000000"
                      },
                      "showarrow": false,
                      "text": "0.01",
                      "x": 1,
                      "xref": "x",
                      "y": 2,
                      "yref": "y"
                     },
                     {
                      "font": {
                       "color": "#000000"
                      },
                      "showarrow": false,
                      "text": "0.03",
                      "x": 2,
                      "xref": "x",
                      "y": 2,
                      "yref": "y"
                     },
                     {
                      "font": {
                       "color": "#000000"
                      },
                      "showarrow": false,
                      "text": "0.01",
                      "x": 3,
                      "xref": "x",
                      "y": 2,
                      "yref": "y"
                     },
                     {
                      "font": {
                       "color": "#000000"
                      },
                      "showarrow": false,
                      "text": "0.03",
                      "x": 4,
                      "xref": "x",
                      "y": 2,
                      "yref": "y"
                     },
                     {
                      "font": {
                       "color": "#000000"
                      },
                      "showarrow": false,
                      "text": "0.01",
                      "x": 5,
                      "xref": "x",
                      "y": 2,
                      "yref": "y"
                     },
                     {
                      "font": {
                       "color": "#000000"
                      },
                      "showarrow": false,
                      "text": "0.04",
                      "x": 6,
                      "xref": "x",
                      "y": 2,
                      "yref": "y"
                     },
                     {
                      "font": {
                       "color": "#000000"
                      },
                      "showarrow": false,
                      "text": "0.45",
                      "x": 7,
                      "xref": "x",
                      "y": 2,
                      "yref": "y"
                     },
                     {
                      "font": {
                       "color": "#000000"
                      },
                      "showarrow": false,
                      "text": "0.09",
                      "x": 8,
                      "xref": "x",
                      "y": 2,
                      "yref": "y"
                     },
                     {
                      "font": {
                       "color": "#000000"
                      },
                      "showarrow": false,
                      "text": "0.04",
                      "x": 0,
                      "xref": "x",
                      "y": 3,
                      "yref": "y"
                     },
                     {
                      "font": {
                       "color": "#000000"
                      },
                      "showarrow": false,
                      "text": "0.02",
                      "x": 1,
                      "xref": "x",
                      "y": 3,
                      "yref": "y"
                     },
                     {
                      "font": {
                       "color": "#000000"
                      },
                      "showarrow": false,
                      "text": "0.0",
                      "x": 2,
                      "xref": "x",
                      "y": 3,
                      "yref": "y"
                     },
                     {
                      "font": {
                       "color": "#000000"
                      },
                      "showarrow": false,
                      "text": "0.01",
                      "x": 3,
                      "xref": "x",
                      "y": 3,
                      "yref": "y"
                     },
                     {
                      "font": {
                       "color": "#000000"
                      },
                      "showarrow": false,
                      "text": "0.01",
                      "x": 4,
                      "xref": "x",
                      "y": 3,
                      "yref": "y"
                     },
                     {
                      "font": {
                       "color": "#000000"
                      },
                      "showarrow": false,
                      "text": "0.01",
                      "x": 5,
                      "xref": "x",
                      "y": 3,
                      "yref": "y"
                     },
                     {
                      "font": {
                       "color": "#000000"
                      },
                      "showarrow": false,
                      "text": "0.03",
                      "x": 6,
                      "xref": "x",
                      "y": 3,
                      "yref": "y"
                     },
                     {
                      "font": {
                       "color": "#000000"
                      },
                      "showarrow": false,
                      "text": "0.07",
                      "x": 7,
                      "xref": "x",
                      "y": 3,
                      "yref": "y"
                     },
                     {
                      "font": {
                       "color": "#000000"
                      },
                      "showarrow": false,
                      "text": "0.05",
                      "x": 8,
                      "xref": "x",
                      "y": 3,
                      "yref": "y"
                     },
                     {
                      "font": {
                       "color": "#000000"
                      },
                      "showarrow": false,
                      "text": "0.06",
                      "x": 0,
                      "xref": "x",
                      "y": 4,
                      "yref": "y"
                     },
                     {
                      "font": {
                       "color": "#000000"
                      },
                      "showarrow": false,
                      "text": "0.03",
                      "x": 1,
                      "xref": "x",
                      "y": 4,
                      "yref": "y"
                     },
                     {
                      "font": {
                       "color": "#000000"
                      },
                      "showarrow": false,
                      "text": "0.02",
                      "x": 2,
                      "xref": "x",
                      "y": 4,
                      "yref": "y"
                     },
                     {
                      "font": {
                       "color": "#000000"
                      },
                      "showarrow": false,
                      "text": "0.02",
                      "x": 3,
                      "xref": "x",
                      "y": 4,
                      "yref": "y"
                     },
                     {
                      "font": {
                       "color": "#000000"
                      },
                      "showarrow": false,
                      "text": "0.02",
                      "x": 4,
                      "xref": "x",
                      "y": 4,
                      "yref": "y"
                     },
                     {
                      "font": {
                       "color": "#000000"
                      },
                      "showarrow": false,
                      "text": "0.01",
                      "x": 5,
                      "xref": "x",
                      "y": 4,
                      "yref": "y"
                     },
                     {
                      "font": {
                       "color": "#000000"
                      },
                      "showarrow": false,
                      "text": "0.06",
                      "x": 6,
                      "xref": "x",
                      "y": 4,
                      "yref": "y"
                     },
                     {
                      "font": {
                       "color": "#000000"
                      },
                      "showarrow": false,
                      "text": "0.23",
                      "x": 7,
                      "xref": "x",
                      "y": 4,
                      "yref": "y"
                     },
                     {
                      "font": {
                       "color": "#000000"
                      },
                      "showarrow": false,
                      "text": "0.11",
                      "x": 8,
                      "xref": "x",
                      "y": 4,
                      "yref": "y"
                     },
                     {
                      "font": {
                       "color": "#000000"
                      },
                      "showarrow": false,
                      "text": "0.06",
                      "x": 0,
                      "xref": "x",
                      "y": 5,
                      "yref": "y"
                     },
                     {
                      "font": {
                       "color": "#000000"
                      },
                      "showarrow": false,
                      "text": "0.03",
                      "x": 1,
                      "xref": "x",
                      "y": 5,
                      "yref": "y"
                     },
                     {
                      "font": {
                       "color": "#000000"
                      },
                      "showarrow": false,
                      "text": "0.02",
                      "x": 2,
                      "xref": "x",
                      "y": 5,
                      "yref": "y"
                     },
                     {
                      "font": {
                       "color": "#000000"
                      },
                      "showarrow": false,
                      "text": "0.03",
                      "x": 3,
                      "xref": "x",
                      "y": 5,
                      "yref": "y"
                     },
                     {
                      "font": {
                       "color": "#000000"
                      },
                      "showarrow": false,
                      "text": "0.12",
                      "x": 4,
                      "xref": "x",
                      "y": 5,
                      "yref": "y"
                     },
                     {
                      "font": {
                       "color": "#000000"
                      },
                      "showarrow": false,
                      "text": "0.02",
                      "x": 5,
                      "xref": "x",
                      "y": 5,
                      "yref": "y"
                     },
                     {
                      "font": {
                       "color": "#000000"
                      },
                      "showarrow": false,
                      "text": "0.25",
                      "x": 6,
                      "xref": "x",
                      "y": 5,
                      "yref": "y"
                     },
                     {
                      "font": {
                       "color": "#000000"
                      },
                      "showarrow": false,
                      "text": "0.29",
                      "x": 7,
                      "xref": "x",
                      "y": 5,
                      "yref": "y"
                     },
                     {
                      "font": {
                       "color": "#FFFFFF"
                      },
                      "showarrow": false,
                      "text": "0.88",
                      "x": 8,
                      "xref": "x",
                      "y": 5,
                      "yref": "y"
                     },
                     {
                      "font": {
                       "color": "#000000"
                      },
                      "showarrow": false,
                      "text": "0.04",
                      "x": 0,
                      "xref": "x",
                      "y": 6,
                      "yref": "y"
                     },
                     {
                      "font": {
                       "color": "#000000"
                      },
                      "showarrow": false,
                      "text": "0.02",
                      "x": 1,
                      "xref": "x",
                      "y": 6,
                      "yref": "y"
                     },
                     {
                      "font": {
                       "color": "#000000"
                      },
                      "showarrow": false,
                      "text": "0.03",
                      "x": 2,
                      "xref": "x",
                      "y": 6,
                      "yref": "y"
                     },
                     {
                      "font": {
                       "color": "#000000"
                      },
                      "showarrow": false,
                      "text": "0.02",
                      "x": 3,
                      "xref": "x",
                      "y": 6,
                      "yref": "y"
                     },
                     {
                      "font": {
                       "color": "#000000"
                      },
                      "showarrow": false,
                      "text": "0.04",
                      "x": 4,
                      "xref": "x",
                      "y": 6,
                      "yref": "y"
                     },
                     {
                      "font": {
                       "color": "#000000"
                      },
                      "showarrow": false,
                      "text": "0.01",
                      "x": 5,
                      "xref": "x",
                      "y": 6,
                      "yref": "y"
                     },
                     {
                      "font": {
                       "color": "#000000"
                      },
                      "showarrow": false,
                      "text": "0.15",
                      "x": 6,
                      "xref": "x",
                      "y": 6,
                      "yref": "y"
                     },
                     {
                      "font": {
                       "color": "#000000"
                      },
                      "showarrow": false,
                      "text": "0.18",
                      "x": 7,
                      "xref": "x",
                      "y": 6,
                      "yref": "y"
                     },
                     {
                      "font": {
                       "color": "#FFFFFF"
                      },
                      "showarrow": false,
                      "text": "0.54",
                      "x": 8,
                      "xref": "x",
                      "y": 6,
                      "yref": "y"
                     }
                    ]
                   }
                  ],
                  "args2": [
                   {
                    "annotations": []
                   }
                  ],
                  "label": "Show value",
                  "method": "relayout"
                 }
                ],
                "direction": "right",
                "pad": {
                 "l": -387,
                 "r": 0,
                 "t": -250
                },
                "type": "buttons",
                "x": 0.1,
                "xanchor": "left",
                "y": 1,
                "yanchor": "top"
               }
              ],
              "xaxis": {
               "fixedrange": true,
               "ticktext": [
                "job",
                "marital",
                "education",
                "default",
                "housing",
                "loan",
                "contact",
                "month",
                "poutcome"
               ],
               "tickvals": [
                0,
                1,
                2,
                3,
                4,
                5,
                6,
                7,
                8
               ]
              },
              "yaxis": {
               "autorange": "reversed",
               "fixedrange": true,
               "ticktext": [
                "age",
                "balance",
                "day",
                "duration",
                "campaign",
                "pdays",
                "previous"
               ],
               "tickvals": [
                0,
                1,
                2,
                3,
                4,
                5,
                6
               ]
              }
             }
            ],
            "label": "Numeric-Categorical",
            "method": "update"
           }
          ],
          "direction": "down",
          "pad": {
           "l": -60,
           "r": 0,
           "t": -50
          },
          "type": "dropdown",
          "x": 0.1,
          "xanchor": "left",
          "y": 1,
          "yanchor": "top"
         },
         {
          "active": 0,
          "bgcolor": "rgba(255,255,255,1)",
          "buttons": [
           {
            "args": [
             {
              "annotations": [
               {
                "font": {
                 "color": "#FFFFFF"
                },
                "showarrow": false,
                "text": "1.0",
                "x": 0,
                "xref": "x",
                "y": 0,
                "yref": "y"
               },
               {
                "font": {
                 "color": "#000000"
                },
                "showarrow": false,
                "text": "0.1",
                "x": 1,
                "xref": "x",
                "y": 0,
                "yref": "y"
               },
               {
                "font": {
                 "color": "#000000"
                },
                "showarrow": false,
                "text": "0.01",
                "x": 2,
                "xref": "x",
                "y": 0,
                "yref": "y"
               },
               {
                "font": {
                 "color": "#000000"
                },
                "showarrow": false,
                "text": "0.0",
                "x": 3,
                "xref": "x",
                "y": 0,
                "yref": "y"
               },
               {
                "font": {
                 "color": "#000000"
                },
                "showarrow": false,
                "text": "0.0",
                "x": 4,
                "xref": "x",
                "y": 0,
                "yref": "y"
               },
               {
                "font": {
                 "color": "#000000"
                },
                "showarrow": false,
                "text": "0.02",
                "x": 5,
                "xref": "x",
                "y": 0,
                "yref": "y"
               },
               {
                "font": {
                 "color": "#000000"
                },
                "showarrow": false,
                "text": "0.0",
                "x": 6,
                "xref": "x",
                "y": 0,
                "yref": "y"
               },
               {
                "font": {
                 "color": "#FFFFFF"
                },
                "showarrow": false,
                "text": "0.5",
                "x": 7,
                "xref": "x",
                "y": 0,
                "yref": "y"
               },
               {
                "font": {
                 "color": "#000000"
                },
                "showarrow": false,
                "text": "0.43",
                "x": 8,
                "xref": "x",
                "y": 0,
                "yref": "y"
               },
               {
                "font": {
                 "color": "#000000"
                },
                "showarrow": false,
                "text": "0.22",
                "x": 9,
                "xref": "x",
                "y": 0,
                "yref": "y"
               },
               {
                "font": {
                 "color": "#000000"
                },
                "showarrow": false,
                "text": "0.02",
                "x": 10,
                "xref": "x",
                "y": 0,
                "yref": "y"
               },
               {
                "font": {
                 "color": "#000000"
                },
                "showarrow": false,
                "text": "0.19",
                "x": 11,
                "xref": "x",
                "y": 0,
                "yref": "y"
               },
               {
                "font": {
                 "color": "#000000"
                },
                "showarrow": false,
                "text": "0.02",
                "x": 12,
                "xref": "x",
                "y": 0,
                "yref": "y"
               },
               {
                "font": {
                 "color": "#000000"
                },
                "showarrow": false,
                "text": "0.17",
                "x": 13,
                "xref": "x",
                "y": 0,
                "yref": "y"
               },
               {
                "font": {
                 "color": "#000000"
                },
                "showarrow": false,
                "text": "0.16",
                "x": 14,
                "xref": "x",
                "y": 0,
                "yref": "y"
               },
               {
                "font": {
                 "color": "#000000"
                },
                "showarrow": false,
                "text": "0.04",
                "x": 15,
                "xref": "x",
                "y": 0,
                "yref": "y"
               },
               {
                "font": {
                 "color": "#000000"
                },
                "showarrow": false,
                "text": "0.1",
                "x": 0,
                "xref": "x",
                "y": 1,
                "yref": "y"
               },
               {
                "font": {
                 "color": "#FFFFFF"
                },
                "showarrow": false,
                "text": "1.0",
                "x": 1,
                "xref": "x",
                "y": 1,
                "yref": "y"
               },
               {
                "font": {
                 "color": "#000000"
                },
                "showarrow": false,
                "text": "0.0",
                "x": 2,
                "xref": "x",
                "y": 1,
                "yref": "y"
               },
               {
                "font": {
                 "color": "#000000"
                },
                "showarrow": false,
                "text": "0.02",
                "x": 3,
                "xref": "x",
                "y": 1,
                "yref": "y"
               },
               {
                "font": {
                 "color": "#000000"
                },
                "showarrow": false,
                "text": "0.01",
                "x": 4,
                "xref": "x",
                "y": 1,
                "yref": "y"
               },
               {
                "font": {
                 "color": "#000000"
                },
                "showarrow": false,
                "text": "0.0",
                "x": 5,
                "xref": "x",
                "y": 1,
                "yref": "y"
               },
               {
                "font": {
                 "color": "#000000"
                },
                "showarrow": false,
                "text": "0.02",
                "x": 6,
                "xref": "x",
                "y": 1,
                "yref": "y"
               },
               {
                "font": {
                 "color": "#000000"
                },
                "showarrow": false,
                "text": "0.1",
                "x": 7,
                "xref": "x",
                "y": 1,
                "yref": "y"
               },
               {
                "font": {
                 "color": "#000000"
                },
                "showarrow": false,
                "text": "0.03",
                "x": 8,
                "xref": "x",
                "y": 1,
                "yref": "y"
               },
               {
                "font": {
                 "color": "#000000"
                },
                "showarrow": false,
                "text": "0.09",
                "x": 9,
                "xref": "x",
                "y": 1,
                "yref": "y"
               },
               {
                "font": {
                 "color": "#000000"
                },
                "showarrow": false,
                "text": "0.07",
                "x": 10,
                "xref": "x",
                "y": 1,
                "yref": "y"
               },
               {
                "font": {
                 "color": "#000000"
                },
                "showarrow": false,
                "text": "0.07",
                "x": 11,
                "xref": "x",
                "y": 1,
                "yref": "y"
               },
               {
                "font": {
                 "color": "#000000"
                },
                "showarrow": false,
                "text": "0.08",
                "x": 12,
                "xref": "x",
                "y": 1,
                "yref": "y"
               },
               {
                "font": {
                 "color": "#000000"
                },
                "showarrow": false,
                "text": "0.05",
                "x": 13,
                "xref": "x",
                "y": 1,
                "yref": "y"
               },
               {
                "font": {
                 "color": "#000000"
                },
                "showarrow": false,
                "text": "0.16",
                "x": 14,
                "xref": "x",
                "y": 1,
                "yref": "y"
               },
               {
                "font": {
                 "color": "#000000"
                },
                "showarrow": false,
                "text": "0.04",
                "x": 15,
                "xref": "x",
                "y": 1,
                "yref": "y"
               },
               {
                "font": {
                 "color": "#000000"
                },
                "showarrow": false,
                "text": "0.01",
                "x": 0,
                "xref": "x",
                "y": 2,
                "yref": "y"
               },
               {
                "font": {
                 "color": "#000000"
                },
                "showarrow": false,
                "text": "0.0",
                "x": 1,
                "xref": "x",
                "y": 2,
                "yref": "y"
               },
               {
                "font": {
                 "color": "#FFFFFF"
                },
                "showarrow": false,
                "text": "1.0",
                "x": 2,
                "xref": "x",
                "y": 2,
                "yref": "y"
               },
               {
                "font": {
                 "color": "#000000"
                },
                "showarrow": false,
                "text": "0.03",
                "x": 3,
                "xref": "x",
                "y": 2,
                "yref": "y"
               },
               {
                "font": {
                 "color": "#000000"
                },
                "showarrow": false,
                "text": "0.16",
                "x": 4,
                "xref": "x",
                "y": 2,
                "yref": "y"
               },
               {
                "font": {
                 "color": "#000000"
                },
                "showarrow": false,
                "text": "0.09",
                "x": 5,
                "xref": "x",
                "y": 2,
                "yref": "y"
               },
               {
                "font": {
                 "color": "#000000"
                },
                "showarrow": false,
                "text": "0.05",
                "x": 6,
                "xref": "x",
                "y": 2,
                "yref": "y"
               },
               {
                "font": {
                 "color": "#000000"
                },
                "showarrow": false,
                "text": "0.05",
                "x": 7,
                "xref": "x",
                "y": 2,
                "yref": "y"
               },
               {
                "font": {
                 "color": "#000000"
                },
                "showarrow": false,
                "text": "0.01",
                "x": 8,
                "xref": "x",
                "y": 2,
                "yref": "y"
               },
               {
                "font": {
                 "color": "#000000"
                },
                "showarrow": false,
                "text": "0.03",
                "x": 9,
                "xref": "x",
                "y": 2,
                "yref": "y"
               },
               {
                "font": {
                 "color": "#000000"
                },
                "showarrow": false,
                "text": "0.01",
                "x": 10,
                "xref": "x",
                "y": 2,
                "yref": "y"
               },
               {
                "font": {
                 "color": "#000000"
                },
                "showarrow": false,
                "text": "0.03",
                "x": 11,
                "xref": "x",
                "y": 2,
                "yref": "y"
               },
               {
                "font": {
                 "color": "#000000"
                },
                "showarrow": false,
                "text": "0.01",
                "x": 12,
                "xref": "x",
                "y": 2,
                "yref": "y"
               },
               {
                "font": {
                 "color": "#000000"
                },
                "showarrow": false,
                "text": "0.04",
                "x": 13,
                "xref": "x",
                "y": 2,
                "yref": "y"
               },
               {
                "font": {
                 "color": "#000000"
                },
                "showarrow": false,
                "text": "0.45",
                "x": 14,
                "xref": "x",
                "y": 2,
                "yref": "y"
               },
               {
                "font": {
                 "color": "#000000"
                },
                "showarrow": false,
                "text": "0.09",
                "x": 15,
                "xref": "x",
                "y": 2,
                "yref": "y"
               },
               {
                "font": {
                 "color": "#000000"
                },
                "showarrow": false,
                "text": "0.0",
                "x": 0,
                "xref": "x",
                "y": 3,
                "yref": "y"
               },
               {
                "font": {
                 "color": "#000000"
                },
                "showarrow": false,
                "text": "0.02",
                "x": 1,
                "xref": "x",
                "y": 3,
                "yref": "y"
               },
               {
                "font": {
                 "color": "#000000"
                },
                "showarrow": false,
                "text": "0.03",
                "x": 2,
                "xref": "x",
                "y": 3,
                "yref": "y"
               },
               {
                "font": {
                 "color": "#FFFFFF"
                },
                "showarrow": false,
                "text": "1.0",
                "x": 3,
                "xref": "x",
                "y": 3,
                "yref": "y"
               },
               {
                "font": {
                 "color": "#000000"
                },
                "showarrow": false,
                "text": "0.08",
                "x": 4,
                "xref": "x",
                "y": 3,
                "yref": "y"
               },
               {
                "font": {
                 "color": "#000000"
                },
                "showarrow": false,
                "text": "0.0",
                "x": 5,
                "xref": "x",
                "y": 3,
                "yref": "y"
               },
               {
                "font": {
                 "color": "#000000"
                },
                "showarrow": false,
                "text": "0.0",
                "x": 6,
                "xref": "x",
                "y": 3,
                "yref": "y"
               },
               {
                "font": {
                 "color": "#000000"
                },
                "showarrow": false,
                "text": "0.04",
                "x": 7,
                "xref": "x",
                "y": 3,
                "yref": "y"
               },
               {
                "font": {
                 "color": "#000000"
                },
                "showarrow": false,
                "text": "0.02",
                "x": 8,
                "xref": "x",
                "y": 3,
                "yref": "y"
               },
               {
                "font": {
                 "color": "#000000"
                },
                "showarrow": false,
                "text": "0.0",
                "x": 9,
                "xref": "x",
                "y": 3,
                "yref": "y"
               },
               {
                "font": {
                 "color": "#000000"
                },
                "showarrow": false,
                "text": "0.01",
                "x": 10,
                "xref": "x",
                "y": 3,
                "yref": "y"
               },
               {
                "font": {
                 "color": "#000000"
                },
                "showarrow": false,
                "text": "0.01",
                "x": 11,
                "xref": "x",
                "y": 3,
                "yref": "y"
               },
               {
                "font": {
                 "color": "#000000"
                },
                "showarrow": false,
                "text": "0.01",
                "x": 12,
                "xref": "x",
                "y": 3,
                "yref": "y"
               },
               {
                "font": {
                 "color": "#000000"
                },
                "showarrow": false,
                "text": "0.03",
                "x": 13,
                "xref": "x",
                "y": 3,
                "yref": "y"
               },
               {
                "font": {
                 "color": "#000000"
                },
                "showarrow": false,
                "text": "0.07",
                "x": 14,
                "xref": "x",
                "y": 3,
                "yref": "y"
               },
               {
                "font": {
                 "color": "#000000"
                },
                "showarrow": false,
                "text": "0.05",
                "x": 15,
                "xref": "x",
                "y": 3,
                "yref": "y"
               },
               {
                "font": {
                 "color": "#000000"
                },
                "showarrow": false,
                "text": "0.0",
                "x": 0,
                "xref": "x",
                "y": 4,
                "yref": "y"
               },
               {
                "font": {
                 "color": "#000000"
                },
                "showarrow": false,
                "text": "0.01",
                "x": 1,
                "xref": "x",
                "y": 4,
                "yref": "y"
               },
               {
                "font": {
                 "color": "#000000"
                },
                "showarrow": false,
                "text": "0.16",
                "x": 2,
                "xref": "x",
                "y": 4,
                "yref": "y"
               },
               {
                "font": {
                 "color": "#000000"
                },
                "showarrow": false,
                "text": "0.08",
                "x": 3,
                "xref": "x",
                "y": 4,
                "yref": "y"
               },
               {
                "font": {
                 "color": "#FFFFFF"
                },
                "showarrow": false,
                "text": "1.0",
                "x": 4,
                "xref": "x",
                "y": 4,
                "yref": "y"
               },
               {
                "font": {
                 "color": "#000000"
                },
                "showarrow": false,
                "text": "0.09",
                "x": 5,
                "xref": "x",
                "y": 4,
                "yref": "y"
               },
               {
                "font": {
                 "color": "#000000"
                },
                "showarrow": false,
                "text": "0.03",
                "x": 6,
                "xref": "x",
                "y": 4,
                "yref": "y"
               },
               {
                "font": {
                 "color": "#000000"
                },
                "showarrow": false,
                "text": "0.06",
                "x": 7,
                "xref": "x",
                "y": 4,
                "yref": "y"
               },
               {
                "font": {
                 "color": "#000000"
                },
                "showarrow": false,
                "text": "0.03",
                "x": 8,
                "xref": "x",
                "y": 4,
                "yref": "y"
               },
               {
                "font": {
                 "color": "#000000"
                },
                "showarrow": false,
                "text": "0.02",
                "x": 9,
                "xref": "x",
                "y": 4,
                "yref": "y"
               },
               {
                "font": {
                 "color": "#000000"
                },
                "showarrow": false,
                "text": "0.02",
                "x": 10,
                "xref": "x",
                "y": 4,
                "yref": "y"
               },
               {
                "font": {
                 "color": "#000000"
                },
                "showarrow": false,
                "text": "0.02",
                "x": 11,
                "xref": "x",
                "y": 4,
                "yref": "y"
               },
               {
                "font": {
                 "color": "#000000"
                },
                "showarrow": false,
                "text": "0.01",
                "x": 12,
                "xref": "x",
                "y": 4,
                "yref": "y"
               },
               {
                "font": {
                 "color": "#000000"
                },
                "showarrow": false,
                "text": "0.06",
                "x": 13,
                "xref": "x",
                "y": 4,
                "yref": "y"
               },
               {
                "font": {
                 "color": "#000000"
                },
                "showarrow": false,
                "text": "0.23",
                "x": 14,
                "xref": "x",
                "y": 4,
                "yref": "y"
               },
               {
                "font": {
                 "color": "#000000"
                },
                "showarrow": false,
                "text": "0.11",
                "x": 15,
                "xref": "x",
                "y": 4,
                "yref": "y"
               },
               {
                "font": {
                 "color": "#000000"
                },
                "showarrow": false,
                "text": "0.02",
                "x": 0,
                "xref": "x",
                "y": 5,
                "yref": "y"
               },
               {
                "font": {
                 "color": "#000000"
                },
                "showarrow": false,
                "text": "0.0",
                "x": 1,
                "xref": "x",
                "y": 5,
                "yref": "y"
               },
               {
                "font": {
                 "color": "#000000"
                },
                "showarrow": false,
                "text": "0.09",
                "x": 2,
                "xref": "x",
                "y": 5,
                "yref": "y"
               },
               {
                "font": {
                 "color": "#000000"
                },
                "showarrow": false,
                "text": "0.0",
                "x": 3,
                "xref": "x",
                "y": 5,
                "yref": "y"
               },
               {
                "font": {
                 "color": "#000000"
                },
                "showarrow": false,
                "text": "0.09",
                "x": 4,
                "xref": "x",
                "y": 5,
                "yref": "y"
               },
               {
                "font": {
                 "color": "#FFFFFF"
                },
                "showarrow": false,
                "text": "1.0",
                "x": 5,
                "xref": "x",
                "y": 5,
                "yref": "y"
               },
               {
                "font": {
                 "color": "#000000"
                },
                "showarrow": false,
                "text": "0.45",
                "x": 6,
                "xref": "x",
                "y": 5,
                "yref": "y"
               },
               {
                "font": {
                 "color": "#000000"
                },
                "showarrow": false,
                "text": "0.06",
                "x": 7,
                "xref": "x",
                "y": 5,
                "yref": "y"
               },
               {
                "font": {
                 "color": "#000000"
                },
                "showarrow": false,
                "text": "0.03",
                "x": 8,
                "xref": "x",
                "y": 5,
                "yref": "y"
               },
               {
                "font": {
                 "color": "#000000"
                },
                "showarrow": false,
                "text": "0.02",
                "x": 9,
                "xref": "x",
                "y": 5,
                "yref": "y"
               },
               {
                "font": {
                 "color": "#000000"
                },
                "showarrow": false,
                "text": "0.03",
                "x": 10,
                "xref": "x",
                "y": 5,
                "yref": "y"
               },
               {
                "font": {
                 "color": "#000000"
                },
                "showarrow": false,
                "text": "0.12",
                "x": 11,
                "xref": "x",
                "y": 5,
                "yref": "y"
               },
               {
                "font": {
                 "color": "#000000"
                },
                "showarrow": false,
                "text": "0.02",
                "x": 12,
                "xref": "x",
                "y": 5,
                "yref": "y"
               },
               {
                "font": {
                 "color": "#000000"
                },
                "showarrow": false,
                "text": "0.25",
                "x": 13,
                "xref": "x",
                "y": 5,
                "yref": "y"
               },
               {
                "font": {
                 "color": "#000000"
                },
                "showarrow": false,
                "text": "0.29",
                "x": 14,
                "xref": "x",
                "y": 5,
                "yref": "y"
               },
               {
                "font": {
                 "color": "#FFFFFF"
                },
                "showarrow": false,
                "text": "0.88",
                "x": 15,
                "xref": "x",
                "y": 5,
                "yref": "y"
               },
               {
                "font": {
                 "color": "#000000"
                },
                "showarrow": false,
                "text": "0.0",
                "x": 0,
                "xref": "x",
                "y": 6,
                "yref": "y"
               },
               {
                "font": {
                 "color": "#000000"
                },
                "showarrow": false,
                "text": "0.02",
                "x": 1,
                "xref": "x",
                "y": 6,
                "yref": "y"
               },
               {
                "font": {
                 "color": "#000000"
                },
                "showarrow": false,
                "text": "0.05",
                "x": 2,
                "xref": "x",
                "y": 6,
                "yref": "y"
               },
               {
                "font": {
                 "color": "#000000"
                },
                "showarrow": false,
                "text": "0.0",
                "x": 3,
                "xref": "x",
                "y": 6,
                "yref": "y"
               },
               {
                "font": {
                 "color": "#000000"
                },
                "showarrow": false,
                "text": "0.03",
                "x": 4,
                "xref": "x",
                "y": 6,
                "yref": "y"
               },
               {
                "font": {
                 "color": "#000000"
                },
                "showarrow": false,
                "text": "0.45",
                "x": 5,
                "xref": "x",
                "y": 6,
                "yref": "y"
               },
               {
                "font": {
                 "color": "#FFFFFF"
                },
                "showarrow": false,
                "text": "1.0",
                "x": 6,
                "xref": "x",
                "y": 6,
                "yref": "y"
               },
               {
                "font": {
                 "color": "#000000"
                },
                "showarrow": false,
                "text": "0.04",
                "x": 7,
                "xref": "x",
                "y": 6,
                "yref": "y"
               },
               {
                "font": {
                 "color": "#000000"
                },
                "showarrow": false,
                "text": "0.02",
                "x": 8,
                "xref": "x",
                "y": 6,
                "yref": "y"
               },
               {
                "font": {
                 "color": "#000000"
                },
                "showarrow": false,
                "text": "0.03",
                "x": 9,
                "xref": "x",
                "y": 6,
                "yref": "y"
               },
               {
                "font": {
                 "color": "#000000"
                },
                "showarrow": false,
                "text": "0.02",
                "x": 10,
                "xref": "x",
                "y": 6,
                "yref": "y"
               },
               {
                "font": {
                 "color": "#000000"
                },
                "showarrow": false,
                "text": "0.04",
                "x": 11,
                "xref": "x",
                "y": 6,
                "yref": "y"
               },
               {
                "font": {
                 "color": "#000000"
                },
                "showarrow": false,
                "text": "0.01",
                "x": 12,
                "xref": "x",
                "y": 6,
                "yref": "y"
               },
               {
                "font": {
                 "color": "#000000"
                },
                "showarrow": false,
                "text": "0.15",
                "x": 13,
                "xref": "x",
                "y": 6,
                "yref": "y"
               },
               {
                "font": {
                 "color": "#000000"
                },
                "showarrow": false,
                "text": "0.18",
                "x": 14,
                "xref": "x",
                "y": 6,
                "yref": "y"
               },
               {
                "font": {
                 "color": "#FFFFFF"
                },
                "showarrow": false,
                "text": "0.54",
                "x": 15,
                "xref": "x",
                "y": 6,
                "yref": "y"
               },
               {
                "font": {
                 "color": "#FFFFFF"
                },
                "showarrow": false,
                "text": "0.5",
                "x": 0,
                "xref": "x",
                "y": 7,
                "yref": "y"
               },
               {
                "font": {
                 "color": "#000000"
                },
                "showarrow": false,
                "text": "0.1",
                "x": 1,
                "xref": "x",
                "y": 7,
                "yref": "y"
               },
               {
                "font": {
                 "color": "#000000"
                },
                "showarrow": false,
                "text": "0.05",
                "x": 2,
                "xref": "x",
                "y": 7,
                "yref": "y"
               },
               {
                "font": {
                 "color": "#000000"
                },
                "showarrow": false,
                "text": "0.04",
                "x": 3,
                "xref": "x",
                "y": 7,
                "yref": "y"
               },
               {
                "font": {
                 "color": "#000000"
                },
                "showarrow": false,
                "text": "0.06",
                "x": 4,
                "xref": "x",
                "y": 7,
                "yref": "y"
               },
               {
                "font": {
                 "color": "#000000"
                },
                "showarrow": false,
                "text": "0.06",
                "x": 5,
                "xref": "x",
                "y": 7,
                "yref": "y"
               },
               {
                "font": {
                 "color": "#000000"
                },
                "showarrow": false,
                "text": "0.04",
                "x": 6,
                "xref": "x",
                "y": 7,
                "yref": "y"
               },
               {
                "font": {
                 "color": "#FFFFFF"
                },
                "showarrow": false,
                "text": "1.0",
                "x": 7,
                "xref": "x",
                "y": 7,
                "yref": "y"
               },
               {
                "font": {
                 "color": "#000000"
                },
                "showarrow": false,
                "text": "0.21",
                "x": 8,
                "xref": "x",
                "y": 7,
                "yref": "y"
               },
               {
                "font": {
                 "color": "#000000"
                },
                "showarrow": false,
                "text": "0.46",
                "x": 9,
                "xref": "x",
                "y": 7,
                "yref": "y"
               },
               {
                "font": {
                 "color": "#000000"
                },
                "showarrow": false,
                "text": "0.04",
                "x": 10,
                "xref": "x",
                "y": 7,
                "yref": "y"
               },
               {
                "font": {
                 "color": "#000000"
                },
                "showarrow": false,
                "text": "0.28",
                "x": 11,
                "xref": "x",
                "y": 7,
                "yref": "y"
               },
               {
                "font": {
                 "color": "#000000"
                },
                "showarrow": false,
                "text": "0.11",
                "x": 12,
                "xref": "x",
                "y": 7,
                "yref": "y"
               },
               {
                "font": {
                 "color": "#000000"
                },
                "showarrow": false,
                "text": "0.15",
                "x": 13,
                "xref": "x",
                "y": 7,
                "yref": "y"
               },
               {
                "font": {
                 "color": "#000000"
                },
                "showarrow": false,
                "text": "0.11",
                "x": 14,
                "xref": "x",
                "y": 7,
                "yref": "y"
               },
               {
                "font": {
                 "color": "#000000"
                },
                "showarrow": false,
                "text": "0.06",
                "x": 15,
                "xref": "x",
                "y": 7,
                "yref": "y"
               },
               {
                "font": {
                 "color": "#000000"
                },
                "showarrow": false,
                "text": "0.43",
                "x": 0,
                "xref": "x",
                "y": 8,
                "yref": "y"
               },
               {
                "font": {
                 "color": "#000000"
                },
                "showarrow": false,
                "text": "0.03",
                "x": 1,
                "xref": "x",
                "y": 8,
                "yref": "y"
               },
               {
                "font": {
                 "color": "#000000"
                },
                "showarrow": false,
                "text": "0.01",
                "x": 2,
                "xref": "x",
                "y": 8,
                "yref": "y"
               },
               {
                "font": {
                 "color": "#000000"
                },
                "showarrow": false,
                "text": "0.02",
                "x": 3,
                "xref": "x",
                "y": 8,
                "yref": "y"
               },
               {
                "font": {
                 "color": "#000000"
                },
                "showarrow": false,
                "text": "0.03",
                "x": 4,
                "xref": "x",
                "y": 8,
                "yref": "y"
               },
               {
                "font": {
                 "color": "#000000"
                },
                "showarrow": false,
                "text": "0.03",
                "x": 5,
                "xref": "x",
                "y": 8,
                "yref": "y"
               },
               {
                "font": {
                 "color": "#000000"
                },
                "showarrow": false,
                "text": "0.02",
                "x": 6,
                "xref": "x",
                "y": 8,
                "yref": "y"
               },
               {
                "font": {
                 "color": "#000000"
                },
                "showarrow": false,
                "text": "0.21",
                "x": 7,
                "xref": "x",
                "y": 8,
                "yref": "y"
               },
               {
                "font": {
                 "color": "#FFFFFF"
                },
                "showarrow": false,
                "text": "1.0",
                "x": 8,
                "xref": "x",
                "y": 8,
                "yref": "y"
               },
               {
                "font": {
                 "color": "#000000"
                },
                "showarrow": false,
                "text": "0.12",
                "x": 9,
                "xref": "x",
                "y": 8,
                "yref": "y"
               },
               {
                "font": {
                 "color": "#000000"
                },
                "showarrow": false,
                "text": "0.02",
                "x": 10,
                "xref": "x",
                "y": 8,
                "yref": "y"
               },
               {
                "font": {
                 "color": "#000000"
                },
                "showarrow": false,
                "text": "0.02",
                "x": 11,
                "xref": "x",
                "y": 8,
                "yref": "y"
               },
               {
                "font": {
                 "color": "#000000"
                },
                "showarrow": false,
                "text": "0.05",
                "x": 12,
                "xref": "x",
                "y": 8,
                "yref": "y"
               },
               {
                "font": {
                 "color": "#000000"
                },
                "showarrow": false,
                "text": "0.05",
                "x": 13,
                "xref": "x",
                "y": 8,
                "yref": "y"
               },
               {
                "font": {
                 "color": "#000000"
                },
                "showarrow": false,
                "text": "0.07",
                "x": 14,
                "xref": "x",
                "y": 8,
                "yref": "y"
               },
               {
                "font": {
                 "color": "#000000"
                },
                "showarrow": false,
                "text": "0.03",
                "x": 15,
                "xref": "x",
                "y": 8,
                "yref": "y"
               },
               {
                "font": {
                 "color": "#000000"
                },
                "showarrow": false,
                "text": "0.22",
                "x": 0,
                "xref": "x",
                "y": 9,
                "yref": "y"
               },
               {
                "font": {
                 "color": "#000000"
                },
                "showarrow": false,
                "text": "0.09",
                "x": 1,
                "xref": "x",
                "y": 9,
                "yref": "y"
               },
               {
                "font": {
                 "color": "#000000"
                },
                "showarrow": false,
                "text": "0.03",
                "x": 2,
                "xref": "x",
                "y": 9,
                "yref": "y"
               },
               {
                "font": {
                 "color": "#000000"
                },
                "showarrow": false,
                "text": "0.0",
                "x": 3,
                "xref": "x",
                "y": 9,
                "yref": "y"
               },
               {
                "font": {
                 "color": "#000000"
                },
                "showarrow": false,
                "text": "0.02",
                "x": 4,
                "xref": "x",
                "y": 9,
                "yref": "y"
               },
               {
                "font": {
                 "color": "#000000"
                },
                "showarrow": false,
                "text": "0.02",
                "x": 5,
                "xref": "x",
                "y": 9,
                "yref": "y"
               },
               {
                "font": {
                 "color": "#000000"
                },
                "showarrow": false,
                "text": "0.03",
                "x": 6,
                "xref": "x",
                "y": 9,
                "yref": "y"
               },
               {
                "font": {
                 "color": "#000000"
                },
                "showarrow": false,
                "text": "0.46",
                "x": 7,
                "xref": "x",
                "y": 9,
                "yref": "y"
               },
               {
                "font": {
                 "color": "#000000"
                },
                "showarrow": false,
                "text": "0.12",
                "x": 8,
                "xref": "x",
                "y": 9,
                "yref": "y"
               },
               {
                "font": {
                 "color": "#FFFFFF"
                },
                "showarrow": false,
                "text": "1.0",
                "x": 9,
                "xref": "x",
                "y": 9,
                "yref": "y"
               },
               {
                "font": {
                 "color": "#000000"
                },
                "showarrow": false,
                "text": "0.02",
                "x": 10,
                "xref": "x",
                "y": 9,
                "yref": "y"
               },
               {
                "font": {
                 "color": "#000000"
                },
                "showarrow": false,
                "text": "0.12",
                "x": 11,
                "xref": "x",
                "y": 9,
                "yref": "y"
               },
               {
                "font": {
                 "color": "#000000"
                },
                "showarrow": false,
                "text": "0.08",
                "x": 12,
                "xref": "x",
                "y": 9,
                "yref": "y"
               },
               {
                "font": {
                 "color": "#000000"
                },
                "showarrow": false,
                "text": "0.12",
                "x": 13,
                "xref": "x",
                "y": 9,
                "yref": "y"
               },
               {
                "font": {
                 "color": "#000000"
                },
                "showarrow": false,
                "text": "0.11",
                "x": 14,
                "xref": "x",
                "y": 9,
                "yref": "y"
               },
               {
                "font": {
                 "color": "#000000"
                },
                "showarrow": false,
                "text": "0.04",
                "x": 15,
                "xref": "x",
                "y": 9,
                "yref": "y"
               },
               {
                "font": {
                 "color": "#000000"
                },
                "showarrow": false,
                "text": "0.02",
                "x": 0,
                "xref": "x",
                "y": 10,
                "yref": "y"
               },
               {
                "font": {
                 "color": "#000000"
                },
                "showarrow": false,
                "text": "0.07",
                "x": 1,
                "xref": "x",
                "y": 10,
                "yref": "y"
               },
               {
                "font": {
                 "color": "#000000"
                },
                "showarrow": false,
                "text": "0.01",
                "x": 2,
                "xref": "x",
                "y": 10,
                "yref": "y"
               },
               {
                "font": {
                 "color": "#000000"
                },
                "showarrow": false,
                "text": "0.01",
                "x": 3,
                "xref": "x",
                "y": 10,
                "yref": "y"
               },
               {
                "font": {
                 "color": "#000000"
                },
                "showarrow": false,
                "text": "0.02",
                "x": 4,
                "xref": "x",
                "y": 10,
                "yref": "y"
               },
               {
                "font": {
                 "color": "#000000"
                },
                "showarrow": false,
                "text": "0.03",
                "x": 5,
                "xref": "x",
                "y": 10,
                "yref": "y"
               },
               {
                "font": {
                 "color": "#000000"
                },
                "showarrow": false,
                "text": "0.02",
                "x": 6,
                "xref": "x",
                "y": 10,
                "yref": "y"
               },
               {
                "font": {
                 "color": "#000000"
                },
                "showarrow": false,
                "text": "0.04",
                "x": 7,
                "xref": "x",
                "y": 10,
                "yref": "y"
               },
               {
                "font": {
                 "color": "#000000"
                },
                "showarrow": false,
                "text": "0.02",
                "x": 8,
                "xref": "x",
                "y": 10,
                "yref": "y"
               },
               {
                "font": {
                 "color": "#000000"
                },
                "showarrow": false,
                "text": "0.02",
                "x": 9,
                "xref": "x",
                "y": 10,
                "yref": "y"
               },
               {
                "font": {
                 "color": "#FFFFFF"
                },
                "showarrow": false,
                "text": "1.0",
                "x": 10,
                "xref": "x",
                "y": 10,
                "yref": "y"
               },
               {
                "font": {
                 "color": "#000000"
                },
                "showarrow": false,
                "text": "0.01",
                "x": 11,
                "xref": "x",
                "y": 10,
                "yref": "y"
               },
               {
                "font": {
                 "color": "#000000"
                },
                "showarrow": false,
                "text": "0.08",
                "x": 12,
                "xref": "x",
                "y": 10,
                "yref": "y"
               },
               {
                "font": {
                 "color": "#000000"
                },
                "showarrow": false,
                "text": "0.02",
                "x": 13,
                "xref": "x",
                "y": 10,
                "yref": "y"
               },
               {
                "font": {
                 "color": "#000000"
                },
                "showarrow": false,
                "text": "0.06",
                "x": 14,
                "xref": "x",
                "y": 10,
                "yref": "y"
               },
               {
                "font": {
                 "color": "#000000"
                },
                "showarrow": false,
                "text": "0.04",
                "x": 15,
                "xref": "x",
                "y": 10,
                "yref": "y"
               },
               {
                "font": {
                 "color": "#000000"
                },
                "showarrow": false,
                "text": "0.19",
                "x": 0,
                "xref": "x",
                "y": 11,
                "yref": "y"
               },
               {
                "font": {
                 "color": "#000000"
                },
                "showarrow": false,
                "text": "0.07",
                "x": 1,
                "xref": "x",
                "y": 11,
                "yref": "y"
               },
               {
                "font": {
                 "color": "#000000"
                },
                "showarrow": false,
                "text": "0.03",
                "x": 2,
                "xref": "x",
                "y": 11,
                "yref": "y"
               },
               {
                "font": {
                 "color": "#000000"
                },
                "showarrow": false,
                "text": "0.01",
                "x": 3,
                "xref": "x",
                "y": 11,
                "yref": "y"
               },
               {
                "font": {
                 "color": "#000000"
                },
                "showarrow": false,
                "text": "0.02",
                "x": 4,
                "xref": "x",
                "y": 11,
                "yref": "y"
               },
               {
                "font": {
                 "color": "#000000"
                },
                "showarrow": false,
                "text": "0.12",
                "x": 5,
                "xref": "x",
                "y": 11,
                "yref": "y"
               },
               {
                "font": {
                 "color": "#000000"
                },
                "showarrow": false,
                "text": "0.04",
                "x": 6,
                "xref": "x",
                "y": 11,
                "yref": "y"
               },
               {
                "font": {
                 "color": "#000000"
                },
                "showarrow": false,
                "text": "0.28",
                "x": 7,
                "xref": "x",
                "y": 11,
                "yref": "y"
               },
               {
                "font": {
                 "color": "#000000"
                },
                "showarrow": false,
                "text": "0.02",
                "x": 8,
                "xref": "x",
                "y": 11,
                "yref": "y"
               },
               {
                "font": {
                 "color": "#000000"
                },
                "showarrow": false,
                "text": "0.12",
                "x": 9,
                "xref": "x",
                "y": 11,
                "yref": "y"
               },
               {
                "font": {
                 "color": "#000000"
                },
                "showarrow": false,
                "text": "0.01",
                "x": 10,
                "xref": "x",
                "y": 11,
                "yref": "y"
               },
               {
                "font": {
                 "color": "#FFFFFF"
                },
                "showarrow": false,
                "text": "1.0",
                "x": 11,
                "xref": "x",
                "y": 11,
                "yref": "y"
               },
               {
                "font": {
                 "color": "#000000"
                },
                "showarrow": false,
                "text": "0.04",
                "x": 12,
                "xref": "x",
                "y": 11,
                "yref": "y"
               },
               {
                "font": {
                 "color": "#000000"
                },
                "showarrow": false,
                "text": "0.21",
                "x": 13,
                "xref": "x",
                "y": 11,
                "yref": "y"
               },
               {
                "font": {
                 "color": "#FFFFFF"
                },
                "showarrow": false,
                "text": "0.5",
                "x": 14,
                "xref": "x",
                "y": 11,
                "yref": "y"
               },
               {
                "font": {
                 "color": "#000000"
                },
                "showarrow": false,
                "text": "0.14",
                "x": 15,
                "xref": "x",
                "y": 11,
                "yref": "y"
               },
               {
                "font": {
                 "color": "#000000"
                },
                "showarrow": false,
                "text": "0.02",
                "x": 0,
                "xref": "x",
                "y": 12,
                "yref": "y"
               },
               {
                "font": {
                 "color": "#000000"
                },
                "showarrow": false,
                "text": "0.08",
                "x": 1,
                "xref": "x",
                "y": 12,
                "yref": "y"
               },
               {
                "font": {
                 "color": "#000000"
                },
                "showarrow": false,
                "text": "0.01",
                "x": 2,
                "xref": "x",
                "y": 12,
                "yref": "y"
               },
               {
                "font": {
                 "color": "#000000"
                },
                "showarrow": false,
                "text": "0.01",
                "x": 3,
                "xref": "x",
                "y": 12,
                "yref": "y"
               },
               {
                "font": {
                 "color": "#000000"
                },
                "showarrow": false,
                "text": "0.01",
                "x": 4,
                "xref": "x",
                "y": 12,
                "yref": "y"
               },
               {
                "font": {
                 "color": "#000000"
                },
                "showarrow": false,
                "text": "0.02",
                "x": 5,
                "xref": "x",
                "y": 12,
                "yref": "y"
               },
               {
                "font": {
                 "color": "#000000"
                },
                "showarrow": false,
                "text": "0.01",
                "x": 6,
                "xref": "x",
                "y": 12,
                "yref": "y"
               },
               {
                "font": {
                 "color": "#000000"
                },
                "showarrow": false,
                "text": "0.11",
                "x": 7,
                "xref": "x",
                "y": 12,
                "yref": "y"
               },
               {
                "font": {
                 "color": "#000000"
                },
                "showarrow": false,
                "text": "0.05",
                "x": 8,
                "xref": "x",
                "y": 12,
                "yref": "y"
               },
               {
                "font": {
                 "color": "#000000"
                },
                "showarrow": false,
                "text": "0.08",
                "x": 9,
                "xref": "x",
                "y": 12,
                "yref": "y"
               },
               {
                "font": {
                 "color": "#000000"
                },
                "showarrow": false,
                "text": "0.08",
                "x": 10,
                "xref": "x",
                "y": 12,
                "yref": "y"
               },
               {
                "font": {
                 "color": "#000000"
                },
                "showarrow": false,
                "text": "0.04",
                "x": 11,
                "xref": "x",
                "y": 12,
                "yref": "y"
               },
               {
                "font": {
                 "color": "#FFFFFF"
                },
                "showarrow": false,
                "text": "1.0",
                "x": 12,
                "xref": "x",
                "y": 12,
                "yref": "y"
               },
               {
                "font": {
                 "color": "#000000"
                },
                "showarrow": false,
                "text": "0.02",
                "x": 13,
                "xref": "x",
                "y": 12,
                "yref": "y"
               },
               {
                "font": {
                 "color": "#000000"
                },
                "showarrow": false,
                "text": "0.18",
                "x": 14,
                "xref": "x",
                "y": 12,
                "yref": "y"
               },
               {
                "font": {
                 "color": "#000000"
                },
                "showarrow": false,
                "text": "0.06",
                "x": 15,
                "xref": "x",
                "y": 12,
                "yref": "y"
               },
               {
                "font": {
                 "color": "#000000"
                },
                "showarrow": false,
                "text": "0.17",
                "x": 0,
                "xref": "x",
                "y": 13,
                "yref": "y"
               },
               {
                "font": {
                 "color": "#000000"
                },
                "showarrow": false,
                "text": "0.05",
                "x": 1,
                "xref": "x",
                "y": 13,
                "yref": "y"
               },
               {
                "font": {
                 "color": "#000000"
                },
                "showarrow": false,
                "text": "0.04",
                "x": 2,
                "xref": "x",
                "y": 13,
                "yref": "y"
               },
               {
                "font": {
                 "color": "#000000"
                },
                "showarrow": false,
                "text": "0.03",
                "x": 3,
                "xref": "x",
                "y": 13,
                "yref": "y"
               },
               {
                "font": {
                 "color": "#000000"
                },
                "showarrow": false,
                "text": "0.06",
                "x": 4,
                "xref": "x",
                "y": 13,
                "yref": "y"
               },
               {
                "font": {
                 "color": "#000000"
                },
                "showarrow": false,
                "text": "0.25",
                "x": 5,
                "xref": "x",
                "y": 13,
                "yref": "y"
               },
               {
                "font": {
                 "color": "#000000"
                },
                "showarrow": false,
                "text": "0.15",
                "x": 6,
                "xref": "x",
                "y": 13,
                "yref": "y"
               },
               {
                "font": {
                 "color": "#000000"
                },
                "showarrow": false,
                "text": "0.15",
                "x": 7,
                "xref": "x",
                "y": 13,
                "yref": "y"
               },
               {
                "font": {
                 "color": "#000000"
                },
                "showarrow": false,
                "text": "0.05",
                "x": 8,
                "xref": "x",
                "y": 13,
                "yref": "y"
               },
               {
                "font": {
                 "color": "#000000"
                },
                "showarrow": false,
                "text": "0.12",
                "x": 9,
                "xref": "x",
                "y": 13,
                "yref": "y"
               },
               {
                "font": {
                 "color": "#000000"
                },
                "showarrow": false,
                "text": "0.02",
                "x": 10,
                "xref": "x",
                "y": 13,
                "yref": "y"
               },
               {
                "font": {
                 "color": "#000000"
                },
                "showarrow": false,
                "text": "0.21",
                "x": 11,
                "xref": "x",
                "y": 13,
                "yref": "y"
               },
               {
                "font": {
                 "color": "#000000"
                },
                "showarrow": false,
                "text": "0.02",
                "x": 12,
                "xref": "x",
                "y": 13,
                "yref": "y"
               },
               {
                "font": {
                 "color": "#FFFFFF"
                },
                "showarrow": false,
                "text": "1.0",
                "x": 13,
                "xref": "x",
                "y": 13,
                "yref": "y"
               },
               {
                "font": {
                 "color": "#FFFFFF"
                },
                "showarrow": false,
                "text": "0.51",
                "x": 14,
                "xref": "x",
                "y": 13,
                "yref": "y"
               },
               {
                "font": {
                 "color": "#000000"
                },
                "showarrow": false,
                "text": "0.21",
                "x": 15,
                "xref": "x",
                "y": 13,
                "yref": "y"
               },
               {
                "font": {
                 "color": "#000000"
                },
                "showarrow": false,
                "text": "0.16",
                "x": 0,
                "xref": "x",
                "y": 14,
                "yref": "y"
               },
               {
                "font": {
                 "color": "#000000"
                },
                "showarrow": false,
                "text": "0.16",
                "x": 1,
                "xref": "x",
                "y": 14,
                "yref": "y"
               },
               {
                "font": {
                 "color": "#000000"
                },
                "showarrow": false,
                "text": "0.45",
                "x": 2,
                "xref": "x",
                "y": 14,
                "yref": "y"
               },
               {
                "font": {
                 "color": "#000000"
                },
                "showarrow": false,
                "text": "0.07",
                "x": 3,
                "xref": "x",
                "y": 14,
                "yref": "y"
               },
               {
                "font": {
                 "color": "#000000"
                },
                "showarrow": false,
                "text": "0.23",
                "x": 4,
                "xref": "x",
                "y": 14,
                "yref": "y"
               },
               {
                "font": {
                 "color": "#000000"
                },
                "showarrow": false,
                "text": "0.29",
                "x": 5,
                "xref": "x",
                "y": 14,
                "yref": "y"
               },
               {
                "font": {
                 "color": "#000000"
                },
                "showarrow": false,
                "text": "0.18",
                "x": 6,
                "xref": "x",
                "y": 14,
                "yref": "y"
               },
               {
                "font": {
                 "color": "#000000"
                },
                "showarrow": false,
                "text": "0.11",
                "x": 7,
                "xref": "x",
                "y": 14,
                "yref": "y"
               },
               {
                "font": {
                 "color": "#000000"
                },
                "showarrow": false,
                "text": "0.07",
                "x": 8,
                "xref": "x",
                "y": 14,
                "yref": "y"
               },
               {
                "font": {
                 "color": "#000000"
                },
                "showarrow": false,
                "text": "0.11",
                "x": 9,
                "xref": "x",
                "y": 14,
                "yref": "y"
               },
               {
                "font": {
                 "color": "#000000"
                },
                "showarrow": false,
                "text": "0.06",
                "x": 10,
                "xref": "x",
                "y": 14,
                "yref": "y"
               },
               {
                "font": {
                 "color": "#FFFFFF"
                },
                "showarrow": false,
                "text": "0.5",
                "x": 11,
                "xref": "x",
                "y": 14,
                "yref": "y"
               },
               {
                "font": {
                 "color": "#000000"
                },
                "showarrow": false,
                "text": "0.18",
                "x": 12,
                "xref": "x",
                "y": 14,
                "yref": "y"
               },
               {
                "font": {
                 "color": "#FFFFFF"
                },
                "showarrow": false,
                "text": "0.51",
                "x": 13,
                "xref": "x",
                "y": 14,
                "yref": "y"
               },
               {
                "font": {
                 "color": "#FFFFFF"
                },
                "showarrow": false,
                "text": "1.0",
                "x": 14,
                "xref": "x",
                "y": 14,
                "yref": "y"
               },
               {
                "font": {
                 "color": "#000000"
                },
                "showarrow": false,
                "text": "0.21",
                "x": 15,
                "xref": "x",
                "y": 14,
                "yref": "y"
               },
               {
                "font": {
                 "color": "#000000"
                },
                "showarrow": false,
                "text": "0.04",
                "x": 0,
                "xref": "x",
                "y": 15,
                "yref": "y"
               },
               {
                "font": {
                 "color": "#000000"
                },
                "showarrow": false,
                "text": "0.04",
                "x": 1,
                "xref": "x",
                "y": 15,
                "yref": "y"
               },
               {
                "font": {
                 "color": "#000000"
                },
                "showarrow": false,
                "text": "0.09",
                "x": 2,
                "xref": "x",
                "y": 15,
                "yref": "y"
               },
               {
                "font": {
                 "color": "#000000"
                },
                "showarrow": false,
                "text": "0.05",
                "x": 3,
                "xref": "x",
                "y": 15,
                "yref": "y"
               },
               {
                "font": {
                 "color": "#000000"
                },
                "showarrow": false,
                "text": "0.11",
                "x": 4,
                "xref": "x",
                "y": 15,
                "yref": "y"
               },
               {
                "font": {
                 "color": "#FFFFFF"
                },
                "showarrow": false,
                "text": "0.88",
                "x": 5,
                "xref": "x",
                "y": 15,
                "yref": "y"
               },
               {
                "font": {
                 "color": "#FFFFFF"
                },
                "showarrow": false,
                "text": "0.54",
                "x": 6,
                "xref": "x",
                "y": 15,
                "yref": "y"
               },
               {
                "font": {
                 "color": "#000000"
                },
                "showarrow": false,
                "text": "0.06",
                "x": 7,
                "xref": "x",
                "y": 15,
                "yref": "y"
               },
               {
                "font": {
                 "color": "#000000"
                },
                "showarrow": false,
                "text": "0.03",
                "x": 8,
                "xref": "x",
                "y": 15,
                "yref": "y"
               },
               {
                "font": {
                 "color": "#000000"
                },
                "showarrow": false,
                "text": "0.04",
                "x": 9,
                "xref": "x",
                "y": 15,
                "yref": "y"
               },
               {
                "font": {
                 "color": "#000000"
                },
                "showarrow": false,
                "text": "0.04",
                "x": 10,
                "xref": "x",
                "y": 15,
                "yref": "y"
               },
               {
                "font": {
                 "color": "#000000"
                },
                "showarrow": false,
                "text": "0.14",
                "x": 11,
                "xref": "x",
                "y": 15,
                "yref": "y"
               },
               {
                "font": {
                 "color": "#000000"
                },
                "showarrow": false,
                "text": "0.06",
                "x": 12,
                "xref": "x",
                "y": 15,
                "yref": "y"
               },
               {
                "font": {
                 "color": "#000000"
                },
                "showarrow": false,
                "text": "0.21",
                "x": 13,
                "xref": "x",
                "y": 15,
                "yref": "y"
               },
               {
                "font": {
                 "color": "#000000"
                },
                "showarrow": false,
                "text": "0.21",
                "x": 14,
                "xref": "x",
                "y": 15,
                "yref": "y"
               },
               {
                "font": {
                 "color": "#FFFFFF"
                },
                "showarrow": false,
                "text": "1.0",
                "x": 15,
                "xref": "x",
                "y": 15,
                "yref": "y"
               }
              ]
             }
            ],
            "args2": [
             {
              "annotations": []
             }
            ],
            "label": "Show value",
            "method": "relayout"
           }
          ],
          "direction": "right",
          "pad": {
           "l": -60,
           "r": 0,
           "t": -100
          },
          "type": "buttons",
          "x": 0.1,
          "xanchor": "left",
          "y": 1,
          "yanchor": "top"
         }
        ],
        "width": 1118,
        "xaxis": {
         "constrain": "domain",
         "fixedrange": true,
         "scaleanchor": "y",
         "tickangle": -45,
         "ticktext": [
          "age",
          "balance",
          "day",
          "duration",
          "campaign",
          "pdays",
          "previous",
          "job",
          "marital",
          "education",
          "default",
          "housing",
          "loan",
          "contact",
          "month",
          "poutcome"
         ],
         "tickvals": [
          0,
          1,
          2,
          3,
          4,
          5,
          6,
          7,
          8,
          9,
          10,
          11,
          12,
          13,
          14,
          15
         ]
        },
        "yaxis": {
         "autorange": "reversed",
         "fixedrange": true,
         "tickmode": "array",
         "ticksuffix": "   ",
         "ticktext": [
          "age",
          "balance",
          "day",
          "duration",
          "campaign",
          "pdays",
          "previous",
          "job",
          "marital",
          "education",
          "default",
          "housing",
          "loan",
          "contact",
          "month",
          "poutcome"
         ],
         "tickvals": [
          0,
          1,
          2,
          3,
          4,
          5,
          6,
          7,
          8,
          9,
          10,
          11,
          12,
          13,
          14,
          15
         ]
        }
       }
      },
      "text/html": [
       "<div>                            <div id=\"4da12ea7-4c54-4ed8-9543-d094cce19320\" class=\"plotly-graph-div\" style=\"height:766px; width:1118px;\"></div>            <script type=\"text/javascript\">                require([\"plotly\"], function(Plotly) {                    window.PLOTLYENV=window.PLOTLYENV || {};                                    if (document.getElementById(\"4da12ea7-4c54-4ed8-9543-d094cce19320\")) {                    Plotly.newPlot(                        \"4da12ea7-4c54-4ed8-9543-d094cce19320\",                        [{\"colorscale\":[[0.0,\"rgb(255,255,217)\"],[0.125,\"rgb(237,248,177)\"],[0.25,\"rgb(199,233,180)\"],[0.375,\"rgb(127,205,187)\"],[0.5,\"rgb(65,182,196)\"],[0.625,\"rgb(29,145,192)\"],[0.75,\"rgb(34,94,168)\"],[0.875,\"rgb(37,52,148)\"],[1.0,\"rgb(8,29,88)\"]],\"hovertemplate\":\"Corr ( %{x}, %{y} ) = %{z} <extra></extra>\",\"reversescale\":false,\"showscale\":true,\"x\":[0,1,2,3,4,5,6,7,8,9,10,11,12,13,14,15],\"y\":[0,1,2,3,4,5,6,7,8,9,10,11,12,13,14,15],\"z\":[[1.0,0.1,0.01,0.0,0.0,0.02,0.0,0.5,0.43,0.22,0.02,0.19,0.02,0.17,0.16,0.04],[0.1,1.0,0.0,0.02,0.01,0.0,0.02,0.1,0.03,0.09,0.07,0.07,0.08,0.05,0.16,0.04],[0.01,0.0,1.0,0.03,0.16,0.09,0.05,0.05,0.01,0.03,0.01,0.03,0.01,0.04,0.45,0.09],[0.0,0.02,0.03,1.0,0.08,0.0,0.0,0.04,0.02,0.0,0.01,0.01,0.01,0.03,0.07,0.05],[0.0,0.01,0.16,0.08,1.0,0.09,0.03,0.06,0.03,0.02,0.02,0.02,0.01,0.06,0.23,0.11],[0.02,0.0,0.09,0.0,0.09,1.0,0.45,0.06,0.03,0.02,0.03,0.12,0.02,0.25,0.29,0.88],[0.0,0.02,0.05,0.0,0.03,0.45,1.0,0.04,0.02,0.03,0.02,0.04,0.01,0.15,0.18,0.54],[0.5,0.1,0.05,0.04,0.06,0.06,0.04,1.0,0.21,0.46,0.04,0.28,0.11,0.15,0.11,0.06],[0.43,0.03,0.01,0.02,0.03,0.03,0.02,0.21,1.0,0.12,0.02,0.02,0.05,0.05,0.07,0.03],[0.22,0.09,0.03,0.0,0.02,0.02,0.03,0.46,0.12,1.0,0.02,0.12,0.08,0.12,0.11,0.04],[0.02,0.07,0.01,0.01,0.02,0.03,0.02,0.04,0.02,0.02,1.0,0.01,0.08,0.02,0.06,0.04],[0.19,0.07,0.03,0.01,0.02,0.12,0.04,0.28,0.02,0.12,0.01,1.0,0.04,0.21,0.5,0.14],[0.02,0.08,0.01,0.01,0.01,0.02,0.01,0.11,0.05,0.08,0.08,0.04,1.0,0.02,0.18,0.06],[0.17,0.05,0.04,0.03,0.06,0.25,0.15,0.15,0.05,0.12,0.02,0.21,0.02,1.0,0.51,0.21],[0.16,0.16,0.45,0.07,0.23,0.29,0.18,0.11,0.07,0.11,0.06,0.5,0.18,0.51,1.0,0.21],[0.04,0.04,0.09,0.05,0.11,0.88,0.54,0.06,0.03,0.04,0.04,0.14,0.06,0.21,0.21,1.0]],\"zmax\":1,\"zmin\":0,\"type\":\"heatmap\"}],                        {\"template\":{\"data\":{\"bar\":[{\"error_x\":{\"color\":\"#2a3f5f\"},\"error_y\":{\"color\":\"#2a3f5f\"},\"marker\":{\"line\":{\"color\":\"#E5ECF6\",\"width\":0.5},\"pattern\":{\"fillmode\":\"overlay\",\"size\":10,\"solidity\":0.2}},\"type\":\"bar\"}],\"barpolar\":[{\"marker\":{\"line\":{\"color\":\"#E5ECF6\",\"width\":0.5},\"pattern\":{\"fillmode\":\"overlay\",\"size\":10,\"solidity\":0.2}},\"type\":\"barpolar\"}],\"carpet\":[{\"aaxis\":{\"endlinecolor\":\"#2a3f5f\",\"gridcolor\":\"white\",\"linecolor\":\"white\",\"minorgridcolor\":\"white\",\"startlinecolor\":\"#2a3f5f\"},\"baxis\":{\"endlinecolor\":\"#2a3f5f\",\"gridcolor\":\"white\",\"linecolor\":\"white\",\"minorgridcolor\":\"white\",\"startlinecolor\":\"#2a3f5f\"},\"type\":\"carpet\"}],\"choropleth\":[{\"colorbar\":{\"outlinewidth\":0,\"ticks\":\"\"},\"type\":\"choropleth\"}],\"contour\":[{\"colorbar\":{\"outlinewidth\":0,\"ticks\":\"\"},\"colorscale\":[[0.0,\"#0d0887\"],[0.1111111111111111,\"#46039f\"],[0.2222222222222222,\"#7201a8\"],[0.3333333333333333,\"#9c179e\"],[0.4444444444444444,\"#bd3786\"],[0.5555555555555556,\"#d8576b\"],[0.6666666666666666,\"#ed7953\"],[0.7777777777777778,\"#fb9f3a\"],[0.8888888888888888,\"#fdca26\"],[1.0,\"#f0f921\"]],\"type\":\"contour\"}],\"contourcarpet\":[{\"colorbar\":{\"outlinewidth\":0,\"ticks\":\"\"},\"type\":\"contourcarpet\"}],\"heatmap\":[{\"colorbar\":{\"outlinewidth\":0,\"ticks\":\"\"},\"colorscale\":[[0.0,\"#0d0887\"],[0.1111111111111111,\"#46039f\"],[0.2222222222222222,\"#7201a8\"],[0.3333333333333333,\"#9c179e\"],[0.4444444444444444,\"#bd3786\"],[0.5555555555555556,\"#d8576b\"],[0.6666666666666666,\"#ed7953\"],[0.7777777777777778,\"#fb9f3a\"],[0.8888888888888888,\"#fdca26\"],[1.0,\"#f0f921\"]],\"type\":\"heatmap\"}],\"heatmapgl\":[{\"colorbar\":{\"outlinewidth\":0,\"ticks\":\"\"},\"colorscale\":[[0.0,\"#0d0887\"],[0.1111111111111111,\"#46039f\"],[0.2222222222222222,\"#7201a8\"],[0.3333333333333333,\"#9c179e\"],[0.4444444444444444,\"#bd3786\"],[0.5555555555555556,\"#d8576b\"],[0.6666666666666666,\"#ed7953\"],[0.7777777777777778,\"#fb9f3a\"],[0.8888888888888888,\"#fdca26\"],[1.0,\"#f0f921\"]],\"type\":\"heatmapgl\"}],\"histogram\":[{\"marker\":{\"pattern\":{\"fillmode\":\"overlay\",\"size\":10,\"solidity\":0.2}},\"type\":\"histogram\"}],\"histogram2d\":[{\"colorbar\":{\"outlinewidth\":0,\"ticks\":\"\"},\"colorscale\":[[0.0,\"#0d0887\"],[0.1111111111111111,\"#46039f\"],[0.2222222222222222,\"#7201a8\"],[0.3333333333333333,\"#9c179e\"],[0.4444444444444444,\"#bd3786\"],[0.5555555555555556,\"#d8576b\"],[0.6666666666666666,\"#ed7953\"],[0.7777777777777778,\"#fb9f3a\"],[0.8888888888888888,\"#fdca26\"],[1.0,\"#f0f921\"]],\"type\":\"histogram2d\"}],\"histogram2dcontour\":[{\"colorbar\":{\"outlinewidth\":0,\"ticks\":\"\"},\"colorscale\":[[0.0,\"#0d0887\"],[0.1111111111111111,\"#46039f\"],[0.2222222222222222,\"#7201a8\"],[0.3333333333333333,\"#9c179e\"],[0.4444444444444444,\"#bd3786\"],[0.5555555555555556,\"#d8576b\"],[0.6666666666666666,\"#ed7953\"],[0.7777777777777778,\"#fb9f3a\"],[0.8888888888888888,\"#fdca26\"],[1.0,\"#f0f921\"]],\"type\":\"histogram2dcontour\"}],\"mesh3d\":[{\"colorbar\":{\"outlinewidth\":0,\"ticks\":\"\"},\"type\":\"mesh3d\"}],\"parcoords\":[{\"line\":{\"colorbar\":{\"outlinewidth\":0,\"ticks\":\"\"}},\"type\":\"parcoords\"}],\"pie\":[{\"automargin\":true,\"type\":\"pie\"}],\"scatter\":[{\"marker\":{\"colorbar\":{\"outlinewidth\":0,\"ticks\":\"\"}},\"type\":\"scatter\"}],\"scatter3d\":[{\"line\":{\"colorbar\":{\"outlinewidth\":0,\"ticks\":\"\"}},\"marker\":{\"colorbar\":{\"outlinewidth\":0,\"ticks\":\"\"}},\"type\":\"scatter3d\"}],\"scattercarpet\":[{\"marker\":{\"colorbar\":{\"outlinewidth\":0,\"ticks\":\"\"}},\"type\":\"scattercarpet\"}],\"scattergeo\":[{\"marker\":{\"colorbar\":{\"outlinewidth\":0,\"ticks\":\"\"}},\"type\":\"scattergeo\"}],\"scattergl\":[{\"marker\":{\"colorbar\":{\"outlinewidth\":0,\"ticks\":\"\"}},\"type\":\"scattergl\"}],\"scattermapbox\":[{\"marker\":{\"colorbar\":{\"outlinewidth\":0,\"ticks\":\"\"}},\"type\":\"scattermapbox\"}],\"scatterpolar\":[{\"marker\":{\"colorbar\":{\"outlinewidth\":0,\"ticks\":\"\"}},\"type\":\"scatterpolar\"}],\"scatterpolargl\":[{\"marker\":{\"colorbar\":{\"outlinewidth\":0,\"ticks\":\"\"}},\"type\":\"scatterpolargl\"}],\"scatterternary\":[{\"marker\":{\"colorbar\":{\"outlinewidth\":0,\"ticks\":\"\"}},\"type\":\"scatterternary\"}],\"surface\":[{\"colorbar\":{\"outlinewidth\":0,\"ticks\":\"\"},\"colorscale\":[[0.0,\"#0d0887\"],[0.1111111111111111,\"#46039f\"],[0.2222222222222222,\"#7201a8\"],[0.3333333333333333,\"#9c179e\"],[0.4444444444444444,\"#bd3786\"],[0.5555555555555556,\"#d8576b\"],[0.6666666666666666,\"#ed7953\"],[0.7777777777777778,\"#fb9f3a\"],[0.8888888888888888,\"#fdca26\"],[1.0,\"#f0f921\"]],\"type\":\"surface\"}],\"table\":[{\"cells\":{\"fill\":{\"color\":\"#EBF0F8\"},\"line\":{\"color\":\"white\"}},\"header\":{\"fill\":{\"color\":\"#C8D4E3\"},\"line\":{\"color\":\"white\"}},\"type\":\"table\"}]},\"layout\":{\"annotationdefaults\":{\"arrowcolor\":\"#2a3f5f\",\"arrowhead\":0,\"arrowwidth\":1},\"autotypenumbers\":\"strict\",\"coloraxis\":{\"colorbar\":{\"outlinewidth\":0,\"ticks\":\"\"}},\"colorscale\":{\"diverging\":[[0,\"#8e0152\"],[0.1,\"#c51b7d\"],[0.2,\"#de77ae\"],[0.3,\"#f1b6da\"],[0.4,\"#fde0ef\"],[0.5,\"#f7f7f7\"],[0.6,\"#e6f5d0\"],[0.7,\"#b8e186\"],[0.8,\"#7fbc41\"],[0.9,\"#4d9221\"],[1,\"#276419\"]],\"sequential\":[[0.0,\"#0d0887\"],[0.1111111111111111,\"#46039f\"],[0.2222222222222222,\"#7201a8\"],[0.3333333333333333,\"#9c179e\"],[0.4444444444444444,\"#bd3786\"],[0.5555555555555556,\"#d8576b\"],[0.6666666666666666,\"#ed7953\"],[0.7777777777777778,\"#fb9f3a\"],[0.8888888888888888,\"#fdca26\"],[1.0,\"#f0f921\"]],\"sequentialminus\":[[0.0,\"#0d0887\"],[0.1111111111111111,\"#46039f\"],[0.2222222222222222,\"#7201a8\"],[0.3333333333333333,\"#9c179e\"],[0.4444444444444444,\"#bd3786\"],[0.5555555555555556,\"#d8576b\"],[0.6666666666666666,\"#ed7953\"],[0.7777777777777778,\"#fb9f3a\"],[0.8888888888888888,\"#fdca26\"],[1.0,\"#f0f921\"]]},\"colorway\":[\"#636efa\",\"#EF553B\",\"#00cc96\",\"#ab63fa\",\"#FFA15A\",\"#19d3f3\",\"#FF6692\",\"#B6E880\",\"#FF97FF\",\"#FECB52\"],\"font\":{\"color\":\"#2a3f5f\"},\"geo\":{\"bgcolor\":\"white\",\"lakecolor\":\"white\",\"landcolor\":\"#E5ECF6\",\"showlakes\":true,\"showland\":true,\"subunitcolor\":\"white\"},\"hoverlabel\":{\"align\":\"left\"},\"hovermode\":\"closest\",\"mapbox\":{\"style\":\"light\"},\"paper_bgcolor\":\"white\",\"plot_bgcolor\":\"#E5ECF6\",\"polar\":{\"angularaxis\":{\"gridcolor\":\"white\",\"linecolor\":\"white\",\"ticks\":\"\"},\"bgcolor\":\"#E5ECF6\",\"radialaxis\":{\"gridcolor\":\"white\",\"linecolor\":\"white\",\"ticks\":\"\"}},\"scene\":{\"xaxis\":{\"backgroundcolor\":\"#E5ECF6\",\"gridcolor\":\"white\",\"gridwidth\":2,\"linecolor\":\"white\",\"showbackground\":true,\"ticks\":\"\",\"zerolinecolor\":\"white\"},\"yaxis\":{\"backgroundcolor\":\"#E5ECF6\",\"gridcolor\":\"white\",\"gridwidth\":2,\"linecolor\":\"white\",\"showbackground\":true,\"ticks\":\"\",\"zerolinecolor\":\"white\"},\"zaxis\":{\"backgroundcolor\":\"#E5ECF6\",\"gridcolor\":\"white\",\"gridwidth\":2,\"linecolor\":\"white\",\"showbackground\":true,\"ticks\":\"\",\"zerolinecolor\":\"white\"}},\"shapedefaults\":{\"line\":{\"color\":\"#2a3f5f\"}},\"ternary\":{\"aaxis\":{\"gridcolor\":\"white\",\"linecolor\":\"white\",\"ticks\":\"\"},\"baxis\":{\"gridcolor\":\"white\",\"linecolor\":\"white\",\"ticks\":\"\"},\"bgcolor\":\"#E5ECF6\",\"caxis\":{\"gridcolor\":\"white\",\"linecolor\":\"white\",\"ticks\":\"\"}},\"title\":{\"x\":0.05},\"xaxis\":{\"automargin\":true,\"gridcolor\":\"white\",\"linecolor\":\"white\",\"ticks\":\"\",\"title\":{\"standoff\":15},\"zerolinecolor\":\"white\",\"zerolinewidth\":2},\"yaxis\":{\"automargin\":true,\"gridcolor\":\"white\",\"linecolor\":\"white\",\"ticks\":\"\",\"title\":{\"standoff\":15},\"zerolinecolor\":\"white\",\"zerolinewidth\":2}}},\"xaxis\":{\"scaleanchor\":\"y\",\"constrain\":\"domain\",\"tickangle\":-45,\"tickvals\":[0,1,2,3,4,5,6,7,8,9,10,11,12,13,14,15],\"ticktext\":[\"age\",\"balance\",\"day\",\"duration\",\"campaign\",\"pdays\",\"previous\",\"job\",\"marital\",\"education\",\"default\",\"housing\",\"loan\",\"contact\",\"month\",\"poutcome\"],\"fixedrange\":true},\"width\":1118,\"height\":766,\"yaxis\":{\"autorange\":\"reversed\",\"tickvals\":[0,1,2,3,4,5,6,7,8,9,10,11,12,13,14,15],\"ticktext\":[\"age\",\"balance\",\"day\",\"duration\",\"campaign\",\"pdays\",\"previous\",\"job\",\"marital\",\"education\",\"default\",\"housing\",\"loan\",\"contact\",\"month\",\"poutcome\"],\"tickmode\":\"array\",\"ticksuffix\":\"   \",\"fixedrange\":true},\"margin\":{\"t\":150,\"b\":0,\"l\":270,\"r\":280},\"title\":{\"font\":{\"size\":22},\"text\":\"Correlation\",\"y\":0.99,\"x\":0,\"xanchor\":\"left\",\"yanchor\":\"top\"},\"coloraxis\":{\"colorbar\":{\"thicknessmode\":\"pixels\",\"thickness\":50,\"lenmode\":\"pixels\",\"len\":200,\"yanchor\":\"top\",\"y\":1,\"ticks\":\"outside\",\"dtick\":5}},\"hoverlabel\":{\"font\":{\"size\":12,\"family\":\"Arial\"},\"bgcolor\":\"white\"},\"modebar\":{\"bgcolor\":\"rgba(0,0,0,0)\",\"activecolor\":\"rgba(68,68,68,0.7)\",\"color\":\"rgba(68,68,68,0.3)\"},\"annotations\":[{\"font\":{\"color\":\"#FFFFFF\"},\"showarrow\":false,\"text\":\"1.0\",\"x\":0,\"xref\":\"x\",\"y\":0,\"yref\":\"y\"},{\"font\":{\"color\":\"#000000\"},\"showarrow\":false,\"text\":\"0.1\",\"x\":1,\"xref\":\"x\",\"y\":0,\"yref\":\"y\"},{\"font\":{\"color\":\"#000000\"},\"showarrow\":false,\"text\":\"0.01\",\"x\":2,\"xref\":\"x\",\"y\":0,\"yref\":\"y\"},{\"font\":{\"color\":\"#000000\"},\"showarrow\":false,\"text\":\"0.0\",\"x\":3,\"xref\":\"x\",\"y\":0,\"yref\":\"y\"},{\"font\":{\"color\":\"#000000\"},\"showarrow\":false,\"text\":\"0.0\",\"x\":4,\"xref\":\"x\",\"y\":0,\"yref\":\"y\"},{\"font\":{\"color\":\"#000000\"},\"showarrow\":false,\"text\":\"0.02\",\"x\":5,\"xref\":\"x\",\"y\":0,\"yref\":\"y\"},{\"font\":{\"color\":\"#000000\"},\"showarrow\":false,\"text\":\"0.0\",\"x\":6,\"xref\":\"x\",\"y\":0,\"yref\":\"y\"},{\"font\":{\"color\":\"#FFFFFF\"},\"showarrow\":false,\"text\":\"0.5\",\"x\":7,\"xref\":\"x\",\"y\":0,\"yref\":\"y\"},{\"font\":{\"color\":\"#000000\"},\"showarrow\":false,\"text\":\"0.43\",\"x\":8,\"xref\":\"x\",\"y\":0,\"yref\":\"y\"},{\"font\":{\"color\":\"#000000\"},\"showarrow\":false,\"text\":\"0.22\",\"x\":9,\"xref\":\"x\",\"y\":0,\"yref\":\"y\"},{\"font\":{\"color\":\"#000000\"},\"showarrow\":false,\"text\":\"0.02\",\"x\":10,\"xref\":\"x\",\"y\":0,\"yref\":\"y\"},{\"font\":{\"color\":\"#000000\"},\"showarrow\":false,\"text\":\"0.19\",\"x\":11,\"xref\":\"x\",\"y\":0,\"yref\":\"y\"},{\"font\":{\"color\":\"#000000\"},\"showarrow\":false,\"text\":\"0.02\",\"x\":12,\"xref\":\"x\",\"y\":0,\"yref\":\"y\"},{\"font\":{\"color\":\"#000000\"},\"showarrow\":false,\"text\":\"0.17\",\"x\":13,\"xref\":\"x\",\"y\":0,\"yref\":\"y\"},{\"font\":{\"color\":\"#000000\"},\"showarrow\":false,\"text\":\"0.16\",\"x\":14,\"xref\":\"x\",\"y\":0,\"yref\":\"y\"},{\"font\":{\"color\":\"#000000\"},\"showarrow\":false,\"text\":\"0.04\",\"x\":15,\"xref\":\"x\",\"y\":0,\"yref\":\"y\"},{\"font\":{\"color\":\"#000000\"},\"showarrow\":false,\"text\":\"0.1\",\"x\":0,\"xref\":\"x\",\"y\":1,\"yref\":\"y\"},{\"font\":{\"color\":\"#FFFFFF\"},\"showarrow\":false,\"text\":\"1.0\",\"x\":1,\"xref\":\"x\",\"y\":1,\"yref\":\"y\"},{\"font\":{\"color\":\"#000000\"},\"showarrow\":false,\"text\":\"0.0\",\"x\":2,\"xref\":\"x\",\"y\":1,\"yref\":\"y\"},{\"font\":{\"color\":\"#000000\"},\"showarrow\":false,\"text\":\"0.02\",\"x\":3,\"xref\":\"x\",\"y\":1,\"yref\":\"y\"},{\"font\":{\"color\":\"#000000\"},\"showarrow\":false,\"text\":\"0.01\",\"x\":4,\"xref\":\"x\",\"y\":1,\"yref\":\"y\"},{\"font\":{\"color\":\"#000000\"},\"showarrow\":false,\"text\":\"0.0\",\"x\":5,\"xref\":\"x\",\"y\":1,\"yref\":\"y\"},{\"font\":{\"color\":\"#000000\"},\"showarrow\":false,\"text\":\"0.02\",\"x\":6,\"xref\":\"x\",\"y\":1,\"yref\":\"y\"},{\"font\":{\"color\":\"#000000\"},\"showarrow\":false,\"text\":\"0.1\",\"x\":7,\"xref\":\"x\",\"y\":1,\"yref\":\"y\"},{\"font\":{\"color\":\"#000000\"},\"showarrow\":false,\"text\":\"0.03\",\"x\":8,\"xref\":\"x\",\"y\":1,\"yref\":\"y\"},{\"font\":{\"color\":\"#000000\"},\"showarrow\":false,\"text\":\"0.09\",\"x\":9,\"xref\":\"x\",\"y\":1,\"yref\":\"y\"},{\"font\":{\"color\":\"#000000\"},\"showarrow\":false,\"text\":\"0.07\",\"x\":10,\"xref\":\"x\",\"y\":1,\"yref\":\"y\"},{\"font\":{\"color\":\"#000000\"},\"showarrow\":false,\"text\":\"0.07\",\"x\":11,\"xref\":\"x\",\"y\":1,\"yref\":\"y\"},{\"font\":{\"color\":\"#000000\"},\"showarrow\":false,\"text\":\"0.08\",\"x\":12,\"xref\":\"x\",\"y\":1,\"yref\":\"y\"},{\"font\":{\"color\":\"#000000\"},\"showarrow\":false,\"text\":\"0.05\",\"x\":13,\"xref\":\"x\",\"y\":1,\"yref\":\"y\"},{\"font\":{\"color\":\"#000000\"},\"showarrow\":false,\"text\":\"0.16\",\"x\":14,\"xref\":\"x\",\"y\":1,\"yref\":\"y\"},{\"font\":{\"color\":\"#000000\"},\"showarrow\":false,\"text\":\"0.04\",\"x\":15,\"xref\":\"x\",\"y\":1,\"yref\":\"y\"},{\"font\":{\"color\":\"#000000\"},\"showarrow\":false,\"text\":\"0.01\",\"x\":0,\"xref\":\"x\",\"y\":2,\"yref\":\"y\"},{\"font\":{\"color\":\"#000000\"},\"showarrow\":false,\"text\":\"0.0\",\"x\":1,\"xref\":\"x\",\"y\":2,\"yref\":\"y\"},{\"font\":{\"color\":\"#FFFFFF\"},\"showarrow\":false,\"text\":\"1.0\",\"x\":2,\"xref\":\"x\",\"y\":2,\"yref\":\"y\"},{\"font\":{\"color\":\"#000000\"},\"showarrow\":false,\"text\":\"0.03\",\"x\":3,\"xref\":\"x\",\"y\":2,\"yref\":\"y\"},{\"font\":{\"color\":\"#000000\"},\"showarrow\":false,\"text\":\"0.16\",\"x\":4,\"xref\":\"x\",\"y\":2,\"yref\":\"y\"},{\"font\":{\"color\":\"#000000\"},\"showarrow\":false,\"text\":\"0.09\",\"x\":5,\"xref\":\"x\",\"y\":2,\"yref\":\"y\"},{\"font\":{\"color\":\"#000000\"},\"showarrow\":false,\"text\":\"0.05\",\"x\":6,\"xref\":\"x\",\"y\":2,\"yref\":\"y\"},{\"font\":{\"color\":\"#000000\"},\"showarrow\":false,\"text\":\"0.05\",\"x\":7,\"xref\":\"x\",\"y\":2,\"yref\":\"y\"},{\"font\":{\"color\":\"#000000\"},\"showarrow\":false,\"text\":\"0.01\",\"x\":8,\"xref\":\"x\",\"y\":2,\"yref\":\"y\"},{\"font\":{\"color\":\"#000000\"},\"showarrow\":false,\"text\":\"0.03\",\"x\":9,\"xref\":\"x\",\"y\":2,\"yref\":\"y\"},{\"font\":{\"color\":\"#000000\"},\"showarrow\":false,\"text\":\"0.01\",\"x\":10,\"xref\":\"x\",\"y\":2,\"yref\":\"y\"},{\"font\":{\"color\":\"#000000\"},\"showarrow\":false,\"text\":\"0.03\",\"x\":11,\"xref\":\"x\",\"y\":2,\"yref\":\"y\"},{\"font\":{\"color\":\"#000000\"},\"showarrow\":false,\"text\":\"0.01\",\"x\":12,\"xref\":\"x\",\"y\":2,\"yref\":\"y\"},{\"font\":{\"color\":\"#000000\"},\"showarrow\":false,\"text\":\"0.04\",\"x\":13,\"xref\":\"x\",\"y\":2,\"yref\":\"y\"},{\"font\":{\"color\":\"#000000\"},\"showarrow\":false,\"text\":\"0.45\",\"x\":14,\"xref\":\"x\",\"y\":2,\"yref\":\"y\"},{\"font\":{\"color\":\"#000000\"},\"showarrow\":false,\"text\":\"0.09\",\"x\":15,\"xref\":\"x\",\"y\":2,\"yref\":\"y\"},{\"font\":{\"color\":\"#000000\"},\"showarrow\":false,\"text\":\"0.0\",\"x\":0,\"xref\":\"x\",\"y\":3,\"yref\":\"y\"},{\"font\":{\"color\":\"#000000\"},\"showarrow\":false,\"text\":\"0.02\",\"x\":1,\"xref\":\"x\",\"y\":3,\"yref\":\"y\"},{\"font\":{\"color\":\"#000000\"},\"showarrow\":false,\"text\":\"0.03\",\"x\":2,\"xref\":\"x\",\"y\":3,\"yref\":\"y\"},{\"font\":{\"color\":\"#FFFFFF\"},\"showarrow\":false,\"text\":\"1.0\",\"x\":3,\"xref\":\"x\",\"y\":3,\"yref\":\"y\"},{\"font\":{\"color\":\"#000000\"},\"showarrow\":false,\"text\":\"0.08\",\"x\":4,\"xref\":\"x\",\"y\":3,\"yref\":\"y\"},{\"font\":{\"color\":\"#000000\"},\"showarrow\":false,\"text\":\"0.0\",\"x\":5,\"xref\":\"x\",\"y\":3,\"yref\":\"y\"},{\"font\":{\"color\":\"#000000\"},\"showarrow\":false,\"text\":\"0.0\",\"x\":6,\"xref\":\"x\",\"y\":3,\"yref\":\"y\"},{\"font\":{\"color\":\"#000000\"},\"showarrow\":false,\"text\":\"0.04\",\"x\":7,\"xref\":\"x\",\"y\":3,\"yref\":\"y\"},{\"font\":{\"color\":\"#000000\"},\"showarrow\":false,\"text\":\"0.02\",\"x\":8,\"xref\":\"x\",\"y\":3,\"yref\":\"y\"},{\"font\":{\"color\":\"#000000\"},\"showarrow\":false,\"text\":\"0.0\",\"x\":9,\"xref\":\"x\",\"y\":3,\"yref\":\"y\"},{\"font\":{\"color\":\"#000000\"},\"showarrow\":false,\"text\":\"0.01\",\"x\":10,\"xref\":\"x\",\"y\":3,\"yref\":\"y\"},{\"font\":{\"color\":\"#000000\"},\"showarrow\":false,\"text\":\"0.01\",\"x\":11,\"xref\":\"x\",\"y\":3,\"yref\":\"y\"},{\"font\":{\"color\":\"#000000\"},\"showarrow\":false,\"text\":\"0.01\",\"x\":12,\"xref\":\"x\",\"y\":3,\"yref\":\"y\"},{\"font\":{\"color\":\"#000000\"},\"showarrow\":false,\"text\":\"0.03\",\"x\":13,\"xref\":\"x\",\"y\":3,\"yref\":\"y\"},{\"font\":{\"color\":\"#000000\"},\"showarrow\":false,\"text\":\"0.07\",\"x\":14,\"xref\":\"x\",\"y\":3,\"yref\":\"y\"},{\"font\":{\"color\":\"#000000\"},\"showarrow\":false,\"text\":\"0.05\",\"x\":15,\"xref\":\"x\",\"y\":3,\"yref\":\"y\"},{\"font\":{\"color\":\"#000000\"},\"showarrow\":false,\"text\":\"0.0\",\"x\":0,\"xref\":\"x\",\"y\":4,\"yref\":\"y\"},{\"font\":{\"color\":\"#000000\"},\"showarrow\":false,\"text\":\"0.01\",\"x\":1,\"xref\":\"x\",\"y\":4,\"yref\":\"y\"},{\"font\":{\"color\":\"#000000\"},\"showarrow\":false,\"text\":\"0.16\",\"x\":2,\"xref\":\"x\",\"y\":4,\"yref\":\"y\"},{\"font\":{\"color\":\"#000000\"},\"showarrow\":false,\"text\":\"0.08\",\"x\":3,\"xref\":\"x\",\"y\":4,\"yref\":\"y\"},{\"font\":{\"color\":\"#FFFFFF\"},\"showarrow\":false,\"text\":\"1.0\",\"x\":4,\"xref\":\"x\",\"y\":4,\"yref\":\"y\"},{\"font\":{\"color\":\"#000000\"},\"showarrow\":false,\"text\":\"0.09\",\"x\":5,\"xref\":\"x\",\"y\":4,\"yref\":\"y\"},{\"font\":{\"color\":\"#000000\"},\"showarrow\":false,\"text\":\"0.03\",\"x\":6,\"xref\":\"x\",\"y\":4,\"yref\":\"y\"},{\"font\":{\"color\":\"#000000\"},\"showarrow\":false,\"text\":\"0.06\",\"x\":7,\"xref\":\"x\",\"y\":4,\"yref\":\"y\"},{\"font\":{\"color\":\"#000000\"},\"showarrow\":false,\"text\":\"0.03\",\"x\":8,\"xref\":\"x\",\"y\":4,\"yref\":\"y\"},{\"font\":{\"color\":\"#000000\"},\"showarrow\":false,\"text\":\"0.02\",\"x\":9,\"xref\":\"x\",\"y\":4,\"yref\":\"y\"},{\"font\":{\"color\":\"#000000\"},\"showarrow\":false,\"text\":\"0.02\",\"x\":10,\"xref\":\"x\",\"y\":4,\"yref\":\"y\"},{\"font\":{\"color\":\"#000000\"},\"showarrow\":false,\"text\":\"0.02\",\"x\":11,\"xref\":\"x\",\"y\":4,\"yref\":\"y\"},{\"font\":{\"color\":\"#000000\"},\"showarrow\":false,\"text\":\"0.01\",\"x\":12,\"xref\":\"x\",\"y\":4,\"yref\":\"y\"},{\"font\":{\"color\":\"#000000\"},\"showarrow\":false,\"text\":\"0.06\",\"x\":13,\"xref\":\"x\",\"y\":4,\"yref\":\"y\"},{\"font\":{\"color\":\"#000000\"},\"showarrow\":false,\"text\":\"0.23\",\"x\":14,\"xref\":\"x\",\"y\":4,\"yref\":\"y\"},{\"font\":{\"color\":\"#000000\"},\"showarrow\":false,\"text\":\"0.11\",\"x\":15,\"xref\":\"x\",\"y\":4,\"yref\":\"y\"},{\"font\":{\"color\":\"#000000\"},\"showarrow\":false,\"text\":\"0.02\",\"x\":0,\"xref\":\"x\",\"y\":5,\"yref\":\"y\"},{\"font\":{\"color\":\"#000000\"},\"showarrow\":false,\"text\":\"0.0\",\"x\":1,\"xref\":\"x\",\"y\":5,\"yref\":\"y\"},{\"font\":{\"color\":\"#000000\"},\"showarrow\":false,\"text\":\"0.09\",\"x\":2,\"xref\":\"x\",\"y\":5,\"yref\":\"y\"},{\"font\":{\"color\":\"#000000\"},\"showarrow\":false,\"text\":\"0.0\",\"x\":3,\"xref\":\"x\",\"y\":5,\"yref\":\"y\"},{\"font\":{\"color\":\"#000000\"},\"showarrow\":false,\"text\":\"0.09\",\"x\":4,\"xref\":\"x\",\"y\":5,\"yref\":\"y\"},{\"font\":{\"color\":\"#FFFFFF\"},\"showarrow\":false,\"text\":\"1.0\",\"x\":5,\"xref\":\"x\",\"y\":5,\"yref\":\"y\"},{\"font\":{\"color\":\"#000000\"},\"showarrow\":false,\"text\":\"0.45\",\"x\":6,\"xref\":\"x\",\"y\":5,\"yref\":\"y\"},{\"font\":{\"color\":\"#000000\"},\"showarrow\":false,\"text\":\"0.06\",\"x\":7,\"xref\":\"x\",\"y\":5,\"yref\":\"y\"},{\"font\":{\"color\":\"#000000\"},\"showarrow\":false,\"text\":\"0.03\",\"x\":8,\"xref\":\"x\",\"y\":5,\"yref\":\"y\"},{\"font\":{\"color\":\"#000000\"},\"showarrow\":false,\"text\":\"0.02\",\"x\":9,\"xref\":\"x\",\"y\":5,\"yref\":\"y\"},{\"font\":{\"color\":\"#000000\"},\"showarrow\":false,\"text\":\"0.03\",\"x\":10,\"xref\":\"x\",\"y\":5,\"yref\":\"y\"},{\"font\":{\"color\":\"#000000\"},\"showarrow\":false,\"text\":\"0.12\",\"x\":11,\"xref\":\"x\",\"y\":5,\"yref\":\"y\"},{\"font\":{\"color\":\"#000000\"},\"showarrow\":false,\"text\":\"0.02\",\"x\":12,\"xref\":\"x\",\"y\":5,\"yref\":\"y\"},{\"font\":{\"color\":\"#000000\"},\"showarrow\":false,\"text\":\"0.25\",\"x\":13,\"xref\":\"x\",\"y\":5,\"yref\":\"y\"},{\"font\":{\"color\":\"#000000\"},\"showarrow\":false,\"text\":\"0.29\",\"x\":14,\"xref\":\"x\",\"y\":5,\"yref\":\"y\"},{\"font\":{\"color\":\"#FFFFFF\"},\"showarrow\":false,\"text\":\"0.88\",\"x\":15,\"xref\":\"x\",\"y\":5,\"yref\":\"y\"},{\"font\":{\"color\":\"#000000\"},\"showarrow\":false,\"text\":\"0.0\",\"x\":0,\"xref\":\"x\",\"y\":6,\"yref\":\"y\"},{\"font\":{\"color\":\"#000000\"},\"showarrow\":false,\"text\":\"0.02\",\"x\":1,\"xref\":\"x\",\"y\":6,\"yref\":\"y\"},{\"font\":{\"color\":\"#000000\"},\"showarrow\":false,\"text\":\"0.05\",\"x\":2,\"xref\":\"x\",\"y\":6,\"yref\":\"y\"},{\"font\":{\"color\":\"#000000\"},\"showarrow\":false,\"text\":\"0.0\",\"x\":3,\"xref\":\"x\",\"y\":6,\"yref\":\"y\"},{\"font\":{\"color\":\"#000000\"},\"showarrow\":false,\"text\":\"0.03\",\"x\":4,\"xref\":\"x\",\"y\":6,\"yref\":\"y\"},{\"font\":{\"color\":\"#000000\"},\"showarrow\":false,\"text\":\"0.45\",\"x\":5,\"xref\":\"x\",\"y\":6,\"yref\":\"y\"},{\"font\":{\"color\":\"#FFFFFF\"},\"showarrow\":false,\"text\":\"1.0\",\"x\":6,\"xref\":\"x\",\"y\":6,\"yref\":\"y\"},{\"font\":{\"color\":\"#000000\"},\"showarrow\":false,\"text\":\"0.04\",\"x\":7,\"xref\":\"x\",\"y\":6,\"yref\":\"y\"},{\"font\":{\"color\":\"#000000\"},\"showarrow\":false,\"text\":\"0.02\",\"x\":8,\"xref\":\"x\",\"y\":6,\"yref\":\"y\"},{\"font\":{\"color\":\"#000000\"},\"showarrow\":false,\"text\":\"0.03\",\"x\":9,\"xref\":\"x\",\"y\":6,\"yref\":\"y\"},{\"font\":{\"color\":\"#000000\"},\"showarrow\":false,\"text\":\"0.02\",\"x\":10,\"xref\":\"x\",\"y\":6,\"yref\":\"y\"},{\"font\":{\"color\":\"#000000\"},\"showarrow\":false,\"text\":\"0.04\",\"x\":11,\"xref\":\"x\",\"y\":6,\"yref\":\"y\"},{\"font\":{\"color\":\"#000000\"},\"showarrow\":false,\"text\":\"0.01\",\"x\":12,\"xref\":\"x\",\"y\":6,\"yref\":\"y\"},{\"font\":{\"color\":\"#000000\"},\"showarrow\":false,\"text\":\"0.15\",\"x\":13,\"xref\":\"x\",\"y\":6,\"yref\":\"y\"},{\"font\":{\"color\":\"#000000\"},\"showarrow\":false,\"text\":\"0.18\",\"x\":14,\"xref\":\"x\",\"y\":6,\"yref\":\"y\"},{\"font\":{\"color\":\"#FFFFFF\"},\"showarrow\":false,\"text\":\"0.54\",\"x\":15,\"xref\":\"x\",\"y\":6,\"yref\":\"y\"},{\"font\":{\"color\":\"#FFFFFF\"},\"showarrow\":false,\"text\":\"0.5\",\"x\":0,\"xref\":\"x\",\"y\":7,\"yref\":\"y\"},{\"font\":{\"color\":\"#000000\"},\"showarrow\":false,\"text\":\"0.1\",\"x\":1,\"xref\":\"x\",\"y\":7,\"yref\":\"y\"},{\"font\":{\"color\":\"#000000\"},\"showarrow\":false,\"text\":\"0.05\",\"x\":2,\"xref\":\"x\",\"y\":7,\"yref\":\"y\"},{\"font\":{\"color\":\"#000000\"},\"showarrow\":false,\"text\":\"0.04\",\"x\":3,\"xref\":\"x\",\"y\":7,\"yref\":\"y\"},{\"font\":{\"color\":\"#000000\"},\"showarrow\":false,\"text\":\"0.06\",\"x\":4,\"xref\":\"x\",\"y\":7,\"yref\":\"y\"},{\"font\":{\"color\":\"#000000\"},\"showarrow\":false,\"text\":\"0.06\",\"x\":5,\"xref\":\"x\",\"y\":7,\"yref\":\"y\"},{\"font\":{\"color\":\"#000000\"},\"showarrow\":false,\"text\":\"0.04\",\"x\":6,\"xref\":\"x\",\"y\":7,\"yref\":\"y\"},{\"font\":{\"color\":\"#FFFFFF\"},\"showarrow\":false,\"text\":\"1.0\",\"x\":7,\"xref\":\"x\",\"y\":7,\"yref\":\"y\"},{\"font\":{\"color\":\"#000000\"},\"showarrow\":false,\"text\":\"0.21\",\"x\":8,\"xref\":\"x\",\"y\":7,\"yref\":\"y\"},{\"font\":{\"color\":\"#000000\"},\"showarrow\":false,\"text\":\"0.46\",\"x\":9,\"xref\":\"x\",\"y\":7,\"yref\":\"y\"},{\"font\":{\"color\":\"#000000\"},\"showarrow\":false,\"text\":\"0.04\",\"x\":10,\"xref\":\"x\",\"y\":7,\"yref\":\"y\"},{\"font\":{\"color\":\"#000000\"},\"showarrow\":false,\"text\":\"0.28\",\"x\":11,\"xref\":\"x\",\"y\":7,\"yref\":\"y\"},{\"font\":{\"color\":\"#000000\"},\"showarrow\":false,\"text\":\"0.11\",\"x\":12,\"xref\":\"x\",\"y\":7,\"yref\":\"y\"},{\"font\":{\"color\":\"#000000\"},\"showarrow\":false,\"text\":\"0.15\",\"x\":13,\"xref\":\"x\",\"y\":7,\"yref\":\"y\"},{\"font\":{\"color\":\"#000000\"},\"showarrow\":false,\"text\":\"0.11\",\"x\":14,\"xref\":\"x\",\"y\":7,\"yref\":\"y\"},{\"font\":{\"color\":\"#000000\"},\"showarrow\":false,\"text\":\"0.06\",\"x\":15,\"xref\":\"x\",\"y\":7,\"yref\":\"y\"},{\"font\":{\"color\":\"#000000\"},\"showarrow\":false,\"text\":\"0.43\",\"x\":0,\"xref\":\"x\",\"y\":8,\"yref\":\"y\"},{\"font\":{\"color\":\"#000000\"},\"showarrow\":false,\"text\":\"0.03\",\"x\":1,\"xref\":\"x\",\"y\":8,\"yref\":\"y\"},{\"font\":{\"color\":\"#000000\"},\"showarrow\":false,\"text\":\"0.01\",\"x\":2,\"xref\":\"x\",\"y\":8,\"yref\":\"y\"},{\"font\":{\"color\":\"#000000\"},\"showarrow\":false,\"text\":\"0.02\",\"x\":3,\"xref\":\"x\",\"y\":8,\"yref\":\"y\"},{\"font\":{\"color\":\"#000000\"},\"showarrow\":false,\"text\":\"0.03\",\"x\":4,\"xref\":\"x\",\"y\":8,\"yref\":\"y\"},{\"font\":{\"color\":\"#000000\"},\"showarrow\":false,\"text\":\"0.03\",\"x\":5,\"xref\":\"x\",\"y\":8,\"yref\":\"y\"},{\"font\":{\"color\":\"#000000\"},\"showarrow\":false,\"text\":\"0.02\",\"x\":6,\"xref\":\"x\",\"y\":8,\"yref\":\"y\"},{\"font\":{\"color\":\"#000000\"},\"showarrow\":false,\"text\":\"0.21\",\"x\":7,\"xref\":\"x\",\"y\":8,\"yref\":\"y\"},{\"font\":{\"color\":\"#FFFFFF\"},\"showarrow\":false,\"text\":\"1.0\",\"x\":8,\"xref\":\"x\",\"y\":8,\"yref\":\"y\"},{\"font\":{\"color\":\"#000000\"},\"showarrow\":false,\"text\":\"0.12\",\"x\":9,\"xref\":\"x\",\"y\":8,\"yref\":\"y\"},{\"font\":{\"color\":\"#000000\"},\"showarrow\":false,\"text\":\"0.02\",\"x\":10,\"xref\":\"x\",\"y\":8,\"yref\":\"y\"},{\"font\":{\"color\":\"#000000\"},\"showarrow\":false,\"text\":\"0.02\",\"x\":11,\"xref\":\"x\",\"y\":8,\"yref\":\"y\"},{\"font\":{\"color\":\"#000000\"},\"showarrow\":false,\"text\":\"0.05\",\"x\":12,\"xref\":\"x\",\"y\":8,\"yref\":\"y\"},{\"font\":{\"color\":\"#000000\"},\"showarrow\":false,\"text\":\"0.05\",\"x\":13,\"xref\":\"x\",\"y\":8,\"yref\":\"y\"},{\"font\":{\"color\":\"#000000\"},\"showarrow\":false,\"text\":\"0.07\",\"x\":14,\"xref\":\"x\",\"y\":8,\"yref\":\"y\"},{\"font\":{\"color\":\"#000000\"},\"showarrow\":false,\"text\":\"0.03\",\"x\":15,\"xref\":\"x\",\"y\":8,\"yref\":\"y\"},{\"font\":{\"color\":\"#000000\"},\"showarrow\":false,\"text\":\"0.22\",\"x\":0,\"xref\":\"x\",\"y\":9,\"yref\":\"y\"},{\"font\":{\"color\":\"#000000\"},\"showarrow\":false,\"text\":\"0.09\",\"x\":1,\"xref\":\"x\",\"y\":9,\"yref\":\"y\"},{\"font\":{\"color\":\"#000000\"},\"showarrow\":false,\"text\":\"0.03\",\"x\":2,\"xref\":\"x\",\"y\":9,\"yref\":\"y\"},{\"font\":{\"color\":\"#000000\"},\"showarrow\":false,\"text\":\"0.0\",\"x\":3,\"xref\":\"x\",\"y\":9,\"yref\":\"y\"},{\"font\":{\"color\":\"#000000\"},\"showarrow\":false,\"text\":\"0.02\",\"x\":4,\"xref\":\"x\",\"y\":9,\"yref\":\"y\"},{\"font\":{\"color\":\"#000000\"},\"showarrow\":false,\"text\":\"0.02\",\"x\":5,\"xref\":\"x\",\"y\":9,\"yref\":\"y\"},{\"font\":{\"color\":\"#000000\"},\"showarrow\":false,\"text\":\"0.03\",\"x\":6,\"xref\":\"x\",\"y\":9,\"yref\":\"y\"},{\"font\":{\"color\":\"#000000\"},\"showarrow\":false,\"text\":\"0.46\",\"x\":7,\"xref\":\"x\",\"y\":9,\"yref\":\"y\"},{\"font\":{\"color\":\"#000000\"},\"showarrow\":false,\"text\":\"0.12\",\"x\":8,\"xref\":\"x\",\"y\":9,\"yref\":\"y\"},{\"font\":{\"color\":\"#FFFFFF\"},\"showarrow\":false,\"text\":\"1.0\",\"x\":9,\"xref\":\"x\",\"y\":9,\"yref\":\"y\"},{\"font\":{\"color\":\"#000000\"},\"showarrow\":false,\"text\":\"0.02\",\"x\":10,\"xref\":\"x\",\"y\":9,\"yref\":\"y\"},{\"font\":{\"color\":\"#000000\"},\"showarrow\":false,\"text\":\"0.12\",\"x\":11,\"xref\":\"x\",\"y\":9,\"yref\":\"y\"},{\"font\":{\"color\":\"#000000\"},\"showarrow\":false,\"text\":\"0.08\",\"x\":12,\"xref\":\"x\",\"y\":9,\"yref\":\"y\"},{\"font\":{\"color\":\"#000000\"},\"showarrow\":false,\"text\":\"0.12\",\"x\":13,\"xref\":\"x\",\"y\":9,\"yref\":\"y\"},{\"font\":{\"color\":\"#000000\"},\"showarrow\":false,\"text\":\"0.11\",\"x\":14,\"xref\":\"x\",\"y\":9,\"yref\":\"y\"},{\"font\":{\"color\":\"#000000\"},\"showarrow\":false,\"text\":\"0.04\",\"x\":15,\"xref\":\"x\",\"y\":9,\"yref\":\"y\"},{\"font\":{\"color\":\"#000000\"},\"showarrow\":false,\"text\":\"0.02\",\"x\":0,\"xref\":\"x\",\"y\":10,\"yref\":\"y\"},{\"font\":{\"color\":\"#000000\"},\"showarrow\":false,\"text\":\"0.07\",\"x\":1,\"xref\":\"x\",\"y\":10,\"yref\":\"y\"},{\"font\":{\"color\":\"#000000\"},\"showarrow\":false,\"text\":\"0.01\",\"x\":2,\"xref\":\"x\",\"y\":10,\"yref\":\"y\"},{\"font\":{\"color\":\"#000000\"},\"showarrow\":false,\"text\":\"0.01\",\"x\":3,\"xref\":\"x\",\"y\":10,\"yref\":\"y\"},{\"font\":{\"color\":\"#000000\"},\"showarrow\":false,\"text\":\"0.02\",\"x\":4,\"xref\":\"x\",\"y\":10,\"yref\":\"y\"},{\"font\":{\"color\":\"#000000\"},\"showarrow\":false,\"text\":\"0.03\",\"x\":5,\"xref\":\"x\",\"y\":10,\"yref\":\"y\"},{\"font\":{\"color\":\"#000000\"},\"showarrow\":false,\"text\":\"0.02\",\"x\":6,\"xref\":\"x\",\"y\":10,\"yref\":\"y\"},{\"font\":{\"color\":\"#000000\"},\"showarrow\":false,\"text\":\"0.04\",\"x\":7,\"xref\":\"x\",\"y\":10,\"yref\":\"y\"},{\"font\":{\"color\":\"#000000\"},\"showarrow\":false,\"text\":\"0.02\",\"x\":8,\"xref\":\"x\",\"y\":10,\"yref\":\"y\"},{\"font\":{\"color\":\"#000000\"},\"showarrow\":false,\"text\":\"0.02\",\"x\":9,\"xref\":\"x\",\"y\":10,\"yref\":\"y\"},{\"font\":{\"color\":\"#FFFFFF\"},\"showarrow\":false,\"text\":\"1.0\",\"x\":10,\"xref\":\"x\",\"y\":10,\"yref\":\"y\"},{\"font\":{\"color\":\"#000000\"},\"showarrow\":false,\"text\":\"0.01\",\"x\":11,\"xref\":\"x\",\"y\":10,\"yref\":\"y\"},{\"font\":{\"color\":\"#000000\"},\"showarrow\":false,\"text\":\"0.08\",\"x\":12,\"xref\":\"x\",\"y\":10,\"yref\":\"y\"},{\"font\":{\"color\":\"#000000\"},\"showarrow\":false,\"text\":\"0.02\",\"x\":13,\"xref\":\"x\",\"y\":10,\"yref\":\"y\"},{\"font\":{\"color\":\"#000000\"},\"showarrow\":false,\"text\":\"0.06\",\"x\":14,\"xref\":\"x\",\"y\":10,\"yref\":\"y\"},{\"font\":{\"color\":\"#000000\"},\"showarrow\":false,\"text\":\"0.04\",\"x\":15,\"xref\":\"x\",\"y\":10,\"yref\":\"y\"},{\"font\":{\"color\":\"#000000\"},\"showarrow\":false,\"text\":\"0.19\",\"x\":0,\"xref\":\"x\",\"y\":11,\"yref\":\"y\"},{\"font\":{\"color\":\"#000000\"},\"showarrow\":false,\"text\":\"0.07\",\"x\":1,\"xref\":\"x\",\"y\":11,\"yref\":\"y\"},{\"font\":{\"color\":\"#000000\"},\"showarrow\":false,\"text\":\"0.03\",\"x\":2,\"xref\":\"x\",\"y\":11,\"yref\":\"y\"},{\"font\":{\"color\":\"#000000\"},\"showarrow\":false,\"text\":\"0.01\",\"x\":3,\"xref\":\"x\",\"y\":11,\"yref\":\"y\"},{\"font\":{\"color\":\"#000000\"},\"showarrow\":false,\"text\":\"0.02\",\"x\":4,\"xref\":\"x\",\"y\":11,\"yref\":\"y\"},{\"font\":{\"color\":\"#000000\"},\"showarrow\":false,\"text\":\"0.12\",\"x\":5,\"xref\":\"x\",\"y\":11,\"yref\":\"y\"},{\"font\":{\"color\":\"#000000\"},\"showarrow\":false,\"text\":\"0.04\",\"x\":6,\"xref\":\"x\",\"y\":11,\"yref\":\"y\"},{\"font\":{\"color\":\"#000000\"},\"showarrow\":false,\"text\":\"0.28\",\"x\":7,\"xref\":\"x\",\"y\":11,\"yref\":\"y\"},{\"font\":{\"color\":\"#000000\"},\"showarrow\":false,\"text\":\"0.02\",\"x\":8,\"xref\":\"x\",\"y\":11,\"yref\":\"y\"},{\"font\":{\"color\":\"#000000\"},\"showarrow\":false,\"text\":\"0.12\",\"x\":9,\"xref\":\"x\",\"y\":11,\"yref\":\"y\"},{\"font\":{\"color\":\"#000000\"},\"showarrow\":false,\"text\":\"0.01\",\"x\":10,\"xref\":\"x\",\"y\":11,\"yref\":\"y\"},{\"font\":{\"color\":\"#FFFFFF\"},\"showarrow\":false,\"text\":\"1.0\",\"x\":11,\"xref\":\"x\",\"y\":11,\"yref\":\"y\"},{\"font\":{\"color\":\"#000000\"},\"showarrow\":false,\"text\":\"0.04\",\"x\":12,\"xref\":\"x\",\"y\":11,\"yref\":\"y\"},{\"font\":{\"color\":\"#000000\"},\"showarrow\":false,\"text\":\"0.21\",\"x\":13,\"xref\":\"x\",\"y\":11,\"yref\":\"y\"},{\"font\":{\"color\":\"#FFFFFF\"},\"showarrow\":false,\"text\":\"0.5\",\"x\":14,\"xref\":\"x\",\"y\":11,\"yref\":\"y\"},{\"font\":{\"color\":\"#000000\"},\"showarrow\":false,\"text\":\"0.14\",\"x\":15,\"xref\":\"x\",\"y\":11,\"yref\":\"y\"},{\"font\":{\"color\":\"#000000\"},\"showarrow\":false,\"text\":\"0.02\",\"x\":0,\"xref\":\"x\",\"y\":12,\"yref\":\"y\"},{\"font\":{\"color\":\"#000000\"},\"showarrow\":false,\"text\":\"0.08\",\"x\":1,\"xref\":\"x\",\"y\":12,\"yref\":\"y\"},{\"font\":{\"color\":\"#000000\"},\"showarrow\":false,\"text\":\"0.01\",\"x\":2,\"xref\":\"x\",\"y\":12,\"yref\":\"y\"},{\"font\":{\"color\":\"#000000\"},\"showarrow\":false,\"text\":\"0.01\",\"x\":3,\"xref\":\"x\",\"y\":12,\"yref\":\"y\"},{\"font\":{\"color\":\"#000000\"},\"showarrow\":false,\"text\":\"0.01\",\"x\":4,\"xref\":\"x\",\"y\":12,\"yref\":\"y\"},{\"font\":{\"color\":\"#000000\"},\"showarrow\":false,\"text\":\"0.02\",\"x\":5,\"xref\":\"x\",\"y\":12,\"yref\":\"y\"},{\"font\":{\"color\":\"#000000\"},\"showarrow\":false,\"text\":\"0.01\",\"x\":6,\"xref\":\"x\",\"y\":12,\"yref\":\"y\"},{\"font\":{\"color\":\"#000000\"},\"showarrow\":false,\"text\":\"0.11\",\"x\":7,\"xref\":\"x\",\"y\":12,\"yref\":\"y\"},{\"font\":{\"color\":\"#000000\"},\"showarrow\":false,\"text\":\"0.05\",\"x\":8,\"xref\":\"x\",\"y\":12,\"yref\":\"y\"},{\"font\":{\"color\":\"#000000\"},\"showarrow\":false,\"text\":\"0.08\",\"x\":9,\"xref\":\"x\",\"y\":12,\"yref\":\"y\"},{\"font\":{\"color\":\"#000000\"},\"showarrow\":false,\"text\":\"0.08\",\"x\":10,\"xref\":\"x\",\"y\":12,\"yref\":\"y\"},{\"font\":{\"color\":\"#000000\"},\"showarrow\":false,\"text\":\"0.04\",\"x\":11,\"xref\":\"x\",\"y\":12,\"yref\":\"y\"},{\"font\":{\"color\":\"#FFFFFF\"},\"showarrow\":false,\"text\":\"1.0\",\"x\":12,\"xref\":\"x\",\"y\":12,\"yref\":\"y\"},{\"font\":{\"color\":\"#000000\"},\"showarrow\":false,\"text\":\"0.02\",\"x\":13,\"xref\":\"x\",\"y\":12,\"yref\":\"y\"},{\"font\":{\"color\":\"#000000\"},\"showarrow\":false,\"text\":\"0.18\",\"x\":14,\"xref\":\"x\",\"y\":12,\"yref\":\"y\"},{\"font\":{\"color\":\"#000000\"},\"showarrow\":false,\"text\":\"0.06\",\"x\":15,\"xref\":\"x\",\"y\":12,\"yref\":\"y\"},{\"font\":{\"color\":\"#000000\"},\"showarrow\":false,\"text\":\"0.17\",\"x\":0,\"xref\":\"x\",\"y\":13,\"yref\":\"y\"},{\"font\":{\"color\":\"#000000\"},\"showarrow\":false,\"text\":\"0.05\",\"x\":1,\"xref\":\"x\",\"y\":13,\"yref\":\"y\"},{\"font\":{\"color\":\"#000000\"},\"showarrow\":false,\"text\":\"0.04\",\"x\":2,\"xref\":\"x\",\"y\":13,\"yref\":\"y\"},{\"font\":{\"color\":\"#000000\"},\"showarrow\":false,\"text\":\"0.03\",\"x\":3,\"xref\":\"x\",\"y\":13,\"yref\":\"y\"},{\"font\":{\"color\":\"#000000\"},\"showarrow\":false,\"text\":\"0.06\",\"x\":4,\"xref\":\"x\",\"y\":13,\"yref\":\"y\"},{\"font\":{\"color\":\"#000000\"},\"showarrow\":false,\"text\":\"0.25\",\"x\":5,\"xref\":\"x\",\"y\":13,\"yref\":\"y\"},{\"font\":{\"color\":\"#000000\"},\"showarrow\":false,\"text\":\"0.15\",\"x\":6,\"xref\":\"x\",\"y\":13,\"yref\":\"y\"},{\"font\":{\"color\":\"#000000\"},\"showarrow\":false,\"text\":\"0.15\",\"x\":7,\"xref\":\"x\",\"y\":13,\"yref\":\"y\"},{\"font\":{\"color\":\"#000000\"},\"showarrow\":false,\"text\":\"0.05\",\"x\":8,\"xref\":\"x\",\"y\":13,\"yref\":\"y\"},{\"font\":{\"color\":\"#000000\"},\"showarrow\":false,\"text\":\"0.12\",\"x\":9,\"xref\":\"x\",\"y\":13,\"yref\":\"y\"},{\"font\":{\"color\":\"#000000\"},\"showarrow\":false,\"text\":\"0.02\",\"x\":10,\"xref\":\"x\",\"y\":13,\"yref\":\"y\"},{\"font\":{\"color\":\"#000000\"},\"showarrow\":false,\"text\":\"0.21\",\"x\":11,\"xref\":\"x\",\"y\":13,\"yref\":\"y\"},{\"font\":{\"color\":\"#000000\"},\"showarrow\":false,\"text\":\"0.02\",\"x\":12,\"xref\":\"x\",\"y\":13,\"yref\":\"y\"},{\"font\":{\"color\":\"#FFFFFF\"},\"showarrow\":false,\"text\":\"1.0\",\"x\":13,\"xref\":\"x\",\"y\":13,\"yref\":\"y\"},{\"font\":{\"color\":\"#FFFFFF\"},\"showarrow\":false,\"text\":\"0.51\",\"x\":14,\"xref\":\"x\",\"y\":13,\"yref\":\"y\"},{\"font\":{\"color\":\"#000000\"},\"showarrow\":false,\"text\":\"0.21\",\"x\":15,\"xref\":\"x\",\"y\":13,\"yref\":\"y\"},{\"font\":{\"color\":\"#000000\"},\"showarrow\":false,\"text\":\"0.16\",\"x\":0,\"xref\":\"x\",\"y\":14,\"yref\":\"y\"},{\"font\":{\"color\":\"#000000\"},\"showarrow\":false,\"text\":\"0.16\",\"x\":1,\"xref\":\"x\",\"y\":14,\"yref\":\"y\"},{\"font\":{\"color\":\"#000000\"},\"showarrow\":false,\"text\":\"0.45\",\"x\":2,\"xref\":\"x\",\"y\":14,\"yref\":\"y\"},{\"font\":{\"color\":\"#000000\"},\"showarrow\":false,\"text\":\"0.07\",\"x\":3,\"xref\":\"x\",\"y\":14,\"yref\":\"y\"},{\"font\":{\"color\":\"#000000\"},\"showarrow\":false,\"text\":\"0.23\",\"x\":4,\"xref\":\"x\",\"y\":14,\"yref\":\"y\"},{\"font\":{\"color\":\"#000000\"},\"showarrow\":false,\"text\":\"0.29\",\"x\":5,\"xref\":\"x\",\"y\":14,\"yref\":\"y\"},{\"font\":{\"color\":\"#000000\"},\"showarrow\":false,\"text\":\"0.18\",\"x\":6,\"xref\":\"x\",\"y\":14,\"yref\":\"y\"},{\"font\":{\"color\":\"#000000\"},\"showarrow\":false,\"text\":\"0.11\",\"x\":7,\"xref\":\"x\",\"y\":14,\"yref\":\"y\"},{\"font\":{\"color\":\"#000000\"},\"showarrow\":false,\"text\":\"0.07\",\"x\":8,\"xref\":\"x\",\"y\":14,\"yref\":\"y\"},{\"font\":{\"color\":\"#000000\"},\"showarrow\":false,\"text\":\"0.11\",\"x\":9,\"xref\":\"x\",\"y\":14,\"yref\":\"y\"},{\"font\":{\"color\":\"#000000\"},\"showarrow\":false,\"text\":\"0.06\",\"x\":10,\"xref\":\"x\",\"y\":14,\"yref\":\"y\"},{\"font\":{\"color\":\"#FFFFFF\"},\"showarrow\":false,\"text\":\"0.5\",\"x\":11,\"xref\":\"x\",\"y\":14,\"yref\":\"y\"},{\"font\":{\"color\":\"#000000\"},\"showarrow\":false,\"text\":\"0.18\",\"x\":12,\"xref\":\"x\",\"y\":14,\"yref\":\"y\"},{\"font\":{\"color\":\"#FFFFFF\"},\"showarrow\":false,\"text\":\"0.51\",\"x\":13,\"xref\":\"x\",\"y\":14,\"yref\":\"y\"},{\"font\":{\"color\":\"#FFFFFF\"},\"showarrow\":false,\"text\":\"1.0\",\"x\":14,\"xref\":\"x\",\"y\":14,\"yref\":\"y\"},{\"font\":{\"color\":\"#000000\"},\"showarrow\":false,\"text\":\"0.21\",\"x\":15,\"xref\":\"x\",\"y\":14,\"yref\":\"y\"},{\"font\":{\"color\":\"#000000\"},\"showarrow\":false,\"text\":\"0.04\",\"x\":0,\"xref\":\"x\",\"y\":15,\"yref\":\"y\"},{\"font\":{\"color\":\"#000000\"},\"showarrow\":false,\"text\":\"0.04\",\"x\":1,\"xref\":\"x\",\"y\":15,\"yref\":\"y\"},{\"font\":{\"color\":\"#000000\"},\"showarrow\":false,\"text\":\"0.09\",\"x\":2,\"xref\":\"x\",\"y\":15,\"yref\":\"y\"},{\"font\":{\"color\":\"#000000\"},\"showarrow\":false,\"text\":\"0.05\",\"x\":3,\"xref\":\"x\",\"y\":15,\"yref\":\"y\"},{\"font\":{\"color\":\"#000000\"},\"showarrow\":false,\"text\":\"0.11\",\"x\":4,\"xref\":\"x\",\"y\":15,\"yref\":\"y\"},{\"font\":{\"color\":\"#FFFFFF\"},\"showarrow\":false,\"text\":\"0.88\",\"x\":5,\"xref\":\"x\",\"y\":15,\"yref\":\"y\"},{\"font\":{\"color\":\"#FFFFFF\"},\"showarrow\":false,\"text\":\"0.54\",\"x\":6,\"xref\":\"x\",\"y\":15,\"yref\":\"y\"},{\"font\":{\"color\":\"#000000\"},\"showarrow\":false,\"text\":\"0.06\",\"x\":7,\"xref\":\"x\",\"y\":15,\"yref\":\"y\"},{\"font\":{\"color\":\"#000000\"},\"showarrow\":false,\"text\":\"0.03\",\"x\":8,\"xref\":\"x\",\"y\":15,\"yref\":\"y\"},{\"font\":{\"color\":\"#000000\"},\"showarrow\":false,\"text\":\"0.04\",\"x\":9,\"xref\":\"x\",\"y\":15,\"yref\":\"y\"},{\"font\":{\"color\":\"#000000\"},\"showarrow\":false,\"text\":\"0.04\",\"x\":10,\"xref\":\"x\",\"y\":15,\"yref\":\"y\"},{\"font\":{\"color\":\"#000000\"},\"showarrow\":false,\"text\":\"0.14\",\"x\":11,\"xref\":\"x\",\"y\":15,\"yref\":\"y\"},{\"font\":{\"color\":\"#000000\"},\"showarrow\":false,\"text\":\"0.06\",\"x\":12,\"xref\":\"x\",\"y\":15,\"yref\":\"y\"},{\"font\":{\"color\":\"#000000\"},\"showarrow\":false,\"text\":\"0.21\",\"x\":13,\"xref\":\"x\",\"y\":15,\"yref\":\"y\"},{\"font\":{\"color\":\"#000000\"},\"showarrow\":false,\"text\":\"0.21\",\"x\":14,\"xref\":\"x\",\"y\":15,\"yref\":\"y\"},{\"font\":{\"color\":\"#FFFFFF\"},\"showarrow\":false,\"text\":\"1.0\",\"x\":15,\"xref\":\"x\",\"y\":15,\"yref\":\"y\"}],\"paper_bgcolor\":\"rgba(0,0,0,0)\",\"plot_bgcolor\":\"rgba(238,238,238,0)\",\"updatemenus\":[{\"active\":0,\"bgcolor\":\"rgba(255,255,255,1)\",\"buttons\":[{\"args\":[{\"x\":[[0,1,2,3,4,5,6,7,8,9,10,11,12,13,14,15]],\"y\":[[0,1,2,3,4,5,6,7,8,9,10,11,12,13,14,15]],\"z\":[[[1.0,0.097782739371348,0.0091200456335523,0.0046484284706156,0.0047603117624537,0.0237580141117282,0.0012883192026692,0.5011291136256929,0.4334313328817917,0.215201208925847,0.0178793036087058,0.1855130815371743,0.0156552726566358,0.1705550091417664,0.1602179147820747,0.0418052846926059],[0.097782739371348,1.0,0.0045025851297185,0.0215603804946688,0.0145782788507662,0.0034353218681066,0.0166736367283579,0.1017757821030214,0.0281721114432671,0.0876566600280385,0.066745057113631,0.0687683156896658,0.0843502457312265,0.0493169409519651,0.1558414443790849,0.0395185384675558],[0.0091200456335523,0.0045025851297185,1.0,0.0302063411386519,0.1624902163261922,0.0930440737729404,0.0517104967358036,0.0476110096878106,0.0077227221767962,0.0259649069328426,0.0094238990984915,0.0279816493222859,0.01137015761615,0.0386666923936747,0.45164801400351,0.086581183091839],[0.0046484284706156,0.0215603804946688,0.0302063411386519,1.0,0.0845695027300617,0.0015647704813434,0.0012030569167003,0.0407742948641717,0.0231100128650697,0.0038058592063737,0.0100214613460636,0.005075449414075,0.0124119718236037,0.0296772734110411,0.0678939077521507,0.045409395257748],[0.0047603117624537,0.0145782788507662,0.1624902163261922,0.0845695027300617,1.0,0.0886276679156842,0.0328552896782795,0.0550356298570614,0.0314199241726727,0.020951672922716,0.0168215314222849,0.0235987068497175,0.0099798458977573,0.0556919140474517,0.231631512863582,0.112404509259099],[0.0237580141117282,0.0034353218681066,0.0930440737729404,0.0015647704813434,0.0886276679156842,1.0,0.4548196354805043,0.0586047768614424,0.0295056891413736,0.0240856785781985,0.0299793611027598,0.1241784001201226,0.0227536387182437,0.2483838104264416,0.2856304436358165,0.8789620178091383],[0.0012883192026692,0.0166736367283579,0.0517104967358036,0.0012030569167003,0.0328552896782795,0.4548196354805043,1.0,0.0429428509737354,0.0170202464794228,0.0262139868086665,0.0183294048165689,0.0370761497033099,0.0110434882512817,0.1541814772491456,0.1753450395009097,0.5392781616189852],[0.5011291136256929,0.1017757821030214,0.0476110096878106,0.0407742948641717,0.0550356298570614,0.0586047768614424,0.0429428509737354,1.0,0.20601,0.45826,0.03653,0.28174,0.1065,0.15047,0.11024,0.06421],[0.4334313328817917,0.0281721114432671,0.0077227221767962,0.0231100128650697,0.0314199241726727,0.0295056891413736,0.0170202464794228,0.20601,1.0,0.12162,0.01923,0.02069,0.05194,0.04509,0.07232,0.02908],[0.215201208925847,0.0876566600280385,0.0259649069328426,0.0038058592063737,0.020951672922716,0.0240856785781985,0.0262139868086665,0.45826,0.12162,1.0,0.0159,0.11934,0.08028,0.12279,0.1101,0.03565],[0.0178793036087058,0.066745057113631,0.0094238990984915,0.0100214613460636,0.0168215314222849,0.0299793611027598,0.0183294048165689,0.03653,0.01923,0.0159,0.99938,0.00586,0.07701,0.02441,0.05867,0.0404],[0.1855130815371743,0.0687683156896658,0.0279816493222859,0.005075449414075,0.0235987068497175,0.1241784001201226,0.0370761497033099,0.28174,0.02069,0.11934,0.00586,0.99996,0.04126,0.21359,0.50421,0.14315],[0.0156552726566358,0.0843502457312265,0.01137015761615,0.0124119718236037,0.0099798458977573,0.0227536387182437,0.0110434882512817,0.1065,0.05194,0.08028,0.07701,0.04126,0.99992,0.01627,0.18283,0.05525],[0.1705550091417664,0.0493169409519651,0.0386666923936747,0.0296772734110411,0.0556919140474517,0.2483838104264416,0.1541814772491456,0.15047,0.04509,0.12279,0.02441,0.21359,0.01627,1.0,0.51213,0.20747],[0.1602179147820747,0.1558414443790849,0.45164801400351,0.0678939077521507,0.231631512863582,0.2856304436358165,0.1753450395009097,0.11024,0.07232,0.1101,0.05867,0.50421,0.18283,0.51213,1.0,0.21434],[0.0418052846926059,0.0395185384675558,0.086581183091839,0.045409395257748,0.112404509259099,0.8789620178091383,0.5392781616189852,0.06421,0.02908,0.03565,0.0404,0.14315,0.05525,0.20747,0.21434,1.0]]]},{\"annotations\":[{\"font\":{\"color\":\"#FFFFFF\"},\"showarrow\":false,\"text\":\"1.0\",\"x\":0,\"xref\":\"x\",\"y\":0,\"yref\":\"y\"},{\"font\":{\"color\":\"#000000\"},\"showarrow\":false,\"text\":\"0.1\",\"x\":1,\"xref\":\"x\",\"y\":0,\"yref\":\"y\"},{\"font\":{\"color\":\"#000000\"},\"showarrow\":false,\"text\":\"0.01\",\"x\":2,\"xref\":\"x\",\"y\":0,\"yref\":\"y\"},{\"font\":{\"color\":\"#000000\"},\"showarrow\":false,\"text\":\"0.0\",\"x\":3,\"xref\":\"x\",\"y\":0,\"yref\":\"y\"},{\"font\":{\"color\":\"#000000\"},\"showarrow\":false,\"text\":\"0.0\",\"x\":4,\"xref\":\"x\",\"y\":0,\"yref\":\"y\"},{\"font\":{\"color\":\"#000000\"},\"showarrow\":false,\"text\":\"0.02\",\"x\":5,\"xref\":\"x\",\"y\":0,\"yref\":\"y\"},{\"font\":{\"color\":\"#000000\"},\"showarrow\":false,\"text\":\"0.0\",\"x\":6,\"xref\":\"x\",\"y\":0,\"yref\":\"y\"},{\"font\":{\"color\":\"#FFFFFF\"},\"showarrow\":false,\"text\":\"0.5\",\"x\":7,\"xref\":\"x\",\"y\":0,\"yref\":\"y\"},{\"font\":{\"color\":\"#000000\"},\"showarrow\":false,\"text\":\"0.43\",\"x\":8,\"xref\":\"x\",\"y\":0,\"yref\":\"y\"},{\"font\":{\"color\":\"#000000\"},\"showarrow\":false,\"text\":\"0.22\",\"x\":9,\"xref\":\"x\",\"y\":0,\"yref\":\"y\"},{\"font\":{\"color\":\"#000000\"},\"showarrow\":false,\"text\":\"0.02\",\"x\":10,\"xref\":\"x\",\"y\":0,\"yref\":\"y\"},{\"font\":{\"color\":\"#000000\"},\"showarrow\":false,\"text\":\"0.19\",\"x\":11,\"xref\":\"x\",\"y\":0,\"yref\":\"y\"},{\"font\":{\"color\":\"#000000\"},\"showarrow\":false,\"text\":\"0.02\",\"x\":12,\"xref\":\"x\",\"y\":0,\"yref\":\"y\"},{\"font\":{\"color\":\"#000000\"},\"showarrow\":false,\"text\":\"0.17\",\"x\":13,\"xref\":\"x\",\"y\":0,\"yref\":\"y\"},{\"font\":{\"color\":\"#000000\"},\"showarrow\":false,\"text\":\"0.16\",\"x\":14,\"xref\":\"x\",\"y\":0,\"yref\":\"y\"},{\"font\":{\"color\":\"#000000\"},\"showarrow\":false,\"text\":\"0.04\",\"x\":15,\"xref\":\"x\",\"y\":0,\"yref\":\"y\"},{\"font\":{\"color\":\"#000000\"},\"showarrow\":false,\"text\":\"0.1\",\"x\":0,\"xref\":\"x\",\"y\":1,\"yref\":\"y\"},{\"font\":{\"color\":\"#FFFFFF\"},\"showarrow\":false,\"text\":\"1.0\",\"x\":1,\"xref\":\"x\",\"y\":1,\"yref\":\"y\"},{\"font\":{\"color\":\"#000000\"},\"showarrow\":false,\"text\":\"0.0\",\"x\":2,\"xref\":\"x\",\"y\":1,\"yref\":\"y\"},{\"font\":{\"color\":\"#000000\"},\"showarrow\":false,\"text\":\"0.02\",\"x\":3,\"xref\":\"x\",\"y\":1,\"yref\":\"y\"},{\"font\":{\"color\":\"#000000\"},\"showarrow\":false,\"text\":\"0.01\",\"x\":4,\"xref\":\"x\",\"y\":1,\"yref\":\"y\"},{\"font\":{\"color\":\"#000000\"},\"showarrow\":false,\"text\":\"0.0\",\"x\":5,\"xref\":\"x\",\"y\":1,\"yref\":\"y\"},{\"font\":{\"color\":\"#000000\"},\"showarrow\":false,\"text\":\"0.02\",\"x\":6,\"xref\":\"x\",\"y\":1,\"yref\":\"y\"},{\"font\":{\"color\":\"#000000\"},\"showarrow\":false,\"text\":\"0.1\",\"x\":7,\"xref\":\"x\",\"y\":1,\"yref\":\"y\"},{\"font\":{\"color\":\"#000000\"},\"showarrow\":false,\"text\":\"0.03\",\"x\":8,\"xref\":\"x\",\"y\":1,\"yref\":\"y\"},{\"font\":{\"color\":\"#000000\"},\"showarrow\":false,\"text\":\"0.09\",\"x\":9,\"xref\":\"x\",\"y\":1,\"yref\":\"y\"},{\"font\":{\"color\":\"#000000\"},\"showarrow\":false,\"text\":\"0.07\",\"x\":10,\"xref\":\"x\",\"y\":1,\"yref\":\"y\"},{\"font\":{\"color\":\"#000000\"},\"showarrow\":false,\"text\":\"0.07\",\"x\":11,\"xref\":\"x\",\"y\":1,\"yref\":\"y\"},{\"font\":{\"color\":\"#000000\"},\"showarrow\":false,\"text\":\"0.08\",\"x\":12,\"xref\":\"x\",\"y\":1,\"yref\":\"y\"},{\"font\":{\"color\":\"#000000\"},\"showarrow\":false,\"text\":\"0.05\",\"x\":13,\"xref\":\"x\",\"y\":1,\"yref\":\"y\"},{\"font\":{\"color\":\"#000000\"},\"showarrow\":false,\"text\":\"0.16\",\"x\":14,\"xref\":\"x\",\"y\":1,\"yref\":\"y\"},{\"font\":{\"color\":\"#000000\"},\"showarrow\":false,\"text\":\"0.04\",\"x\":15,\"xref\":\"x\",\"y\":1,\"yref\":\"y\"},{\"font\":{\"color\":\"#000000\"},\"showarrow\":false,\"text\":\"0.01\",\"x\":0,\"xref\":\"x\",\"y\":2,\"yref\":\"y\"},{\"font\":{\"color\":\"#000000\"},\"showarrow\":false,\"text\":\"0.0\",\"x\":1,\"xref\":\"x\",\"y\":2,\"yref\":\"y\"},{\"font\":{\"color\":\"#FFFFFF\"},\"showarrow\":false,\"text\":\"1.0\",\"x\":2,\"xref\":\"x\",\"y\":2,\"yref\":\"y\"},{\"font\":{\"color\":\"#000000\"},\"showarrow\":false,\"text\":\"0.03\",\"x\":3,\"xref\":\"x\",\"y\":2,\"yref\":\"y\"},{\"font\":{\"color\":\"#000000\"},\"showarrow\":false,\"text\":\"0.16\",\"x\":4,\"xref\":\"x\",\"y\":2,\"yref\":\"y\"},{\"font\":{\"color\":\"#000000\"},\"showarrow\":false,\"text\":\"0.09\",\"x\":5,\"xref\":\"x\",\"y\":2,\"yref\":\"y\"},{\"font\":{\"color\":\"#000000\"},\"showarrow\":false,\"text\":\"0.05\",\"x\":6,\"xref\":\"x\",\"y\":2,\"yref\":\"y\"},{\"font\":{\"color\":\"#000000\"},\"showarrow\":false,\"text\":\"0.05\",\"x\":7,\"xref\":\"x\",\"y\":2,\"yref\":\"y\"},{\"font\":{\"color\":\"#000000\"},\"showarrow\":false,\"text\":\"0.01\",\"x\":8,\"xref\":\"x\",\"y\":2,\"yref\":\"y\"},{\"font\":{\"color\":\"#000000\"},\"showarrow\":false,\"text\":\"0.03\",\"x\":9,\"xref\":\"x\",\"y\":2,\"yref\":\"y\"},{\"font\":{\"color\":\"#000000\"},\"showarrow\":false,\"text\":\"0.01\",\"x\":10,\"xref\":\"x\",\"y\":2,\"yref\":\"y\"},{\"font\":{\"color\":\"#000000\"},\"showarrow\":false,\"text\":\"0.03\",\"x\":11,\"xref\":\"x\",\"y\":2,\"yref\":\"y\"},{\"font\":{\"color\":\"#000000\"},\"showarrow\":false,\"text\":\"0.01\",\"x\":12,\"xref\":\"x\",\"y\":2,\"yref\":\"y\"},{\"font\":{\"color\":\"#000000\"},\"showarrow\":false,\"text\":\"0.04\",\"x\":13,\"xref\":\"x\",\"y\":2,\"yref\":\"y\"},{\"font\":{\"color\":\"#000000\"},\"showarrow\":false,\"text\":\"0.45\",\"x\":14,\"xref\":\"x\",\"y\":2,\"yref\":\"y\"},{\"font\":{\"color\":\"#000000\"},\"showarrow\":false,\"text\":\"0.09\",\"x\":15,\"xref\":\"x\",\"y\":2,\"yref\":\"y\"},{\"font\":{\"color\":\"#000000\"},\"showarrow\":false,\"text\":\"0.0\",\"x\":0,\"xref\":\"x\",\"y\":3,\"yref\":\"y\"},{\"font\":{\"color\":\"#000000\"},\"showarrow\":false,\"text\":\"0.02\",\"x\":1,\"xref\":\"x\",\"y\":3,\"yref\":\"y\"},{\"font\":{\"color\":\"#000000\"},\"showarrow\":false,\"text\":\"0.03\",\"x\":2,\"xref\":\"x\",\"y\":3,\"yref\":\"y\"},{\"font\":{\"color\":\"#FFFFFF\"},\"showarrow\":false,\"text\":\"1.0\",\"x\":3,\"xref\":\"x\",\"y\":3,\"yref\":\"y\"},{\"font\":{\"color\":\"#000000\"},\"showarrow\":false,\"text\":\"0.08\",\"x\":4,\"xref\":\"x\",\"y\":3,\"yref\":\"y\"},{\"font\":{\"color\":\"#000000\"},\"showarrow\":false,\"text\":\"0.0\",\"x\":5,\"xref\":\"x\",\"y\":3,\"yref\":\"y\"},{\"font\":{\"color\":\"#000000\"},\"showarrow\":false,\"text\":\"0.0\",\"x\":6,\"xref\":\"x\",\"y\":3,\"yref\":\"y\"},{\"font\":{\"color\":\"#000000\"},\"showarrow\":false,\"text\":\"0.04\",\"x\":7,\"xref\":\"x\",\"y\":3,\"yref\":\"y\"},{\"font\":{\"color\":\"#000000\"},\"showarrow\":false,\"text\":\"0.02\",\"x\":8,\"xref\":\"x\",\"y\":3,\"yref\":\"y\"},{\"font\":{\"color\":\"#000000\"},\"showarrow\":false,\"text\":\"0.0\",\"x\":9,\"xref\":\"x\",\"y\":3,\"yref\":\"y\"},{\"font\":{\"color\":\"#000000\"},\"showarrow\":false,\"text\":\"0.01\",\"x\":10,\"xref\":\"x\",\"y\":3,\"yref\":\"y\"},{\"font\":{\"color\":\"#000000\"},\"showarrow\":false,\"text\":\"0.01\",\"x\":11,\"xref\":\"x\",\"y\":3,\"yref\":\"y\"},{\"font\":{\"color\":\"#000000\"},\"showarrow\":false,\"text\":\"0.01\",\"x\":12,\"xref\":\"x\",\"y\":3,\"yref\":\"y\"},{\"font\":{\"color\":\"#000000\"},\"showarrow\":false,\"text\":\"0.03\",\"x\":13,\"xref\":\"x\",\"y\":3,\"yref\":\"y\"},{\"font\":{\"color\":\"#000000\"},\"showarrow\":false,\"text\":\"0.07\",\"x\":14,\"xref\":\"x\",\"y\":3,\"yref\":\"y\"},{\"font\":{\"color\":\"#000000\"},\"showarrow\":false,\"text\":\"0.05\",\"x\":15,\"xref\":\"x\",\"y\":3,\"yref\":\"y\"},{\"font\":{\"color\":\"#000000\"},\"showarrow\":false,\"text\":\"0.0\",\"x\":0,\"xref\":\"x\",\"y\":4,\"yref\":\"y\"},{\"font\":{\"color\":\"#000000\"},\"showarrow\":false,\"text\":\"0.01\",\"x\":1,\"xref\":\"x\",\"y\":4,\"yref\":\"y\"},{\"font\":{\"color\":\"#000000\"},\"showarrow\":false,\"text\":\"0.16\",\"x\":2,\"xref\":\"x\",\"y\":4,\"yref\":\"y\"},{\"font\":{\"color\":\"#000000\"},\"showarrow\":false,\"text\":\"0.08\",\"x\":3,\"xref\":\"x\",\"y\":4,\"yref\":\"y\"},{\"font\":{\"color\":\"#FFFFFF\"},\"showarrow\":false,\"text\":\"1.0\",\"x\":4,\"xref\":\"x\",\"y\":4,\"yref\":\"y\"},{\"font\":{\"color\":\"#000000\"},\"showarrow\":false,\"text\":\"0.09\",\"x\":5,\"xref\":\"x\",\"y\":4,\"yref\":\"y\"},{\"font\":{\"color\":\"#000000\"},\"showarrow\":false,\"text\":\"0.03\",\"x\":6,\"xref\":\"x\",\"y\":4,\"yref\":\"y\"},{\"font\":{\"color\":\"#000000\"},\"showarrow\":false,\"text\":\"0.06\",\"x\":7,\"xref\":\"x\",\"y\":4,\"yref\":\"y\"},{\"font\":{\"color\":\"#000000\"},\"showarrow\":false,\"text\":\"0.03\",\"x\":8,\"xref\":\"x\",\"y\":4,\"yref\":\"y\"},{\"font\":{\"color\":\"#000000\"},\"showarrow\":false,\"text\":\"0.02\",\"x\":9,\"xref\":\"x\",\"y\":4,\"yref\":\"y\"},{\"font\":{\"color\":\"#000000\"},\"showarrow\":false,\"text\":\"0.02\",\"x\":10,\"xref\":\"x\",\"y\":4,\"yref\":\"y\"},{\"font\":{\"color\":\"#000000\"},\"showarrow\":false,\"text\":\"0.02\",\"x\":11,\"xref\":\"x\",\"y\":4,\"yref\":\"y\"},{\"font\":{\"color\":\"#000000\"},\"showarrow\":false,\"text\":\"0.01\",\"x\":12,\"xref\":\"x\",\"y\":4,\"yref\":\"y\"},{\"font\":{\"color\":\"#000000\"},\"showarrow\":false,\"text\":\"0.06\",\"x\":13,\"xref\":\"x\",\"y\":4,\"yref\":\"y\"},{\"font\":{\"color\":\"#000000\"},\"showarrow\":false,\"text\":\"0.23\",\"x\":14,\"xref\":\"x\",\"y\":4,\"yref\":\"y\"},{\"font\":{\"color\":\"#000000\"},\"showarrow\":false,\"text\":\"0.11\",\"x\":15,\"xref\":\"x\",\"y\":4,\"yref\":\"y\"},{\"font\":{\"color\":\"#000000\"},\"showarrow\":false,\"text\":\"0.02\",\"x\":0,\"xref\":\"x\",\"y\":5,\"yref\":\"y\"},{\"font\":{\"color\":\"#000000\"},\"showarrow\":false,\"text\":\"0.0\",\"x\":1,\"xref\":\"x\",\"y\":5,\"yref\":\"y\"},{\"font\":{\"color\":\"#000000\"},\"showarrow\":false,\"text\":\"0.09\",\"x\":2,\"xref\":\"x\",\"y\":5,\"yref\":\"y\"},{\"font\":{\"color\":\"#000000\"},\"showarrow\":false,\"text\":\"0.0\",\"x\":3,\"xref\":\"x\",\"y\":5,\"yref\":\"y\"},{\"font\":{\"color\":\"#000000\"},\"showarrow\":false,\"text\":\"0.09\",\"x\":4,\"xref\":\"x\",\"y\":5,\"yref\":\"y\"},{\"font\":{\"color\":\"#FFFFFF\"},\"showarrow\":false,\"text\":\"1.0\",\"x\":5,\"xref\":\"x\",\"y\":5,\"yref\":\"y\"},{\"font\":{\"color\":\"#000000\"},\"showarrow\":false,\"text\":\"0.45\",\"x\":6,\"xref\":\"x\",\"y\":5,\"yref\":\"y\"},{\"font\":{\"color\":\"#000000\"},\"showarrow\":false,\"text\":\"0.06\",\"x\":7,\"xref\":\"x\",\"y\":5,\"yref\":\"y\"},{\"font\":{\"color\":\"#000000\"},\"showarrow\":false,\"text\":\"0.03\",\"x\":8,\"xref\":\"x\",\"y\":5,\"yref\":\"y\"},{\"font\":{\"color\":\"#000000\"},\"showarrow\":false,\"text\":\"0.02\",\"x\":9,\"xref\":\"x\",\"y\":5,\"yref\":\"y\"},{\"font\":{\"color\":\"#000000\"},\"showarrow\":false,\"text\":\"0.03\",\"x\":10,\"xref\":\"x\",\"y\":5,\"yref\":\"y\"},{\"font\":{\"color\":\"#000000\"},\"showarrow\":false,\"text\":\"0.12\",\"x\":11,\"xref\":\"x\",\"y\":5,\"yref\":\"y\"},{\"font\":{\"color\":\"#000000\"},\"showarrow\":false,\"text\":\"0.02\",\"x\":12,\"xref\":\"x\",\"y\":5,\"yref\":\"y\"},{\"font\":{\"color\":\"#000000\"},\"showarrow\":false,\"text\":\"0.25\",\"x\":13,\"xref\":\"x\",\"y\":5,\"yref\":\"y\"},{\"font\":{\"color\":\"#000000\"},\"showarrow\":false,\"text\":\"0.29\",\"x\":14,\"xref\":\"x\",\"y\":5,\"yref\":\"y\"},{\"font\":{\"color\":\"#FFFFFF\"},\"showarrow\":false,\"text\":\"0.88\",\"x\":15,\"xref\":\"x\",\"y\":5,\"yref\":\"y\"},{\"font\":{\"color\":\"#000000\"},\"showarrow\":false,\"text\":\"0.0\",\"x\":0,\"xref\":\"x\",\"y\":6,\"yref\":\"y\"},{\"font\":{\"color\":\"#000000\"},\"showarrow\":false,\"text\":\"0.02\",\"x\":1,\"xref\":\"x\",\"y\":6,\"yref\":\"y\"},{\"font\":{\"color\":\"#000000\"},\"showarrow\":false,\"text\":\"0.05\",\"x\":2,\"xref\":\"x\",\"y\":6,\"yref\":\"y\"},{\"font\":{\"color\":\"#000000\"},\"showarrow\":false,\"text\":\"0.0\",\"x\":3,\"xref\":\"x\",\"y\":6,\"yref\":\"y\"},{\"font\":{\"color\":\"#000000\"},\"showarrow\":false,\"text\":\"0.03\",\"x\":4,\"xref\":\"x\",\"y\":6,\"yref\":\"y\"},{\"font\":{\"color\":\"#000000\"},\"showarrow\":false,\"text\":\"0.45\",\"x\":5,\"xref\":\"x\",\"y\":6,\"yref\":\"y\"},{\"font\":{\"color\":\"#FFFFFF\"},\"showarrow\":false,\"text\":\"1.0\",\"x\":6,\"xref\":\"x\",\"y\":6,\"yref\":\"y\"},{\"font\":{\"color\":\"#000000\"},\"showarrow\":false,\"text\":\"0.04\",\"x\":7,\"xref\":\"x\",\"y\":6,\"yref\":\"y\"},{\"font\":{\"color\":\"#000000\"},\"showarrow\":false,\"text\":\"0.02\",\"x\":8,\"xref\":\"x\",\"y\":6,\"yref\":\"y\"},{\"font\":{\"color\":\"#000000\"},\"showarrow\":false,\"text\":\"0.03\",\"x\":9,\"xref\":\"x\",\"y\":6,\"yref\":\"y\"},{\"font\":{\"color\":\"#000000\"},\"showarrow\":false,\"text\":\"0.02\",\"x\":10,\"xref\":\"x\",\"y\":6,\"yref\":\"y\"},{\"font\":{\"color\":\"#000000\"},\"showarrow\":false,\"text\":\"0.04\",\"x\":11,\"xref\":\"x\",\"y\":6,\"yref\":\"y\"},{\"font\":{\"color\":\"#000000\"},\"showarrow\":false,\"text\":\"0.01\",\"x\":12,\"xref\":\"x\",\"y\":6,\"yref\":\"y\"},{\"font\":{\"color\":\"#000000\"},\"showarrow\":false,\"text\":\"0.15\",\"x\":13,\"xref\":\"x\",\"y\":6,\"yref\":\"y\"},{\"font\":{\"color\":\"#000000\"},\"showarrow\":false,\"text\":\"0.18\",\"x\":14,\"xref\":\"x\",\"y\":6,\"yref\":\"y\"},{\"font\":{\"color\":\"#FFFFFF\"},\"showarrow\":false,\"text\":\"0.54\",\"x\":15,\"xref\":\"x\",\"y\":6,\"yref\":\"y\"},{\"font\":{\"color\":\"#FFFFFF\"},\"showarrow\":false,\"text\":\"0.5\",\"x\":0,\"xref\":\"x\",\"y\":7,\"yref\":\"y\"},{\"font\":{\"color\":\"#000000\"},\"showarrow\":false,\"text\":\"0.1\",\"x\":1,\"xref\":\"x\",\"y\":7,\"yref\":\"y\"},{\"font\":{\"color\":\"#000000\"},\"showarrow\":false,\"text\":\"0.05\",\"x\":2,\"xref\":\"x\",\"y\":7,\"yref\":\"y\"},{\"font\":{\"color\":\"#000000\"},\"showarrow\":false,\"text\":\"0.04\",\"x\":3,\"xref\":\"x\",\"y\":7,\"yref\":\"y\"},{\"font\":{\"color\":\"#000000\"},\"showarrow\":false,\"text\":\"0.06\",\"x\":4,\"xref\":\"x\",\"y\":7,\"yref\":\"y\"},{\"font\":{\"color\":\"#000000\"},\"showarrow\":false,\"text\":\"0.06\",\"x\":5,\"xref\":\"x\",\"y\":7,\"yref\":\"y\"},{\"font\":{\"color\":\"#000000\"},\"showarrow\":false,\"text\":\"0.04\",\"x\":6,\"xref\":\"x\",\"y\":7,\"yref\":\"y\"},{\"font\":{\"color\":\"#FFFFFF\"},\"showarrow\":false,\"text\":\"1.0\",\"x\":7,\"xref\":\"x\",\"y\":7,\"yref\":\"y\"},{\"font\":{\"color\":\"#000000\"},\"showarrow\":false,\"text\":\"0.21\",\"x\":8,\"xref\":\"x\",\"y\":7,\"yref\":\"y\"},{\"font\":{\"color\":\"#000000\"},\"showarrow\":false,\"text\":\"0.46\",\"x\":9,\"xref\":\"x\",\"y\":7,\"yref\":\"y\"},{\"font\":{\"color\":\"#000000\"},\"showarrow\":false,\"text\":\"0.04\",\"x\":10,\"xref\":\"x\",\"y\":7,\"yref\":\"y\"},{\"font\":{\"color\":\"#000000\"},\"showarrow\":false,\"text\":\"0.28\",\"x\":11,\"xref\":\"x\",\"y\":7,\"yref\":\"y\"},{\"font\":{\"color\":\"#000000\"},\"showarrow\":false,\"text\":\"0.11\",\"x\":12,\"xref\":\"x\",\"y\":7,\"yref\":\"y\"},{\"font\":{\"color\":\"#000000\"},\"showarrow\":false,\"text\":\"0.15\",\"x\":13,\"xref\":\"x\",\"y\":7,\"yref\":\"y\"},{\"font\":{\"color\":\"#000000\"},\"showarrow\":false,\"text\":\"0.11\",\"x\":14,\"xref\":\"x\",\"y\":7,\"yref\":\"y\"},{\"font\":{\"color\":\"#000000\"},\"showarrow\":false,\"text\":\"0.06\",\"x\":15,\"xref\":\"x\",\"y\":7,\"yref\":\"y\"},{\"font\":{\"color\":\"#000000\"},\"showarrow\":false,\"text\":\"0.43\",\"x\":0,\"xref\":\"x\",\"y\":8,\"yref\":\"y\"},{\"font\":{\"color\":\"#000000\"},\"showarrow\":false,\"text\":\"0.03\",\"x\":1,\"xref\":\"x\",\"y\":8,\"yref\":\"y\"},{\"font\":{\"color\":\"#000000\"},\"showarrow\":false,\"text\":\"0.01\",\"x\":2,\"xref\":\"x\",\"y\":8,\"yref\":\"y\"},{\"font\":{\"color\":\"#000000\"},\"showarrow\":false,\"text\":\"0.02\",\"x\":3,\"xref\":\"x\",\"y\":8,\"yref\":\"y\"},{\"font\":{\"color\":\"#000000\"},\"showarrow\":false,\"text\":\"0.03\",\"x\":4,\"xref\":\"x\",\"y\":8,\"yref\":\"y\"},{\"font\":{\"color\":\"#000000\"},\"showarrow\":false,\"text\":\"0.03\",\"x\":5,\"xref\":\"x\",\"y\":8,\"yref\":\"y\"},{\"font\":{\"color\":\"#000000\"},\"showarrow\":false,\"text\":\"0.02\",\"x\":6,\"xref\":\"x\",\"y\":8,\"yref\":\"y\"},{\"font\":{\"color\":\"#000000\"},\"showarrow\":false,\"text\":\"0.21\",\"x\":7,\"xref\":\"x\",\"y\":8,\"yref\":\"y\"},{\"font\":{\"color\":\"#FFFFFF\"},\"showarrow\":false,\"text\":\"1.0\",\"x\":8,\"xref\":\"x\",\"y\":8,\"yref\":\"y\"},{\"font\":{\"color\":\"#000000\"},\"showarrow\":false,\"text\":\"0.12\",\"x\":9,\"xref\":\"x\",\"y\":8,\"yref\":\"y\"},{\"font\":{\"color\":\"#000000\"},\"showarrow\":false,\"text\":\"0.02\",\"x\":10,\"xref\":\"x\",\"y\":8,\"yref\":\"y\"},{\"font\":{\"color\":\"#000000\"},\"showarrow\":false,\"text\":\"0.02\",\"x\":11,\"xref\":\"x\",\"y\":8,\"yref\":\"y\"},{\"font\":{\"color\":\"#000000\"},\"showarrow\":false,\"text\":\"0.05\",\"x\":12,\"xref\":\"x\",\"y\":8,\"yref\":\"y\"},{\"font\":{\"color\":\"#000000\"},\"showarrow\":false,\"text\":\"0.05\",\"x\":13,\"xref\":\"x\",\"y\":8,\"yref\":\"y\"},{\"font\":{\"color\":\"#000000\"},\"showarrow\":false,\"text\":\"0.07\",\"x\":14,\"xref\":\"x\",\"y\":8,\"yref\":\"y\"},{\"font\":{\"color\":\"#000000\"},\"showarrow\":false,\"text\":\"0.03\",\"x\":15,\"xref\":\"x\",\"y\":8,\"yref\":\"y\"},{\"font\":{\"color\":\"#000000\"},\"showarrow\":false,\"text\":\"0.22\",\"x\":0,\"xref\":\"x\",\"y\":9,\"yref\":\"y\"},{\"font\":{\"color\":\"#000000\"},\"showarrow\":false,\"text\":\"0.09\",\"x\":1,\"xref\":\"x\",\"y\":9,\"yref\":\"y\"},{\"font\":{\"color\":\"#000000\"},\"showarrow\":false,\"text\":\"0.03\",\"x\":2,\"xref\":\"x\",\"y\":9,\"yref\":\"y\"},{\"font\":{\"color\":\"#000000\"},\"showarrow\":false,\"text\":\"0.0\",\"x\":3,\"xref\":\"x\",\"y\":9,\"yref\":\"y\"},{\"font\":{\"color\":\"#000000\"},\"showarrow\":false,\"text\":\"0.02\",\"x\":4,\"xref\":\"x\",\"y\":9,\"yref\":\"y\"},{\"font\":{\"color\":\"#000000\"},\"showarrow\":false,\"text\":\"0.02\",\"x\":5,\"xref\":\"x\",\"y\":9,\"yref\":\"y\"},{\"font\":{\"color\":\"#000000\"},\"showarrow\":false,\"text\":\"0.03\",\"x\":6,\"xref\":\"x\",\"y\":9,\"yref\":\"y\"},{\"font\":{\"color\":\"#000000\"},\"showarrow\":false,\"text\":\"0.46\",\"x\":7,\"xref\":\"x\",\"y\":9,\"yref\":\"y\"},{\"font\":{\"color\":\"#000000\"},\"showarrow\":false,\"text\":\"0.12\",\"x\":8,\"xref\":\"x\",\"y\":9,\"yref\":\"y\"},{\"font\":{\"color\":\"#FFFFFF\"},\"showarrow\":false,\"text\":\"1.0\",\"x\":9,\"xref\":\"x\",\"y\":9,\"yref\":\"y\"},{\"font\":{\"color\":\"#000000\"},\"showarrow\":false,\"text\":\"0.02\",\"x\":10,\"xref\":\"x\",\"y\":9,\"yref\":\"y\"},{\"font\":{\"color\":\"#000000\"},\"showarrow\":false,\"text\":\"0.12\",\"x\":11,\"xref\":\"x\",\"y\":9,\"yref\":\"y\"},{\"font\":{\"color\":\"#000000\"},\"showarrow\":false,\"text\":\"0.08\",\"x\":12,\"xref\":\"x\",\"y\":9,\"yref\":\"y\"},{\"font\":{\"color\":\"#000000\"},\"showarrow\":false,\"text\":\"0.12\",\"x\":13,\"xref\":\"x\",\"y\":9,\"yref\":\"y\"},{\"font\":{\"color\":\"#000000\"},\"showarrow\":false,\"text\":\"0.11\",\"x\":14,\"xref\":\"x\",\"y\":9,\"yref\":\"y\"},{\"font\":{\"color\":\"#000000\"},\"showarrow\":false,\"text\":\"0.04\",\"x\":15,\"xref\":\"x\",\"y\":9,\"yref\":\"y\"},{\"font\":{\"color\":\"#000000\"},\"showarrow\":false,\"text\":\"0.02\",\"x\":0,\"xref\":\"x\",\"y\":10,\"yref\":\"y\"},{\"font\":{\"color\":\"#000000\"},\"showarrow\":false,\"text\":\"0.07\",\"x\":1,\"xref\":\"x\",\"y\":10,\"yref\":\"y\"},{\"font\":{\"color\":\"#000000\"},\"showarrow\":false,\"text\":\"0.01\",\"x\":2,\"xref\":\"x\",\"y\":10,\"yref\":\"y\"},{\"font\":{\"color\":\"#000000\"},\"showarrow\":false,\"text\":\"0.01\",\"x\":3,\"xref\":\"x\",\"y\":10,\"yref\":\"y\"},{\"font\":{\"color\":\"#000000\"},\"showarrow\":false,\"text\":\"0.02\",\"x\":4,\"xref\":\"x\",\"y\":10,\"yref\":\"y\"},{\"font\":{\"color\":\"#000000\"},\"showarrow\":false,\"text\":\"0.03\",\"x\":5,\"xref\":\"x\",\"y\":10,\"yref\":\"y\"},{\"font\":{\"color\":\"#000000\"},\"showarrow\":false,\"text\":\"0.02\",\"x\":6,\"xref\":\"x\",\"y\":10,\"yref\":\"y\"},{\"font\":{\"color\":\"#000000\"},\"showarrow\":false,\"text\":\"0.04\",\"x\":7,\"xref\":\"x\",\"y\":10,\"yref\":\"y\"},{\"font\":{\"color\":\"#000000\"},\"showarrow\":false,\"text\":\"0.02\",\"x\":8,\"xref\":\"x\",\"y\":10,\"yref\":\"y\"},{\"font\":{\"color\":\"#000000\"},\"showarrow\":false,\"text\":\"0.02\",\"x\":9,\"xref\":\"x\",\"y\":10,\"yref\":\"y\"},{\"font\":{\"color\":\"#FFFFFF\"},\"showarrow\":false,\"text\":\"1.0\",\"x\":10,\"xref\":\"x\",\"y\":10,\"yref\":\"y\"},{\"font\":{\"color\":\"#000000\"},\"showarrow\":false,\"text\":\"0.01\",\"x\":11,\"xref\":\"x\",\"y\":10,\"yref\":\"y\"},{\"font\":{\"color\":\"#000000\"},\"showarrow\":false,\"text\":\"0.08\",\"x\":12,\"xref\":\"x\",\"y\":10,\"yref\":\"y\"},{\"font\":{\"color\":\"#000000\"},\"showarrow\":false,\"text\":\"0.02\",\"x\":13,\"xref\":\"x\",\"y\":10,\"yref\":\"y\"},{\"font\":{\"color\":\"#000000\"},\"showarrow\":false,\"text\":\"0.06\",\"x\":14,\"xref\":\"x\",\"y\":10,\"yref\":\"y\"},{\"font\":{\"color\":\"#000000\"},\"showarrow\":false,\"text\":\"0.04\",\"x\":15,\"xref\":\"x\",\"y\":10,\"yref\":\"y\"},{\"font\":{\"color\":\"#000000\"},\"showarrow\":false,\"text\":\"0.19\",\"x\":0,\"xref\":\"x\",\"y\":11,\"yref\":\"y\"},{\"font\":{\"color\":\"#000000\"},\"showarrow\":false,\"text\":\"0.07\",\"x\":1,\"xref\":\"x\",\"y\":11,\"yref\":\"y\"},{\"font\":{\"color\":\"#000000\"},\"showarrow\":false,\"text\":\"0.03\",\"x\":2,\"xref\":\"x\",\"y\":11,\"yref\":\"y\"},{\"font\":{\"color\":\"#000000\"},\"showarrow\":false,\"text\":\"0.01\",\"x\":3,\"xref\":\"x\",\"y\":11,\"yref\":\"y\"},{\"font\":{\"color\":\"#000000\"},\"showarrow\":false,\"text\":\"0.02\",\"x\":4,\"xref\":\"x\",\"y\":11,\"yref\":\"y\"},{\"font\":{\"color\":\"#000000\"},\"showarrow\":false,\"text\":\"0.12\",\"x\":5,\"xref\":\"x\",\"y\":11,\"yref\":\"y\"},{\"font\":{\"color\":\"#000000\"},\"showarrow\":false,\"text\":\"0.04\",\"x\":6,\"xref\":\"x\",\"y\":11,\"yref\":\"y\"},{\"font\":{\"color\":\"#000000\"},\"showarrow\":false,\"text\":\"0.28\",\"x\":7,\"xref\":\"x\",\"y\":11,\"yref\":\"y\"},{\"font\":{\"color\":\"#000000\"},\"showarrow\":false,\"text\":\"0.02\",\"x\":8,\"xref\":\"x\",\"y\":11,\"yref\":\"y\"},{\"font\":{\"color\":\"#000000\"},\"showarrow\":false,\"text\":\"0.12\",\"x\":9,\"xref\":\"x\",\"y\":11,\"yref\":\"y\"},{\"font\":{\"color\":\"#000000\"},\"showarrow\":false,\"text\":\"0.01\",\"x\":10,\"xref\":\"x\",\"y\":11,\"yref\":\"y\"},{\"font\":{\"color\":\"#FFFFFF\"},\"showarrow\":false,\"text\":\"1.0\",\"x\":11,\"xref\":\"x\",\"y\":11,\"yref\":\"y\"},{\"font\":{\"color\":\"#000000\"},\"showarrow\":false,\"text\":\"0.04\",\"x\":12,\"xref\":\"x\",\"y\":11,\"yref\":\"y\"},{\"font\":{\"color\":\"#000000\"},\"showarrow\":false,\"text\":\"0.21\",\"x\":13,\"xref\":\"x\",\"y\":11,\"yref\":\"y\"},{\"font\":{\"color\":\"#FFFFFF\"},\"showarrow\":false,\"text\":\"0.5\",\"x\":14,\"xref\":\"x\",\"y\":11,\"yref\":\"y\"},{\"font\":{\"color\":\"#000000\"},\"showarrow\":false,\"text\":\"0.14\",\"x\":15,\"xref\":\"x\",\"y\":11,\"yref\":\"y\"},{\"font\":{\"color\":\"#000000\"},\"showarrow\":false,\"text\":\"0.02\",\"x\":0,\"xref\":\"x\",\"y\":12,\"yref\":\"y\"},{\"font\":{\"color\":\"#000000\"},\"showarrow\":false,\"text\":\"0.08\",\"x\":1,\"xref\":\"x\",\"y\":12,\"yref\":\"y\"},{\"font\":{\"color\":\"#000000\"},\"showarrow\":false,\"text\":\"0.01\",\"x\":2,\"xref\":\"x\",\"y\":12,\"yref\":\"y\"},{\"font\":{\"color\":\"#000000\"},\"showarrow\":false,\"text\":\"0.01\",\"x\":3,\"xref\":\"x\",\"y\":12,\"yref\":\"y\"},{\"font\":{\"color\":\"#000000\"},\"showarrow\":false,\"text\":\"0.01\",\"x\":4,\"xref\":\"x\",\"y\":12,\"yref\":\"y\"},{\"font\":{\"color\":\"#000000\"},\"showarrow\":false,\"text\":\"0.02\",\"x\":5,\"xref\":\"x\",\"y\":12,\"yref\":\"y\"},{\"font\":{\"color\":\"#000000\"},\"showarrow\":false,\"text\":\"0.01\",\"x\":6,\"xref\":\"x\",\"y\":12,\"yref\":\"y\"},{\"font\":{\"color\":\"#000000\"},\"showarrow\":false,\"text\":\"0.11\",\"x\":7,\"xref\":\"x\",\"y\":12,\"yref\":\"y\"},{\"font\":{\"color\":\"#000000\"},\"showarrow\":false,\"text\":\"0.05\",\"x\":8,\"xref\":\"x\",\"y\":12,\"yref\":\"y\"},{\"font\":{\"color\":\"#000000\"},\"showarrow\":false,\"text\":\"0.08\",\"x\":9,\"xref\":\"x\",\"y\":12,\"yref\":\"y\"},{\"font\":{\"color\":\"#000000\"},\"showarrow\":false,\"text\":\"0.08\",\"x\":10,\"xref\":\"x\",\"y\":12,\"yref\":\"y\"},{\"font\":{\"color\":\"#000000\"},\"showarrow\":false,\"text\":\"0.04\",\"x\":11,\"xref\":\"x\",\"y\":12,\"yref\":\"y\"},{\"font\":{\"color\":\"#FFFFFF\"},\"showarrow\":false,\"text\":\"1.0\",\"x\":12,\"xref\":\"x\",\"y\":12,\"yref\":\"y\"},{\"font\":{\"color\":\"#000000\"},\"showarrow\":false,\"text\":\"0.02\",\"x\":13,\"xref\":\"x\",\"y\":12,\"yref\":\"y\"},{\"font\":{\"color\":\"#000000\"},\"showarrow\":false,\"text\":\"0.18\",\"x\":14,\"xref\":\"x\",\"y\":12,\"yref\":\"y\"},{\"font\":{\"color\":\"#000000\"},\"showarrow\":false,\"text\":\"0.06\",\"x\":15,\"xref\":\"x\",\"y\":12,\"yref\":\"y\"},{\"font\":{\"color\":\"#000000\"},\"showarrow\":false,\"text\":\"0.17\",\"x\":0,\"xref\":\"x\",\"y\":13,\"yref\":\"y\"},{\"font\":{\"color\":\"#000000\"},\"showarrow\":false,\"text\":\"0.05\",\"x\":1,\"xref\":\"x\",\"y\":13,\"yref\":\"y\"},{\"font\":{\"color\":\"#000000\"},\"showarrow\":false,\"text\":\"0.04\",\"x\":2,\"xref\":\"x\",\"y\":13,\"yref\":\"y\"},{\"font\":{\"color\":\"#000000\"},\"showarrow\":false,\"text\":\"0.03\",\"x\":3,\"xref\":\"x\",\"y\":13,\"yref\":\"y\"},{\"font\":{\"color\":\"#000000\"},\"showarrow\":false,\"text\":\"0.06\",\"x\":4,\"xref\":\"x\",\"y\":13,\"yref\":\"y\"},{\"font\":{\"color\":\"#000000\"},\"showarrow\":false,\"text\":\"0.25\",\"x\":5,\"xref\":\"x\",\"y\":13,\"yref\":\"y\"},{\"font\":{\"color\":\"#000000\"},\"showarrow\":false,\"text\":\"0.15\",\"x\":6,\"xref\":\"x\",\"y\":13,\"yref\":\"y\"},{\"font\":{\"color\":\"#000000\"},\"showarrow\":false,\"text\":\"0.15\",\"x\":7,\"xref\":\"x\",\"y\":13,\"yref\":\"y\"},{\"font\":{\"color\":\"#000000\"},\"showarrow\":false,\"text\":\"0.05\",\"x\":8,\"xref\":\"x\",\"y\":13,\"yref\":\"y\"},{\"font\":{\"color\":\"#000000\"},\"showarrow\":false,\"text\":\"0.12\",\"x\":9,\"xref\":\"x\",\"y\":13,\"yref\":\"y\"},{\"font\":{\"color\":\"#000000\"},\"showarrow\":false,\"text\":\"0.02\",\"x\":10,\"xref\":\"x\",\"y\":13,\"yref\":\"y\"},{\"font\":{\"color\":\"#000000\"},\"showarrow\":false,\"text\":\"0.21\",\"x\":11,\"xref\":\"x\",\"y\":13,\"yref\":\"y\"},{\"font\":{\"color\":\"#000000\"},\"showarrow\":false,\"text\":\"0.02\",\"x\":12,\"xref\":\"x\",\"y\":13,\"yref\":\"y\"},{\"font\":{\"color\":\"#FFFFFF\"},\"showarrow\":false,\"text\":\"1.0\",\"x\":13,\"xref\":\"x\",\"y\":13,\"yref\":\"y\"},{\"font\":{\"color\":\"#FFFFFF\"},\"showarrow\":false,\"text\":\"0.51\",\"x\":14,\"xref\":\"x\",\"y\":13,\"yref\":\"y\"},{\"font\":{\"color\":\"#000000\"},\"showarrow\":false,\"text\":\"0.21\",\"x\":15,\"xref\":\"x\",\"y\":13,\"yref\":\"y\"},{\"font\":{\"color\":\"#000000\"},\"showarrow\":false,\"text\":\"0.16\",\"x\":0,\"xref\":\"x\",\"y\":14,\"yref\":\"y\"},{\"font\":{\"color\":\"#000000\"},\"showarrow\":false,\"text\":\"0.16\",\"x\":1,\"xref\":\"x\",\"y\":14,\"yref\":\"y\"},{\"font\":{\"color\":\"#000000\"},\"showarrow\":false,\"text\":\"0.45\",\"x\":2,\"xref\":\"x\",\"y\":14,\"yref\":\"y\"},{\"font\":{\"color\":\"#000000\"},\"showarrow\":false,\"text\":\"0.07\",\"x\":3,\"xref\":\"x\",\"y\":14,\"yref\":\"y\"},{\"font\":{\"color\":\"#000000\"},\"showarrow\":false,\"text\":\"0.23\",\"x\":4,\"xref\":\"x\",\"y\":14,\"yref\":\"y\"},{\"font\":{\"color\":\"#000000\"},\"showarrow\":false,\"text\":\"0.29\",\"x\":5,\"xref\":\"x\",\"y\":14,\"yref\":\"y\"},{\"font\":{\"color\":\"#000000\"},\"showarrow\":false,\"text\":\"0.18\",\"x\":6,\"xref\":\"x\",\"y\":14,\"yref\":\"y\"},{\"font\":{\"color\":\"#000000\"},\"showarrow\":false,\"text\":\"0.11\",\"x\":7,\"xref\":\"x\",\"y\":14,\"yref\":\"y\"},{\"font\":{\"color\":\"#000000\"},\"showarrow\":false,\"text\":\"0.07\",\"x\":8,\"xref\":\"x\",\"y\":14,\"yref\":\"y\"},{\"font\":{\"color\":\"#000000\"},\"showarrow\":false,\"text\":\"0.11\",\"x\":9,\"xref\":\"x\",\"y\":14,\"yref\":\"y\"},{\"font\":{\"color\":\"#000000\"},\"showarrow\":false,\"text\":\"0.06\",\"x\":10,\"xref\":\"x\",\"y\":14,\"yref\":\"y\"},{\"font\":{\"color\":\"#FFFFFF\"},\"showarrow\":false,\"text\":\"0.5\",\"x\":11,\"xref\":\"x\",\"y\":14,\"yref\":\"y\"},{\"font\":{\"color\":\"#000000\"},\"showarrow\":false,\"text\":\"0.18\",\"x\":12,\"xref\":\"x\",\"y\":14,\"yref\":\"y\"},{\"font\":{\"color\":\"#FFFFFF\"},\"showarrow\":false,\"text\":\"0.51\",\"x\":13,\"xref\":\"x\",\"y\":14,\"yref\":\"y\"},{\"font\":{\"color\":\"#FFFFFF\"},\"showarrow\":false,\"text\":\"1.0\",\"x\":14,\"xref\":\"x\",\"y\":14,\"yref\":\"y\"},{\"font\":{\"color\":\"#000000\"},\"showarrow\":false,\"text\":\"0.21\",\"x\":15,\"xref\":\"x\",\"y\":14,\"yref\":\"y\"},{\"font\":{\"color\":\"#000000\"},\"showarrow\":false,\"text\":\"0.04\",\"x\":0,\"xref\":\"x\",\"y\":15,\"yref\":\"y\"},{\"font\":{\"color\":\"#000000\"},\"showarrow\":false,\"text\":\"0.04\",\"x\":1,\"xref\":\"x\",\"y\":15,\"yref\":\"y\"},{\"font\":{\"color\":\"#000000\"},\"showarrow\":false,\"text\":\"0.09\",\"x\":2,\"xref\":\"x\",\"y\":15,\"yref\":\"y\"},{\"font\":{\"color\":\"#000000\"},\"showarrow\":false,\"text\":\"0.05\",\"x\":3,\"xref\":\"x\",\"y\":15,\"yref\":\"y\"},{\"font\":{\"color\":\"#000000\"},\"showarrow\":false,\"text\":\"0.11\",\"x\":4,\"xref\":\"x\",\"y\":15,\"yref\":\"y\"},{\"font\":{\"color\":\"#FFFFFF\"},\"showarrow\":false,\"text\":\"0.88\",\"x\":5,\"xref\":\"x\",\"y\":15,\"yref\":\"y\"},{\"font\":{\"color\":\"#FFFFFF\"},\"showarrow\":false,\"text\":\"0.54\",\"x\":6,\"xref\":\"x\",\"y\":15,\"yref\":\"y\"},{\"font\":{\"color\":\"#000000\"},\"showarrow\":false,\"text\":\"0.06\",\"x\":7,\"xref\":\"x\",\"y\":15,\"yref\":\"y\"},{\"font\":{\"color\":\"#000000\"},\"showarrow\":false,\"text\":\"0.03\",\"x\":8,\"xref\":\"x\",\"y\":15,\"yref\":\"y\"},{\"font\":{\"color\":\"#000000\"},\"showarrow\":false,\"text\":\"0.04\",\"x\":9,\"xref\":\"x\",\"y\":15,\"yref\":\"y\"},{\"font\":{\"color\":\"#000000\"},\"showarrow\":false,\"text\":\"0.04\",\"x\":10,\"xref\":\"x\",\"y\":15,\"yref\":\"y\"},{\"font\":{\"color\":\"#000000\"},\"showarrow\":false,\"text\":\"0.14\",\"x\":11,\"xref\":\"x\",\"y\":15,\"yref\":\"y\"},{\"font\":{\"color\":\"#000000\"},\"showarrow\":false,\"text\":\"0.06\",\"x\":12,\"xref\":\"x\",\"y\":15,\"yref\":\"y\"},{\"font\":{\"color\":\"#000000\"},\"showarrow\":false,\"text\":\"0.21\",\"x\":13,\"xref\":\"x\",\"y\":15,\"yref\":\"y\"},{\"font\":{\"color\":\"#000000\"},\"showarrow\":false,\"text\":\"0.21\",\"x\":14,\"xref\":\"x\",\"y\":15,\"yref\":\"y\"},{\"font\":{\"color\":\"#FFFFFF\"},\"showarrow\":false,\"text\":\"1.0\",\"x\":15,\"xref\":\"x\",\"y\":15,\"yref\":\"y\"}],\"updatemenus\":[{\"type\":\"buttons\",\"direction\":\"right\",\"buttons\":[{\"args\":[{\"annotations\":[{\"font\":{\"color\":\"#FFFFFF\"},\"showarrow\":false,\"text\":\"1.0\",\"x\":0,\"xref\":\"x\",\"y\":0,\"yref\":\"y\"},{\"font\":{\"color\":\"#000000\"},\"showarrow\":false,\"text\":\"0.1\",\"x\":1,\"xref\":\"x\",\"y\":0,\"yref\":\"y\"},{\"font\":{\"color\":\"#000000\"},\"showarrow\":false,\"text\":\"0.01\",\"x\":2,\"xref\":\"x\",\"y\":0,\"yref\":\"y\"},{\"font\":{\"color\":\"#000000\"},\"showarrow\":false,\"text\":\"0.0\",\"x\":3,\"xref\":\"x\",\"y\":0,\"yref\":\"y\"},{\"font\":{\"color\":\"#000000\"},\"showarrow\":false,\"text\":\"0.0\",\"x\":4,\"xref\":\"x\",\"y\":0,\"yref\":\"y\"},{\"font\":{\"color\":\"#000000\"},\"showarrow\":false,\"text\":\"0.02\",\"x\":5,\"xref\":\"x\",\"y\":0,\"yref\":\"y\"},{\"font\":{\"color\":\"#000000\"},\"showarrow\":false,\"text\":\"0.0\",\"x\":6,\"xref\":\"x\",\"y\":0,\"yref\":\"y\"},{\"font\":{\"color\":\"#FFFFFF\"},\"showarrow\":false,\"text\":\"0.5\",\"x\":7,\"xref\":\"x\",\"y\":0,\"yref\":\"y\"},{\"font\":{\"color\":\"#000000\"},\"showarrow\":false,\"text\":\"0.43\",\"x\":8,\"xref\":\"x\",\"y\":0,\"yref\":\"y\"},{\"font\":{\"color\":\"#000000\"},\"showarrow\":false,\"text\":\"0.22\",\"x\":9,\"xref\":\"x\",\"y\":0,\"yref\":\"y\"},{\"font\":{\"color\":\"#000000\"},\"showarrow\":false,\"text\":\"0.02\",\"x\":10,\"xref\":\"x\",\"y\":0,\"yref\":\"y\"},{\"font\":{\"color\":\"#000000\"},\"showarrow\":false,\"text\":\"0.19\",\"x\":11,\"xref\":\"x\",\"y\":0,\"yref\":\"y\"},{\"font\":{\"color\":\"#000000\"},\"showarrow\":false,\"text\":\"0.02\",\"x\":12,\"xref\":\"x\",\"y\":0,\"yref\":\"y\"},{\"font\":{\"color\":\"#000000\"},\"showarrow\":false,\"text\":\"0.17\",\"x\":13,\"xref\":\"x\",\"y\":0,\"yref\":\"y\"},{\"font\":{\"color\":\"#000000\"},\"showarrow\":false,\"text\":\"0.16\",\"x\":14,\"xref\":\"x\",\"y\":0,\"yref\":\"y\"},{\"font\":{\"color\":\"#000000\"},\"showarrow\":false,\"text\":\"0.04\",\"x\":15,\"xref\":\"x\",\"y\":0,\"yref\":\"y\"},{\"font\":{\"color\":\"#000000\"},\"showarrow\":false,\"text\":\"0.1\",\"x\":0,\"xref\":\"x\",\"y\":1,\"yref\":\"y\"},{\"font\":{\"color\":\"#FFFFFF\"},\"showarrow\":false,\"text\":\"1.0\",\"x\":1,\"xref\":\"x\",\"y\":1,\"yref\":\"y\"},{\"font\":{\"color\":\"#000000\"},\"showarrow\":false,\"text\":\"0.0\",\"x\":2,\"xref\":\"x\",\"y\":1,\"yref\":\"y\"},{\"font\":{\"color\":\"#000000\"},\"showarrow\":false,\"text\":\"0.02\",\"x\":3,\"xref\":\"x\",\"y\":1,\"yref\":\"y\"},{\"font\":{\"color\":\"#000000\"},\"showarrow\":false,\"text\":\"0.01\",\"x\":4,\"xref\":\"x\",\"y\":1,\"yref\":\"y\"},{\"font\":{\"color\":\"#000000\"},\"showarrow\":false,\"text\":\"0.0\",\"x\":5,\"xref\":\"x\",\"y\":1,\"yref\":\"y\"},{\"font\":{\"color\":\"#000000\"},\"showarrow\":false,\"text\":\"0.02\",\"x\":6,\"xref\":\"x\",\"y\":1,\"yref\":\"y\"},{\"font\":{\"color\":\"#000000\"},\"showarrow\":false,\"text\":\"0.1\",\"x\":7,\"xref\":\"x\",\"y\":1,\"yref\":\"y\"},{\"font\":{\"color\":\"#000000\"},\"showarrow\":false,\"text\":\"0.03\",\"x\":8,\"xref\":\"x\",\"y\":1,\"yref\":\"y\"},{\"font\":{\"color\":\"#000000\"},\"showarrow\":false,\"text\":\"0.09\",\"x\":9,\"xref\":\"x\",\"y\":1,\"yref\":\"y\"},{\"font\":{\"color\":\"#000000\"},\"showarrow\":false,\"text\":\"0.07\",\"x\":10,\"xref\":\"x\",\"y\":1,\"yref\":\"y\"},{\"font\":{\"color\":\"#000000\"},\"showarrow\":false,\"text\":\"0.07\",\"x\":11,\"xref\":\"x\",\"y\":1,\"yref\":\"y\"},{\"font\":{\"color\":\"#000000\"},\"showarrow\":false,\"text\":\"0.08\",\"x\":12,\"xref\":\"x\",\"y\":1,\"yref\":\"y\"},{\"font\":{\"color\":\"#000000\"},\"showarrow\":false,\"text\":\"0.05\",\"x\":13,\"xref\":\"x\",\"y\":1,\"yref\":\"y\"},{\"font\":{\"color\":\"#000000\"},\"showarrow\":false,\"text\":\"0.16\",\"x\":14,\"xref\":\"x\",\"y\":1,\"yref\":\"y\"},{\"font\":{\"color\":\"#000000\"},\"showarrow\":false,\"text\":\"0.04\",\"x\":15,\"xref\":\"x\",\"y\":1,\"yref\":\"y\"},{\"font\":{\"color\":\"#000000\"},\"showarrow\":false,\"text\":\"0.01\",\"x\":0,\"xref\":\"x\",\"y\":2,\"yref\":\"y\"},{\"font\":{\"color\":\"#000000\"},\"showarrow\":false,\"text\":\"0.0\",\"x\":1,\"xref\":\"x\",\"y\":2,\"yref\":\"y\"},{\"font\":{\"color\":\"#FFFFFF\"},\"showarrow\":false,\"text\":\"1.0\",\"x\":2,\"xref\":\"x\",\"y\":2,\"yref\":\"y\"},{\"font\":{\"color\":\"#000000\"},\"showarrow\":false,\"text\":\"0.03\",\"x\":3,\"xref\":\"x\",\"y\":2,\"yref\":\"y\"},{\"font\":{\"color\":\"#000000\"},\"showarrow\":false,\"text\":\"0.16\",\"x\":4,\"xref\":\"x\",\"y\":2,\"yref\":\"y\"},{\"font\":{\"color\":\"#000000\"},\"showarrow\":false,\"text\":\"0.09\",\"x\":5,\"xref\":\"x\",\"y\":2,\"yref\":\"y\"},{\"font\":{\"color\":\"#000000\"},\"showarrow\":false,\"text\":\"0.05\",\"x\":6,\"xref\":\"x\",\"y\":2,\"yref\":\"y\"},{\"font\":{\"color\":\"#000000\"},\"showarrow\":false,\"text\":\"0.05\",\"x\":7,\"xref\":\"x\",\"y\":2,\"yref\":\"y\"},{\"font\":{\"color\":\"#000000\"},\"showarrow\":false,\"text\":\"0.01\",\"x\":8,\"xref\":\"x\",\"y\":2,\"yref\":\"y\"},{\"font\":{\"color\":\"#000000\"},\"showarrow\":false,\"text\":\"0.03\",\"x\":9,\"xref\":\"x\",\"y\":2,\"yref\":\"y\"},{\"font\":{\"color\":\"#000000\"},\"showarrow\":false,\"text\":\"0.01\",\"x\":10,\"xref\":\"x\",\"y\":2,\"yref\":\"y\"},{\"font\":{\"color\":\"#000000\"},\"showarrow\":false,\"text\":\"0.03\",\"x\":11,\"xref\":\"x\",\"y\":2,\"yref\":\"y\"},{\"font\":{\"color\":\"#000000\"},\"showarrow\":false,\"text\":\"0.01\",\"x\":12,\"xref\":\"x\",\"y\":2,\"yref\":\"y\"},{\"font\":{\"color\":\"#000000\"},\"showarrow\":false,\"text\":\"0.04\",\"x\":13,\"xref\":\"x\",\"y\":2,\"yref\":\"y\"},{\"font\":{\"color\":\"#000000\"},\"showarrow\":false,\"text\":\"0.45\",\"x\":14,\"xref\":\"x\",\"y\":2,\"yref\":\"y\"},{\"font\":{\"color\":\"#000000\"},\"showarrow\":false,\"text\":\"0.09\",\"x\":15,\"xref\":\"x\",\"y\":2,\"yref\":\"y\"},{\"font\":{\"color\":\"#000000\"},\"showarrow\":false,\"text\":\"0.0\",\"x\":0,\"xref\":\"x\",\"y\":3,\"yref\":\"y\"},{\"font\":{\"color\":\"#000000\"},\"showarrow\":false,\"text\":\"0.02\",\"x\":1,\"xref\":\"x\",\"y\":3,\"yref\":\"y\"},{\"font\":{\"color\":\"#000000\"},\"showarrow\":false,\"text\":\"0.03\",\"x\":2,\"xref\":\"x\",\"y\":3,\"yref\":\"y\"},{\"font\":{\"color\":\"#FFFFFF\"},\"showarrow\":false,\"text\":\"1.0\",\"x\":3,\"xref\":\"x\",\"y\":3,\"yref\":\"y\"},{\"font\":{\"color\":\"#000000\"},\"showarrow\":false,\"text\":\"0.08\",\"x\":4,\"xref\":\"x\",\"y\":3,\"yref\":\"y\"},{\"font\":{\"color\":\"#000000\"},\"showarrow\":false,\"text\":\"0.0\",\"x\":5,\"xref\":\"x\",\"y\":3,\"yref\":\"y\"},{\"font\":{\"color\":\"#000000\"},\"showarrow\":false,\"text\":\"0.0\",\"x\":6,\"xref\":\"x\",\"y\":3,\"yref\":\"y\"},{\"font\":{\"color\":\"#000000\"},\"showarrow\":false,\"text\":\"0.04\",\"x\":7,\"xref\":\"x\",\"y\":3,\"yref\":\"y\"},{\"font\":{\"color\":\"#000000\"},\"showarrow\":false,\"text\":\"0.02\",\"x\":8,\"xref\":\"x\",\"y\":3,\"yref\":\"y\"},{\"font\":{\"color\":\"#000000\"},\"showarrow\":false,\"text\":\"0.0\",\"x\":9,\"xref\":\"x\",\"y\":3,\"yref\":\"y\"},{\"font\":{\"color\":\"#000000\"},\"showarrow\":false,\"text\":\"0.01\",\"x\":10,\"xref\":\"x\",\"y\":3,\"yref\":\"y\"},{\"font\":{\"color\":\"#000000\"},\"showarrow\":false,\"text\":\"0.01\",\"x\":11,\"xref\":\"x\",\"y\":3,\"yref\":\"y\"},{\"font\":{\"color\":\"#000000\"},\"showarrow\":false,\"text\":\"0.01\",\"x\":12,\"xref\":\"x\",\"y\":3,\"yref\":\"y\"},{\"font\":{\"color\":\"#000000\"},\"showarrow\":false,\"text\":\"0.03\",\"x\":13,\"xref\":\"x\",\"y\":3,\"yref\":\"y\"},{\"font\":{\"color\":\"#000000\"},\"showarrow\":false,\"text\":\"0.07\",\"x\":14,\"xref\":\"x\",\"y\":3,\"yref\":\"y\"},{\"font\":{\"color\":\"#000000\"},\"showarrow\":false,\"text\":\"0.05\",\"x\":15,\"xref\":\"x\",\"y\":3,\"yref\":\"y\"},{\"font\":{\"color\":\"#000000\"},\"showarrow\":false,\"text\":\"0.0\",\"x\":0,\"xref\":\"x\",\"y\":4,\"yref\":\"y\"},{\"font\":{\"color\":\"#000000\"},\"showarrow\":false,\"text\":\"0.01\",\"x\":1,\"xref\":\"x\",\"y\":4,\"yref\":\"y\"},{\"font\":{\"color\":\"#000000\"},\"showarrow\":false,\"text\":\"0.16\",\"x\":2,\"xref\":\"x\",\"y\":4,\"yref\":\"y\"},{\"font\":{\"color\":\"#000000\"},\"showarrow\":false,\"text\":\"0.08\",\"x\":3,\"xref\":\"x\",\"y\":4,\"yref\":\"y\"},{\"font\":{\"color\":\"#FFFFFF\"},\"showarrow\":false,\"text\":\"1.0\",\"x\":4,\"xref\":\"x\",\"y\":4,\"yref\":\"y\"},{\"font\":{\"color\":\"#000000\"},\"showarrow\":false,\"text\":\"0.09\",\"x\":5,\"xref\":\"x\",\"y\":4,\"yref\":\"y\"},{\"font\":{\"color\":\"#000000\"},\"showarrow\":false,\"text\":\"0.03\",\"x\":6,\"xref\":\"x\",\"y\":4,\"yref\":\"y\"},{\"font\":{\"color\":\"#000000\"},\"showarrow\":false,\"text\":\"0.06\",\"x\":7,\"xref\":\"x\",\"y\":4,\"yref\":\"y\"},{\"font\":{\"color\":\"#000000\"},\"showarrow\":false,\"text\":\"0.03\",\"x\":8,\"xref\":\"x\",\"y\":4,\"yref\":\"y\"},{\"font\":{\"color\":\"#000000\"},\"showarrow\":false,\"text\":\"0.02\",\"x\":9,\"xref\":\"x\",\"y\":4,\"yref\":\"y\"},{\"font\":{\"color\":\"#000000\"},\"showarrow\":false,\"text\":\"0.02\",\"x\":10,\"xref\":\"x\",\"y\":4,\"yref\":\"y\"},{\"font\":{\"color\":\"#000000\"},\"showarrow\":false,\"text\":\"0.02\",\"x\":11,\"xref\":\"x\",\"y\":4,\"yref\":\"y\"},{\"font\":{\"color\":\"#000000\"},\"showarrow\":false,\"text\":\"0.01\",\"x\":12,\"xref\":\"x\",\"y\":4,\"yref\":\"y\"},{\"font\":{\"color\":\"#000000\"},\"showarrow\":false,\"text\":\"0.06\",\"x\":13,\"xref\":\"x\",\"y\":4,\"yref\":\"y\"},{\"font\":{\"color\":\"#000000\"},\"showarrow\":false,\"text\":\"0.23\",\"x\":14,\"xref\":\"x\",\"y\":4,\"yref\":\"y\"},{\"font\":{\"color\":\"#000000\"},\"showarrow\":false,\"text\":\"0.11\",\"x\":15,\"xref\":\"x\",\"y\":4,\"yref\":\"y\"},{\"font\":{\"color\":\"#000000\"},\"showarrow\":false,\"text\":\"0.02\",\"x\":0,\"xref\":\"x\",\"y\":5,\"yref\":\"y\"},{\"font\":{\"color\":\"#000000\"},\"showarrow\":false,\"text\":\"0.0\",\"x\":1,\"xref\":\"x\",\"y\":5,\"yref\":\"y\"},{\"font\":{\"color\":\"#000000\"},\"showarrow\":false,\"text\":\"0.09\",\"x\":2,\"xref\":\"x\",\"y\":5,\"yref\":\"y\"},{\"font\":{\"color\":\"#000000\"},\"showarrow\":false,\"text\":\"0.0\",\"x\":3,\"xref\":\"x\",\"y\":5,\"yref\":\"y\"},{\"font\":{\"color\":\"#000000\"},\"showarrow\":false,\"text\":\"0.09\",\"x\":4,\"xref\":\"x\",\"y\":5,\"yref\":\"y\"},{\"font\":{\"color\":\"#FFFFFF\"},\"showarrow\":false,\"text\":\"1.0\",\"x\":5,\"xref\":\"x\",\"y\":5,\"yref\":\"y\"},{\"font\":{\"color\":\"#000000\"},\"showarrow\":false,\"text\":\"0.45\",\"x\":6,\"xref\":\"x\",\"y\":5,\"yref\":\"y\"},{\"font\":{\"color\":\"#000000\"},\"showarrow\":false,\"text\":\"0.06\",\"x\":7,\"xref\":\"x\",\"y\":5,\"yref\":\"y\"},{\"font\":{\"color\":\"#000000\"},\"showarrow\":false,\"text\":\"0.03\",\"x\":8,\"xref\":\"x\",\"y\":5,\"yref\":\"y\"},{\"font\":{\"color\":\"#000000\"},\"showarrow\":false,\"text\":\"0.02\",\"x\":9,\"xref\":\"x\",\"y\":5,\"yref\":\"y\"},{\"font\":{\"color\":\"#000000\"},\"showarrow\":false,\"text\":\"0.03\",\"x\":10,\"xref\":\"x\",\"y\":5,\"yref\":\"y\"},{\"font\":{\"color\":\"#000000\"},\"showarrow\":false,\"text\":\"0.12\",\"x\":11,\"xref\":\"x\",\"y\":5,\"yref\":\"y\"},{\"font\":{\"color\":\"#000000\"},\"showarrow\":false,\"text\":\"0.02\",\"x\":12,\"xref\":\"x\",\"y\":5,\"yref\":\"y\"},{\"font\":{\"color\":\"#000000\"},\"showarrow\":false,\"text\":\"0.25\",\"x\":13,\"xref\":\"x\",\"y\":5,\"yref\":\"y\"},{\"font\":{\"color\":\"#000000\"},\"showarrow\":false,\"text\":\"0.29\",\"x\":14,\"xref\":\"x\",\"y\":5,\"yref\":\"y\"},{\"font\":{\"color\":\"#FFFFFF\"},\"showarrow\":false,\"text\":\"0.88\",\"x\":15,\"xref\":\"x\",\"y\":5,\"yref\":\"y\"},{\"font\":{\"color\":\"#000000\"},\"showarrow\":false,\"text\":\"0.0\",\"x\":0,\"xref\":\"x\",\"y\":6,\"yref\":\"y\"},{\"font\":{\"color\":\"#000000\"},\"showarrow\":false,\"text\":\"0.02\",\"x\":1,\"xref\":\"x\",\"y\":6,\"yref\":\"y\"},{\"font\":{\"color\":\"#000000\"},\"showarrow\":false,\"text\":\"0.05\",\"x\":2,\"xref\":\"x\",\"y\":6,\"yref\":\"y\"},{\"font\":{\"color\":\"#000000\"},\"showarrow\":false,\"text\":\"0.0\",\"x\":3,\"xref\":\"x\",\"y\":6,\"yref\":\"y\"},{\"font\":{\"color\":\"#000000\"},\"showarrow\":false,\"text\":\"0.03\",\"x\":4,\"xref\":\"x\",\"y\":6,\"yref\":\"y\"},{\"font\":{\"color\":\"#000000\"},\"showarrow\":false,\"text\":\"0.45\",\"x\":5,\"xref\":\"x\",\"y\":6,\"yref\":\"y\"},{\"font\":{\"color\":\"#FFFFFF\"},\"showarrow\":false,\"text\":\"1.0\",\"x\":6,\"xref\":\"x\",\"y\":6,\"yref\":\"y\"},{\"font\":{\"color\":\"#000000\"},\"showarrow\":false,\"text\":\"0.04\",\"x\":7,\"xref\":\"x\",\"y\":6,\"yref\":\"y\"},{\"font\":{\"color\":\"#000000\"},\"showarrow\":false,\"text\":\"0.02\",\"x\":8,\"xref\":\"x\",\"y\":6,\"yref\":\"y\"},{\"font\":{\"color\":\"#000000\"},\"showarrow\":false,\"text\":\"0.03\",\"x\":9,\"xref\":\"x\",\"y\":6,\"yref\":\"y\"},{\"font\":{\"color\":\"#000000\"},\"showarrow\":false,\"text\":\"0.02\",\"x\":10,\"xref\":\"x\",\"y\":6,\"yref\":\"y\"},{\"font\":{\"color\":\"#000000\"},\"showarrow\":false,\"text\":\"0.04\",\"x\":11,\"xref\":\"x\",\"y\":6,\"yref\":\"y\"},{\"font\":{\"color\":\"#000000\"},\"showarrow\":false,\"text\":\"0.01\",\"x\":12,\"xref\":\"x\",\"y\":6,\"yref\":\"y\"},{\"font\":{\"color\":\"#000000\"},\"showarrow\":false,\"text\":\"0.15\",\"x\":13,\"xref\":\"x\",\"y\":6,\"yref\":\"y\"},{\"font\":{\"color\":\"#000000\"},\"showarrow\":false,\"text\":\"0.18\",\"x\":14,\"xref\":\"x\",\"y\":6,\"yref\":\"y\"},{\"font\":{\"color\":\"#FFFFFF\"},\"showarrow\":false,\"text\":\"0.54\",\"x\":15,\"xref\":\"x\",\"y\":6,\"yref\":\"y\"},{\"font\":{\"color\":\"#FFFFFF\"},\"showarrow\":false,\"text\":\"0.5\",\"x\":0,\"xref\":\"x\",\"y\":7,\"yref\":\"y\"},{\"font\":{\"color\":\"#000000\"},\"showarrow\":false,\"text\":\"0.1\",\"x\":1,\"xref\":\"x\",\"y\":7,\"yref\":\"y\"},{\"font\":{\"color\":\"#000000\"},\"showarrow\":false,\"text\":\"0.05\",\"x\":2,\"xref\":\"x\",\"y\":7,\"yref\":\"y\"},{\"font\":{\"color\":\"#000000\"},\"showarrow\":false,\"text\":\"0.04\",\"x\":3,\"xref\":\"x\",\"y\":7,\"yref\":\"y\"},{\"font\":{\"color\":\"#000000\"},\"showarrow\":false,\"text\":\"0.06\",\"x\":4,\"xref\":\"x\",\"y\":7,\"yref\":\"y\"},{\"font\":{\"color\":\"#000000\"},\"showarrow\":false,\"text\":\"0.06\",\"x\":5,\"xref\":\"x\",\"y\":7,\"yref\":\"y\"},{\"font\":{\"color\":\"#000000\"},\"showarrow\":false,\"text\":\"0.04\",\"x\":6,\"xref\":\"x\",\"y\":7,\"yref\":\"y\"},{\"font\":{\"color\":\"#FFFFFF\"},\"showarrow\":false,\"text\":\"1.0\",\"x\":7,\"xref\":\"x\",\"y\":7,\"yref\":\"y\"},{\"font\":{\"color\":\"#000000\"},\"showarrow\":false,\"text\":\"0.21\",\"x\":8,\"xref\":\"x\",\"y\":7,\"yref\":\"y\"},{\"font\":{\"color\":\"#000000\"},\"showarrow\":false,\"text\":\"0.46\",\"x\":9,\"xref\":\"x\",\"y\":7,\"yref\":\"y\"},{\"font\":{\"color\":\"#000000\"},\"showarrow\":false,\"text\":\"0.04\",\"x\":10,\"xref\":\"x\",\"y\":7,\"yref\":\"y\"},{\"font\":{\"color\":\"#000000\"},\"showarrow\":false,\"text\":\"0.28\",\"x\":11,\"xref\":\"x\",\"y\":7,\"yref\":\"y\"},{\"font\":{\"color\":\"#000000\"},\"showarrow\":false,\"text\":\"0.11\",\"x\":12,\"xref\":\"x\",\"y\":7,\"yref\":\"y\"},{\"font\":{\"color\":\"#000000\"},\"showarrow\":false,\"text\":\"0.15\",\"x\":13,\"xref\":\"x\",\"y\":7,\"yref\":\"y\"},{\"font\":{\"color\":\"#000000\"},\"showarrow\":false,\"text\":\"0.11\",\"x\":14,\"xref\":\"x\",\"y\":7,\"yref\":\"y\"},{\"font\":{\"color\":\"#000000\"},\"showarrow\":false,\"text\":\"0.06\",\"x\":15,\"xref\":\"x\",\"y\":7,\"yref\":\"y\"},{\"font\":{\"color\":\"#000000\"},\"showarrow\":false,\"text\":\"0.43\",\"x\":0,\"xref\":\"x\",\"y\":8,\"yref\":\"y\"},{\"font\":{\"color\":\"#000000\"},\"showarrow\":false,\"text\":\"0.03\",\"x\":1,\"xref\":\"x\",\"y\":8,\"yref\":\"y\"},{\"font\":{\"color\":\"#000000\"},\"showarrow\":false,\"text\":\"0.01\",\"x\":2,\"xref\":\"x\",\"y\":8,\"yref\":\"y\"},{\"font\":{\"color\":\"#000000\"},\"showarrow\":false,\"text\":\"0.02\",\"x\":3,\"xref\":\"x\",\"y\":8,\"yref\":\"y\"},{\"font\":{\"color\":\"#000000\"},\"showarrow\":false,\"text\":\"0.03\",\"x\":4,\"xref\":\"x\",\"y\":8,\"yref\":\"y\"},{\"font\":{\"color\":\"#000000\"},\"showarrow\":false,\"text\":\"0.03\",\"x\":5,\"xref\":\"x\",\"y\":8,\"yref\":\"y\"},{\"font\":{\"color\":\"#000000\"},\"showarrow\":false,\"text\":\"0.02\",\"x\":6,\"xref\":\"x\",\"y\":8,\"yref\":\"y\"},{\"font\":{\"color\":\"#000000\"},\"showarrow\":false,\"text\":\"0.21\",\"x\":7,\"xref\":\"x\",\"y\":8,\"yref\":\"y\"},{\"font\":{\"color\":\"#FFFFFF\"},\"showarrow\":false,\"text\":\"1.0\",\"x\":8,\"xref\":\"x\",\"y\":8,\"yref\":\"y\"},{\"font\":{\"color\":\"#000000\"},\"showarrow\":false,\"text\":\"0.12\",\"x\":9,\"xref\":\"x\",\"y\":8,\"yref\":\"y\"},{\"font\":{\"color\":\"#000000\"},\"showarrow\":false,\"text\":\"0.02\",\"x\":10,\"xref\":\"x\",\"y\":8,\"yref\":\"y\"},{\"font\":{\"color\":\"#000000\"},\"showarrow\":false,\"text\":\"0.02\",\"x\":11,\"xref\":\"x\",\"y\":8,\"yref\":\"y\"},{\"font\":{\"color\":\"#000000\"},\"showarrow\":false,\"text\":\"0.05\",\"x\":12,\"xref\":\"x\",\"y\":8,\"yref\":\"y\"},{\"font\":{\"color\":\"#000000\"},\"showarrow\":false,\"text\":\"0.05\",\"x\":13,\"xref\":\"x\",\"y\":8,\"yref\":\"y\"},{\"font\":{\"color\":\"#000000\"},\"showarrow\":false,\"text\":\"0.07\",\"x\":14,\"xref\":\"x\",\"y\":8,\"yref\":\"y\"},{\"font\":{\"color\":\"#000000\"},\"showarrow\":false,\"text\":\"0.03\",\"x\":15,\"xref\":\"x\",\"y\":8,\"yref\":\"y\"},{\"font\":{\"color\":\"#000000\"},\"showarrow\":false,\"text\":\"0.22\",\"x\":0,\"xref\":\"x\",\"y\":9,\"yref\":\"y\"},{\"font\":{\"color\":\"#000000\"},\"showarrow\":false,\"text\":\"0.09\",\"x\":1,\"xref\":\"x\",\"y\":9,\"yref\":\"y\"},{\"font\":{\"color\":\"#000000\"},\"showarrow\":false,\"text\":\"0.03\",\"x\":2,\"xref\":\"x\",\"y\":9,\"yref\":\"y\"},{\"font\":{\"color\":\"#000000\"},\"showarrow\":false,\"text\":\"0.0\",\"x\":3,\"xref\":\"x\",\"y\":9,\"yref\":\"y\"},{\"font\":{\"color\":\"#000000\"},\"showarrow\":false,\"text\":\"0.02\",\"x\":4,\"xref\":\"x\",\"y\":9,\"yref\":\"y\"},{\"font\":{\"color\":\"#000000\"},\"showarrow\":false,\"text\":\"0.02\",\"x\":5,\"xref\":\"x\",\"y\":9,\"yref\":\"y\"},{\"font\":{\"color\":\"#000000\"},\"showarrow\":false,\"text\":\"0.03\",\"x\":6,\"xref\":\"x\",\"y\":9,\"yref\":\"y\"},{\"font\":{\"color\":\"#000000\"},\"showarrow\":false,\"text\":\"0.46\",\"x\":7,\"xref\":\"x\",\"y\":9,\"yref\":\"y\"},{\"font\":{\"color\":\"#000000\"},\"showarrow\":false,\"text\":\"0.12\",\"x\":8,\"xref\":\"x\",\"y\":9,\"yref\":\"y\"},{\"font\":{\"color\":\"#FFFFFF\"},\"showarrow\":false,\"text\":\"1.0\",\"x\":9,\"xref\":\"x\",\"y\":9,\"yref\":\"y\"},{\"font\":{\"color\":\"#000000\"},\"showarrow\":false,\"text\":\"0.02\",\"x\":10,\"xref\":\"x\",\"y\":9,\"yref\":\"y\"},{\"font\":{\"color\":\"#000000\"},\"showarrow\":false,\"text\":\"0.12\",\"x\":11,\"xref\":\"x\",\"y\":9,\"yref\":\"y\"},{\"font\":{\"color\":\"#000000\"},\"showarrow\":false,\"text\":\"0.08\",\"x\":12,\"xref\":\"x\",\"y\":9,\"yref\":\"y\"},{\"font\":{\"color\":\"#000000\"},\"showarrow\":false,\"text\":\"0.12\",\"x\":13,\"xref\":\"x\",\"y\":9,\"yref\":\"y\"},{\"font\":{\"color\":\"#000000\"},\"showarrow\":false,\"text\":\"0.11\",\"x\":14,\"xref\":\"x\",\"y\":9,\"yref\":\"y\"},{\"font\":{\"color\":\"#000000\"},\"showarrow\":false,\"text\":\"0.04\",\"x\":15,\"xref\":\"x\",\"y\":9,\"yref\":\"y\"},{\"font\":{\"color\":\"#000000\"},\"showarrow\":false,\"text\":\"0.02\",\"x\":0,\"xref\":\"x\",\"y\":10,\"yref\":\"y\"},{\"font\":{\"color\":\"#000000\"},\"showarrow\":false,\"text\":\"0.07\",\"x\":1,\"xref\":\"x\",\"y\":10,\"yref\":\"y\"},{\"font\":{\"color\":\"#000000\"},\"showarrow\":false,\"text\":\"0.01\",\"x\":2,\"xref\":\"x\",\"y\":10,\"yref\":\"y\"},{\"font\":{\"color\":\"#000000\"},\"showarrow\":false,\"text\":\"0.01\",\"x\":3,\"xref\":\"x\",\"y\":10,\"yref\":\"y\"},{\"font\":{\"color\":\"#000000\"},\"showarrow\":false,\"text\":\"0.02\",\"x\":4,\"xref\":\"x\",\"y\":10,\"yref\":\"y\"},{\"font\":{\"color\":\"#000000\"},\"showarrow\":false,\"text\":\"0.03\",\"x\":5,\"xref\":\"x\",\"y\":10,\"yref\":\"y\"},{\"font\":{\"color\":\"#000000\"},\"showarrow\":false,\"text\":\"0.02\",\"x\":6,\"xref\":\"x\",\"y\":10,\"yref\":\"y\"},{\"font\":{\"color\":\"#000000\"},\"showarrow\":false,\"text\":\"0.04\",\"x\":7,\"xref\":\"x\",\"y\":10,\"yref\":\"y\"},{\"font\":{\"color\":\"#000000\"},\"showarrow\":false,\"text\":\"0.02\",\"x\":8,\"xref\":\"x\",\"y\":10,\"yref\":\"y\"},{\"font\":{\"color\":\"#000000\"},\"showarrow\":false,\"text\":\"0.02\",\"x\":9,\"xref\":\"x\",\"y\":10,\"yref\":\"y\"},{\"font\":{\"color\":\"#FFFFFF\"},\"showarrow\":false,\"text\":\"1.0\",\"x\":10,\"xref\":\"x\",\"y\":10,\"yref\":\"y\"},{\"font\":{\"color\":\"#000000\"},\"showarrow\":false,\"text\":\"0.01\",\"x\":11,\"xref\":\"x\",\"y\":10,\"yref\":\"y\"},{\"font\":{\"color\":\"#000000\"},\"showarrow\":false,\"text\":\"0.08\",\"x\":12,\"xref\":\"x\",\"y\":10,\"yref\":\"y\"},{\"font\":{\"color\":\"#000000\"},\"showarrow\":false,\"text\":\"0.02\",\"x\":13,\"xref\":\"x\",\"y\":10,\"yref\":\"y\"},{\"font\":{\"color\":\"#000000\"},\"showarrow\":false,\"text\":\"0.06\",\"x\":14,\"xref\":\"x\",\"y\":10,\"yref\":\"y\"},{\"font\":{\"color\":\"#000000\"},\"showarrow\":false,\"text\":\"0.04\",\"x\":15,\"xref\":\"x\",\"y\":10,\"yref\":\"y\"},{\"font\":{\"color\":\"#000000\"},\"showarrow\":false,\"text\":\"0.19\",\"x\":0,\"xref\":\"x\",\"y\":11,\"yref\":\"y\"},{\"font\":{\"color\":\"#000000\"},\"showarrow\":false,\"text\":\"0.07\",\"x\":1,\"xref\":\"x\",\"y\":11,\"yref\":\"y\"},{\"font\":{\"color\":\"#000000\"},\"showarrow\":false,\"text\":\"0.03\",\"x\":2,\"xref\":\"x\",\"y\":11,\"yref\":\"y\"},{\"font\":{\"color\":\"#000000\"},\"showarrow\":false,\"text\":\"0.01\",\"x\":3,\"xref\":\"x\",\"y\":11,\"yref\":\"y\"},{\"font\":{\"color\":\"#000000\"},\"showarrow\":false,\"text\":\"0.02\",\"x\":4,\"xref\":\"x\",\"y\":11,\"yref\":\"y\"},{\"font\":{\"color\":\"#000000\"},\"showarrow\":false,\"text\":\"0.12\",\"x\":5,\"xref\":\"x\",\"y\":11,\"yref\":\"y\"},{\"font\":{\"color\":\"#000000\"},\"showarrow\":false,\"text\":\"0.04\",\"x\":6,\"xref\":\"x\",\"y\":11,\"yref\":\"y\"},{\"font\":{\"color\":\"#000000\"},\"showarrow\":false,\"text\":\"0.28\",\"x\":7,\"xref\":\"x\",\"y\":11,\"yref\":\"y\"},{\"font\":{\"color\":\"#000000\"},\"showarrow\":false,\"text\":\"0.02\",\"x\":8,\"xref\":\"x\",\"y\":11,\"yref\":\"y\"},{\"font\":{\"color\":\"#000000\"},\"showarrow\":false,\"text\":\"0.12\",\"x\":9,\"xref\":\"x\",\"y\":11,\"yref\":\"y\"},{\"font\":{\"color\":\"#000000\"},\"showarrow\":false,\"text\":\"0.01\",\"x\":10,\"xref\":\"x\",\"y\":11,\"yref\":\"y\"},{\"font\":{\"color\":\"#FFFFFF\"},\"showarrow\":false,\"text\":\"1.0\",\"x\":11,\"xref\":\"x\",\"y\":11,\"yref\":\"y\"},{\"font\":{\"color\":\"#000000\"},\"showarrow\":false,\"text\":\"0.04\",\"x\":12,\"xref\":\"x\",\"y\":11,\"yref\":\"y\"},{\"font\":{\"color\":\"#000000\"},\"showarrow\":false,\"text\":\"0.21\",\"x\":13,\"xref\":\"x\",\"y\":11,\"yref\":\"y\"},{\"font\":{\"color\":\"#FFFFFF\"},\"showarrow\":false,\"text\":\"0.5\",\"x\":14,\"xref\":\"x\",\"y\":11,\"yref\":\"y\"},{\"font\":{\"color\":\"#000000\"},\"showarrow\":false,\"text\":\"0.14\",\"x\":15,\"xref\":\"x\",\"y\":11,\"yref\":\"y\"},{\"font\":{\"color\":\"#000000\"},\"showarrow\":false,\"text\":\"0.02\",\"x\":0,\"xref\":\"x\",\"y\":12,\"yref\":\"y\"},{\"font\":{\"color\":\"#000000\"},\"showarrow\":false,\"text\":\"0.08\",\"x\":1,\"xref\":\"x\",\"y\":12,\"yref\":\"y\"},{\"font\":{\"color\":\"#000000\"},\"showarrow\":false,\"text\":\"0.01\",\"x\":2,\"xref\":\"x\",\"y\":12,\"yref\":\"y\"},{\"font\":{\"color\":\"#000000\"},\"showarrow\":false,\"text\":\"0.01\",\"x\":3,\"xref\":\"x\",\"y\":12,\"yref\":\"y\"},{\"font\":{\"color\":\"#000000\"},\"showarrow\":false,\"text\":\"0.01\",\"x\":4,\"xref\":\"x\",\"y\":12,\"yref\":\"y\"},{\"font\":{\"color\":\"#000000\"},\"showarrow\":false,\"text\":\"0.02\",\"x\":5,\"xref\":\"x\",\"y\":12,\"yref\":\"y\"},{\"font\":{\"color\":\"#000000\"},\"showarrow\":false,\"text\":\"0.01\",\"x\":6,\"xref\":\"x\",\"y\":12,\"yref\":\"y\"},{\"font\":{\"color\":\"#000000\"},\"showarrow\":false,\"text\":\"0.11\",\"x\":7,\"xref\":\"x\",\"y\":12,\"yref\":\"y\"},{\"font\":{\"color\":\"#000000\"},\"showarrow\":false,\"text\":\"0.05\",\"x\":8,\"xref\":\"x\",\"y\":12,\"yref\":\"y\"},{\"font\":{\"color\":\"#000000\"},\"showarrow\":false,\"text\":\"0.08\",\"x\":9,\"xref\":\"x\",\"y\":12,\"yref\":\"y\"},{\"font\":{\"color\":\"#000000\"},\"showarrow\":false,\"text\":\"0.08\",\"x\":10,\"xref\":\"x\",\"y\":12,\"yref\":\"y\"},{\"font\":{\"color\":\"#000000\"},\"showarrow\":false,\"text\":\"0.04\",\"x\":11,\"xref\":\"x\",\"y\":12,\"yref\":\"y\"},{\"font\":{\"color\":\"#FFFFFF\"},\"showarrow\":false,\"text\":\"1.0\",\"x\":12,\"xref\":\"x\",\"y\":12,\"yref\":\"y\"},{\"font\":{\"color\":\"#000000\"},\"showarrow\":false,\"text\":\"0.02\",\"x\":13,\"xref\":\"x\",\"y\":12,\"yref\":\"y\"},{\"font\":{\"color\":\"#000000\"},\"showarrow\":false,\"text\":\"0.18\",\"x\":14,\"xref\":\"x\",\"y\":12,\"yref\":\"y\"},{\"font\":{\"color\":\"#000000\"},\"showarrow\":false,\"text\":\"0.06\",\"x\":15,\"xref\":\"x\",\"y\":12,\"yref\":\"y\"},{\"font\":{\"color\":\"#000000\"},\"showarrow\":false,\"text\":\"0.17\",\"x\":0,\"xref\":\"x\",\"y\":13,\"yref\":\"y\"},{\"font\":{\"color\":\"#000000\"},\"showarrow\":false,\"text\":\"0.05\",\"x\":1,\"xref\":\"x\",\"y\":13,\"yref\":\"y\"},{\"font\":{\"color\":\"#000000\"},\"showarrow\":false,\"text\":\"0.04\",\"x\":2,\"xref\":\"x\",\"y\":13,\"yref\":\"y\"},{\"font\":{\"color\":\"#000000\"},\"showarrow\":false,\"text\":\"0.03\",\"x\":3,\"xref\":\"x\",\"y\":13,\"yref\":\"y\"},{\"font\":{\"color\":\"#000000\"},\"showarrow\":false,\"text\":\"0.06\",\"x\":4,\"xref\":\"x\",\"y\":13,\"yref\":\"y\"},{\"font\":{\"color\":\"#000000\"},\"showarrow\":false,\"text\":\"0.25\",\"x\":5,\"xref\":\"x\",\"y\":13,\"yref\":\"y\"},{\"font\":{\"color\":\"#000000\"},\"showarrow\":false,\"text\":\"0.15\",\"x\":6,\"xref\":\"x\",\"y\":13,\"yref\":\"y\"},{\"font\":{\"color\":\"#000000\"},\"showarrow\":false,\"text\":\"0.15\",\"x\":7,\"xref\":\"x\",\"y\":13,\"yref\":\"y\"},{\"font\":{\"color\":\"#000000\"},\"showarrow\":false,\"text\":\"0.05\",\"x\":8,\"xref\":\"x\",\"y\":13,\"yref\":\"y\"},{\"font\":{\"color\":\"#000000\"},\"showarrow\":false,\"text\":\"0.12\",\"x\":9,\"xref\":\"x\",\"y\":13,\"yref\":\"y\"},{\"font\":{\"color\":\"#000000\"},\"showarrow\":false,\"text\":\"0.02\",\"x\":10,\"xref\":\"x\",\"y\":13,\"yref\":\"y\"},{\"font\":{\"color\":\"#000000\"},\"showarrow\":false,\"text\":\"0.21\",\"x\":11,\"xref\":\"x\",\"y\":13,\"yref\":\"y\"},{\"font\":{\"color\":\"#000000\"},\"showarrow\":false,\"text\":\"0.02\",\"x\":12,\"xref\":\"x\",\"y\":13,\"yref\":\"y\"},{\"font\":{\"color\":\"#FFFFFF\"},\"showarrow\":false,\"text\":\"1.0\",\"x\":13,\"xref\":\"x\",\"y\":13,\"yref\":\"y\"},{\"font\":{\"color\":\"#FFFFFF\"},\"showarrow\":false,\"text\":\"0.51\",\"x\":14,\"xref\":\"x\",\"y\":13,\"yref\":\"y\"},{\"font\":{\"color\":\"#000000\"},\"showarrow\":false,\"text\":\"0.21\",\"x\":15,\"xref\":\"x\",\"y\":13,\"yref\":\"y\"},{\"font\":{\"color\":\"#000000\"},\"showarrow\":false,\"text\":\"0.16\",\"x\":0,\"xref\":\"x\",\"y\":14,\"yref\":\"y\"},{\"font\":{\"color\":\"#000000\"},\"showarrow\":false,\"text\":\"0.16\",\"x\":1,\"xref\":\"x\",\"y\":14,\"yref\":\"y\"},{\"font\":{\"color\":\"#000000\"},\"showarrow\":false,\"text\":\"0.45\",\"x\":2,\"xref\":\"x\",\"y\":14,\"yref\":\"y\"},{\"font\":{\"color\":\"#000000\"},\"showarrow\":false,\"text\":\"0.07\",\"x\":3,\"xref\":\"x\",\"y\":14,\"yref\":\"y\"},{\"font\":{\"color\":\"#000000\"},\"showarrow\":false,\"text\":\"0.23\",\"x\":4,\"xref\":\"x\",\"y\":14,\"yref\":\"y\"},{\"font\":{\"color\":\"#000000\"},\"showarrow\":false,\"text\":\"0.29\",\"x\":5,\"xref\":\"x\",\"y\":14,\"yref\":\"y\"},{\"font\":{\"color\":\"#000000\"},\"showarrow\":false,\"text\":\"0.18\",\"x\":6,\"xref\":\"x\",\"y\":14,\"yref\":\"y\"},{\"font\":{\"color\":\"#000000\"},\"showarrow\":false,\"text\":\"0.11\",\"x\":7,\"xref\":\"x\",\"y\":14,\"yref\":\"y\"},{\"font\":{\"color\":\"#000000\"},\"showarrow\":false,\"text\":\"0.07\",\"x\":8,\"xref\":\"x\",\"y\":14,\"yref\":\"y\"},{\"font\":{\"color\":\"#000000\"},\"showarrow\":false,\"text\":\"0.11\",\"x\":9,\"xref\":\"x\",\"y\":14,\"yref\":\"y\"},{\"font\":{\"color\":\"#000000\"},\"showarrow\":false,\"text\":\"0.06\",\"x\":10,\"xref\":\"x\",\"y\":14,\"yref\":\"y\"},{\"font\":{\"color\":\"#FFFFFF\"},\"showarrow\":false,\"text\":\"0.5\",\"x\":11,\"xref\":\"x\",\"y\":14,\"yref\":\"y\"},{\"font\":{\"color\":\"#000000\"},\"showarrow\":false,\"text\":\"0.18\",\"x\":12,\"xref\":\"x\",\"y\":14,\"yref\":\"y\"},{\"font\":{\"color\":\"#FFFFFF\"},\"showarrow\":false,\"text\":\"0.51\",\"x\":13,\"xref\":\"x\",\"y\":14,\"yref\":\"y\"},{\"font\":{\"color\":\"#FFFFFF\"},\"showarrow\":false,\"text\":\"1.0\",\"x\":14,\"xref\":\"x\",\"y\":14,\"yref\":\"y\"},{\"font\":{\"color\":\"#000000\"},\"showarrow\":false,\"text\":\"0.21\",\"x\":15,\"xref\":\"x\",\"y\":14,\"yref\":\"y\"},{\"font\":{\"color\":\"#000000\"},\"showarrow\":false,\"text\":\"0.04\",\"x\":0,\"xref\":\"x\",\"y\":15,\"yref\":\"y\"},{\"font\":{\"color\":\"#000000\"},\"showarrow\":false,\"text\":\"0.04\",\"x\":1,\"xref\":\"x\",\"y\":15,\"yref\":\"y\"},{\"font\":{\"color\":\"#000000\"},\"showarrow\":false,\"text\":\"0.09\",\"x\":2,\"xref\":\"x\",\"y\":15,\"yref\":\"y\"},{\"font\":{\"color\":\"#000000\"},\"showarrow\":false,\"text\":\"0.05\",\"x\":3,\"xref\":\"x\",\"y\":15,\"yref\":\"y\"},{\"font\":{\"color\":\"#000000\"},\"showarrow\":false,\"text\":\"0.11\",\"x\":4,\"xref\":\"x\",\"y\":15,\"yref\":\"y\"},{\"font\":{\"color\":\"#FFFFFF\"},\"showarrow\":false,\"text\":\"0.88\",\"x\":5,\"xref\":\"x\",\"y\":15,\"yref\":\"y\"},{\"font\":{\"color\":\"#FFFFFF\"},\"showarrow\":false,\"text\":\"0.54\",\"x\":6,\"xref\":\"x\",\"y\":15,\"yref\":\"y\"},{\"font\":{\"color\":\"#000000\"},\"showarrow\":false,\"text\":\"0.06\",\"x\":7,\"xref\":\"x\",\"y\":15,\"yref\":\"y\"},{\"font\":{\"color\":\"#000000\"},\"showarrow\":false,\"text\":\"0.03\",\"x\":8,\"xref\":\"x\",\"y\":15,\"yref\":\"y\"},{\"font\":{\"color\":\"#000000\"},\"showarrow\":false,\"text\":\"0.04\",\"x\":9,\"xref\":\"x\",\"y\":15,\"yref\":\"y\"},{\"font\":{\"color\":\"#000000\"},\"showarrow\":false,\"text\":\"0.04\",\"x\":10,\"xref\":\"x\",\"y\":15,\"yref\":\"y\"},{\"font\":{\"color\":\"#000000\"},\"showarrow\":false,\"text\":\"0.14\",\"x\":11,\"xref\":\"x\",\"y\":15,\"yref\":\"y\"},{\"font\":{\"color\":\"#000000\"},\"showarrow\":false,\"text\":\"0.06\",\"x\":12,\"xref\":\"x\",\"y\":15,\"yref\":\"y\"},{\"font\":{\"color\":\"#000000\"},\"showarrow\":false,\"text\":\"0.21\",\"x\":13,\"xref\":\"x\",\"y\":15,\"yref\":\"y\"},{\"font\":{\"color\":\"#000000\"},\"showarrow\":false,\"text\":\"0.21\",\"x\":14,\"xref\":\"x\",\"y\":15,\"yref\":\"y\"},{\"font\":{\"color\":\"#FFFFFF\"},\"showarrow\":false,\"text\":\"1.0\",\"x\":15,\"xref\":\"x\",\"y\":15,\"yref\":\"y\"}]}],\"args2\":[{\"annotations\":[]}],\"label\":\"Show value\",\"method\":\"relayout\"}],\"active\":0,\"x\":0.1,\"xanchor\":\"left\",\"y\":1,\"yanchor\":\"top\",\"pad\":{\"r\":0,\"t\":-250,\"l\":-387},\"bgcolor\":\"rgba(255,255,255,1)\"}],\"xaxis\":{\"fixedrange\":true,\"tickvals\":[0,1,2,3,4,5,6,7,8,9,10,11,12,13,14,15],\"ticktext\":[\"age\",\"balance\",\"day\",\"duration\",\"campaign\",\"pdays\",\"previous\",\"job\",\"marital\",\"education\",\"default\",\"housing\",\"loan\",\"contact\",\"month\",\"poutcome\"]},\"yaxis\":{\"autorange\":\"reversed\",\"fixedrange\":true,\"tickvals\":[0,1,2,3,4,5,6,7,8,9,10,11,12,13,14,15],\"ticktext\":[\"age\",\"balance\",\"day\",\"duration\",\"campaign\",\"pdays\",\"previous\",\"job\",\"marital\",\"education\",\"default\",\"housing\",\"loan\",\"contact\",\"month\",\"poutcome\"]}}],\"label\":\"All\",\"method\":\"update\"},{\"args\":[{\"x\":[[0,1,2,3,4,5,6]],\"y\":[[0,1,2,3,4,5,6]],\"z\":[[[1.0,0.097782739371348,0.0091200456335523,0.0046484284706156,0.0047603117624537,0.0237580141117282,0.0012883192026692],[0.097782739371348,1.0,0.0045025851297185,0.0215603804946688,0.0145782788507662,0.0034353218681066,0.0166736367283579],[0.0091200456335523,0.0045025851297185,1.0,0.0302063411386519,0.1624902163261922,0.0930440737729404,0.0517104967358036],[0.0046484284706156,0.0215603804946688,0.0302063411386519,1.0,0.0845695027300617,0.0015647704813434,0.0012030569167003],[0.0047603117624537,0.0145782788507662,0.1624902163261922,0.0845695027300617,1.0,0.0886276679156842,0.0328552896782795],[0.0237580141117282,0.0034353218681066,0.0930440737729404,0.0015647704813434,0.0886276679156842,1.0,0.4548196354805043],[0.0012883192026692,0.0166736367283579,0.0517104967358036,0.0012030569167003,0.0328552896782795,0.4548196354805043,1.0]]]},{\"annotations\":[{\"font\":{\"color\":\"#FFFFFF\"},\"showarrow\":false,\"text\":\"1.0\",\"x\":0,\"xref\":\"x\",\"y\":0,\"yref\":\"y\"},{\"font\":{\"color\":\"#000000\"},\"showarrow\":false,\"text\":\"0.1\",\"x\":1,\"xref\":\"x\",\"y\":0,\"yref\":\"y\"},{\"font\":{\"color\":\"#000000\"},\"showarrow\":false,\"text\":\"0.01\",\"x\":2,\"xref\":\"x\",\"y\":0,\"yref\":\"y\"},{\"font\":{\"color\":\"#000000\"},\"showarrow\":false,\"text\":\"0.0\",\"x\":3,\"xref\":\"x\",\"y\":0,\"yref\":\"y\"},{\"font\":{\"color\":\"#000000\"},\"showarrow\":false,\"text\":\"0.0\",\"x\":4,\"xref\":\"x\",\"y\":0,\"yref\":\"y\"},{\"font\":{\"color\":\"#000000\"},\"showarrow\":false,\"text\":\"0.02\",\"x\":5,\"xref\":\"x\",\"y\":0,\"yref\":\"y\"},{\"font\":{\"color\":\"#000000\"},\"showarrow\":false,\"text\":\"0.0\",\"x\":6,\"xref\":\"x\",\"y\":0,\"yref\":\"y\"},{\"font\":{\"color\":\"#000000\"},\"showarrow\":false,\"text\":\"0.1\",\"x\":0,\"xref\":\"x\",\"y\":1,\"yref\":\"y\"},{\"font\":{\"color\":\"#FFFFFF\"},\"showarrow\":false,\"text\":\"1.0\",\"x\":1,\"xref\":\"x\",\"y\":1,\"yref\":\"y\"},{\"font\":{\"color\":\"#000000\"},\"showarrow\":false,\"text\":\"0.0\",\"x\":2,\"xref\":\"x\",\"y\":1,\"yref\":\"y\"},{\"font\":{\"color\":\"#000000\"},\"showarrow\":false,\"text\":\"0.02\",\"x\":3,\"xref\":\"x\",\"y\":1,\"yref\":\"y\"},{\"font\":{\"color\":\"#000000\"},\"showarrow\":false,\"text\":\"0.01\",\"x\":4,\"xref\":\"x\",\"y\":1,\"yref\":\"y\"},{\"font\":{\"color\":\"#000000\"},\"showarrow\":false,\"text\":\"0.0\",\"x\":5,\"xref\":\"x\",\"y\":1,\"yref\":\"y\"},{\"font\":{\"color\":\"#000000\"},\"showarrow\":false,\"text\":\"0.02\",\"x\":6,\"xref\":\"x\",\"y\":1,\"yref\":\"y\"},{\"font\":{\"color\":\"#000000\"},\"showarrow\":false,\"text\":\"0.01\",\"x\":0,\"xref\":\"x\",\"y\":2,\"yref\":\"y\"},{\"font\":{\"color\":\"#000000\"},\"showarrow\":false,\"text\":\"0.0\",\"x\":1,\"xref\":\"x\",\"y\":2,\"yref\":\"y\"},{\"font\":{\"color\":\"#FFFFFF\"},\"showarrow\":false,\"text\":\"1.0\",\"x\":2,\"xref\":\"x\",\"y\":2,\"yref\":\"y\"},{\"font\":{\"color\":\"#000000\"},\"showarrow\":false,\"text\":\"0.03\",\"x\":3,\"xref\":\"x\",\"y\":2,\"yref\":\"y\"},{\"font\":{\"color\":\"#000000\"},\"showarrow\":false,\"text\":\"0.16\",\"x\":4,\"xref\":\"x\",\"y\":2,\"yref\":\"y\"},{\"font\":{\"color\":\"#000000\"},\"showarrow\":false,\"text\":\"0.09\",\"x\":5,\"xref\":\"x\",\"y\":2,\"yref\":\"y\"},{\"font\":{\"color\":\"#000000\"},\"showarrow\":false,\"text\":\"0.05\",\"x\":6,\"xref\":\"x\",\"y\":2,\"yref\":\"y\"},{\"font\":{\"color\":\"#000000\"},\"showarrow\":false,\"text\":\"0.0\",\"x\":0,\"xref\":\"x\",\"y\":3,\"yref\":\"y\"},{\"font\":{\"color\":\"#000000\"},\"showarrow\":false,\"text\":\"0.02\",\"x\":1,\"xref\":\"x\",\"y\":3,\"yref\":\"y\"},{\"font\":{\"color\":\"#000000\"},\"showarrow\":false,\"text\":\"0.03\",\"x\":2,\"xref\":\"x\",\"y\":3,\"yref\":\"y\"},{\"font\":{\"color\":\"#FFFFFF\"},\"showarrow\":false,\"text\":\"1.0\",\"x\":3,\"xref\":\"x\",\"y\":3,\"yref\":\"y\"},{\"font\":{\"color\":\"#000000\"},\"showarrow\":false,\"text\":\"0.08\",\"x\":4,\"xref\":\"x\",\"y\":3,\"yref\":\"y\"},{\"font\":{\"color\":\"#000000\"},\"showarrow\":false,\"text\":\"0.0\",\"x\":5,\"xref\":\"x\",\"y\":3,\"yref\":\"y\"},{\"font\":{\"color\":\"#000000\"},\"showarrow\":false,\"text\":\"0.0\",\"x\":6,\"xref\":\"x\",\"y\":3,\"yref\":\"y\"},{\"font\":{\"color\":\"#000000\"},\"showarrow\":false,\"text\":\"0.0\",\"x\":0,\"xref\":\"x\",\"y\":4,\"yref\":\"y\"},{\"font\":{\"color\":\"#000000\"},\"showarrow\":false,\"text\":\"0.01\",\"x\":1,\"xref\":\"x\",\"y\":4,\"yref\":\"y\"},{\"font\":{\"color\":\"#000000\"},\"showarrow\":false,\"text\":\"0.16\",\"x\":2,\"xref\":\"x\",\"y\":4,\"yref\":\"y\"},{\"font\":{\"color\":\"#000000\"},\"showarrow\":false,\"text\":\"0.08\",\"x\":3,\"xref\":\"x\",\"y\":4,\"yref\":\"y\"},{\"font\":{\"color\":\"#FFFFFF\"},\"showarrow\":false,\"text\":\"1.0\",\"x\":4,\"xref\":\"x\",\"y\":4,\"yref\":\"y\"},{\"font\":{\"color\":\"#000000\"},\"showarrow\":false,\"text\":\"0.09\",\"x\":5,\"xref\":\"x\",\"y\":4,\"yref\":\"y\"},{\"font\":{\"color\":\"#000000\"},\"showarrow\":false,\"text\":\"0.03\",\"x\":6,\"xref\":\"x\",\"y\":4,\"yref\":\"y\"},{\"font\":{\"color\":\"#000000\"},\"showarrow\":false,\"text\":\"0.02\",\"x\":0,\"xref\":\"x\",\"y\":5,\"yref\":\"y\"},{\"font\":{\"color\":\"#000000\"},\"showarrow\":false,\"text\":\"0.0\",\"x\":1,\"xref\":\"x\",\"y\":5,\"yref\":\"y\"},{\"font\":{\"color\":\"#000000\"},\"showarrow\":false,\"text\":\"0.09\",\"x\":2,\"xref\":\"x\",\"y\":5,\"yref\":\"y\"},{\"font\":{\"color\":\"#000000\"},\"showarrow\":false,\"text\":\"0.0\",\"x\":3,\"xref\":\"x\",\"y\":5,\"yref\":\"y\"},{\"font\":{\"color\":\"#000000\"},\"showarrow\":false,\"text\":\"0.09\",\"x\":4,\"xref\":\"x\",\"y\":5,\"yref\":\"y\"},{\"font\":{\"color\":\"#FFFFFF\"},\"showarrow\":false,\"text\":\"1.0\",\"x\":5,\"xref\":\"x\",\"y\":5,\"yref\":\"y\"},{\"font\":{\"color\":\"#000000\"},\"showarrow\":false,\"text\":\"0.45\",\"x\":6,\"xref\":\"x\",\"y\":5,\"yref\":\"y\"},{\"font\":{\"color\":\"#000000\"},\"showarrow\":false,\"text\":\"0.0\",\"x\":0,\"xref\":\"x\",\"y\":6,\"yref\":\"y\"},{\"font\":{\"color\":\"#000000\"},\"showarrow\":false,\"text\":\"0.02\",\"x\":1,\"xref\":\"x\",\"y\":6,\"yref\":\"y\"},{\"font\":{\"color\":\"#000000\"},\"showarrow\":false,\"text\":\"0.05\",\"x\":2,\"xref\":\"x\",\"y\":6,\"yref\":\"y\"},{\"font\":{\"color\":\"#000000\"},\"showarrow\":false,\"text\":\"0.0\",\"x\":3,\"xref\":\"x\",\"y\":6,\"yref\":\"y\"},{\"font\":{\"color\":\"#000000\"},\"showarrow\":false,\"text\":\"0.03\",\"x\":4,\"xref\":\"x\",\"y\":6,\"yref\":\"y\"},{\"font\":{\"color\":\"#000000\"},\"showarrow\":false,\"text\":\"0.45\",\"x\":5,\"xref\":\"x\",\"y\":6,\"yref\":\"y\"},{\"font\":{\"color\":\"#FFFFFF\"},\"showarrow\":false,\"text\":\"1.0\",\"x\":6,\"xref\":\"x\",\"y\":6,\"yref\":\"y\"}],\"updatemenus\":[{\"type\":\"buttons\",\"direction\":\"right\",\"buttons\":[{\"args\":[{\"annotations\":[{\"font\":{\"color\":\"#FFFFFF\"},\"showarrow\":false,\"text\":\"1.0\",\"x\":0,\"xref\":\"x\",\"y\":0,\"yref\":\"y\"},{\"font\":{\"color\":\"#000000\"},\"showarrow\":false,\"text\":\"0.1\",\"x\":1,\"xref\":\"x\",\"y\":0,\"yref\":\"y\"},{\"font\":{\"color\":\"#000000\"},\"showarrow\":false,\"text\":\"0.01\",\"x\":2,\"xref\":\"x\",\"y\":0,\"yref\":\"y\"},{\"font\":{\"color\":\"#000000\"},\"showarrow\":false,\"text\":\"0.0\",\"x\":3,\"xref\":\"x\",\"y\":0,\"yref\":\"y\"},{\"font\":{\"color\":\"#000000\"},\"showarrow\":false,\"text\":\"0.0\",\"x\":4,\"xref\":\"x\",\"y\":0,\"yref\":\"y\"},{\"font\":{\"color\":\"#000000\"},\"showarrow\":false,\"text\":\"0.02\",\"x\":5,\"xref\":\"x\",\"y\":0,\"yref\":\"y\"},{\"font\":{\"color\":\"#000000\"},\"showarrow\":false,\"text\":\"0.0\",\"x\":6,\"xref\":\"x\",\"y\":0,\"yref\":\"y\"},{\"font\":{\"color\":\"#000000\"},\"showarrow\":false,\"text\":\"0.1\",\"x\":0,\"xref\":\"x\",\"y\":1,\"yref\":\"y\"},{\"font\":{\"color\":\"#FFFFFF\"},\"showarrow\":false,\"text\":\"1.0\",\"x\":1,\"xref\":\"x\",\"y\":1,\"yref\":\"y\"},{\"font\":{\"color\":\"#000000\"},\"showarrow\":false,\"text\":\"0.0\",\"x\":2,\"xref\":\"x\",\"y\":1,\"yref\":\"y\"},{\"font\":{\"color\":\"#000000\"},\"showarrow\":false,\"text\":\"0.02\",\"x\":3,\"xref\":\"x\",\"y\":1,\"yref\":\"y\"},{\"font\":{\"color\":\"#000000\"},\"showarrow\":false,\"text\":\"0.01\",\"x\":4,\"xref\":\"x\",\"y\":1,\"yref\":\"y\"},{\"font\":{\"color\":\"#000000\"},\"showarrow\":false,\"text\":\"0.0\",\"x\":5,\"xref\":\"x\",\"y\":1,\"yref\":\"y\"},{\"font\":{\"color\":\"#000000\"},\"showarrow\":false,\"text\":\"0.02\",\"x\":6,\"xref\":\"x\",\"y\":1,\"yref\":\"y\"},{\"font\":{\"color\":\"#000000\"},\"showarrow\":false,\"text\":\"0.01\",\"x\":0,\"xref\":\"x\",\"y\":2,\"yref\":\"y\"},{\"font\":{\"color\":\"#000000\"},\"showarrow\":false,\"text\":\"0.0\",\"x\":1,\"xref\":\"x\",\"y\":2,\"yref\":\"y\"},{\"font\":{\"color\":\"#FFFFFF\"},\"showarrow\":false,\"text\":\"1.0\",\"x\":2,\"xref\":\"x\",\"y\":2,\"yref\":\"y\"},{\"font\":{\"color\":\"#000000\"},\"showarrow\":false,\"text\":\"0.03\",\"x\":3,\"xref\":\"x\",\"y\":2,\"yref\":\"y\"},{\"font\":{\"color\":\"#000000\"},\"showarrow\":false,\"text\":\"0.16\",\"x\":4,\"xref\":\"x\",\"y\":2,\"yref\":\"y\"},{\"font\":{\"color\":\"#000000\"},\"showarrow\":false,\"text\":\"0.09\",\"x\":5,\"xref\":\"x\",\"y\":2,\"yref\":\"y\"},{\"font\":{\"color\":\"#000000\"},\"showarrow\":false,\"text\":\"0.05\",\"x\":6,\"xref\":\"x\",\"y\":2,\"yref\":\"y\"},{\"font\":{\"color\":\"#000000\"},\"showarrow\":false,\"text\":\"0.0\",\"x\":0,\"xref\":\"x\",\"y\":3,\"yref\":\"y\"},{\"font\":{\"color\":\"#000000\"},\"showarrow\":false,\"text\":\"0.02\",\"x\":1,\"xref\":\"x\",\"y\":3,\"yref\":\"y\"},{\"font\":{\"color\":\"#000000\"},\"showarrow\":false,\"text\":\"0.03\",\"x\":2,\"xref\":\"x\",\"y\":3,\"yref\":\"y\"},{\"font\":{\"color\":\"#FFFFFF\"},\"showarrow\":false,\"text\":\"1.0\",\"x\":3,\"xref\":\"x\",\"y\":3,\"yref\":\"y\"},{\"font\":{\"color\":\"#000000\"},\"showarrow\":false,\"text\":\"0.08\",\"x\":4,\"xref\":\"x\",\"y\":3,\"yref\":\"y\"},{\"font\":{\"color\":\"#000000\"},\"showarrow\":false,\"text\":\"0.0\",\"x\":5,\"xref\":\"x\",\"y\":3,\"yref\":\"y\"},{\"font\":{\"color\":\"#000000\"},\"showarrow\":false,\"text\":\"0.0\",\"x\":6,\"xref\":\"x\",\"y\":3,\"yref\":\"y\"},{\"font\":{\"color\":\"#000000\"},\"showarrow\":false,\"text\":\"0.0\",\"x\":0,\"xref\":\"x\",\"y\":4,\"yref\":\"y\"},{\"font\":{\"color\":\"#000000\"},\"showarrow\":false,\"text\":\"0.01\",\"x\":1,\"xref\":\"x\",\"y\":4,\"yref\":\"y\"},{\"font\":{\"color\":\"#000000\"},\"showarrow\":false,\"text\":\"0.16\",\"x\":2,\"xref\":\"x\",\"y\":4,\"yref\":\"y\"},{\"font\":{\"color\":\"#000000\"},\"showarrow\":false,\"text\":\"0.08\",\"x\":3,\"xref\":\"x\",\"y\":4,\"yref\":\"y\"},{\"font\":{\"color\":\"#FFFFFF\"},\"showarrow\":false,\"text\":\"1.0\",\"x\":4,\"xref\":\"x\",\"y\":4,\"yref\":\"y\"},{\"font\":{\"color\":\"#000000\"},\"showarrow\":false,\"text\":\"0.09\",\"x\":5,\"xref\":\"x\",\"y\":4,\"yref\":\"y\"},{\"font\":{\"color\":\"#000000\"},\"showarrow\":false,\"text\":\"0.03\",\"x\":6,\"xref\":\"x\",\"y\":4,\"yref\":\"y\"},{\"font\":{\"color\":\"#000000\"},\"showarrow\":false,\"text\":\"0.02\",\"x\":0,\"xref\":\"x\",\"y\":5,\"yref\":\"y\"},{\"font\":{\"color\":\"#000000\"},\"showarrow\":false,\"text\":\"0.0\",\"x\":1,\"xref\":\"x\",\"y\":5,\"yref\":\"y\"},{\"font\":{\"color\":\"#000000\"},\"showarrow\":false,\"text\":\"0.09\",\"x\":2,\"xref\":\"x\",\"y\":5,\"yref\":\"y\"},{\"font\":{\"color\":\"#000000\"},\"showarrow\":false,\"text\":\"0.0\",\"x\":3,\"xref\":\"x\",\"y\":5,\"yref\":\"y\"},{\"font\":{\"color\":\"#000000\"},\"showarrow\":false,\"text\":\"0.09\",\"x\":4,\"xref\":\"x\",\"y\":5,\"yref\":\"y\"},{\"font\":{\"color\":\"#FFFFFF\"},\"showarrow\":false,\"text\":\"1.0\",\"x\":5,\"xref\":\"x\",\"y\":5,\"yref\":\"y\"},{\"font\":{\"color\":\"#000000\"},\"showarrow\":false,\"text\":\"0.45\",\"x\":6,\"xref\":\"x\",\"y\":5,\"yref\":\"y\"},{\"font\":{\"color\":\"#000000\"},\"showarrow\":false,\"text\":\"0.0\",\"x\":0,\"xref\":\"x\",\"y\":6,\"yref\":\"y\"},{\"font\":{\"color\":\"#000000\"},\"showarrow\":false,\"text\":\"0.02\",\"x\":1,\"xref\":\"x\",\"y\":6,\"yref\":\"y\"},{\"font\":{\"color\":\"#000000\"},\"showarrow\":false,\"text\":\"0.05\",\"x\":2,\"xref\":\"x\",\"y\":6,\"yref\":\"y\"},{\"font\":{\"color\":\"#000000\"},\"showarrow\":false,\"text\":\"0.0\",\"x\":3,\"xref\":\"x\",\"y\":6,\"yref\":\"y\"},{\"font\":{\"color\":\"#000000\"},\"showarrow\":false,\"text\":\"0.03\",\"x\":4,\"xref\":\"x\",\"y\":6,\"yref\":\"y\"},{\"font\":{\"color\":\"#000000\"},\"showarrow\":false,\"text\":\"0.45\",\"x\":5,\"xref\":\"x\",\"y\":6,\"yref\":\"y\"},{\"font\":{\"color\":\"#FFFFFF\"},\"showarrow\":false,\"text\":\"1.0\",\"x\":6,\"xref\":\"x\",\"y\":6,\"yref\":\"y\"}]}],\"args2\":[{\"annotations\":[]}],\"label\":\"Show value\",\"method\":\"relayout\"}],\"active\":0,\"x\":0.1,\"xanchor\":\"left\",\"y\":1,\"yanchor\":\"top\",\"pad\":{\"r\":0,\"t\":-250,\"l\":-387},\"bgcolor\":\"rgba(255,255,255,1)\"}],\"xaxis\":{\"fixedrange\":true,\"tickvals\":[0,1,2,3,4,5,6],\"ticktext\":[\"age\",\"balance\",\"day\",\"duration\",\"campaign\",\"pdays\",\"previous\"]},\"yaxis\":{\"autorange\":\"reversed\",\"fixedrange\":true,\"tickvals\":[0,1,2,3,4,5,6],\"ticktext\":[\"age\",\"balance\",\"day\",\"duration\",\"campaign\",\"pdays\",\"previous\"]}}],\"label\":\"Numeric-Numeric\",\"method\":\"update\"},{\"args\":[{\"x\":[[0,1,2,3,4,5,6,7,8]],\"y\":[[0,1,2,3,4,5,6,7,8]],\"z\":[[[1.0,0.20601,0.45826,0.03653,0.28174,0.1065,0.15047,0.11024,0.06421],[0.20601,1.0,0.12162,0.01923,0.02069,0.05194,0.04509,0.07232,0.02908],[0.45826,0.12162,1.0,0.0159,0.11934,0.08028,0.12279,0.1101,0.03565],[0.03653,0.01923,0.0159,0.99938,0.00586,0.07701,0.02441,0.05867,0.0404],[0.28174,0.02069,0.11934,0.00586,0.99996,0.04126,0.21359,0.50421,0.14315],[0.1065,0.05194,0.08028,0.07701,0.04126,0.99992,0.01627,0.18283,0.05525],[0.15047,0.04509,0.12279,0.02441,0.21359,0.01627,1.0,0.51213,0.20747],[0.11024,0.07232,0.1101,0.05867,0.50421,0.18283,0.51213,1.0,0.21434],[0.06421,0.02908,0.03565,0.0404,0.14315,0.05525,0.20747,0.21434,1.0]]]},{\"annotations\":[{\"font\":{\"color\":\"#FFFFFF\"},\"showarrow\":false,\"text\":\"1.0\",\"x\":0,\"xref\":\"x\",\"y\":0,\"yref\":\"y\"},{\"font\":{\"color\":\"#000000\"},\"showarrow\":false,\"text\":\"0.21\",\"x\":1,\"xref\":\"x\",\"y\":0,\"yref\":\"y\"},{\"font\":{\"color\":\"#000000\"},\"showarrow\":false,\"text\":\"0.46\",\"x\":2,\"xref\":\"x\",\"y\":0,\"yref\":\"y\"},{\"font\":{\"color\":\"#000000\"},\"showarrow\":false,\"text\":\"0.04\",\"x\":3,\"xref\":\"x\",\"y\":0,\"yref\":\"y\"},{\"font\":{\"color\":\"#000000\"},\"showarrow\":false,\"text\":\"0.28\",\"x\":4,\"xref\":\"x\",\"y\":0,\"yref\":\"y\"},{\"font\":{\"color\":\"#000000\"},\"showarrow\":false,\"text\":\"0.11\",\"x\":5,\"xref\":\"x\",\"y\":0,\"yref\":\"y\"},{\"font\":{\"color\":\"#000000\"},\"showarrow\":false,\"text\":\"0.15\",\"x\":6,\"xref\":\"x\",\"y\":0,\"yref\":\"y\"},{\"font\":{\"color\":\"#000000\"},\"showarrow\":false,\"text\":\"0.11\",\"x\":7,\"xref\":\"x\",\"y\":0,\"yref\":\"y\"},{\"font\":{\"color\":\"#000000\"},\"showarrow\":false,\"text\":\"0.06\",\"x\":8,\"xref\":\"x\",\"y\":0,\"yref\":\"y\"},{\"font\":{\"color\":\"#000000\"},\"showarrow\":false,\"text\":\"0.21\",\"x\":0,\"xref\":\"x\",\"y\":1,\"yref\":\"y\"},{\"font\":{\"color\":\"#FFFFFF\"},\"showarrow\":false,\"text\":\"1.0\",\"x\":1,\"xref\":\"x\",\"y\":1,\"yref\":\"y\"},{\"font\":{\"color\":\"#000000\"},\"showarrow\":false,\"text\":\"0.12\",\"x\":2,\"xref\":\"x\",\"y\":1,\"yref\":\"y\"},{\"font\":{\"color\":\"#000000\"},\"showarrow\":false,\"text\":\"0.02\",\"x\":3,\"xref\":\"x\",\"y\":1,\"yref\":\"y\"},{\"font\":{\"color\":\"#000000\"},\"showarrow\":false,\"text\":\"0.02\",\"x\":4,\"xref\":\"x\",\"y\":1,\"yref\":\"y\"},{\"font\":{\"color\":\"#000000\"},\"showarrow\":false,\"text\":\"0.05\",\"x\":5,\"xref\":\"x\",\"y\":1,\"yref\":\"y\"},{\"font\":{\"color\":\"#000000\"},\"showarrow\":false,\"text\":\"0.05\",\"x\":6,\"xref\":\"x\",\"y\":1,\"yref\":\"y\"},{\"font\":{\"color\":\"#000000\"},\"showarrow\":false,\"text\":\"0.07\",\"x\":7,\"xref\":\"x\",\"y\":1,\"yref\":\"y\"},{\"font\":{\"color\":\"#000000\"},\"showarrow\":false,\"text\":\"0.03\",\"x\":8,\"xref\":\"x\",\"y\":1,\"yref\":\"y\"},{\"font\":{\"color\":\"#000000\"},\"showarrow\":false,\"text\":\"0.46\",\"x\":0,\"xref\":\"x\",\"y\":2,\"yref\":\"y\"},{\"font\":{\"color\":\"#000000\"},\"showarrow\":false,\"text\":\"0.12\",\"x\":1,\"xref\":\"x\",\"y\":2,\"yref\":\"y\"},{\"font\":{\"color\":\"#FFFFFF\"},\"showarrow\":false,\"text\":\"1.0\",\"x\":2,\"xref\":\"x\",\"y\":2,\"yref\":\"y\"},{\"font\":{\"color\":\"#000000\"},\"showarrow\":false,\"text\":\"0.02\",\"x\":3,\"xref\":\"x\",\"y\":2,\"yref\":\"y\"},{\"font\":{\"color\":\"#000000\"},\"showarrow\":false,\"text\":\"0.12\",\"x\":4,\"xref\":\"x\",\"y\":2,\"yref\":\"y\"},{\"font\":{\"color\":\"#000000\"},\"showarrow\":false,\"text\":\"0.08\",\"x\":5,\"xref\":\"x\",\"y\":2,\"yref\":\"y\"},{\"font\":{\"color\":\"#000000\"},\"showarrow\":false,\"text\":\"0.12\",\"x\":6,\"xref\":\"x\",\"y\":2,\"yref\":\"y\"},{\"font\":{\"color\":\"#000000\"},\"showarrow\":false,\"text\":\"0.11\",\"x\":7,\"xref\":\"x\",\"y\":2,\"yref\":\"y\"},{\"font\":{\"color\":\"#000000\"},\"showarrow\":false,\"text\":\"0.04\",\"x\":8,\"xref\":\"x\",\"y\":2,\"yref\":\"y\"},{\"font\":{\"color\":\"#000000\"},\"showarrow\":false,\"text\":\"0.04\",\"x\":0,\"xref\":\"x\",\"y\":3,\"yref\":\"y\"},{\"font\":{\"color\":\"#000000\"},\"showarrow\":false,\"text\":\"0.02\",\"x\":1,\"xref\":\"x\",\"y\":3,\"yref\":\"y\"},{\"font\":{\"color\":\"#000000\"},\"showarrow\":false,\"text\":\"0.02\",\"x\":2,\"xref\":\"x\",\"y\":3,\"yref\":\"y\"},{\"font\":{\"color\":\"#FFFFFF\"},\"showarrow\":false,\"text\":\"1.0\",\"x\":3,\"xref\":\"x\",\"y\":3,\"yref\":\"y\"},{\"font\":{\"color\":\"#000000\"},\"showarrow\":false,\"text\":\"0.01\",\"x\":4,\"xref\":\"x\",\"y\":3,\"yref\":\"y\"},{\"font\":{\"color\":\"#000000\"},\"showarrow\":false,\"text\":\"0.08\",\"x\":5,\"xref\":\"x\",\"y\":3,\"yref\":\"y\"},{\"font\":{\"color\":\"#000000\"},\"showarrow\":false,\"text\":\"0.02\",\"x\":6,\"xref\":\"x\",\"y\":3,\"yref\":\"y\"},{\"font\":{\"color\":\"#000000\"},\"showarrow\":false,\"text\":\"0.06\",\"x\":7,\"xref\":\"x\",\"y\":3,\"yref\":\"y\"},{\"font\":{\"color\":\"#000000\"},\"showarrow\":false,\"text\":\"0.04\",\"x\":8,\"xref\":\"x\",\"y\":3,\"yref\":\"y\"},{\"font\":{\"color\":\"#000000\"},\"showarrow\":false,\"text\":\"0.28\",\"x\":0,\"xref\":\"x\",\"y\":4,\"yref\":\"y\"},{\"font\":{\"color\":\"#000000\"},\"showarrow\":false,\"text\":\"0.02\",\"x\":1,\"xref\":\"x\",\"y\":4,\"yref\":\"y\"},{\"font\":{\"color\":\"#000000\"},\"showarrow\":false,\"text\":\"0.12\",\"x\":2,\"xref\":\"x\",\"y\":4,\"yref\":\"y\"},{\"font\":{\"color\":\"#000000\"},\"showarrow\":false,\"text\":\"0.01\",\"x\":3,\"xref\":\"x\",\"y\":4,\"yref\":\"y\"},{\"font\":{\"color\":\"#FFFFFF\"},\"showarrow\":false,\"text\":\"1.0\",\"x\":4,\"xref\":\"x\",\"y\":4,\"yref\":\"y\"},{\"font\":{\"color\":\"#000000\"},\"showarrow\":false,\"text\":\"0.04\",\"x\":5,\"xref\":\"x\",\"y\":4,\"yref\":\"y\"},{\"font\":{\"color\":\"#000000\"},\"showarrow\":false,\"text\":\"0.21\",\"x\":6,\"xref\":\"x\",\"y\":4,\"yref\":\"y\"},{\"font\":{\"color\":\"#FFFFFF\"},\"showarrow\":false,\"text\":\"0.5\",\"x\":7,\"xref\":\"x\",\"y\":4,\"yref\":\"y\"},{\"font\":{\"color\":\"#000000\"},\"showarrow\":false,\"text\":\"0.14\",\"x\":8,\"xref\":\"x\",\"y\":4,\"yref\":\"y\"},{\"font\":{\"color\":\"#000000\"},\"showarrow\":false,\"text\":\"0.11\",\"x\":0,\"xref\":\"x\",\"y\":5,\"yref\":\"y\"},{\"font\":{\"color\":\"#000000\"},\"showarrow\":false,\"text\":\"0.05\",\"x\":1,\"xref\":\"x\",\"y\":5,\"yref\":\"y\"},{\"font\":{\"color\":\"#000000\"},\"showarrow\":false,\"text\":\"0.08\",\"x\":2,\"xref\":\"x\",\"y\":5,\"yref\":\"y\"},{\"font\":{\"color\":\"#000000\"},\"showarrow\":false,\"text\":\"0.08\",\"x\":3,\"xref\":\"x\",\"y\":5,\"yref\":\"y\"},{\"font\":{\"color\":\"#000000\"},\"showarrow\":false,\"text\":\"0.04\",\"x\":4,\"xref\":\"x\",\"y\":5,\"yref\":\"y\"},{\"font\":{\"color\":\"#FFFFFF\"},\"showarrow\":false,\"text\":\"1.0\",\"x\":5,\"xref\":\"x\",\"y\":5,\"yref\":\"y\"},{\"font\":{\"color\":\"#000000\"},\"showarrow\":false,\"text\":\"0.02\",\"x\":6,\"xref\":\"x\",\"y\":5,\"yref\":\"y\"},{\"font\":{\"color\":\"#000000\"},\"showarrow\":false,\"text\":\"0.18\",\"x\":7,\"xref\":\"x\",\"y\":5,\"yref\":\"y\"},{\"font\":{\"color\":\"#000000\"},\"showarrow\":false,\"text\":\"0.06\",\"x\":8,\"xref\":\"x\",\"y\":5,\"yref\":\"y\"},{\"font\":{\"color\":\"#000000\"},\"showarrow\":false,\"text\":\"0.15\",\"x\":0,\"xref\":\"x\",\"y\":6,\"yref\":\"y\"},{\"font\":{\"color\":\"#000000\"},\"showarrow\":false,\"text\":\"0.05\",\"x\":1,\"xref\":\"x\",\"y\":6,\"yref\":\"y\"},{\"font\":{\"color\":\"#000000\"},\"showarrow\":false,\"text\":\"0.12\",\"x\":2,\"xref\":\"x\",\"y\":6,\"yref\":\"y\"},{\"font\":{\"color\":\"#000000\"},\"showarrow\":false,\"text\":\"0.02\",\"x\":3,\"xref\":\"x\",\"y\":6,\"yref\":\"y\"},{\"font\":{\"color\":\"#000000\"},\"showarrow\":false,\"text\":\"0.21\",\"x\":4,\"xref\":\"x\",\"y\":6,\"yref\":\"y\"},{\"font\":{\"color\":\"#000000\"},\"showarrow\":false,\"text\":\"0.02\",\"x\":5,\"xref\":\"x\",\"y\":6,\"yref\":\"y\"},{\"font\":{\"color\":\"#FFFFFF\"},\"showarrow\":false,\"text\":\"1.0\",\"x\":6,\"xref\":\"x\",\"y\":6,\"yref\":\"y\"},{\"font\":{\"color\":\"#FFFFFF\"},\"showarrow\":false,\"text\":\"0.51\",\"x\":7,\"xref\":\"x\",\"y\":6,\"yref\":\"y\"},{\"font\":{\"color\":\"#000000\"},\"showarrow\":false,\"text\":\"0.21\",\"x\":8,\"xref\":\"x\",\"y\":6,\"yref\":\"y\"},{\"font\":{\"color\":\"#000000\"},\"showarrow\":false,\"text\":\"0.11\",\"x\":0,\"xref\":\"x\",\"y\":7,\"yref\":\"y\"},{\"font\":{\"color\":\"#000000\"},\"showarrow\":false,\"text\":\"0.07\",\"x\":1,\"xref\":\"x\",\"y\":7,\"yref\":\"y\"},{\"font\":{\"color\":\"#000000\"},\"showarrow\":false,\"text\":\"0.11\",\"x\":2,\"xref\":\"x\",\"y\":7,\"yref\":\"y\"},{\"font\":{\"color\":\"#000000\"},\"showarrow\":false,\"text\":\"0.06\",\"x\":3,\"xref\":\"x\",\"y\":7,\"yref\":\"y\"},{\"font\":{\"color\":\"#FFFFFF\"},\"showarrow\":false,\"text\":\"0.5\",\"x\":4,\"xref\":\"x\",\"y\":7,\"yref\":\"y\"},{\"font\":{\"color\":\"#000000\"},\"showarrow\":false,\"text\":\"0.18\",\"x\":5,\"xref\":\"x\",\"y\":7,\"yref\":\"y\"},{\"font\":{\"color\":\"#FFFFFF\"},\"showarrow\":false,\"text\":\"0.51\",\"x\":6,\"xref\":\"x\",\"y\":7,\"yref\":\"y\"},{\"font\":{\"color\":\"#FFFFFF\"},\"showarrow\":false,\"text\":\"1.0\",\"x\":7,\"xref\":\"x\",\"y\":7,\"yref\":\"y\"},{\"font\":{\"color\":\"#000000\"},\"showarrow\":false,\"text\":\"0.21\",\"x\":8,\"xref\":\"x\",\"y\":7,\"yref\":\"y\"},{\"font\":{\"color\":\"#000000\"},\"showarrow\":false,\"text\":\"0.06\",\"x\":0,\"xref\":\"x\",\"y\":8,\"yref\":\"y\"},{\"font\":{\"color\":\"#000000\"},\"showarrow\":false,\"text\":\"0.03\",\"x\":1,\"xref\":\"x\",\"y\":8,\"yref\":\"y\"},{\"font\":{\"color\":\"#000000\"},\"showarrow\":false,\"text\":\"0.04\",\"x\":2,\"xref\":\"x\",\"y\":8,\"yref\":\"y\"},{\"font\":{\"color\":\"#000000\"},\"showarrow\":false,\"text\":\"0.04\",\"x\":3,\"xref\":\"x\",\"y\":8,\"yref\":\"y\"},{\"font\":{\"color\":\"#000000\"},\"showarrow\":false,\"text\":\"0.14\",\"x\":4,\"xref\":\"x\",\"y\":8,\"yref\":\"y\"},{\"font\":{\"color\":\"#000000\"},\"showarrow\":false,\"text\":\"0.06\",\"x\":5,\"xref\":\"x\",\"y\":8,\"yref\":\"y\"},{\"font\":{\"color\":\"#000000\"},\"showarrow\":false,\"text\":\"0.21\",\"x\":6,\"xref\":\"x\",\"y\":8,\"yref\":\"y\"},{\"font\":{\"color\":\"#000000\"},\"showarrow\":false,\"text\":\"0.21\",\"x\":7,\"xref\":\"x\",\"y\":8,\"yref\":\"y\"},{\"font\":{\"color\":\"#FFFFFF\"},\"showarrow\":false,\"text\":\"1.0\",\"x\":8,\"xref\":\"x\",\"y\":8,\"yref\":\"y\"}],\"updatemenus\":[{\"type\":\"buttons\",\"direction\":\"right\",\"buttons\":[{\"args\":[{\"annotations\":[{\"font\":{\"color\":\"#FFFFFF\"},\"showarrow\":false,\"text\":\"1.0\",\"x\":0,\"xref\":\"x\",\"y\":0,\"yref\":\"y\"},{\"font\":{\"color\":\"#000000\"},\"showarrow\":false,\"text\":\"0.21\",\"x\":1,\"xref\":\"x\",\"y\":0,\"yref\":\"y\"},{\"font\":{\"color\":\"#000000\"},\"showarrow\":false,\"text\":\"0.46\",\"x\":2,\"xref\":\"x\",\"y\":0,\"yref\":\"y\"},{\"font\":{\"color\":\"#000000\"},\"showarrow\":false,\"text\":\"0.04\",\"x\":3,\"xref\":\"x\",\"y\":0,\"yref\":\"y\"},{\"font\":{\"color\":\"#000000\"},\"showarrow\":false,\"text\":\"0.28\",\"x\":4,\"xref\":\"x\",\"y\":0,\"yref\":\"y\"},{\"font\":{\"color\":\"#000000\"},\"showarrow\":false,\"text\":\"0.11\",\"x\":5,\"xref\":\"x\",\"y\":0,\"yref\":\"y\"},{\"font\":{\"color\":\"#000000\"},\"showarrow\":false,\"text\":\"0.15\",\"x\":6,\"xref\":\"x\",\"y\":0,\"yref\":\"y\"},{\"font\":{\"color\":\"#000000\"},\"showarrow\":false,\"text\":\"0.11\",\"x\":7,\"xref\":\"x\",\"y\":0,\"yref\":\"y\"},{\"font\":{\"color\":\"#000000\"},\"showarrow\":false,\"text\":\"0.06\",\"x\":8,\"xref\":\"x\",\"y\":0,\"yref\":\"y\"},{\"font\":{\"color\":\"#000000\"},\"showarrow\":false,\"text\":\"0.21\",\"x\":0,\"xref\":\"x\",\"y\":1,\"yref\":\"y\"},{\"font\":{\"color\":\"#FFFFFF\"},\"showarrow\":false,\"text\":\"1.0\",\"x\":1,\"xref\":\"x\",\"y\":1,\"yref\":\"y\"},{\"font\":{\"color\":\"#000000\"},\"showarrow\":false,\"text\":\"0.12\",\"x\":2,\"xref\":\"x\",\"y\":1,\"yref\":\"y\"},{\"font\":{\"color\":\"#000000\"},\"showarrow\":false,\"text\":\"0.02\",\"x\":3,\"xref\":\"x\",\"y\":1,\"yref\":\"y\"},{\"font\":{\"color\":\"#000000\"},\"showarrow\":false,\"text\":\"0.02\",\"x\":4,\"xref\":\"x\",\"y\":1,\"yref\":\"y\"},{\"font\":{\"color\":\"#000000\"},\"showarrow\":false,\"text\":\"0.05\",\"x\":5,\"xref\":\"x\",\"y\":1,\"yref\":\"y\"},{\"font\":{\"color\":\"#000000\"},\"showarrow\":false,\"text\":\"0.05\",\"x\":6,\"xref\":\"x\",\"y\":1,\"yref\":\"y\"},{\"font\":{\"color\":\"#000000\"},\"showarrow\":false,\"text\":\"0.07\",\"x\":7,\"xref\":\"x\",\"y\":1,\"yref\":\"y\"},{\"font\":{\"color\":\"#000000\"},\"showarrow\":false,\"text\":\"0.03\",\"x\":8,\"xref\":\"x\",\"y\":1,\"yref\":\"y\"},{\"font\":{\"color\":\"#000000\"},\"showarrow\":false,\"text\":\"0.46\",\"x\":0,\"xref\":\"x\",\"y\":2,\"yref\":\"y\"},{\"font\":{\"color\":\"#000000\"},\"showarrow\":false,\"text\":\"0.12\",\"x\":1,\"xref\":\"x\",\"y\":2,\"yref\":\"y\"},{\"font\":{\"color\":\"#FFFFFF\"},\"showarrow\":false,\"text\":\"1.0\",\"x\":2,\"xref\":\"x\",\"y\":2,\"yref\":\"y\"},{\"font\":{\"color\":\"#000000\"},\"showarrow\":false,\"text\":\"0.02\",\"x\":3,\"xref\":\"x\",\"y\":2,\"yref\":\"y\"},{\"font\":{\"color\":\"#000000\"},\"showarrow\":false,\"text\":\"0.12\",\"x\":4,\"xref\":\"x\",\"y\":2,\"yref\":\"y\"},{\"font\":{\"color\":\"#000000\"},\"showarrow\":false,\"text\":\"0.08\",\"x\":5,\"xref\":\"x\",\"y\":2,\"yref\":\"y\"},{\"font\":{\"color\":\"#000000\"},\"showarrow\":false,\"text\":\"0.12\",\"x\":6,\"xref\":\"x\",\"y\":2,\"yref\":\"y\"},{\"font\":{\"color\":\"#000000\"},\"showarrow\":false,\"text\":\"0.11\",\"x\":7,\"xref\":\"x\",\"y\":2,\"yref\":\"y\"},{\"font\":{\"color\":\"#000000\"},\"showarrow\":false,\"text\":\"0.04\",\"x\":8,\"xref\":\"x\",\"y\":2,\"yref\":\"y\"},{\"font\":{\"color\":\"#000000\"},\"showarrow\":false,\"text\":\"0.04\",\"x\":0,\"xref\":\"x\",\"y\":3,\"yref\":\"y\"},{\"font\":{\"color\":\"#000000\"},\"showarrow\":false,\"text\":\"0.02\",\"x\":1,\"xref\":\"x\",\"y\":3,\"yref\":\"y\"},{\"font\":{\"color\":\"#000000\"},\"showarrow\":false,\"text\":\"0.02\",\"x\":2,\"xref\":\"x\",\"y\":3,\"yref\":\"y\"},{\"font\":{\"color\":\"#FFFFFF\"},\"showarrow\":false,\"text\":\"1.0\",\"x\":3,\"xref\":\"x\",\"y\":3,\"yref\":\"y\"},{\"font\":{\"color\":\"#000000\"},\"showarrow\":false,\"text\":\"0.01\",\"x\":4,\"xref\":\"x\",\"y\":3,\"yref\":\"y\"},{\"font\":{\"color\":\"#000000\"},\"showarrow\":false,\"text\":\"0.08\",\"x\":5,\"xref\":\"x\",\"y\":3,\"yref\":\"y\"},{\"font\":{\"color\":\"#000000\"},\"showarrow\":false,\"text\":\"0.02\",\"x\":6,\"xref\":\"x\",\"y\":3,\"yref\":\"y\"},{\"font\":{\"color\":\"#000000\"},\"showarrow\":false,\"text\":\"0.06\",\"x\":7,\"xref\":\"x\",\"y\":3,\"yref\":\"y\"},{\"font\":{\"color\":\"#000000\"},\"showarrow\":false,\"text\":\"0.04\",\"x\":8,\"xref\":\"x\",\"y\":3,\"yref\":\"y\"},{\"font\":{\"color\":\"#000000\"},\"showarrow\":false,\"text\":\"0.28\",\"x\":0,\"xref\":\"x\",\"y\":4,\"yref\":\"y\"},{\"font\":{\"color\":\"#000000\"},\"showarrow\":false,\"text\":\"0.02\",\"x\":1,\"xref\":\"x\",\"y\":4,\"yref\":\"y\"},{\"font\":{\"color\":\"#000000\"},\"showarrow\":false,\"text\":\"0.12\",\"x\":2,\"xref\":\"x\",\"y\":4,\"yref\":\"y\"},{\"font\":{\"color\":\"#000000\"},\"showarrow\":false,\"text\":\"0.01\",\"x\":3,\"xref\":\"x\",\"y\":4,\"yref\":\"y\"},{\"font\":{\"color\":\"#FFFFFF\"},\"showarrow\":false,\"text\":\"1.0\",\"x\":4,\"xref\":\"x\",\"y\":4,\"yref\":\"y\"},{\"font\":{\"color\":\"#000000\"},\"showarrow\":false,\"text\":\"0.04\",\"x\":5,\"xref\":\"x\",\"y\":4,\"yref\":\"y\"},{\"font\":{\"color\":\"#000000\"},\"showarrow\":false,\"text\":\"0.21\",\"x\":6,\"xref\":\"x\",\"y\":4,\"yref\":\"y\"},{\"font\":{\"color\":\"#FFFFFF\"},\"showarrow\":false,\"text\":\"0.5\",\"x\":7,\"xref\":\"x\",\"y\":4,\"yref\":\"y\"},{\"font\":{\"color\":\"#000000\"},\"showarrow\":false,\"text\":\"0.14\",\"x\":8,\"xref\":\"x\",\"y\":4,\"yref\":\"y\"},{\"font\":{\"color\":\"#000000\"},\"showarrow\":false,\"text\":\"0.11\",\"x\":0,\"xref\":\"x\",\"y\":5,\"yref\":\"y\"},{\"font\":{\"color\":\"#000000\"},\"showarrow\":false,\"text\":\"0.05\",\"x\":1,\"xref\":\"x\",\"y\":5,\"yref\":\"y\"},{\"font\":{\"color\":\"#000000\"},\"showarrow\":false,\"text\":\"0.08\",\"x\":2,\"xref\":\"x\",\"y\":5,\"yref\":\"y\"},{\"font\":{\"color\":\"#000000\"},\"showarrow\":false,\"text\":\"0.08\",\"x\":3,\"xref\":\"x\",\"y\":5,\"yref\":\"y\"},{\"font\":{\"color\":\"#000000\"},\"showarrow\":false,\"text\":\"0.04\",\"x\":4,\"xref\":\"x\",\"y\":5,\"yref\":\"y\"},{\"font\":{\"color\":\"#FFFFFF\"},\"showarrow\":false,\"text\":\"1.0\",\"x\":5,\"xref\":\"x\",\"y\":5,\"yref\":\"y\"},{\"font\":{\"color\":\"#000000\"},\"showarrow\":false,\"text\":\"0.02\",\"x\":6,\"xref\":\"x\",\"y\":5,\"yref\":\"y\"},{\"font\":{\"color\":\"#000000\"},\"showarrow\":false,\"text\":\"0.18\",\"x\":7,\"xref\":\"x\",\"y\":5,\"yref\":\"y\"},{\"font\":{\"color\":\"#000000\"},\"showarrow\":false,\"text\":\"0.06\",\"x\":8,\"xref\":\"x\",\"y\":5,\"yref\":\"y\"},{\"font\":{\"color\":\"#000000\"},\"showarrow\":false,\"text\":\"0.15\",\"x\":0,\"xref\":\"x\",\"y\":6,\"yref\":\"y\"},{\"font\":{\"color\":\"#000000\"},\"showarrow\":false,\"text\":\"0.05\",\"x\":1,\"xref\":\"x\",\"y\":6,\"yref\":\"y\"},{\"font\":{\"color\":\"#000000\"},\"showarrow\":false,\"text\":\"0.12\",\"x\":2,\"xref\":\"x\",\"y\":6,\"yref\":\"y\"},{\"font\":{\"color\":\"#000000\"},\"showarrow\":false,\"text\":\"0.02\",\"x\":3,\"xref\":\"x\",\"y\":6,\"yref\":\"y\"},{\"font\":{\"color\":\"#000000\"},\"showarrow\":false,\"text\":\"0.21\",\"x\":4,\"xref\":\"x\",\"y\":6,\"yref\":\"y\"},{\"font\":{\"color\":\"#000000\"},\"showarrow\":false,\"text\":\"0.02\",\"x\":5,\"xref\":\"x\",\"y\":6,\"yref\":\"y\"},{\"font\":{\"color\":\"#FFFFFF\"},\"showarrow\":false,\"text\":\"1.0\",\"x\":6,\"xref\":\"x\",\"y\":6,\"yref\":\"y\"},{\"font\":{\"color\":\"#FFFFFF\"},\"showarrow\":false,\"text\":\"0.51\",\"x\":7,\"xref\":\"x\",\"y\":6,\"yref\":\"y\"},{\"font\":{\"color\":\"#000000\"},\"showarrow\":false,\"text\":\"0.21\",\"x\":8,\"xref\":\"x\",\"y\":6,\"yref\":\"y\"},{\"font\":{\"color\":\"#000000\"},\"showarrow\":false,\"text\":\"0.11\",\"x\":0,\"xref\":\"x\",\"y\":7,\"yref\":\"y\"},{\"font\":{\"color\":\"#000000\"},\"showarrow\":false,\"text\":\"0.07\",\"x\":1,\"xref\":\"x\",\"y\":7,\"yref\":\"y\"},{\"font\":{\"color\":\"#000000\"},\"showarrow\":false,\"text\":\"0.11\",\"x\":2,\"xref\":\"x\",\"y\":7,\"yref\":\"y\"},{\"font\":{\"color\":\"#000000\"},\"showarrow\":false,\"text\":\"0.06\",\"x\":3,\"xref\":\"x\",\"y\":7,\"yref\":\"y\"},{\"font\":{\"color\":\"#FFFFFF\"},\"showarrow\":false,\"text\":\"0.5\",\"x\":4,\"xref\":\"x\",\"y\":7,\"yref\":\"y\"},{\"font\":{\"color\":\"#000000\"},\"showarrow\":false,\"text\":\"0.18\",\"x\":5,\"xref\":\"x\",\"y\":7,\"yref\":\"y\"},{\"font\":{\"color\":\"#FFFFFF\"},\"showarrow\":false,\"text\":\"0.51\",\"x\":6,\"xref\":\"x\",\"y\":7,\"yref\":\"y\"},{\"font\":{\"color\":\"#FFFFFF\"},\"showarrow\":false,\"text\":\"1.0\",\"x\":7,\"xref\":\"x\",\"y\":7,\"yref\":\"y\"},{\"font\":{\"color\":\"#000000\"},\"showarrow\":false,\"text\":\"0.21\",\"x\":8,\"xref\":\"x\",\"y\":7,\"yref\":\"y\"},{\"font\":{\"color\":\"#000000\"},\"showarrow\":false,\"text\":\"0.06\",\"x\":0,\"xref\":\"x\",\"y\":8,\"yref\":\"y\"},{\"font\":{\"color\":\"#000000\"},\"showarrow\":false,\"text\":\"0.03\",\"x\":1,\"xref\":\"x\",\"y\":8,\"yref\":\"y\"},{\"font\":{\"color\":\"#000000\"},\"showarrow\":false,\"text\":\"0.04\",\"x\":2,\"xref\":\"x\",\"y\":8,\"yref\":\"y\"},{\"font\":{\"color\":\"#000000\"},\"showarrow\":false,\"text\":\"0.04\",\"x\":3,\"xref\":\"x\",\"y\":8,\"yref\":\"y\"},{\"font\":{\"color\":\"#000000\"},\"showarrow\":false,\"text\":\"0.14\",\"x\":4,\"xref\":\"x\",\"y\":8,\"yref\":\"y\"},{\"font\":{\"color\":\"#000000\"},\"showarrow\":false,\"text\":\"0.06\",\"x\":5,\"xref\":\"x\",\"y\":8,\"yref\":\"y\"},{\"font\":{\"color\":\"#000000\"},\"showarrow\":false,\"text\":\"0.21\",\"x\":6,\"xref\":\"x\",\"y\":8,\"yref\":\"y\"},{\"font\":{\"color\":\"#000000\"},\"showarrow\":false,\"text\":\"0.21\",\"x\":7,\"xref\":\"x\",\"y\":8,\"yref\":\"y\"},{\"font\":{\"color\":\"#FFFFFF\"},\"showarrow\":false,\"text\":\"1.0\",\"x\":8,\"xref\":\"x\",\"y\":8,\"yref\":\"y\"}]}],\"args2\":[{\"annotations\":[]}],\"label\":\"Show value\",\"method\":\"relayout\"}],\"active\":0,\"x\":0.1,\"xanchor\":\"left\",\"y\":1,\"yanchor\":\"top\",\"pad\":{\"r\":0,\"t\":-250,\"l\":-387},\"bgcolor\":\"rgba(255,255,255,1)\"}],\"xaxis\":{\"fixedrange\":true,\"tickvals\":[0,1,2,3,4,5,6,7,8],\"ticktext\":[\"job\",\"marital\",\"education\",\"default\",\"housing\",\"loan\",\"contact\",\"month\",\"poutcome\"]},\"yaxis\":{\"autorange\":\"reversed\",\"fixedrange\":true,\"tickvals\":[0,1,2,3,4,5,6,7,8],\"ticktext\":[\"job\",\"marital\",\"education\",\"default\",\"housing\",\"loan\",\"contact\",\"month\",\"poutcome\"]}}],\"label\":\"Categorical-Categorical\",\"method\":\"update\"},{\"args\":[{\"x\":[[0,1,2,3,4,5,6]],\"y\":[[0,1,2,3,4,5,6,7,8]],\"z\":[[[0.5011291136256929,0.1017757821030214,0.0476110096878106,0.0407742948641717,0.0550356298570614,0.0586047768614424,0.0429428509737354],[0.4334313328817917,0.0281721114432671,0.0077227221767962,0.0231100128650697,0.0314199241726727,0.0295056891413736,0.0170202464794228],[0.215201208925847,0.0876566600280385,0.0259649069328426,0.0038058592063737,0.020951672922716,0.0240856785781985,0.0262139868086665],[0.0178793036087058,0.066745057113631,0.0094238990984915,0.0100214613460636,0.0168215314222849,0.0299793611027598,0.0183294048165689],[0.1855130815371743,0.0687683156896658,0.0279816493222859,0.005075449414075,0.0235987068497175,0.1241784001201226,0.0370761497033099],[0.0156552726566358,0.0843502457312265,0.01137015761615,0.0124119718236037,0.0099798458977573,0.0227536387182437,0.0110434882512817],[0.1705550091417664,0.0493169409519651,0.0386666923936747,0.0296772734110411,0.0556919140474517,0.2483838104264416,0.1541814772491456],[0.1602179147820747,0.1558414443790849,0.45164801400351,0.0678939077521507,0.231631512863582,0.2856304436358165,0.1753450395009097],[0.0418052846926059,0.0395185384675558,0.086581183091839,0.045409395257748,0.112404509259099,0.8789620178091383,0.5392781616189852]]]},{\"annotations\":[{\"font\":{\"color\":\"#FFFFFF\"},\"showarrow\":false,\"text\":\"0.5\",\"x\":0,\"xref\":\"x\",\"y\":0,\"yref\":\"y\"},{\"font\":{\"color\":\"#000000\"},\"showarrow\":false,\"text\":\"0.1\",\"x\":1,\"xref\":\"x\",\"y\":0,\"yref\":\"y\"},{\"font\":{\"color\":\"#000000\"},\"showarrow\":false,\"text\":\"0.05\",\"x\":2,\"xref\":\"x\",\"y\":0,\"yref\":\"y\"},{\"font\":{\"color\":\"#000000\"},\"showarrow\":false,\"text\":\"0.04\",\"x\":3,\"xref\":\"x\",\"y\":0,\"yref\":\"y\"},{\"font\":{\"color\":\"#000000\"},\"showarrow\":false,\"text\":\"0.06\",\"x\":4,\"xref\":\"x\",\"y\":0,\"yref\":\"y\"},{\"font\":{\"color\":\"#000000\"},\"showarrow\":false,\"text\":\"0.06\",\"x\":5,\"xref\":\"x\",\"y\":0,\"yref\":\"y\"},{\"font\":{\"color\":\"#000000\"},\"showarrow\":false,\"text\":\"0.04\",\"x\":6,\"xref\":\"x\",\"y\":0,\"yref\":\"y\"},{\"font\":{\"color\":\"#000000\"},\"showarrow\":false,\"text\":\"0.43\",\"x\":0,\"xref\":\"x\",\"y\":1,\"yref\":\"y\"},{\"font\":{\"color\":\"#000000\"},\"showarrow\":false,\"text\":\"0.03\",\"x\":1,\"xref\":\"x\",\"y\":1,\"yref\":\"y\"},{\"font\":{\"color\":\"#000000\"},\"showarrow\":false,\"text\":\"0.01\",\"x\":2,\"xref\":\"x\",\"y\":1,\"yref\":\"y\"},{\"font\":{\"color\":\"#000000\"},\"showarrow\":false,\"text\":\"0.02\",\"x\":3,\"xref\":\"x\",\"y\":1,\"yref\":\"y\"},{\"font\":{\"color\":\"#000000\"},\"showarrow\":false,\"text\":\"0.03\",\"x\":4,\"xref\":\"x\",\"y\":1,\"yref\":\"y\"},{\"font\":{\"color\":\"#000000\"},\"showarrow\":false,\"text\":\"0.03\",\"x\":5,\"xref\":\"x\",\"y\":1,\"yref\":\"y\"},{\"font\":{\"color\":\"#000000\"},\"showarrow\":false,\"text\":\"0.02\",\"x\":6,\"xref\":\"x\",\"y\":1,\"yref\":\"y\"},{\"font\":{\"color\":\"#000000\"},\"showarrow\":false,\"text\":\"0.22\",\"x\":0,\"xref\":\"x\",\"y\":2,\"yref\":\"y\"},{\"font\":{\"color\":\"#000000\"},\"showarrow\":false,\"text\":\"0.09\",\"x\":1,\"xref\":\"x\",\"y\":2,\"yref\":\"y\"},{\"font\":{\"color\":\"#000000\"},\"showarrow\":false,\"text\":\"0.03\",\"x\":2,\"xref\":\"x\",\"y\":2,\"yref\":\"y\"},{\"font\":{\"color\":\"#000000\"},\"showarrow\":false,\"text\":\"0.0\",\"x\":3,\"xref\":\"x\",\"y\":2,\"yref\":\"y\"},{\"font\":{\"color\":\"#000000\"},\"showarrow\":false,\"text\":\"0.02\",\"x\":4,\"xref\":\"x\",\"y\":2,\"yref\":\"y\"},{\"font\":{\"color\":\"#000000\"},\"showarrow\":false,\"text\":\"0.02\",\"x\":5,\"xref\":\"x\",\"y\":2,\"yref\":\"y\"},{\"font\":{\"color\":\"#000000\"},\"showarrow\":false,\"text\":\"0.03\",\"x\":6,\"xref\":\"x\",\"y\":2,\"yref\":\"y\"},{\"font\":{\"color\":\"#000000\"},\"showarrow\":false,\"text\":\"0.02\",\"x\":0,\"xref\":\"x\",\"y\":3,\"yref\":\"y\"},{\"font\":{\"color\":\"#000000\"},\"showarrow\":false,\"text\":\"0.07\",\"x\":1,\"xref\":\"x\",\"y\":3,\"yref\":\"y\"},{\"font\":{\"color\":\"#000000\"},\"showarrow\":false,\"text\":\"0.01\",\"x\":2,\"xref\":\"x\",\"y\":3,\"yref\":\"y\"},{\"font\":{\"color\":\"#000000\"},\"showarrow\":false,\"text\":\"0.01\",\"x\":3,\"xref\":\"x\",\"y\":3,\"yref\":\"y\"},{\"font\":{\"color\":\"#000000\"},\"showarrow\":false,\"text\":\"0.02\",\"x\":4,\"xref\":\"x\",\"y\":3,\"yref\":\"y\"},{\"font\":{\"color\":\"#000000\"},\"showarrow\":false,\"text\":\"0.03\",\"x\":5,\"xref\":\"x\",\"y\":3,\"yref\":\"y\"},{\"font\":{\"color\":\"#000000\"},\"showarrow\":false,\"text\":\"0.02\",\"x\":6,\"xref\":\"x\",\"y\":3,\"yref\":\"y\"},{\"font\":{\"color\":\"#000000\"},\"showarrow\":false,\"text\":\"0.19\",\"x\":0,\"xref\":\"x\",\"y\":4,\"yref\":\"y\"},{\"font\":{\"color\":\"#000000\"},\"showarrow\":false,\"text\":\"0.07\",\"x\":1,\"xref\":\"x\",\"y\":4,\"yref\":\"y\"},{\"font\":{\"color\":\"#000000\"},\"showarrow\":false,\"text\":\"0.03\",\"x\":2,\"xref\":\"x\",\"y\":4,\"yref\":\"y\"},{\"font\":{\"color\":\"#000000\"},\"showarrow\":false,\"text\":\"0.01\",\"x\":3,\"xref\":\"x\",\"y\":4,\"yref\":\"y\"},{\"font\":{\"color\":\"#000000\"},\"showarrow\":false,\"text\":\"0.02\",\"x\":4,\"xref\":\"x\",\"y\":4,\"yref\":\"y\"},{\"font\":{\"color\":\"#000000\"},\"showarrow\":false,\"text\":\"0.12\",\"x\":5,\"xref\":\"x\",\"y\":4,\"yref\":\"y\"},{\"font\":{\"color\":\"#000000\"},\"showarrow\":false,\"text\":\"0.04\",\"x\":6,\"xref\":\"x\",\"y\":4,\"yref\":\"y\"},{\"font\":{\"color\":\"#000000\"},\"showarrow\":false,\"text\":\"0.02\",\"x\":0,\"xref\":\"x\",\"y\":5,\"yref\":\"y\"},{\"font\":{\"color\":\"#000000\"},\"showarrow\":false,\"text\":\"0.08\",\"x\":1,\"xref\":\"x\",\"y\":5,\"yref\":\"y\"},{\"font\":{\"color\":\"#000000\"},\"showarrow\":false,\"text\":\"0.01\",\"x\":2,\"xref\":\"x\",\"y\":5,\"yref\":\"y\"},{\"font\":{\"color\":\"#000000\"},\"showarrow\":false,\"text\":\"0.01\",\"x\":3,\"xref\":\"x\",\"y\":5,\"yref\":\"y\"},{\"font\":{\"color\":\"#000000\"},\"showarrow\":false,\"text\":\"0.01\",\"x\":4,\"xref\":\"x\",\"y\":5,\"yref\":\"y\"},{\"font\":{\"color\":\"#000000\"},\"showarrow\":false,\"text\":\"0.02\",\"x\":5,\"xref\":\"x\",\"y\":5,\"yref\":\"y\"},{\"font\":{\"color\":\"#000000\"},\"showarrow\":false,\"text\":\"0.01\",\"x\":6,\"xref\":\"x\",\"y\":5,\"yref\":\"y\"},{\"font\":{\"color\":\"#000000\"},\"showarrow\":false,\"text\":\"0.17\",\"x\":0,\"xref\":\"x\",\"y\":6,\"yref\":\"y\"},{\"font\":{\"color\":\"#000000\"},\"showarrow\":false,\"text\":\"0.05\",\"x\":1,\"xref\":\"x\",\"y\":6,\"yref\":\"y\"},{\"font\":{\"color\":\"#000000\"},\"showarrow\":false,\"text\":\"0.04\",\"x\":2,\"xref\":\"x\",\"y\":6,\"yref\":\"y\"},{\"font\":{\"color\":\"#000000\"},\"showarrow\":false,\"text\":\"0.03\",\"x\":3,\"xref\":\"x\",\"y\":6,\"yref\":\"y\"},{\"font\":{\"color\":\"#000000\"},\"showarrow\":false,\"text\":\"0.06\",\"x\":4,\"xref\":\"x\",\"y\":6,\"yref\":\"y\"},{\"font\":{\"color\":\"#000000\"},\"showarrow\":false,\"text\":\"0.25\",\"x\":5,\"xref\":\"x\",\"y\":6,\"yref\":\"y\"},{\"font\":{\"color\":\"#000000\"},\"showarrow\":false,\"text\":\"0.15\",\"x\":6,\"xref\":\"x\",\"y\":6,\"yref\":\"y\"},{\"font\":{\"color\":\"#000000\"},\"showarrow\":false,\"text\":\"0.16\",\"x\":0,\"xref\":\"x\",\"y\":7,\"yref\":\"y\"},{\"font\":{\"color\":\"#000000\"},\"showarrow\":false,\"text\":\"0.16\",\"x\":1,\"xref\":\"x\",\"y\":7,\"yref\":\"y\"},{\"font\":{\"color\":\"#000000\"},\"showarrow\":false,\"text\":\"0.45\",\"x\":2,\"xref\":\"x\",\"y\":7,\"yref\":\"y\"},{\"font\":{\"color\":\"#000000\"},\"showarrow\":false,\"text\":\"0.07\",\"x\":3,\"xref\":\"x\",\"y\":7,\"yref\":\"y\"},{\"font\":{\"color\":\"#000000\"},\"showarrow\":false,\"text\":\"0.23\",\"x\":4,\"xref\":\"x\",\"y\":7,\"yref\":\"y\"},{\"font\":{\"color\":\"#000000\"},\"showarrow\":false,\"text\":\"0.29\",\"x\":5,\"xref\":\"x\",\"y\":7,\"yref\":\"y\"},{\"font\":{\"color\":\"#000000\"},\"showarrow\":false,\"text\":\"0.18\",\"x\":6,\"xref\":\"x\",\"y\":7,\"yref\":\"y\"},{\"font\":{\"color\":\"#000000\"},\"showarrow\":false,\"text\":\"0.04\",\"x\":0,\"xref\":\"x\",\"y\":8,\"yref\":\"y\"},{\"font\":{\"color\":\"#000000\"},\"showarrow\":false,\"text\":\"0.04\",\"x\":1,\"xref\":\"x\",\"y\":8,\"yref\":\"y\"},{\"font\":{\"color\":\"#000000\"},\"showarrow\":false,\"text\":\"0.09\",\"x\":2,\"xref\":\"x\",\"y\":8,\"yref\":\"y\"},{\"font\":{\"color\":\"#000000\"},\"showarrow\":false,\"text\":\"0.05\",\"x\":3,\"xref\":\"x\",\"y\":8,\"yref\":\"y\"},{\"font\":{\"color\":\"#000000\"},\"showarrow\":false,\"text\":\"0.11\",\"x\":4,\"xref\":\"x\",\"y\":8,\"yref\":\"y\"},{\"font\":{\"color\":\"#FFFFFF\"},\"showarrow\":false,\"text\":\"0.88\",\"x\":5,\"xref\":\"x\",\"y\":8,\"yref\":\"y\"},{\"font\":{\"color\":\"#FFFFFF\"},\"showarrow\":false,\"text\":\"0.54\",\"x\":6,\"xref\":\"x\",\"y\":8,\"yref\":\"y\"}],\"updatemenus\":[{\"type\":\"buttons\",\"direction\":\"right\",\"buttons\":[{\"args\":[{\"annotations\":[{\"font\":{\"color\":\"#FFFFFF\"},\"showarrow\":false,\"text\":\"0.5\",\"x\":0,\"xref\":\"x\",\"y\":0,\"yref\":\"y\"},{\"font\":{\"color\":\"#000000\"},\"showarrow\":false,\"text\":\"0.1\",\"x\":1,\"xref\":\"x\",\"y\":0,\"yref\":\"y\"},{\"font\":{\"color\":\"#000000\"},\"showarrow\":false,\"text\":\"0.05\",\"x\":2,\"xref\":\"x\",\"y\":0,\"yref\":\"y\"},{\"font\":{\"color\":\"#000000\"},\"showarrow\":false,\"text\":\"0.04\",\"x\":3,\"xref\":\"x\",\"y\":0,\"yref\":\"y\"},{\"font\":{\"color\":\"#000000\"},\"showarrow\":false,\"text\":\"0.06\",\"x\":4,\"xref\":\"x\",\"y\":0,\"yref\":\"y\"},{\"font\":{\"color\":\"#000000\"},\"showarrow\":false,\"text\":\"0.06\",\"x\":5,\"xref\":\"x\",\"y\":0,\"yref\":\"y\"},{\"font\":{\"color\":\"#000000\"},\"showarrow\":false,\"text\":\"0.04\",\"x\":6,\"xref\":\"x\",\"y\":0,\"yref\":\"y\"},{\"font\":{\"color\":\"#000000\"},\"showarrow\":false,\"text\":\"0.43\",\"x\":0,\"xref\":\"x\",\"y\":1,\"yref\":\"y\"},{\"font\":{\"color\":\"#000000\"},\"showarrow\":false,\"text\":\"0.03\",\"x\":1,\"xref\":\"x\",\"y\":1,\"yref\":\"y\"},{\"font\":{\"color\":\"#000000\"},\"showarrow\":false,\"text\":\"0.01\",\"x\":2,\"xref\":\"x\",\"y\":1,\"yref\":\"y\"},{\"font\":{\"color\":\"#000000\"},\"showarrow\":false,\"text\":\"0.02\",\"x\":3,\"xref\":\"x\",\"y\":1,\"yref\":\"y\"},{\"font\":{\"color\":\"#000000\"},\"showarrow\":false,\"text\":\"0.03\",\"x\":4,\"xref\":\"x\",\"y\":1,\"yref\":\"y\"},{\"font\":{\"color\":\"#000000\"},\"showarrow\":false,\"text\":\"0.03\",\"x\":5,\"xref\":\"x\",\"y\":1,\"yref\":\"y\"},{\"font\":{\"color\":\"#000000\"},\"showarrow\":false,\"text\":\"0.02\",\"x\":6,\"xref\":\"x\",\"y\":1,\"yref\":\"y\"},{\"font\":{\"color\":\"#000000\"},\"showarrow\":false,\"text\":\"0.22\",\"x\":0,\"xref\":\"x\",\"y\":2,\"yref\":\"y\"},{\"font\":{\"color\":\"#000000\"},\"showarrow\":false,\"text\":\"0.09\",\"x\":1,\"xref\":\"x\",\"y\":2,\"yref\":\"y\"},{\"font\":{\"color\":\"#000000\"},\"showarrow\":false,\"text\":\"0.03\",\"x\":2,\"xref\":\"x\",\"y\":2,\"yref\":\"y\"},{\"font\":{\"color\":\"#000000\"},\"showarrow\":false,\"text\":\"0.0\",\"x\":3,\"xref\":\"x\",\"y\":2,\"yref\":\"y\"},{\"font\":{\"color\":\"#000000\"},\"showarrow\":false,\"text\":\"0.02\",\"x\":4,\"xref\":\"x\",\"y\":2,\"yref\":\"y\"},{\"font\":{\"color\":\"#000000\"},\"showarrow\":false,\"text\":\"0.02\",\"x\":5,\"xref\":\"x\",\"y\":2,\"yref\":\"y\"},{\"font\":{\"color\":\"#000000\"},\"showarrow\":false,\"text\":\"0.03\",\"x\":6,\"xref\":\"x\",\"y\":2,\"yref\":\"y\"},{\"font\":{\"color\":\"#000000\"},\"showarrow\":false,\"text\":\"0.02\",\"x\":0,\"xref\":\"x\",\"y\":3,\"yref\":\"y\"},{\"font\":{\"color\":\"#000000\"},\"showarrow\":false,\"text\":\"0.07\",\"x\":1,\"xref\":\"x\",\"y\":3,\"yref\":\"y\"},{\"font\":{\"color\":\"#000000\"},\"showarrow\":false,\"text\":\"0.01\",\"x\":2,\"xref\":\"x\",\"y\":3,\"yref\":\"y\"},{\"font\":{\"color\":\"#000000\"},\"showarrow\":false,\"text\":\"0.01\",\"x\":3,\"xref\":\"x\",\"y\":3,\"yref\":\"y\"},{\"font\":{\"color\":\"#000000\"},\"showarrow\":false,\"text\":\"0.02\",\"x\":4,\"xref\":\"x\",\"y\":3,\"yref\":\"y\"},{\"font\":{\"color\":\"#000000\"},\"showarrow\":false,\"text\":\"0.03\",\"x\":5,\"xref\":\"x\",\"y\":3,\"yref\":\"y\"},{\"font\":{\"color\":\"#000000\"},\"showarrow\":false,\"text\":\"0.02\",\"x\":6,\"xref\":\"x\",\"y\":3,\"yref\":\"y\"},{\"font\":{\"color\":\"#000000\"},\"showarrow\":false,\"text\":\"0.19\",\"x\":0,\"xref\":\"x\",\"y\":4,\"yref\":\"y\"},{\"font\":{\"color\":\"#000000\"},\"showarrow\":false,\"text\":\"0.07\",\"x\":1,\"xref\":\"x\",\"y\":4,\"yref\":\"y\"},{\"font\":{\"color\":\"#000000\"},\"showarrow\":false,\"text\":\"0.03\",\"x\":2,\"xref\":\"x\",\"y\":4,\"yref\":\"y\"},{\"font\":{\"color\":\"#000000\"},\"showarrow\":false,\"text\":\"0.01\",\"x\":3,\"xref\":\"x\",\"y\":4,\"yref\":\"y\"},{\"font\":{\"color\":\"#000000\"},\"showarrow\":false,\"text\":\"0.02\",\"x\":4,\"xref\":\"x\",\"y\":4,\"yref\":\"y\"},{\"font\":{\"color\":\"#000000\"},\"showarrow\":false,\"text\":\"0.12\",\"x\":5,\"xref\":\"x\",\"y\":4,\"yref\":\"y\"},{\"font\":{\"color\":\"#000000\"},\"showarrow\":false,\"text\":\"0.04\",\"x\":6,\"xref\":\"x\",\"y\":4,\"yref\":\"y\"},{\"font\":{\"color\":\"#000000\"},\"showarrow\":false,\"text\":\"0.02\",\"x\":0,\"xref\":\"x\",\"y\":5,\"yref\":\"y\"},{\"font\":{\"color\":\"#000000\"},\"showarrow\":false,\"text\":\"0.08\",\"x\":1,\"xref\":\"x\",\"y\":5,\"yref\":\"y\"},{\"font\":{\"color\":\"#000000\"},\"showarrow\":false,\"text\":\"0.01\",\"x\":2,\"xref\":\"x\",\"y\":5,\"yref\":\"y\"},{\"font\":{\"color\":\"#000000\"},\"showarrow\":false,\"text\":\"0.01\",\"x\":3,\"xref\":\"x\",\"y\":5,\"yref\":\"y\"},{\"font\":{\"color\":\"#000000\"},\"showarrow\":false,\"text\":\"0.01\",\"x\":4,\"xref\":\"x\",\"y\":5,\"yref\":\"y\"},{\"font\":{\"color\":\"#000000\"},\"showarrow\":false,\"text\":\"0.02\",\"x\":5,\"xref\":\"x\",\"y\":5,\"yref\":\"y\"},{\"font\":{\"color\":\"#000000\"},\"showarrow\":false,\"text\":\"0.01\",\"x\":6,\"xref\":\"x\",\"y\":5,\"yref\":\"y\"},{\"font\":{\"color\":\"#000000\"},\"showarrow\":false,\"text\":\"0.17\",\"x\":0,\"xref\":\"x\",\"y\":6,\"yref\":\"y\"},{\"font\":{\"color\":\"#000000\"},\"showarrow\":false,\"text\":\"0.05\",\"x\":1,\"xref\":\"x\",\"y\":6,\"yref\":\"y\"},{\"font\":{\"color\":\"#000000\"},\"showarrow\":false,\"text\":\"0.04\",\"x\":2,\"xref\":\"x\",\"y\":6,\"yref\":\"y\"},{\"font\":{\"color\":\"#000000\"},\"showarrow\":false,\"text\":\"0.03\",\"x\":3,\"xref\":\"x\",\"y\":6,\"yref\":\"y\"},{\"font\":{\"color\":\"#000000\"},\"showarrow\":false,\"text\":\"0.06\",\"x\":4,\"xref\":\"x\",\"y\":6,\"yref\":\"y\"},{\"font\":{\"color\":\"#000000\"},\"showarrow\":false,\"text\":\"0.25\",\"x\":5,\"xref\":\"x\",\"y\":6,\"yref\":\"y\"},{\"font\":{\"color\":\"#000000\"},\"showarrow\":false,\"text\":\"0.15\",\"x\":6,\"xref\":\"x\",\"y\":6,\"yref\":\"y\"},{\"font\":{\"color\":\"#000000\"},\"showarrow\":false,\"text\":\"0.16\",\"x\":0,\"xref\":\"x\",\"y\":7,\"yref\":\"y\"},{\"font\":{\"color\":\"#000000\"},\"showarrow\":false,\"text\":\"0.16\",\"x\":1,\"xref\":\"x\",\"y\":7,\"yref\":\"y\"},{\"font\":{\"color\":\"#000000\"},\"showarrow\":false,\"text\":\"0.45\",\"x\":2,\"xref\":\"x\",\"y\":7,\"yref\":\"y\"},{\"font\":{\"color\":\"#000000\"},\"showarrow\":false,\"text\":\"0.07\",\"x\":3,\"xref\":\"x\",\"y\":7,\"yref\":\"y\"},{\"font\":{\"color\":\"#000000\"},\"showarrow\":false,\"text\":\"0.23\",\"x\":4,\"xref\":\"x\",\"y\":7,\"yref\":\"y\"},{\"font\":{\"color\":\"#000000\"},\"showarrow\":false,\"text\":\"0.29\",\"x\":5,\"xref\":\"x\",\"y\":7,\"yref\":\"y\"},{\"font\":{\"color\":\"#000000\"},\"showarrow\":false,\"text\":\"0.18\",\"x\":6,\"xref\":\"x\",\"y\":7,\"yref\":\"y\"},{\"font\":{\"color\":\"#000000\"},\"showarrow\":false,\"text\":\"0.04\",\"x\":0,\"xref\":\"x\",\"y\":8,\"yref\":\"y\"},{\"font\":{\"color\":\"#000000\"},\"showarrow\":false,\"text\":\"0.04\",\"x\":1,\"xref\":\"x\",\"y\":8,\"yref\":\"y\"},{\"font\":{\"color\":\"#000000\"},\"showarrow\":false,\"text\":\"0.09\",\"x\":2,\"xref\":\"x\",\"y\":8,\"yref\":\"y\"},{\"font\":{\"color\":\"#000000\"},\"showarrow\":false,\"text\":\"0.05\",\"x\":3,\"xref\":\"x\",\"y\":8,\"yref\":\"y\"},{\"font\":{\"color\":\"#000000\"},\"showarrow\":false,\"text\":\"0.11\",\"x\":4,\"xref\":\"x\",\"y\":8,\"yref\":\"y\"},{\"font\":{\"color\":\"#FFFFFF\"},\"showarrow\":false,\"text\":\"0.88\",\"x\":5,\"xref\":\"x\",\"y\":8,\"yref\":\"y\"},{\"font\":{\"color\":\"#FFFFFF\"},\"showarrow\":false,\"text\":\"0.54\",\"x\":6,\"xref\":\"x\",\"y\":8,\"yref\":\"y\"}]}],\"args2\":[{\"annotations\":[]}],\"label\":\"Show value\",\"method\":\"relayout\"}],\"active\":0,\"x\":0.1,\"xanchor\":\"left\",\"y\":1,\"yanchor\":\"top\",\"pad\":{\"r\":0,\"t\":-250,\"l\":-387},\"bgcolor\":\"rgba(255,255,255,1)\"}],\"xaxis\":{\"fixedrange\":true,\"tickvals\":[0,1,2,3,4,5,6],\"ticktext\":[\"age\",\"balance\",\"day\",\"duration\",\"campaign\",\"pdays\",\"previous\"]},\"yaxis\":{\"autorange\":\"reversed\",\"fixedrange\":true,\"tickvals\":[0,1,2,3,4,5,6,7,8],\"ticktext\":[\"job\",\"marital\",\"education\",\"default\",\"housing\",\"loan\",\"contact\",\"month\",\"poutcome\"]}}],\"label\":\"Categorical-Numeric\",\"method\":\"update\"},{\"args\":[{\"x\":[[0,1,2,3,4,5,6,7,8]],\"y\":[[0,1,2,3,4,5,6]],\"z\":[[[0.5011291136256929,0.4334313328817917,0.215201208925847,0.0178793036087058,0.1855130815371743,0.0156552726566358,0.1705550091417664,0.1602179147820747,0.0418052846926059],[0.1017757821030214,0.0281721114432671,0.0876566600280385,0.066745057113631,0.0687683156896658,0.0843502457312265,0.0493169409519651,0.1558414443790849,0.0395185384675558],[0.0476110096878106,0.0077227221767962,0.0259649069328426,0.0094238990984915,0.0279816493222859,0.01137015761615,0.0386666923936747,0.45164801400351,0.086581183091839],[0.0407742948641717,0.0231100128650697,0.0038058592063737,0.0100214613460636,0.005075449414075,0.0124119718236037,0.0296772734110411,0.0678939077521507,0.045409395257748],[0.0550356298570614,0.0314199241726727,0.020951672922716,0.0168215314222849,0.0235987068497175,0.0099798458977573,0.0556919140474517,0.231631512863582,0.112404509259099],[0.0586047768614424,0.0295056891413736,0.0240856785781985,0.0299793611027598,0.1241784001201226,0.0227536387182437,0.2483838104264416,0.2856304436358165,0.8789620178091383],[0.0429428509737354,0.0170202464794228,0.0262139868086665,0.0183294048165689,0.0370761497033099,0.0110434882512817,0.1541814772491456,0.1753450395009097,0.5392781616189852]]]},{\"annotations\":[{\"font\":{\"color\":\"#FFFFFF\"},\"showarrow\":false,\"text\":\"0.5\",\"x\":0,\"xref\":\"x\",\"y\":0,\"yref\":\"y\"},{\"font\":{\"color\":\"#000000\"},\"showarrow\":false,\"text\":\"0.43\",\"x\":1,\"xref\":\"x\",\"y\":0,\"yref\":\"y\"},{\"font\":{\"color\":\"#000000\"},\"showarrow\":false,\"text\":\"0.22\",\"x\":2,\"xref\":\"x\",\"y\":0,\"yref\":\"y\"},{\"font\":{\"color\":\"#000000\"},\"showarrow\":false,\"text\":\"0.02\",\"x\":3,\"xref\":\"x\",\"y\":0,\"yref\":\"y\"},{\"font\":{\"color\":\"#000000\"},\"showarrow\":false,\"text\":\"0.19\",\"x\":4,\"xref\":\"x\",\"y\":0,\"yref\":\"y\"},{\"font\":{\"color\":\"#000000\"},\"showarrow\":false,\"text\":\"0.02\",\"x\":5,\"xref\":\"x\",\"y\":0,\"yref\":\"y\"},{\"font\":{\"color\":\"#000000\"},\"showarrow\":false,\"text\":\"0.17\",\"x\":6,\"xref\":\"x\",\"y\":0,\"yref\":\"y\"},{\"font\":{\"color\":\"#000000\"},\"showarrow\":false,\"text\":\"0.16\",\"x\":7,\"xref\":\"x\",\"y\":0,\"yref\":\"y\"},{\"font\":{\"color\":\"#000000\"},\"showarrow\":false,\"text\":\"0.04\",\"x\":8,\"xref\":\"x\",\"y\":0,\"yref\":\"y\"},{\"font\":{\"color\":\"#000000\"},\"showarrow\":false,\"text\":\"0.1\",\"x\":0,\"xref\":\"x\",\"y\":1,\"yref\":\"y\"},{\"font\":{\"color\":\"#000000\"},\"showarrow\":false,\"text\":\"0.03\",\"x\":1,\"xref\":\"x\",\"y\":1,\"yref\":\"y\"},{\"font\":{\"color\":\"#000000\"},\"showarrow\":false,\"text\":\"0.09\",\"x\":2,\"xref\":\"x\",\"y\":1,\"yref\":\"y\"},{\"font\":{\"color\":\"#000000\"},\"showarrow\":false,\"text\":\"0.07\",\"x\":3,\"xref\":\"x\",\"y\":1,\"yref\":\"y\"},{\"font\":{\"color\":\"#000000\"},\"showarrow\":false,\"text\":\"0.07\",\"x\":4,\"xref\":\"x\",\"y\":1,\"yref\":\"y\"},{\"font\":{\"color\":\"#000000\"},\"showarrow\":false,\"text\":\"0.08\",\"x\":5,\"xref\":\"x\",\"y\":1,\"yref\":\"y\"},{\"font\":{\"color\":\"#000000\"},\"showarrow\":false,\"text\":\"0.05\",\"x\":6,\"xref\":\"x\",\"y\":1,\"yref\":\"y\"},{\"font\":{\"color\":\"#000000\"},\"showarrow\":false,\"text\":\"0.16\",\"x\":7,\"xref\":\"x\",\"y\":1,\"yref\":\"y\"},{\"font\":{\"color\":\"#000000\"},\"showarrow\":false,\"text\":\"0.04\",\"x\":8,\"xref\":\"x\",\"y\":1,\"yref\":\"y\"},{\"font\":{\"color\":\"#000000\"},\"showarrow\":false,\"text\":\"0.05\",\"x\":0,\"xref\":\"x\",\"y\":2,\"yref\":\"y\"},{\"font\":{\"color\":\"#000000\"},\"showarrow\":false,\"text\":\"0.01\",\"x\":1,\"xref\":\"x\",\"y\":2,\"yref\":\"y\"},{\"font\":{\"color\":\"#000000\"},\"showarrow\":false,\"text\":\"0.03\",\"x\":2,\"xref\":\"x\",\"y\":2,\"yref\":\"y\"},{\"font\":{\"color\":\"#000000\"},\"showarrow\":false,\"text\":\"0.01\",\"x\":3,\"xref\":\"x\",\"y\":2,\"yref\":\"y\"},{\"font\":{\"color\":\"#000000\"},\"showarrow\":false,\"text\":\"0.03\",\"x\":4,\"xref\":\"x\",\"y\":2,\"yref\":\"y\"},{\"font\":{\"color\":\"#000000\"},\"showarrow\":false,\"text\":\"0.01\",\"x\":5,\"xref\":\"x\",\"y\":2,\"yref\":\"y\"},{\"font\":{\"color\":\"#000000\"},\"showarrow\":false,\"text\":\"0.04\",\"x\":6,\"xref\":\"x\",\"y\":2,\"yref\":\"y\"},{\"font\":{\"color\":\"#000000\"},\"showarrow\":false,\"text\":\"0.45\",\"x\":7,\"xref\":\"x\",\"y\":2,\"yref\":\"y\"},{\"font\":{\"color\":\"#000000\"},\"showarrow\":false,\"text\":\"0.09\",\"x\":8,\"xref\":\"x\",\"y\":2,\"yref\":\"y\"},{\"font\":{\"color\":\"#000000\"},\"showarrow\":false,\"text\":\"0.04\",\"x\":0,\"xref\":\"x\",\"y\":3,\"yref\":\"y\"},{\"font\":{\"color\":\"#000000\"},\"showarrow\":false,\"text\":\"0.02\",\"x\":1,\"xref\":\"x\",\"y\":3,\"yref\":\"y\"},{\"font\":{\"color\":\"#000000\"},\"showarrow\":false,\"text\":\"0.0\",\"x\":2,\"xref\":\"x\",\"y\":3,\"yref\":\"y\"},{\"font\":{\"color\":\"#000000\"},\"showarrow\":false,\"text\":\"0.01\",\"x\":3,\"xref\":\"x\",\"y\":3,\"yref\":\"y\"},{\"font\":{\"color\":\"#000000\"},\"showarrow\":false,\"text\":\"0.01\",\"x\":4,\"xref\":\"x\",\"y\":3,\"yref\":\"y\"},{\"font\":{\"color\":\"#000000\"},\"showarrow\":false,\"text\":\"0.01\",\"x\":5,\"xref\":\"x\",\"y\":3,\"yref\":\"y\"},{\"font\":{\"color\":\"#000000\"},\"showarrow\":false,\"text\":\"0.03\",\"x\":6,\"xref\":\"x\",\"y\":3,\"yref\":\"y\"},{\"font\":{\"color\":\"#000000\"},\"showarrow\":false,\"text\":\"0.07\",\"x\":7,\"xref\":\"x\",\"y\":3,\"yref\":\"y\"},{\"font\":{\"color\":\"#000000\"},\"showarrow\":false,\"text\":\"0.05\",\"x\":8,\"xref\":\"x\",\"y\":3,\"yref\":\"y\"},{\"font\":{\"color\":\"#000000\"},\"showarrow\":false,\"text\":\"0.06\",\"x\":0,\"xref\":\"x\",\"y\":4,\"yref\":\"y\"},{\"font\":{\"color\":\"#000000\"},\"showarrow\":false,\"text\":\"0.03\",\"x\":1,\"xref\":\"x\",\"y\":4,\"yref\":\"y\"},{\"font\":{\"color\":\"#000000\"},\"showarrow\":false,\"text\":\"0.02\",\"x\":2,\"xref\":\"x\",\"y\":4,\"yref\":\"y\"},{\"font\":{\"color\":\"#000000\"},\"showarrow\":false,\"text\":\"0.02\",\"x\":3,\"xref\":\"x\",\"y\":4,\"yref\":\"y\"},{\"font\":{\"color\":\"#000000\"},\"showarrow\":false,\"text\":\"0.02\",\"x\":4,\"xref\":\"x\",\"y\":4,\"yref\":\"y\"},{\"font\":{\"color\":\"#000000\"},\"showarrow\":false,\"text\":\"0.01\",\"x\":5,\"xref\":\"x\",\"y\":4,\"yref\":\"y\"},{\"font\":{\"color\":\"#000000\"},\"showarrow\":false,\"text\":\"0.06\",\"x\":6,\"xref\":\"x\",\"y\":4,\"yref\":\"y\"},{\"font\":{\"color\":\"#000000\"},\"showarrow\":false,\"text\":\"0.23\",\"x\":7,\"xref\":\"x\",\"y\":4,\"yref\":\"y\"},{\"font\":{\"color\":\"#000000\"},\"showarrow\":false,\"text\":\"0.11\",\"x\":8,\"xref\":\"x\",\"y\":4,\"yref\":\"y\"},{\"font\":{\"color\":\"#000000\"},\"showarrow\":false,\"text\":\"0.06\",\"x\":0,\"xref\":\"x\",\"y\":5,\"yref\":\"y\"},{\"font\":{\"color\":\"#000000\"},\"showarrow\":false,\"text\":\"0.03\",\"x\":1,\"xref\":\"x\",\"y\":5,\"yref\":\"y\"},{\"font\":{\"color\":\"#000000\"},\"showarrow\":false,\"text\":\"0.02\",\"x\":2,\"xref\":\"x\",\"y\":5,\"yref\":\"y\"},{\"font\":{\"color\":\"#000000\"},\"showarrow\":false,\"text\":\"0.03\",\"x\":3,\"xref\":\"x\",\"y\":5,\"yref\":\"y\"},{\"font\":{\"color\":\"#000000\"},\"showarrow\":false,\"text\":\"0.12\",\"x\":4,\"xref\":\"x\",\"y\":5,\"yref\":\"y\"},{\"font\":{\"color\":\"#000000\"},\"showarrow\":false,\"text\":\"0.02\",\"x\":5,\"xref\":\"x\",\"y\":5,\"yref\":\"y\"},{\"font\":{\"color\":\"#000000\"},\"showarrow\":false,\"text\":\"0.25\",\"x\":6,\"xref\":\"x\",\"y\":5,\"yref\":\"y\"},{\"font\":{\"color\":\"#000000\"},\"showarrow\":false,\"text\":\"0.29\",\"x\":7,\"xref\":\"x\",\"y\":5,\"yref\":\"y\"},{\"font\":{\"color\":\"#FFFFFF\"},\"showarrow\":false,\"text\":\"0.88\",\"x\":8,\"xref\":\"x\",\"y\":5,\"yref\":\"y\"},{\"font\":{\"color\":\"#000000\"},\"showarrow\":false,\"text\":\"0.04\",\"x\":0,\"xref\":\"x\",\"y\":6,\"yref\":\"y\"},{\"font\":{\"color\":\"#000000\"},\"showarrow\":false,\"text\":\"0.02\",\"x\":1,\"xref\":\"x\",\"y\":6,\"yref\":\"y\"},{\"font\":{\"color\":\"#000000\"},\"showarrow\":false,\"text\":\"0.03\",\"x\":2,\"xref\":\"x\",\"y\":6,\"yref\":\"y\"},{\"font\":{\"color\":\"#000000\"},\"showarrow\":false,\"text\":\"0.02\",\"x\":3,\"xref\":\"x\",\"y\":6,\"yref\":\"y\"},{\"font\":{\"color\":\"#000000\"},\"showarrow\":false,\"text\":\"0.04\",\"x\":4,\"xref\":\"x\",\"y\":6,\"yref\":\"y\"},{\"font\":{\"color\":\"#000000\"},\"showarrow\":false,\"text\":\"0.01\",\"x\":5,\"xref\":\"x\",\"y\":6,\"yref\":\"y\"},{\"font\":{\"color\":\"#000000\"},\"showarrow\":false,\"text\":\"0.15\",\"x\":6,\"xref\":\"x\",\"y\":6,\"yref\":\"y\"},{\"font\":{\"color\":\"#000000\"},\"showarrow\":false,\"text\":\"0.18\",\"x\":7,\"xref\":\"x\",\"y\":6,\"yref\":\"y\"},{\"font\":{\"color\":\"#FFFFFF\"},\"showarrow\":false,\"text\":\"0.54\",\"x\":8,\"xref\":\"x\",\"y\":6,\"yref\":\"y\"}],\"updatemenus\":[{\"type\":\"buttons\",\"direction\":\"right\",\"buttons\":[{\"args\":[{\"annotations\":[{\"font\":{\"color\":\"#FFFFFF\"},\"showarrow\":false,\"text\":\"0.5\",\"x\":0,\"xref\":\"x\",\"y\":0,\"yref\":\"y\"},{\"font\":{\"color\":\"#000000\"},\"showarrow\":false,\"text\":\"0.43\",\"x\":1,\"xref\":\"x\",\"y\":0,\"yref\":\"y\"},{\"font\":{\"color\":\"#000000\"},\"showarrow\":false,\"text\":\"0.22\",\"x\":2,\"xref\":\"x\",\"y\":0,\"yref\":\"y\"},{\"font\":{\"color\":\"#000000\"},\"showarrow\":false,\"text\":\"0.02\",\"x\":3,\"xref\":\"x\",\"y\":0,\"yref\":\"y\"},{\"font\":{\"color\":\"#000000\"},\"showarrow\":false,\"text\":\"0.19\",\"x\":4,\"xref\":\"x\",\"y\":0,\"yref\":\"y\"},{\"font\":{\"color\":\"#000000\"},\"showarrow\":false,\"text\":\"0.02\",\"x\":5,\"xref\":\"x\",\"y\":0,\"yref\":\"y\"},{\"font\":{\"color\":\"#000000\"},\"showarrow\":false,\"text\":\"0.17\",\"x\":6,\"xref\":\"x\",\"y\":0,\"yref\":\"y\"},{\"font\":{\"color\":\"#000000\"},\"showarrow\":false,\"text\":\"0.16\",\"x\":7,\"xref\":\"x\",\"y\":0,\"yref\":\"y\"},{\"font\":{\"color\":\"#000000\"},\"showarrow\":false,\"text\":\"0.04\",\"x\":8,\"xref\":\"x\",\"y\":0,\"yref\":\"y\"},{\"font\":{\"color\":\"#000000\"},\"showarrow\":false,\"text\":\"0.1\",\"x\":0,\"xref\":\"x\",\"y\":1,\"yref\":\"y\"},{\"font\":{\"color\":\"#000000\"},\"showarrow\":false,\"text\":\"0.03\",\"x\":1,\"xref\":\"x\",\"y\":1,\"yref\":\"y\"},{\"font\":{\"color\":\"#000000\"},\"showarrow\":false,\"text\":\"0.09\",\"x\":2,\"xref\":\"x\",\"y\":1,\"yref\":\"y\"},{\"font\":{\"color\":\"#000000\"},\"showarrow\":false,\"text\":\"0.07\",\"x\":3,\"xref\":\"x\",\"y\":1,\"yref\":\"y\"},{\"font\":{\"color\":\"#000000\"},\"showarrow\":false,\"text\":\"0.07\",\"x\":4,\"xref\":\"x\",\"y\":1,\"yref\":\"y\"},{\"font\":{\"color\":\"#000000\"},\"showarrow\":false,\"text\":\"0.08\",\"x\":5,\"xref\":\"x\",\"y\":1,\"yref\":\"y\"},{\"font\":{\"color\":\"#000000\"},\"showarrow\":false,\"text\":\"0.05\",\"x\":6,\"xref\":\"x\",\"y\":1,\"yref\":\"y\"},{\"font\":{\"color\":\"#000000\"},\"showarrow\":false,\"text\":\"0.16\",\"x\":7,\"xref\":\"x\",\"y\":1,\"yref\":\"y\"},{\"font\":{\"color\":\"#000000\"},\"showarrow\":false,\"text\":\"0.04\",\"x\":8,\"xref\":\"x\",\"y\":1,\"yref\":\"y\"},{\"font\":{\"color\":\"#000000\"},\"showarrow\":false,\"text\":\"0.05\",\"x\":0,\"xref\":\"x\",\"y\":2,\"yref\":\"y\"},{\"font\":{\"color\":\"#000000\"},\"showarrow\":false,\"text\":\"0.01\",\"x\":1,\"xref\":\"x\",\"y\":2,\"yref\":\"y\"},{\"font\":{\"color\":\"#000000\"},\"showarrow\":false,\"text\":\"0.03\",\"x\":2,\"xref\":\"x\",\"y\":2,\"yref\":\"y\"},{\"font\":{\"color\":\"#000000\"},\"showarrow\":false,\"text\":\"0.01\",\"x\":3,\"xref\":\"x\",\"y\":2,\"yref\":\"y\"},{\"font\":{\"color\":\"#000000\"},\"showarrow\":false,\"text\":\"0.03\",\"x\":4,\"xref\":\"x\",\"y\":2,\"yref\":\"y\"},{\"font\":{\"color\":\"#000000\"},\"showarrow\":false,\"text\":\"0.01\",\"x\":5,\"xref\":\"x\",\"y\":2,\"yref\":\"y\"},{\"font\":{\"color\":\"#000000\"},\"showarrow\":false,\"text\":\"0.04\",\"x\":6,\"xref\":\"x\",\"y\":2,\"yref\":\"y\"},{\"font\":{\"color\":\"#000000\"},\"showarrow\":false,\"text\":\"0.45\",\"x\":7,\"xref\":\"x\",\"y\":2,\"yref\":\"y\"},{\"font\":{\"color\":\"#000000\"},\"showarrow\":false,\"text\":\"0.09\",\"x\":8,\"xref\":\"x\",\"y\":2,\"yref\":\"y\"},{\"font\":{\"color\":\"#000000\"},\"showarrow\":false,\"text\":\"0.04\",\"x\":0,\"xref\":\"x\",\"y\":3,\"yref\":\"y\"},{\"font\":{\"color\":\"#000000\"},\"showarrow\":false,\"text\":\"0.02\",\"x\":1,\"xref\":\"x\",\"y\":3,\"yref\":\"y\"},{\"font\":{\"color\":\"#000000\"},\"showarrow\":false,\"text\":\"0.0\",\"x\":2,\"xref\":\"x\",\"y\":3,\"yref\":\"y\"},{\"font\":{\"color\":\"#000000\"},\"showarrow\":false,\"text\":\"0.01\",\"x\":3,\"xref\":\"x\",\"y\":3,\"yref\":\"y\"},{\"font\":{\"color\":\"#000000\"},\"showarrow\":false,\"text\":\"0.01\",\"x\":4,\"xref\":\"x\",\"y\":3,\"yref\":\"y\"},{\"font\":{\"color\":\"#000000\"},\"showarrow\":false,\"text\":\"0.01\",\"x\":5,\"xref\":\"x\",\"y\":3,\"yref\":\"y\"},{\"font\":{\"color\":\"#000000\"},\"showarrow\":false,\"text\":\"0.03\",\"x\":6,\"xref\":\"x\",\"y\":3,\"yref\":\"y\"},{\"font\":{\"color\":\"#000000\"},\"showarrow\":false,\"text\":\"0.07\",\"x\":7,\"xref\":\"x\",\"y\":3,\"yref\":\"y\"},{\"font\":{\"color\":\"#000000\"},\"showarrow\":false,\"text\":\"0.05\",\"x\":8,\"xref\":\"x\",\"y\":3,\"yref\":\"y\"},{\"font\":{\"color\":\"#000000\"},\"showarrow\":false,\"text\":\"0.06\",\"x\":0,\"xref\":\"x\",\"y\":4,\"yref\":\"y\"},{\"font\":{\"color\":\"#000000\"},\"showarrow\":false,\"text\":\"0.03\",\"x\":1,\"xref\":\"x\",\"y\":4,\"yref\":\"y\"},{\"font\":{\"color\":\"#000000\"},\"showarrow\":false,\"text\":\"0.02\",\"x\":2,\"xref\":\"x\",\"y\":4,\"yref\":\"y\"},{\"font\":{\"color\":\"#000000\"},\"showarrow\":false,\"text\":\"0.02\",\"x\":3,\"xref\":\"x\",\"y\":4,\"yref\":\"y\"},{\"font\":{\"color\":\"#000000\"},\"showarrow\":false,\"text\":\"0.02\",\"x\":4,\"xref\":\"x\",\"y\":4,\"yref\":\"y\"},{\"font\":{\"color\":\"#000000\"},\"showarrow\":false,\"text\":\"0.01\",\"x\":5,\"xref\":\"x\",\"y\":4,\"yref\":\"y\"},{\"font\":{\"color\":\"#000000\"},\"showarrow\":false,\"text\":\"0.06\",\"x\":6,\"xref\":\"x\",\"y\":4,\"yref\":\"y\"},{\"font\":{\"color\":\"#000000\"},\"showarrow\":false,\"text\":\"0.23\",\"x\":7,\"xref\":\"x\",\"y\":4,\"yref\":\"y\"},{\"font\":{\"color\":\"#000000\"},\"showarrow\":false,\"text\":\"0.11\",\"x\":8,\"xref\":\"x\",\"y\":4,\"yref\":\"y\"},{\"font\":{\"color\":\"#000000\"},\"showarrow\":false,\"text\":\"0.06\",\"x\":0,\"xref\":\"x\",\"y\":5,\"yref\":\"y\"},{\"font\":{\"color\":\"#000000\"},\"showarrow\":false,\"text\":\"0.03\",\"x\":1,\"xref\":\"x\",\"y\":5,\"yref\":\"y\"},{\"font\":{\"color\":\"#000000\"},\"showarrow\":false,\"text\":\"0.02\",\"x\":2,\"xref\":\"x\",\"y\":5,\"yref\":\"y\"},{\"font\":{\"color\":\"#000000\"},\"showarrow\":false,\"text\":\"0.03\",\"x\":3,\"xref\":\"x\",\"y\":5,\"yref\":\"y\"},{\"font\":{\"color\":\"#000000\"},\"showarrow\":false,\"text\":\"0.12\",\"x\":4,\"xref\":\"x\",\"y\":5,\"yref\":\"y\"},{\"font\":{\"color\":\"#000000\"},\"showarrow\":false,\"text\":\"0.02\",\"x\":5,\"xref\":\"x\",\"y\":5,\"yref\":\"y\"},{\"font\":{\"color\":\"#000000\"},\"showarrow\":false,\"text\":\"0.25\",\"x\":6,\"xref\":\"x\",\"y\":5,\"yref\":\"y\"},{\"font\":{\"color\":\"#000000\"},\"showarrow\":false,\"text\":\"0.29\",\"x\":7,\"xref\":\"x\",\"y\":5,\"yref\":\"y\"},{\"font\":{\"color\":\"#FFFFFF\"},\"showarrow\":false,\"text\":\"0.88\",\"x\":8,\"xref\":\"x\",\"y\":5,\"yref\":\"y\"},{\"font\":{\"color\":\"#000000\"},\"showarrow\":false,\"text\":\"0.04\",\"x\":0,\"xref\":\"x\",\"y\":6,\"yref\":\"y\"},{\"font\":{\"color\":\"#000000\"},\"showarrow\":false,\"text\":\"0.02\",\"x\":1,\"xref\":\"x\",\"y\":6,\"yref\":\"y\"},{\"font\":{\"color\":\"#000000\"},\"showarrow\":false,\"text\":\"0.03\",\"x\":2,\"xref\":\"x\",\"y\":6,\"yref\":\"y\"},{\"font\":{\"color\":\"#000000\"},\"showarrow\":false,\"text\":\"0.02\",\"x\":3,\"xref\":\"x\",\"y\":6,\"yref\":\"y\"},{\"font\":{\"color\":\"#000000\"},\"showarrow\":false,\"text\":\"0.04\",\"x\":4,\"xref\":\"x\",\"y\":6,\"yref\":\"y\"},{\"font\":{\"color\":\"#000000\"},\"showarrow\":false,\"text\":\"0.01\",\"x\":5,\"xref\":\"x\",\"y\":6,\"yref\":\"y\"},{\"font\":{\"color\":\"#000000\"},\"showarrow\":false,\"text\":\"0.15\",\"x\":6,\"xref\":\"x\",\"y\":6,\"yref\":\"y\"},{\"font\":{\"color\":\"#000000\"},\"showarrow\":false,\"text\":\"0.18\",\"x\":7,\"xref\":\"x\",\"y\":6,\"yref\":\"y\"},{\"font\":{\"color\":\"#FFFFFF\"},\"showarrow\":false,\"text\":\"0.54\",\"x\":8,\"xref\":\"x\",\"y\":6,\"yref\":\"y\"}]}],\"args2\":[{\"annotations\":[]}],\"label\":\"Show value\",\"method\":\"relayout\"}],\"active\":0,\"x\":0.1,\"xanchor\":\"left\",\"y\":1,\"yanchor\":\"top\",\"pad\":{\"r\":0,\"t\":-250,\"l\":-387},\"bgcolor\":\"rgba(255,255,255,1)\"}],\"xaxis\":{\"fixedrange\":true,\"tickvals\":[0,1,2,3,4,5,6,7,8],\"ticktext\":[\"job\",\"marital\",\"education\",\"default\",\"housing\",\"loan\",\"contact\",\"month\",\"poutcome\"]},\"yaxis\":{\"autorange\":\"reversed\",\"fixedrange\":true,\"tickvals\":[0,1,2,3,4,5,6],\"ticktext\":[\"age\",\"balance\",\"day\",\"duration\",\"campaign\",\"pdays\",\"previous\"]}}],\"label\":\"Numeric-Categorical\",\"method\":\"update\"}],\"direction\":\"down\",\"pad\":{\"l\":-60,\"r\":0,\"t\":-50},\"type\":\"dropdown\",\"x\":0.1,\"xanchor\":\"left\",\"y\":1,\"yanchor\":\"top\"},{\"active\":0,\"bgcolor\":\"rgba(255,255,255,1)\",\"buttons\":[{\"args\":[{\"annotations\":[{\"font\":{\"color\":\"#FFFFFF\"},\"showarrow\":false,\"text\":\"1.0\",\"x\":0,\"xref\":\"x\",\"y\":0,\"yref\":\"y\"},{\"font\":{\"color\":\"#000000\"},\"showarrow\":false,\"text\":\"0.1\",\"x\":1,\"xref\":\"x\",\"y\":0,\"yref\":\"y\"},{\"font\":{\"color\":\"#000000\"},\"showarrow\":false,\"text\":\"0.01\",\"x\":2,\"xref\":\"x\",\"y\":0,\"yref\":\"y\"},{\"font\":{\"color\":\"#000000\"},\"showarrow\":false,\"text\":\"0.0\",\"x\":3,\"xref\":\"x\",\"y\":0,\"yref\":\"y\"},{\"font\":{\"color\":\"#000000\"},\"showarrow\":false,\"text\":\"0.0\",\"x\":4,\"xref\":\"x\",\"y\":0,\"yref\":\"y\"},{\"font\":{\"color\":\"#000000\"},\"showarrow\":false,\"text\":\"0.02\",\"x\":5,\"xref\":\"x\",\"y\":0,\"yref\":\"y\"},{\"font\":{\"color\":\"#000000\"},\"showarrow\":false,\"text\":\"0.0\",\"x\":6,\"xref\":\"x\",\"y\":0,\"yref\":\"y\"},{\"font\":{\"color\":\"#FFFFFF\"},\"showarrow\":false,\"text\":\"0.5\",\"x\":7,\"xref\":\"x\",\"y\":0,\"yref\":\"y\"},{\"font\":{\"color\":\"#000000\"},\"showarrow\":false,\"text\":\"0.43\",\"x\":8,\"xref\":\"x\",\"y\":0,\"yref\":\"y\"},{\"font\":{\"color\":\"#000000\"},\"showarrow\":false,\"text\":\"0.22\",\"x\":9,\"xref\":\"x\",\"y\":0,\"yref\":\"y\"},{\"font\":{\"color\":\"#000000\"},\"showarrow\":false,\"text\":\"0.02\",\"x\":10,\"xref\":\"x\",\"y\":0,\"yref\":\"y\"},{\"font\":{\"color\":\"#000000\"},\"showarrow\":false,\"text\":\"0.19\",\"x\":11,\"xref\":\"x\",\"y\":0,\"yref\":\"y\"},{\"font\":{\"color\":\"#000000\"},\"showarrow\":false,\"text\":\"0.02\",\"x\":12,\"xref\":\"x\",\"y\":0,\"yref\":\"y\"},{\"font\":{\"color\":\"#000000\"},\"showarrow\":false,\"text\":\"0.17\",\"x\":13,\"xref\":\"x\",\"y\":0,\"yref\":\"y\"},{\"font\":{\"color\":\"#000000\"},\"showarrow\":false,\"text\":\"0.16\",\"x\":14,\"xref\":\"x\",\"y\":0,\"yref\":\"y\"},{\"font\":{\"color\":\"#000000\"},\"showarrow\":false,\"text\":\"0.04\",\"x\":15,\"xref\":\"x\",\"y\":0,\"yref\":\"y\"},{\"font\":{\"color\":\"#000000\"},\"showarrow\":false,\"text\":\"0.1\",\"x\":0,\"xref\":\"x\",\"y\":1,\"yref\":\"y\"},{\"font\":{\"color\":\"#FFFFFF\"},\"showarrow\":false,\"text\":\"1.0\",\"x\":1,\"xref\":\"x\",\"y\":1,\"yref\":\"y\"},{\"font\":{\"color\":\"#000000\"},\"showarrow\":false,\"text\":\"0.0\",\"x\":2,\"xref\":\"x\",\"y\":1,\"yref\":\"y\"},{\"font\":{\"color\":\"#000000\"},\"showarrow\":false,\"text\":\"0.02\",\"x\":3,\"xref\":\"x\",\"y\":1,\"yref\":\"y\"},{\"font\":{\"color\":\"#000000\"},\"showarrow\":false,\"text\":\"0.01\",\"x\":4,\"xref\":\"x\",\"y\":1,\"yref\":\"y\"},{\"font\":{\"color\":\"#000000\"},\"showarrow\":false,\"text\":\"0.0\",\"x\":5,\"xref\":\"x\",\"y\":1,\"yref\":\"y\"},{\"font\":{\"color\":\"#000000\"},\"showarrow\":false,\"text\":\"0.02\",\"x\":6,\"xref\":\"x\",\"y\":1,\"yref\":\"y\"},{\"font\":{\"color\":\"#000000\"},\"showarrow\":false,\"text\":\"0.1\",\"x\":7,\"xref\":\"x\",\"y\":1,\"yref\":\"y\"},{\"font\":{\"color\":\"#000000\"},\"showarrow\":false,\"text\":\"0.03\",\"x\":8,\"xref\":\"x\",\"y\":1,\"yref\":\"y\"},{\"font\":{\"color\":\"#000000\"},\"showarrow\":false,\"text\":\"0.09\",\"x\":9,\"xref\":\"x\",\"y\":1,\"yref\":\"y\"},{\"font\":{\"color\":\"#000000\"},\"showarrow\":false,\"text\":\"0.07\",\"x\":10,\"xref\":\"x\",\"y\":1,\"yref\":\"y\"},{\"font\":{\"color\":\"#000000\"},\"showarrow\":false,\"text\":\"0.07\",\"x\":11,\"xref\":\"x\",\"y\":1,\"yref\":\"y\"},{\"font\":{\"color\":\"#000000\"},\"showarrow\":false,\"text\":\"0.08\",\"x\":12,\"xref\":\"x\",\"y\":1,\"yref\":\"y\"},{\"font\":{\"color\":\"#000000\"},\"showarrow\":false,\"text\":\"0.05\",\"x\":13,\"xref\":\"x\",\"y\":1,\"yref\":\"y\"},{\"font\":{\"color\":\"#000000\"},\"showarrow\":false,\"text\":\"0.16\",\"x\":14,\"xref\":\"x\",\"y\":1,\"yref\":\"y\"},{\"font\":{\"color\":\"#000000\"},\"showarrow\":false,\"text\":\"0.04\",\"x\":15,\"xref\":\"x\",\"y\":1,\"yref\":\"y\"},{\"font\":{\"color\":\"#000000\"},\"showarrow\":false,\"text\":\"0.01\",\"x\":0,\"xref\":\"x\",\"y\":2,\"yref\":\"y\"},{\"font\":{\"color\":\"#000000\"},\"showarrow\":false,\"text\":\"0.0\",\"x\":1,\"xref\":\"x\",\"y\":2,\"yref\":\"y\"},{\"font\":{\"color\":\"#FFFFFF\"},\"showarrow\":false,\"text\":\"1.0\",\"x\":2,\"xref\":\"x\",\"y\":2,\"yref\":\"y\"},{\"font\":{\"color\":\"#000000\"},\"showarrow\":false,\"text\":\"0.03\",\"x\":3,\"xref\":\"x\",\"y\":2,\"yref\":\"y\"},{\"font\":{\"color\":\"#000000\"},\"showarrow\":false,\"text\":\"0.16\",\"x\":4,\"xref\":\"x\",\"y\":2,\"yref\":\"y\"},{\"font\":{\"color\":\"#000000\"},\"showarrow\":false,\"text\":\"0.09\",\"x\":5,\"xref\":\"x\",\"y\":2,\"yref\":\"y\"},{\"font\":{\"color\":\"#000000\"},\"showarrow\":false,\"text\":\"0.05\",\"x\":6,\"xref\":\"x\",\"y\":2,\"yref\":\"y\"},{\"font\":{\"color\":\"#000000\"},\"showarrow\":false,\"text\":\"0.05\",\"x\":7,\"xref\":\"x\",\"y\":2,\"yref\":\"y\"},{\"font\":{\"color\":\"#000000\"},\"showarrow\":false,\"text\":\"0.01\",\"x\":8,\"xref\":\"x\",\"y\":2,\"yref\":\"y\"},{\"font\":{\"color\":\"#000000\"},\"showarrow\":false,\"text\":\"0.03\",\"x\":9,\"xref\":\"x\",\"y\":2,\"yref\":\"y\"},{\"font\":{\"color\":\"#000000\"},\"showarrow\":false,\"text\":\"0.01\",\"x\":10,\"xref\":\"x\",\"y\":2,\"yref\":\"y\"},{\"font\":{\"color\":\"#000000\"},\"showarrow\":false,\"text\":\"0.03\",\"x\":11,\"xref\":\"x\",\"y\":2,\"yref\":\"y\"},{\"font\":{\"color\":\"#000000\"},\"showarrow\":false,\"text\":\"0.01\",\"x\":12,\"xref\":\"x\",\"y\":2,\"yref\":\"y\"},{\"font\":{\"color\":\"#000000\"},\"showarrow\":false,\"text\":\"0.04\",\"x\":13,\"xref\":\"x\",\"y\":2,\"yref\":\"y\"},{\"font\":{\"color\":\"#000000\"},\"showarrow\":false,\"text\":\"0.45\",\"x\":14,\"xref\":\"x\",\"y\":2,\"yref\":\"y\"},{\"font\":{\"color\":\"#000000\"},\"showarrow\":false,\"text\":\"0.09\",\"x\":15,\"xref\":\"x\",\"y\":2,\"yref\":\"y\"},{\"font\":{\"color\":\"#000000\"},\"showarrow\":false,\"text\":\"0.0\",\"x\":0,\"xref\":\"x\",\"y\":3,\"yref\":\"y\"},{\"font\":{\"color\":\"#000000\"},\"showarrow\":false,\"text\":\"0.02\",\"x\":1,\"xref\":\"x\",\"y\":3,\"yref\":\"y\"},{\"font\":{\"color\":\"#000000\"},\"showarrow\":false,\"text\":\"0.03\",\"x\":2,\"xref\":\"x\",\"y\":3,\"yref\":\"y\"},{\"font\":{\"color\":\"#FFFFFF\"},\"showarrow\":false,\"text\":\"1.0\",\"x\":3,\"xref\":\"x\",\"y\":3,\"yref\":\"y\"},{\"font\":{\"color\":\"#000000\"},\"showarrow\":false,\"text\":\"0.08\",\"x\":4,\"xref\":\"x\",\"y\":3,\"yref\":\"y\"},{\"font\":{\"color\":\"#000000\"},\"showarrow\":false,\"text\":\"0.0\",\"x\":5,\"xref\":\"x\",\"y\":3,\"yref\":\"y\"},{\"font\":{\"color\":\"#000000\"},\"showarrow\":false,\"text\":\"0.0\",\"x\":6,\"xref\":\"x\",\"y\":3,\"yref\":\"y\"},{\"font\":{\"color\":\"#000000\"},\"showarrow\":false,\"text\":\"0.04\",\"x\":7,\"xref\":\"x\",\"y\":3,\"yref\":\"y\"},{\"font\":{\"color\":\"#000000\"},\"showarrow\":false,\"text\":\"0.02\",\"x\":8,\"xref\":\"x\",\"y\":3,\"yref\":\"y\"},{\"font\":{\"color\":\"#000000\"},\"showarrow\":false,\"text\":\"0.0\",\"x\":9,\"xref\":\"x\",\"y\":3,\"yref\":\"y\"},{\"font\":{\"color\":\"#000000\"},\"showarrow\":false,\"text\":\"0.01\",\"x\":10,\"xref\":\"x\",\"y\":3,\"yref\":\"y\"},{\"font\":{\"color\":\"#000000\"},\"showarrow\":false,\"text\":\"0.01\",\"x\":11,\"xref\":\"x\",\"y\":3,\"yref\":\"y\"},{\"font\":{\"color\":\"#000000\"},\"showarrow\":false,\"text\":\"0.01\",\"x\":12,\"xref\":\"x\",\"y\":3,\"yref\":\"y\"},{\"font\":{\"color\":\"#000000\"},\"showarrow\":false,\"text\":\"0.03\",\"x\":13,\"xref\":\"x\",\"y\":3,\"yref\":\"y\"},{\"font\":{\"color\":\"#000000\"},\"showarrow\":false,\"text\":\"0.07\",\"x\":14,\"xref\":\"x\",\"y\":3,\"yref\":\"y\"},{\"font\":{\"color\":\"#000000\"},\"showarrow\":false,\"text\":\"0.05\",\"x\":15,\"xref\":\"x\",\"y\":3,\"yref\":\"y\"},{\"font\":{\"color\":\"#000000\"},\"showarrow\":false,\"text\":\"0.0\",\"x\":0,\"xref\":\"x\",\"y\":4,\"yref\":\"y\"},{\"font\":{\"color\":\"#000000\"},\"showarrow\":false,\"text\":\"0.01\",\"x\":1,\"xref\":\"x\",\"y\":4,\"yref\":\"y\"},{\"font\":{\"color\":\"#000000\"},\"showarrow\":false,\"text\":\"0.16\",\"x\":2,\"xref\":\"x\",\"y\":4,\"yref\":\"y\"},{\"font\":{\"color\":\"#000000\"},\"showarrow\":false,\"text\":\"0.08\",\"x\":3,\"xref\":\"x\",\"y\":4,\"yref\":\"y\"},{\"font\":{\"color\":\"#FFFFFF\"},\"showarrow\":false,\"text\":\"1.0\",\"x\":4,\"xref\":\"x\",\"y\":4,\"yref\":\"y\"},{\"font\":{\"color\":\"#000000\"},\"showarrow\":false,\"text\":\"0.09\",\"x\":5,\"xref\":\"x\",\"y\":4,\"yref\":\"y\"},{\"font\":{\"color\":\"#000000\"},\"showarrow\":false,\"text\":\"0.03\",\"x\":6,\"xref\":\"x\",\"y\":4,\"yref\":\"y\"},{\"font\":{\"color\":\"#000000\"},\"showarrow\":false,\"text\":\"0.06\",\"x\":7,\"xref\":\"x\",\"y\":4,\"yref\":\"y\"},{\"font\":{\"color\":\"#000000\"},\"showarrow\":false,\"text\":\"0.03\",\"x\":8,\"xref\":\"x\",\"y\":4,\"yref\":\"y\"},{\"font\":{\"color\":\"#000000\"},\"showarrow\":false,\"text\":\"0.02\",\"x\":9,\"xref\":\"x\",\"y\":4,\"yref\":\"y\"},{\"font\":{\"color\":\"#000000\"},\"showarrow\":false,\"text\":\"0.02\",\"x\":10,\"xref\":\"x\",\"y\":4,\"yref\":\"y\"},{\"font\":{\"color\":\"#000000\"},\"showarrow\":false,\"text\":\"0.02\",\"x\":11,\"xref\":\"x\",\"y\":4,\"yref\":\"y\"},{\"font\":{\"color\":\"#000000\"},\"showarrow\":false,\"text\":\"0.01\",\"x\":12,\"xref\":\"x\",\"y\":4,\"yref\":\"y\"},{\"font\":{\"color\":\"#000000\"},\"showarrow\":false,\"text\":\"0.06\",\"x\":13,\"xref\":\"x\",\"y\":4,\"yref\":\"y\"},{\"font\":{\"color\":\"#000000\"},\"showarrow\":false,\"text\":\"0.23\",\"x\":14,\"xref\":\"x\",\"y\":4,\"yref\":\"y\"},{\"font\":{\"color\":\"#000000\"},\"showarrow\":false,\"text\":\"0.11\",\"x\":15,\"xref\":\"x\",\"y\":4,\"yref\":\"y\"},{\"font\":{\"color\":\"#000000\"},\"showarrow\":false,\"text\":\"0.02\",\"x\":0,\"xref\":\"x\",\"y\":5,\"yref\":\"y\"},{\"font\":{\"color\":\"#000000\"},\"showarrow\":false,\"text\":\"0.0\",\"x\":1,\"xref\":\"x\",\"y\":5,\"yref\":\"y\"},{\"font\":{\"color\":\"#000000\"},\"showarrow\":false,\"text\":\"0.09\",\"x\":2,\"xref\":\"x\",\"y\":5,\"yref\":\"y\"},{\"font\":{\"color\":\"#000000\"},\"showarrow\":false,\"text\":\"0.0\",\"x\":3,\"xref\":\"x\",\"y\":5,\"yref\":\"y\"},{\"font\":{\"color\":\"#000000\"},\"showarrow\":false,\"text\":\"0.09\",\"x\":4,\"xref\":\"x\",\"y\":5,\"yref\":\"y\"},{\"font\":{\"color\":\"#FFFFFF\"},\"showarrow\":false,\"text\":\"1.0\",\"x\":5,\"xref\":\"x\",\"y\":5,\"yref\":\"y\"},{\"font\":{\"color\":\"#000000\"},\"showarrow\":false,\"text\":\"0.45\",\"x\":6,\"xref\":\"x\",\"y\":5,\"yref\":\"y\"},{\"font\":{\"color\":\"#000000\"},\"showarrow\":false,\"text\":\"0.06\",\"x\":7,\"xref\":\"x\",\"y\":5,\"yref\":\"y\"},{\"font\":{\"color\":\"#000000\"},\"showarrow\":false,\"text\":\"0.03\",\"x\":8,\"xref\":\"x\",\"y\":5,\"yref\":\"y\"},{\"font\":{\"color\":\"#000000\"},\"showarrow\":false,\"text\":\"0.02\",\"x\":9,\"xref\":\"x\",\"y\":5,\"yref\":\"y\"},{\"font\":{\"color\":\"#000000\"},\"showarrow\":false,\"text\":\"0.03\",\"x\":10,\"xref\":\"x\",\"y\":5,\"yref\":\"y\"},{\"font\":{\"color\":\"#000000\"},\"showarrow\":false,\"text\":\"0.12\",\"x\":11,\"xref\":\"x\",\"y\":5,\"yref\":\"y\"},{\"font\":{\"color\":\"#000000\"},\"showarrow\":false,\"text\":\"0.02\",\"x\":12,\"xref\":\"x\",\"y\":5,\"yref\":\"y\"},{\"font\":{\"color\":\"#000000\"},\"showarrow\":false,\"text\":\"0.25\",\"x\":13,\"xref\":\"x\",\"y\":5,\"yref\":\"y\"},{\"font\":{\"color\":\"#000000\"},\"showarrow\":false,\"text\":\"0.29\",\"x\":14,\"xref\":\"x\",\"y\":5,\"yref\":\"y\"},{\"font\":{\"color\":\"#FFFFFF\"},\"showarrow\":false,\"text\":\"0.88\",\"x\":15,\"xref\":\"x\",\"y\":5,\"yref\":\"y\"},{\"font\":{\"color\":\"#000000\"},\"showarrow\":false,\"text\":\"0.0\",\"x\":0,\"xref\":\"x\",\"y\":6,\"yref\":\"y\"},{\"font\":{\"color\":\"#000000\"},\"showarrow\":false,\"text\":\"0.02\",\"x\":1,\"xref\":\"x\",\"y\":6,\"yref\":\"y\"},{\"font\":{\"color\":\"#000000\"},\"showarrow\":false,\"text\":\"0.05\",\"x\":2,\"xref\":\"x\",\"y\":6,\"yref\":\"y\"},{\"font\":{\"color\":\"#000000\"},\"showarrow\":false,\"text\":\"0.0\",\"x\":3,\"xref\":\"x\",\"y\":6,\"yref\":\"y\"},{\"font\":{\"color\":\"#000000\"},\"showarrow\":false,\"text\":\"0.03\",\"x\":4,\"xref\":\"x\",\"y\":6,\"yref\":\"y\"},{\"font\":{\"color\":\"#000000\"},\"showarrow\":false,\"text\":\"0.45\",\"x\":5,\"xref\":\"x\",\"y\":6,\"yref\":\"y\"},{\"font\":{\"color\":\"#FFFFFF\"},\"showarrow\":false,\"text\":\"1.0\",\"x\":6,\"xref\":\"x\",\"y\":6,\"yref\":\"y\"},{\"font\":{\"color\":\"#000000\"},\"showarrow\":false,\"text\":\"0.04\",\"x\":7,\"xref\":\"x\",\"y\":6,\"yref\":\"y\"},{\"font\":{\"color\":\"#000000\"},\"showarrow\":false,\"text\":\"0.02\",\"x\":8,\"xref\":\"x\",\"y\":6,\"yref\":\"y\"},{\"font\":{\"color\":\"#000000\"},\"showarrow\":false,\"text\":\"0.03\",\"x\":9,\"xref\":\"x\",\"y\":6,\"yref\":\"y\"},{\"font\":{\"color\":\"#000000\"},\"showarrow\":false,\"text\":\"0.02\",\"x\":10,\"xref\":\"x\",\"y\":6,\"yref\":\"y\"},{\"font\":{\"color\":\"#000000\"},\"showarrow\":false,\"text\":\"0.04\",\"x\":11,\"xref\":\"x\",\"y\":6,\"yref\":\"y\"},{\"font\":{\"color\":\"#000000\"},\"showarrow\":false,\"text\":\"0.01\",\"x\":12,\"xref\":\"x\",\"y\":6,\"yref\":\"y\"},{\"font\":{\"color\":\"#000000\"},\"showarrow\":false,\"text\":\"0.15\",\"x\":13,\"xref\":\"x\",\"y\":6,\"yref\":\"y\"},{\"font\":{\"color\":\"#000000\"},\"showarrow\":false,\"text\":\"0.18\",\"x\":14,\"xref\":\"x\",\"y\":6,\"yref\":\"y\"},{\"font\":{\"color\":\"#FFFFFF\"},\"showarrow\":false,\"text\":\"0.54\",\"x\":15,\"xref\":\"x\",\"y\":6,\"yref\":\"y\"},{\"font\":{\"color\":\"#FFFFFF\"},\"showarrow\":false,\"text\":\"0.5\",\"x\":0,\"xref\":\"x\",\"y\":7,\"yref\":\"y\"},{\"font\":{\"color\":\"#000000\"},\"showarrow\":false,\"text\":\"0.1\",\"x\":1,\"xref\":\"x\",\"y\":7,\"yref\":\"y\"},{\"font\":{\"color\":\"#000000\"},\"showarrow\":false,\"text\":\"0.05\",\"x\":2,\"xref\":\"x\",\"y\":7,\"yref\":\"y\"},{\"font\":{\"color\":\"#000000\"},\"showarrow\":false,\"text\":\"0.04\",\"x\":3,\"xref\":\"x\",\"y\":7,\"yref\":\"y\"},{\"font\":{\"color\":\"#000000\"},\"showarrow\":false,\"text\":\"0.06\",\"x\":4,\"xref\":\"x\",\"y\":7,\"yref\":\"y\"},{\"font\":{\"color\":\"#000000\"},\"showarrow\":false,\"text\":\"0.06\",\"x\":5,\"xref\":\"x\",\"y\":7,\"yref\":\"y\"},{\"font\":{\"color\":\"#000000\"},\"showarrow\":false,\"text\":\"0.04\",\"x\":6,\"xref\":\"x\",\"y\":7,\"yref\":\"y\"},{\"font\":{\"color\":\"#FFFFFF\"},\"showarrow\":false,\"text\":\"1.0\",\"x\":7,\"xref\":\"x\",\"y\":7,\"yref\":\"y\"},{\"font\":{\"color\":\"#000000\"},\"showarrow\":false,\"text\":\"0.21\",\"x\":8,\"xref\":\"x\",\"y\":7,\"yref\":\"y\"},{\"font\":{\"color\":\"#000000\"},\"showarrow\":false,\"text\":\"0.46\",\"x\":9,\"xref\":\"x\",\"y\":7,\"yref\":\"y\"},{\"font\":{\"color\":\"#000000\"},\"showarrow\":false,\"text\":\"0.04\",\"x\":10,\"xref\":\"x\",\"y\":7,\"yref\":\"y\"},{\"font\":{\"color\":\"#000000\"},\"showarrow\":false,\"text\":\"0.28\",\"x\":11,\"xref\":\"x\",\"y\":7,\"yref\":\"y\"},{\"font\":{\"color\":\"#000000\"},\"showarrow\":false,\"text\":\"0.11\",\"x\":12,\"xref\":\"x\",\"y\":7,\"yref\":\"y\"},{\"font\":{\"color\":\"#000000\"},\"showarrow\":false,\"text\":\"0.15\",\"x\":13,\"xref\":\"x\",\"y\":7,\"yref\":\"y\"},{\"font\":{\"color\":\"#000000\"},\"showarrow\":false,\"text\":\"0.11\",\"x\":14,\"xref\":\"x\",\"y\":7,\"yref\":\"y\"},{\"font\":{\"color\":\"#000000\"},\"showarrow\":false,\"text\":\"0.06\",\"x\":15,\"xref\":\"x\",\"y\":7,\"yref\":\"y\"},{\"font\":{\"color\":\"#000000\"},\"showarrow\":false,\"text\":\"0.43\",\"x\":0,\"xref\":\"x\",\"y\":8,\"yref\":\"y\"},{\"font\":{\"color\":\"#000000\"},\"showarrow\":false,\"text\":\"0.03\",\"x\":1,\"xref\":\"x\",\"y\":8,\"yref\":\"y\"},{\"font\":{\"color\":\"#000000\"},\"showarrow\":false,\"text\":\"0.01\",\"x\":2,\"xref\":\"x\",\"y\":8,\"yref\":\"y\"},{\"font\":{\"color\":\"#000000\"},\"showarrow\":false,\"text\":\"0.02\",\"x\":3,\"xref\":\"x\",\"y\":8,\"yref\":\"y\"},{\"font\":{\"color\":\"#000000\"},\"showarrow\":false,\"text\":\"0.03\",\"x\":4,\"xref\":\"x\",\"y\":8,\"yref\":\"y\"},{\"font\":{\"color\":\"#000000\"},\"showarrow\":false,\"text\":\"0.03\",\"x\":5,\"xref\":\"x\",\"y\":8,\"yref\":\"y\"},{\"font\":{\"color\":\"#000000\"},\"showarrow\":false,\"text\":\"0.02\",\"x\":6,\"xref\":\"x\",\"y\":8,\"yref\":\"y\"},{\"font\":{\"color\":\"#000000\"},\"showarrow\":false,\"text\":\"0.21\",\"x\":7,\"xref\":\"x\",\"y\":8,\"yref\":\"y\"},{\"font\":{\"color\":\"#FFFFFF\"},\"showarrow\":false,\"text\":\"1.0\",\"x\":8,\"xref\":\"x\",\"y\":8,\"yref\":\"y\"},{\"font\":{\"color\":\"#000000\"},\"showarrow\":false,\"text\":\"0.12\",\"x\":9,\"xref\":\"x\",\"y\":8,\"yref\":\"y\"},{\"font\":{\"color\":\"#000000\"},\"showarrow\":false,\"text\":\"0.02\",\"x\":10,\"xref\":\"x\",\"y\":8,\"yref\":\"y\"},{\"font\":{\"color\":\"#000000\"},\"showarrow\":false,\"text\":\"0.02\",\"x\":11,\"xref\":\"x\",\"y\":8,\"yref\":\"y\"},{\"font\":{\"color\":\"#000000\"},\"showarrow\":false,\"text\":\"0.05\",\"x\":12,\"xref\":\"x\",\"y\":8,\"yref\":\"y\"},{\"font\":{\"color\":\"#000000\"},\"showarrow\":false,\"text\":\"0.05\",\"x\":13,\"xref\":\"x\",\"y\":8,\"yref\":\"y\"},{\"font\":{\"color\":\"#000000\"},\"showarrow\":false,\"text\":\"0.07\",\"x\":14,\"xref\":\"x\",\"y\":8,\"yref\":\"y\"},{\"font\":{\"color\":\"#000000\"},\"showarrow\":false,\"text\":\"0.03\",\"x\":15,\"xref\":\"x\",\"y\":8,\"yref\":\"y\"},{\"font\":{\"color\":\"#000000\"},\"showarrow\":false,\"text\":\"0.22\",\"x\":0,\"xref\":\"x\",\"y\":9,\"yref\":\"y\"},{\"font\":{\"color\":\"#000000\"},\"showarrow\":false,\"text\":\"0.09\",\"x\":1,\"xref\":\"x\",\"y\":9,\"yref\":\"y\"},{\"font\":{\"color\":\"#000000\"},\"showarrow\":false,\"text\":\"0.03\",\"x\":2,\"xref\":\"x\",\"y\":9,\"yref\":\"y\"},{\"font\":{\"color\":\"#000000\"},\"showarrow\":false,\"text\":\"0.0\",\"x\":3,\"xref\":\"x\",\"y\":9,\"yref\":\"y\"},{\"font\":{\"color\":\"#000000\"},\"showarrow\":false,\"text\":\"0.02\",\"x\":4,\"xref\":\"x\",\"y\":9,\"yref\":\"y\"},{\"font\":{\"color\":\"#000000\"},\"showarrow\":false,\"text\":\"0.02\",\"x\":5,\"xref\":\"x\",\"y\":9,\"yref\":\"y\"},{\"font\":{\"color\":\"#000000\"},\"showarrow\":false,\"text\":\"0.03\",\"x\":6,\"xref\":\"x\",\"y\":9,\"yref\":\"y\"},{\"font\":{\"color\":\"#000000\"},\"showarrow\":false,\"text\":\"0.46\",\"x\":7,\"xref\":\"x\",\"y\":9,\"yref\":\"y\"},{\"font\":{\"color\":\"#000000\"},\"showarrow\":false,\"text\":\"0.12\",\"x\":8,\"xref\":\"x\",\"y\":9,\"yref\":\"y\"},{\"font\":{\"color\":\"#FFFFFF\"},\"showarrow\":false,\"text\":\"1.0\",\"x\":9,\"xref\":\"x\",\"y\":9,\"yref\":\"y\"},{\"font\":{\"color\":\"#000000\"},\"showarrow\":false,\"text\":\"0.02\",\"x\":10,\"xref\":\"x\",\"y\":9,\"yref\":\"y\"},{\"font\":{\"color\":\"#000000\"},\"showarrow\":false,\"text\":\"0.12\",\"x\":11,\"xref\":\"x\",\"y\":9,\"yref\":\"y\"},{\"font\":{\"color\":\"#000000\"},\"showarrow\":false,\"text\":\"0.08\",\"x\":12,\"xref\":\"x\",\"y\":9,\"yref\":\"y\"},{\"font\":{\"color\":\"#000000\"},\"showarrow\":false,\"text\":\"0.12\",\"x\":13,\"xref\":\"x\",\"y\":9,\"yref\":\"y\"},{\"font\":{\"color\":\"#000000\"},\"showarrow\":false,\"text\":\"0.11\",\"x\":14,\"xref\":\"x\",\"y\":9,\"yref\":\"y\"},{\"font\":{\"color\":\"#000000\"},\"showarrow\":false,\"text\":\"0.04\",\"x\":15,\"xref\":\"x\",\"y\":9,\"yref\":\"y\"},{\"font\":{\"color\":\"#000000\"},\"showarrow\":false,\"text\":\"0.02\",\"x\":0,\"xref\":\"x\",\"y\":10,\"yref\":\"y\"},{\"font\":{\"color\":\"#000000\"},\"showarrow\":false,\"text\":\"0.07\",\"x\":1,\"xref\":\"x\",\"y\":10,\"yref\":\"y\"},{\"font\":{\"color\":\"#000000\"},\"showarrow\":false,\"text\":\"0.01\",\"x\":2,\"xref\":\"x\",\"y\":10,\"yref\":\"y\"},{\"font\":{\"color\":\"#000000\"},\"showarrow\":false,\"text\":\"0.01\",\"x\":3,\"xref\":\"x\",\"y\":10,\"yref\":\"y\"},{\"font\":{\"color\":\"#000000\"},\"showarrow\":false,\"text\":\"0.02\",\"x\":4,\"xref\":\"x\",\"y\":10,\"yref\":\"y\"},{\"font\":{\"color\":\"#000000\"},\"showarrow\":false,\"text\":\"0.03\",\"x\":5,\"xref\":\"x\",\"y\":10,\"yref\":\"y\"},{\"font\":{\"color\":\"#000000\"},\"showarrow\":false,\"text\":\"0.02\",\"x\":6,\"xref\":\"x\",\"y\":10,\"yref\":\"y\"},{\"font\":{\"color\":\"#000000\"},\"showarrow\":false,\"text\":\"0.04\",\"x\":7,\"xref\":\"x\",\"y\":10,\"yref\":\"y\"},{\"font\":{\"color\":\"#000000\"},\"showarrow\":false,\"text\":\"0.02\",\"x\":8,\"xref\":\"x\",\"y\":10,\"yref\":\"y\"},{\"font\":{\"color\":\"#000000\"},\"showarrow\":false,\"text\":\"0.02\",\"x\":9,\"xref\":\"x\",\"y\":10,\"yref\":\"y\"},{\"font\":{\"color\":\"#FFFFFF\"},\"showarrow\":false,\"text\":\"1.0\",\"x\":10,\"xref\":\"x\",\"y\":10,\"yref\":\"y\"},{\"font\":{\"color\":\"#000000\"},\"showarrow\":false,\"text\":\"0.01\",\"x\":11,\"xref\":\"x\",\"y\":10,\"yref\":\"y\"},{\"font\":{\"color\":\"#000000\"},\"showarrow\":false,\"text\":\"0.08\",\"x\":12,\"xref\":\"x\",\"y\":10,\"yref\":\"y\"},{\"font\":{\"color\":\"#000000\"},\"showarrow\":false,\"text\":\"0.02\",\"x\":13,\"xref\":\"x\",\"y\":10,\"yref\":\"y\"},{\"font\":{\"color\":\"#000000\"},\"showarrow\":false,\"text\":\"0.06\",\"x\":14,\"xref\":\"x\",\"y\":10,\"yref\":\"y\"},{\"font\":{\"color\":\"#000000\"},\"showarrow\":false,\"text\":\"0.04\",\"x\":15,\"xref\":\"x\",\"y\":10,\"yref\":\"y\"},{\"font\":{\"color\":\"#000000\"},\"showarrow\":false,\"text\":\"0.19\",\"x\":0,\"xref\":\"x\",\"y\":11,\"yref\":\"y\"},{\"font\":{\"color\":\"#000000\"},\"showarrow\":false,\"text\":\"0.07\",\"x\":1,\"xref\":\"x\",\"y\":11,\"yref\":\"y\"},{\"font\":{\"color\":\"#000000\"},\"showarrow\":false,\"text\":\"0.03\",\"x\":2,\"xref\":\"x\",\"y\":11,\"yref\":\"y\"},{\"font\":{\"color\":\"#000000\"},\"showarrow\":false,\"text\":\"0.01\",\"x\":3,\"xref\":\"x\",\"y\":11,\"yref\":\"y\"},{\"font\":{\"color\":\"#000000\"},\"showarrow\":false,\"text\":\"0.02\",\"x\":4,\"xref\":\"x\",\"y\":11,\"yref\":\"y\"},{\"font\":{\"color\":\"#000000\"},\"showarrow\":false,\"text\":\"0.12\",\"x\":5,\"xref\":\"x\",\"y\":11,\"yref\":\"y\"},{\"font\":{\"color\":\"#000000\"},\"showarrow\":false,\"text\":\"0.04\",\"x\":6,\"xref\":\"x\",\"y\":11,\"yref\":\"y\"},{\"font\":{\"color\":\"#000000\"},\"showarrow\":false,\"text\":\"0.28\",\"x\":7,\"xref\":\"x\",\"y\":11,\"yref\":\"y\"},{\"font\":{\"color\":\"#000000\"},\"showarrow\":false,\"text\":\"0.02\",\"x\":8,\"xref\":\"x\",\"y\":11,\"yref\":\"y\"},{\"font\":{\"color\":\"#000000\"},\"showarrow\":false,\"text\":\"0.12\",\"x\":9,\"xref\":\"x\",\"y\":11,\"yref\":\"y\"},{\"font\":{\"color\":\"#000000\"},\"showarrow\":false,\"text\":\"0.01\",\"x\":10,\"xref\":\"x\",\"y\":11,\"yref\":\"y\"},{\"font\":{\"color\":\"#FFFFFF\"},\"showarrow\":false,\"text\":\"1.0\",\"x\":11,\"xref\":\"x\",\"y\":11,\"yref\":\"y\"},{\"font\":{\"color\":\"#000000\"},\"showarrow\":false,\"text\":\"0.04\",\"x\":12,\"xref\":\"x\",\"y\":11,\"yref\":\"y\"},{\"font\":{\"color\":\"#000000\"},\"showarrow\":false,\"text\":\"0.21\",\"x\":13,\"xref\":\"x\",\"y\":11,\"yref\":\"y\"},{\"font\":{\"color\":\"#FFFFFF\"},\"showarrow\":false,\"text\":\"0.5\",\"x\":14,\"xref\":\"x\",\"y\":11,\"yref\":\"y\"},{\"font\":{\"color\":\"#000000\"},\"showarrow\":false,\"text\":\"0.14\",\"x\":15,\"xref\":\"x\",\"y\":11,\"yref\":\"y\"},{\"font\":{\"color\":\"#000000\"},\"showarrow\":false,\"text\":\"0.02\",\"x\":0,\"xref\":\"x\",\"y\":12,\"yref\":\"y\"},{\"font\":{\"color\":\"#000000\"},\"showarrow\":false,\"text\":\"0.08\",\"x\":1,\"xref\":\"x\",\"y\":12,\"yref\":\"y\"},{\"font\":{\"color\":\"#000000\"},\"showarrow\":false,\"text\":\"0.01\",\"x\":2,\"xref\":\"x\",\"y\":12,\"yref\":\"y\"},{\"font\":{\"color\":\"#000000\"},\"showarrow\":false,\"text\":\"0.01\",\"x\":3,\"xref\":\"x\",\"y\":12,\"yref\":\"y\"},{\"font\":{\"color\":\"#000000\"},\"showarrow\":false,\"text\":\"0.01\",\"x\":4,\"xref\":\"x\",\"y\":12,\"yref\":\"y\"},{\"font\":{\"color\":\"#000000\"},\"showarrow\":false,\"text\":\"0.02\",\"x\":5,\"xref\":\"x\",\"y\":12,\"yref\":\"y\"},{\"font\":{\"color\":\"#000000\"},\"showarrow\":false,\"text\":\"0.01\",\"x\":6,\"xref\":\"x\",\"y\":12,\"yref\":\"y\"},{\"font\":{\"color\":\"#000000\"},\"showarrow\":false,\"text\":\"0.11\",\"x\":7,\"xref\":\"x\",\"y\":12,\"yref\":\"y\"},{\"font\":{\"color\":\"#000000\"},\"showarrow\":false,\"text\":\"0.05\",\"x\":8,\"xref\":\"x\",\"y\":12,\"yref\":\"y\"},{\"font\":{\"color\":\"#000000\"},\"showarrow\":false,\"text\":\"0.08\",\"x\":9,\"xref\":\"x\",\"y\":12,\"yref\":\"y\"},{\"font\":{\"color\":\"#000000\"},\"showarrow\":false,\"text\":\"0.08\",\"x\":10,\"xref\":\"x\",\"y\":12,\"yref\":\"y\"},{\"font\":{\"color\":\"#000000\"},\"showarrow\":false,\"text\":\"0.04\",\"x\":11,\"xref\":\"x\",\"y\":12,\"yref\":\"y\"},{\"font\":{\"color\":\"#FFFFFF\"},\"showarrow\":false,\"text\":\"1.0\",\"x\":12,\"xref\":\"x\",\"y\":12,\"yref\":\"y\"},{\"font\":{\"color\":\"#000000\"},\"showarrow\":false,\"text\":\"0.02\",\"x\":13,\"xref\":\"x\",\"y\":12,\"yref\":\"y\"},{\"font\":{\"color\":\"#000000\"},\"showarrow\":false,\"text\":\"0.18\",\"x\":14,\"xref\":\"x\",\"y\":12,\"yref\":\"y\"},{\"font\":{\"color\":\"#000000\"},\"showarrow\":false,\"text\":\"0.06\",\"x\":15,\"xref\":\"x\",\"y\":12,\"yref\":\"y\"},{\"font\":{\"color\":\"#000000\"},\"showarrow\":false,\"text\":\"0.17\",\"x\":0,\"xref\":\"x\",\"y\":13,\"yref\":\"y\"},{\"font\":{\"color\":\"#000000\"},\"showarrow\":false,\"text\":\"0.05\",\"x\":1,\"xref\":\"x\",\"y\":13,\"yref\":\"y\"},{\"font\":{\"color\":\"#000000\"},\"showarrow\":false,\"text\":\"0.04\",\"x\":2,\"xref\":\"x\",\"y\":13,\"yref\":\"y\"},{\"font\":{\"color\":\"#000000\"},\"showarrow\":false,\"text\":\"0.03\",\"x\":3,\"xref\":\"x\",\"y\":13,\"yref\":\"y\"},{\"font\":{\"color\":\"#000000\"},\"showarrow\":false,\"text\":\"0.06\",\"x\":4,\"xref\":\"x\",\"y\":13,\"yref\":\"y\"},{\"font\":{\"color\":\"#000000\"},\"showarrow\":false,\"text\":\"0.25\",\"x\":5,\"xref\":\"x\",\"y\":13,\"yref\":\"y\"},{\"font\":{\"color\":\"#000000\"},\"showarrow\":false,\"text\":\"0.15\",\"x\":6,\"xref\":\"x\",\"y\":13,\"yref\":\"y\"},{\"font\":{\"color\":\"#000000\"},\"showarrow\":false,\"text\":\"0.15\",\"x\":7,\"xref\":\"x\",\"y\":13,\"yref\":\"y\"},{\"font\":{\"color\":\"#000000\"},\"showarrow\":false,\"text\":\"0.05\",\"x\":8,\"xref\":\"x\",\"y\":13,\"yref\":\"y\"},{\"font\":{\"color\":\"#000000\"},\"showarrow\":false,\"text\":\"0.12\",\"x\":9,\"xref\":\"x\",\"y\":13,\"yref\":\"y\"},{\"font\":{\"color\":\"#000000\"},\"showarrow\":false,\"text\":\"0.02\",\"x\":10,\"xref\":\"x\",\"y\":13,\"yref\":\"y\"},{\"font\":{\"color\":\"#000000\"},\"showarrow\":false,\"text\":\"0.21\",\"x\":11,\"xref\":\"x\",\"y\":13,\"yref\":\"y\"},{\"font\":{\"color\":\"#000000\"},\"showarrow\":false,\"text\":\"0.02\",\"x\":12,\"xref\":\"x\",\"y\":13,\"yref\":\"y\"},{\"font\":{\"color\":\"#FFFFFF\"},\"showarrow\":false,\"text\":\"1.0\",\"x\":13,\"xref\":\"x\",\"y\":13,\"yref\":\"y\"},{\"font\":{\"color\":\"#FFFFFF\"},\"showarrow\":false,\"text\":\"0.51\",\"x\":14,\"xref\":\"x\",\"y\":13,\"yref\":\"y\"},{\"font\":{\"color\":\"#000000\"},\"showarrow\":false,\"text\":\"0.21\",\"x\":15,\"xref\":\"x\",\"y\":13,\"yref\":\"y\"},{\"font\":{\"color\":\"#000000\"},\"showarrow\":false,\"text\":\"0.16\",\"x\":0,\"xref\":\"x\",\"y\":14,\"yref\":\"y\"},{\"font\":{\"color\":\"#000000\"},\"showarrow\":false,\"text\":\"0.16\",\"x\":1,\"xref\":\"x\",\"y\":14,\"yref\":\"y\"},{\"font\":{\"color\":\"#000000\"},\"showarrow\":false,\"text\":\"0.45\",\"x\":2,\"xref\":\"x\",\"y\":14,\"yref\":\"y\"},{\"font\":{\"color\":\"#000000\"},\"showarrow\":false,\"text\":\"0.07\",\"x\":3,\"xref\":\"x\",\"y\":14,\"yref\":\"y\"},{\"font\":{\"color\":\"#000000\"},\"showarrow\":false,\"text\":\"0.23\",\"x\":4,\"xref\":\"x\",\"y\":14,\"yref\":\"y\"},{\"font\":{\"color\":\"#000000\"},\"showarrow\":false,\"text\":\"0.29\",\"x\":5,\"xref\":\"x\",\"y\":14,\"yref\":\"y\"},{\"font\":{\"color\":\"#000000\"},\"showarrow\":false,\"text\":\"0.18\",\"x\":6,\"xref\":\"x\",\"y\":14,\"yref\":\"y\"},{\"font\":{\"color\":\"#000000\"},\"showarrow\":false,\"text\":\"0.11\",\"x\":7,\"xref\":\"x\",\"y\":14,\"yref\":\"y\"},{\"font\":{\"color\":\"#000000\"},\"showarrow\":false,\"text\":\"0.07\",\"x\":8,\"xref\":\"x\",\"y\":14,\"yref\":\"y\"},{\"font\":{\"color\":\"#000000\"},\"showarrow\":false,\"text\":\"0.11\",\"x\":9,\"xref\":\"x\",\"y\":14,\"yref\":\"y\"},{\"font\":{\"color\":\"#000000\"},\"showarrow\":false,\"text\":\"0.06\",\"x\":10,\"xref\":\"x\",\"y\":14,\"yref\":\"y\"},{\"font\":{\"color\":\"#FFFFFF\"},\"showarrow\":false,\"text\":\"0.5\",\"x\":11,\"xref\":\"x\",\"y\":14,\"yref\":\"y\"},{\"font\":{\"color\":\"#000000\"},\"showarrow\":false,\"text\":\"0.18\",\"x\":12,\"xref\":\"x\",\"y\":14,\"yref\":\"y\"},{\"font\":{\"color\":\"#FFFFFF\"},\"showarrow\":false,\"text\":\"0.51\",\"x\":13,\"xref\":\"x\",\"y\":14,\"yref\":\"y\"},{\"font\":{\"color\":\"#FFFFFF\"},\"showarrow\":false,\"text\":\"1.0\",\"x\":14,\"xref\":\"x\",\"y\":14,\"yref\":\"y\"},{\"font\":{\"color\":\"#000000\"},\"showarrow\":false,\"text\":\"0.21\",\"x\":15,\"xref\":\"x\",\"y\":14,\"yref\":\"y\"},{\"font\":{\"color\":\"#000000\"},\"showarrow\":false,\"text\":\"0.04\",\"x\":0,\"xref\":\"x\",\"y\":15,\"yref\":\"y\"},{\"font\":{\"color\":\"#000000\"},\"showarrow\":false,\"text\":\"0.04\",\"x\":1,\"xref\":\"x\",\"y\":15,\"yref\":\"y\"},{\"font\":{\"color\":\"#000000\"},\"showarrow\":false,\"text\":\"0.09\",\"x\":2,\"xref\":\"x\",\"y\":15,\"yref\":\"y\"},{\"font\":{\"color\":\"#000000\"},\"showarrow\":false,\"text\":\"0.05\",\"x\":3,\"xref\":\"x\",\"y\":15,\"yref\":\"y\"},{\"font\":{\"color\":\"#000000\"},\"showarrow\":false,\"text\":\"0.11\",\"x\":4,\"xref\":\"x\",\"y\":15,\"yref\":\"y\"},{\"font\":{\"color\":\"#FFFFFF\"},\"showarrow\":false,\"text\":\"0.88\",\"x\":5,\"xref\":\"x\",\"y\":15,\"yref\":\"y\"},{\"font\":{\"color\":\"#FFFFFF\"},\"showarrow\":false,\"text\":\"0.54\",\"x\":6,\"xref\":\"x\",\"y\":15,\"yref\":\"y\"},{\"font\":{\"color\":\"#000000\"},\"showarrow\":false,\"text\":\"0.06\",\"x\":7,\"xref\":\"x\",\"y\":15,\"yref\":\"y\"},{\"font\":{\"color\":\"#000000\"},\"showarrow\":false,\"text\":\"0.03\",\"x\":8,\"xref\":\"x\",\"y\":15,\"yref\":\"y\"},{\"font\":{\"color\":\"#000000\"},\"showarrow\":false,\"text\":\"0.04\",\"x\":9,\"xref\":\"x\",\"y\":15,\"yref\":\"y\"},{\"font\":{\"color\":\"#000000\"},\"showarrow\":false,\"text\":\"0.04\",\"x\":10,\"xref\":\"x\",\"y\":15,\"yref\":\"y\"},{\"font\":{\"color\":\"#000000\"},\"showarrow\":false,\"text\":\"0.14\",\"x\":11,\"xref\":\"x\",\"y\":15,\"yref\":\"y\"},{\"font\":{\"color\":\"#000000\"},\"showarrow\":false,\"text\":\"0.06\",\"x\":12,\"xref\":\"x\",\"y\":15,\"yref\":\"y\"},{\"font\":{\"color\":\"#000000\"},\"showarrow\":false,\"text\":\"0.21\",\"x\":13,\"xref\":\"x\",\"y\":15,\"yref\":\"y\"},{\"font\":{\"color\":\"#000000\"},\"showarrow\":false,\"text\":\"0.21\",\"x\":14,\"xref\":\"x\",\"y\":15,\"yref\":\"y\"},{\"font\":{\"color\":\"#FFFFFF\"},\"showarrow\":false,\"text\":\"1.0\",\"x\":15,\"xref\":\"x\",\"y\":15,\"yref\":\"y\"}]}],\"args2\":[{\"annotations\":[]}],\"label\":\"Show value\",\"method\":\"relayout\"}],\"direction\":\"right\",\"pad\":{\"l\":-60,\"r\":0,\"t\":-100},\"type\":\"buttons\",\"x\":0.1,\"xanchor\":\"left\",\"y\":1,\"yanchor\":\"top\"}]},                        {\"displaylogo\": false, \"responsive\": true}                    ).then(function(){\n",
       "                            \n",
       "var gd = document.getElementById('4da12ea7-4c54-4ed8-9543-d094cce19320');\n",
       "var x = new MutationObserver(function (mutations, observer) {{\n",
       "        var display = window.getComputedStyle(gd).display;\n",
       "        if (!display || display === 'none') {{\n",
       "            console.log([gd, 'removed!']);\n",
       "            Plotly.purge(gd);\n",
       "            observer.disconnect();\n",
       "        }}\n",
       "}});\n",
       "\n",
       "// Listen for the removal of the full notebook cells\n",
       "var notebookContainer = gd.closest('#notebook-container');\n",
       "if (notebookContainer) {{\n",
       "    x.observe(notebookContainer, {childList: true});\n",
       "}}\n",
       "\n",
       "// Listen for the clearing of the current output cell\n",
       "var outputEl = gd.closest('.output');\n",
       "if (outputEl) {{\n",
       "    x.observe(outputEl, {childList: true});\n",
       "}}\n",
       "\n",
       "                        })                };                });            </script>        </div>"
      ]
     },
     "metadata": {},
     "output_type": "display_data"
    }
   ],
   "source": [
    "num_cols = [k for k, v in feature_type_names.items() if v == 'numeric']\n",
    "cat_cols = [k for k, v in feature_type_names.items() if v == 'category']\n",
    "\n",
    "fig = plot_correlation_matrix_filter(data, num_cols=num_cols, cat_cols=cat_cols, fig=go.Figure(), width=1118, height=766, colorscale='YlGnBu', reverse_font_color=False)\n",
    "fig.show(config={'displaylogo':False})\n",
    "# fig.write_html('./automl_plot/corr.html', config={'displaylogo':False}, include_plotlyjs='cdn', full_html=False)"
   ]
  }
 ],
 "metadata": {
  "kernelspec": {
   "display_name": "Python 3",
   "language": "python",
   "name": "python3"
  },
  "language_info": {
   "codemirror_mode": {
    "name": "ipython",
    "version": 3
   },
   "file_extension": ".py",
   "mimetype": "text/x-python",
   "name": "python",
   "nbconvert_exporter": "python",
   "pygments_lexer": "ipython3",
   "version": "3.7.10"
  }
 },
 "nbformat": 4,
 "nbformat_minor": 5
}
